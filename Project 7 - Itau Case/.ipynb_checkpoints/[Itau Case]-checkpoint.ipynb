{
 "cells": [
  {
   "cell_type": "markdown",
   "metadata": {
    "heading_collapsed": true
   },
   "source": [
    "# Bibliotecas & DataFrame"
   ]
  },
  {
   "cell_type": "code",
   "execution_count": 88,
   "metadata": {
    "hidden": true
   },
   "outputs": [],
   "source": [
    "import pandas as pd\n",
    "import seaborn as sns\n",
    "from sklearn.linear_model import LogisticRegression\n",
    "from sklearn.metrics import r2_score\n",
    "from sklearn.metrics import mean_squared_error\n",
    "from math import sqrt\n",
    "from sklearn.model_selection import train_test_split\n",
    "from sklearn.metrics import confusion_matrix\n",
    "from sklearn.metrics import plot_confusion_matrix\n",
    "from sklearn.metrics import precision_score, recall_score\n",
    "from sklearn.metrics import plot_precision_recall_curve\n",
    "import matplotlib.pyplot as plt\n",
    "from sklearn.metrics import plot_roc_curve, roc_auc_score, roc_curve\n",
    "from sklearn.linear_model import LogisticRegression\n",
    "from yellowbrick.classifier import ROCAUC\n",
    "from sklearn.cluster import KMeans\n",
    "from yellowbrick.cluster import KElbowVisualizer\n",
    "from imblearn.under_sampling import RandomUnderSampler\n",
    "from sklearn.neighbors import KNeighborsClassifier\n",
    "from sklearn.impute import KNNImputer\n",
    "from geopy.geocoders import Nominatim\n",
    "from tqdm import tqdm\n",
    "from sklearn.preprocessing import StandardScaler\n",
    "import time \n",
    "import datetime\n",
    "from datetime import datetime\n",
    "from sklearn.model_selection import cross_val_score, KFold\n",
    "from sklearn.ensemble import BaggingClassifier\n",
    "from sklearn.tree import DecisionTreeClassifier, plot_tree\n",
    "import numpy as np\n",
    "from sklearn.ensemble import RandomForestClassifier\n",
    "from sklearn.model_selection import learning_curve\n",
    "from lightgbm import LGBMClassifier\n",
    "from lightgbm import plot_importance\n",
    "from sklearn.decomposition  import PCA\n",
    "import seaborn as sns"
   ]
  },
  {
   "cell_type": "markdown",
   "metadata": {
    "hidden": true
   },
   "source": [
    "## DataFrame"
   ]
  },
  {
   "cell_type": "code",
   "execution_count": 2,
   "metadata": {
    "hidden": true
   },
   "outputs": [],
   "source": [
    "rain = pd.read_csv('data/rain_data_aus.csv')"
   ]
  },
  {
   "cell_type": "code",
   "execution_count": 3,
   "metadata": {
    "hidden": true
   },
   "outputs": [],
   "source": [
    "wind_1 = pd.read_csv('data/wind_table_01.csv')\n",
    "wind_2 = pd.read_csv('data/wind_table_02.csv')\n",
    "wind_3 = pd.read_csv('data/wind_table_03.csv')\n",
    "wind_4 = pd.read_csv('data/wind_table_04.csv')\n",
    "wind_5 = pd.read_csv('data/wind_table_05.csv')\n",
    "wind_6 = pd.read_csv('data/wind_table_06.csv')\n",
    "wind_7 = pd.read_csv('data/wind_table_07.csv')\n",
    "wind_8 = pd.read_csv('data/wind_table_08.csv')\n",
    "wind_1.columns = wind_3.columns\n",
    "wind_2.columns = wind_3.columns\n",
    "wind = wind_1.append(wind_2, ignore_index=True).append(wind_3, ignore_index=True).append(wind_3, ignore_index=True).append(wind_4, ignore_index=True).append(wind_5, ignore_index=True).append(wind_6, ignore_index=True).append(wind_7, ignore_index=True).append(wind_8, ignore_index=True)"
   ]
  },
  {
   "cell_type": "markdown",
   "metadata": {
    "heading_collapsed": true
   },
   "source": [
    "# O Baseline\n",
    "Baseline calculado a partir da regressão linear do dataframe 'Rain'."
   ]
  },
  {
   "cell_type": "markdown",
   "metadata": {
    "hidden": true
   },
   "source": [
    "## Tratamento"
   ]
  },
  {
   "cell_type": "code",
   "execution_count": 4,
   "metadata": {
    "hidden": true
   },
   "outputs": [],
   "source": [
    "rain = rain.dropna()\n",
    "rain['raintoday'] = rain['raintoday'].replace('No', 0).replace('Yes', 1)\n",
    "rain['raintomorrow'] = rain['raintomorrow'].replace('No', 0).replace('Yes', 1)"
   ]
  },
  {
   "cell_type": "code",
   "execution_count": 5,
   "metadata": {
    "hidden": true
   },
   "outputs": [
    {
     "data": {
      "text/plain": [
       "LogisticRegression(C=1.0, class_weight=None, dual=False, fit_intercept=True,\n",
       "                   intercept_scaling=1, l1_ratio=None, max_iter=10000,\n",
       "                   multi_class='auto', n_jobs=None, penalty='l2',\n",
       "                   random_state=None, solver='lbfgs', tol=0.0001, verbose=0,\n",
       "                   warm_start=False)"
      ]
     },
     "execution_count": 5,
     "metadata": {},
     "output_type": "execute_result"
    }
   ],
   "source": [
    "X = rain[[ 'mintemp', 'maxtemp', 'rainfall', 'evaporation',\n",
    "       'sunshine', 'humidity9am', 'humidity3pm', 'pressure9am', 'pressure3pm',\n",
    "       'cloud9am', 'cloud3pm', 'temp9am', 'temp3pm', 'raintoday',\n",
    "       'temp', 'humidity', 'precipitation3pm','modelo_vigente', 'amountOfRain',\n",
    "       'precipitation9am']]\n",
    "y = rain['raintomorrow']\n",
    "model = LogisticRegression(max_iter=10000)\n",
    "model.fit(X,y)"
   ]
  },
  {
   "cell_type": "code",
   "execution_count": 6,
   "metadata": {
    "hidden": true
   },
   "outputs": [
    {
     "data": {
      "text/plain": [
       "0.9997092929358183"
      ]
     },
     "execution_count": 6,
     "metadata": {},
     "output_type": "execute_result"
    }
   ],
   "source": [
    "model.score(X, y)"
   ]
  },
  {
   "cell_type": "code",
   "execution_count": 7,
   "metadata": {
    "hidden": true
   },
   "outputs": [],
   "source": [
    "X_train, X_test, y_train, y_test = train_test_split(X, y, test_size=0.75, random_state=7)"
   ]
  },
  {
   "cell_type": "code",
   "execution_count": 8,
   "metadata": {
    "hidden": true
   },
   "outputs": [
    {
     "data": {
      "text/plain": [
       "LogisticRegression(C=1.0, class_weight=None, dual=False, fit_intercept=True,\n",
       "                   intercept_scaling=1, l1_ratio=None, max_iter=10000,\n",
       "                   multi_class='auto', n_jobs=None, penalty='l2',\n",
       "                   random_state=None, solver='lbfgs', tol=0.0001, verbose=0,\n",
       "                   warm_start=False)"
      ]
     },
     "execution_count": 8,
     "metadata": {},
     "output_type": "execute_result"
    }
   ],
   "source": [
    "model.fit(X_train, y_train)"
   ]
  },
  {
   "cell_type": "code",
   "execution_count": 9,
   "metadata": {
    "hidden": true
   },
   "outputs": [
    {
     "data": {
      "text/plain": [
       "0.9993539912573484"
      ]
     },
     "execution_count": 9,
     "metadata": {},
     "output_type": "execute_result"
    }
   ],
   "source": [
    "model.score(X_test, y_test)"
   ]
  },
  {
   "cell_type": "code",
   "execution_count": 10,
   "metadata": {
    "hidden": true
   },
   "outputs": [
    {
     "data": {
      "text/plain": [
       "0.9992893597777635"
      ]
     },
     "execution_count": 10,
     "metadata": {},
     "output_type": "execute_result"
    }
   ],
   "source": [
    "model.score(X_train, y_train)"
   ]
  },
  {
   "cell_type": "markdown",
   "metadata": {},
   "source": [
    "# Overfitting\n",
    "Tratar o dataframe pois deu overfitting no modelo anterior."
   ]
  },
  {
   "cell_type": "code",
   "execution_count": 11,
   "metadata": {
    "collapsed": true
   },
   "outputs": [
    {
     "data": {
      "text/html": [
       "<style  type=\"text/css\" >\n",
       "    #T_de771e62_8caf_11ea_acf6_d63a88ba66afrow0_col0 {\n",
       "            background-color:  #b40426;\n",
       "            color:  #f1f1f1;\n",
       "        }    #T_de771e62_8caf_11ea_acf6_d63a88ba66afrow0_col1 {\n",
       "            background-color:  #e8765c;\n",
       "            color:  #000000;\n",
       "        }    #T_de771e62_8caf_11ea_acf6_d63a88ba66afrow0_col2 {\n",
       "            background-color:  #98b9ff;\n",
       "            color:  #000000;\n",
       "        }    #T_de771e62_8caf_11ea_acf6_d63a88ba66afrow0_col3 {\n",
       "            background-color:  #f7b194;\n",
       "            color:  #000000;\n",
       "        }    #T_de771e62_8caf_11ea_acf6_d63a88ba66afrow0_col4 {\n",
       "            background-color:  #d1dae9;\n",
       "            color:  #000000;\n",
       "        }    #T_de771e62_8caf_11ea_acf6_d63a88ba66afrow0_col5 {\n",
       "            background-color:  #89acfd;\n",
       "            color:  #000000;\n",
       "        }    #T_de771e62_8caf_11ea_acf6_d63a88ba66afrow0_col6 {\n",
       "            background-color:  #cad8ef;\n",
       "            color:  #000000;\n",
       "        }    #T_de771e62_8caf_11ea_acf6_d63a88ba66afrow0_col7 {\n",
       "            background-color:  #3b4cc0;\n",
       "            color:  #f1f1f1;\n",
       "        }    #T_de771e62_8caf_11ea_acf6_d63a88ba66afrow0_col8 {\n",
       "            background-color:  #3c4ec2;\n",
       "            color:  #f1f1f1;\n",
       "        }    #T_de771e62_8caf_11ea_acf6_d63a88ba66afrow0_col9 {\n",
       "            background-color:  #d6dce4;\n",
       "            color:  #000000;\n",
       "        }    #T_de771e62_8caf_11ea_acf6_d63a88ba66afrow0_col10 {\n",
       "            background-color:  #cdd9ec;\n",
       "            color:  #000000;\n",
       "        }    #T_de771e62_8caf_11ea_acf6_d63a88ba66afrow0_col11 {\n",
       "            background-color:  #cb3e38;\n",
       "            color:  #f1f1f1;\n",
       "        }    #T_de771e62_8caf_11ea_acf6_d63a88ba66afrow0_col12 {\n",
       "            background-color:  #eb7d62;\n",
       "            color:  #000000;\n",
       "        }    #T_de771e62_8caf_11ea_acf6_d63a88ba66afrow0_col13 {\n",
       "            background-color:  #9abbff;\n",
       "            color:  #000000;\n",
       "        }    #T_de771e62_8caf_11ea_acf6_d63a88ba66afrow0_col14 {\n",
       "            background-color:  #abc8fd;\n",
       "            color:  #000000;\n",
       "        }    #T_de771e62_8caf_11ea_acf6_d63a88ba66afrow0_col15 {\n",
       "            background-color:  #b7cff9;\n",
       "            color:  #000000;\n",
       "        }    #T_de771e62_8caf_11ea_acf6_d63a88ba66afrow0_col16 {\n",
       "            background-color:  #f7ad90;\n",
       "            color:  #000000;\n",
       "        }    #T_de771e62_8caf_11ea_acf6_d63a88ba66afrow0_col17 {\n",
       "            background-color:  #c1d4f4;\n",
       "            color:  #000000;\n",
       "        }    #T_de771e62_8caf_11ea_acf6_d63a88ba66afrow0_col18 {\n",
       "            background-color:  #3d50c3;\n",
       "            color:  #f1f1f1;\n",
       "        }    #T_de771e62_8caf_11ea_acf6_d63a88ba66afrow0_col19 {\n",
       "            background-color:  #3e51c5;\n",
       "            color:  #f1f1f1;\n",
       "        }    #T_de771e62_8caf_11ea_acf6_d63a88ba66afrow0_col20 {\n",
       "            background-color:  #d6dce4;\n",
       "            color:  #000000;\n",
       "        }    #T_de771e62_8caf_11ea_acf6_d63a88ba66afrow1_col0 {\n",
       "            background-color:  #e8765c;\n",
       "            color:  #000000;\n",
       "        }    #T_de771e62_8caf_11ea_acf6_d63a88ba66afrow1_col1 {\n",
       "            background-color:  #b40426;\n",
       "            color:  #f1f1f1;\n",
       "        }    #T_de771e62_8caf_11ea_acf6_d63a88ba66afrow1_col2 {\n",
       "            background-color:  #6687ed;\n",
       "            color:  #000000;\n",
       "        }    #T_de771e62_8caf_11ea_acf6_d63a88ba66afrow1_col3 {\n",
       "            background-color:  #f18f71;\n",
       "            color:  #000000;\n",
       "        }    #T_de771e62_8caf_11ea_acf6_d63a88ba66afrow1_col4 {\n",
       "            background-color:  #f7b194;\n",
       "            color:  #000000;\n",
       "        }    #T_de771e62_8caf_11ea_acf6_d63a88ba66afrow1_col5 {\n",
       "            background-color:  #455cce;\n",
       "            color:  #f1f1f1;\n",
       "        }    #T_de771e62_8caf_11ea_acf6_d63a88ba66afrow1_col6 {\n",
       "            background-color:  #5b7ae5;\n",
       "            color:  #000000;\n",
       "        }    #T_de771e62_8caf_11ea_acf6_d63a88ba66afrow1_col7 {\n",
       "            background-color:  #536edd;\n",
       "            color:  #000000;\n",
       "        }    #T_de771e62_8caf_11ea_acf6_d63a88ba66afrow1_col8 {\n",
       "            background-color:  #4358cb;\n",
       "            color:  #f1f1f1;\n",
       "        }    #T_de771e62_8caf_11ea_acf6_d63a88ba66afrow1_col9 {\n",
       "            background-color:  #8caffe;\n",
       "            color:  #000000;\n",
       "        }    #T_de771e62_8caf_11ea_acf6_d63a88ba66afrow1_col10 {\n",
       "            background-color:  #92b4fe;\n",
       "            color:  #000000;\n",
       "        }    #T_de771e62_8caf_11ea_acf6_d63a88ba66afrow1_col11 {\n",
       "            background-color:  #cd423b;\n",
       "            color:  #f1f1f1;\n",
       "        }    #T_de771e62_8caf_11ea_acf6_d63a88ba66afrow1_col12 {\n",
       "            background-color:  #b70d28;\n",
       "            color:  #f1f1f1;\n",
       "        }    #T_de771e62_8caf_11ea_acf6_d63a88ba66afrow1_col13 {\n",
       "            background-color:  #536edd;\n",
       "            color:  #000000;\n",
       "        }    #T_de771e62_8caf_11ea_acf6_d63a88ba66afrow1_col14 {\n",
       "            background-color:  #81a4fb;\n",
       "            color:  #000000;\n",
       "        }    #T_de771e62_8caf_11ea_acf6_d63a88ba66afrow1_col15 {\n",
       "            background-color:  #7ea1fa;\n",
       "            color:  #000000;\n",
       "        }    #T_de771e62_8caf_11ea_acf6_d63a88ba66afrow1_col16 {\n",
       "            background-color:  #e57058;\n",
       "            color:  #000000;\n",
       "        }    #T_de771e62_8caf_11ea_acf6_d63a88ba66afrow1_col17 {\n",
       "            background-color:  #5977e3;\n",
       "            color:  #000000;\n",
       "        }    #T_de771e62_8caf_11ea_acf6_d63a88ba66afrow1_col18 {\n",
       "            background-color:  #3d50c3;\n",
       "            color:  #f1f1f1;\n",
       "        }    #T_de771e62_8caf_11ea_acf6_d63a88ba66afrow1_col19 {\n",
       "            background-color:  #3e51c5;\n",
       "            color:  #f1f1f1;\n",
       "        }    #T_de771e62_8caf_11ea_acf6_d63a88ba66afrow1_col20 {\n",
       "            background-color:  #92b4fe;\n",
       "            color:  #000000;\n",
       "        }    #T_de771e62_8caf_11ea_acf6_d63a88ba66afrow2_col0 {\n",
       "            background-color:  #c1d4f4;\n",
       "            color:  #000000;\n",
       "        }    #T_de771e62_8caf_11ea_acf6_d63a88ba66afrow2_col1 {\n",
       "            background-color:  #9abbff;\n",
       "            color:  #000000;\n",
       "        }    #T_de771e62_8caf_11ea_acf6_d63a88ba66afrow2_col2 {\n",
       "            background-color:  #b40426;\n",
       "            color:  #f1f1f1;\n",
       "        }    #T_de771e62_8caf_11ea_acf6_d63a88ba66afrow2_col3 {\n",
       "            background-color:  #a2c1ff;\n",
       "            color:  #000000;\n",
       "        }    #T_de771e62_8caf_11ea_acf6_d63a88ba66afrow2_col4 {\n",
       "            background-color:  #94b6ff;\n",
       "            color:  #000000;\n",
       "        }    #T_de771e62_8caf_11ea_acf6_d63a88ba66afrow2_col5 {\n",
       "            background-color:  #e2dad5;\n",
       "            color:  #000000;\n",
       "        }    #T_de771e62_8caf_11ea_acf6_d63a88ba66afrow2_col6 {\n",
       "            background-color:  #e9d5cb;\n",
       "            color:  #000000;\n",
       "        }    #T_de771e62_8caf_11ea_acf6_d63a88ba66afrow2_col7 {\n",
       "            background-color:  #7b9ff9;\n",
       "            color:  #000000;\n",
       "        }    #T_de771e62_8caf_11ea_acf6_d63a88ba66afrow2_col8 {\n",
       "            background-color:  #8badfd;\n",
       "            color:  #000000;\n",
       "        }    #T_de771e62_8caf_11ea_acf6_d63a88ba66afrow2_col9 {\n",
       "            background-color:  #e5d8d1;\n",
       "            color:  #000000;\n",
       "        }    #T_de771e62_8caf_11ea_acf6_d63a88ba66afrow2_col10 {\n",
       "            background-color:  #e3d9d3;\n",
       "            color:  #000000;\n",
       "        }    #T_de771e62_8caf_11ea_acf6_d63a88ba66afrow2_col11 {\n",
       "            background-color:  #adc9fd;\n",
       "            color:  #000000;\n",
       "        }    #T_de771e62_8caf_11ea_acf6_d63a88ba66afrow2_col12 {\n",
       "            background-color:  #98b9ff;\n",
       "            color:  #000000;\n",
       "        }    #T_de771e62_8caf_11ea_acf6_d63a88ba66afrow2_col13 {\n",
       "            background-color:  #f7b99e;\n",
       "            color:  #000000;\n",
       "        }    #T_de771e62_8caf_11ea_acf6_d63a88ba66afrow2_col14 {\n",
       "            background-color:  #d3dbe7;\n",
       "            color:  #000000;\n",
       "        }    #T_de771e62_8caf_11ea_acf6_d63a88ba66afrow2_col15 {\n",
       "            background-color:  #d9dce1;\n",
       "            color:  #000000;\n",
       "        }    #T_de771e62_8caf_11ea_acf6_d63a88ba66afrow2_col16 {\n",
       "            background-color:  #88abfd;\n",
       "            color:  #000000;\n",
       "        }    #T_de771e62_8caf_11ea_acf6_d63a88ba66afrow2_col17 {\n",
       "            background-color:  #e1dad6;\n",
       "            color:  #000000;\n",
       "        }    #T_de771e62_8caf_11ea_acf6_d63a88ba66afrow2_col18 {\n",
       "            background-color:  #3b4cc0;\n",
       "            color:  #f1f1f1;\n",
       "        }    #T_de771e62_8caf_11ea_acf6_d63a88ba66afrow2_col19 {\n",
       "            background-color:  #3d50c3;\n",
       "            color:  #f1f1f1;\n",
       "        }    #T_de771e62_8caf_11ea_acf6_d63a88ba66afrow2_col20 {\n",
       "            background-color:  #f4c6af;\n",
       "            color:  #000000;\n",
       "        }    #T_de771e62_8caf_11ea_acf6_d63a88ba66afrow3_col0 {\n",
       "            background-color:  #f7b79b;\n",
       "            color:  #000000;\n",
       "        }    #T_de771e62_8caf_11ea_acf6_d63a88ba66afrow3_col1 {\n",
       "            background-color:  #f29274;\n",
       "            color:  #000000;\n",
       "        }    #T_de771e62_8caf_11ea_acf6_d63a88ba66afrow3_col2 {\n",
       "            background-color:  #6485ec;\n",
       "            color:  #000000;\n",
       "        }    #T_de771e62_8caf_11ea_acf6_d63a88ba66afrow3_col3 {\n",
       "            background-color:  #b40426;\n",
       "            color:  #f1f1f1;\n",
       "        }    #T_de771e62_8caf_11ea_acf6_d63a88ba66afrow3_col4 {\n",
       "            background-color:  #f5c4ac;\n",
       "            color:  #000000;\n",
       "        }    #T_de771e62_8caf_11ea_acf6_d63a88ba66afrow3_col5 {\n",
       "            background-color:  #3b4cc0;\n",
       "            color:  #f1f1f1;\n",
       "        }    #T_de771e62_8caf_11ea_acf6_d63a88ba66afrow3_col6 {\n",
       "            background-color:  #6282ea;\n",
       "            color:  #000000;\n",
       "        }    #T_de771e62_8caf_11ea_acf6_d63a88ba66afrow3_col7 {\n",
       "            background-color:  #5e7de7;\n",
       "            color:  #000000;\n",
       "        }    #T_de771e62_8caf_11ea_acf6_d63a88ba66afrow3_col8 {\n",
       "            background-color:  #5d7ce6;\n",
       "            color:  #000000;\n",
       "        }    #T_de771e62_8caf_11ea_acf6_d63a88ba66afrow3_col9 {\n",
       "            background-color:  #9bbcff;\n",
       "            color:  #000000;\n",
       "        }    #T_de771e62_8caf_11ea_acf6_d63a88ba66afrow3_col10 {\n",
       "            background-color:  #9ebeff;\n",
       "            color:  #000000;\n",
       "        }    #T_de771e62_8caf_11ea_acf6_d63a88ba66afrow3_col11 {\n",
       "            background-color:  #f5a081;\n",
       "            color:  #000000;\n",
       "        }    #T_de771e62_8caf_11ea_acf6_d63a88ba66afrow3_col12 {\n",
       "            background-color:  #f39778;\n",
       "            color:  #000000;\n",
       "        }    #T_de771e62_8caf_11ea_acf6_d63a88ba66afrow3_col13 {\n",
       "            background-color:  #5572df;\n",
       "            color:  #000000;\n",
       "        }    #T_de771e62_8caf_11ea_acf6_d63a88ba66afrow3_col14 {\n",
       "            background-color:  #7a9df8;\n",
       "            color:  #000000;\n",
       "        }    #T_de771e62_8caf_11ea_acf6_d63a88ba66afrow3_col15 {\n",
       "            background-color:  #82a6fb;\n",
       "            color:  #000000;\n",
       "        }    #T_de771e62_8caf_11ea_acf6_d63a88ba66afrow3_col16 {\n",
       "            background-color:  #f6bea4;\n",
       "            color:  #000000;\n",
       "        }    #T_de771e62_8caf_11ea_acf6_d63a88ba66afrow3_col17 {\n",
       "            background-color:  #6180e9;\n",
       "            color:  #000000;\n",
       "        }    #T_de771e62_8caf_11ea_acf6_d63a88ba66afrow3_col18 {\n",
       "            background-color:  #3e51c5;\n",
       "            color:  #f1f1f1;\n",
       "        }    #T_de771e62_8caf_11ea_acf6_d63a88ba66afrow3_col19 {\n",
       "            background-color:  #3e51c5;\n",
       "            color:  #f1f1f1;\n",
       "        }    #T_de771e62_8caf_11ea_acf6_d63a88ba66afrow3_col20 {\n",
       "            background-color:  #97b8ff;\n",
       "            color:  #000000;\n",
       "        }    #T_de771e62_8caf_11ea_acf6_d63a88ba66afrow4_col0 {\n",
       "            background-color:  #b9d0f9;\n",
       "            color:  #000000;\n",
       "        }    #T_de771e62_8caf_11ea_acf6_d63a88ba66afrow4_col1 {\n",
       "            background-color:  #f5c0a7;\n",
       "            color:  #000000;\n",
       "        }    #T_de771e62_8caf_11ea_acf6_d63a88ba66afrow4_col2 {\n",
       "            background-color:  #3b4cc0;\n",
       "            color:  #f1f1f1;\n",
       "        }    #T_de771e62_8caf_11ea_acf6_d63a88ba66afrow4_col3 {\n",
       "            background-color:  #f1cdba;\n",
       "            color:  #000000;\n",
       "        }    #T_de771e62_8caf_11ea_acf6_d63a88ba66afrow4_col4 {\n",
       "            background-color:  #b40426;\n",
       "            color:  #f1f1f1;\n",
       "        }    #T_de771e62_8caf_11ea_acf6_d63a88ba66afrow4_col5 {\n",
       "            background-color:  #455cce;\n",
       "            color:  #f1f1f1;\n",
       "        }    #T_de771e62_8caf_11ea_acf6_d63a88ba66afrow4_col6 {\n",
       "            background-color:  #3b4cc0;\n",
       "            color:  #f1f1f1;\n",
       "        }    #T_de771e62_8caf_11ea_acf6_d63a88ba66afrow4_col7 {\n",
       "            background-color:  #aec9fc;\n",
       "            color:  #000000;\n",
       "        }    #T_de771e62_8caf_11ea_acf6_d63a88ba66afrow4_col8 {\n",
       "            background-color:  #a3c2fe;\n",
       "            color:  #000000;\n",
       "        }    #T_de771e62_8caf_11ea_acf6_d63a88ba66afrow4_col9 {\n",
       "            background-color:  #3b4cc0;\n",
       "            color:  #f1f1f1;\n",
       "        }    #T_de771e62_8caf_11ea_acf6_d63a88ba66afrow4_col10 {\n",
       "            background-color:  #3b4cc0;\n",
       "            color:  #f1f1f1;\n",
       "        }    #T_de771e62_8caf_11ea_acf6_d63a88ba66afrow4_col11 {\n",
       "            background-color:  #e3d9d3;\n",
       "            color:  #000000;\n",
       "        }    #T_de771e62_8caf_11ea_acf6_d63a88ba66afrow4_col12 {\n",
       "            background-color:  #f7bca1;\n",
       "            color:  #000000;\n",
       "        }    #T_de771e62_8caf_11ea_acf6_d63a88ba66afrow4_col13 {\n",
       "            background-color:  #3b4cc0;\n",
       "            color:  #f1f1f1;\n",
       "        }    #T_de771e62_8caf_11ea_acf6_d63a88ba66afrow4_col14 {\n",
       "            background-color:  #3b4cc0;\n",
       "            color:  #f1f1f1;\n",
       "        }    #T_de771e62_8caf_11ea_acf6_d63a88ba66afrow4_col15 {\n",
       "            background-color:  #3b4cc0;\n",
       "            color:  #f1f1f1;\n",
       "        }    #T_de771e62_8caf_11ea_acf6_d63a88ba66afrow4_col16 {\n",
       "            background-color:  #e6d7cf;\n",
       "            color:  #000000;\n",
       "        }    #T_de771e62_8caf_11ea_acf6_d63a88ba66afrow4_col17 {\n",
       "            background-color:  #3b4cc0;\n",
       "            color:  #f1f1f1;\n",
       "        }    #T_de771e62_8caf_11ea_acf6_d63a88ba66afrow4_col18 {\n",
       "            background-color:  #3c4ec2;\n",
       "            color:  #f1f1f1;\n",
       "        }    #T_de771e62_8caf_11ea_acf6_d63a88ba66afrow4_col19 {\n",
       "            background-color:  #3f53c6;\n",
       "            color:  #f1f1f1;\n",
       "        }    #T_de771e62_8caf_11ea_acf6_d63a88ba66afrow4_col20 {\n",
       "            background-color:  #3b4cc0;\n",
       "            color:  #f1f1f1;\n",
       "        }    #T_de771e62_8caf_11ea_acf6_d63a88ba66afrow5_col0 {\n",
       "            background-color:  #7ea1fa;\n",
       "            color:  #000000;\n",
       "        }    #T_de771e62_8caf_11ea_acf6_d63a88ba66afrow5_col1 {\n",
       "            background-color:  #3b4cc0;\n",
       "            color:  #f1f1f1;\n",
       "        }    #T_de771e62_8caf_11ea_acf6_d63a88ba66afrow5_col2 {\n",
       "            background-color:  #c1d4f4;\n",
       "            color:  #000000;\n",
       "        }    #T_de771e62_8caf_11ea_acf6_d63a88ba66afrow5_col3 {\n",
       "            background-color:  #3b4cc0;\n",
       "            color:  #f1f1f1;\n",
       "        }    #T_de771e62_8caf_11ea_acf6_d63a88ba66afrow5_col4 {\n",
       "            background-color:  #5f7fe8;\n",
       "            color:  #000000;\n",
       "        }    #T_de771e62_8caf_11ea_acf6_d63a88ba66afrow5_col5 {\n",
       "            background-color:  #b40426;\n",
       "            color:  #f1f1f1;\n",
       "        }    #T_de771e62_8caf_11ea_acf6_d63a88ba66afrow5_col6 {\n",
       "            background-color:  #ed8366;\n",
       "            color:  #000000;\n",
       "        }    #T_de771e62_8caf_11ea_acf6_d63a88ba66afrow5_col7 {\n",
       "            background-color:  #c1d4f4;\n",
       "            color:  #000000;\n",
       "        }    #T_de771e62_8caf_11ea_acf6_d63a88ba66afrow5_col8 {\n",
       "            background-color:  #cfdaea;\n",
       "            color:  #000000;\n",
       "        }    #T_de771e62_8caf_11ea_acf6_d63a88ba66afrow5_col9 {\n",
       "            background-color:  #f7b99e;\n",
       "            color:  #000000;\n",
       "        }    #T_de771e62_8caf_11ea_acf6_d63a88ba66afrow5_col10 {\n",
       "            background-color:  #f3c7b1;\n",
       "            color:  #000000;\n",
       "        }    #T_de771e62_8caf_11ea_acf6_d63a88ba66afrow5_col11 {\n",
       "            background-color:  #4961d2;\n",
       "            color:  #f1f1f1;\n",
       "        }    #T_de771e62_8caf_11ea_acf6_d63a88ba66afrow5_col12 {\n",
       "            background-color:  #3c4ec2;\n",
       "            color:  #f1f1f1;\n",
       "        }    #T_de771e62_8caf_11ea_acf6_d63a88ba66afrow5_col13 {\n",
       "            background-color:  #e3d9d3;\n",
       "            color:  #000000;\n",
       "        }    #T_de771e62_8caf_11ea_acf6_d63a88ba66afrow5_col14 {\n",
       "            background-color:  #b5cdfa;\n",
       "            color:  #000000;\n",
       "        }    #T_de771e62_8caf_11ea_acf6_d63a88ba66afrow5_col15 {\n",
       "            background-color:  #dbdcde;\n",
       "            color:  #000000;\n",
       "        }    #T_de771e62_8caf_11ea_acf6_d63a88ba66afrow5_col16 {\n",
       "            background-color:  #3b4cc0;\n",
       "            color:  #f1f1f1;\n",
       "        }    #T_de771e62_8caf_11ea_acf6_d63a88ba66afrow5_col17 {\n",
       "            background-color:  #f39778;\n",
       "            color:  #000000;\n",
       "        }    #T_de771e62_8caf_11ea_acf6_d63a88ba66afrow5_col18 {\n",
       "            background-color:  #3b4cc0;\n",
       "            color:  #f1f1f1;\n",
       "        }    #T_de771e62_8caf_11ea_acf6_d63a88ba66afrow5_col19 {\n",
       "            background-color:  #3d50c3;\n",
       "            color:  #f1f1f1;\n",
       "        }    #T_de771e62_8caf_11ea_acf6_d63a88ba66afrow5_col20 {\n",
       "            background-color:  #f5c2aa;\n",
       "            color:  #000000;\n",
       "        }    #T_de771e62_8caf_11ea_acf6_d63a88ba66afrow6_col0 {\n",
       "            background-color:  #bad0f8;\n",
       "            color:  #000000;\n",
       "        }    #T_de771e62_8caf_11ea_acf6_d63a88ba66afrow6_col1 {\n",
       "            background-color:  #445acc;\n",
       "            color:  #f1f1f1;\n",
       "        }    #T_de771e62_8caf_11ea_acf6_d63a88ba66afrow6_col2 {\n",
       "            background-color:  #c4d5f3;\n",
       "            color:  #000000;\n",
       "        }    #T_de771e62_8caf_11ea_acf6_d63a88ba66afrow6_col3 {\n",
       "            background-color:  #5572df;\n",
       "            color:  #000000;\n",
       "        }    #T_de771e62_8caf_11ea_acf6_d63a88ba66afrow6_col4 {\n",
       "            background-color:  #4961d2;\n",
       "            color:  #f1f1f1;\n",
       "        }    #T_de771e62_8caf_11ea_acf6_d63a88ba66afrow6_col5 {\n",
       "            background-color:  #ee8669;\n",
       "            color:  #000000;\n",
       "        }    #T_de771e62_8caf_11ea_acf6_d63a88ba66afrow6_col6 {\n",
       "            background-color:  #b40426;\n",
       "            color:  #f1f1f1;\n",
       "        }    #T_de771e62_8caf_11ea_acf6_d63a88ba66afrow6_col7 {\n",
       "            background-color:  #98b9ff;\n",
       "            color:  #000000;\n",
       "        }    #T_de771e62_8caf_11ea_acf6_d63a88ba66afrow6_col8 {\n",
       "            background-color:  #b1cbfc;\n",
       "            color:  #000000;\n",
       "        }    #T_de771e62_8caf_11ea_acf6_d63a88ba66afrow6_col9 {\n",
       "            background-color:  #f7aa8c;\n",
       "            color:  #000000;\n",
       "        }    #T_de771e62_8caf_11ea_acf6_d63a88ba66afrow6_col10 {\n",
       "            background-color:  #f7a889;\n",
       "            color:  #000000;\n",
       "        }    #T_de771e62_8caf_11ea_acf6_d63a88ba66afrow6_col11 {\n",
       "            background-color:  #88abfd;\n",
       "            color:  #000000;\n",
       "        }    #T_de771e62_8caf_11ea_acf6_d63a88ba66afrow6_col12 {\n",
       "            background-color:  #3b4cc0;\n",
       "            color:  #f1f1f1;\n",
       "        }    #T_de771e62_8caf_11ea_acf6_d63a88ba66afrow6_col13 {\n",
       "            background-color:  #e4d9d2;\n",
       "            color:  #000000;\n",
       "        }    #T_de771e62_8caf_11ea_acf6_d63a88ba66afrow6_col14 {\n",
       "            background-color:  #d4dbe6;\n",
       "            color:  #000000;\n",
       "        }    #T_de771e62_8caf_11ea_acf6_d63a88ba66afrow6_col15 {\n",
       "            background-color:  #f4c6af;\n",
       "            color:  #000000;\n",
       "        }    #T_de771e62_8caf_11ea_acf6_d63a88ba66afrow6_col16 {\n",
       "            background-color:  #4257c9;\n",
       "            color:  #f1f1f1;\n",
       "        }    #T_de771e62_8caf_11ea_acf6_d63a88ba66afrow6_col17 {\n",
       "            background-color:  #ca3b37;\n",
       "            color:  #f1f1f1;\n",
       "        }    #T_de771e62_8caf_11ea_acf6_d63a88ba66afrow6_col18 {\n",
       "            background-color:  #3c4ec2;\n",
       "            color:  #f1f1f1;\n",
       "        }    #T_de771e62_8caf_11ea_acf6_d63a88ba66afrow6_col19 {\n",
       "            background-color:  #3d50c3;\n",
       "            color:  #f1f1f1;\n",
       "        }    #T_de771e62_8caf_11ea_acf6_d63a88ba66afrow6_col20 {\n",
       "            background-color:  #f08b6e;\n",
       "            color:  #000000;\n",
       "        }    #T_de771e62_8caf_11ea_acf6_d63a88ba66afrow7_col0 {\n",
       "            background-color:  #3d50c3;\n",
       "            color:  #f1f1f1;\n",
       "        }    #T_de771e62_8caf_11ea_acf6_d63a88ba66afrow7_col1 {\n",
       "            background-color:  #5875e1;\n",
       "            color:  #000000;\n",
       "        }    #T_de771e62_8caf_11ea_acf6_d63a88ba66afrow7_col2 {\n",
       "            background-color:  #4a63d3;\n",
       "            color:  #f1f1f1;\n",
       "        }    #T_de771e62_8caf_11ea_acf6_d63a88ba66afrow7_col3 {\n",
       "            background-color:  #6e90f2;\n",
       "            color:  #000000;\n",
       "        }    #T_de771e62_8caf_11ea_acf6_d63a88ba66afrow7_col4 {\n",
       "            background-color:  #cbd8ee;\n",
       "            color:  #000000;\n",
       "        }    #T_de771e62_8caf_11ea_acf6_d63a88ba66afrow7_col5 {\n",
       "            background-color:  #cbd8ee;\n",
       "            color:  #000000;\n",
       "        }    #T_de771e62_8caf_11ea_acf6_d63a88ba66afrow7_col6 {\n",
       "            background-color:  #afcafc;\n",
       "            color:  #000000;\n",
       "        }    #T_de771e62_8caf_11ea_acf6_d63a88ba66afrow7_col7 {\n",
       "            background-color:  #b40426;\n",
       "            color:  #f1f1f1;\n",
       "        }    #T_de771e62_8caf_11ea_acf6_d63a88ba66afrow7_col8 {\n",
       "            background-color:  #bd1f2d;\n",
       "            color:  #f1f1f1;\n",
       "        }    #T_de771e62_8caf_11ea_acf6_d63a88ba66afrow7_col9 {\n",
       "            background-color:  #a5c3fe;\n",
       "            color:  #000000;\n",
       "        }    #T_de771e62_8caf_11ea_acf6_d63a88ba66afrow7_col10 {\n",
       "            background-color:  #a5c3fe;\n",
       "            color:  #000000;\n",
       "        }    #T_de771e62_8caf_11ea_acf6_d63a88ba66afrow7_col11 {\n",
       "            background-color:  #455cce;\n",
       "            color:  #f1f1f1;\n",
       "        }    #T_de771e62_8caf_11ea_acf6_d63a88ba66afrow7_col12 {\n",
       "            background-color:  #6180e9;\n",
       "            color:  #000000;\n",
       "        }    #T_de771e62_8caf_11ea_acf6_d63a88ba66afrow7_col13 {\n",
       "            background-color:  #5b7ae5;\n",
       "            color:  #000000;\n",
       "        }    #T_de771e62_8caf_11ea_acf6_d63a88ba66afrow7_col14 {\n",
       "            background-color:  #5875e1;\n",
       "            color:  #000000;\n",
       "        }    #T_de771e62_8caf_11ea_acf6_d63a88ba66afrow7_col15 {\n",
       "            background-color:  #6485ec;\n",
       "            color:  #000000;\n",
       "        }    #T_de771e62_8caf_11ea_acf6_d63a88ba66afrow7_col16 {\n",
       "            background-color:  #536edd;\n",
       "            color:  #000000;\n",
       "        }    #T_de771e62_8caf_11ea_acf6_d63a88ba66afrow7_col17 {\n",
       "            background-color:  #a7c5fe;\n",
       "            color:  #000000;\n",
       "        }    #T_de771e62_8caf_11ea_acf6_d63a88ba66afrow7_col18 {\n",
       "            background-color:  #3c4ec2;\n",
       "            color:  #f1f1f1;\n",
       "        }    #T_de771e62_8caf_11ea_acf6_d63a88ba66afrow7_col19 {\n",
       "            background-color:  #3f53c6;\n",
       "            color:  #f1f1f1;\n",
       "        }    #T_de771e62_8caf_11ea_acf6_d63a88ba66afrow7_col20 {\n",
       "            background-color:  #6f92f3;\n",
       "            color:  #000000;\n",
       "        }    #T_de771e62_8caf_11ea_acf6_d63a88ba66afrow8_col0 {\n",
       "            background-color:  #3b4cc0;\n",
       "            color:  #f1f1f1;\n",
       "        }    #T_de771e62_8caf_11ea_acf6_d63a88ba66afrow8_col1 {\n",
       "            background-color:  #4358cb;\n",
       "            color:  #f1f1f1;\n",
       "        }    #T_de771e62_8caf_11ea_acf6_d63a88ba66afrow8_col2 {\n",
       "            background-color:  #5572df;\n",
       "            color:  #000000;\n",
       "        }    #T_de771e62_8caf_11ea_acf6_d63a88ba66afrow8_col3 {\n",
       "            background-color:  #6788ee;\n",
       "            color:  #000000;\n",
       "        }    #T_de771e62_8caf_11ea_acf6_d63a88ba66afrow8_col4 {\n",
       "            background-color:  #bfd3f6;\n",
       "            color:  #000000;\n",
       "        }    #T_de771e62_8caf_11ea_acf6_d63a88ba66afrow8_col5 {\n",
       "            background-color:  #d5dbe5;\n",
       "            color:  #000000;\n",
       "        }    #T_de771e62_8caf_11ea_acf6_d63a88ba66afrow8_col6 {\n",
       "            background-color:  #c0d4f5;\n",
       "            color:  #000000;\n",
       "        }    #T_de771e62_8caf_11ea_acf6_d63a88ba66afrow8_col7 {\n",
       "            background-color:  #bd1f2d;\n",
       "            color:  #f1f1f1;\n",
       "        }    #T_de771e62_8caf_11ea_acf6_d63a88ba66afrow8_col8 {\n",
       "            background-color:  #b40426;\n",
       "            color:  #f1f1f1;\n",
       "        }    #T_de771e62_8caf_11ea_acf6_d63a88ba66afrow8_col9 {\n",
       "            background-color:  #b3cdfb;\n",
       "            color:  #000000;\n",
       "        }    #T_de771e62_8caf_11ea_acf6_d63a88ba66afrow8_col10 {\n",
       "            background-color:  #b1cbfc;\n",
       "            color:  #000000;\n",
       "        }    #T_de771e62_8caf_11ea_acf6_d63a88ba66afrow8_col11 {\n",
       "            background-color:  #3b4cc0;\n",
       "            color:  #f1f1f1;\n",
       "        }    #T_de771e62_8caf_11ea_acf6_d63a88ba66afrow8_col12 {\n",
       "            background-color:  #4a63d3;\n",
       "            color:  #f1f1f1;\n",
       "        }    #T_de771e62_8caf_11ea_acf6_d63a88ba66afrow8_col13 {\n",
       "            background-color:  #7093f3;\n",
       "            color:  #000000;\n",
       "        }    #T_de771e62_8caf_11ea_acf6_d63a88ba66afrow8_col14 {\n",
       "            background-color:  #5875e1;\n",
       "            color:  #000000;\n",
       "        }    #T_de771e62_8caf_11ea_acf6_d63a88ba66afrow8_col15 {\n",
       "            background-color:  #6a8bef;\n",
       "            color:  #000000;\n",
       "        }    #T_de771e62_8caf_11ea_acf6_d63a88ba66afrow8_col16 {\n",
       "            background-color:  #4257c9;\n",
       "            color:  #f1f1f1;\n",
       "        }    #T_de771e62_8caf_11ea_acf6_d63a88ba66afrow8_col17 {\n",
       "            background-color:  #b9d0f9;\n",
       "            color:  #000000;\n",
       "        }    #T_de771e62_8caf_11ea_acf6_d63a88ba66afrow8_col18 {\n",
       "            background-color:  #3c4ec2;\n",
       "            color:  #f1f1f1;\n",
       "        }    #T_de771e62_8caf_11ea_acf6_d63a88ba66afrow8_col19 {\n",
       "            background-color:  #3f53c6;\n",
       "            color:  #f1f1f1;\n",
       "        }    #T_de771e62_8caf_11ea_acf6_d63a88ba66afrow8_col20 {\n",
       "            background-color:  #799cf8;\n",
       "            color:  #000000;\n",
       "        }    #T_de771e62_8caf_11ea_acf6_d63a88ba66afrow9_col0 {\n",
       "            background-color:  #c3d5f4;\n",
       "            color:  #000000;\n",
       "        }    #T_de771e62_8caf_11ea_acf6_d63a88ba66afrow9_col1 {\n",
       "            background-color:  #6c8ff1;\n",
       "            color:  #000000;\n",
       "        }    #T_de771e62_8caf_11ea_acf6_d63a88ba66afrow9_col2 {\n",
       "            background-color:  #b6cefa;\n",
       "            color:  #000000;\n",
       "        }    #T_de771e62_8caf_11ea_acf6_d63a88ba66afrow9_col3 {\n",
       "            background-color:  #86a9fc;\n",
       "            color:  #000000;\n",
       "        }    #T_de771e62_8caf_11ea_acf6_d63a88ba66afrow9_col4 {\n",
       "            background-color:  #3e51c5;\n",
       "            color:  #f1f1f1;\n",
       "        }    #T_de771e62_8caf_11ea_acf6_d63a88ba66afrow9_col5 {\n",
       "            background-color:  #f5c1a9;\n",
       "            color:  #000000;\n",
       "        }    #T_de771e62_8caf_11ea_acf6_d63a88ba66afrow9_col6 {\n",
       "            background-color:  #f7ad90;\n",
       "            color:  #000000;\n",
       "        }    #T_de771e62_8caf_11ea_acf6_d63a88ba66afrow9_col7 {\n",
       "            background-color:  #84a7fc;\n",
       "            color:  #000000;\n",
       "        }    #T_de771e62_8caf_11ea_acf6_d63a88ba66afrow9_col8 {\n",
       "            background-color:  #98b9ff;\n",
       "            color:  #000000;\n",
       "        }    #T_de771e62_8caf_11ea_acf6_d63a88ba66afrow9_col9 {\n",
       "            background-color:  #b40426;\n",
       "            color:  #f1f1f1;\n",
       "        }    #T_de771e62_8caf_11ea_acf6_d63a88ba66afrow9_col10 {\n",
       "            background-color:  #f29072;\n",
       "            color:  #000000;\n",
       "        }    #T_de771e62_8caf_11ea_acf6_d63a88ba66afrow9_col11 {\n",
       "            background-color:  #93b5fe;\n",
       "            color:  #000000;\n",
       "        }    #T_de771e62_8caf_11ea_acf6_d63a88ba66afrow9_col12 {\n",
       "            background-color:  #688aef;\n",
       "            color:  #000000;\n",
       "        }    #T_de771e62_8caf_11ea_acf6_d63a88ba66afrow9_col13 {\n",
       "            background-color:  #d5dbe5;\n",
       "            color:  #000000;\n",
       "        }    #T_de771e62_8caf_11ea_acf6_d63a88ba66afrow9_col14 {\n",
       "            background-color:  #bcd2f7;\n",
       "            color:  #000000;\n",
       "        }    #T_de771e62_8caf_11ea_acf6_d63a88ba66afrow9_col15 {\n",
       "            background-color:  #e4d9d2;\n",
       "            color:  #000000;\n",
       "        }    #T_de771e62_8caf_11ea_acf6_d63a88ba66afrow9_col16 {\n",
       "            background-color:  #6485ec;\n",
       "            color:  #000000;\n",
       "        }    #T_de771e62_8caf_11ea_acf6_d63a88ba66afrow9_col17 {\n",
       "            background-color:  #f7bca1;\n",
       "            color:  #000000;\n",
       "        }    #T_de771e62_8caf_11ea_acf6_d63a88ba66afrow9_col18 {\n",
       "            background-color:  #3c4ec2;\n",
       "            color:  #f1f1f1;\n",
       "        }    #T_de771e62_8caf_11ea_acf6_d63a88ba66afrow9_col19 {\n",
       "            background-color:  #3e51c5;\n",
       "            color:  #f1f1f1;\n",
       "        }    #T_de771e62_8caf_11ea_acf6_d63a88ba66afrow9_col20 {\n",
       "            background-color:  #f7b396;\n",
       "            color:  #000000;\n",
       "        }    #T_de771e62_8caf_11ea_acf6_d63a88ba66afrow10_col0 {\n",
       "            background-color:  #b5cdfa;\n",
       "            color:  #000000;\n",
       "        }    #T_de771e62_8caf_11ea_acf6_d63a88ba66afrow10_col1 {\n",
       "            background-color:  #6e90f2;\n",
       "            color:  #000000;\n",
       "        }    #T_de771e62_8caf_11ea_acf6_d63a88ba66afrow10_col2 {\n",
       "            background-color:  #afcafc;\n",
       "            color:  #000000;\n",
       "        }    #T_de771e62_8caf_11ea_acf6_d63a88ba66afrow10_col3 {\n",
       "            background-color:  #85a8fc;\n",
       "            color:  #000000;\n",
       "        }    #T_de771e62_8caf_11ea_acf6_d63a88ba66afrow10_col4 {\n",
       "            background-color:  #3b4cc0;\n",
       "            color:  #f1f1f1;\n",
       "        }    #T_de771e62_8caf_11ea_acf6_d63a88ba66afrow10_col5 {\n",
       "            background-color:  #efcfbf;\n",
       "            color:  #000000;\n",
       "        }    #T_de771e62_8caf_11ea_acf6_d63a88ba66afrow10_col6 {\n",
       "            background-color:  #f7ad90;\n",
       "            color:  #000000;\n",
       "        }    #T_de771e62_8caf_11ea_acf6_d63a88ba66afrow10_col7 {\n",
       "            background-color:  #7ea1fa;\n",
       "            color:  #000000;\n",
       "        }    #T_de771e62_8caf_11ea_acf6_d63a88ba66afrow10_col8 {\n",
       "            background-color:  #93b5fe;\n",
       "            color:  #000000;\n",
       "        }    #T_de771e62_8caf_11ea_acf6_d63a88ba66afrow10_col9 {\n",
       "            background-color:  #f29274;\n",
       "            color:  #000000;\n",
       "        }    #T_de771e62_8caf_11ea_acf6_d63a88ba66afrow10_col10 {\n",
       "            background-color:  #b40426;\n",
       "            color:  #f1f1f1;\n",
       "        }    #T_de771e62_8caf_11ea_acf6_d63a88ba66afrow10_col11 {\n",
       "            background-color:  #93b5fe;\n",
       "            color:  #000000;\n",
       "        }    #T_de771e62_8caf_11ea_acf6_d63a88ba66afrow10_col12 {\n",
       "            background-color:  #6687ed;\n",
       "            color:  #000000;\n",
       "        }    #T_de771e62_8caf_11ea_acf6_d63a88ba66afrow10_col13 {\n",
       "            background-color:  #cfdaea;\n",
       "            color:  #000000;\n",
       "        }    #T_de771e62_8caf_11ea_acf6_d63a88ba66afrow10_col14 {\n",
       "            background-color:  #c5d6f2;\n",
       "            color:  #000000;\n",
       "        }    #T_de771e62_8caf_11ea_acf6_d63a88ba66afrow10_col15 {\n",
       "            background-color:  #efcfbf;\n",
       "            color:  #000000;\n",
       "        }    #T_de771e62_8caf_11ea_acf6_d63a88ba66afrow10_col16 {\n",
       "            background-color:  #6485ec;\n",
       "            color:  #000000;\n",
       "        }    #T_de771e62_8caf_11ea_acf6_d63a88ba66afrow10_col17 {\n",
       "            background-color:  #f7bca1;\n",
       "            color:  #000000;\n",
       "        }    #T_de771e62_8caf_11ea_acf6_d63a88ba66afrow10_col18 {\n",
       "            background-color:  #3c4ec2;\n",
       "            color:  #f1f1f1;\n",
       "        }    #T_de771e62_8caf_11ea_acf6_d63a88ba66afrow10_col19 {\n",
       "            background-color:  #3d50c3;\n",
       "            color:  #f1f1f1;\n",
       "        }    #T_de771e62_8caf_11ea_acf6_d63a88ba66afrow10_col20 {\n",
       "            background-color:  #f5a081;\n",
       "            color:  #000000;\n",
       "        }    #T_de771e62_8caf_11ea_acf6_d63a88ba66afrow11_col0 {\n",
       "            background-color:  #cb3e38;\n",
       "            color:  #f1f1f1;\n",
       "        }    #T_de771e62_8caf_11ea_acf6_d63a88ba66afrow11_col1 {\n",
       "            background-color:  #cd423b;\n",
       "            color:  #f1f1f1;\n",
       "        }    #T_de771e62_8caf_11ea_acf6_d63a88ba66afrow11_col2 {\n",
       "            background-color:  #7ea1fa;\n",
       "            color:  #000000;\n",
       "        }    #T_de771e62_8caf_11ea_acf6_d63a88ba66afrow11_col3 {\n",
       "            background-color:  #f59d7e;\n",
       "            color:  #000000;\n",
       "        }    #T_de771e62_8caf_11ea_acf6_d63a88ba66afrow11_col4 {\n",
       "            background-color:  #efcfbf;\n",
       "            color:  #000000;\n",
       "        }    #T_de771e62_8caf_11ea_acf6_d63a88ba66afrow11_col5 {\n",
       "            background-color:  #536edd;\n",
       "            color:  #000000;\n",
       "        }    #T_de771e62_8caf_11ea_acf6_d63a88ba66afrow11_col6 {\n",
       "            background-color:  #9bbcff;\n",
       "            color:  #000000;\n",
       "        }    #T_de771e62_8caf_11ea_acf6_d63a88ba66afrow11_col7 {\n",
       "            background-color:  #3f53c6;\n",
       "            color:  #f1f1f1;\n",
       "        }    #T_de771e62_8caf_11ea_acf6_d63a88ba66afrow11_col8 {\n",
       "            background-color:  #3b4cc0;\n",
       "            color:  #f1f1f1;\n",
       "        }    #T_de771e62_8caf_11ea_acf6_d63a88ba66afrow11_col9 {\n",
       "            background-color:  #adc9fd;\n",
       "            color:  #000000;\n",
       "        }    #T_de771e62_8caf_11ea_acf6_d63a88ba66afrow11_col10 {\n",
       "            background-color:  #b1cbfc;\n",
       "            color:  #000000;\n",
       "        }    #T_de771e62_8caf_11ea_acf6_d63a88ba66afrow11_col11 {\n",
       "            background-color:  #b40426;\n",
       "            color:  #f1f1f1;\n",
       "        }    #T_de771e62_8caf_11ea_acf6_d63a88ba66afrow11_col12 {\n",
       "            background-color:  #d24b40;\n",
       "            color:  #f1f1f1;\n",
       "        }    #T_de771e62_8caf_11ea_acf6_d63a88ba66afrow11_col13 {\n",
       "            background-color:  #7396f5;\n",
       "            color:  #000000;\n",
       "        }    #T_de771e62_8caf_11ea_acf6_d63a88ba66afrow11_col14 {\n",
       "            background-color:  #9abbff;\n",
       "            color:  #000000;\n",
       "        }    #T_de771e62_8caf_11ea_acf6_d63a88ba66afrow11_col15 {\n",
       "            background-color:  #9ebeff;\n",
       "            color:  #000000;\n",
       "        }    #T_de771e62_8caf_11ea_acf6_d63a88ba66afrow11_col16 {\n",
       "            background-color:  #f18d6f;\n",
       "            color:  #000000;\n",
       "        }    #T_de771e62_8caf_11ea_acf6_d63a88ba66afrow11_col17 {\n",
       "            background-color:  #96b7ff;\n",
       "            color:  #000000;\n",
       "        }    #T_de771e62_8caf_11ea_acf6_d63a88ba66afrow11_col18 {\n",
       "            background-color:  #3d50c3;\n",
       "            color:  #f1f1f1;\n",
       "        }    #T_de771e62_8caf_11ea_acf6_d63a88ba66afrow11_col19 {\n",
       "            background-color:  #3e51c5;\n",
       "            color:  #f1f1f1;\n",
       "        }    #T_de771e62_8caf_11ea_acf6_d63a88ba66afrow11_col20 {\n",
       "            background-color:  #b9d0f9;\n",
       "            color:  #000000;\n",
       "        }    #T_de771e62_8caf_11ea_acf6_d63a88ba66afrow12_col0 {\n",
       "            background-color:  #eb7d62;\n",
       "            color:  #000000;\n",
       "        }    #T_de771e62_8caf_11ea_acf6_d63a88ba66afrow12_col1 {\n",
       "            background-color:  #b70d28;\n",
       "            color:  #f1f1f1;\n",
       "        }    #T_de771e62_8caf_11ea_acf6_d63a88ba66afrow12_col2 {\n",
       "            background-color:  #6687ed;\n",
       "            color:  #000000;\n",
       "        }    #T_de771e62_8caf_11ea_acf6_d63a88ba66afrow12_col3 {\n",
       "            background-color:  #f39475;\n",
       "            color:  #000000;\n",
       "        }    #T_de771e62_8caf_11ea_acf6_d63a88ba66afrow12_col4 {\n",
       "            background-color:  #f7ad90;\n",
       "            color:  #000000;\n",
       "        }    #T_de771e62_8caf_11ea_acf6_d63a88ba66afrow12_col5 {\n",
       "            background-color:  #465ecf;\n",
       "            color:  #f1f1f1;\n",
       "        }    #T_de771e62_8caf_11ea_acf6_d63a88ba66afrow12_col6 {\n",
       "            background-color:  #516ddb;\n",
       "            color:  #000000;\n",
       "        }    #T_de771e62_8caf_11ea_acf6_d63a88ba66afrow12_col7 {\n",
       "            background-color:  #5b7ae5;\n",
       "            color:  #000000;\n",
       "        }    #T_de771e62_8caf_11ea_acf6_d63a88ba66afrow12_col8 {\n",
       "            background-color:  #4a63d3;\n",
       "            color:  #f1f1f1;\n",
       "        }    #T_de771e62_8caf_11ea_acf6_d63a88ba66afrow12_col9 {\n",
       "            background-color:  #88abfd;\n",
       "            color:  #000000;\n",
       "        }    #T_de771e62_8caf_11ea_acf6_d63a88ba66afrow12_col10 {\n",
       "            background-color:  #89acfd;\n",
       "            color:  #000000;\n",
       "        }    #T_de771e62_8caf_11ea_acf6_d63a88ba66afrow12_col11 {\n",
       "            background-color:  #d24b40;\n",
       "            color:  #f1f1f1;\n",
       "        }    #T_de771e62_8caf_11ea_acf6_d63a88ba66afrow12_col12 {\n",
       "            background-color:  #b40426;\n",
       "            color:  #f1f1f1;\n",
       "        }    #T_de771e62_8caf_11ea_acf6_d63a88ba66afrow12_col13 {\n",
       "            background-color:  #516ddb;\n",
       "            color:  #000000;\n",
       "        }    #T_de771e62_8caf_11ea_acf6_d63a88ba66afrow12_col14 {\n",
       "            background-color:  #7b9ff9;\n",
       "            color:  #000000;\n",
       "        }    #T_de771e62_8caf_11ea_acf6_d63a88ba66afrow12_col15 {\n",
       "            background-color:  #7699f6;\n",
       "            color:  #000000;\n",
       "        }    #T_de771e62_8caf_11ea_acf6_d63a88ba66afrow12_col16 {\n",
       "            background-color:  #e7745b;\n",
       "            color:  #000000;\n",
       "        }    #T_de771e62_8caf_11ea_acf6_d63a88ba66afrow12_col17 {\n",
       "            background-color:  #506bda;\n",
       "            color:  #000000;\n",
       "        }    #T_de771e62_8caf_11ea_acf6_d63a88ba66afrow12_col18 {\n",
       "            background-color:  #3d50c3;\n",
       "            color:  #f1f1f1;\n",
       "        }    #T_de771e62_8caf_11ea_acf6_d63a88ba66afrow12_col19 {\n",
       "            background-color:  #3e51c5;\n",
       "            color:  #f1f1f1;\n",
       "        }    #T_de771e62_8caf_11ea_acf6_d63a88ba66afrow12_col20 {\n",
       "            background-color:  #86a9fc;\n",
       "            color:  #000000;\n",
       "        }    #T_de771e62_8caf_11ea_acf6_d63a88ba66afrow13_col0 {\n",
       "            background-color:  #b5cdfa;\n",
       "            color:  #000000;\n",
       "        }    #T_de771e62_8caf_11ea_acf6_d63a88ba66afrow13_col1 {\n",
       "            background-color:  #7699f6;\n",
       "            color:  #000000;\n",
       "        }    #T_de771e62_8caf_11ea_acf6_d63a88ba66afrow13_col2 {\n",
       "            background-color:  #f6bfa6;\n",
       "            color:  #000000;\n",
       "        }    #T_de771e62_8caf_11ea_acf6_d63a88ba66afrow13_col3 {\n",
       "            background-color:  #82a6fb;\n",
       "            color:  #000000;\n",
       "        }    #T_de771e62_8caf_11ea_acf6_d63a88ba66afrow13_col4 {\n",
       "            background-color:  #82a6fb;\n",
       "            color:  #000000;\n",
       "        }    #T_de771e62_8caf_11ea_acf6_d63a88ba66afrow13_col5 {\n",
       "            background-color:  #f1ccb8;\n",
       "            color:  #000000;\n",
       "        }    #T_de771e62_8caf_11ea_acf6_d63a88ba66afrow13_col6 {\n",
       "            background-color:  #f3c7b1;\n",
       "            color:  #000000;\n",
       "        }    #T_de771e62_8caf_11ea_acf6_d63a88ba66afrow13_col7 {\n",
       "            background-color:  #7a9df8;\n",
       "            color:  #000000;\n",
       "        }    #T_de771e62_8caf_11ea_acf6_d63a88ba66afrow13_col8 {\n",
       "            background-color:  #93b5fe;\n",
       "            color:  #000000;\n",
       "        }    #T_de771e62_8caf_11ea_acf6_d63a88ba66afrow13_col9 {\n",
       "            background-color:  #efcfbf;\n",
       "            color:  #000000;\n",
       "        }    #T_de771e62_8caf_11ea_acf6_d63a88ba66afrow13_col10 {\n",
       "            background-color:  #edd1c2;\n",
       "            color:  #000000;\n",
       "        }    #T_de771e62_8caf_11ea_acf6_d63a88ba66afrow13_col11 {\n",
       "            background-color:  #94b6ff;\n",
       "            color:  #000000;\n",
       "        }    #T_de771e62_8caf_11ea_acf6_d63a88ba66afrow13_col12 {\n",
       "            background-color:  #7597f6;\n",
       "            color:  #000000;\n",
       "        }    #T_de771e62_8caf_11ea_acf6_d63a88ba66afrow13_col13 {\n",
       "            background-color:  #b40426;\n",
       "            color:  #f1f1f1;\n",
       "        }    #T_de771e62_8caf_11ea_acf6_d63a88ba66afrow13_col14 {\n",
       "            background-color:  #bfd3f6;\n",
       "            color:  #000000;\n",
       "        }    #T_de771e62_8caf_11ea_acf6_d63a88ba66afrow13_col15 {\n",
       "            background-color:  #e2dad5;\n",
       "            color:  #000000;\n",
       "        }    #T_de771e62_8caf_11ea_acf6_d63a88ba66afrow13_col16 {\n",
       "            background-color:  #6b8df0;\n",
       "            color:  #000000;\n",
       "        }    #T_de771e62_8caf_11ea_acf6_d63a88ba66afrow13_col17 {\n",
       "            background-color:  #eed0c0;\n",
       "            color:  #000000;\n",
       "        }    #T_de771e62_8caf_11ea_acf6_d63a88ba66afrow13_col18 {\n",
       "            background-color:  #3c4ec2;\n",
       "            color:  #f1f1f1;\n",
       "        }    #T_de771e62_8caf_11ea_acf6_d63a88ba66afrow13_col19 {\n",
       "            background-color:  #3d50c3;\n",
       "            color:  #f1f1f1;\n",
       "        }    #T_de771e62_8caf_11ea_acf6_d63a88ba66afrow13_col20 {\n",
       "            background-color:  #f7b89c;\n",
       "            color:  #000000;\n",
       "        }    #T_de771e62_8caf_11ea_acf6_d63a88ba66afrow14_col0 {\n",
       "            background-color:  #c7d7f0;\n",
       "            color:  #000000;\n",
       "        }    #T_de771e62_8caf_11ea_acf6_d63a88ba66afrow14_col1 {\n",
       "            background-color:  #a6c4fe;\n",
       "            color:  #000000;\n",
       "        }    #T_de771e62_8caf_11ea_acf6_d63a88ba66afrow14_col2 {\n",
       "            background-color:  #ccd9ed;\n",
       "            color:  #000000;\n",
       "        }    #T_de771e62_8caf_11ea_acf6_d63a88ba66afrow14_col3 {\n",
       "            background-color:  #a9c6fd;\n",
       "            color:  #000000;\n",
       "        }    #T_de771e62_8caf_11ea_acf6_d63a88ba66afrow14_col4 {\n",
       "            background-color:  #89acfd;\n",
       "            color:  #000000;\n",
       "        }    #T_de771e62_8caf_11ea_acf6_d63a88ba66afrow14_col5 {\n",
       "            background-color:  #d5dbe5;\n",
       "            color:  #000000;\n",
       "        }    #T_de771e62_8caf_11ea_acf6_d63a88ba66afrow14_col6 {\n",
       "            background-color:  #eed0c0;\n",
       "            color:  #000000;\n",
       "        }    #T_de771e62_8caf_11ea_acf6_d63a88ba66afrow14_col7 {\n",
       "            background-color:  #7da0f9;\n",
       "            color:  #000000;\n",
       "        }    #T_de771e62_8caf_11ea_acf6_d63a88ba66afrow14_col8 {\n",
       "            background-color:  #81a4fb;\n",
       "            color:  #000000;\n",
       "        }    #T_de771e62_8caf_11ea_acf6_d63a88ba66afrow14_col9 {\n",
       "            background-color:  #e3d9d3;\n",
       "            color:  #000000;\n",
       "        }    #T_de771e62_8caf_11ea_acf6_d63a88ba66afrow14_col10 {\n",
       "            background-color:  #ead4c8;\n",
       "            color:  #000000;\n",
       "        }    #T_de771e62_8caf_11ea_acf6_d63a88ba66afrow14_col11 {\n",
       "            background-color:  #bad0f8;\n",
       "            color:  #000000;\n",
       "        }    #T_de771e62_8caf_11ea_acf6_d63a88ba66afrow14_col12 {\n",
       "            background-color:  #a1c0ff;\n",
       "            color:  #000000;\n",
       "        }    #T_de771e62_8caf_11ea_acf6_d63a88ba66afrow14_col13 {\n",
       "            background-color:  #c4d5f3;\n",
       "            color:  #000000;\n",
       "        }    #T_de771e62_8caf_11ea_acf6_d63a88ba66afrow14_col14 {\n",
       "            background-color:  #b40426;\n",
       "            color:  #f1f1f1;\n",
       "        }    #T_de771e62_8caf_11ea_acf6_d63a88ba66afrow14_col15 {\n",
       "            background-color:  #f6bda2;\n",
       "            color:  #000000;\n",
       "        }    #T_de771e62_8caf_11ea_acf6_d63a88ba66afrow14_col16 {\n",
       "            background-color:  #94b6ff;\n",
       "            color:  #000000;\n",
       "        }    #T_de771e62_8caf_11ea_acf6_d63a88ba66afrow14_col17 {\n",
       "            background-color:  #e7d7ce;\n",
       "            color:  #000000;\n",
       "        }    #T_de771e62_8caf_11ea_acf6_d63a88ba66afrow14_col18 {\n",
       "            background-color:  #3c4ec2;\n",
       "            color:  #f1f1f1;\n",
       "        }    #T_de771e62_8caf_11ea_acf6_d63a88ba66afrow14_col19 {\n",
       "            background-color:  #3c4ec2;\n",
       "            color:  #f1f1f1;\n",
       "        }    #T_de771e62_8caf_11ea_acf6_d63a88ba66afrow14_col20 {\n",
       "            background-color:  #f7ad90;\n",
       "            color:  #000000;\n",
       "        }    #T_de771e62_8caf_11ea_acf6_d63a88ba66afrow15_col0 {\n",
       "            background-color:  #bcd2f7;\n",
       "            color:  #000000;\n",
       "        }    #T_de771e62_8caf_11ea_acf6_d63a88ba66afrow15_col1 {\n",
       "            background-color:  #88abfd;\n",
       "            color:  #000000;\n",
       "        }    #T_de771e62_8caf_11ea_acf6_d63a88ba66afrow15_col2 {\n",
       "            background-color:  #c0d4f5;\n",
       "            color:  #000000;\n",
       "        }    #T_de771e62_8caf_11ea_acf6_d63a88ba66afrow15_col3 {\n",
       "            background-color:  #96b7ff;\n",
       "            color:  #000000;\n",
       "        }    #T_de771e62_8caf_11ea_acf6_d63a88ba66afrow15_col4 {\n",
       "            background-color:  #6a8bef;\n",
       "            color:  #000000;\n",
       "        }    #T_de771e62_8caf_11ea_acf6_d63a88ba66afrow15_col5 {\n",
       "            background-color:  #e3d9d3;\n",
       "            color:  #000000;\n",
       "        }    #T_de771e62_8caf_11ea_acf6_d63a88ba66afrow15_col6 {\n",
       "            background-color:  #f7ba9f;\n",
       "            color:  #000000;\n",
       "        }    #T_de771e62_8caf_11ea_acf6_d63a88ba66afrow15_col7 {\n",
       "            background-color:  #6a8bef;\n",
       "            color:  #000000;\n",
       "        }    #T_de771e62_8caf_11ea_acf6_d63a88ba66afrow15_col8 {\n",
       "            background-color:  #7396f5;\n",
       "            color:  #000000;\n",
       "        }    #T_de771e62_8caf_11ea_acf6_d63a88ba66afrow15_col9 {\n",
       "            background-color:  #f1ccb8;\n",
       "            color:  #000000;\n",
       "        }    #T_de771e62_8caf_11ea_acf6_d63a88ba66afrow15_col10 {\n",
       "            background-color:  #f6bfa6;\n",
       "            color:  #000000;\n",
       "        }    #T_de771e62_8caf_11ea_acf6_d63a88ba66afrow15_col11 {\n",
       "            background-color:  #a6c4fe;\n",
       "            color:  #000000;\n",
       "        }    #T_de771e62_8caf_11ea_acf6_d63a88ba66afrow15_col12 {\n",
       "            background-color:  #80a3fa;\n",
       "            color:  #000000;\n",
       "        }    #T_de771e62_8caf_11ea_acf6_d63a88ba66afrow15_col13 {\n",
       "            background-color:  #d7dce3;\n",
       "            color:  #000000;\n",
       "        }    #T_de771e62_8caf_11ea_acf6_d63a88ba66afrow15_col14 {\n",
       "            background-color:  #f2c9b4;\n",
       "            color:  #000000;\n",
       "        }    #T_de771e62_8caf_11ea_acf6_d63a88ba66afrow15_col15 {\n",
       "            background-color:  #b40426;\n",
       "            color:  #f1f1f1;\n",
       "        }    #T_de771e62_8caf_11ea_acf6_d63a88ba66afrow15_col16 {\n",
       "            background-color:  #7a9df8;\n",
       "            color:  #000000;\n",
       "        }    #T_de771e62_8caf_11ea_acf6_d63a88ba66afrow15_col17 {\n",
       "            background-color:  #f4c6af;\n",
       "            color:  #000000;\n",
       "        }    #T_de771e62_8caf_11ea_acf6_d63a88ba66afrow15_col18 {\n",
       "            background-color:  #3e51c5;\n",
       "            color:  #f1f1f1;\n",
       "        }    #T_de771e62_8caf_11ea_acf6_d63a88ba66afrow15_col19 {\n",
       "            background-color:  #3b4cc0;\n",
       "            color:  #f1f1f1;\n",
       "        }    #T_de771e62_8caf_11ea_acf6_d63a88ba66afrow15_col20 {\n",
       "            background-color:  #d1493f;\n",
       "            color:  #f1f1f1;\n",
       "        }    #T_de771e62_8caf_11ea_acf6_d63a88ba66afrow16_col0 {\n",
       "            background-color:  #f7a688;\n",
       "            color:  #000000;\n",
       "        }    #T_de771e62_8caf_11ea_acf6_d63a88ba66afrow16_col1 {\n",
       "            background-color:  #e36b54;\n",
       "            color:  #000000;\n",
       "        }    #T_de771e62_8caf_11ea_acf6_d63a88ba66afrow16_col2 {\n",
       "            background-color:  #688aef;\n",
       "            color:  #000000;\n",
       "        }    #T_de771e62_8caf_11ea_acf6_d63a88ba66afrow16_col3 {\n",
       "            background-color:  #f7b194;\n",
       "            color:  #000000;\n",
       "        }    #T_de771e62_8caf_11ea_acf6_d63a88ba66afrow16_col4 {\n",
       "            background-color:  #f4c5ad;\n",
       "            color:  #000000;\n",
       "        }    #T_de771e62_8caf_11ea_acf6_d63a88ba66afrow16_col5 {\n",
       "            background-color:  #5b7ae5;\n",
       "            color:  #000000;\n",
       "        }    #T_de771e62_8caf_11ea_acf6_d63a88ba66afrow16_col6 {\n",
       "            background-color:  #6f92f3;\n",
       "            color:  #000000;\n",
       "        }    #T_de771e62_8caf_11ea_acf6_d63a88ba66afrow16_col7 {\n",
       "            background-color:  #6485ec;\n",
       "            color:  #000000;\n",
       "        }    #T_de771e62_8caf_11ea_acf6_d63a88ba66afrow16_col8 {\n",
       "            background-color:  #5977e3;\n",
       "            color:  #000000;\n",
       "        }    #T_de771e62_8caf_11ea_acf6_d63a88ba66afrow16_col9 {\n",
       "            background-color:  #98b9ff;\n",
       "            color:  #000000;\n",
       "        }    #T_de771e62_8caf_11ea_acf6_d63a88ba66afrow16_col10 {\n",
       "            background-color:  #9dbdff;\n",
       "            color:  #000000;\n",
       "        }    #T_de771e62_8caf_11ea_acf6_d63a88ba66afrow16_col11 {\n",
       "            background-color:  #ee8669;\n",
       "            color:  #000000;\n",
       "        }    #T_de771e62_8caf_11ea_acf6_d63a88ba66afrow16_col12 {\n",
       "            background-color:  #e46e56;\n",
       "            color:  #000000;\n",
       "        }    #T_de771e62_8caf_11ea_acf6_d63a88ba66afrow16_col13 {\n",
       "            background-color:  #5e7de7;\n",
       "            color:  #000000;\n",
       "        }    #T_de771e62_8caf_11ea_acf6_d63a88ba66afrow16_col14 {\n",
       "            background-color:  #82a6fb;\n",
       "            color:  #000000;\n",
       "        }    #T_de771e62_8caf_11ea_acf6_d63a88ba66afrow16_col15 {\n",
       "            background-color:  #86a9fc;\n",
       "            color:  #000000;\n",
       "        }    #T_de771e62_8caf_11ea_acf6_d63a88ba66afrow16_col16 {\n",
       "            background-color:  #b40426;\n",
       "            color:  #f1f1f1;\n",
       "        }    #T_de771e62_8caf_11ea_acf6_d63a88ba66afrow16_col17 {\n",
       "            background-color:  #6c8ff1;\n",
       "            color:  #000000;\n",
       "        }    #T_de771e62_8caf_11ea_acf6_d63a88ba66afrow16_col18 {\n",
       "            background-color:  #3d50c3;\n",
       "            color:  #f1f1f1;\n",
       "        }    #T_de771e62_8caf_11ea_acf6_d63a88ba66afrow16_col19 {\n",
       "            background-color:  #3e51c5;\n",
       "            color:  #f1f1f1;\n",
       "        }    #T_de771e62_8caf_11ea_acf6_d63a88ba66afrow16_col20 {\n",
       "            background-color:  #9bbcff;\n",
       "            color:  #000000;\n",
       "        }    #T_de771e62_8caf_11ea_acf6_d63a88ba66afrow17_col0 {\n",
       "            background-color:  #b9d0f9;\n",
       "            color:  #000000;\n",
       "        }    #T_de771e62_8caf_11ea_acf6_d63a88ba66afrow17_col1 {\n",
       "            background-color:  #4c66d6;\n",
       "            color:  #000000;\n",
       "        }    #T_de771e62_8caf_11ea_acf6_d63a88ba66afrow17_col2 {\n",
       "            background-color:  #bfd3f6;\n",
       "            color:  #000000;\n",
       "        }    #T_de771e62_8caf_11ea_acf6_d63a88ba66afrow17_col3 {\n",
       "            background-color:  #5e7de7;\n",
       "            color:  #000000;\n",
       "        }    #T_de771e62_8caf_11ea_acf6_d63a88ba66afrow17_col4 {\n",
       "            background-color:  #536edd;\n",
       "            color:  #000000;\n",
       "        }    #T_de771e62_8caf_11ea_acf6_d63a88ba66afrow17_col5 {\n",
       "            background-color:  #f4987a;\n",
       "            color:  #000000;\n",
       "        }    #T_de771e62_8caf_11ea_acf6_d63a88ba66afrow17_col6 {\n",
       "            background-color:  #c83836;\n",
       "            color:  #f1f1f1;\n",
       "        }    #T_de771e62_8caf_11ea_acf6_d63a88ba66afrow17_col7 {\n",
       "            background-color:  #9abbff;\n",
       "            color:  #000000;\n",
       "        }    #T_de771e62_8caf_11ea_acf6_d63a88ba66afrow17_col8 {\n",
       "            background-color:  #afcafc;\n",
       "            color:  #000000;\n",
       "        }    #T_de771e62_8caf_11ea_acf6_d63a88ba66afrow17_col9 {\n",
       "            background-color:  #f7b497;\n",
       "            color:  #000000;\n",
       "        }    #T_de771e62_8caf_11ea_acf6_d63a88ba66afrow17_col10 {\n",
       "            background-color:  #f7b194;\n",
       "            color:  #000000;\n",
       "        }    #T_de771e62_8caf_11ea_acf6_d63a88ba66afrow17_col11 {\n",
       "            background-color:  #8badfd;\n",
       "            color:  #000000;\n",
       "        }    #T_de771e62_8caf_11ea_acf6_d63a88ba66afrow17_col12 {\n",
       "            background-color:  #4358cb;\n",
       "            color:  #f1f1f1;\n",
       "        }    #T_de771e62_8caf_11ea_acf6_d63a88ba66afrow17_col13 {\n",
       "            background-color:  #dddcdc;\n",
       "            color:  #000000;\n",
       "        }    #T_de771e62_8caf_11ea_acf6_d63a88ba66afrow17_col14 {\n",
       "            background-color:  #cedaeb;\n",
       "            color:  #000000;\n",
       "        }    #T_de771e62_8caf_11ea_acf6_d63a88ba66afrow17_col15 {\n",
       "            background-color:  #f1cdba;\n",
       "            color:  #000000;\n",
       "        }    #T_de771e62_8caf_11ea_acf6_d63a88ba66afrow17_col16 {\n",
       "            background-color:  #4961d2;\n",
       "            color:  #f1f1f1;\n",
       "        }    #T_de771e62_8caf_11ea_acf6_d63a88ba66afrow17_col17 {\n",
       "            background-color:  #b40426;\n",
       "            color:  #f1f1f1;\n",
       "        }    #T_de771e62_8caf_11ea_acf6_d63a88ba66afrow17_col18 {\n",
       "            background-color:  #3b4cc0;\n",
       "            color:  #f1f1f1;\n",
       "        }    #T_de771e62_8caf_11ea_acf6_d63a88ba66afrow17_col19 {\n",
       "            background-color:  #3d50c3;\n",
       "            color:  #f1f1f1;\n",
       "        }    #T_de771e62_8caf_11ea_acf6_d63a88ba66afrow17_col20 {\n",
       "            background-color:  #f49a7b;\n",
       "            color:  #000000;\n",
       "        }    #T_de771e62_8caf_11ea_acf6_d63a88ba66afrow18_col0 {\n",
       "            background-color:  #a9c6fd;\n",
       "            color:  #000000;\n",
       "        }    #T_de771e62_8caf_11ea_acf6_d63a88ba66afrow18_col1 {\n",
       "            background-color:  #aac7fd;\n",
       "            color:  #000000;\n",
       "        }    #T_de771e62_8caf_11ea_acf6_d63a88ba66afrow18_col2 {\n",
       "            background-color:  #779af7;\n",
       "            color:  #000000;\n",
       "        }    #T_de771e62_8caf_11ea_acf6_d63a88ba66afrow18_col3 {\n",
       "            background-color:  #b3cdfb;\n",
       "            color:  #000000;\n",
       "        }    #T_de771e62_8caf_11ea_acf6_d63a88ba66afrow18_col4 {\n",
       "            background-color:  #c4d5f3;\n",
       "            color:  #000000;\n",
       "        }    #T_de771e62_8caf_11ea_acf6_d63a88ba66afrow18_col5 {\n",
       "            background-color:  #b1cbfc;\n",
       "            color:  #000000;\n",
       "        }    #T_de771e62_8caf_11ea_acf6_d63a88ba66afrow18_col6 {\n",
       "            background-color:  #bad0f8;\n",
       "            color:  #000000;\n",
       "        }    #T_de771e62_8caf_11ea_acf6_d63a88ba66afrow18_col7 {\n",
       "            background-color:  #a6c4fe;\n",
       "            color:  #000000;\n",
       "        }    #T_de771e62_8caf_11ea_acf6_d63a88ba66afrow18_col8 {\n",
       "            background-color:  #a9c6fd;\n",
       "            color:  #000000;\n",
       "        }    #T_de771e62_8caf_11ea_acf6_d63a88ba66afrow18_col9 {\n",
       "            background-color:  #c1d4f4;\n",
       "            color:  #000000;\n",
       "        }    #T_de771e62_8caf_11ea_acf6_d63a88ba66afrow18_col10 {\n",
       "            background-color:  #c4d5f3;\n",
       "            color:  #000000;\n",
       "        }    #T_de771e62_8caf_11ea_acf6_d63a88ba66afrow18_col11 {\n",
       "            background-color:  #abc8fd;\n",
       "            color:  #000000;\n",
       "        }    #T_de771e62_8caf_11ea_acf6_d63a88ba66afrow18_col12 {\n",
       "            background-color:  #aac7fd;\n",
       "            color:  #000000;\n",
       "        }    #T_de771e62_8caf_11ea_acf6_d63a88ba66afrow18_col13 {\n",
       "            background-color:  #8badfd;\n",
       "            color:  #000000;\n",
       "        }    #T_de771e62_8caf_11ea_acf6_d63a88ba66afrow18_col14 {\n",
       "            background-color:  #85a8fc;\n",
       "            color:  #000000;\n",
       "        }    #T_de771e62_8caf_11ea_acf6_d63a88ba66afrow18_col15 {\n",
       "            background-color:  #a3c2fe;\n",
       "            color:  #000000;\n",
       "        }    #T_de771e62_8caf_11ea_acf6_d63a88ba66afrow18_col16 {\n",
       "            background-color:  #97b8ff;\n",
       "            color:  #000000;\n",
       "        }    #T_de771e62_8caf_11ea_acf6_d63a88ba66afrow18_col17 {\n",
       "            background-color:  #b2ccfb;\n",
       "            color:  #000000;\n",
       "        }    #T_de771e62_8caf_11ea_acf6_d63a88ba66afrow18_col18 {\n",
       "            background-color:  #b40426;\n",
       "            color:  #f1f1f1;\n",
       "        }    #T_de771e62_8caf_11ea_acf6_d63a88ba66afrow18_col19 {\n",
       "            background-color:  #3f53c6;\n",
       "            color:  #f1f1f1;\n",
       "        }    #T_de771e62_8caf_11ea_acf6_d63a88ba66afrow18_col20 {\n",
       "            background-color:  #bed2f6;\n",
       "            color:  #000000;\n",
       "        }    #T_de771e62_8caf_11ea_acf6_d63a88ba66afrow19_col0 {\n",
       "            background-color:  #a9c6fd;\n",
       "            color:  #000000;\n",
       "        }    #T_de771e62_8caf_11ea_acf6_d63a88ba66afrow19_col1 {\n",
       "            background-color:  #a9c6fd;\n",
       "            color:  #000000;\n",
       "        }    #T_de771e62_8caf_11ea_acf6_d63a88ba66afrow19_col2 {\n",
       "            background-color:  #799cf8;\n",
       "            color:  #000000;\n",
       "        }    #T_de771e62_8caf_11ea_acf6_d63a88ba66afrow19_col3 {\n",
       "            background-color:  #b2ccfb;\n",
       "            color:  #000000;\n",
       "        }    #T_de771e62_8caf_11ea_acf6_d63a88ba66afrow19_col4 {\n",
       "            background-color:  #c5d6f2;\n",
       "            color:  #000000;\n",
       "        }    #T_de771e62_8caf_11ea_acf6_d63a88ba66afrow19_col5 {\n",
       "            background-color:  #b1cbfc;\n",
       "            color:  #000000;\n",
       "        }    #T_de771e62_8caf_11ea_acf6_d63a88ba66afrow19_col6 {\n",
       "            background-color:  #bad0f8;\n",
       "            color:  #000000;\n",
       "        }    #T_de771e62_8caf_11ea_acf6_d63a88ba66afrow19_col7 {\n",
       "            background-color:  #a7c5fe;\n",
       "            color:  #000000;\n",
       "        }    #T_de771e62_8caf_11ea_acf6_d63a88ba66afrow19_col8 {\n",
       "            background-color:  #abc8fd;\n",
       "            color:  #000000;\n",
       "        }    #T_de771e62_8caf_11ea_acf6_d63a88ba66afrow19_col9 {\n",
       "            background-color:  #c1d4f4;\n",
       "            color:  #000000;\n",
       "        }    #T_de771e62_8caf_11ea_acf6_d63a88ba66afrow19_col10 {\n",
       "            background-color:  #c4d5f3;\n",
       "            color:  #000000;\n",
       "        }    #T_de771e62_8caf_11ea_acf6_d63a88ba66afrow19_col11 {\n",
       "            background-color:  #aac7fd;\n",
       "            color:  #000000;\n",
       "        }    #T_de771e62_8caf_11ea_acf6_d63a88ba66afrow19_col12 {\n",
       "            background-color:  #aac7fd;\n",
       "            color:  #000000;\n",
       "        }    #T_de771e62_8caf_11ea_acf6_d63a88ba66afrow19_col13 {\n",
       "            background-color:  #8badfd;\n",
       "            color:  #000000;\n",
       "        }    #T_de771e62_8caf_11ea_acf6_d63a88ba66afrow19_col14 {\n",
       "            background-color:  #84a7fc;\n",
       "            color:  #000000;\n",
       "        }    #T_de771e62_8caf_11ea_acf6_d63a88ba66afrow19_col15 {\n",
       "            background-color:  #9ebeff;\n",
       "            color:  #000000;\n",
       "        }    #T_de771e62_8caf_11ea_acf6_d63a88ba66afrow19_col16 {\n",
       "            background-color:  #97b8ff;\n",
       "            color:  #000000;\n",
       "        }    #T_de771e62_8caf_11ea_acf6_d63a88ba66afrow19_col17 {\n",
       "            background-color:  #b2ccfb;\n",
       "            color:  #000000;\n",
       "        }    #T_de771e62_8caf_11ea_acf6_d63a88ba66afrow19_col18 {\n",
       "            background-color:  #3d50c3;\n",
       "            color:  #f1f1f1;\n",
       "        }    #T_de771e62_8caf_11ea_acf6_d63a88ba66afrow19_col19 {\n",
       "            background-color:  #b40426;\n",
       "            color:  #f1f1f1;\n",
       "        }    #T_de771e62_8caf_11ea_acf6_d63a88ba66afrow19_col20 {\n",
       "            background-color:  #bbd1f8;\n",
       "            color:  #000000;\n",
       "        }    #T_de771e62_8caf_11ea_acf6_d63a88ba66afrow20_col0 {\n",
       "            background-color:  #c6d6f1;\n",
       "            color:  #000000;\n",
       "        }    #T_de771e62_8caf_11ea_acf6_d63a88ba66afrow20_col1 {\n",
       "            background-color:  #779af7;\n",
       "            color:  #000000;\n",
       "        }    #T_de771e62_8caf_11ea_acf6_d63a88ba66afrow20_col2 {\n",
       "            background-color:  #dbdcde;\n",
       "            color:  #000000;\n",
       "        }    #T_de771e62_8caf_11ea_acf6_d63a88ba66afrow20_col3 {\n",
       "            background-color:  #89acfd;\n",
       "            color:  #000000;\n",
       "        }    #T_de771e62_8caf_11ea_acf6_d63a88ba66afrow20_col4 {\n",
       "            background-color:  #455cce;\n",
       "            color:  #f1f1f1;\n",
       "        }    #T_de771e62_8caf_11ea_acf6_d63a88ba66afrow20_col5 {\n",
       "            background-color:  #f2c9b4;\n",
       "            color:  #000000;\n",
       "        }    #T_de771e62_8caf_11ea_acf6_d63a88ba66afrow20_col6 {\n",
       "            background-color:  #f18d6f;\n",
       "            color:  #000000;\n",
       "        }    #T_de771e62_8caf_11ea_acf6_d63a88ba66afrow20_col7 {\n",
       "            background-color:  #506bda;\n",
       "            color:  #000000;\n",
       "        }    #T_de771e62_8caf_11ea_acf6_d63a88ba66afrow20_col8 {\n",
       "            background-color:  #5f7fe8;\n",
       "            color:  #000000;\n",
       "        }    #T_de771e62_8caf_11ea_acf6_d63a88ba66afrow20_col9 {\n",
       "            background-color:  #f7b194;\n",
       "            color:  #000000;\n",
       "        }    #T_de771e62_8caf_11ea_acf6_d63a88ba66afrow20_col10 {\n",
       "            background-color:  #f59d7e;\n",
       "            color:  #000000;\n",
       "        }    #T_de771e62_8caf_11ea_acf6_d63a88ba66afrow20_col11 {\n",
       "            background-color:  #a5c3fe;\n",
       "            color:  #000000;\n",
       "        }    #T_de771e62_8caf_11ea_acf6_d63a88ba66afrow20_col12 {\n",
       "            background-color:  #6c8ff1;\n",
       "            color:  #000000;\n",
       "        }    #T_de771e62_8caf_11ea_acf6_d63a88ba66afrow20_col13 {\n",
       "            background-color:  #f0cdbb;\n",
       "            color:  #000000;\n",
       "        }    #T_de771e62_8caf_11ea_acf6_d63a88ba66afrow20_col14 {\n",
       "            background-color:  #f4c6af;\n",
       "            color:  #000000;\n",
       "        }    #T_de771e62_8caf_11ea_acf6_d63a88ba66afrow20_col15 {\n",
       "            background-color:  #d55042;\n",
       "            color:  #000000;\n",
       "        }    #T_de771e62_8caf_11ea_acf6_d63a88ba66afrow20_col16 {\n",
       "            background-color:  #6e90f2;\n",
       "            color:  #000000;\n",
       "        }    #T_de771e62_8caf_11ea_acf6_d63a88ba66afrow20_col17 {\n",
       "            background-color:  #f59f80;\n",
       "            color:  #000000;\n",
       "        }    #T_de771e62_8caf_11ea_acf6_d63a88ba66afrow20_col18 {\n",
       "            background-color:  #3d50c3;\n",
       "            color:  #f1f1f1;\n",
       "        }    #T_de771e62_8caf_11ea_acf6_d63a88ba66afrow20_col19 {\n",
       "            background-color:  #3b4cc0;\n",
       "            color:  #f1f1f1;\n",
       "        }    #T_de771e62_8caf_11ea_acf6_d63a88ba66afrow20_col20 {\n",
       "            background-color:  #b40426;\n",
       "            color:  #f1f1f1;\n",
       "        }</style><table id=\"T_de771e62_8caf_11ea_acf6_d63a88ba66af\" ><thead>    <tr>        <th class=\"blank level0\" ></th>        <th class=\"col_heading level0 col0\" >mintemp</th>        <th class=\"col_heading level0 col1\" >maxtemp</th>        <th class=\"col_heading level0 col2\" >rainfall</th>        <th class=\"col_heading level0 col3\" >evaporation</th>        <th class=\"col_heading level0 col4\" >sunshine</th>        <th class=\"col_heading level0 col5\" >humidity9am</th>        <th class=\"col_heading level0 col6\" >humidity3pm</th>        <th class=\"col_heading level0 col7\" >pressure9am</th>        <th class=\"col_heading level0 col8\" >pressure3pm</th>        <th class=\"col_heading level0 col9\" >cloud9am</th>        <th class=\"col_heading level0 col10\" >cloud3pm</th>        <th class=\"col_heading level0 col11\" >temp9am</th>        <th class=\"col_heading level0 col12\" >temp3pm</th>        <th class=\"col_heading level0 col13\" >raintoday</th>        <th class=\"col_heading level0 col14\" >amountOfRain</th>        <th class=\"col_heading level0 col15\" >raintomorrow</th>        <th class=\"col_heading level0 col16\" >temp</th>        <th class=\"col_heading level0 col17\" >humidity</th>        <th class=\"col_heading level0 col18\" >precipitation3pm</th>        <th class=\"col_heading level0 col19\" >precipitation9am</th>        <th class=\"col_heading level0 col20\" >modelo_vigente</th>    </tr></thead><tbody>\n",
       "                <tr>\n",
       "                        <th id=\"T_de771e62_8caf_11ea_acf6_d63a88ba66aflevel0_row0\" class=\"row_heading level0 row0\" >mintemp</th>\n",
       "                        <td id=\"T_de771e62_8caf_11ea_acf6_d63a88ba66afrow0_col0\" class=\"data row0 col0\" >1.000000</td>\n",
       "                        <td id=\"T_de771e62_8caf_11ea_acf6_d63a88ba66afrow0_col1\" class=\"data row0 col1\" >0.743674</td>\n",
       "                        <td id=\"T_de771e62_8caf_11ea_acf6_d63a88ba66afrow0_col2\" class=\"data row0 col2\" >0.110846</td>\n",
       "                        <td id=\"T_de771e62_8caf_11ea_acf6_d63a88ba66afrow0_col3\" class=\"data row0 col3\" >0.510004</td>\n",
       "                        <td id=\"T_de771e62_8caf_11ea_acf6_d63a88ba66afrow0_col4\" class=\"data row0 col4\" >0.070680</td>\n",
       "                        <td id=\"T_de771e62_8caf_11ea_acf6_d63a88ba66afrow0_col5\" class=\"data row0 col5\" >-0.177758</td>\n",
       "                        <td id=\"T_de771e62_8caf_11ea_acf6_d63a88ba66afrow0_col6\" class=\"data row0 col6\" >0.076333</td>\n",
       "                        <td id=\"T_de771e62_8caf_11ea_acf6_d63a88ba66afrow0_col7\" class=\"data row0 col7\" >-0.475451</td>\n",
       "                        <td id=\"T_de771e62_8caf_11ea_acf6_d63a88ba66afrow0_col8\" class=\"data row0 col8\" >-0.491435</td>\n",
       "                        <td id=\"T_de771e62_8caf_11ea_acf6_d63a88ba66afrow0_col9\" class=\"data row0 col9\" >0.115204</td>\n",
       "                        <td id=\"T_de771e62_8caf_11ea_acf6_d63a88ba66afrow0_col10\" class=\"data row0 col10\" >0.050917</td>\n",
       "                        <td id=\"T_de771e62_8caf_11ea_acf6_d63a88ba66afrow0_col11\" class=\"data row0 col11\" >0.905552</td>\n",
       "                        <td id=\"T_de771e62_8caf_11ea_acf6_d63a88ba66afrow0_col12\" class=\"data row0 col12\" >0.720796</td>\n",
       "                        <td id=\"T_de771e62_8caf_11ea_acf6_d63a88ba66afrow0_col13\" class=\"data row0 col13\" >0.051478</td>\n",
       "                        <td id=\"T_de771e62_8caf_11ea_acf6_d63a88ba66afrow0_col14\" class=\"data row0 col14\" >0.142911</td>\n",
       "                        <td id=\"T_de771e62_8caf_11ea_acf6_d63a88ba66afrow0_col15\" class=\"data row0 col15\" >0.088964</td>\n",
       "                        <td id=\"T_de771e62_8caf_11ea_acf6_d63a88ba66afrow0_col16\" class=\"data row0 col16\" >0.578773</td>\n",
       "                        <td id=\"T_de771e62_8caf_11ea_acf6_d63a88ba66afrow0_col17\" class=\"data row0 col17\" >0.068579</td>\n",
       "                        <td id=\"T_de771e62_8caf_11ea_acf6_d63a88ba66afrow0_col18\" class=\"data row0 col18\" >0.003508</td>\n",
       "                        <td id=\"T_de771e62_8caf_11ea_acf6_d63a88ba66afrow0_col19\" class=\"data row0 col19\" >-0.001382</td>\n",
       "                        <td id=\"T_de771e62_8caf_11ea_acf6_d63a88ba66afrow0_col20\" class=\"data row0 col20\" >0.135744</td>\n",
       "            </tr>\n",
       "            <tr>\n",
       "                        <th id=\"T_de771e62_8caf_11ea_acf6_d63a88ba66aflevel0_row1\" class=\"row_heading level0 row1\" >maxtemp</th>\n",
       "                        <td id=\"T_de771e62_8caf_11ea_acf6_d63a88ba66afrow1_col0\" class=\"data row1 col0\" >0.743674</td>\n",
       "                        <td id=\"T_de771e62_8caf_11ea_acf6_d63a88ba66afrow1_col1\" class=\"data row1 col1\" >1.000000</td>\n",
       "                        <td id=\"T_de771e62_8caf_11ea_acf6_d63a88ba66afrow1_col2\" class=\"data row1 col2\" >-0.069482</td>\n",
       "                        <td id=\"T_de771e62_8caf_11ea_acf6_d63a88ba66afrow1_col3\" class=\"data row1 col3\" >0.652247</td>\n",
       "                        <td id=\"T_de771e62_8caf_11ea_acf6_d63a88ba66afrow1_col4\" class=\"data row1 col4\" >0.461698</td>\n",
       "                        <td id=\"T_de771e62_8caf_11ea_acf6_d63a88ba66afrow1_col5\" class=\"data row1 col5\" >-0.496329</td>\n",
       "                        <td id=\"T_de771e62_8caf_11ea_acf6_d63a88ba66afrow1_col6\" class=\"data row1 col6\" >-0.448043</td>\n",
       "                        <td id=\"T_de771e62_8caf_11ea_acf6_d63a88ba66afrow1_col7\" class=\"data row1 col7\" >-0.355855</td>\n",
       "                        <td id=\"T_de771e62_8caf_11ea_acf6_d63a88ba66afrow1_col8\" class=\"data row1 col8\" >-0.454047</td>\n",
       "                        <td id=\"T_de771e62_8caf_11ea_acf6_d63a88ba66afrow1_col9\" class=\"data row1 col9\" >-0.262003</td>\n",
       "                        <td id=\"T_de771e62_8caf_11ea_acf6_d63a88ba66afrow1_col10\" class=\"data row1 col10\" >-0.253183</td>\n",
       "                        <td id=\"T_de771e62_8caf_11ea_acf6_d63a88ba66afrow1_col11\" class=\"data row1 col11\" >0.890743</td>\n",
       "                        <td id=\"T_de771e62_8caf_11ea_acf6_d63a88ba66afrow1_col12\" class=\"data row1 col12\" >0.984101</td>\n",
       "                        <td id=\"T_de771e62_8caf_11ea_acf6_d63a88ba66afrow1_col13\" class=\"data row1 col13\" >-0.220012</td>\n",
       "                        <td id=\"T_de771e62_8caf_11ea_acf6_d63a88ba66afrow1_col14\" class=\"data row1 col14\" >-0.015487</td>\n",
       "                        <td id=\"T_de771e62_8caf_11ea_acf6_d63a88ba66afrow1_col15\" class=\"data row1 col15\" >-0.144498</td>\n",
       "                        <td id=\"T_de771e62_8caf_11ea_acf6_d63a88ba66afrow1_col16\" class=\"data row1 col16\" >0.779778</td>\n",
       "                        <td id=\"T_de771e62_8caf_11ea_acf6_d63a88ba66afrow1_col17\" class=\"data row1 col17\" >-0.406402</td>\n",
       "                        <td id=\"T_de771e62_8caf_11ea_acf6_d63a88ba66afrow1_col18\" class=\"data row1 col18\" >0.003385</td>\n",
       "                        <td id=\"T_de771e62_8caf_11ea_acf6_d63a88ba66afrow1_col19\" class=\"data row1 col19\" >-0.001055</td>\n",
       "                        <td id=\"T_de771e62_8caf_11ea_acf6_d63a88ba66afrow1_col20\" class=\"data row1 col20\" >-0.212616</td>\n",
       "            </tr>\n",
       "            <tr>\n",
       "                        <th id=\"T_de771e62_8caf_11ea_acf6_d63a88ba66aflevel0_row2\" class=\"row_heading level0 row2\" >rainfall</th>\n",
       "                        <td id=\"T_de771e62_8caf_11ea_acf6_d63a88ba66afrow2_col0\" class=\"data row2 col0\" >0.110846</td>\n",
       "                        <td id=\"T_de771e62_8caf_11ea_acf6_d63a88ba66afrow2_col1\" class=\"data row2 col1\" >-0.069482</td>\n",
       "                        <td id=\"T_de771e62_8caf_11ea_acf6_d63a88ba66afrow2_col2\" class=\"data row2 col2\" >1.000000</td>\n",
       "                        <td id=\"T_de771e62_8caf_11ea_acf6_d63a88ba66afrow2_col3\" class=\"data row2 col3\" >-0.074049</td>\n",
       "                        <td id=\"T_de771e62_8caf_11ea_acf6_d63a88ba66afrow2_col4\" class=\"data row2 col4\" >-0.243738</td>\n",
       "                        <td id=\"T_de771e62_8caf_11ea_acf6_d63a88ba66afrow2_col5\" class=\"data row2 col5\" >0.258127</td>\n",
       "                        <td id=\"T_de771e62_8caf_11ea_acf6_d63a88ba66afrow2_col6\" class=\"data row2 col6\" >0.270421</td>\n",
       "                        <td id=\"T_de771e62_8caf_11ea_acf6_d63a88ba66afrow2_col7\" class=\"data row2 col7\" >-0.177673</td>\n",
       "                        <td id=\"T_de771e62_8caf_11ea_acf6_d63a88ba66afrow2_col8\" class=\"data row2 col8\" >-0.133452</td>\n",
       "                        <td id=\"T_de771e62_8caf_11ea_acf6_d63a88ba66afrow2_col9\" class=\"data row2 col9\" >0.215699</td>\n",
       "                        <td id=\"T_de771e62_8caf_11ea_acf6_d63a88ba66afrow2_col10\" class=\"data row2 col10\" >0.191743</td>\n",
       "                        <td id=\"T_de771e62_8caf_11ea_acf6_d63a88ba66afrow2_col11\" class=\"data row2 col11\" >0.014438</td>\n",
       "                        <td id=\"T_de771e62_8caf_11ea_acf6_d63a88ba66afrow2_col12\" class=\"data row2 col12\" >-0.073640</td>\n",
       "                        <td id=\"T_de771e62_8caf_11ea_acf6_d63a88ba66afrow2_col13\" class=\"data row2 col13\" >0.553481</td>\n",
       "                        <td id=\"T_de771e62_8caf_11ea_acf6_d63a88ba66afrow2_col14\" class=\"data row2 col14\" >0.302723</td>\n",
       "                        <td id=\"T_de771e62_8caf_11ea_acf6_d63a88ba66afrow2_col15\" class=\"data row2 col15\" >0.253773</td>\n",
       "                        <td id=\"T_de771e62_8caf_11ea_acf6_d63a88ba66afrow2_col16\" class=\"data row2 col16\" >-0.060093</td>\n",
       "                        <td id=\"T_de771e62_8caf_11ea_acf6_d63a88ba66afrow2_col17\" class=\"data row2 col17\" >0.247128</td>\n",
       "                        <td id=\"T_de771e62_8caf_11ea_acf6_d63a88ba66afrow2_col18\" class=\"data row2 col18\" >-0.007556</td>\n",
       "                        <td id=\"T_de771e62_8caf_11ea_acf6_d63a88ba66afrow2_col19\" class=\"data row2 col19\" >-0.003066</td>\n",
       "                        <td id=\"T_de771e62_8caf_11ea_acf6_d63a88ba66afrow2_col20\" class=\"data row2 col20\" >0.371184</td>\n",
       "            </tr>\n",
       "            <tr>\n",
       "                        <th id=\"T_de771e62_8caf_11ea_acf6_d63a88ba66aflevel0_row3\" class=\"row_heading level0 row3\" >evaporation</th>\n",
       "                        <td id=\"T_de771e62_8caf_11ea_acf6_d63a88ba66afrow3_col0\" class=\"data row3 col0\" >0.510004</td>\n",
       "                        <td id=\"T_de771e62_8caf_11ea_acf6_d63a88ba66afrow3_col1\" class=\"data row3 col1\" >0.652247</td>\n",
       "                        <td id=\"T_de771e62_8caf_11ea_acf6_d63a88ba66afrow3_col2\" class=\"data row3 col2\" >-0.074049</td>\n",
       "                        <td id=\"T_de771e62_8caf_11ea_acf6_d63a88ba66afrow3_col3\" class=\"data row3 col3\" >1.000000</td>\n",
       "                        <td id=\"T_de771e62_8caf_11ea_acf6_d63a88ba66afrow3_col4\" class=\"data row3 col4\" >0.366577</td>\n",
       "                        <td id=\"T_de771e62_8caf_11ea_acf6_d63a88ba66afrow3_col5\" class=\"data row3 col5\" >-0.554104</td>\n",
       "                        <td id=\"T_de771e62_8caf_11ea_acf6_d63a88ba66afrow3_col6\" class=\"data row3 col6\" >-0.414895</td>\n",
       "                        <td id=\"T_de771e62_8caf_11ea_acf6_d63a88ba66afrow3_col7\" class=\"data row3 col7\" >-0.304406</td>\n",
       "                        <td id=\"T_de771e62_8caf_11ea_acf6_d63a88ba66afrow3_col8\" class=\"data row3 col8\" >-0.330799</td>\n",
       "                        <td id=\"T_de771e62_8caf_11ea_acf6_d63a88ba66afrow3_col9\" class=\"data row3 col9\" >-0.192775</td>\n",
       "                        <td id=\"T_de771e62_8caf_11ea_acf6_d63a88ba66afrow3_col10\" class=\"data row3 col10\" >-0.196180</td>\n",
       "                        <td id=\"T_de771e62_8caf_11ea_acf6_d63a88ba66afrow3_col11\" class=\"data row3 col11\" >0.598609</td>\n",
       "                        <td id=\"T_de771e62_8caf_11ea_acf6_d63a88ba66afrow3_col12\" class=\"data row3 col12\" >0.631686</td>\n",
       "                        <td id=\"T_de771e62_8caf_11ea_acf6_d63a88ba66afrow3_col13\" class=\"data row3 col13\" >-0.213291</td>\n",
       "                        <td id=\"T_de771e62_8caf_11ea_acf6_d63a88ba66afrow3_col14\" class=\"data row3 col14\" >-0.042126</td>\n",
       "                        <td id=\"T_de771e62_8caf_11ea_acf6_d63a88ba66afrow3_col15\" class=\"data row3 col15\" >-0.127257</td>\n",
       "                        <td id=\"T_de771e62_8caf_11ea_acf6_d63a88ba66afrow3_col16\" class=\"data row3 col16\" >0.509947</td>\n",
       "                        <td id=\"T_de771e62_8caf_11ea_acf6_d63a88ba66afrow3_col17\" class=\"data row3 col17\" >-0.375537</td>\n",
       "                        <td id=\"T_de771e62_8caf_11ea_acf6_d63a88ba66afrow3_col18\" class=\"data row3 col18\" >0.007043</td>\n",
       "                        <td id=\"T_de771e62_8caf_11ea_acf6_d63a88ba66afrow3_col19\" class=\"data row3 col19\" >-0.000189</td>\n",
       "                        <td id=\"T_de771e62_8caf_11ea_acf6_d63a88ba66afrow3_col20\" class=\"data row3 col20\" >-0.183537</td>\n",
       "            </tr>\n",
       "            <tr>\n",
       "                        <th id=\"T_de771e62_8caf_11ea_acf6_d63a88ba66aflevel0_row4\" class=\"row_heading level0 row4\" >sunshine</th>\n",
       "                        <td id=\"T_de771e62_8caf_11ea_acf6_d63a88ba66afrow4_col0\" class=\"data row4 col0\" >0.070680</td>\n",
       "                        <td id=\"T_de771e62_8caf_11ea_acf6_d63a88ba66afrow4_col1\" class=\"data row4 col1\" >0.461698</td>\n",
       "                        <td id=\"T_de771e62_8caf_11ea_acf6_d63a88ba66afrow4_col2\" class=\"data row4 col2\" >-0.243738</td>\n",
       "                        <td id=\"T_de771e62_8caf_11ea_acf6_d63a88ba66afrow4_col3\" class=\"data row4 col3\" >0.366577</td>\n",
       "                        <td id=\"T_de771e62_8caf_11ea_acf6_d63a88ba66afrow4_col4\" class=\"data row4 col4\" >1.000000</td>\n",
       "                        <td id=\"T_de771e62_8caf_11ea_acf6_d63a88ba66afrow4_col5\" class=\"data row4 col5\" >-0.498855</td>\n",
       "                        <td id=\"T_de771e62_8caf_11ea_acf6_d63a88ba66afrow4_col6\" class=\"data row4 col6\" >-0.622767</td>\n",
       "                        <td id=\"T_de771e62_8caf_11ea_acf6_d63a88ba66afrow4_col7\" class=\"data row4 col7\" >0.035783</td>\n",
       "                        <td id=\"T_de771e62_8caf_11ea_acf6_d63a88ba66afrow4_col8\" class=\"data row4 col8\" >-0.027949</td>\n",
       "                        <td id=\"T_de771e62_8caf_11ea_acf6_d63a88ba66afrow4_col9\" class=\"data row4 col9\" >-0.678801</td>\n",
       "                        <td id=\"T_de771e62_8caf_11ea_acf6_d63a88ba66afrow4_col10\" class=\"data row4 col10\" >-0.704871</td>\n",
       "                        <td id=\"T_de771e62_8caf_11ea_acf6_d63a88ba66afrow4_col11\" class=\"data row4 col11\" >0.285678</td>\n",
       "                        <td id=\"T_de771e62_8caf_11ea_acf6_d63a88ba66afrow4_col12\" class=\"data row4 col12\" >0.483256</td>\n",
       "                        <td id=\"T_de771e62_8caf_11ea_acf6_d63a88ba66afrow4_col13\" class=\"data row4 col13\" >-0.327720</td>\n",
       "                        <td id=\"T_de771e62_8caf_11ea_acf6_d63a88ba66afrow4_col14\" class=\"data row4 col14\" >-0.298182</td>\n",
       "                        <td id=\"T_de771e62_8caf_11ea_acf6_d63a88ba66afrow4_col15\" class=\"data row4 col15\" >-0.449261</td>\n",
       "                        <td id=\"T_de771e62_8caf_11ea_acf6_d63a88ba66afrow4_col16\" class=\"data row4 col16\" >0.359295</td>\n",
       "                        <td id=\"T_de771e62_8caf_11ea_acf6_d63a88ba66afrow4_col17\" class=\"data row4 col17\" >-0.565134</td>\n",
       "                        <td id=\"T_de771e62_8caf_11ea_acf6_d63a88ba66afrow4_col18\" class=\"data row4 col18\" >-0.003376</td>\n",
       "                        <td id=\"T_de771e62_8caf_11ea_acf6_d63a88ba66afrow4_col19\" class=\"data row4 col19\" >0.004404</td>\n",
       "                        <td id=\"T_de771e62_8caf_11ea_acf6_d63a88ba66afrow4_col20\" class=\"data row4 col20\" >-0.643104</td>\n",
       "            </tr>\n",
       "            <tr>\n",
       "                        <th id=\"T_de771e62_8caf_11ea_acf6_d63a88ba66aflevel0_row5\" class=\"row_heading level0 row5\" >humidity9am</th>\n",
       "                        <td id=\"T_de771e62_8caf_11ea_acf6_d63a88ba66afrow5_col0\" class=\"data row5 col0\" >-0.177758</td>\n",
       "                        <td id=\"T_de771e62_8caf_11ea_acf6_d63a88ba66afrow5_col1\" class=\"data row5 col1\" >-0.496329</td>\n",
       "                        <td id=\"T_de771e62_8caf_11ea_acf6_d63a88ba66afrow5_col2\" class=\"data row5 col2\" >0.258127</td>\n",
       "                        <td id=\"T_de771e62_8caf_11ea_acf6_d63a88ba66afrow5_col3\" class=\"data row5 col3\" >-0.554104</td>\n",
       "                        <td id=\"T_de771e62_8caf_11ea_acf6_d63a88ba66afrow5_col4\" class=\"data row5 col4\" >-0.498855</td>\n",
       "                        <td id=\"T_de771e62_8caf_11ea_acf6_d63a88ba66afrow5_col5\" class=\"data row5 col5\" >1.000000</td>\n",
       "                        <td id=\"T_de771e62_8caf_11ea_acf6_d63a88ba66afrow5_col6\" class=\"data row5 col6\" >0.679847</td>\n",
       "                        <td id=\"T_de771e62_8caf_11ea_acf6_d63a88ba66afrow5_col7\" class=\"data row5 col7\" >0.122421</td>\n",
       "                        <td id=\"T_de771e62_8caf_11ea_acf6_d63a88ba66afrow5_col8\" class=\"data row5 col8\" >0.178441</td>\n",
       "                        <td id=\"T_de771e62_8caf_11ea_acf6_d63a88ba66afrow5_col9\" class=\"data row5 col9\" >0.432826</td>\n",
       "                        <td id=\"T_de771e62_8caf_11ea_acf6_d63a88ba66afrow5_col10\" class=\"data row5 col10\" >0.344565</td>\n",
       "                        <td id=\"T_de771e62_8caf_11ea_acf6_d63a88ba66afrow5_col11\" class=\"data row5 col11\" >-0.426737</td>\n",
       "                        <td id=\"T_de771e62_8caf_11ea_acf6_d63a88ba66afrow5_col12\" class=\"data row5 col12\" >-0.487789</td>\n",
       "                        <td id=\"T_de771e62_8caf_11ea_acf6_d63a88ba66afrow5_col13\" class=\"data row5 col13\" >0.371288</td>\n",
       "                        <td id=\"T_de771e62_8caf_11ea_acf6_d63a88ba66afrow5_col14\" class=\"data row5 col14\" >0.177473</td>\n",
       "                        <td id=\"T_de771e62_8caf_11ea_acf6_d63a88ba66afrow5_col15\" class=\"data row5 col15\" >0.265360</td>\n",
       "                        <td id=\"T_de771e62_8caf_11ea_acf6_d63a88ba66afrow5_col16\" class=\"data row5 col16\" >-0.388460</td>\n",
       "                        <td id=\"T_de771e62_8caf_11ea_acf6_d63a88ba66afrow5_col17\" class=\"data row5 col17\" >0.617538</td>\n",
       "                        <td id=\"T_de771e62_8caf_11ea_acf6_d63a88ba66afrow5_col18\" class=\"data row5 col18\" >-0.003913</td>\n",
       "                        <td id=\"T_de771e62_8caf_11ea_acf6_d63a88ba66afrow5_col19\" class=\"data row5 col19\" >-0.001670</td>\n",
       "                        <td id=\"T_de771e62_8caf_11ea_acf6_d63a88ba66afrow5_col20\" class=\"data row5 col20\" >0.392692</td>\n",
       "            </tr>\n",
       "            <tr>\n",
       "                        <th id=\"T_de771e62_8caf_11ea_acf6_d63a88ba66aflevel0_row6\" class=\"row_heading level0 row6\" >humidity3pm</th>\n",
       "                        <td id=\"T_de771e62_8caf_11ea_acf6_d63a88ba66afrow6_col0\" class=\"data row6 col0\" >0.076333</td>\n",
       "                        <td id=\"T_de771e62_8caf_11ea_acf6_d63a88ba66afrow6_col1\" class=\"data row6 col1\" >-0.448043</td>\n",
       "                        <td id=\"T_de771e62_8caf_11ea_acf6_d63a88ba66afrow6_col2\" class=\"data row6 col2\" >0.270421</td>\n",
       "                        <td id=\"T_de771e62_8caf_11ea_acf6_d63a88ba66afrow6_col3\" class=\"data row6 col3\" >-0.414895</td>\n",
       "                        <td id=\"T_de771e62_8caf_11ea_acf6_d63a88ba66afrow6_col4\" class=\"data row6 col4\" >-0.622767</td>\n",
       "                        <td id=\"T_de771e62_8caf_11ea_acf6_d63a88ba66afrow6_col5\" class=\"data row6 col5\" >0.679847</td>\n",
       "                        <td id=\"T_de771e62_8caf_11ea_acf6_d63a88ba66afrow6_col6\" class=\"data row6 col6\" >1.000000</td>\n",
       "                        <td id=\"T_de771e62_8caf_11ea_acf6_d63a88ba66afrow6_col7\" class=\"data row6 col7\" >-0.057837</td>\n",
       "                        <td id=\"T_de771e62_8caf_11ea_acf6_d63a88ba66afrow6_col8\" class=\"data row6 col8\" >0.028653</td>\n",
       "                        <td id=\"T_de771e62_8caf_11ea_acf6_d63a88ba66afrow6_col9\" class=\"data row6 col9\" >0.507677</td>\n",
       "                        <td id=\"T_de771e62_8caf_11ea_acf6_d63a88ba66afrow6_col10\" class=\"data row6 col10\" >0.507461</td>\n",
       "                        <td id=\"T_de771e62_8caf_11ea_acf6_d63a88ba66afrow6_col11\" class=\"data row6 col11\" >-0.148491</td>\n",
       "                        <td id=\"T_de771e62_8caf_11ea_acf6_d63a88ba66afrow6_col12\" class=\"data row6 col12\" >-0.498921</td>\n",
       "                        <td id=\"T_de771e62_8caf_11ea_acf6_d63a88ba66afrow6_col13\" class=\"data row6 col13\" >0.376480</td>\n",
       "                        <td id=\"T_de771e62_8caf_11ea_acf6_d63a88ba66afrow6_col14\" class=\"data row6 col14\" >0.309910</td>\n",
       "                        <td id=\"T_de771e62_8caf_11ea_acf6_d63a88ba66afrow6_col15\" class=\"data row6 col15\" >0.447742</td>\n",
       "                        <td id=\"T_de771e62_8caf_11ea_acf6_d63a88ba66afrow6_col16\" class=\"data row6 col16\" >-0.351533</td>\n",
       "                        <td id=\"T_de771e62_8caf_11ea_acf6_d63a88ba66afrow6_col17\" class=\"data row6 col17\" >0.907959</td>\n",
       "                        <td id=\"T_de771e62_8caf_11ea_acf6_d63a88ba66afrow6_col18\" class=\"data row6 col18\" >-0.003120</td>\n",
       "                        <td id=\"T_de771e62_8caf_11ea_acf6_d63a88ba66afrow6_col19\" class=\"data row6 col19\" >-0.003777</td>\n",
       "                        <td id=\"T_de771e62_8caf_11ea_acf6_d63a88ba66afrow6_col20\" class=\"data row6 col20\" >0.644851</td>\n",
       "            </tr>\n",
       "            <tr>\n",
       "                        <th id=\"T_de771e62_8caf_11ea_acf6_d63a88ba66aflevel0_row7\" class=\"row_heading level0 row7\" >pressure9am</th>\n",
       "                        <td id=\"T_de771e62_8caf_11ea_acf6_d63a88ba66afrow7_col0\" class=\"data row7 col0\" >-0.475451</td>\n",
       "                        <td id=\"T_de771e62_8caf_11ea_acf6_d63a88ba66afrow7_col1\" class=\"data row7 col1\" >-0.355855</td>\n",
       "                        <td id=\"T_de771e62_8caf_11ea_acf6_d63a88ba66afrow7_col2\" class=\"data row7 col2\" >-0.177673</td>\n",
       "                        <td id=\"T_de771e62_8caf_11ea_acf6_d63a88ba66afrow7_col3\" class=\"data row7 col3\" >-0.304406</td>\n",
       "                        <td id=\"T_de771e62_8caf_11ea_acf6_d63a88ba66afrow7_col4\" class=\"data row7 col4\" >0.035783</td>\n",
       "                        <td id=\"T_de771e62_8caf_11ea_acf6_d63a88ba66afrow7_col5\" class=\"data row7 col5\" >0.122421</td>\n",
       "                        <td id=\"T_de771e62_8caf_11ea_acf6_d63a88ba66afrow7_col6\" class=\"data row7 col6\" >-0.057837</td>\n",
       "                        <td id=\"T_de771e62_8caf_11ea_acf6_d63a88ba66afrow7_col7\" class=\"data row7 col7\" >1.000000</td>\n",
       "                        <td id=\"T_de771e62_8caf_11ea_acf6_d63a88ba66afrow7_col8\" class=\"data row7 col8\" >0.961926</td>\n",
       "                        <td id=\"T_de771e62_8caf_11ea_acf6_d63a88ba66afrow7_col9\" class=\"data row7 col9\" >-0.142788</td>\n",
       "                        <td id=\"T_de771e62_8caf_11ea_acf6_d63a88ba66afrow7_col10\" class=\"data row7 col10\" >-0.164998</td>\n",
       "                        <td id=\"T_de771e62_8caf_11ea_acf6_d63a88ba66afrow7_col11\" class=\"data row7 col11\" >-0.447688</td>\n",
       "                        <td id=\"T_de771e62_8caf_11ea_acf6_d63a88ba66afrow7_col12\" class=\"data row7 col12\" >-0.314549</td>\n",
       "                        <td id=\"T_de771e62_8caf_11ea_acf6_d63a88ba66afrow7_col13\" class=\"data row7 col13\" >-0.183468</td>\n",
       "                        <td id=\"T_de771e62_8caf_11ea_acf6_d63a88ba66afrow7_col14\" class=\"data row7 col14\" >-0.174923</td>\n",
       "                        <td id=\"T_de771e62_8caf_11ea_acf6_d63a88ba66afrow7_col15\" class=\"data row7 col15\" >-0.255934</td>\n",
       "                        <td id=\"T_de771e62_8caf_11ea_acf6_d63a88ba66afrow7_col16\" class=\"data row7 col16\" >-0.274905</td>\n",
       "                        <td id=\"T_de771e62_8caf_11ea_acf6_d63a88ba66afrow7_col17\" class=\"data row7 col17\" >-0.052670</td>\n",
       "                        <td id=\"T_de771e62_8caf_11ea_acf6_d63a88ba66afrow7_col18\" class=\"data row7 col18\" >-0.002484</td>\n",
       "                        <td id=\"T_de771e62_8caf_11ea_acf6_d63a88ba66afrow7_col19\" class=\"data row7 col19\" >0.003967</td>\n",
       "                        <td id=\"T_de771e62_8caf_11ea_acf6_d63a88ba66afrow7_col20\" class=\"data row7 col20\" >-0.371539</td>\n",
       "            </tr>\n",
       "            <tr>\n",
       "                        <th id=\"T_de771e62_8caf_11ea_acf6_d63a88ba66aflevel0_row8\" class=\"row_heading level0 row8\" >pressure3pm</th>\n",
       "                        <td id=\"T_de771e62_8caf_11ea_acf6_d63a88ba66afrow8_col0\" class=\"data row8 col0\" >-0.491435</td>\n",
       "                        <td id=\"T_de771e62_8caf_11ea_acf6_d63a88ba66afrow8_col1\" class=\"data row8 col1\" >-0.454047</td>\n",
       "                        <td id=\"T_de771e62_8caf_11ea_acf6_d63a88ba66afrow8_col2\" class=\"data row8 col2\" >-0.133452</td>\n",
       "                        <td id=\"T_de771e62_8caf_11ea_acf6_d63a88ba66afrow8_col3\" class=\"data row8 col3\" >-0.330799</td>\n",
       "                        <td id=\"T_de771e62_8caf_11ea_acf6_d63a88ba66afrow8_col4\" class=\"data row8 col4\" >-0.027949</td>\n",
       "                        <td id=\"T_de771e62_8caf_11ea_acf6_d63a88ba66afrow8_col5\" class=\"data row8 col5\" >0.178441</td>\n",
       "                        <td id=\"T_de771e62_8caf_11ea_acf6_d63a88ba66afrow8_col6\" class=\"data row8 col6\" >0.028653</td>\n",
       "                        <td id=\"T_de771e62_8caf_11ea_acf6_d63a88ba66afrow8_col7\" class=\"data row8 col7\" >0.961926</td>\n",
       "                        <td id=\"T_de771e62_8caf_11ea_acf6_d63a88ba66afrow8_col8\" class=\"data row8 col8\" >1.000000</td>\n",
       "                        <td id=\"T_de771e62_8caf_11ea_acf6_d63a88ba66afrow8_col9\" class=\"data row8 col9\" >-0.074193</td>\n",
       "                        <td id=\"T_de771e62_8caf_11ea_acf6_d63a88ba66afrow8_col10\" class=\"data row8 col10\" >-0.101631</td>\n",
       "                        <td id=\"T_de771e62_8caf_11ea_acf6_d63a88ba66afrow8_col11\" class=\"data row8 col11\" >-0.500713</td>\n",
       "                        <td id=\"T_de771e62_8caf_11ea_acf6_d63a88ba66afrow8_col12\" class=\"data row8 col12\" >-0.422233</td>\n",
       "                        <td id=\"T_de771e62_8caf_11ea_acf6_d63a88ba66afrow8_col13\" class=\"data row8 col13\" >-0.100839</td>\n",
       "                        <td id=\"T_de771e62_8caf_11ea_acf6_d63a88ba66afrow8_col14\" class=\"data row8 col14\" >-0.174031</td>\n",
       "                        <td id=\"T_de771e62_8caf_11ea_acf6_d63a88ba66afrow8_col15\" class=\"data row8 col15\" >-0.231428</td>\n",
       "                        <td id=\"T_de771e62_8caf_11ea_acf6_d63a88ba66afrow8_col16\" class=\"data row8 col16\" >-0.351972</td>\n",
       "                        <td id=\"T_de771e62_8caf_11ea_acf6_d63a88ba66afrow8_col17\" class=\"data row8 col17\" >0.025834</td>\n",
       "                        <td id=\"T_de771e62_8caf_11ea_acf6_d63a88ba66afrow8_col18\" class=\"data row8 col18\" >-0.002560</td>\n",
       "                        <td id=\"T_de771e62_8caf_11ea_acf6_d63a88ba66afrow8_col19\" class=\"data row8 col19\" >0.004046</td>\n",
       "                        <td id=\"T_de771e62_8caf_11ea_acf6_d63a88ba66afrow8_col20\" class=\"data row8 col20\" >-0.322904</td>\n",
       "            </tr>\n",
       "            <tr>\n",
       "                        <th id=\"T_de771e62_8caf_11ea_acf6_d63a88ba66aflevel0_row9\" class=\"row_heading level0 row9\" >cloud9am</th>\n",
       "                        <td id=\"T_de771e62_8caf_11ea_acf6_d63a88ba66afrow9_col0\" class=\"data row9 col0\" >0.115204</td>\n",
       "                        <td id=\"T_de771e62_8caf_11ea_acf6_d63a88ba66afrow9_col1\" class=\"data row9 col1\" >-0.262003</td>\n",
       "                        <td id=\"T_de771e62_8caf_11ea_acf6_d63a88ba66afrow9_col2\" class=\"data row9 col2\" >0.215699</td>\n",
       "                        <td id=\"T_de771e62_8caf_11ea_acf6_d63a88ba66afrow9_col3\" class=\"data row9 col3\" >-0.192775</td>\n",
       "                        <td id=\"T_de771e62_8caf_11ea_acf6_d63a88ba66afrow9_col4\" class=\"data row9 col4\" >-0.678801</td>\n",
       "                        <td id=\"T_de771e62_8caf_11ea_acf6_d63a88ba66afrow9_col5\" class=\"data row9 col5\" >0.432826</td>\n",
       "                        <td id=\"T_de771e62_8caf_11ea_acf6_d63a88ba66afrow9_col6\" class=\"data row9 col6\" >0.507677</td>\n",
       "                        <td id=\"T_de771e62_8caf_11ea_acf6_d63a88ba66afrow9_col7\" class=\"data row9 col7\" >-0.142788</td>\n",
       "                        <td id=\"T_de771e62_8caf_11ea_acf6_d63a88ba66afrow9_col8\" class=\"data row9 col8\" >-0.074193</td>\n",
       "                        <td id=\"T_de771e62_8caf_11ea_acf6_d63a88ba66afrow9_col9\" class=\"data row9 col9\" >1.000000</td>\n",
       "                        <td id=\"T_de771e62_8caf_11ea_acf6_d63a88ba66afrow9_col10\" class=\"data row9 col10\" >0.612633</td>\n",
       "                        <td id=\"T_de771e62_8caf_11ea_acf6_d63a88ba66afrow9_col11\" class=\"data row9 col11\" >-0.101916</td>\n",
       "                        <td id=\"T_de771e62_8caf_11ea_acf6_d63a88ba66afrow9_col12\" class=\"data row9 col12\" >-0.278856</td>\n",
       "                        <td id=\"T_de771e62_8caf_11ea_acf6_d63a88ba66afrow9_col13\" class=\"data row9 col13\" >0.297414</td>\n",
       "                        <td id=\"T_de771e62_8caf_11ea_acf6_d63a88ba66afrow9_col14\" class=\"data row9 col14\" >0.204768</td>\n",
       "                        <td id=\"T_de771e62_8caf_11ea_acf6_d63a88ba66afrow9_col15\" class=\"data row9 col15\" >0.319410</td>\n",
       "                        <td id=\"T_de771e62_8caf_11ea_acf6_d63a88ba66afrow9_col16\" class=\"data row9 col16\" >-0.203947</td>\n",
       "                        <td id=\"T_de771e62_8caf_11ea_acf6_d63a88ba66afrow9_col17\" class=\"data row9 col17\" >0.460164</td>\n",
       "                        <td id=\"T_de771e62_8caf_11ea_acf6_d63a88ba66afrow9_col18\" class=\"data row9 col18\" >-0.000451</td>\n",
       "                        <td id=\"T_de771e62_8caf_11ea_acf6_d63a88ba66afrow9_col19\" class=\"data row9 col19\" >-0.000973</td>\n",
       "                        <td id=\"T_de771e62_8caf_11ea_acf6_d63a88ba66afrow9_col20\" class=\"data row9 col20\" >0.473697</td>\n",
       "            </tr>\n",
       "            <tr>\n",
       "                        <th id=\"T_de771e62_8caf_11ea_acf6_d63a88ba66aflevel0_row10\" class=\"row_heading level0 row10\" >cloud3pm</th>\n",
       "                        <td id=\"T_de771e62_8caf_11ea_acf6_d63a88ba66afrow10_col0\" class=\"data row10 col0\" >0.050917</td>\n",
       "                        <td id=\"T_de771e62_8caf_11ea_acf6_d63a88ba66afrow10_col1\" class=\"data row10 col1\" >-0.253183</td>\n",
       "                        <td id=\"T_de771e62_8caf_11ea_acf6_d63a88ba66afrow10_col2\" class=\"data row10 col2\" >0.191743</td>\n",
       "                        <td id=\"T_de771e62_8caf_11ea_acf6_d63a88ba66afrow10_col3\" class=\"data row10 col3\" >-0.196180</td>\n",
       "                        <td id=\"T_de771e62_8caf_11ea_acf6_d63a88ba66afrow10_col4\" class=\"data row10 col4\" >-0.704871</td>\n",
       "                        <td id=\"T_de771e62_8caf_11ea_acf6_d63a88ba66afrow10_col5\" class=\"data row10 col5\" >0.344565</td>\n",
       "                        <td id=\"T_de771e62_8caf_11ea_acf6_d63a88ba66afrow10_col6\" class=\"data row10 col6\" >0.507461</td>\n",
       "                        <td id=\"T_de771e62_8caf_11ea_acf6_d63a88ba66afrow10_col7\" class=\"data row10 col7\" >-0.164998</td>\n",
       "                        <td id=\"T_de771e62_8caf_11ea_acf6_d63a88ba66afrow10_col8\" class=\"data row10 col8\" >-0.101631</td>\n",
       "                        <td id=\"T_de771e62_8caf_11ea_acf6_d63a88ba66afrow10_col9\" class=\"data row10 col9\" >0.612633</td>\n",
       "                        <td id=\"T_de771e62_8caf_11ea_acf6_d63a88ba66afrow10_col10\" class=\"data row10 col10\" >1.000000</td>\n",
       "                        <td id=\"T_de771e62_8caf_11ea_acf6_d63a88ba66afrow10_col11\" class=\"data row10 col11\" >-0.100641</td>\n",
       "                        <td id=\"T_de771e62_8caf_11ea_acf6_d63a88ba66afrow10_col12\" class=\"data row10 col12\" >-0.292905</td>\n",
       "                        <td id=\"T_de771e62_8caf_11ea_acf6_d63a88ba66afrow10_col13\" class=\"data row10 col13\" >0.272209</td>\n",
       "                        <td id=\"T_de771e62_8caf_11ea_acf6_d63a88ba66afrow10_col14\" class=\"data row10 col14\" >0.243504</td>\n",
       "                        <td id=\"T_de771e62_8caf_11ea_acf6_d63a88ba66afrow10_col15\" class=\"data row10 col15\" >0.389891</td>\n",
       "                        <td id=\"T_de771e62_8caf_11ea_acf6_d63a88ba66afrow10_col16\" class=\"data row10 col16\" >-0.199544</td>\n",
       "                        <td id=\"T_de771e62_8caf_11ea_acf6_d63a88ba66afrow10_col17\" class=\"data row10 col17\" >0.460723</td>\n",
       "                        <td id=\"T_de771e62_8caf_11ea_acf6_d63a88ba66afrow10_col18\" class=\"data row10 col18\" >0.000051</td>\n",
       "                        <td id=\"T_de771e62_8caf_11ea_acf6_d63a88ba66afrow10_col19\" class=\"data row10 col19\" >-0.005084</td>\n",
       "                        <td id=\"T_de771e62_8caf_11ea_acf6_d63a88ba66afrow10_col20\" class=\"data row10 col20\" >0.558326</td>\n",
       "            </tr>\n",
       "            <tr>\n",
       "                        <th id=\"T_de771e62_8caf_11ea_acf6_d63a88ba66aflevel0_row11\" class=\"row_heading level0 row11\" >temp9am</th>\n",
       "                        <td id=\"T_de771e62_8caf_11ea_acf6_d63a88ba66afrow11_col0\" class=\"data row11 col0\" >0.905552</td>\n",
       "                        <td id=\"T_de771e62_8caf_11ea_acf6_d63a88ba66afrow11_col1\" class=\"data row11 col1\" >0.890743</td>\n",
       "                        <td id=\"T_de771e62_8caf_11ea_acf6_d63a88ba66afrow11_col2\" class=\"data row11 col2\" >0.014438</td>\n",
       "                        <td id=\"T_de771e62_8caf_11ea_acf6_d63a88ba66afrow11_col3\" class=\"data row11 col3\" >0.598609</td>\n",
       "                        <td id=\"T_de771e62_8caf_11ea_acf6_d63a88ba66afrow11_col4\" class=\"data row11 col4\" >0.285678</td>\n",
       "                        <td id=\"T_de771e62_8caf_11ea_acf6_d63a88ba66afrow11_col5\" class=\"data row11 col5\" >-0.426737</td>\n",
       "                        <td id=\"T_de771e62_8caf_11ea_acf6_d63a88ba66afrow11_col6\" class=\"data row11 col6\" >-0.148491</td>\n",
       "                        <td id=\"T_de771e62_8caf_11ea_acf6_d63a88ba66afrow11_col7\" class=\"data row11 col7\" >-0.447688</td>\n",
       "                        <td id=\"T_de771e62_8caf_11ea_acf6_d63a88ba66afrow11_col8\" class=\"data row11 col8\" >-0.500713</td>\n",
       "                        <td id=\"T_de771e62_8caf_11ea_acf6_d63a88ba66afrow11_col9\" class=\"data row11 col9\" >-0.101916</td>\n",
       "                        <td id=\"T_de771e62_8caf_11ea_acf6_d63a88ba66afrow11_col10\" class=\"data row11 col10\" >-0.100641</td>\n",
       "                        <td id=\"T_de771e62_8caf_11ea_acf6_d63a88ba66afrow11_col11\" class=\"data row11 col11\" >1.000000</td>\n",
       "                        <td id=\"T_de771e62_8caf_11ea_acf6_d63a88ba66afrow11_col12\" class=\"data row11 col12\" >0.867197</td>\n",
       "                        <td id=\"T_de771e62_8caf_11ea_acf6_d63a88ba66afrow11_col13\" class=\"data row11 col13\" >-0.094113</td>\n",
       "                        <td id=\"T_de771e62_8caf_11ea_acf6_d63a88ba66afrow11_col14\" class=\"data row11 col14\" >0.072842</td>\n",
       "                        <td id=\"T_de771e62_8caf_11ea_acf6_d63a88ba66afrow11_col15\" class=\"data row11 col15\" >-0.016180</td>\n",
       "                        <td id=\"T_de771e62_8caf_11ea_acf6_d63a88ba66afrow11_col16\" class=\"data row11 col16\" >0.694676</td>\n",
       "                        <td id=\"T_de771e62_8caf_11ea_acf6_d63a88ba66afrow11_col17\" class=\"data row11 col17\" >-0.134657</td>\n",
       "                        <td id=\"T_de771e62_8caf_11ea_acf6_d63a88ba66afrow11_col18\" class=\"data row11 col18\" >0.003672</td>\n",
       "                        <td id=\"T_de771e62_8caf_11ea_acf6_d63a88ba66afrow11_col19\" class=\"data row11 col19\" >-0.000129</td>\n",
       "                        <td id=\"T_de771e62_8caf_11ea_acf6_d63a88ba66afrow11_col20\" class=\"data row11 col20\" >-0.025092</td>\n",
       "            </tr>\n",
       "            <tr>\n",
       "                        <th id=\"T_de771e62_8caf_11ea_acf6_d63a88ba66aflevel0_row12\" class=\"row_heading level0 row12\" >temp3pm</th>\n",
       "                        <td id=\"T_de771e62_8caf_11ea_acf6_d63a88ba66afrow12_col0\" class=\"data row12 col0\" >0.720796</td>\n",
       "                        <td id=\"T_de771e62_8caf_11ea_acf6_d63a88ba66afrow12_col1\" class=\"data row12 col1\" >0.984101</td>\n",
       "                        <td id=\"T_de771e62_8caf_11ea_acf6_d63a88ba66afrow12_col2\" class=\"data row12 col2\" >-0.073640</td>\n",
       "                        <td id=\"T_de771e62_8caf_11ea_acf6_d63a88ba66afrow12_col3\" class=\"data row12 col3\" >0.631686</td>\n",
       "                        <td id=\"T_de771e62_8caf_11ea_acf6_d63a88ba66afrow12_col4\" class=\"data row12 col4\" >0.483256</td>\n",
       "                        <td id=\"T_de771e62_8caf_11ea_acf6_d63a88ba66afrow12_col5\" class=\"data row12 col5\" >-0.487789</td>\n",
       "                        <td id=\"T_de771e62_8caf_11ea_acf6_d63a88ba66afrow12_col6\" class=\"data row12 col6\" >-0.498921</td>\n",
       "                        <td id=\"T_de771e62_8caf_11ea_acf6_d63a88ba66afrow12_col7\" class=\"data row12 col7\" >-0.314549</td>\n",
       "                        <td id=\"T_de771e62_8caf_11ea_acf6_d63a88ba66afrow12_col8\" class=\"data row12 col8\" >-0.422233</td>\n",
       "                        <td id=\"T_de771e62_8caf_11ea_acf6_d63a88ba66afrow12_col9\" class=\"data row12 col9\" >-0.278856</td>\n",
       "                        <td id=\"T_de771e62_8caf_11ea_acf6_d63a88ba66afrow12_col10\" class=\"data row12 col10\" >-0.292905</td>\n",
       "                        <td id=\"T_de771e62_8caf_11ea_acf6_d63a88ba66afrow12_col11\" class=\"data row12 col11\" >0.867197</td>\n",
       "                        <td id=\"T_de771e62_8caf_11ea_acf6_d63a88ba66afrow12_col12\" class=\"data row12 col12\" >1.000000</td>\n",
       "                        <td id=\"T_de771e62_8caf_11ea_acf6_d63a88ba66afrow12_col13\" class=\"data row12 col13\" >-0.225959</td>\n",
       "                        <td id=\"T_de771e62_8caf_11ea_acf6_d63a88ba66afrow12_col14\" class=\"data row12 col14\" >-0.039415</td>\n",
       "                        <td id=\"T_de771e62_8caf_11ea_acf6_d63a88ba66afrow12_col15\" class=\"data row12 col15\" >-0.181295</td>\n",
       "                        <td id=\"T_de771e62_8caf_11ea_acf6_d63a88ba66afrow12_col16\" class=\"data row12 col16\" >0.767793</td>\n",
       "                        <td id=\"T_de771e62_8caf_11ea_acf6_d63a88ba66afrow12_col17\" class=\"data row12 col17\" >-0.452851</td>\n",
       "                        <td id=\"T_de771e62_8caf_11ea_acf6_d63a88ba66afrow12_col18\" class=\"data row12 col18\" >0.003252</td>\n",
       "                        <td id=\"T_de771e62_8caf_11ea_acf6_d63a88ba66afrow12_col19\" class=\"data row12 col19\" >-0.000318</td>\n",
       "                        <td id=\"T_de771e62_8caf_11ea_acf6_d63a88ba66afrow12_col20\" class=\"data row12 col20\" >-0.264061</td>\n",
       "            </tr>\n",
       "            <tr>\n",
       "                        <th id=\"T_de771e62_8caf_11ea_acf6_d63a88ba66aflevel0_row13\" class=\"row_heading level0 row13\" >raintoday</th>\n",
       "                        <td id=\"T_de771e62_8caf_11ea_acf6_d63a88ba66afrow13_col0\" class=\"data row13 col0\" >0.051478</td>\n",
       "                        <td id=\"T_de771e62_8caf_11ea_acf6_d63a88ba66afrow13_col1\" class=\"data row13 col1\" >-0.220012</td>\n",
       "                        <td id=\"T_de771e62_8caf_11ea_acf6_d63a88ba66afrow13_col2\" class=\"data row13 col2\" >0.553481</td>\n",
       "                        <td id=\"T_de771e62_8caf_11ea_acf6_d63a88ba66afrow13_col3\" class=\"data row13 col3\" >-0.213291</td>\n",
       "                        <td id=\"T_de771e62_8caf_11ea_acf6_d63a88ba66afrow13_col4\" class=\"data row13 col4\" >-0.327720</td>\n",
       "                        <td id=\"T_de771e62_8caf_11ea_acf6_d63a88ba66afrow13_col5\" class=\"data row13 col5\" >0.371288</td>\n",
       "                        <td id=\"T_de771e62_8caf_11ea_acf6_d63a88ba66afrow13_col6\" class=\"data row13 col6\" >0.376480</td>\n",
       "                        <td id=\"T_de771e62_8caf_11ea_acf6_d63a88ba66afrow13_col7\" class=\"data row13 col7\" >-0.183468</td>\n",
       "                        <td id=\"T_de771e62_8caf_11ea_acf6_d63a88ba66afrow13_col8\" class=\"data row13 col8\" >-0.100839</td>\n",
       "                        <td id=\"T_de771e62_8caf_11ea_acf6_d63a88ba66afrow13_col9\" class=\"data row13 col9\" >0.297414</td>\n",
       "                        <td id=\"T_de771e62_8caf_11ea_acf6_d63a88ba66afrow13_col10\" class=\"data row13 col10\" >0.272209</td>\n",
       "                        <td id=\"T_de771e62_8caf_11ea_acf6_d63a88ba66afrow13_col11\" class=\"data row13 col11\" >-0.094113</td>\n",
       "                        <td id=\"T_de771e62_8caf_11ea_acf6_d63a88ba66afrow13_col12\" class=\"data row13 col12\" >-0.225959</td>\n",
       "                        <td id=\"T_de771e62_8caf_11ea_acf6_d63a88ba66afrow13_col13\" class=\"data row13 col13\" >1.000000</td>\n",
       "                        <td id=\"T_de771e62_8caf_11ea_acf6_d63a88ba66afrow13_col14\" class=\"data row13 col14\" >0.218438</td>\n",
       "                        <td id=\"T_de771e62_8caf_11ea_acf6_d63a88ba66afrow13_col15\" class=\"data row13 col15\" >0.308621</td>\n",
       "                        <td id=\"T_de771e62_8caf_11ea_acf6_d63a88ba66afrow13_col16\" class=\"data row13 col16\" >-0.174028</td>\n",
       "                        <td id=\"T_de771e62_8caf_11ea_acf6_d63a88ba66afrow13_col17\" class=\"data row13 col17\" >0.339474</td>\n",
       "                        <td id=\"T_de771e62_8caf_11ea_acf6_d63a88ba66afrow13_col18\" class=\"data row13 col18\" >-0.001359</td>\n",
       "                        <td id=\"T_de771e62_8caf_11ea_acf6_d63a88ba66afrow13_col19\" class=\"data row13 col19\" >-0.002866</td>\n",
       "                        <td id=\"T_de771e62_8caf_11ea_acf6_d63a88ba66afrow13_col20\" class=\"data row13 col20\" >0.453866</td>\n",
       "            </tr>\n",
       "            <tr>\n",
       "                        <th id=\"T_de771e62_8caf_11ea_acf6_d63a88ba66aflevel0_row14\" class=\"row_heading level0 row14\" >amountOfRain</th>\n",
       "                        <td id=\"T_de771e62_8caf_11ea_acf6_d63a88ba66afrow14_col0\" class=\"data row14 col0\" >0.142911</td>\n",
       "                        <td id=\"T_de771e62_8caf_11ea_acf6_d63a88ba66afrow14_col1\" class=\"data row14 col1\" >-0.015487</td>\n",
       "                        <td id=\"T_de771e62_8caf_11ea_acf6_d63a88ba66afrow14_col2\" class=\"data row14 col2\" >0.302723</td>\n",
       "                        <td id=\"T_de771e62_8caf_11ea_acf6_d63a88ba66afrow14_col3\" class=\"data row14 col3\" >-0.042126</td>\n",
       "                        <td id=\"T_de771e62_8caf_11ea_acf6_d63a88ba66afrow14_col4\" class=\"data row14 col4\" >-0.298182</td>\n",
       "                        <td id=\"T_de771e62_8caf_11ea_acf6_d63a88ba66afrow14_col5\" class=\"data row14 col5\" >0.177473</td>\n",
       "                        <td id=\"T_de771e62_8caf_11ea_acf6_d63a88ba66afrow14_col6\" class=\"data row14 col6\" >0.309910</td>\n",
       "                        <td id=\"T_de771e62_8caf_11ea_acf6_d63a88ba66afrow14_col7\" class=\"data row14 col7\" >-0.174923</td>\n",
       "                        <td id=\"T_de771e62_8caf_11ea_acf6_d63a88ba66afrow14_col8\" class=\"data row14 col8\" >-0.174031</td>\n",
       "                        <td id=\"T_de771e62_8caf_11ea_acf6_d63a88ba66afrow14_col9\" class=\"data row14 col9\" >0.204768</td>\n",
       "                        <td id=\"T_de771e62_8caf_11ea_acf6_d63a88ba66afrow14_col10\" class=\"data row14 col10\" >0.243504</td>\n",
       "                        <td id=\"T_de771e62_8caf_11ea_acf6_d63a88ba66afrow14_col11\" class=\"data row14 col11\" >0.072842</td>\n",
       "                        <td id=\"T_de771e62_8caf_11ea_acf6_d63a88ba66afrow14_col12\" class=\"data row14 col12\" >-0.039415</td>\n",
       "                        <td id=\"T_de771e62_8caf_11ea_acf6_d63a88ba66afrow14_col13\" class=\"data row14 col13\" >0.218438</td>\n",
       "                        <td id=\"T_de771e62_8caf_11ea_acf6_d63a88ba66afrow14_col14\" class=\"data row14 col14\" >1.000000</td>\n",
       "                        <td id=\"T_de771e62_8caf_11ea_acf6_d63a88ba66afrow14_col15\" class=\"data row14 col15\" >0.492611</td>\n",
       "                        <td id=\"T_de771e62_8caf_11ea_acf6_d63a88ba66afrow14_col16\" class=\"data row14 col16\" >-0.012145</td>\n",
       "                        <td id=\"T_de771e62_8caf_11ea_acf6_d63a88ba66afrow14_col17\" class=\"data row14 col17\" >0.283171</td>\n",
       "                        <td id=\"T_de771e62_8caf_11ea_acf6_d63a88ba66afrow14_col18\" class=\"data row14 col18\" >-0.003559</td>\n",
       "                        <td id=\"T_de771e62_8caf_11ea_acf6_d63a88ba66afrow14_col19\" class=\"data row14 col19\" >-0.008993</td>\n",
       "                        <td id=\"T_de771e62_8caf_11ea_acf6_d63a88ba66afrow14_col20\" class=\"data row14 col20\" >0.505059</td>\n",
       "            </tr>\n",
       "            <tr>\n",
       "                        <th id=\"T_de771e62_8caf_11ea_acf6_d63a88ba66aflevel0_row15\" class=\"row_heading level0 row15\" >raintomorrow</th>\n",
       "                        <td id=\"T_de771e62_8caf_11ea_acf6_d63a88ba66afrow15_col0\" class=\"data row15 col0\" >0.088964</td>\n",
       "                        <td id=\"T_de771e62_8caf_11ea_acf6_d63a88ba66afrow15_col1\" class=\"data row15 col1\" >-0.144498</td>\n",
       "                        <td id=\"T_de771e62_8caf_11ea_acf6_d63a88ba66afrow15_col2\" class=\"data row15 col2\" >0.253773</td>\n",
       "                        <td id=\"T_de771e62_8caf_11ea_acf6_d63a88ba66afrow15_col3\" class=\"data row15 col3\" >-0.127257</td>\n",
       "                        <td id=\"T_de771e62_8caf_11ea_acf6_d63a88ba66afrow15_col4\" class=\"data row15 col4\" >-0.449261</td>\n",
       "                        <td id=\"T_de771e62_8caf_11ea_acf6_d63a88ba66afrow15_col5\" class=\"data row15 col5\" >0.265360</td>\n",
       "                        <td id=\"T_de771e62_8caf_11ea_acf6_d63a88ba66afrow15_col6\" class=\"data row15 col6\" >0.447742</td>\n",
       "                        <td id=\"T_de771e62_8caf_11ea_acf6_d63a88ba66afrow15_col7\" class=\"data row15 col7\" >-0.255934</td>\n",
       "                        <td id=\"T_de771e62_8caf_11ea_acf6_d63a88ba66afrow15_col8\" class=\"data row15 col8\" >-0.231428</td>\n",
       "                        <td id=\"T_de771e62_8caf_11ea_acf6_d63a88ba66afrow15_col9\" class=\"data row15 col9\" >0.319410</td>\n",
       "                        <td id=\"T_de771e62_8caf_11ea_acf6_d63a88ba66afrow15_col10\" class=\"data row15 col10\" >0.389891</td>\n",
       "                        <td id=\"T_de771e62_8caf_11ea_acf6_d63a88ba66afrow15_col11\" class=\"data row15 col11\" >-0.016180</td>\n",
       "                        <td id=\"T_de771e62_8caf_11ea_acf6_d63a88ba66afrow15_col12\" class=\"data row15 col12\" >-0.181295</td>\n",
       "                        <td id=\"T_de771e62_8caf_11ea_acf6_d63a88ba66afrow15_col13\" class=\"data row15 col13\" >0.308621</td>\n",
       "                        <td id=\"T_de771e62_8caf_11ea_acf6_d63a88ba66afrow15_col14\" class=\"data row15 col14\" >0.492611</td>\n",
       "                        <td id=\"T_de771e62_8caf_11ea_acf6_d63a88ba66afrow15_col15\" class=\"data row15 col15\" >1.000000</td>\n",
       "                        <td id=\"T_de771e62_8caf_11ea_acf6_d63a88ba66afrow15_col16\" class=\"data row15 col16\" >-0.112636</td>\n",
       "                        <td id=\"T_de771e62_8caf_11ea_acf6_d63a88ba66afrow15_col17\" class=\"data row15 col17\" >0.406002</td>\n",
       "                        <td id=\"T_de771e62_8caf_11ea_acf6_d63a88ba66afrow15_col18\" class=\"data row15 col18\" >0.006578</td>\n",
       "                        <td id=\"T_de771e62_8caf_11ea_acf6_d63a88ba66afrow15_col19\" class=\"data row15 col19\" >-0.013366</td>\n",
       "                        <td id=\"T_de771e62_8caf_11ea_acf6_d63a88ba66afrow15_col20\" class=\"data row15 col20\" >0.863107</td>\n",
       "            </tr>\n",
       "            <tr>\n",
       "                        <th id=\"T_de771e62_8caf_11ea_acf6_d63a88ba66aflevel0_row16\" class=\"row_heading level0 row16\" >temp</th>\n",
       "                        <td id=\"T_de771e62_8caf_11ea_acf6_d63a88ba66afrow16_col0\" class=\"data row16 col0\" >0.578773</td>\n",
       "                        <td id=\"T_de771e62_8caf_11ea_acf6_d63a88ba66afrow16_col1\" class=\"data row16 col1\" >0.779778</td>\n",
       "                        <td id=\"T_de771e62_8caf_11ea_acf6_d63a88ba66afrow16_col2\" class=\"data row16 col2\" >-0.060093</td>\n",
       "                        <td id=\"T_de771e62_8caf_11ea_acf6_d63a88ba66afrow16_col3\" class=\"data row16 col3\" >0.509947</td>\n",
       "                        <td id=\"T_de771e62_8caf_11ea_acf6_d63a88ba66afrow16_col4\" class=\"data row16 col4\" >0.359295</td>\n",
       "                        <td id=\"T_de771e62_8caf_11ea_acf6_d63a88ba66afrow16_col5\" class=\"data row16 col5\" >-0.388460</td>\n",
       "                        <td id=\"T_de771e62_8caf_11ea_acf6_d63a88ba66afrow16_col6\" class=\"data row16 col6\" >-0.351533</td>\n",
       "                        <td id=\"T_de771e62_8caf_11ea_acf6_d63a88ba66afrow16_col7\" class=\"data row16 col7\" >-0.274905</td>\n",
       "                        <td id=\"T_de771e62_8caf_11ea_acf6_d63a88ba66afrow16_col8\" class=\"data row16 col8\" >-0.351972</td>\n",
       "                        <td id=\"T_de771e62_8caf_11ea_acf6_d63a88ba66afrow16_col9\" class=\"data row16 col9\" >-0.203947</td>\n",
       "                        <td id=\"T_de771e62_8caf_11ea_acf6_d63a88ba66afrow16_col10\" class=\"data row16 col10\" >-0.199544</td>\n",
       "                        <td id=\"T_de771e62_8caf_11ea_acf6_d63a88ba66afrow16_col11\" class=\"data row16 col11\" >0.694676</td>\n",
       "                        <td id=\"T_de771e62_8caf_11ea_acf6_d63a88ba66afrow16_col12\" class=\"data row16 col12\" >0.767793</td>\n",
       "                        <td id=\"T_de771e62_8caf_11ea_acf6_d63a88ba66afrow16_col13\" class=\"data row16 col13\" >-0.174028</td>\n",
       "                        <td id=\"T_de771e62_8caf_11ea_acf6_d63a88ba66afrow16_col14\" class=\"data row16 col14\" >-0.012145</td>\n",
       "                        <td id=\"T_de771e62_8caf_11ea_acf6_d63a88ba66afrow16_col15\" class=\"data row16 col15\" >-0.112636</td>\n",
       "                        <td id=\"T_de771e62_8caf_11ea_acf6_d63a88ba66afrow16_col16\" class=\"data row16 col16\" >1.000000</td>\n",
       "                        <td id=\"T_de771e62_8caf_11ea_acf6_d63a88ba66afrow16_col17\" class=\"data row16 col17\" >-0.318448</td>\n",
       "                        <td id=\"T_de771e62_8caf_11ea_acf6_d63a88ba66afrow16_col18\" class=\"data row16 col18\" >0.000834</td>\n",
       "                        <td id=\"T_de771e62_8caf_11ea_acf6_d63a88ba66afrow16_col19\" class=\"data row16 col19\" >-0.001049</td>\n",
       "                        <td id=\"T_de771e62_8caf_11ea_acf6_d63a88ba66afrow16_col20\" class=\"data row16 col20\" >-0.164796</td>\n",
       "            </tr>\n",
       "            <tr>\n",
       "                        <th id=\"T_de771e62_8caf_11ea_acf6_d63a88ba66aflevel0_row17\" class=\"row_heading level0 row17\" >humidity</th>\n",
       "                        <td id=\"T_de771e62_8caf_11ea_acf6_d63a88ba66afrow17_col0\" class=\"data row17 col0\" >0.068579</td>\n",
       "                        <td id=\"T_de771e62_8caf_11ea_acf6_d63a88ba66afrow17_col1\" class=\"data row17 col1\" >-0.406402</td>\n",
       "                        <td id=\"T_de771e62_8caf_11ea_acf6_d63a88ba66afrow17_col2\" class=\"data row17 col2\" >0.247128</td>\n",
       "                        <td id=\"T_de771e62_8caf_11ea_acf6_d63a88ba66afrow17_col3\" class=\"data row17 col3\" >-0.375537</td>\n",
       "                        <td id=\"T_de771e62_8caf_11ea_acf6_d63a88ba66afrow17_col4\" class=\"data row17 col4\" >-0.565134</td>\n",
       "                        <td id=\"T_de771e62_8caf_11ea_acf6_d63a88ba66afrow17_col5\" class=\"data row17 col5\" >0.617538</td>\n",
       "                        <td id=\"T_de771e62_8caf_11ea_acf6_d63a88ba66afrow17_col6\" class=\"data row17 col6\" >0.907959</td>\n",
       "                        <td id=\"T_de771e62_8caf_11ea_acf6_d63a88ba66afrow17_col7\" class=\"data row17 col7\" >-0.052670</td>\n",
       "                        <td id=\"T_de771e62_8caf_11ea_acf6_d63a88ba66afrow17_col8\" class=\"data row17 col8\" >0.025834</td>\n",
       "                        <td id=\"T_de771e62_8caf_11ea_acf6_d63a88ba66afrow17_col9\" class=\"data row17 col9\" >0.460164</td>\n",
       "                        <td id=\"T_de771e62_8caf_11ea_acf6_d63a88ba66afrow17_col10\" class=\"data row17 col10\" >0.460723</td>\n",
       "                        <td id=\"T_de771e62_8caf_11ea_acf6_d63a88ba66afrow17_col11\" class=\"data row17 col11\" >-0.134657</td>\n",
       "                        <td id=\"T_de771e62_8caf_11ea_acf6_d63a88ba66afrow17_col12\" class=\"data row17 col12\" >-0.452851</td>\n",
       "                        <td id=\"T_de771e62_8caf_11ea_acf6_d63a88ba66afrow17_col13\" class=\"data row17 col13\" >0.339474</td>\n",
       "                        <td id=\"T_de771e62_8caf_11ea_acf6_d63a88ba66afrow17_col14\" class=\"data row17 col14\" >0.283171</td>\n",
       "                        <td id=\"T_de771e62_8caf_11ea_acf6_d63a88ba66afrow17_col15\" class=\"data row17 col15\" >0.406002</td>\n",
       "                        <td id=\"T_de771e62_8caf_11ea_acf6_d63a88ba66afrow17_col16\" class=\"data row17 col16\" >-0.318448</td>\n",
       "                        <td id=\"T_de771e62_8caf_11ea_acf6_d63a88ba66afrow17_col17\" class=\"data row17 col17\" >1.000000</td>\n",
       "                        <td id=\"T_de771e62_8caf_11ea_acf6_d63a88ba66afrow17_col18\" class=\"data row17 col18\" >-0.003714</td>\n",
       "                        <td id=\"T_de771e62_8caf_11ea_acf6_d63a88ba66afrow17_col19\" class=\"data row17 col19\" >-0.004449</td>\n",
       "                        <td id=\"T_de771e62_8caf_11ea_acf6_d63a88ba66afrow17_col20\" class=\"data row17 col20\" >0.584962</td>\n",
       "            </tr>\n",
       "            <tr>\n",
       "                        <th id=\"T_de771e62_8caf_11ea_acf6_d63a88ba66aflevel0_row18\" class=\"row_heading level0 row18\" >precipitation3pm</th>\n",
       "                        <td id=\"T_de771e62_8caf_11ea_acf6_d63a88ba66afrow18_col0\" class=\"data row18 col0\" >0.003508</td>\n",
       "                        <td id=\"T_de771e62_8caf_11ea_acf6_d63a88ba66afrow18_col1\" class=\"data row18 col1\" >0.003385</td>\n",
       "                        <td id=\"T_de771e62_8caf_11ea_acf6_d63a88ba66afrow18_col2\" class=\"data row18 col2\" >-0.007556</td>\n",
       "                        <td id=\"T_de771e62_8caf_11ea_acf6_d63a88ba66afrow18_col3\" class=\"data row18 col3\" >0.007043</td>\n",
       "                        <td id=\"T_de771e62_8caf_11ea_acf6_d63a88ba66afrow18_col4\" class=\"data row18 col4\" >-0.003376</td>\n",
       "                        <td id=\"T_de771e62_8caf_11ea_acf6_d63a88ba66afrow18_col5\" class=\"data row18 col5\" >-0.003913</td>\n",
       "                        <td id=\"T_de771e62_8caf_11ea_acf6_d63a88ba66afrow18_col6\" class=\"data row18 col6\" >-0.003120</td>\n",
       "                        <td id=\"T_de771e62_8caf_11ea_acf6_d63a88ba66afrow18_col7\" class=\"data row18 col7\" >-0.002484</td>\n",
       "                        <td id=\"T_de771e62_8caf_11ea_acf6_d63a88ba66afrow18_col8\" class=\"data row18 col8\" >-0.002560</td>\n",
       "                        <td id=\"T_de771e62_8caf_11ea_acf6_d63a88ba66afrow18_col9\" class=\"data row18 col9\" >-0.000451</td>\n",
       "                        <td id=\"T_de771e62_8caf_11ea_acf6_d63a88ba66afrow18_col10\" class=\"data row18 col10\" >0.000051</td>\n",
       "                        <td id=\"T_de771e62_8caf_11ea_acf6_d63a88ba66afrow18_col11\" class=\"data row18 col11\" >0.003672</td>\n",
       "                        <td id=\"T_de771e62_8caf_11ea_acf6_d63a88ba66afrow18_col12\" class=\"data row18 col12\" >0.003252</td>\n",
       "                        <td id=\"T_de771e62_8caf_11ea_acf6_d63a88ba66afrow18_col13\" class=\"data row18 col13\" >-0.001359</td>\n",
       "                        <td id=\"T_de771e62_8caf_11ea_acf6_d63a88ba66afrow18_col14\" class=\"data row18 col14\" >-0.003559</td>\n",
       "                        <td id=\"T_de771e62_8caf_11ea_acf6_d63a88ba66afrow18_col15\" class=\"data row18 col15\" >0.006578</td>\n",
       "                        <td id=\"T_de771e62_8caf_11ea_acf6_d63a88ba66afrow18_col16\" class=\"data row18 col16\" >0.000834</td>\n",
       "                        <td id=\"T_de771e62_8caf_11ea_acf6_d63a88ba66afrow18_col17\" class=\"data row18 col17\" >-0.003714</td>\n",
       "                        <td id=\"T_de771e62_8caf_11ea_acf6_d63a88ba66afrow18_col18\" class=\"data row18 col18\" >1.000000</td>\n",
       "                        <td id=\"T_de771e62_8caf_11ea_acf6_d63a88ba66afrow18_col19\" class=\"data row18 col19\" >0.004011</td>\n",
       "                        <td id=\"T_de771e62_8caf_11ea_acf6_d63a88ba66afrow18_col20\" class=\"data row18 col20\" >0.002956</td>\n",
       "            </tr>\n",
       "            <tr>\n",
       "                        <th id=\"T_de771e62_8caf_11ea_acf6_d63a88ba66aflevel0_row19\" class=\"row_heading level0 row19\" >precipitation9am</th>\n",
       "                        <td id=\"T_de771e62_8caf_11ea_acf6_d63a88ba66afrow19_col0\" class=\"data row19 col0\" >-0.001382</td>\n",
       "                        <td id=\"T_de771e62_8caf_11ea_acf6_d63a88ba66afrow19_col1\" class=\"data row19 col1\" >-0.001055</td>\n",
       "                        <td id=\"T_de771e62_8caf_11ea_acf6_d63a88ba66afrow19_col2\" class=\"data row19 col2\" >-0.003066</td>\n",
       "                        <td id=\"T_de771e62_8caf_11ea_acf6_d63a88ba66afrow19_col3\" class=\"data row19 col3\" >-0.000189</td>\n",
       "                        <td id=\"T_de771e62_8caf_11ea_acf6_d63a88ba66afrow19_col4\" class=\"data row19 col4\" >0.004404</td>\n",
       "                        <td id=\"T_de771e62_8caf_11ea_acf6_d63a88ba66afrow19_col5\" class=\"data row19 col5\" >-0.001670</td>\n",
       "                        <td id=\"T_de771e62_8caf_11ea_acf6_d63a88ba66afrow19_col6\" class=\"data row19 col6\" >-0.003777</td>\n",
       "                        <td id=\"T_de771e62_8caf_11ea_acf6_d63a88ba66afrow19_col7\" class=\"data row19 col7\" >0.003967</td>\n",
       "                        <td id=\"T_de771e62_8caf_11ea_acf6_d63a88ba66afrow19_col8\" class=\"data row19 col8\" >0.004046</td>\n",
       "                        <td id=\"T_de771e62_8caf_11ea_acf6_d63a88ba66afrow19_col9\" class=\"data row19 col9\" >-0.000973</td>\n",
       "                        <td id=\"T_de771e62_8caf_11ea_acf6_d63a88ba66afrow19_col10\" class=\"data row19 col10\" >-0.005084</td>\n",
       "                        <td id=\"T_de771e62_8caf_11ea_acf6_d63a88ba66afrow19_col11\" class=\"data row19 col11\" >-0.000129</td>\n",
       "                        <td id=\"T_de771e62_8caf_11ea_acf6_d63a88ba66afrow19_col12\" class=\"data row19 col12\" >-0.000318</td>\n",
       "                        <td id=\"T_de771e62_8caf_11ea_acf6_d63a88ba66afrow19_col13\" class=\"data row19 col13\" >-0.002866</td>\n",
       "                        <td id=\"T_de771e62_8caf_11ea_acf6_d63a88ba66afrow19_col14\" class=\"data row19 col14\" >-0.008993</td>\n",
       "                        <td id=\"T_de771e62_8caf_11ea_acf6_d63a88ba66afrow19_col15\" class=\"data row19 col15\" >-0.013366</td>\n",
       "                        <td id=\"T_de771e62_8caf_11ea_acf6_d63a88ba66afrow19_col16\" class=\"data row19 col16\" >-0.001049</td>\n",
       "                        <td id=\"T_de771e62_8caf_11ea_acf6_d63a88ba66afrow19_col17\" class=\"data row19 col17\" >-0.004449</td>\n",
       "                        <td id=\"T_de771e62_8caf_11ea_acf6_d63a88ba66afrow19_col18\" class=\"data row19 col18\" >0.004011</td>\n",
       "                        <td id=\"T_de771e62_8caf_11ea_acf6_d63a88ba66afrow19_col19\" class=\"data row19 col19\" >1.000000</td>\n",
       "                        <td id=\"T_de771e62_8caf_11ea_acf6_d63a88ba66afrow19_col20\" class=\"data row19 col20\" >-0.009939</td>\n",
       "            </tr>\n",
       "            <tr>\n",
       "                        <th id=\"T_de771e62_8caf_11ea_acf6_d63a88ba66aflevel0_row20\" class=\"row_heading level0 row20\" >modelo_vigente</th>\n",
       "                        <td id=\"T_de771e62_8caf_11ea_acf6_d63a88ba66afrow20_col0\" class=\"data row20 col0\" >0.135744</td>\n",
       "                        <td id=\"T_de771e62_8caf_11ea_acf6_d63a88ba66afrow20_col1\" class=\"data row20 col1\" >-0.212616</td>\n",
       "                        <td id=\"T_de771e62_8caf_11ea_acf6_d63a88ba66afrow20_col2\" class=\"data row20 col2\" >0.371184</td>\n",
       "                        <td id=\"T_de771e62_8caf_11ea_acf6_d63a88ba66afrow20_col3\" class=\"data row20 col3\" >-0.183537</td>\n",
       "                        <td id=\"T_de771e62_8caf_11ea_acf6_d63a88ba66afrow20_col4\" class=\"data row20 col4\" >-0.643104</td>\n",
       "                        <td id=\"T_de771e62_8caf_11ea_acf6_d63a88ba66afrow20_col5\" class=\"data row20 col5\" >0.392692</td>\n",
       "                        <td id=\"T_de771e62_8caf_11ea_acf6_d63a88ba66afrow20_col6\" class=\"data row20 col6\" >0.644851</td>\n",
       "                        <td id=\"T_de771e62_8caf_11ea_acf6_d63a88ba66afrow20_col7\" class=\"data row20 col7\" >-0.371539</td>\n",
       "                        <td id=\"T_de771e62_8caf_11ea_acf6_d63a88ba66afrow20_col8\" class=\"data row20 col8\" >-0.322904</td>\n",
       "                        <td id=\"T_de771e62_8caf_11ea_acf6_d63a88ba66afrow20_col9\" class=\"data row20 col9\" >0.473697</td>\n",
       "                        <td id=\"T_de771e62_8caf_11ea_acf6_d63a88ba66afrow20_col10\" class=\"data row20 col10\" >0.558326</td>\n",
       "                        <td id=\"T_de771e62_8caf_11ea_acf6_d63a88ba66afrow20_col11\" class=\"data row20 col11\" >-0.025092</td>\n",
       "                        <td id=\"T_de771e62_8caf_11ea_acf6_d63a88ba66afrow20_col12\" class=\"data row20 col12\" >-0.264061</td>\n",
       "                        <td id=\"T_de771e62_8caf_11ea_acf6_d63a88ba66afrow20_col13\" class=\"data row20 col13\" >0.453866</td>\n",
       "                        <td id=\"T_de771e62_8caf_11ea_acf6_d63a88ba66afrow20_col14\" class=\"data row20 col14\" >0.505059</td>\n",
       "                        <td id=\"T_de771e62_8caf_11ea_acf6_d63a88ba66afrow20_col15\" class=\"data row20 col15\" >0.863107</td>\n",
       "                        <td id=\"T_de771e62_8caf_11ea_acf6_d63a88ba66afrow20_col16\" class=\"data row20 col16\" >-0.164796</td>\n",
       "                        <td id=\"T_de771e62_8caf_11ea_acf6_d63a88ba66afrow20_col17\" class=\"data row20 col17\" >0.584962</td>\n",
       "                        <td id=\"T_de771e62_8caf_11ea_acf6_d63a88ba66afrow20_col18\" class=\"data row20 col18\" >0.002956</td>\n",
       "                        <td id=\"T_de771e62_8caf_11ea_acf6_d63a88ba66afrow20_col19\" class=\"data row20 col19\" >-0.009939</td>\n",
       "                        <td id=\"T_de771e62_8caf_11ea_acf6_d63a88ba66afrow20_col20\" class=\"data row20 col20\" >1.000000</td>\n",
       "            </tr>\n",
       "    </tbody></table>"
      ],
      "text/plain": [
       "<pandas.io.formats.style.Styler at 0x25456557188>"
      ]
     },
     "execution_count": 11,
     "metadata": {},
     "output_type": "execute_result"
    }
   ],
   "source": [
    "rain.corr().style.background_gradient(cmap='coolwarm')"
   ]
  },
  {
   "cell_type": "markdown",
   "metadata": {},
   "source": [
    "Vamos ter que tirar o Amount of Rain e o Modelo Vigente,pois está diretamente relacionado ao overfitting."
   ]
  },
  {
   "cell_type": "code",
   "execution_count": 12,
   "metadata": {},
   "outputs": [
    {
     "data": {
      "text/plain": [
       "LogisticRegression(C=1.0, class_weight=None, dual=False, fit_intercept=True,\n",
       "                   intercept_scaling=1, l1_ratio=None, max_iter=10000,\n",
       "                   multi_class='auto', n_jobs=None, penalty='l2',\n",
       "                   random_state=None, solver='lbfgs', tol=0.0001, verbose=0,\n",
       "                   warm_start=False)"
      ]
     },
     "execution_count": 12,
     "metadata": {},
     "output_type": "execute_result"
    }
   ],
   "source": [
    "X = rain[[ 'mintemp', 'maxtemp', 'rainfall', 'evaporation',\n",
    "       'sunshine', 'humidity9am', 'humidity3pm', 'pressure9am', 'pressure3pm',\n",
    "       'cloud9am', 'cloud3pm', 'temp9am', 'temp3pm', 'raintoday',\n",
    "       'temp', 'humidity', 'precipitation3pm','precipitation9am']]\n",
    "y = rain['raintomorrow']\n",
    "model = LogisticRegression(max_iter=10000)\n",
    "model.fit(X,y)"
   ]
  },
  {
   "cell_type": "code",
   "execution_count": 13,
   "metadata": {
    "scrolled": true
   },
   "outputs": [
    {
     "data": {
      "text/plain": [
       "0.8372847960205433"
      ]
     },
     "execution_count": 13,
     "metadata": {},
     "output_type": "execute_result"
    }
   ],
   "source": [
    "model.score(X, y)"
   ]
  },
  {
   "cell_type": "code",
   "execution_count": 14,
   "metadata": {},
   "outputs": [
    {
     "data": {
      "text/plain": [
       "0.8360359196330512"
      ]
     },
     "execution_count": 14,
     "metadata": {},
     "output_type": "execute_result"
    }
   ],
   "source": [
    "X_train, X_test, y_train, y_test = train_test_split(X, y, test_size=0.75, random_state=7)\n",
    "model.score(X_train, y_train)"
   ]
  },
  {
   "cell_type": "code",
   "execution_count": 15,
   "metadata": {},
   "outputs": [
    {
     "data": {
      "text/plain": [
       "0.8377010702211504"
      ]
     },
     "execution_count": 15,
     "metadata": {},
     "output_type": "execute_result"
    }
   ],
   "source": [
    "model.score(X_test, y_test)"
   ]
  },
  {
   "cell_type": "code",
   "execution_count": 16,
   "metadata": {},
   "outputs": [
    {
     "data": {
      "image/png": "[encoded data removed]",
      "text/plain": [
       "<Figure size 432x288 with 2 Axes>"
      ]
     },
     "metadata": {
      "needs_background": "light"
     },
     "output_type": "display_data"
    }
   ],
   "source": [
    "plot_confusion_matrix(model, X_test, y_test, values_format='.0f')\n",
    "plt.grid(False)"
   ]
  },
  {
   "cell_type": "markdown",
   "metadata": {},
   "source": [
    "Taxa de acerto e a taxa de captura está quanto ?"
   ]
  },
  {
   "cell_type": "code",
   "execution_count": 17,
   "metadata": {},
   "outputs": [
    {
     "name": "stdout",
     "output_type": "stream",
     "text": [
      "Taxa de acerto: 0.7020218401989404\n",
      "Taxa de captura: 0.47009846510280917\n"
     ]
    }
   ],
   "source": [
    "print('Taxa de acerto:', + precision_score(y, model.predict(X)))\n",
    "print('Taxa de captura:', + recall_score(y, model.predict(X)))"
   ]
  },
  {
   "cell_type": "markdown",
   "metadata": {},
   "source": [
    "Se quer aumentar a taxa de acerto, a taxa de captura diminui.\n",
    "\n",
    "Se quiser aumentar a taxa de captura, a taxa de acerto diminui.\n",
    "\n"
   ]
  },
  {
   "cell_type": "code",
   "execution_count": null,
   "metadata": {},
   "outputs": [],
   "source": []
  },
  {
   "cell_type": "markdown",
   "metadata": {
    "heading_collapsed": true
   },
   "source": [
    "# Mesclar dataframes\n",
    "Tentativa de mesclar os dataframes para melhorar o modelo"
   ]
  },
  {
   "cell_type": "code",
   "execution_count": 22,
   "metadata": {
    "hidden": true
   },
   "outputs": [],
   "source": [
    "df = rain.merge(wind, on=['date','location'], how='left').drop_duplicates().drop(columns=['date', 'location']).fillna(0)"
   ]
  },
  {
   "cell_type": "code",
   "execution_count": 23,
   "metadata": {
    "hidden": true
   },
   "outputs": [
    {
     "data": {
      "text/plain": [
       "<matplotlib.axes._subplots.AxesSubplot at 0x254563dfbc8>"
      ]
     },
     "execution_count": 23,
     "metadata": {},
     "output_type": "execute_result"
    },
    {
     "data": {
      "image/png": "[encoded data removed]",
      "text/plain": [
       "<Figure size 432x288 with 2 Axes>"
      ]
     },
     "metadata": {
      "needs_background": "light"
     },
     "output_type": "display_data"
    }
   ],
   "source": [
    "sns.heatmap(df.corr())"
   ]
  },
  {
   "cell_type": "markdown",
   "metadata": {
    "hidden": true
   },
   "source": [
    "## Regressão Logística com a velocidade dos ventos"
   ]
  },
  {
   "cell_type": "code",
   "execution_count": 24,
   "metadata": {
    "hidden": true
   },
   "outputs": [
    {
     "data": {
      "text/plain": [
       "LogisticRegression(C=1.0, class_weight=None, dual=False, fit_intercept=True,\n",
       "                   intercept_scaling=1, l1_ratio=None, max_iter=100,\n",
       "                   multi_class='auto', n_jobs=None, penalty='l2',\n",
       "                   random_state=None, solver='lbfgs', tol=0.0001, verbose=0,\n",
       "                   warm_start=False)"
      ]
     },
     "execution_count": 24,
     "metadata": {},
     "output_type": "execute_result"
    }
   ],
   "source": [
    "X = df[['windgustspeed', 'windspeed9am','windspeed3pm']]\n",
    "y = df['raintomorrow']\n",
    "model = LogisticRegression()\n",
    "model.fit(X,y)"
   ]
  },
  {
   "cell_type": "code",
   "execution_count": 25,
   "metadata": {
    "hidden": true
   },
   "outputs": [
    {
     "data": {
      "text/plain": [
       "0.7777059982557576"
      ]
     },
     "execution_count": 25,
     "metadata": {},
     "output_type": "execute_result"
    }
   ],
   "source": [
    "model.score(X, y)"
   ]
  },
  {
   "cell_type": "code",
   "execution_count": 26,
   "metadata": {
    "hidden": true
   },
   "outputs": [
    {
     "data": {
      "text/plain": [
       "0.7746624458944377"
      ]
     },
     "execution_count": 26,
     "metadata": {},
     "output_type": "execute_result"
    }
   ],
   "source": [
    "X_train, X_test, y_train, y_test = train_test_split(X, y, test_size=0.75, random_state=7)\n",
    "model.score(X_train, y_train)"
   ]
  },
  {
   "cell_type": "code",
   "execution_count": 27,
   "metadata": {
    "hidden": true
   },
   "outputs": [
    {
     "data": {
      "text/plain": [
       "0.7787204720170546"
      ]
     },
     "execution_count": 27,
     "metadata": {},
     "output_type": "execute_result"
    }
   ],
   "source": [
    "model.score(X_test, y_test)"
   ]
  },
  {
   "cell_type": "code",
   "execution_count": 28,
   "metadata": {
    "hidden": true
   },
   "outputs": [
    {
     "data": {
      "image/png": "[encoded data removed]",
      "text/plain": [
       "<Figure size 432x288 with 2 Axes>"
      ]
     },
     "metadata": {
      "needs_background": "light"
     },
     "output_type": "display_data"
    }
   ],
   "source": [
    "plot_confusion_matrix(model, X_test, y_test, values_format='.0f')\n",
    "plt.grid(False)"
   ]
  },
  {
   "cell_type": "markdown",
   "metadata": {
    "hidden": true
   },
   "source": [
    "Taxa de acerto e a taxa de captura ficou em quanto ?"
   ]
  },
  {
   "cell_type": "code",
   "execution_count": 29,
   "metadata": {
    "hidden": true
   },
   "outputs": [
    {
     "name": "stdout",
     "output_type": "stream",
     "text": [
      "Taxa de acerto: 0.6224489795918368\n",
      "Taxa de captura: 0.008832898928468\n"
     ]
    }
   ],
   "source": [
    "print('Taxa de acerto:', + precision_score(y, model.predict(X)))\n",
    "print('Taxa de captura:', + recall_score(y, model.predict(X)))"
   ]
  },
  {
   "cell_type": "markdown",
   "metadata": {
    "hidden": true
   },
   "source": [
    "## Dummies"
   ]
  },
  {
   "cell_type": "code",
   "execution_count": 30,
   "metadata": {
    "hidden": true
   },
   "outputs": [],
   "source": [
    "dfd = pd.get_dummies(df)"
   ]
  },
  {
   "cell_type": "code",
   "execution_count": 31,
   "metadata": {
    "hidden": true
   },
   "outputs": [
    {
     "data": {
      "text/plain": [
       "LogisticRegression(C=1.0, class_weight=None, dual=False, fit_intercept=True,\n",
       "                   intercept_scaling=1, l1_ratio=None, max_iter=10000,\n",
       "                   multi_class='auto', n_jobs=None, penalty='l2',\n",
       "                   random_state=None, solver='lbfgs', tol=0.0001, verbose=0,\n",
       "                   warm_start=False)"
      ]
     },
     "execution_count": 31,
     "metadata": {},
     "output_type": "execute_result"
    }
   ],
   "source": [
    "X = dfd[['mintemp', 'maxtemp', 'rainfall', 'evaporation', 'sunshine',\n",
    "       'humidity9am', 'humidity3pm', 'pressure9am', 'pressure3pm', 'cloud9am',\n",
    "       'cloud3pm', 'temp9am', 'temp3pm', 'raintoday',\n",
    "       'temp', 'humidity', 'precipitation3pm',\n",
    "       'precipitation9am', 'windgustspeed', 'windspeed9am',\n",
    "       'windspeed3pm', 'windgustdir_0', 'windgustdir_E', 'windgustdir_ENE',\n",
    "       'windgustdir_ESE', 'windgustdir_N', 'windgustdir_NE', 'windgustdir_NNE',\n",
    "       'windgustdir_NNW', 'windgustdir_NW', 'windgustdir_S', 'windgustdir_SE',\n",
    "       'windgustdir_SSE', 'windgustdir_SSW', 'windgustdir_SW', 'windgustdir_W',\n",
    "       'windgustdir_WNW', 'windgustdir_WSW', 'winddir9am_0', 'winddir9am_E',\n",
    "       'winddir9am_ENE', 'winddir9am_ESE', 'winddir9am_N', 'winddir9am_NE',\n",
    "       'winddir9am_NNE', 'winddir9am_NNW', 'winddir9am_NW', 'winddir9am_S',\n",
    "       'winddir9am_SE', 'winddir9am_SSE', 'winddir9am_SSW', 'winddir9am_SW',\n",
    "       'winddir9am_W', 'winddir9am_WNW', 'winddir9am_WSW', 'winddir3pm_0',\n",
    "       'winddir3pm_E', 'winddir3pm_ENE', 'winddir3pm_ESE', 'winddir3pm_N',\n",
    "       'winddir3pm_NE', 'winddir3pm_NNE', 'winddir3pm_NNW', 'winddir3pm_NW',\n",
    "       'winddir3pm_S', 'winddir3pm_SE', 'winddir3pm_SSE', 'winddir3pm_SSW',\n",
    "       'winddir3pm_SW', 'winddir3pm_W', 'winddir3pm_WNW', 'winddir3pm_WSW']]\n",
    "y = dfd['raintomorrow']\n",
    "model = LogisticRegression(max_iter=10000)\n",
    "model.fit(X,y)"
   ]
  },
  {
   "cell_type": "code",
   "execution_count": 32,
   "metadata": {
    "hidden": true
   },
   "outputs": [
    {
     "data": {
      "text/plain": [
       "0.8517070964824445"
      ]
     },
     "execution_count": 32,
     "metadata": {},
     "output_type": "execute_result"
    }
   ],
   "source": [
    "model.score(X, y)"
   ]
  },
  {
   "cell_type": "code",
   "execution_count": 33,
   "metadata": {
    "hidden": true
   },
   "outputs": [
    {
     "data": {
      "text/plain": [
       "0.8494088765424123"
      ]
     },
     "execution_count": 33,
     "metadata": {},
     "output_type": "execute_result"
    }
   ],
   "source": [
    "X_train, X_test, y_train, y_test = train_test_split(X, y, test_size=0.75, random_state=7)\n",
    "model.score(X_train, y_train)"
   ]
  },
  {
   "cell_type": "code",
   "execution_count": 34,
   "metadata": {
    "hidden": true
   },
   "outputs": [
    {
     "data": {
      "text/plain": [
       "0.8524731368031181"
      ]
     },
     "execution_count": 34,
     "metadata": {},
     "output_type": "execute_result"
    }
   ],
   "source": [
    "model.score(X_test, y_test)"
   ]
  },
  {
   "cell_type": "code",
   "execution_count": 35,
   "metadata": {
    "hidden": true
   },
   "outputs": [
    {
     "data": {
      "image/png": "[encoded data removed]",
      "text/plain": [
       "<Figure size 432x288 with 2 Axes>"
      ]
     },
     "metadata": {
      "needs_background": "light"
     },
     "output_type": "display_data"
    }
   ],
   "source": [
    "plot_confusion_matrix(model, X_test, y_test, values_format='.0f')\n",
    "plt.grid(False)"
   ]
  },
  {
   "cell_type": "code",
   "execution_count": 36,
   "metadata": {
    "hidden": true
   },
   "outputs": [
    {
     "name": "stdout",
     "output_type": "stream",
     "text": [
      "Taxa de acerto: 0.7288453934361407\n",
      "Taxa de captura: 0.5338111786852012\n"
     ]
    }
   ],
   "source": [
    "print('Taxa de acerto:', + precision_score(y, model.predict(X)))\n",
    "print('Taxa de captura:', + recall_score(y, model.predict(X)))"
   ]
  },
  {
   "cell_type": "markdown",
   "metadata": {
    "hidden": true
   },
   "source": [
    "## Cotovelos"
   ]
  },
  {
   "cell_type": "code",
   "execution_count": 37,
   "metadata": {
    "hidden": true
   },
   "outputs": [
    {
     "data": {
      "image/png": "[encoded data removed]",
      "text/plain": [
       "<Figure size 432x288 with 2 Axes>"
      ]
     },
     "metadata": {},
     "output_type": "display_data"
    },
    {
     "data": {
      "text/plain": [
       "<matplotlib.axes._subplots.AxesSubplot at 0x25456adffc8>"
      ]
     },
     "execution_count": 37,
     "metadata": {},
     "output_type": "execute_result"
    }
   ],
   "source": [
    "model = KMeans()\n",
    "visualizer = KElbowVisualizer(model, k=(1,20))\n",
    "visualizer.fit(dfd)\n",
    "visualizer.show()"
   ]
  },
  {
   "cell_type": "code",
   "execution_count": 38,
   "metadata": {
    "hidden": true
   },
   "outputs": [
    {
     "data": {
      "text/plain": [
       "KMeans(algorithm='auto', copy_x=True, init='k-means++', max_iter=300,\n",
       "       n_clusters=5, n_init=10, n_jobs=None, precompute_distances='auto',\n",
       "       random_state=None, tol=0.0001, verbose=0)"
      ]
     },
     "execution_count": 38,
     "metadata": {},
     "output_type": "execute_result"
    }
   ],
   "source": [
    "model = KMeans(n_clusters=5)\n",
    "model.fit(X)"
   ]
  },
  {
   "cell_type": "code",
   "execution_count": 39,
   "metadata": {
    "hidden": true
   },
   "outputs": [],
   "source": [
    "dfd['labels'] = model.labels_"
   ]
  },
  {
   "cell_type": "code",
   "execution_count": 40,
   "metadata": {
    "hidden": true
   },
   "outputs": [],
   "source": [
    "modelo = LogisticRegression(max_iter=10000)"
   ]
  },
  {
   "cell_type": "markdown",
   "metadata": {
    "hidden": true
   },
   "source": [
    "## Mascaras"
   ]
  },
  {
   "cell_type": "code",
   "execution_count": 41,
   "metadata": {
    "hidden": true
   },
   "outputs": [
    {
     "data": {
      "text/plain": [
       "LogisticRegression(C=1.0, class_weight=None, dual=False, fit_intercept=True,\n",
       "                   intercept_scaling=1, l1_ratio=None, max_iter=10000,\n",
       "                   multi_class='auto', n_jobs=None, penalty='l2',\n",
       "                   random_state=None, solver='lbfgs', tol=0.0001, verbose=0,\n",
       "                   warm_start=False)"
      ]
     },
     "execution_count": 41,
     "metadata": {},
     "output_type": "execute_result"
    }
   ],
   "source": [
    "mask = dfd['labels'] == 0\n",
    "X = dfd[mask].drop(columns=['raintomorrow', 'amountOfRain', 'modelo_vigente', 'labels']) \n",
    "y = dfd[mask]['raintomorrow']\n",
    "modelo.fit(X,y)"
   ]
  },
  {
   "cell_type": "code",
   "execution_count": 42,
   "metadata": {
    "hidden": true
   },
   "outputs": [
    {
     "data": {
      "text/plain": [
       "0.8012533022055661"
      ]
     },
     "execution_count": 42,
     "metadata": {},
     "output_type": "execute_result"
    }
   ],
   "source": [
    "modelo.score(X,y)"
   ]
  },
  {
   "cell_type": "code",
   "execution_count": 43,
   "metadata": {
    "hidden": true
   },
   "outputs": [
    {
     "data": {
      "text/plain": [
       "0.7994593266158762"
      ]
     },
     "execution_count": 43,
     "metadata": {},
     "output_type": "execute_result"
    }
   ],
   "source": [
    "X_train, X_test, y_train, y_test = train_test_split(X, y, test_size=0.75, random_state=7)\n",
    "modelo.score(X_train, y_train)"
   ]
  },
  {
   "cell_type": "code",
   "execution_count": 44,
   "metadata": {
    "hidden": true,
    "scrolled": true
   },
   "outputs": [
    {
     "data": {
      "text/plain": [
       "0.80185124508519"
      ]
     },
     "execution_count": 44,
     "metadata": {},
     "output_type": "execute_result"
    }
   ],
   "source": [
    "modelo.score(X_test, y_test)"
   ]
  },
  {
   "cell_type": "markdown",
   "metadata": {
    "hidden": true
   },
   "source": [
    "**Fazer função para colocar labels nos 5**"
   ]
  },
  {
   "cell_type": "markdown",
   "metadata": {
    "heading_collapsed": true
   },
   "source": [
    "# Não dropar o NaN do 'Rain'\n",
    "Como foi dropado os missings do DataFrame 'Rain', dessa vez vamos tentar substituir eles por 0"
   ]
  },
  {
   "cell_type": "markdown",
   "metadata": {
    "hidden": true
   },
   "source": [
    "## Ler o dataframe e tratar"
   ]
  },
  {
   "cell_type": "code",
   "execution_count": 45,
   "metadata": {
    "hidden": true
   },
   "outputs": [],
   "source": [
    "rain = pd.read_csv('data/rain_data_aus.csv')\n",
    "rain.fillna(0)\n",
    "rain['raintoday'] = rain['raintoday'].replace('No', 0).replace('Yes', 1)\n",
    "rain['raintomorrow'] = rain['raintomorrow'].replace('No', 0).replace('Yes', 1)"
   ]
  },
  {
   "cell_type": "markdown",
   "metadata": {
    "hidden": true
   },
   "source": [
    "## Mesclar dataframes"
   ]
  },
  {
   "cell_type": "code",
   "execution_count": 46,
   "metadata": {
    "hidden": true
   },
   "outputs": [],
   "source": [
    "df = rain.merge(wind, on=['date','location'], how='left').drop_duplicates().drop(columns=['date', 'location']).fillna(0)"
   ]
  },
  {
   "cell_type": "markdown",
   "metadata": {
    "hidden": true
   },
   "source": [
    "## Dummies"
   ]
  },
  {
   "cell_type": "code",
   "execution_count": 47,
   "metadata": {
    "hidden": true
   },
   "outputs": [],
   "source": [
    "df = pd.get_dummies(df)"
   ]
  },
  {
   "cell_type": "code",
   "execution_count": 48,
   "metadata": {
    "hidden": true
   },
   "outputs": [],
   "source": [
    "df = df.sample(10000)"
   ]
  },
  {
   "cell_type": "code",
   "execution_count": 49,
   "metadata": {
    "hidden": true,
    "scrolled": true
   },
   "outputs": [
    {
     "data": {
      "text/html": [
       "<div>\n",
       "<style scoped>\n",
       "    .dataframe tbody tr th:only-of-type {\n",
       "        vertical-align: middle;\n",
       "    }\n",
       "\n",
       "    .dataframe tbody tr th {\n",
       "        vertical-align: top;\n",
       "    }\n",
       "\n",
       "    .dataframe thead th {\n",
       "        text-align: right;\n",
       "    }\n",
       "</style>\n",
       "<table border=\"1\" class=\"dataframe\">\n",
       "  <thead>\n",
       "    <tr style=\"text-align: right;\">\n",
       "      <th></th>\n",
       "      <th>mintemp</th>\n",
       "      <th>maxtemp</th>\n",
       "      <th>rainfall</th>\n",
       "      <th>evaporation</th>\n",
       "      <th>sunshine</th>\n",
       "      <th>humidity9am</th>\n",
       "      <th>humidity3pm</th>\n",
       "      <th>pressure9am</th>\n",
       "      <th>pressure3pm</th>\n",
       "      <th>cloud9am</th>\n",
       "      <th>...</th>\n",
       "      <th>winddir3pm_NNW</th>\n",
       "      <th>winddir3pm_NW</th>\n",
       "      <th>winddir3pm_S</th>\n",
       "      <th>winddir3pm_SE</th>\n",
       "      <th>winddir3pm_SSE</th>\n",
       "      <th>winddir3pm_SSW</th>\n",
       "      <th>winddir3pm_SW</th>\n",
       "      <th>winddir3pm_W</th>\n",
       "      <th>winddir3pm_WNW</th>\n",
       "      <th>winddir3pm_WSW</th>\n",
       "    </tr>\n",
       "  </thead>\n",
       "  <tbody>\n",
       "    <tr>\n",
       "      <th>19710</th>\n",
       "      <td>0.0</td>\n",
       "      <td>29.0</td>\n",
       "      <td>0.0</td>\n",
       "      <td>0.0</td>\n",
       "      <td>0.0</td>\n",
       "      <td>0.0</td>\n",
       "      <td>0.0</td>\n",
       "      <td>0.0</td>\n",
       "      <td>0.0</td>\n",
       "      <td>0.0</td>\n",
       "      <td>...</td>\n",
       "      <td>0</td>\n",
       "      <td>0</td>\n",
       "      <td>0</td>\n",
       "      <td>0</td>\n",
       "      <td>0</td>\n",
       "      <td>0</td>\n",
       "      <td>0</td>\n",
       "      <td>0</td>\n",
       "      <td>0</td>\n",
       "      <td>0</td>\n",
       "    </tr>\n",
       "    <tr>\n",
       "      <th>59141</th>\n",
       "      <td>7.3</td>\n",
       "      <td>18.8</td>\n",
       "      <td>0.0</td>\n",
       "      <td>0.7</td>\n",
       "      <td>3.4</td>\n",
       "      <td>65.0</td>\n",
       "      <td>51.0</td>\n",
       "      <td>1024.3</td>\n",
       "      <td>1021.1</td>\n",
       "      <td>8.0</td>\n",
       "      <td>...</td>\n",
       "      <td>0</td>\n",
       "      <td>0</td>\n",
       "      <td>0</td>\n",
       "      <td>0</td>\n",
       "      <td>0</td>\n",
       "      <td>0</td>\n",
       "      <td>0</td>\n",
       "      <td>0</td>\n",
       "      <td>0</td>\n",
       "      <td>0</td>\n",
       "    </tr>\n",
       "    <tr>\n",
       "      <th>13439</th>\n",
       "      <td>18.6</td>\n",
       "      <td>28.2</td>\n",
       "      <td>0.0</td>\n",
       "      <td>6.6</td>\n",
       "      <td>0.0</td>\n",
       "      <td>0.0</td>\n",
       "      <td>0.0</td>\n",
       "      <td>1018.3</td>\n",
       "      <td>1016.7</td>\n",
       "      <td>6.0</td>\n",
       "      <td>...</td>\n",
       "      <td>0</td>\n",
       "      <td>0</td>\n",
       "      <td>0</td>\n",
       "      <td>0</td>\n",
       "      <td>0</td>\n",
       "      <td>0</td>\n",
       "      <td>0</td>\n",
       "      <td>0</td>\n",
       "      <td>0</td>\n",
       "      <td>0</td>\n",
       "    </tr>\n",
       "    <tr>\n",
       "      <th>128799</th>\n",
       "      <td>10.2</td>\n",
       "      <td>31.4</td>\n",
       "      <td>0.0</td>\n",
       "      <td>4.0</td>\n",
       "      <td>7.3</td>\n",
       "      <td>48.0</td>\n",
       "      <td>23.0</td>\n",
       "      <td>1018.5</td>\n",
       "      <td>1013.6</td>\n",
       "      <td>6.0</td>\n",
       "      <td>...</td>\n",
       "      <td>0</td>\n",
       "      <td>0</td>\n",
       "      <td>0</td>\n",
       "      <td>0</td>\n",
       "      <td>0</td>\n",
       "      <td>0</td>\n",
       "      <td>0</td>\n",
       "      <td>0</td>\n",
       "      <td>0</td>\n",
       "      <td>0</td>\n",
       "    </tr>\n",
       "    <tr>\n",
       "      <th>101250</th>\n",
       "      <td>13.6</td>\n",
       "      <td>22.8</td>\n",
       "      <td>2.4</td>\n",
       "      <td>5.0</td>\n",
       "      <td>3.7</td>\n",
       "      <td>100.0</td>\n",
       "      <td>60.0</td>\n",
       "      <td>1012.2</td>\n",
       "      <td>1010.4</td>\n",
       "      <td>8.0</td>\n",
       "      <td>...</td>\n",
       "      <td>0</td>\n",
       "      <td>0</td>\n",
       "      <td>0</td>\n",
       "      <td>0</td>\n",
       "      <td>0</td>\n",
       "      <td>1</td>\n",
       "      <td>0</td>\n",
       "      <td>0</td>\n",
       "      <td>0</td>\n",
       "      <td>0</td>\n",
       "    </tr>\n",
       "  </tbody>\n",
       "</table>\n",
       "<p>5 rows × 75 columns</p>\n",
       "</div>"
      ],
      "text/plain": [
       "        mintemp  maxtemp  rainfall  evaporation  sunshine  humidity9am  \\\n",
       "19710       0.0     29.0       0.0          0.0       0.0          0.0   \n",
       "59141       7.3     18.8       0.0          0.7       3.4         65.0   \n",
       "13439      18.6     28.2       0.0          6.6       0.0          0.0   \n",
       "128799     10.2     31.4       0.0          4.0       7.3         48.0   \n",
       "101250     13.6     22.8       2.4          5.0       3.7        100.0   \n",
       "\n",
       "        humidity3pm  pressure9am  pressure3pm  cloud9am  ...  winddir3pm_NNW  \\\n",
       "19710           0.0          0.0          0.0       0.0  ...               0   \n",
       "59141          51.0       1024.3       1021.1       8.0  ...               0   \n",
       "13439           0.0       1018.3       1016.7       6.0  ...               0   \n",
       "128799         23.0       1018.5       1013.6       6.0  ...               0   \n",
       "101250         60.0       1012.2       1010.4       8.0  ...               0   \n",
       "\n",
       "        winddir3pm_NW  winddir3pm_S  winddir3pm_SE  winddir3pm_SSE  \\\n",
       "19710               0             0              0               0   \n",
       "59141               0             0              0               0   \n",
       "13439               0             0              0               0   \n",
       "128799              0             0              0               0   \n",
       "101250              0             0              0               0   \n",
       "\n",
       "        winddir3pm_SSW  winddir3pm_SW  winddir3pm_W  winddir3pm_WNW  \\\n",
       "19710                0              0             0               0   \n",
       "59141                0              0             0               0   \n",
       "13439                0              0             0               0   \n",
       "128799               0              0             0               0   \n",
       "101250               1              0             0               0   \n",
       "\n",
       "        winddir3pm_WSW  \n",
       "19710                0  \n",
       "59141                0  \n",
       "13439                0  \n",
       "128799               0  \n",
       "101250               0  \n",
       "\n",
       "[5 rows x 75 columns]"
      ]
     },
     "execution_count": 49,
     "metadata": {},
     "output_type": "execute_result"
    }
   ],
   "source": [
    "df.head()"
   ]
  },
  {
   "cell_type": "markdown",
   "metadata": {
    "hidden": true
   },
   "source": [
    "## Cotovelos"
   ]
  },
  {
   "cell_type": "code",
   "execution_count": 50,
   "metadata": {
    "hidden": true
   },
   "outputs": [
    {
     "data": {
      "image/png": "[encoded data removed]",
      "text/plain": [
       "<Figure size 432x288 with 2 Axes>"
      ]
     },
     "metadata": {},
     "output_type": "display_data"
    },
    {
     "data": {
      "text/plain": [
       "<matplotlib.axes._subplots.AxesSubplot at 0x25455f65c48>"
      ]
     },
     "execution_count": 50,
     "metadata": {},
     "output_type": "execute_result"
    }
   ],
   "source": [
    "model = KMeans()\n",
    "visualizer = KElbowVisualizer(model, k=(1,20))\n",
    "visualizer.fit(df.drop(columns=['raintomorrow']))\n",
    "visualizer.show()"
   ]
  },
  {
   "cell_type": "code",
   "execution_count": 51,
   "metadata": {
    "hidden": true
   },
   "outputs": [
    {
     "data": {
      "text/plain": [
       "KMeans(algorithm='auto', copy_x=True, init='k-means++', max_iter=300,\n",
       "       n_clusters=2, n_init=10, n_jobs=-1, precompute_distances='auto',\n",
       "       random_state=None, tol=0.0001, verbose=0)"
      ]
     },
     "execution_count": 51,
     "metadata": {},
     "output_type": "execute_result"
    }
   ],
   "source": [
    "X = df[['mintemp', 'maxtemp', 'rainfall', 'evaporation', 'sunshine',\n",
    "       'humidity9am', 'humidity3pm', 'pressure9am', 'pressure3pm', 'cloud9am',\n",
    "       'cloud3pm', 'temp9am', 'temp3pm', 'raintoday', 'temp', 'humidity',\n",
    "       'precipitation3pm', 'precipitation9am',\n",
    "       'windgustspeed', 'windspeed9am', 'windspeed3pm', 'windgustdir_0',\n",
    "       'windgustdir_E', 'windgustdir_ENE', 'windgustdir_ESE', 'windgustdir_N',\n",
    "       'windgustdir_NE', 'windgustdir_NNE', 'windgustdir_NNW',\n",
    "       'windgustdir_NW', 'windgustdir_S', 'windgustdir_SE', 'windgustdir_SSE',\n",
    "       'windgustdir_SSW', 'windgustdir_SW', 'windgustdir_W', 'windgustdir_WNW',\n",
    "       'windgustdir_WSW', 'winddir9am_0', 'winddir9am_E', 'winddir9am_ENE',\n",
    "       'winddir9am_ESE', 'winddir9am_N', 'winddir9am_NE', 'winddir9am_NNE',\n",
    "       'winddir9am_NNW', 'winddir9am_NW', 'winddir9am_S', 'winddir9am_SE',\n",
    "       'winddir9am_SSE', 'winddir9am_SSW', 'winddir9am_SW', 'winddir9am_W',\n",
    "       'winddir9am_WNW', 'winddir9am_WSW', 'winddir3pm_0', 'winddir3pm_E',\n",
    "       'winddir3pm_ENE', 'winddir3pm_ESE', 'winddir3pm_N', 'winddir3pm_NE',\n",
    "       'winddir3pm_NNE', 'winddir3pm_NNW', 'winddir3pm_NW', 'winddir3pm_S',\n",
    "       'winddir3pm_SE', 'winddir3pm_SSE', 'winddir3pm_SSW', 'winddir3pm_SW',\n",
    "       'winddir3pm_W', 'winddir3pm_WNW', 'winddir3pm_WSW']]\n",
    "model = KMeans(n_clusters=2, n_jobs=-1)\n",
    "model.fit(X)"
   ]
  },
  {
   "cell_type": "code",
   "execution_count": 52,
   "metadata": {
    "hidden": true
   },
   "outputs": [],
   "source": [
    "df['labels'] = model.labels_"
   ]
  },
  {
   "cell_type": "markdown",
   "metadata": {
    "hidden": true
   },
   "source": [
    "## Labels"
   ]
  },
  {
   "cell_type": "markdown",
   "metadata": {
    "hidden": true
   },
   "source": [
    "### Labels == 0"
   ]
  },
  {
   "cell_type": "code",
   "execution_count": 53,
   "metadata": {
    "hidden": true
   },
   "outputs": [],
   "source": [
    "modelo = LogisticRegression(max_iter=10000)"
   ]
  },
  {
   "cell_type": "code",
   "execution_count": 54,
   "metadata": {
    "hidden": true
   },
   "outputs": [
    {
     "data": {
      "text/plain": [
       "LogisticRegression(C=1.0, class_weight=None, dual=False, fit_intercept=True,\n",
       "                   intercept_scaling=1, l1_ratio=None, max_iter=10000,\n",
       "                   multi_class='auto', n_jobs=None, penalty='l2',\n",
       "                   random_state=None, solver='lbfgs', tol=0.0001, verbose=0,\n",
       "                   warm_start=False)"
      ]
     },
     "execution_count": 54,
     "metadata": {},
     "output_type": "execute_result"
    }
   ],
   "source": [
    "mask = df['labels'] == 0\n",
    "X = df[mask].drop(columns=['raintomorrow', 'amountOfRain', 'modelo_vigente'])\n",
    "y = df[mask]['raintomorrow']\n",
    "modelo.fit(X,y)"
   ]
  },
  {
   "cell_type": "code",
   "execution_count": 55,
   "metadata": {
    "hidden": true
   },
   "outputs": [
    {
     "data": {
      "text/plain": [
       "0.8420818505338078"
      ]
     },
     "execution_count": 55,
     "metadata": {},
     "output_type": "execute_result"
    }
   ],
   "source": [
    "modelo.score(X,y)"
   ]
  },
  {
   "cell_type": "code",
   "execution_count": 56,
   "metadata": {
    "hidden": true
   },
   "outputs": [
    {
     "data": {
      "text/plain": [
       "0.8425266903914591"
      ]
     },
     "execution_count": 56,
     "metadata": {},
     "output_type": "execute_result"
    }
   ],
   "source": [
    "X_train, X_test, y_train, y_test = train_test_split(X, y, test_size=0.75, random_state=7)\n",
    "modelo.score(X_train, y_train)"
   ]
  },
  {
   "cell_type": "code",
   "execution_count": 57,
   "metadata": {
    "hidden": true
   },
   "outputs": [
    {
     "data": {
      "text/plain": [
       "0.8419335705812574"
      ]
     },
     "execution_count": 57,
     "metadata": {},
     "output_type": "execute_result"
    }
   ],
   "source": [
    "modelo.score(X_test, y_test)"
   ]
  },
  {
   "cell_type": "code",
   "execution_count": 58,
   "metadata": {
    "hidden": true
   },
   "outputs": [
    {
     "data": {
      "text/html": [
       "<div>\n",
       "<style scoped>\n",
       "    .dataframe tbody tr th:only-of-type {\n",
       "        vertical-align: middle;\n",
       "    }\n",
       "\n",
       "    .dataframe tbody tr th {\n",
       "        vertical-align: top;\n",
       "    }\n",
       "\n",
       "    .dataframe thead th {\n",
       "        text-align: right;\n",
       "    }\n",
       "</style>\n",
       "<table border=\"1\" class=\"dataframe\">\n",
       "  <thead>\n",
       "    <tr style=\"text-align: right;\">\n",
       "      <th></th>\n",
       "      <th>Coef</th>\n",
       "      <th>Var</th>\n",
       "    </tr>\n",
       "  </thead>\n",
       "  <tbody>\n",
       "    <tr>\n",
       "      <th>67</th>\n",
       "      <td>-0.456642</td>\n",
       "      <td>winddir3pm_SSW</td>\n",
       "    </tr>\n",
       "    <tr>\n",
       "      <th>60</th>\n",
       "      <td>-0.417633</td>\n",
       "      <td>winddir3pm_NE</td>\n",
       "    </tr>\n",
       "    <tr>\n",
       "      <th>41</th>\n",
       "      <td>-0.375582</td>\n",
       "      <td>winddir9am_ESE</td>\n",
       "    </tr>\n",
       "    <tr>\n",
       "      <th>32</th>\n",
       "      <td>-0.356915</td>\n",
       "      <td>windgustdir_SSE</td>\n",
       "    </tr>\n",
       "    <tr>\n",
       "      <th>30</th>\n",
       "      <td>-0.308334</td>\n",
       "      <td>windgustdir_S</td>\n",
       "    </tr>\n",
       "    <tr>\n",
       "      <th>...</th>\n",
       "      <td>...</td>\n",
       "      <td>...</td>\n",
       "    </tr>\n",
       "    <tr>\n",
       "      <th>70</th>\n",
       "      <td>0.386915</td>\n",
       "      <td>winddir3pm_WNW</td>\n",
       "    </tr>\n",
       "    <tr>\n",
       "      <th>44</th>\n",
       "      <td>0.574509</td>\n",
       "      <td>winddir9am_NNE</td>\n",
       "    </tr>\n",
       "    <tr>\n",
       "      <th>13</th>\n",
       "      <td>0.616289</td>\n",
       "      <td>raintoday</td>\n",
       "    </tr>\n",
       "    <tr>\n",
       "      <th>55</th>\n",
       "      <td>0.656465</td>\n",
       "      <td>winddir3pm_0</td>\n",
       "    </tr>\n",
       "    <tr>\n",
       "      <th>21</th>\n",
       "      <td>2.241175</td>\n",
       "      <td>windgustdir_0</td>\n",
       "    </tr>\n",
       "  </tbody>\n",
       "</table>\n",
       "<p>73 rows × 2 columns</p>\n",
       "</div>"
      ],
      "text/plain": [
       "        Coef              Var\n",
       "67 -0.456642   winddir3pm_SSW\n",
       "60 -0.417633    winddir3pm_NE\n",
       "41 -0.375582   winddir9am_ESE\n",
       "32 -0.356915  windgustdir_SSE\n",
       "30 -0.308334    windgustdir_S\n",
       "..       ...              ...\n",
       "70  0.386915   winddir3pm_WNW\n",
       "44  0.574509   winddir9am_NNE\n",
       "13  0.616289        raintoday\n",
       "55  0.656465     winddir3pm_0\n",
       "21  2.241175    windgustdir_0\n",
       "\n",
       "[73 rows x 2 columns]"
      ]
     },
     "execution_count": 58,
     "metadata": {},
     "output_type": "execute_result"
    }
   ],
   "source": [
    "pandas = pd.DataFrame(zip(modelo.coef_ [0], X.columns), columns=['Coef', 'Var']).sort_values(by='Coef')\n",
    "pandas"
   ]
  },
  {
   "cell_type": "code",
   "execution_count": 59,
   "metadata": {
    "hidden": true
   },
   "outputs": [
    {
     "name": "stdout",
     "output_type": "stream",
     "text": [
      "Taxa de acerto: 0.719225449515906\n",
      "Taxa de captura: 0.5063291139240507\n"
     ]
    }
   ],
   "source": [
    "print('Taxa de acerto:', + precision_score(y, modelo.predict(X)))\n",
    "print('Taxa de captura:', + recall_score(y, modelo.predict(X)))"
   ]
  },
  {
   "cell_type": "code",
   "execution_count": 60,
   "metadata": {
    "hidden": true,
    "scrolled": true
   },
   "outputs": [
    {
     "data": {
      "image/png": "[encoded data removed]",
      "text/plain": [
       "<Figure size 432x288 with 2 Axes>"
      ]
     },
     "metadata": {
      "needs_background": "light"
     },
     "output_type": "display_data"
    }
   ],
   "source": [
    "plot_confusion_matrix(modelo, X_test, y_test, values_format='.0f')\n",
    "plt.grid(False)"
   ]
  },
  {
   "cell_type": "code",
   "execution_count": 61,
   "metadata": {
    "hidden": true
   },
   "outputs": [
    {
     "name": "stderr",
     "output_type": "stream",
     "text": [
      "C:\\Users\\yukar\\Anaconda3\\lib\\site-packages\\ipykernel_launcher.py:4: UserWarning: Matplotlib is currently using module://ipykernel.pylab.backend_inline, which is a non-GUI backend, so cannot show the figure.\n",
      "  after removing the cwd from sys.path.\n"
     ]
    },
    {
     "data": {
      "image/png": "[encoded data removed]",
      "text/plain": [
       "<Figure size 432x288 with 2 Axes>"
      ]
     },
     "metadata": {
      "needs_background": "light"
     },
     "output_type": "display_data"
    }
   ],
   "source": [
    "fig, ax =plt.subplots(1,2)\n",
    "sns.countplot(y_test, ax=ax[0])\n",
    "sns.countplot(y_train, ax=ax[1])\n",
    "fig.show()"
   ]
  },
  {
   "cell_type": "markdown",
   "metadata": {
    "hidden": true
   },
   "source": [
    "### Labels == 1"
   ]
  },
  {
   "cell_type": "code",
   "execution_count": 62,
   "metadata": {
    "hidden": true
   },
   "outputs": [
    {
     "data": {
      "text/plain": [
       "LogisticRegression(C=1.0, class_weight=None, dual=False, fit_intercept=True,\n",
       "                   intercept_scaling=1, l1_ratio=None, max_iter=10000,\n",
       "                   multi_class='auto', n_jobs=None, penalty='l2',\n",
       "                   random_state=None, solver='lbfgs', tol=0.0001, verbose=0,\n",
       "                   warm_start=False)"
      ]
     },
     "execution_count": 62,
     "metadata": {},
     "output_type": "execute_result"
    }
   ],
   "source": [
    "mask1 = df['labels'] == 1\n",
    "X = df[mask1].drop(columns=['raintomorrow', 'amountOfRain', 'modelo_vigente'])\n",
    "y = df[mask1]['raintomorrow']\n",
    "modelo.fit(X,y)"
   ]
  },
  {
   "cell_type": "code",
   "execution_count": 63,
   "metadata": {
    "hidden": true
   },
   "outputs": [
    {
     "data": {
      "text/plain": [
       "0.8373015873015873"
      ]
     },
     "execution_count": 63,
     "metadata": {},
     "output_type": "execute_result"
    }
   ],
   "source": [
    "modelo.score(X,y)"
   ]
  },
  {
   "cell_type": "code",
   "execution_count": 64,
   "metadata": {
    "hidden": true
   },
   "outputs": [
    {
     "data": {
      "text/plain": [
       "0.8492063492063492"
      ]
     },
     "execution_count": 64,
     "metadata": {},
     "output_type": "execute_result"
    }
   ],
   "source": [
    "X_train, X_test, y_train, y_test = train_test_split(X, y, test_size=0.75, random_state=7)\n",
    "modelo.score(X_train, y_train)"
   ]
  },
  {
   "cell_type": "code",
   "execution_count": 65,
   "metadata": {
    "hidden": true
   },
   "outputs": [
    {
     "data": {
      "text/plain": [
       "0.8333333333333334"
      ]
     },
     "execution_count": 65,
     "metadata": {},
     "output_type": "execute_result"
    }
   ],
   "source": [
    "modelo.score(X_test, y_test)"
   ]
  },
  {
   "cell_type": "code",
   "execution_count": 66,
   "metadata": {
    "hidden": true
   },
   "outputs": [
    {
     "name": "stdout",
     "output_type": "stream",
     "text": [
      "Taxa de acerto: 0.7034482758620689\n",
      "Taxa de captura: 0.45739910313901344\n"
     ]
    }
   ],
   "source": [
    "print('Taxa de acerto:', + precision_score(y, modelo.predict(X)))\n",
    "print('Taxa de captura:', + recall_score(y, modelo.predict(X)))"
   ]
  },
  {
   "cell_type": "code",
   "execution_count": 67,
   "metadata": {
    "hidden": true
   },
   "outputs": [
    {
     "data": {
      "image/png": "[encoded data removed]",
      "text/plain": [
       "<Figure size 432x288 with 2 Axes>"
      ]
     },
     "metadata": {
      "needs_background": "light"
     },
     "output_type": "display_data"
    }
   ],
   "source": [
    "plot_confusion_matrix(modelo, X_test, y_test, values_format='.0f')\n",
    "plt.grid(False)"
   ]
  },
  {
   "cell_type": "code",
   "execution_count": 68,
   "metadata": {
    "hidden": true,
    "scrolled": true
   },
   "outputs": [
    {
     "name": "stderr",
     "output_type": "stream",
     "text": [
      "C:\\Users\\yukar\\Anaconda3\\lib\\site-packages\\ipykernel_launcher.py:4: UserWarning: Matplotlib is currently using module://ipykernel.pylab.backend_inline, which is a non-GUI backend, so cannot show the figure.\n",
      "  after removing the cwd from sys.path.\n"
     ]
    },
    {
     "data": {
      "image/png": "[encoded data removed]",
      "text/plain": [
       "<Figure size 432x288 with 2 Axes>"
      ]
     },
     "metadata": {
      "needs_background": "light"
     },
     "output_type": "display_data"
    }
   ],
   "source": [
    "fig, ax =plt.subplots(1,2)\n",
    "sns.countplot(y_test, ax=ax[0])\n",
    "sns.countplot(y_train, ax=ax[1])\n",
    "fig.show()"
   ]
  },
  {
   "cell_type": "markdown",
   "metadata": {
    "hidden": true
   },
   "source": [
    "**O dataset está desbalanceado. Por exemplo: 1/3 do valor é que vai chover (1), então tem que ser equilibrados.**"
   ]
  },
  {
   "cell_type": "markdown",
   "metadata": {
    "heading_collapsed": true
   },
   "source": [
    "# Balancear o DataFrame\n",
    "Ao plotar a quantidade de dias de chuva, percebi que não estavam balanceados, então usei o UnderSampler para balancear."
   ]
  },
  {
   "cell_type": "code",
   "execution_count": 69,
   "metadata": {
    "hidden": true
   },
   "outputs": [],
   "source": [
    "X = df[['mintemp', 'maxtemp', 'rainfall', 'evaporation', 'sunshine',\n",
    "       'humidity9am', 'humidity3pm', 'pressure9am', 'pressure3pm', 'cloud9am',\n",
    "       'cloud3pm', 'temp9am', 'temp3pm', 'raintoday', 'temp', 'humidity',\n",
    "       'precipitation3pm', 'precipitation9am',\n",
    "       'windgustspeed', 'windspeed9am', 'windspeed3pm', 'windgustdir_0',\n",
    "       'windgustdir_E', 'windgustdir_ENE', 'windgustdir_ESE', 'windgustdir_N',\n",
    "       'windgustdir_NE', 'windgustdir_NNE', 'windgustdir_NNW',\n",
    "       'windgustdir_NW', 'windgustdir_S', 'windgustdir_SE', 'windgustdir_SSE',\n",
    "       'windgustdir_SSW', 'windgustdir_SW', 'windgustdir_W', 'windgustdir_WNW',\n",
    "       'windgustdir_WSW', 'winddir9am_0', 'winddir9am_E', 'winddir9am_ENE',\n",
    "       'winddir9am_ESE', 'winddir9am_N', 'winddir9am_NE', 'winddir9am_NNE',\n",
    "       'winddir9am_NNW', 'winddir9am_NW', 'winddir9am_S', 'winddir9am_SE',\n",
    "       'winddir9am_SSE', 'winddir9am_SSW', 'winddir9am_SW', 'winddir9am_W',\n",
    "       'winddir9am_WNW', 'winddir9am_WSW', 'winddir3pm_0', 'winddir3pm_E',\n",
    "       'winddir3pm_ENE', 'winddir3pm_ESE', 'winddir3pm_N', 'winddir3pm_NE',\n",
    "       'winddir3pm_NNE', 'winddir3pm_NNW', 'winddir3pm_NW', 'winddir3pm_S',\n",
    "       'winddir3pm_SE', 'winddir3pm_SSE', 'winddir3pm_SSW', 'winddir3pm_SW',\n",
    "       'winddir3pm_W', 'winddir3pm_WNW', 'winddir3pm_WSW']]\n",
    "y = df['raintomorrow']"
   ]
  },
  {
   "cell_type": "code",
   "execution_count": 70,
   "metadata": {
    "hidden": true
   },
   "outputs": [],
   "source": [
    "rus = RandomUnderSampler(random_state=7)\n",
    "X_resampled, y_resampled = rus.fit_resample(X, y)"
   ]
  },
  {
   "cell_type": "code",
   "execution_count": 71,
   "metadata": {
    "hidden": true
   },
   "outputs": [
    {
     "data": {
      "text/plain": [
       "1    2277\n",
       "0    2277\n",
       "Name: raintomorrow, dtype: int64"
      ]
     },
     "execution_count": 71,
     "metadata": {},
     "output_type": "execute_result"
    }
   ],
   "source": [
    "y_resampled.value_counts()"
   ]
  },
  {
   "cell_type": "markdown",
   "metadata": {
    "hidden": true
   },
   "source": [
    "## Regressão Logística"
   ]
  },
  {
   "cell_type": "code",
   "execution_count": 72,
   "metadata": {
    "hidden": true,
    "scrolled": true
   },
   "outputs": [
    {
     "data": {
      "text/plain": [
       "LogisticRegression(C=1.0, class_weight=None, dual=False, fit_intercept=True,\n",
       "                   intercept_scaling=1, l1_ratio=None, max_iter=10000,\n",
       "                   multi_class='auto', n_jobs=None, penalty='l2',\n",
       "                   random_state=None, solver='lbfgs', tol=0.0001, verbose=0,\n",
       "                   warm_start=False)"
      ]
     },
     "execution_count": 72,
     "metadata": {},
     "output_type": "execute_result"
    }
   ],
   "source": [
    "model = LogisticRegression(max_iter=10000)\n",
    "model.fit(X_resampled, y_resampled)"
   ]
  },
  {
   "cell_type": "code",
   "execution_count": 73,
   "metadata": {
    "hidden": true
   },
   "outputs": [
    {
     "data": {
      "text/plain": [
       "0.7758014931927976"
      ]
     },
     "execution_count": 73,
     "metadata": {},
     "output_type": "execute_result"
    }
   ],
   "source": [
    "model.score(X_resampled, y_resampled)"
   ]
  },
  {
   "cell_type": "code",
   "execution_count": 74,
   "metadata": {
    "hidden": true,
    "scrolled": true
   },
   "outputs": [
    {
     "data": {
      "text/plain": [
       "0.7778761061946903"
      ]
     },
     "execution_count": 74,
     "metadata": {},
     "output_type": "execute_result"
    }
   ],
   "source": [
    "precision_score(y_resampled, model.predict(X_resampled))"
   ]
  },
  {
   "cell_type": "markdown",
   "metadata": {
    "hidden": true
   },
   "source": [
    "## Cotovelos"
   ]
  },
  {
   "cell_type": "code",
   "execution_count": 75,
   "metadata": {
    "hidden": true
   },
   "outputs": [],
   "source": [
    "X_resampled['raintomorrow'] = y_resampled\n",
    "sample = X_resampled"
   ]
  },
  {
   "cell_type": "code",
   "execution_count": 76,
   "metadata": {
    "hidden": true
   },
   "outputs": [
    {
     "data": {
      "image/png": "[encoded data removed]",
      "text/plain": [
       "<Figure size 432x288 with 2 Axes>"
      ]
     },
     "metadata": {},
     "output_type": "display_data"
    },
    {
     "data": {
      "text/plain": [
       "<matplotlib.axes._subplots.AxesSubplot at 0x25456d07d48>"
      ]
     },
     "execution_count": 76,
     "metadata": {},
     "output_type": "execute_result"
    }
   ],
   "source": [
    "model = KMeans()\n",
    "visualizer = KElbowVisualizer(model, k=(1,20))\n",
    "visualizer.fit(sample)\n",
    "visualizer.show()"
   ]
  },
  {
   "cell_type": "code",
   "execution_count": 77,
   "metadata": {
    "hidden": true
   },
   "outputs": [],
   "source": [
    "X = sample[['mintemp', 'maxtemp', 'rainfall', 'evaporation', 'sunshine',\n",
    "       'humidity9am', 'humidity3pm', 'pressure9am', 'pressure3pm', 'cloud9am',\n",
    "       'cloud3pm', 'temp9am', 'temp3pm', 'raintoday', 'temp', 'humidity',\n",
    "       'precipitation3pm', 'precipitation9am', 'windgustspeed', 'windspeed9am',\n",
    "       'windspeed3pm', 'windgustdir_0', 'windgustdir_E', 'windgustdir_ENE',\n",
    "       'windgustdir_ESE', 'windgustdir_N', 'windgustdir_NE', 'windgustdir_NNE',\n",
    "       'windgustdir_NNW', 'windgustdir_NW', 'windgustdir_S', 'windgustdir_SE',\n",
    "       'windgustdir_SSE', 'windgustdir_SSW', 'windgustdir_SW', 'windgustdir_W',\n",
    "       'windgustdir_WNW', 'windgustdir_WSW', 'winddir9am_0', 'winddir9am_E',\n",
    "       'winddir9am_ENE', 'winddir9am_ESE', 'winddir9am_N', 'winddir9am_NE',\n",
    "       'winddir9am_NNE', 'winddir9am_NNW', 'winddir9am_NW', 'winddir9am_S',\n",
    "       'winddir9am_SE', 'winddir9am_SSE', 'winddir9am_SSW', 'winddir9am_SW',\n",
    "       'winddir9am_W', 'winddir9am_WNW', 'winddir9am_WSW', 'winddir3pm_0',\n",
    "       'winddir3pm_E', 'winddir3pm_ENE', 'winddir3pm_ESE', 'winddir3pm_N',\n",
    "       'winddir3pm_NE', 'winddir3pm_NNE', 'winddir3pm_NNW', 'winddir3pm_NW',\n",
    "       'winddir3pm_S', 'winddir3pm_SE', 'winddir3pm_SSE', 'winddir3pm_SSW',\n",
    "       'winddir3pm_SW', 'winddir3pm_W', 'winddir3pm_WNW', 'winddir3pm_WSW']]\n",
    "y = sample['raintomorrow']"
   ]
  },
  {
   "cell_type": "code",
   "execution_count": 78,
   "metadata": {
    "hidden": true
   },
   "outputs": [
    {
     "data": {
      "text/plain": [
       "KMeans(algorithm='auto', copy_x=True, init='k-means++', max_iter=300,\n",
       "       n_clusters=2, n_init=10, n_jobs=None, precompute_distances='auto',\n",
       "       random_state=None, tol=0.0001, verbose=0)"
      ]
     },
     "execution_count": 78,
     "metadata": {},
     "output_type": "execute_result"
    }
   ],
   "source": [
    "model = KMeans(n_clusters=2)\n",
    "model.fit(X)"
   ]
  },
  {
   "cell_type": "code",
   "execution_count": 79,
   "metadata": {
    "hidden": true
   },
   "outputs": [],
   "source": [
    "sample['labels'] = model.labels_"
   ]
  },
  {
   "cell_type": "markdown",
   "metadata": {
    "hidden": true
   },
   "source": [
    "## Labels"
   ]
  },
  {
   "cell_type": "markdown",
   "metadata": {
    "hidden": true
   },
   "source": [
    "### Labels == 0"
   ]
  },
  {
   "cell_type": "code",
   "execution_count": 80,
   "metadata": {
    "hidden": true
   },
   "outputs": [
    {
     "data": {
      "text/plain": [
       "LogisticRegression(C=1.0, class_weight=None, dual=False, fit_intercept=True,\n",
       "                   intercept_scaling=1, l1_ratio=None, max_iter=10000,\n",
       "                   multi_class='auto', n_jobs=None, penalty='l2',\n",
       "                   random_state=None, solver='lbfgs', tol=0.0001, verbose=0,\n",
       "                   warm_start=False)"
      ]
     },
     "execution_count": 80,
     "metadata": {},
     "output_type": "execute_result"
    }
   ],
   "source": [
    "mask = sample['labels'] == 0\n",
    "X = sample[mask].drop(columns=['raintomorrow'])\n",
    "y = sample[mask]['raintomorrow']\n",
    "modelo.fit(X,y)"
   ]
  },
  {
   "cell_type": "code",
   "execution_count": 81,
   "metadata": {
    "hidden": true
   },
   "outputs": [
    {
     "data": {
      "text/plain": [
       "0.7816816089168888"
      ]
     },
     "execution_count": 81,
     "metadata": {},
     "output_type": "execute_result"
    }
   ],
   "source": [
    "modelo.score(X,y)"
   ]
  },
  {
   "cell_type": "code",
   "execution_count": 82,
   "metadata": {
    "hidden": true
   },
   "outputs": [
    {
     "data": {
      "text/plain": [
       "0.7904946653734238"
      ]
     },
     "execution_count": 82,
     "metadata": {},
     "output_type": "execute_result"
    }
   ],
   "source": [
    "X_train, X_test, y_train, y_test = train_test_split(X, y, test_size=0.75, random_state=7)\n",
    "modelo.score(X_train, y_train)"
   ]
  },
  {
   "cell_type": "code",
   "execution_count": 83,
   "metadata": {
    "hidden": true
   },
   "outputs": [
    {
     "data": {
      "text/plain": [
       "0.7787467700258398"
      ]
     },
     "execution_count": 83,
     "metadata": {},
     "output_type": "execute_result"
    }
   ],
   "source": [
    "modelo.score(X_test, y_test)"
   ]
  },
  {
   "cell_type": "code",
   "execution_count": 84,
   "metadata": {
    "hidden": true
   },
   "outputs": [
    {
     "name": "stdout",
     "output_type": "stream",
     "text": [
      "Taxa de acerto: 0.7832923832923833\n",
      "Taxa de captura: 0.7760467380720545\n"
     ]
    }
   ],
   "source": [
    "print('Taxa de acerto:', + precision_score(y, modelo.predict(X)))\n",
    "print('Taxa de captura:', + recall_score(y, modelo.predict(X)))"
   ]
  },
  {
   "cell_type": "code",
   "execution_count": 85,
   "metadata": {
    "hidden": true
   },
   "outputs": [
    {
     "data": {
      "image/png": "[encoded data removed]",
      "text/plain": [
       "<Figure size 432x288 with 2 Axes>"
      ]
     },
     "metadata": {
      "needs_background": "light"
     },
     "output_type": "display_data"
    }
   ],
   "source": [
    "plot_confusion_matrix(modelo, X_test, y_test, values_format='.0f')\n",
    "plt.grid(False)"
   ]
  },
  {
   "cell_type": "code",
   "execution_count": 86,
   "metadata": {
    "hidden": true
   },
   "outputs": [
    {
     "name": "stderr",
     "output_type": "stream",
     "text": [
      "C:\\Users\\yukar\\Anaconda3\\lib\\site-packages\\ipykernel_launcher.py:4: UserWarning: Matplotlib is currently using module://ipykernel.pylab.backend_inline, which is a non-GUI backend, so cannot show the figure.\n",
      "  after removing the cwd from sys.path.\n"
     ]
    },
    {
     "data": {
      "image/png": "[encoded data removed]",
      "text/plain": [
       "<Figure size 432x288 with 2 Axes>"
      ]
     },
     "metadata": {
      "needs_background": "light"
     },
     "output_type": "display_data"
    }
   ],
   "source": [
    "fig, ax =plt.subplots(1,2)\n",
    "sns.countplot(y_test, ax=ax[0])\n",
    "sns.countplot(y_train, ax=ax[1])\n",
    "fig.show()"
   ]
  },
  {
   "cell_type": "markdown",
   "metadata": {
    "hidden": true
   },
   "source": [
    "### Labels == 1"
   ]
  },
  {
   "cell_type": "code",
   "execution_count": 87,
   "metadata": {
    "hidden": true
   },
   "outputs": [
    {
     "data": {
      "text/plain": [
       "LogisticRegression(C=1.0, class_weight=None, dual=False, fit_intercept=True,\n",
       "                   intercept_scaling=1, l1_ratio=None, max_iter=10000,\n",
       "                   multi_class='auto', n_jobs=None, penalty='l2',\n",
       "                   random_state=None, solver='lbfgs', tol=0.0001, verbose=0,\n",
       "                   warm_start=False)"
      ]
     },
     "execution_count": 87,
     "metadata": {},
     "output_type": "execute_result"
    }
   ],
   "source": [
    "mask1 = sample['labels'] == 1\n",
    "X = sample[mask1].drop(columns=['raintomorrow'])\n",
    "y = sample[mask1]['raintomorrow']\n",
    "modelo.fit(X,y)"
   ]
  },
  {
   "cell_type": "code",
   "execution_count": 88,
   "metadata": {
    "hidden": true
   },
   "outputs": [
    {
     "data": {
      "text/plain": [
       "0.7728337236533958"
      ]
     },
     "execution_count": 88,
     "metadata": {},
     "output_type": "execute_result"
    }
   ],
   "source": [
    "modelo.score(X,y)"
   ]
  },
  {
   "cell_type": "code",
   "execution_count": 89,
   "metadata": {
    "hidden": true
   },
   "outputs": [
    {
     "data": {
      "text/plain": [
       "0.8207547169811321"
      ]
     },
     "execution_count": 89,
     "metadata": {},
     "output_type": "execute_result"
    }
   ],
   "source": [
    "X_train, X_test, y_train, y_test = train_test_split(X, y, test_size=0.75, random_state=7)\n",
    "modelo.score(X_train, y_train)"
   ]
  },
  {
   "cell_type": "code",
   "execution_count": 90,
   "metadata": {
    "hidden": true
   },
   "outputs": [
    {
     "data": {
      "text/plain": [
       "0.7570093457943925"
      ]
     },
     "execution_count": 90,
     "metadata": {},
     "output_type": "execute_result"
    }
   ],
   "source": [
    "modelo.score(X_test, y_test)"
   ]
  },
  {
   "cell_type": "code",
   "execution_count": 91,
   "metadata": {
    "hidden": true
   },
   "outputs": [
    {
     "name": "stdout",
     "output_type": "stream",
     "text": [
      "Taxa de acerto: 0.7787610619469026\n",
      "Taxa de captura: 0.7892376681614349\n"
     ]
    }
   ],
   "source": [
    "print('Taxa de acerto:', + precision_score(y, modelo.predict(X)))\n",
    "print('Taxa de captura:', + recall_score(y, modelo.predict(X)))"
   ]
  },
  {
   "cell_type": "code",
   "execution_count": 92,
   "metadata": {
    "hidden": true
   },
   "outputs": [
    {
     "data": {
      "image/png": "[encoded data removed]",
      "text/plain": [
       "<Figure size 432x288 with 2 Axes>"
      ]
     },
     "metadata": {
      "needs_background": "light"
     },
     "output_type": "display_data"
    }
   ],
   "source": [
    "plot_confusion_matrix(modelo, X_test, y_test, values_format='.0f')\n",
    "plt.grid(False)"
   ]
  },
  {
   "cell_type": "code",
   "execution_count": 93,
   "metadata": {
    "hidden": true
   },
   "outputs": [
    {
     "name": "stderr",
     "output_type": "stream",
     "text": [
      "C:\\Users\\yukar\\Anaconda3\\lib\\site-packages\\ipykernel_launcher.py:4: UserWarning: Matplotlib is currently using module://ipykernel.pylab.backend_inline, which is a non-GUI backend, so cannot show the figure.\n",
      "  after removing the cwd from sys.path.\n"
     ]
    },
    {
     "data": {
      "image/png": "[encoded data removed]",
      "text/plain": [
       "<Figure size 432x288 with 2 Axes>"
      ]
     },
     "metadata": {
      "needs_background": "light"
     },
     "output_type": "display_data"
    }
   ],
   "source": [
    "fig, ax =plt.subplots(1,2)\n",
    "sns.countplot(y_test, ax=ax[0])\n",
    "sns.countplot(y_train, ax=ax[1])\n",
    "fig.show()"
   ]
  },
  {
   "cell_type": "markdown",
   "metadata": {
    "hidden": true
   },
   "source": [
    "## KNN"
   ]
  },
  {
   "cell_type": "code",
   "execution_count": 94,
   "metadata": {
    "hidden": true
   },
   "outputs": [],
   "source": [
    "X = sample[['mintemp', 'maxtemp', 'rainfall', 'evaporation', 'sunshine',\n",
    "       'humidity9am', 'humidity3pm', 'pressure9am', 'pressure3pm', 'cloud9am',\n",
    "       'cloud3pm', 'temp9am', 'temp3pm', 'raintoday', 'temp', 'humidity',\n",
    "       'precipitation3pm', 'precipitation9am', 'windgustspeed', 'windspeed9am',\n",
    "       'windspeed3pm', 'windgustdir_0', 'windgustdir_E', 'windgustdir_ENE',\n",
    "       'windgustdir_ESE', 'windgustdir_N', 'windgustdir_NE', 'windgustdir_NNE',\n",
    "       'windgustdir_NNW', 'windgustdir_NW', 'windgustdir_S', 'windgustdir_SE',\n",
    "       'windgustdir_SSE', 'windgustdir_SSW', 'windgustdir_SW', 'windgustdir_W',\n",
    "       'windgustdir_WNW', 'windgustdir_WSW', 'winddir9am_0', 'winddir9am_E',\n",
    "       'winddir9am_ENE', 'winddir9am_ESE', 'winddir9am_N', 'winddir9am_NE',\n",
    "       'winddir9am_NNE', 'winddir9am_NNW', 'winddir9am_NW', 'winddir9am_S',\n",
    "       'winddir9am_SE', 'winddir9am_SSE', 'winddir9am_SSW', 'winddir9am_SW',\n",
    "       'winddir9am_W', 'winddir9am_WNW', 'winddir9am_WSW', 'winddir3pm_0',\n",
    "       'winddir3pm_E', 'winddir3pm_ENE', 'winddir3pm_ESE', 'winddir3pm_N',\n",
    "       'winddir3pm_NE', 'winddir3pm_NNE', 'winddir3pm_NNW', 'winddir3pm_NW',\n",
    "       'winddir3pm_S', 'winddir3pm_SE', 'winddir3pm_SSE', 'winddir3pm_SSW',\n",
    "       'winddir3pm_SW', 'winddir3pm_W', 'winddir3pm_WNW', 'winddir3pm_WSW']]\n",
    "y = sample['raintomorrow']"
   ]
  },
  {
   "cell_type": "code",
   "execution_count": 95,
   "metadata": {
    "hidden": true
   },
   "outputs": [
    {
     "name": "stderr",
     "output_type": "stream",
     "text": [
      "C:\\Users\\yukar\\Anaconda3\\lib\\site-packages\\ipykernel_launcher.py:4: UserWarning: Matplotlib is currently using module://ipykernel.pylab.backend_inline, which is a non-GUI backend, so cannot show the figure.\n",
      "  after removing the cwd from sys.path.\n"
     ]
    },
    {
     "data": {
      "image/png": "[encoded data removed]",
      "text/plain": [
       "<Figure size 432x288 with 2 Axes>"
      ]
     },
     "metadata": {
      "needs_background": "light"
     },
     "output_type": "display_data"
    }
   ],
   "source": [
    "fig, ax =plt.subplots(1,2)\n",
    "sns.countplot(y_test, ax=ax[0])\n",
    "sns.countplot(y_train, ax=ax[1])\n",
    "fig.show()"
   ]
  },
  {
   "cell_type": "code",
   "execution_count": 96,
   "metadata": {
    "hidden": true
   },
   "outputs": [
    {
     "data": {
      "text/plain": [
       "KNeighborsClassifier(algorithm='auto', leaf_size=30, metric='minkowski',\n",
       "                     metric_params=None, n_jobs=None, n_neighbors=2, p=2,\n",
       "                     weights='uniform')"
      ]
     },
     "execution_count": 96,
     "metadata": {},
     "output_type": "execute_result"
    }
   ],
   "source": [
    "neigh = KNeighborsClassifier(n_neighbors=2)\n",
    "X_train, X_test, y_train, y_test = train_test_split(X, y, test_size=0.75, random_state=7)\n",
    "neigh.fit(X_train, y_train) "
   ]
  },
  {
   "cell_type": "code",
   "execution_count": 97,
   "metadata": {
    "hidden": true
   },
   "outputs": [
    {
     "data": {
      "text/plain": [
       "0.8409490333919156"
      ]
     },
     "execution_count": 97,
     "metadata": {},
     "output_type": "execute_result"
    }
   ],
   "source": [
    "neigh.score(X_train, y_train)"
   ]
  },
  {
   "cell_type": "code",
   "execution_count": 98,
   "metadata": {
    "hidden": true
   },
   "outputs": [
    {
     "data": {
      "text/plain": [
       "0.6721311475409836"
      ]
     },
     "execution_count": 98,
     "metadata": {},
     "output_type": "execute_result"
    }
   ],
   "source": [
    "neigh.score(X_test, y_test)"
   ]
  },
  {
   "cell_type": "code",
   "execution_count": 99,
   "metadata": {
    "hidden": true
   },
   "outputs": [
    {
     "data": {
      "image/png": "[encoded data removed]",
      "text/plain": [
       "<Figure size 432x288 with 2 Axes>"
      ]
     },
     "metadata": {
      "needs_background": "light"
     },
     "output_type": "display_data"
    }
   ],
   "source": [
    "plot_confusion_matrix(neigh, X_test, y_test, values_format='.0f')\n",
    "plt.grid(False)"
   ]
  },
  {
   "cell_type": "code",
   "execution_count": 100,
   "metadata": {
    "hidden": true
   },
   "outputs": [
    {
     "name": "stdout",
     "output_type": "stream",
     "text": [
      "Taxa de acerto: 0.8292847503373819\n",
      "Taxa de captura: 0.5397452788757137\n"
     ]
    }
   ],
   "source": [
    "print('Taxa de acerto:', + precision_score(y, neigh.predict(X)))\n",
    "print('Taxa de captura:', + recall_score(y, neigh.predict(X)))"
   ]
  },
  {
   "cell_type": "markdown",
   "metadata": {
    "hidden": true
   },
   "source": [
    "## ROC"
   ]
  },
  {
   "cell_type": "code",
   "execution_count": 101,
   "metadata": {
    "hidden": true,
    "scrolled": true
   },
   "outputs": [
    {
     "data": {
      "text/plain": [
       "<sklearn.metrics._plot.roc_curve.RocCurveDisplay at 0x25455d39cc8>"
      ]
     },
     "execution_count": 101,
     "metadata": {},
     "output_type": "execute_result"
    },
    {
     "data": {
      "image/png": "[encoded data removed]",
      "text/plain": [
       "<Figure size 432x288 with 1 Axes>"
      ]
     },
     "metadata": {
      "needs_background": "light"
     },
     "output_type": "display_data"
    }
   ],
   "source": [
    "fig, ax = plt.subplots()\n",
    "plot_roc_curve(neigh, X_train, y_train, color='blue', ax=ax)\n",
    "plot_roc_curve(neigh, X_test, y_test, color='red', ax= ax)"
   ]
  },
  {
   "cell_type": "markdown",
   "metadata": {
    "heading_collapsed": true
   },
   "source": [
    "# Compilado de métodos utilizados\n",
    "Utilizar todos os métodos para ver qual se adequa melhor"
   ]
  },
  {
   "cell_type": "markdown",
   "metadata": {
    "hidden": true
   },
   "source": [
    "## Dataframe"
   ]
  },
  {
   "cell_type": "code",
   "execution_count": 102,
   "metadata": {
    "hidden": true
   },
   "outputs": [],
   "source": [
    "rain = pd.read_csv('data/rain_data_aus.csv')"
   ]
  },
  {
   "cell_type": "code",
   "execution_count": 103,
   "metadata": {
    "hidden": true
   },
   "outputs": [],
   "source": [
    "rain['raintoday'] = rain['raintoday'].replace('No', 0).replace('Yes', 1)\n",
    "rain['raintomorrow'] = rain['raintomorrow'].replace('No', 0).replace('Yes', 1)"
   ]
  },
  {
   "cell_type": "code",
   "execution_count": 104,
   "metadata": {
    "hidden": true
   },
   "outputs": [],
   "source": [
    "wind_1 = pd.read_csv('data/wind_table_01.csv')\n",
    "wind_2 = pd.read_csv('data/wind_table_02.csv')\n",
    "wind_3 = pd.read_csv('data/wind_table_03.csv')\n",
    "wind_4 = pd.read_csv('data/wind_table_04.csv')\n",
    "wind_5 = pd.read_csv('data/wind_table_05.csv')\n",
    "wind_6 = pd.read_csv('data/wind_table_06.csv')\n",
    "wind_7 = pd.read_csv('data/wind_table_07.csv')\n",
    "wind_8 = pd.read_csv('data/wind_table_08.csv')\n",
    "wind_1.columns = wind_3.columns\n",
    "wind_2.columns = wind_3.columns\n",
    "wind = wind_1.append(wind_2, ignore_index=True).append(wind_3, ignore_index=True).append(wind_3, ignore_index=True).append(wind_4, ignore_index=True).append(wind_5, ignore_index=True).append(wind_6, ignore_index=True).append(wind_7, ignore_index=True).append(wind_8, ignore_index=True)"
   ]
  },
  {
   "cell_type": "code",
   "execution_count": 105,
   "metadata": {
    "hidden": true
   },
   "outputs": [],
   "source": [
    "df = rain.merge(wind, on=['date','location'], how='left').drop_duplicates().drop(columns=['date', 'location'])"
   ]
  },
  {
   "cell_type": "markdown",
   "metadata": {
    "hidden": true
   },
   "source": [
    "## Dummies"
   ]
  },
  {
   "cell_type": "code",
   "execution_count": 106,
   "metadata": {
    "hidden": true
   },
   "outputs": [],
   "source": [
    "df = pd.get_dummies(df)"
   ]
  },
  {
   "cell_type": "code",
   "execution_count": 107,
   "metadata": {
    "hidden": true
   },
   "outputs": [
    {
     "data": {
      "text/plain": [
       "Index(['mintemp', 'maxtemp', 'rainfall', 'evaporation', 'sunshine',\n",
       "       'humidity9am', 'humidity3pm', 'pressure9am', 'pressure3pm', 'cloud9am',\n",
       "       'cloud3pm', 'temp9am', 'temp3pm', 'raintoday', 'amountOfRain',\n",
       "       'raintomorrow', 'temp', 'humidity', 'precipitation3pm',\n",
       "       'precipitation9am', 'modelo_vigente', 'windgustspeed', 'windspeed9am',\n",
       "       'windspeed3pm', 'windgustdir_E', 'windgustdir_ENE', 'windgustdir_ESE',\n",
       "       'windgustdir_N', 'windgustdir_NE', 'windgustdir_NNE', 'windgustdir_NNW',\n",
       "       'windgustdir_NW', 'windgustdir_S', 'windgustdir_SE', 'windgustdir_SSE',\n",
       "       'windgustdir_SSW', 'windgustdir_SW', 'windgustdir_W', 'windgustdir_WNW',\n",
       "       'windgustdir_WSW', 'winddir9am_E', 'winddir9am_ENE', 'winddir9am_ESE',\n",
       "       'winddir9am_N', 'winddir9am_NE', 'winddir9am_NNE', 'winddir9am_NNW',\n",
       "       'winddir9am_NW', 'winddir9am_S', 'winddir9am_SE', 'winddir9am_SSE',\n",
       "       'winddir9am_SSW', 'winddir9am_SW', 'winddir9am_W', 'winddir9am_WNW',\n",
       "       'winddir9am_WSW', 'winddir3pm_E', 'winddir3pm_ENE', 'winddir3pm_ESE',\n",
       "       'winddir3pm_N', 'winddir3pm_NE', 'winddir3pm_NNE', 'winddir3pm_NNW',\n",
       "       'winddir3pm_NW', 'winddir3pm_S', 'winddir3pm_SE', 'winddir3pm_SSE',\n",
       "       'winddir3pm_SSW', 'winddir3pm_SW', 'winddir3pm_W', 'winddir3pm_WNW',\n",
       "       'winddir3pm_WSW'],\n",
       "      dtype='object')"
      ]
     },
     "execution_count": 107,
     "metadata": {},
     "output_type": "execute_result"
    }
   ],
   "source": [
    "df.columns"
   ]
  },
  {
   "cell_type": "code",
   "execution_count": 108,
   "metadata": {
    "hidden": true
   },
   "outputs": [],
   "source": [
    "X = df[['mintemp', 'maxtemp', 'rainfall', 'evaporation', 'sunshine',\n",
    "       'humidity9am', 'humidity3pm', 'pressure9am', 'pressure3pm', 'cloud9am',\n",
    "       'cloud3pm', 'temp9am', 'temp3pm', 'raintoday', 'amountOfRain',\n",
    "       'temp', 'humidity', 'precipitation3pm',\n",
    "       'precipitation9am', 'modelo_vigente', 'windgustspeed', 'windspeed9am',\n",
    "       'windspeed3pm', 'windgustdir_E', 'windgustdir_ENE', 'windgustdir_ESE',\n",
    "       'windgustdir_N', 'windgustdir_NE', 'windgustdir_NNE', 'windgustdir_NNW',\n",
    "       'windgustdir_NW', 'windgustdir_S', 'windgustdir_SE', 'windgustdir_SSE',\n",
    "       'windgustdir_SSW', 'windgustdir_SW', 'windgustdir_W', 'windgustdir_WNW',\n",
    "       'windgustdir_WSW', 'winddir9am_E', 'winddir9am_ENE', 'winddir9am_ESE',\n",
    "       'winddir9am_N', 'winddir9am_NE', 'winddir9am_NNE', 'winddir9am_NNW',\n",
    "       'winddir9am_NW', 'winddir9am_S', 'winddir9am_SE', 'winddir9am_SSE',\n",
    "       'winddir9am_SSW', 'winddir9am_SW', 'winddir9am_W', 'winddir9am_WNW',\n",
    "       'winddir9am_WSW', 'winddir3pm_E', 'winddir3pm_ENE', 'winddir3pm_ESE',\n",
    "       'winddir3pm_N', 'winddir3pm_NE', 'winddir3pm_NNE', 'winddir3pm_NNW',\n",
    "       'winddir3pm_NW', 'winddir3pm_S', 'winddir3pm_SE', 'winddir3pm_SSE',\n",
    "       'winddir3pm_SSW', 'winddir3pm_SW', 'winddir3pm_W', 'winddir3pm_WNW',\n",
    "       'winddir3pm_WSW']]\n",
    "y = df['raintomorrow']"
   ]
  },
  {
   "cell_type": "markdown",
   "metadata": {
    "hidden": true
   },
   "source": [
    "## Balancear DataFrame"
   ]
  },
  {
   "cell_type": "code",
   "execution_count": 109,
   "metadata": {
    "hidden": true
   },
   "outputs": [],
   "source": [
    "rus = RandomUnderSampler(random_state=7)\n",
    "X_resampled, y_resampled = rus.fit_resample(X, y)"
   ]
  },
  {
   "cell_type": "code",
   "execution_count": 110,
   "metadata": {
    "hidden": true
   },
   "outputs": [],
   "source": [
    "df = X_resampled\n",
    "df['raintomorrow'] = y_resampled"
   ]
  },
  {
   "cell_type": "markdown",
   "metadata": {
    "hidden": true
   },
   "source": [
    "## KNNImputer"
   ]
  },
  {
   "cell_type": "code",
   "execution_count": 111,
   "metadata": {
    "hidden": true
   },
   "outputs": [],
   "source": [
    "imputer = KNNImputer(n_neighbors=2)"
   ]
  },
  {
   "cell_type": "code",
   "execution_count": 112,
   "metadata": {
    "hidden": true
   },
   "outputs": [],
   "source": [
    "df = pd.DataFrame(imputer.fit_transform(X_resampled), columns=X_resampled.columns)"
   ]
  },
  {
   "cell_type": "code",
   "execution_count": 113,
   "metadata": {
    "hidden": true
   },
   "outputs": [],
   "source": [
    "df['raintomorrow'] = y_resampled"
   ]
  },
  {
   "cell_type": "code",
   "execution_count": 115,
   "metadata": {
    "hidden": true
   },
   "outputs": [],
   "source": [
    "X = df.drop(columns=['raintomorrow', 'amountOfRain', 'modelo_vigente'])\n",
    "y = df['raintomorrow']"
   ]
  },
  {
   "cell_type": "code",
   "execution_count": 116,
   "metadata": {
    "hidden": true
   },
   "outputs": [],
   "source": [
    "df.to_csv('weather_knn.csv')"
   ]
  },
  {
   "cell_type": "markdown",
   "metadata": {
    "hidden": true
   },
   "source": [
    "## Standardizar"
   ]
  },
  {
   "cell_type": "code",
   "execution_count": 117,
   "metadata": {
    "hidden": true
   },
   "outputs": [],
   "source": [
    "scaler = StandardScaler()"
   ]
  },
  {
   "cell_type": "code",
   "execution_count": 118,
   "metadata": {
    "hidden": true
   },
   "outputs": [
    {
     "data": {
      "text/plain": [
       "StandardScaler(copy=True, with_mean=True, with_std=True)"
      ]
     },
     "execution_count": 118,
     "metadata": {},
     "output_type": "execute_result"
    }
   ],
   "source": [
    "scaler.fit(X)"
   ]
  },
  {
   "cell_type": "code",
   "execution_count": 119,
   "metadata": {
    "hidden": true
   },
   "outputs": [],
   "source": [
    "dfs=pd.DataFrame(scaler.transform(X), columns=X.columns, index=X.index)"
   ]
  },
  {
   "cell_type": "code",
   "execution_count": 120,
   "metadata": {
    "hidden": true
   },
   "outputs": [],
   "source": [
    "dfs['raintomorrow'] = df['raintomorrow']"
   ]
  },
  {
   "cell_type": "markdown",
   "metadata": {
    "hidden": true
   },
   "source": [
    "## Regressão Logística"
   ]
  },
  {
   "cell_type": "code",
   "execution_count": 122,
   "metadata": {
    "hidden": true
   },
   "outputs": [],
   "source": [
    "modelo = LogisticRegression(max_iter=10000, n_jobs=-1)"
   ]
  },
  {
   "cell_type": "code",
   "execution_count": 123,
   "metadata": {
    "hidden": true
   },
   "outputs": [
    {
     "data": {
      "text/plain": [
       "LogisticRegression(C=1.0, class_weight=None, dual=False, fit_intercept=True,\n",
       "                   intercept_scaling=1, l1_ratio=None, max_iter=10000,\n",
       "                   multi_class='auto', n_jobs=-1, penalty='l2',\n",
       "                   random_state=None, solver='lbfgs', tol=0.0001, verbose=0,\n",
       "                   warm_start=False)"
      ]
     },
     "execution_count": 123,
     "metadata": {},
     "output_type": "execute_result"
    }
   ],
   "source": [
    "modelo.fit(X,y)"
   ]
  },
  {
   "cell_type": "code",
   "execution_count": 124,
   "metadata": {
    "hidden": true,
    "scrolled": true
   },
   "outputs": [
    {
     "data": {
      "text/plain": [
       "0.7913228973868306"
      ]
     },
     "execution_count": 124,
     "metadata": {},
     "output_type": "execute_result"
    }
   ],
   "source": [
    "modelo.score(X,y)"
   ]
  },
  {
   "cell_type": "code",
   "execution_count": 125,
   "metadata": {
    "hidden": true
   },
   "outputs": [
    {
     "data": {
      "text/plain": [
       "0.7889321119337432"
      ]
     },
     "execution_count": 125,
     "metadata": {},
     "output_type": "execute_result"
    }
   ],
   "source": [
    "X_train, X_test, y_train, y_test = train_test_split(X, y, test_size=0.75, random_state=7)\n",
    "modelo.score(X_train, y_train)"
   ]
  },
  {
   "cell_type": "code",
   "execution_count": 126,
   "metadata": {
    "hidden": true,
    "scrolled": true
   },
   "outputs": [
    {
     "name": "stdout",
     "output_type": "stream",
     "text": [
      "Taxa de acerto: 0.7972536090394033\n",
      "Taxa de captura: 0.7813470527339461\n"
     ]
    }
   ],
   "source": [
    "print('Taxa de acerto:', + precision_score(y, modelo.predict(X)))\n",
    "print('Taxa de captura:', + recall_score(y, modelo.predict(X)))"
   ]
  },
  {
   "cell_type": "code",
   "execution_count": 127,
   "metadata": {
    "hidden": true
   },
   "outputs": [
    {
     "data": {
      "image/png": "[encoded data removed]",
      "text/plain": [
       "<Figure size 432x288 with 2 Axes>"
      ]
     },
     "metadata": {
      "needs_background": "light"
     },
     "output_type": "display_data"
    }
   ],
   "source": [
    "plot_confusion_matrix(modelo, X_test, y_test, values_format='.0f')\n",
    "plt.grid(False)"
   ]
  },
  {
   "cell_type": "code",
   "execution_count": 128,
   "metadata": {
    "hidden": true
   },
   "outputs": [
    {
     "data": {
      "text/plain": [
       "<sklearn.metrics._plot.roc_curve.RocCurveDisplay at 0x25456a3f608>"
      ]
     },
     "execution_count": 128,
     "metadata": {},
     "output_type": "execute_result"
    },
    {
     "data": {
      "image/png": "[encoded data removed]",
      "text/plain": [
       "<Figure size 432x288 with 1 Axes>"
      ]
     },
     "metadata": {
      "needs_background": "light"
     },
     "output_type": "display_data"
    }
   ],
   "source": [
    "fig, ax = plt.subplots()\n",
    "plot_roc_curve(modelo, X_train, y_train, color='blue', ax=ax)\n",
    "plot_roc_curve(modelo, X_test, y_test, color='red', ax= ax)"
   ]
  },
  {
   "cell_type": "markdown",
   "metadata": {
    "hidden": true
   },
   "source": [
    "## Cotovelo, KMeans e Regressão Logística"
   ]
  },
  {
   "cell_type": "code",
   "execution_count": 129,
   "metadata": {
    "hidden": true,
    "scrolled": false
   },
   "outputs": [
    {
     "data": {
      "image/png": "[encoded data removed]",
      "text/plain": [
       "<Figure size 432x288 with 2 Axes>"
      ]
     },
     "metadata": {},
     "output_type": "display_data"
    },
    {
     "data": {
      "text/plain": [
       "<matplotlib.axes._subplots.AxesSubplot at 0x2545658ca88>"
      ]
     },
     "execution_count": 129,
     "metadata": {},
     "output_type": "execute_result"
    }
   ],
   "source": [
    "model = KMeans()\n",
    "visualizer = KElbowVisualizer(model, k=(1,20))\n",
    "visualizer.fit(dfs)\n",
    "visualizer.show()"
   ]
  },
  {
   "cell_type": "code",
   "execution_count": 130,
   "metadata": {
    "hidden": true
   },
   "outputs": [
    {
     "data": {
      "text/plain": [
       "KMeans(algorithm='auto', copy_x=True, init='k-means++', max_iter=300,\n",
       "       n_clusters=4, n_init=10, n_jobs=-1, precompute_distances='auto',\n",
       "       random_state=None, tol=0.0001, verbose=0)"
      ]
     },
     "execution_count": 130,
     "metadata": {},
     "output_type": "execute_result"
    }
   ],
   "source": [
    "model = KMeans(n_clusters=4, n_jobs=-1)\n",
    "model.fit(X)"
   ]
  },
  {
   "cell_type": "code",
   "execution_count": 131,
   "metadata": {
    "hidden": true
   },
   "outputs": [],
   "source": [
    "dfs['labels'] = model.labels_"
   ]
  },
  {
   "cell_type": "markdown",
   "metadata": {
    "hidden": true
   },
   "source": [
    "### Labels == 0"
   ]
  },
  {
   "cell_type": "code",
   "execution_count": 132,
   "metadata": {
    "hidden": true
   },
   "outputs": [
    {
     "data": {
      "text/plain": [
       "LogisticRegression(C=1.0, class_weight=None, dual=False, fit_intercept=True,\n",
       "                   intercept_scaling=1, l1_ratio=None, max_iter=10000,\n",
       "                   multi_class='auto', n_jobs=-1, penalty='l2',\n",
       "                   random_state=None, solver='lbfgs', tol=0.0001, verbose=0,\n",
       "                   warm_start=False)"
      ]
     },
     "execution_count": 132,
     "metadata": {},
     "output_type": "execute_result"
    }
   ],
   "source": [
    "mask = dfs['labels'] == 0\n",
    "X = dfs[mask].drop(columns=['raintomorrow'])\n",
    "y = dfs[mask]['raintomorrow']\n",
    "modelo.fit(X,y)"
   ]
  },
  {
   "cell_type": "code",
   "execution_count": 133,
   "metadata": {
    "hidden": true
   },
   "outputs": [
    {
     "data": {
      "text/plain": [
       "0.8588550151268327"
      ]
     },
     "execution_count": 133,
     "metadata": {},
     "output_type": "execute_result"
    }
   ],
   "source": [
    "modelo.score(X,y)"
   ]
  },
  {
   "cell_type": "code",
   "execution_count": 134,
   "metadata": {
    "hidden": true
   },
   "outputs": [
    {
     "data": {
      "text/plain": [
       "0.8580404933674657"
      ]
     },
     "execution_count": 134,
     "metadata": {},
     "output_type": "execute_result"
    }
   ],
   "source": [
    "X_train, X_test, y_train, y_test = train_test_split(X, y, test_size=0.75, random_state=7)\n",
    "modelo.score(X_train, y_train)"
   ]
  },
  {
   "cell_type": "markdown",
   "metadata": {
    "hidden": true
   },
   "source": [
    "### Labels == 1"
   ]
  },
  {
   "cell_type": "code",
   "execution_count": 135,
   "metadata": {
    "hidden": true
   },
   "outputs": [
    {
     "data": {
      "text/plain": [
       "LogisticRegression(C=1.0, class_weight=None, dual=False, fit_intercept=True,\n",
       "                   intercept_scaling=1, l1_ratio=None, max_iter=10000,\n",
       "                   multi_class='auto', n_jobs=-1, penalty='l2',\n",
       "                   random_state=None, solver='lbfgs', tol=0.0001, verbose=0,\n",
       "                   warm_start=False)"
      ]
     },
     "execution_count": 135,
     "metadata": {},
     "output_type": "execute_result"
    }
   ],
   "source": [
    "mask = dfs['labels'] == 1\n",
    "X = dfs[mask].drop(columns=['raintomorrow'])\n",
    "y = dfs[mask]['raintomorrow']\n",
    "modelo.fit(X,y)"
   ]
  },
  {
   "cell_type": "code",
   "execution_count": 136,
   "metadata": {
    "hidden": true
   },
   "outputs": [
    {
     "data": {
      "text/plain": [
       "0.8464324520101413"
      ]
     },
     "execution_count": 136,
     "metadata": {},
     "output_type": "execute_result"
    }
   ],
   "source": [
    "modelo.score(X,y)"
   ]
  },
  {
   "cell_type": "code",
   "execution_count": 137,
   "metadata": {
    "hidden": true
   },
   "outputs": [
    {
     "data": {
      "text/plain": [
       "0.8481599536366271"
      ]
     },
     "execution_count": 137,
     "metadata": {},
     "output_type": "execute_result"
    }
   ],
   "source": [
    "X_train, X_test, y_train, y_test = train_test_split(X, y, test_size=0.75, random_state=7)\n",
    "modelo.score(X_train, y_train)"
   ]
  },
  {
   "cell_type": "code",
   "execution_count": 138,
   "metadata": {
    "hidden": true
   },
   "outputs": [
    {
     "name": "stdout",
     "output_type": "stream",
     "text": [
      "Taxa de acerto: 0.7144934561318468\n",
      "Taxa de captura: 0.49051580698835273\n"
     ]
    }
   ],
   "source": [
    "print('Taxa de acerto:', + precision_score(y, modelo.predict(X)))\n",
    "print('Taxa de captura:', + recall_score(y, modelo.predict(X)))"
   ]
  },
  {
   "cell_type": "markdown",
   "metadata": {
    "hidden": true
   },
   "source": [
    "### Labels == 2"
   ]
  },
  {
   "cell_type": "code",
   "execution_count": 139,
   "metadata": {
    "hidden": true
   },
   "outputs": [
    {
     "data": {
      "text/plain": [
       "LogisticRegression(C=1.0, class_weight=None, dual=False, fit_intercept=True,\n",
       "                   intercept_scaling=1, l1_ratio=None, max_iter=10000,\n",
       "                   multi_class='auto', n_jobs=-1, penalty='l2',\n",
       "                   random_state=None, solver='lbfgs', tol=0.0001, verbose=0,\n",
       "                   warm_start=False)"
      ]
     },
     "execution_count": 139,
     "metadata": {},
     "output_type": "execute_result"
    }
   ],
   "source": [
    "mask = dfs['labels'] == 2\n",
    "X = dfs[mask].drop(columns=['raintomorrow'])\n",
    "y = dfs[mask]['raintomorrow']\n",
    "modelo.fit(X,y)"
   ]
  },
  {
   "cell_type": "code",
   "execution_count": 140,
   "metadata": {
    "hidden": true
   },
   "outputs": [
    {
     "data": {
      "text/plain": [
       "0.7674261499723638"
      ]
     },
     "execution_count": 140,
     "metadata": {},
     "output_type": "execute_result"
    }
   ],
   "source": [
    "modelo.score(X,y)"
   ]
  },
  {
   "cell_type": "code",
   "execution_count": 141,
   "metadata": {
    "hidden": true
   },
   "outputs": [
    {
     "data": {
      "text/plain": [
       "0.7675675675675676"
      ]
     },
     "execution_count": 141,
     "metadata": {},
     "output_type": "execute_result"
    }
   ],
   "source": [
    "X_train, X_test, y_train, y_test = train_test_split(X, y, test_size=0.75, random_state=7)\n",
    "modelo.score(X_train, y_train)"
   ]
  },
  {
   "cell_type": "code",
   "execution_count": 142,
   "metadata": {
    "hidden": true
   },
   "outputs": [
    {
     "name": "stdout",
     "output_type": "stream",
     "text": [
      "Taxa de acerto: 0.6727732154137713\n",
      "Taxa de captura: 0.4363859864781807\n"
     ]
    }
   ],
   "source": [
    "print('Taxa de acerto:', + precision_score(y, modelo.predict(X)))\n",
    "print('Taxa de captura:', + recall_score(y, modelo.predict(X)))"
   ]
  },
  {
   "cell_type": "markdown",
   "metadata": {
    "hidden": true
   },
   "source": [
    "### Labels == 3"
   ]
  },
  {
   "cell_type": "code",
   "execution_count": 143,
   "metadata": {
    "hidden": true
   },
   "outputs": [
    {
     "data": {
      "text/plain": [
       "LogisticRegression(C=1.0, class_weight=None, dual=False, fit_intercept=True,\n",
       "                   intercept_scaling=1, l1_ratio=None, max_iter=10000,\n",
       "                   multi_class='auto', n_jobs=-1, penalty='l2',\n",
       "                   random_state=None, solver='lbfgs', tol=0.0001, verbose=0,\n",
       "                   warm_start=False)"
      ]
     },
     "execution_count": 143,
     "metadata": {},
     "output_type": "execute_result"
    }
   ],
   "source": [
    "mask = dfs['labels'] == 3\n",
    "X = dfs[mask].drop(columns=['raintomorrow'])\n",
    "y = dfs[mask]['raintomorrow']\n",
    "modelo.fit(X,y)"
   ]
  },
  {
   "cell_type": "code",
   "execution_count": 144,
   "metadata": {
    "hidden": true
   },
   "outputs": [
    {
     "data": {
      "text/plain": [
       "0.7297608933122952"
      ]
     },
     "execution_count": 144,
     "metadata": {},
     "output_type": "execute_result"
    }
   ],
   "source": [
    "modelo.score(X,y)"
   ]
  },
  {
   "cell_type": "code",
   "execution_count": 145,
   "metadata": {
    "hidden": true
   },
   "outputs": [
    {
     "data": {
      "text/plain": [
       "0.7356154406409323"
      ]
     },
     "execution_count": 145,
     "metadata": {},
     "output_type": "execute_result"
    }
   ],
   "source": [
    "X_train, X_test, y_train, y_test = train_test_split(X, y, test_size=0.75, random_state=7)\n",
    "modelo.score(X_train, y_train)"
   ]
  },
  {
   "cell_type": "code",
   "execution_count": 146,
   "metadata": {
    "hidden": true
   },
   "outputs": [
    {
     "name": "stdout",
     "output_type": "stream",
     "text": [
      "Taxa de acerto: 0.7516194331983805\n",
      "Taxa de captura: 0.7879045092838196\n"
     ]
    }
   ],
   "source": [
    "print('Taxa de acerto:', + precision_score(y, modelo.predict(X)))\n",
    "print('Taxa de captura:', + recall_score(y, modelo.predict(X)))"
   ]
  },
  {
   "cell_type": "markdown",
   "metadata": {
    "heading_collapsed": true
   },
   "source": [
    "# Geolocalização\n",
    "Já que com os dados anteriores não cheguei em um resultado desejado, decidi colocar a geolocalização para ver o impacto."
   ]
  },
  {
   "cell_type": "markdown",
   "metadata": {
    "hidden": true
   },
   "source": [
    "## DataFrame"
   ]
  },
  {
   "cell_type": "code",
   "execution_count": 2,
   "metadata": {
    "hidden": true
   },
   "outputs": [],
   "source": [
    "rain = pd.read_csv('data/rain_data_aus.csv')\n",
    "rain['raintoday'] = rain['raintoday'].replace('No', 0).replace('Yes', 1)\n",
    "rain['raintomorrow'] = rain['raintomorrow'].replace('No', 0).replace('Yes', 1)\n",
    "wind_1 = pd.read_csv('data/wind_table_01.csv')\n",
    "wind_2 = pd.read_csv('data/wind_table_02.csv')\n",
    "wind_3 = pd.read_csv('data/wind_table_03.csv')\n",
    "wind_4 = pd.read_csv('data/wind_table_04.csv')\n",
    "wind_5 = pd.read_csv('data/wind_table_05.csv')\n",
    "wind_6 = pd.read_csv('data/wind_table_06.csv')\n",
    "wind_7 = pd.read_csv('data/wind_table_07.csv')\n",
    "wind_8 = pd.read_csv('data/wind_table_08.csv')\n",
    "wind_1.columns = wind_3.columns\n",
    "wind_2.columns = wind_3.columns\n",
    "wind = wind_1.append(wind_2, ignore_index=True).append(wind_3, ignore_index=True).append(wind_3, ignore_index=True).append(wind_4, ignore_index=True).append(wind_5, ignore_index=True).append(wind_6, ignore_index=True).append(wind_7, ignore_index=True).append(wind_8, ignore_index=True)"
   ]
  },
  {
   "cell_type": "code",
   "execution_count": 3,
   "metadata": {
    "hidden": true
   },
   "outputs": [],
   "source": [
    "df = rain.merge(wind, on=['date','location'], how='left').drop_duplicates()"
   ]
  },
  {
   "cell_type": "markdown",
   "metadata": {
    "hidden": true
   },
   "source": [
    "## Geolocalização"
   ]
  },
  {
   "cell_type": "code",
   "execution_count": 4,
   "metadata": {
    "hidden": true
   },
   "outputs": [],
   "source": [
    "df['location'] = df['location'].replace('NorfolkIsland', 'Norfolk Island').replace('MountGambier', 'Mount Gambier')\n",
    "df['location'] = df['location'].replace('SydneyAirport', 'Sydney Airport').replace('MountGinini', 'Mount Ginini')\n",
    "df['location'] = df['location'].replace('PerthAirport', 'Perth Airport').replace('AliceSprings', 'Alice Springs')\n",
    "df['location'] = df['location'].replace('NorahHead', 'Norah Head').replace('WaggaWagga', 'Wagga Wagga')\n",
    "df['location'] = df['location'].replace('BadgerysCreek', 'Badgerys Creek').replace('PearceRAAF', 'Pearce RAAF')\n",
    "df['location'] = df['location'].replace('GoldCoast', 'Gold Coast').replace('SalmonGums', 'Salmon Gums')\n",
    "df['location'] = df['location'].replace('MelbourneAirport', 'Melbourne Airport').replace('CoffsHarbour', 'Coffs Harbour')"
   ]
  },
  {
   "cell_type": "code",
   "execution_count": 5,
   "metadata": {
    "hidden": true
   },
   "outputs": [],
   "source": [
    "local = df[['location']].drop_duplicates().reset_index().drop(columns=['index'])"
   ]
  },
  {
   "cell_type": "code",
   "execution_count": 6,
   "metadata": {
    "hidden": true
   },
   "outputs": [],
   "source": [
    "local['latitude'] = float(0)\n",
    "local['longitude'] = float(0)"
   ]
  },
  {
   "cell_type": "code",
   "execution_count": 7,
   "metadata": {
    "hidden": true
   },
   "outputs": [
    {
     "name": "stderr",
     "output_type": "stream",
     "text": [
      "C:\\Users\\yukar\\Anaconda3\\lib\\site-packages\\ipykernel_launcher.py:1: DeprecationWarning: Using Nominatim with the default \"geopy/1.21.0\" `user_agent` is strongly discouraged, as it violates Nominatim's ToS https://operations.osmfoundation.org/policies/nominatim/ and may possibly cause 403 and 429 HTTP errors. Please specify a custom `user_agent` with `Nominatim(user_agent=\"my-application\")` or by overriding the default `user_agent`: `geopy.geocoders.options.default_user_agent = \"my-application\"`. In geopy 2.0 this will become an exception.\n",
      "  \"\"\"Entry point for launching an IPython kernel.\n",
      "  0%|          | 0/49 [00:00<?, ?it/s]C:\\Users\\yukar\\Anaconda3\\lib\\site-packages\\ipykernel_launcher.py:4: SettingWithCopyWarning: \n",
      "A value is trying to be set on a copy of a slice from a DataFrame\n",
      "\n",
      "See the caveats in the documentation: https://pandas.pydata.org/pandas-docs/stable/user_guide/indexing.html#returning-a-view-versus-a-copy\n",
      "  after removing the cwd from sys.path.\n",
      "C:\\Users\\yukar\\Anaconda3\\lib\\site-packages\\ipykernel_launcher.py:5: SettingWithCopyWarning: \n",
      "A value is trying to be set on a copy of a slice from a DataFrame\n",
      "\n",
      "See the caveats in the documentation: https://pandas.pydata.org/pandas-docs/stable/user_guide/indexing.html#returning-a-view-versus-a-copy\n",
      "  \"\"\"\n",
      "100%|██████████| 49/49 [00:43<00:00,  1.11it/s]\n"
     ]
    }
   ],
   "source": [
    "geolocator = Nominatim(timeout=10)\n",
    "for item in tqdm(range(0,49)):\n",
    "    location = geolocator.geocode(local['location'][item] + ', Australia')\n",
    "    local['latitude'][item]= location.latitude\n",
    "    local['longitude'][item]=location.longitude"
   ]
  },
  {
   "cell_type": "code",
   "execution_count": 8,
   "metadata": {
    "hidden": true
   },
   "outputs": [],
   "source": [
    "df['latitude'] = float(0)\n",
    "df['longitude'] = float(0)"
   ]
  },
  {
   "cell_type": "code",
   "execution_count": 9,
   "metadata": {
    "hidden": true
   },
   "outputs": [],
   "source": [
    "df = df.merge(local, on=['location'], how='left')\n",
    "df.to_csv('Geolocalização.csv')"
   ]
  },
  {
   "cell_type": "code",
   "execution_count": 10,
   "metadata": {
    "hidden": true
   },
   "outputs": [],
   "source": [
    "df = pd.read_csv('Geolocalização.csv')"
   ]
  },
  {
   "cell_type": "code",
   "execution_count": 11,
   "metadata": {
    "hidden": true
   },
   "outputs": [
    {
     "data": {
      "text/html": [
       "<div>\n",
       "<style scoped>\n",
       "    .dataframe tbody tr th:only-of-type {\n",
       "        vertical-align: middle;\n",
       "    }\n",
       "\n",
       "    .dataframe tbody tr th {\n",
       "        vertical-align: top;\n",
       "    }\n",
       "\n",
       "    .dataframe thead th {\n",
       "        text-align: right;\n",
       "    }\n",
       "</style>\n",
       "<table border=\"1\" class=\"dataframe\">\n",
       "  <thead>\n",
       "    <tr style=\"text-align: right;\">\n",
       "      <th></th>\n",
       "      <th>Unnamed: 0</th>\n",
       "      <th>date</th>\n",
       "      <th>location</th>\n",
       "      <th>mintemp</th>\n",
       "      <th>maxtemp</th>\n",
       "      <th>rainfall</th>\n",
       "      <th>evaporation</th>\n",
       "      <th>sunshine</th>\n",
       "      <th>humidity9am</th>\n",
       "      <th>humidity3pm</th>\n",
       "      <th>...</th>\n",
       "      <th>windgustdir</th>\n",
       "      <th>windgustspeed</th>\n",
       "      <th>winddir9am</th>\n",
       "      <th>winddir3pm</th>\n",
       "      <th>windspeed9am</th>\n",
       "      <th>windspeed3pm</th>\n",
       "      <th>latitude_x</th>\n",
       "      <th>longitude_x</th>\n",
       "      <th>latitude_y</th>\n",
       "      <th>longitude_y</th>\n",
       "    </tr>\n",
       "  </thead>\n",
       "  <tbody>\n",
       "    <tr>\n",
       "      <th>0</th>\n",
       "      <td>0</td>\n",
       "      <td>2008-12-01</td>\n",
       "      <td>Albury</td>\n",
       "      <td>13.4</td>\n",
       "      <td>22.9</td>\n",
       "      <td>0.6</td>\n",
       "      <td>NaN</td>\n",
       "      <td>NaN</td>\n",
       "      <td>71.0</td>\n",
       "      <td>22.0</td>\n",
       "      <td>...</td>\n",
       "      <td>W</td>\n",
       "      <td>44.0</td>\n",
       "      <td>W</td>\n",
       "      <td>WNW</td>\n",
       "      <td>20.0</td>\n",
       "      <td>24.0</td>\n",
       "      <td>0.0</td>\n",
       "      <td>0.0</td>\n",
       "      <td>-36.080477</td>\n",
       "      <td>146.916280</td>\n",
       "    </tr>\n",
       "    <tr>\n",
       "      <th>1</th>\n",
       "      <td>1</td>\n",
       "      <td>2008-12-02</td>\n",
       "      <td>Albury</td>\n",
       "      <td>7.4</td>\n",
       "      <td>25.1</td>\n",
       "      <td>0.0</td>\n",
       "      <td>NaN</td>\n",
       "      <td>NaN</td>\n",
       "      <td>44.0</td>\n",
       "      <td>25.0</td>\n",
       "      <td>...</td>\n",
       "      <td>WNW</td>\n",
       "      <td>44.0</td>\n",
       "      <td>NNW</td>\n",
       "      <td>WSW</td>\n",
       "      <td>4.0</td>\n",
       "      <td>22.0</td>\n",
       "      <td>0.0</td>\n",
       "      <td>0.0</td>\n",
       "      <td>-36.080477</td>\n",
       "      <td>146.916280</td>\n",
       "    </tr>\n",
       "    <tr>\n",
       "      <th>2</th>\n",
       "      <td>2</td>\n",
       "      <td>2008-12-03</td>\n",
       "      <td>Albury</td>\n",
       "      <td>12.9</td>\n",
       "      <td>25.7</td>\n",
       "      <td>0.0</td>\n",
       "      <td>NaN</td>\n",
       "      <td>NaN</td>\n",
       "      <td>38.0</td>\n",
       "      <td>30.0</td>\n",
       "      <td>...</td>\n",
       "      <td>WSW</td>\n",
       "      <td>46.0</td>\n",
       "      <td>W</td>\n",
       "      <td>WSW</td>\n",
       "      <td>19.0</td>\n",
       "      <td>26.0</td>\n",
       "      <td>0.0</td>\n",
       "      <td>0.0</td>\n",
       "      <td>-36.080477</td>\n",
       "      <td>146.916280</td>\n",
       "    </tr>\n",
       "    <tr>\n",
       "      <th>3</th>\n",
       "      <td>3</td>\n",
       "      <td>2008-12-04</td>\n",
       "      <td>Albury</td>\n",
       "      <td>9.2</td>\n",
       "      <td>28.0</td>\n",
       "      <td>0.0</td>\n",
       "      <td>NaN</td>\n",
       "      <td>NaN</td>\n",
       "      <td>45.0</td>\n",
       "      <td>16.0</td>\n",
       "      <td>...</td>\n",
       "      <td>NE</td>\n",
       "      <td>24.0</td>\n",
       "      <td>SE</td>\n",
       "      <td>E</td>\n",
       "      <td>11.0</td>\n",
       "      <td>9.0</td>\n",
       "      <td>0.0</td>\n",
       "      <td>0.0</td>\n",
       "      <td>-36.080477</td>\n",
       "      <td>146.916280</td>\n",
       "    </tr>\n",
       "    <tr>\n",
       "      <th>4</th>\n",
       "      <td>4</td>\n",
       "      <td>2008-12-05</td>\n",
       "      <td>Albury</td>\n",
       "      <td>17.5</td>\n",
       "      <td>32.3</td>\n",
       "      <td>1.0</td>\n",
       "      <td>NaN</td>\n",
       "      <td>NaN</td>\n",
       "      <td>82.0</td>\n",
       "      <td>33.0</td>\n",
       "      <td>...</td>\n",
       "      <td>W</td>\n",
       "      <td>41.0</td>\n",
       "      <td>ENE</td>\n",
       "      <td>NW</td>\n",
       "      <td>7.0</td>\n",
       "      <td>20.0</td>\n",
       "      <td>0.0</td>\n",
       "      <td>0.0</td>\n",
       "      <td>-36.080477</td>\n",
       "      <td>146.916280</td>\n",
       "    </tr>\n",
       "    <tr>\n",
       "      <th>...</th>\n",
       "      <td>...</td>\n",
       "      <td>...</td>\n",
       "      <td>...</td>\n",
       "      <td>...</td>\n",
       "      <td>...</td>\n",
       "      <td>...</td>\n",
       "      <td>...</td>\n",
       "      <td>...</td>\n",
       "      <td>...</td>\n",
       "      <td>...</td>\n",
       "      <td>...</td>\n",
       "      <td>...</td>\n",
       "      <td>...</td>\n",
       "      <td>...</td>\n",
       "      <td>...</td>\n",
       "      <td>...</td>\n",
       "      <td>...</td>\n",
       "      <td>...</td>\n",
       "      <td>...</td>\n",
       "      <td>...</td>\n",
       "      <td>...</td>\n",
       "    </tr>\n",
       "    <tr>\n",
       "      <th>142188</th>\n",
       "      <td>142188</td>\n",
       "      <td>2017-06-20</td>\n",
       "      <td>Uluru</td>\n",
       "      <td>3.5</td>\n",
       "      <td>21.8</td>\n",
       "      <td>0.0</td>\n",
       "      <td>NaN</td>\n",
       "      <td>NaN</td>\n",
       "      <td>59.0</td>\n",
       "      <td>27.0</td>\n",
       "      <td>...</td>\n",
       "      <td>E</td>\n",
       "      <td>31.0</td>\n",
       "      <td>ESE</td>\n",
       "      <td>E</td>\n",
       "      <td>15.0</td>\n",
       "      <td>13.0</td>\n",
       "      <td>0.0</td>\n",
       "      <td>0.0</td>\n",
       "      <td>-25.345555</td>\n",
       "      <td>131.036961</td>\n",
       "    </tr>\n",
       "    <tr>\n",
       "      <th>142189</th>\n",
       "      <td>142189</td>\n",
       "      <td>2017-06-21</td>\n",
       "      <td>Uluru</td>\n",
       "      <td>2.8</td>\n",
       "      <td>23.4</td>\n",
       "      <td>0.0</td>\n",
       "      <td>NaN</td>\n",
       "      <td>NaN</td>\n",
       "      <td>51.0</td>\n",
       "      <td>24.0</td>\n",
       "      <td>...</td>\n",
       "      <td>E</td>\n",
       "      <td>31.0</td>\n",
       "      <td>SE</td>\n",
       "      <td>ENE</td>\n",
       "      <td>13.0</td>\n",
       "      <td>11.0</td>\n",
       "      <td>0.0</td>\n",
       "      <td>0.0</td>\n",
       "      <td>-25.345555</td>\n",
       "      <td>131.036961</td>\n",
       "    </tr>\n",
       "    <tr>\n",
       "      <th>142190</th>\n",
       "      <td>142190</td>\n",
       "      <td>2017-06-22</td>\n",
       "      <td>Uluru</td>\n",
       "      <td>3.6</td>\n",
       "      <td>25.3</td>\n",
       "      <td>0.0</td>\n",
       "      <td>NaN</td>\n",
       "      <td>NaN</td>\n",
       "      <td>56.0</td>\n",
       "      <td>21.0</td>\n",
       "      <td>...</td>\n",
       "      <td>NNW</td>\n",
       "      <td>22.0</td>\n",
       "      <td>SE</td>\n",
       "      <td>N</td>\n",
       "      <td>13.0</td>\n",
       "      <td>9.0</td>\n",
       "      <td>0.0</td>\n",
       "      <td>0.0</td>\n",
       "      <td>-25.345555</td>\n",
       "      <td>131.036961</td>\n",
       "    </tr>\n",
       "    <tr>\n",
       "      <th>142191</th>\n",
       "      <td>142191</td>\n",
       "      <td>2017-06-23</td>\n",
       "      <td>Uluru</td>\n",
       "      <td>5.4</td>\n",
       "      <td>26.9</td>\n",
       "      <td>0.0</td>\n",
       "      <td>NaN</td>\n",
       "      <td>NaN</td>\n",
       "      <td>53.0</td>\n",
       "      <td>24.0</td>\n",
       "      <td>...</td>\n",
       "      <td>N</td>\n",
       "      <td>37.0</td>\n",
       "      <td>SE</td>\n",
       "      <td>WNW</td>\n",
       "      <td>9.0</td>\n",
       "      <td>9.0</td>\n",
       "      <td>0.0</td>\n",
       "      <td>0.0</td>\n",
       "      <td>-25.345555</td>\n",
       "      <td>131.036961</td>\n",
       "    </tr>\n",
       "    <tr>\n",
       "      <th>142192</th>\n",
       "      <td>142192</td>\n",
       "      <td>2017-06-24</td>\n",
       "      <td>Uluru</td>\n",
       "      <td>7.8</td>\n",
       "      <td>27.0</td>\n",
       "      <td>0.0</td>\n",
       "      <td>NaN</td>\n",
       "      <td>NaN</td>\n",
       "      <td>51.0</td>\n",
       "      <td>24.0</td>\n",
       "      <td>...</td>\n",
       "      <td>SE</td>\n",
       "      <td>28.0</td>\n",
       "      <td>SSE</td>\n",
       "      <td>N</td>\n",
       "      <td>13.0</td>\n",
       "      <td>7.0</td>\n",
       "      <td>0.0</td>\n",
       "      <td>0.0</td>\n",
       "      <td>-25.345555</td>\n",
       "      <td>131.036961</td>\n",
       "    </tr>\n",
       "  </tbody>\n",
       "</table>\n",
       "<p>142193 rows × 34 columns</p>\n",
       "</div>"
      ],
      "text/plain": [
       "        Unnamed: 0        date location  mintemp  maxtemp  rainfall  \\\n",
       "0                0  2008-12-01   Albury     13.4     22.9       0.6   \n",
       "1                1  2008-12-02   Albury      7.4     25.1       0.0   \n",
       "2                2  2008-12-03   Albury     12.9     25.7       0.0   \n",
       "3                3  2008-12-04   Albury      9.2     28.0       0.0   \n",
       "4                4  2008-12-05   Albury     17.5     32.3       1.0   \n",
       "...            ...         ...      ...      ...      ...       ...   \n",
       "142188      142188  2017-06-20    Uluru      3.5     21.8       0.0   \n",
       "142189      142189  2017-06-21    Uluru      2.8     23.4       0.0   \n",
       "142190      142190  2017-06-22    Uluru      3.6     25.3       0.0   \n",
       "142191      142191  2017-06-23    Uluru      5.4     26.9       0.0   \n",
       "142192      142192  2017-06-24    Uluru      7.8     27.0       0.0   \n",
       "\n",
       "        evaporation  sunshine  humidity9am  humidity3pm  ...  windgustdir  \\\n",
       "0               NaN       NaN         71.0         22.0  ...            W   \n",
       "1               NaN       NaN         44.0         25.0  ...          WNW   \n",
       "2               NaN       NaN         38.0         30.0  ...          WSW   \n",
       "3               NaN       NaN         45.0         16.0  ...           NE   \n",
       "4               NaN       NaN         82.0         33.0  ...            W   \n",
       "...             ...       ...          ...          ...  ...          ...   \n",
       "142188          NaN       NaN         59.0         27.0  ...            E   \n",
       "142189          NaN       NaN         51.0         24.0  ...            E   \n",
       "142190          NaN       NaN         56.0         21.0  ...          NNW   \n",
       "142191          NaN       NaN         53.0         24.0  ...            N   \n",
       "142192          NaN       NaN         51.0         24.0  ...           SE   \n",
       "\n",
       "        windgustspeed  winddir9am  winddir3pm  windspeed9am  windspeed3pm  \\\n",
       "0                44.0           W         WNW          20.0          24.0   \n",
       "1                44.0         NNW         WSW           4.0          22.0   \n",
       "2                46.0           W         WSW          19.0          26.0   \n",
       "3                24.0          SE           E          11.0           9.0   \n",
       "4                41.0         ENE          NW           7.0          20.0   \n",
       "...               ...         ...         ...           ...           ...   \n",
       "142188           31.0         ESE           E          15.0          13.0   \n",
       "142189           31.0          SE         ENE          13.0          11.0   \n",
       "142190           22.0          SE           N          13.0           9.0   \n",
       "142191           37.0          SE         WNW           9.0           9.0   \n",
       "142192           28.0         SSE           N          13.0           7.0   \n",
       "\n",
       "        latitude_x  longitude_x  latitude_y  longitude_y  \n",
       "0              0.0          0.0  -36.080477   146.916280  \n",
       "1              0.0          0.0  -36.080477   146.916280  \n",
       "2              0.0          0.0  -36.080477   146.916280  \n",
       "3              0.0          0.0  -36.080477   146.916280  \n",
       "4              0.0          0.0  -36.080477   146.916280  \n",
       "...            ...          ...         ...          ...  \n",
       "142188         0.0          0.0  -25.345555   131.036961  \n",
       "142189         0.0          0.0  -25.345555   131.036961  \n",
       "142190         0.0          0.0  -25.345555   131.036961  \n",
       "142191         0.0          0.0  -25.345555   131.036961  \n",
       "142192         0.0          0.0  -25.345555   131.036961  \n",
       "\n",
       "[142193 rows x 34 columns]"
      ]
     },
     "execution_count": 11,
     "metadata": {},
     "output_type": "execute_result"
    }
   ],
   "source": [
    "df"
   ]
  },
  {
   "cell_type": "code",
   "execution_count": 12,
   "metadata": {
    "hidden": true
   },
   "outputs": [],
   "source": [
    "df = df.drop(columns=['date','location','latitude_x','longitude_x']).rename(columns={'latitude_y':'latitude', 'longitude_y':'longitude'})"
   ]
  },
  {
   "cell_type": "markdown",
   "metadata": {
    "hidden": true
   },
   "source": [
    "## Dummies"
   ]
  },
  {
   "cell_type": "code",
   "execution_count": 13,
   "metadata": {
    "hidden": true
   },
   "outputs": [],
   "source": [
    "df = pd.get_dummies(df)"
   ]
  },
  {
   "cell_type": "markdown",
   "metadata": {
    "hidden": true
   },
   "source": [
    "## Balancear DataFrame"
   ]
  },
  {
   "cell_type": "code",
   "execution_count": 14,
   "metadata": {
    "hidden": true
   },
   "outputs": [],
   "source": [
    "X = df[['mintemp', 'maxtemp', 'rainfall', 'evaporation', 'sunshine',\n",
    "       'humidity9am', 'humidity3pm', 'pressure9am', 'pressure3pm', 'cloud9am',\n",
    "       'cloud3pm', 'temp9am', 'temp3pm', 'raintoday', 'amountOfRain', 'temp',\n",
    "       'humidity', 'precipitation3pm', 'precipitation9am', 'modelo_vigente',\n",
    "       'windgustspeed', 'windspeed9am', 'windspeed3pm', 'latitude',\n",
    "       'longitude', 'windgustdir_E', 'windgustdir_ENE',\n",
    "       'windgustdir_ESE', 'windgustdir_N', 'windgustdir_NE', 'windgustdir_NNE',\n",
    "       'windgustdir_NNW', 'windgustdir_NW', 'windgustdir_S', 'windgustdir_SE',\n",
    "       'windgustdir_SSE', 'windgustdir_SSW', 'windgustdir_SW', 'windgustdir_W',\n",
    "       'windgustdir_WNW', 'windgustdir_WSW', 'winddir9am_E', 'winddir9am_ENE',\n",
    "       'winddir9am_ESE', 'winddir9am_N', 'winddir9am_NE', 'winddir9am_NNE',\n",
    "       'winddir9am_NNW', 'winddir9am_NW', 'winddir9am_S', 'winddir9am_SE',\n",
    "       'winddir9am_SSE', 'winddir9am_SSW', 'winddir9am_SW', 'winddir9am_W',\n",
    "       'winddir9am_WNW', 'winddir9am_WSW', 'winddir3pm_E', 'winddir3pm_ENE',\n",
    "       'winddir3pm_ESE', 'winddir3pm_N', 'winddir3pm_NE', 'winddir3pm_NNE',\n",
    "       'winddir3pm_NNW', 'winddir3pm_NW', 'winddir3pm_S', 'winddir3pm_SE',\n",
    "       'winddir3pm_SSE', 'winddir3pm_SSW', 'winddir3pm_SW', 'winddir3pm_W',\n",
    "       'winddir3pm_WNW', 'winddir3pm_WSW']]\n",
    "y = df['raintomorrow']"
   ]
  },
  {
   "cell_type": "code",
   "execution_count": 15,
   "metadata": {
    "hidden": true
   },
   "outputs": [],
   "source": [
    "rus = RandomUnderSampler(random_state=7)\n",
    "X_resampled, y_resampled = rus.fit_resample(X, y)"
   ]
  },
  {
   "cell_type": "code",
   "execution_count": 16,
   "metadata": {
    "hidden": true
   },
   "outputs": [],
   "source": [
    "df = X_resampled\n",
    "df['raintomorrow'] = y_resampled"
   ]
  },
  {
   "cell_type": "markdown",
   "metadata": {
    "hidden": true
   },
   "source": [
    "## KNNImputer"
   ]
  },
  {
   "cell_type": "code",
   "execution_count": 17,
   "metadata": {
    "hidden": true
   },
   "outputs": [],
   "source": [
    "imputer = KNNImputer(n_neighbors=2)"
   ]
  },
  {
   "cell_type": "code",
   "execution_count": 18,
   "metadata": {
    "hidden": true
   },
   "outputs": [],
   "source": [
    "df = pd.DataFrame(imputer.fit_transform(X_resampled), columns=X_resampled.columns)"
   ]
  },
  {
   "cell_type": "code",
   "execution_count": 19,
   "metadata": {
    "hidden": true
   },
   "outputs": [],
   "source": [
    "df['raintomorrow'] = y_resampled"
   ]
  },
  {
   "cell_type": "code",
   "execution_count": 20,
   "metadata": {
    "hidden": true
   },
   "outputs": [],
   "source": [
    "X = df.drop(columns=['raintomorrow', 'amountOfRain', 'modelo_vigente'])\n",
    "y = df['raintomorrow']"
   ]
  },
  {
   "cell_type": "code",
   "execution_count": 21,
   "metadata": {
    "hidden": true
   },
   "outputs": [],
   "source": [
    "df.to_csv('geo_knn.csv')"
   ]
  },
  {
   "cell_type": "markdown",
   "metadata": {
    "hidden": true
   },
   "source": [
    "## Standardizar"
   ]
  },
  {
   "cell_type": "code",
   "execution_count": 22,
   "metadata": {
    "hidden": true
   },
   "outputs": [],
   "source": [
    "scaler = StandardScaler()"
   ]
  },
  {
   "cell_type": "code",
   "execution_count": 23,
   "metadata": {
    "hidden": true
   },
   "outputs": [
    {
     "data": {
      "text/plain": [
       "StandardScaler(copy=True, with_mean=True, with_std=True)"
      ]
     },
     "execution_count": 23,
     "metadata": {},
     "output_type": "execute_result"
    }
   ],
   "source": [
    "scaler.fit(X)"
   ]
  },
  {
   "cell_type": "code",
   "execution_count": 24,
   "metadata": {
    "hidden": true
   },
   "outputs": [],
   "source": [
    "dfs=pd.DataFrame(scaler.transform(X), columns=X.columns, index=X.index)"
   ]
  },
  {
   "cell_type": "code",
   "execution_count": 25,
   "metadata": {
    "hidden": true
   },
   "outputs": [],
   "source": [
    "dfs['raintomorrow'] = df['raintomorrow']"
   ]
  },
  {
   "cell_type": "markdown",
   "metadata": {
    "hidden": true
   },
   "source": [
    "## Regressão Logística"
   ]
  },
  {
   "cell_type": "code",
   "execution_count": 26,
   "metadata": {
    "hidden": true
   },
   "outputs": [],
   "source": [
    "X = dfs[['mintemp', 'maxtemp', 'rainfall', 'evaporation', 'sunshine',\n",
    "       'humidity9am', 'humidity3pm', 'pressure9am', 'pressure3pm', 'cloud9am',\n",
    "       'cloud3pm', 'temp9am', 'temp3pm', 'raintoday', 'temp',\n",
    "       'humidity', 'precipitation3pm', 'precipitation9am',\n",
    "       'windgustspeed', 'windspeed9am', 'windspeed3pm', 'latitude',\n",
    "       'longitude', 'windgustdir_E', 'windgustdir_ENE',\n",
    "       'windgustdir_ESE', 'windgustdir_N', 'windgustdir_NE', 'windgustdir_NNE',\n",
    "       'windgustdir_NNW', 'windgustdir_NW', 'windgustdir_S', 'windgustdir_SE',\n",
    "       'windgustdir_SSE', 'windgustdir_SSW', 'windgustdir_SW', 'windgustdir_W',\n",
    "       'windgustdir_WNW', 'windgustdir_WSW', 'winddir9am_E', 'winddir9am_ENE',\n",
    "       'winddir9am_ESE', 'winddir9am_N', 'winddir9am_NE', 'winddir9am_NNE',\n",
    "       'winddir9am_NNW', 'winddir9am_NW', 'winddir9am_S', 'winddir9am_SE',\n",
    "       'winddir9am_SSE', 'winddir9am_SSW', 'winddir9am_SW', 'winddir9am_W',\n",
    "       'winddir9am_WNW', 'winddir9am_WSW', 'winddir3pm_E', 'winddir3pm_ENE',\n",
    "       'winddir3pm_ESE', 'winddir3pm_N', 'winddir3pm_NE', 'winddir3pm_NNE',\n",
    "       'winddir3pm_NNW', 'winddir3pm_NW', 'winddir3pm_S', 'winddir3pm_SE',\n",
    "       'winddir3pm_SSE', 'winddir3pm_SSW', 'winddir3pm_SW', 'winddir3pm_W',\n",
    "       'winddir3pm_WNW', 'winddir3pm_WSW']]\n",
    "y = dfs['raintomorrow']"
   ]
  },
  {
   "cell_type": "code",
   "execution_count": 27,
   "metadata": {
    "hidden": true
   },
   "outputs": [],
   "source": [
    "modelo = LogisticRegression(max_iter=10000, n_jobs=-1)"
   ]
  },
  {
   "cell_type": "code",
   "execution_count": 28,
   "metadata": {
    "hidden": true
   },
   "outputs": [
    {
     "data": {
      "text/plain": [
       "LogisticRegression(C=1.0, class_weight=None, dual=False, fit_intercept=True,\n",
       "                   intercept_scaling=1, l1_ratio=None, max_iter=10000,\n",
       "                   multi_class='auto', n_jobs=-1, penalty='l2',\n",
       "                   random_state=None, solver='lbfgs', tol=0.0001, verbose=0,\n",
       "                   warm_start=False)"
      ]
     },
     "execution_count": 28,
     "metadata": {},
     "output_type": "execute_result"
    }
   ],
   "source": [
    "modelo.fit(X,y)"
   ]
  },
  {
   "cell_type": "code",
   "execution_count": 29,
   "metadata": {
    "hidden": true
   },
   "outputs": [
    {
     "data": {
      "text/plain": [
       "0.7937070615177086"
      ]
     },
     "execution_count": 29,
     "metadata": {},
     "output_type": "execute_result"
    }
   ],
   "source": [
    "modelo.score(X,y)"
   ]
  },
  {
   "cell_type": "code",
   "execution_count": 30,
   "metadata": {
    "hidden": true
   },
   "outputs": [
    {
     "data": {
      "text/plain": [
       "0.7938260760446731"
      ]
     },
     "execution_count": 30,
     "metadata": {},
     "output_type": "execute_result"
    }
   ],
   "source": [
    "X_train, X_test, y_train, y_test = train_test_split(X, y, test_size=0.75, random_state=7)\n",
    "modelo.score(X_train, y_train)"
   ]
  },
  {
   "cell_type": "code",
   "execution_count": 31,
   "metadata": {
    "hidden": true
   },
   "outputs": [
    {
     "name": "stdout",
     "output_type": "stream",
     "text": [
      "Taxa de acerto: 0.7979505457785698\n",
      "Taxa de captura: 0.786585939705744\n"
     ]
    }
   ],
   "source": [
    "print('Taxa de acerto:', + precision_score(y, modelo.predict(X)))\n",
    "print('Taxa de captura:', + recall_score(y, modelo.predict(X)))"
   ]
  },
  {
   "cell_type": "markdown",
   "metadata": {
    "hidden": true
   },
   "source": [
    "## Cotovelo, KMeans e Regressão Logística"
   ]
  },
  {
   "cell_type": "code",
   "execution_count": 32,
   "metadata": {
    "hidden": true
   },
   "outputs": [
    {
     "data": {
      "image/png": "[encoded data removed]",
      "text/plain": [
       "<Figure size 432x288 with 2 Axes>"
      ]
     },
     "metadata": {},
     "output_type": "display_data"
    },
    {
     "data": {
      "text/plain": [
       "<matplotlib.axes._subplots.AxesSubplot at 0x18a01c87308>"
      ]
     },
     "execution_count": 32,
     "metadata": {},
     "output_type": "execute_result"
    }
   ],
   "source": [
    "model = KMeans()\n",
    "visualizer = KElbowVisualizer(model, k=(1,20))\n",
    "visualizer.fit(dfs)\n",
    "visualizer.show()"
   ]
  },
  {
   "cell_type": "code",
   "execution_count": 33,
   "metadata": {
    "hidden": true
   },
   "outputs": [
    {
     "data": {
      "text/plain": [
       "KMeans(algorithm='auto', copy_x=True, init='k-means++', max_iter=300,\n",
       "       n_clusters=4, n_init=10, n_jobs=-1, precompute_distances='auto',\n",
       "       random_state=None, tol=0.0001, verbose=0)"
      ]
     },
     "execution_count": 33,
     "metadata": {},
     "output_type": "execute_result"
    }
   ],
   "source": [
    "model = KMeans(n_clusters=4, n_jobs=-1)\n",
    "model.fit(X)"
   ]
  },
  {
   "cell_type": "code",
   "execution_count": 34,
   "metadata": {
    "hidden": true
   },
   "outputs": [],
   "source": [
    "dfs['labels'] = model.labels_"
   ]
  },
  {
   "cell_type": "markdown",
   "metadata": {
    "hidden": true
   },
   "source": [
    "### Labels == 0"
   ]
  },
  {
   "cell_type": "code",
   "execution_count": 37,
   "metadata": {
    "hidden": true
   },
   "outputs": [
    {
     "data": {
      "text/html": [
       "<div>\n",
       "<style scoped>\n",
       "    .dataframe tbody tr th:only-of-type {\n",
       "        vertical-align: middle;\n",
       "    }\n",
       "\n",
       "    .dataframe tbody tr th {\n",
       "        vertical-align: top;\n",
       "    }\n",
       "\n",
       "    .dataframe thead th {\n",
       "        text-align: right;\n",
       "    }\n",
       "</style>\n",
       "<table border=\"1\" class=\"dataframe\">\n",
       "  <thead>\n",
       "    <tr style=\"text-align: right;\">\n",
       "      <th></th>\n",
       "      <th>mintemp</th>\n",
       "      <th>maxtemp</th>\n",
       "      <th>rainfall</th>\n",
       "      <th>evaporation</th>\n",
       "      <th>sunshine</th>\n",
       "      <th>humidity9am</th>\n",
       "      <th>humidity3pm</th>\n",
       "      <th>pressure9am</th>\n",
       "      <th>pressure3pm</th>\n",
       "      <th>cloud9am</th>\n",
       "      <th>...</th>\n",
       "      <th>winddir3pm_S</th>\n",
       "      <th>winddir3pm_SE</th>\n",
       "      <th>winddir3pm_SSE</th>\n",
       "      <th>winddir3pm_SSW</th>\n",
       "      <th>winddir3pm_SW</th>\n",
       "      <th>winddir3pm_W</th>\n",
       "      <th>winddir3pm_WNW</th>\n",
       "      <th>winddir3pm_WSW</th>\n",
       "      <th>raintomorrow</th>\n",
       "      <th>labels</th>\n",
       "    </tr>\n",
       "  </thead>\n",
       "  <tbody>\n",
       "    <tr>\n",
       "      <th>0</th>\n",
       "      <td>1.809594</td>\n",
       "      <td>1.989408</td>\n",
       "      <td>-0.337178</td>\n",
       "      <td>1.730323</td>\n",
       "      <td>0.943357</td>\n",
       "      <td>-3.233349</td>\n",
       "      <td>-2.333216</td>\n",
       "      <td>-0.753508</td>\n",
       "      <td>-1.097363</td>\n",
       "      <td>-1.190480</td>\n",
       "      <td>...</td>\n",
       "      <td>-0.268530</td>\n",
       "      <td>-0.279644</td>\n",
       "      <td>-0.255297</td>\n",
       "      <td>-0.244491</td>\n",
       "      <td>-0.257278</td>\n",
       "      <td>-0.277912</td>\n",
       "      <td>-0.266645</td>\n",
       "      <td>-0.263766</td>\n",
       "      <td>0</td>\n",
       "      <td>0</td>\n",
       "    </tr>\n",
       "    <tr>\n",
       "      <th>1</th>\n",
       "      <td>0.230657</td>\n",
       "      <td>-0.557927</td>\n",
       "      <td>-0.318886</td>\n",
       "      <td>0.312334</td>\n",
       "      <td>-0.116201</td>\n",
       "      <td>-1.083026</td>\n",
       "      <td>0.103980</td>\n",
       "      <td>-0.048176</td>\n",
       "      <td>-0.050063</td>\n",
       "      <td>0.836362</td>\n",
       "      <td>...</td>\n",
       "      <td>-0.268530</td>\n",
       "      <td>-0.279644</td>\n",
       "      <td>-0.255297</td>\n",
       "      <td>-0.244491</td>\n",
       "      <td>3.886853</td>\n",
       "      <td>-0.277912</td>\n",
       "      <td>-0.266645</td>\n",
       "      <td>-0.263766</td>\n",
       "      <td>0</td>\n",
       "      <td>1</td>\n",
       "    </tr>\n",
       "    <tr>\n",
       "      <th>2</th>\n",
       "      <td>-0.379031</td>\n",
       "      <td>-0.445338</td>\n",
       "      <td>-0.209138</td>\n",
       "      <td>-0.314853</td>\n",
       "      <td>0.453311</td>\n",
       "      <td>-0.599203</td>\n",
       "      <td>-0.999656</td>\n",
       "      <td>1.431638</td>\n",
       "      <td>1.527869</td>\n",
       "      <td>-0.084930</td>\n",
       "      <td>...</td>\n",
       "      <td>-0.268530</td>\n",
       "      <td>-0.279644</td>\n",
       "      <td>-0.255297</td>\n",
       "      <td>4.090128</td>\n",
       "      <td>-0.257278</td>\n",
       "      <td>-0.277912</td>\n",
       "      <td>-0.266645</td>\n",
       "      <td>-0.263766</td>\n",
       "      <td>0</td>\n",
       "      <td>1</td>\n",
       "    </tr>\n",
       "    <tr>\n",
       "      <th>3</th>\n",
       "      <td>-0.082003</td>\n",
       "      <td>-0.332748</td>\n",
       "      <td>-0.337178</td>\n",
       "      <td>-0.942040</td>\n",
       "      <td>-0.990336</td>\n",
       "      <td>0.422200</td>\n",
       "      <td>0.241934</td>\n",
       "      <td>-1.071599</td>\n",
       "      <td>-0.510875</td>\n",
       "      <td>1.204878</td>\n",
       "      <td>...</td>\n",
       "      <td>3.723977</td>\n",
       "      <td>-0.279644</td>\n",
       "      <td>-0.255297</td>\n",
       "      <td>-0.244491</td>\n",
       "      <td>-0.257278</td>\n",
       "      <td>-0.277912</td>\n",
       "      <td>-0.266645</td>\n",
       "      <td>-0.263766</td>\n",
       "      <td>0</td>\n",
       "      <td>3</td>\n",
       "    </tr>\n",
       "    <tr>\n",
       "      <th>4</th>\n",
       "      <td>-0.035104</td>\n",
       "      <td>1.046472</td>\n",
       "      <td>-0.337178</td>\n",
       "      <td>0.285065</td>\n",
       "      <td>1.512869</td>\n",
       "      <td>-0.599203</td>\n",
       "      <td>-1.505489</td>\n",
       "      <td>0.906096</td>\n",
       "      <td>0.717957</td>\n",
       "      <td>-0.637705</td>\n",
       "      <td>...</td>\n",
       "      <td>-0.268530</td>\n",
       "      <td>-0.279644</td>\n",
       "      <td>-0.255297</td>\n",
       "      <td>4.090128</td>\n",
       "      <td>-0.257278</td>\n",
       "      <td>-0.277912</td>\n",
       "      <td>-0.266645</td>\n",
       "      <td>-0.263766</td>\n",
       "      <td>0</td>\n",
       "      <td>0</td>\n",
       "    </tr>\n",
       "    <tr>\n",
       "      <th>...</th>\n",
       "      <td>...</td>\n",
       "      <td>...</td>\n",
       "      <td>...</td>\n",
       "      <td>...</td>\n",
       "      <td>...</td>\n",
       "      <td>...</td>\n",
       "      <td>...</td>\n",
       "      <td>...</td>\n",
       "      <td>...</td>\n",
       "      <td>...</td>\n",
       "      <td>...</td>\n",
       "      <td>...</td>\n",
       "      <td>...</td>\n",
       "      <td>...</td>\n",
       "      <td>...</td>\n",
       "      <td>...</td>\n",
       "      <td>...</td>\n",
       "      <td>...</td>\n",
       "      <td>...</td>\n",
       "      <td>...</td>\n",
       "      <td>...</td>\n",
       "    </tr>\n",
       "    <tr>\n",
       "      <th>63749</th>\n",
       "      <td>1.919025</td>\n",
       "      <td>2.439766</td>\n",
       "      <td>-0.300595</td>\n",
       "      <td>1.484902</td>\n",
       "      <td>0.691712</td>\n",
       "      <td>-1.835639</td>\n",
       "      <td>-1.551474</td>\n",
       "      <td>-1.334370</td>\n",
       "      <td>-1.502318</td>\n",
       "      <td>0.283587</td>\n",
       "      <td>...</td>\n",
       "      <td>-0.268530</td>\n",
       "      <td>-0.279644</td>\n",
       "      <td>-0.255297</td>\n",
       "      <td>-0.244491</td>\n",
       "      <td>-0.257278</td>\n",
       "      <td>-0.277912</td>\n",
       "      <td>-0.266645</td>\n",
       "      <td>-0.263766</td>\n",
       "      <td>1</td>\n",
       "      <td>0</td>\n",
       "    </tr>\n",
       "    <tr>\n",
       "      <th>63750</th>\n",
       "      <td>1.059208</td>\n",
       "      <td>0.272420</td>\n",
       "      <td>-0.337178</td>\n",
       "      <td>0.884984</td>\n",
       "      <td>1.552602</td>\n",
       "      <td>-2.373220</td>\n",
       "      <td>1.529509</td>\n",
       "      <td>-0.103496</td>\n",
       "      <td>-0.064027</td>\n",
       "      <td>1.204878</td>\n",
       "      <td>...</td>\n",
       "      <td>-0.268530</td>\n",
       "      <td>-0.279644</td>\n",
       "      <td>3.917013</td>\n",
       "      <td>-0.244491</td>\n",
       "      <td>-0.257278</td>\n",
       "      <td>-0.277912</td>\n",
       "      <td>-0.266645</td>\n",
       "      <td>-0.263766</td>\n",
       "      <td>1</td>\n",
       "      <td>3</td>\n",
       "    </tr>\n",
       "    <tr>\n",
       "      <th>63751</th>\n",
       "      <td>0.418254</td>\n",
       "      <td>-0.135717</td>\n",
       "      <td>0.284730</td>\n",
       "      <td>-0.151239</td>\n",
       "      <td>-0.632735</td>\n",
       "      <td>-0.384171</td>\n",
       "      <td>0.333904</td>\n",
       "      <td>0.034804</td>\n",
       "      <td>0.131469</td>\n",
       "      <td>-0.637705</td>\n",
       "      <td>...</td>\n",
       "      <td>-0.268530</td>\n",
       "      <td>-0.279644</td>\n",
       "      <td>-0.255297</td>\n",
       "      <td>-0.244491</td>\n",
       "      <td>-0.257278</td>\n",
       "      <td>-0.277912</td>\n",
       "      <td>-0.266645</td>\n",
       "      <td>-0.263766</td>\n",
       "      <td>1</td>\n",
       "      <td>3</td>\n",
       "    </tr>\n",
       "    <tr>\n",
       "      <th>63752</th>\n",
       "      <td>0.809080</td>\n",
       "      <td>0.624262</td>\n",
       "      <td>0.815181</td>\n",
       "      <td>-0.969309</td>\n",
       "      <td>-0.301624</td>\n",
       "      <td>1.121055</td>\n",
       "      <td>0.057995</td>\n",
       "      <td>0.200764</td>\n",
       "      <td>0.047685</td>\n",
       "      <td>0.836362</td>\n",
       "      <td>...</td>\n",
       "      <td>-0.268530</td>\n",
       "      <td>-0.279644</td>\n",
       "      <td>-0.255297</td>\n",
       "      <td>4.090128</td>\n",
       "      <td>-0.257278</td>\n",
       "      <td>-0.277912</td>\n",
       "      <td>-0.266645</td>\n",
       "      <td>-0.263766</td>\n",
       "      <td>1</td>\n",
       "      <td>3</td>\n",
       "    </tr>\n",
       "    <tr>\n",
       "      <th>63753</th>\n",
       "      <td>0.949777</td>\n",
       "      <td>0.863514</td>\n",
       "      <td>2.827236</td>\n",
       "      <td>0.475949</td>\n",
       "      <td>-1.056558</td>\n",
       "      <td>1.497361</td>\n",
       "      <td>-0.079960</td>\n",
       "      <td>0.463535</td>\n",
       "      <td>0.201289</td>\n",
       "      <td>1.204878</td>\n",
       "      <td>...</td>\n",
       "      <td>-0.268530</td>\n",
       "      <td>-0.279644</td>\n",
       "      <td>-0.255297</td>\n",
       "      <td>-0.244491</td>\n",
       "      <td>-0.257278</td>\n",
       "      <td>-0.277912</td>\n",
       "      <td>-0.266645</td>\n",
       "      <td>-0.263766</td>\n",
       "      <td>1</td>\n",
       "      <td>3</td>\n",
       "    </tr>\n",
       "  </tbody>\n",
       "</table>\n",
       "<p>63754 rows × 73 columns</p>\n",
       "</div>"
      ],
      "text/plain": [
       "        mintemp   maxtemp  rainfall  evaporation  sunshine  humidity9am  \\\n",
       "0      1.809594  1.989408 -0.337178     1.730323  0.943357    -3.233349   \n",
       "1      0.230657 -0.557927 -0.318886     0.312334 -0.116201    -1.083026   \n",
       "2     -0.379031 -0.445338 -0.209138    -0.314853  0.453311    -0.599203   \n",
       "3     -0.082003 -0.332748 -0.337178    -0.942040 -0.990336     0.422200   \n",
       "4     -0.035104  1.046472 -0.337178     0.285065  1.512869    -0.599203   \n",
       "...         ...       ...       ...          ...       ...          ...   \n",
       "63749  1.919025  2.439766 -0.300595     1.484902  0.691712    -1.835639   \n",
       "63750  1.059208  0.272420 -0.337178     0.884984  1.552602    -2.373220   \n",
       "63751  0.418254 -0.135717  0.284730    -0.151239 -0.632735    -0.384171   \n",
       "63752  0.809080  0.624262  0.815181    -0.969309 -0.301624     1.121055   \n",
       "63753  0.949777  0.863514  2.827236     0.475949 -1.056558     1.497361   \n",
       "\n",
       "       humidity3pm  pressure9am  pressure3pm  cloud9am  ...  winddir3pm_S  \\\n",
       "0        -2.333216    -0.753508    -1.097363 -1.190480  ...     -0.268530   \n",
       "1         0.103980    -0.048176    -0.050063  0.836362  ...     -0.268530   \n",
       "2        -0.999656     1.431638     1.527869 -0.084930  ...     -0.268530   \n",
       "3         0.241934    -1.071599    -0.510875  1.204878  ...      3.723977   \n",
       "4        -1.505489     0.906096     0.717957 -0.637705  ...     -0.268530   \n",
       "...            ...          ...          ...       ...  ...           ...   \n",
       "63749    -1.551474    -1.334370    -1.502318  0.283587  ...     -0.268530   \n",
       "63750     1.529509    -0.103496    -0.064027  1.204878  ...     -0.268530   \n",
       "63751     0.333904     0.034804     0.131469 -0.637705  ...     -0.268530   \n",
       "63752     0.057995     0.200764     0.047685  0.836362  ...     -0.268530   \n",
       "63753    -0.079960     0.463535     0.201289  1.204878  ...     -0.268530   \n",
       "\n",
       "       winddir3pm_SE  winddir3pm_SSE  winddir3pm_SSW  winddir3pm_SW  \\\n",
       "0          -0.279644       -0.255297       -0.244491      -0.257278   \n",
       "1          -0.279644       -0.255297       -0.244491       3.886853   \n",
       "2          -0.279644       -0.255297        4.090128      -0.257278   \n",
       "3          -0.279644       -0.255297       -0.244491      -0.257278   \n",
       "4          -0.279644       -0.255297        4.090128      -0.257278   \n",
       "...              ...             ...             ...            ...   \n",
       "63749      -0.279644       -0.255297       -0.244491      -0.257278   \n",
       "63750      -0.279644        3.917013       -0.244491      -0.257278   \n",
       "63751      -0.279644       -0.255297       -0.244491      -0.257278   \n",
       "63752      -0.279644       -0.255297        4.090128      -0.257278   \n",
       "63753      -0.279644       -0.255297       -0.244491      -0.257278   \n",
       "\n",
       "       winddir3pm_W  winddir3pm_WNW  winddir3pm_WSW  raintomorrow  labels  \n",
       "0         -0.277912       -0.266645       -0.263766             0       0  \n",
       "1         -0.277912       -0.266645       -0.263766             0       1  \n",
       "2         -0.277912       -0.266645       -0.263766             0       1  \n",
       "3         -0.277912       -0.266645       -0.263766             0       3  \n",
       "4         -0.277912       -0.266645       -0.263766             0       0  \n",
       "...             ...             ...             ...           ...     ...  \n",
       "63749     -0.277912       -0.266645       -0.263766             1       0  \n",
       "63750     -0.277912       -0.266645       -0.263766             1       3  \n",
       "63751     -0.277912       -0.266645       -0.263766             1       3  \n",
       "63752     -0.277912       -0.266645       -0.263766             1       3  \n",
       "63753     -0.277912       -0.266645       -0.263766             1       3  \n",
       "\n",
       "[63754 rows x 73 columns]"
      ]
     },
     "execution_count": 37,
     "metadata": {},
     "output_type": "execute_result"
    }
   ],
   "source": [
    "dfs"
   ]
  },
  {
   "cell_type": "code",
   "execution_count": 39,
   "metadata": {
    "hidden": true
   },
   "outputs": [
    {
     "data": {
      "text/plain": [
       "KMeans(algorithm='auto', copy_x=True, init='k-means++', max_iter=300,\n",
       "       n_clusters=4, n_init=10, n_jobs=-1, precompute_distances='auto',\n",
       "       random_state=None, tol=0.0001, verbose=0)"
      ]
     },
     "execution_count": 39,
     "metadata": {},
     "output_type": "execute_result"
    }
   ],
   "source": [
    "mask = dfs['labels'] == 0\n",
    "X = dfs[mask].drop(columns=['raintomorrow', 'labels'])\n",
    "y = dfs[mask]['raintomorrow']\n",
    "model.fit(X,y)"
   ]
  },
  {
   "cell_type": "code",
   "execution_count": 41,
   "metadata": {
    "hidden": true
   },
   "outputs": [
    {
     "data": {
      "text/plain": [
       "0.8048427900252981"
      ]
     },
     "execution_count": 41,
     "metadata": {},
     "output_type": "execute_result"
    }
   ],
   "source": [
    "modelo.score(X,y)"
   ]
  },
  {
   "cell_type": "code",
   "execution_count": 42,
   "metadata": {
    "hidden": true
   },
   "outputs": [
    {
     "data": {
      "text/plain": [
       "0.8079518072289157"
      ]
     },
     "execution_count": 42,
     "metadata": {},
     "output_type": "execute_result"
    }
   ],
   "source": [
    "X_train, X_test, y_train, y_test = train_test_split(X, y, test_size=0.75, random_state=7)\n",
    "modelo.score(X_train, y_train)"
   ]
  },
  {
   "cell_type": "code",
   "execution_count": 43,
   "metadata": {
    "hidden": true
   },
   "outputs": [
    {
     "name": "stdout",
     "output_type": "stream",
     "text": [
      "Taxa de acerto: 0.6881331403762663\n",
      "Taxa de captura: 0.444392523364486\n"
     ]
    }
   ],
   "source": [
    "print('Taxa de acerto:', + precision_score(y, modelo.predict(X)))\n",
    "print('Taxa de captura:', + recall_score(y, modelo.predict(X)))"
   ]
  },
  {
   "cell_type": "markdown",
   "metadata": {
    "hidden": true
   },
   "source": [
    "### Labels == 1"
   ]
  },
  {
   "cell_type": "code",
   "execution_count": 44,
   "metadata": {
    "hidden": true
   },
   "outputs": [
    {
     "data": {
      "text/plain": [
       "LogisticRegression(C=1.0, class_weight=None, dual=False, fit_intercept=True,\n",
       "                   intercept_scaling=1, l1_ratio=None, max_iter=10000,\n",
       "                   multi_class='auto', n_jobs=-1, penalty='l2',\n",
       "                   random_state=None, solver='lbfgs', tol=0.0001, verbose=0,\n",
       "                   warm_start=False)"
      ]
     },
     "execution_count": 44,
     "metadata": {},
     "output_type": "execute_result"
    }
   ],
   "source": [
    "mask = dfs['labels'] == 1\n",
    "X = dfs[mask].drop(columns=['raintomorrow', 'labels'])\n",
    "y = dfs[mask]['raintomorrow']\n",
    "modelo.fit(X,y)"
   ]
  },
  {
   "cell_type": "code",
   "execution_count": 45,
   "metadata": {
    "hidden": true
   },
   "outputs": [
    {
     "data": {
      "text/plain": [
       "0.7749216300940439"
      ]
     },
     "execution_count": 45,
     "metadata": {},
     "output_type": "execute_result"
    }
   ],
   "source": [
    "modelo.score(X,y)"
   ]
  },
  {
   "cell_type": "code",
   "execution_count": 46,
   "metadata": {
    "hidden": true
   },
   "outputs": [
    {
     "data": {
      "text/plain": [
       "0.7811912225705329"
      ]
     },
     "execution_count": 46,
     "metadata": {},
     "output_type": "execute_result"
    }
   ],
   "source": [
    "X_train, X_test, y_train, y_test = train_test_split(X, y, test_size=0.75, random_state=7)\n",
    "modelo.score(X_train, y_train)"
   ]
  },
  {
   "cell_type": "code",
   "execution_count": 47,
   "metadata": {
    "hidden": true
   },
   "outputs": [
    {
     "name": "stdout",
     "output_type": "stream",
     "text": [
      "Taxa de acerto: 0.6872322193658955\n",
      "Taxa de captura: 0.5297225891677675\n"
     ]
    }
   ],
   "source": [
    "print('Taxa de acerto:', + precision_score(y, modelo.predict(X)))\n",
    "print('Taxa de captura:', + recall_score(y, modelo.predict(X)))"
   ]
  },
  {
   "cell_type": "markdown",
   "metadata": {
    "hidden": true
   },
   "source": [
    "### Labels == 2"
   ]
  },
  {
   "cell_type": "code",
   "execution_count": 48,
   "metadata": {
    "hidden": true
   },
   "outputs": [
    {
     "data": {
      "text/plain": [
       "LogisticRegression(C=1.0, class_weight=None, dual=False, fit_intercept=True,\n",
       "                   intercept_scaling=1, l1_ratio=None, max_iter=10000,\n",
       "                   multi_class='auto', n_jobs=-1, penalty='l2',\n",
       "                   random_state=None, solver='lbfgs', tol=0.0001, verbose=0,\n",
       "                   warm_start=False)"
      ]
     },
     "execution_count": 48,
     "metadata": {},
     "output_type": "execute_result"
    }
   ],
   "source": [
    "mask = dfs['labels'] == 2\n",
    "X = dfs[mask].drop(columns=['raintomorrow', 'labels'])\n",
    "y = dfs[mask]['raintomorrow']\n",
    "modelo.fit(X,y)"
   ]
  },
  {
   "cell_type": "code",
   "execution_count": 49,
   "metadata": {
    "hidden": true
   },
   "outputs": [
    {
     "data": {
      "text/plain": [
       "0.8265341823525295"
      ]
     },
     "execution_count": 49,
     "metadata": {},
     "output_type": "execute_result"
    }
   ],
   "source": [
    "modelo.score(X,y)"
   ]
  },
  {
   "cell_type": "code",
   "execution_count": 50,
   "metadata": {
    "hidden": true
   },
   "outputs": [
    {
     "data": {
      "text/plain": [
       "0.8267077267637178"
      ]
     },
     "execution_count": 50,
     "metadata": {},
     "output_type": "execute_result"
    }
   ],
   "source": [
    "X_train, X_test, y_train, y_test = train_test_split(X, y, test_size=0.75, random_state=7)\n",
    "modelo.score(X_train, y_train)"
   ]
  },
  {
   "cell_type": "code",
   "execution_count": 51,
   "metadata": {
    "hidden": true
   },
   "outputs": [
    {
     "name": "stdout",
     "output_type": "stream",
     "text": [
      "Taxa de acerto: 0.850776612181833\n",
      "Taxa de captura: 0.9420133261300198\n"
     ]
    }
   ],
   "source": [
    "print('Taxa de acerto:', + precision_score(y, modelo.predict(X)))\n",
    "print('Taxa de captura:', + recall_score(y, modelo.predict(X)))"
   ]
  },
  {
   "cell_type": "markdown",
   "metadata": {
    "hidden": true
   },
   "source": [
    "### Labels == 3"
   ]
  },
  {
   "cell_type": "code",
   "execution_count": 52,
   "metadata": {
    "hidden": true
   },
   "outputs": [
    {
     "data": {
      "text/plain": [
       "LogisticRegression(C=1.0, class_weight=None, dual=False, fit_intercept=True,\n",
       "                   intercept_scaling=1, l1_ratio=None, max_iter=10000,\n",
       "                   multi_class='auto', n_jobs=-1, penalty='l2',\n",
       "                   random_state=None, solver='lbfgs', tol=0.0001, verbose=0,\n",
       "                   warm_start=False)"
      ]
     },
     "execution_count": 52,
     "metadata": {},
     "output_type": "execute_result"
    }
   ],
   "source": [
    "mask = dfs['labels'] == 3\n",
    "X = dfs[mask].drop(columns=['raintomorrow', 'labels'])\n",
    "y = dfs[mask]['raintomorrow']\n",
    "modelo.fit(X,y)"
   ]
  },
  {
   "cell_type": "code",
   "execution_count": 53,
   "metadata": {
    "hidden": true
   },
   "outputs": [
    {
     "data": {
      "text/plain": [
       "0.7987027184607536"
      ]
     },
     "execution_count": 53,
     "metadata": {},
     "output_type": "execute_result"
    }
   ],
   "source": [
    "modelo.score(X,y)"
   ]
  },
  {
   "cell_type": "code",
   "execution_count": 54,
   "metadata": {
    "hidden": true
   },
   "outputs": [
    {
     "data": {
      "text/plain": [
       "0.8046647230320699"
      ]
     },
     "execution_count": 54,
     "metadata": {},
     "output_type": "execute_result"
    }
   ],
   "source": [
    "X_train, X_test, y_train, y_test = train_test_split(X, y, test_size=0.75, random_state=7)\n",
    "modelo.score(X_train, y_train)"
   ]
  },
  {
   "cell_type": "code",
   "execution_count": 55,
   "metadata": {
    "hidden": true
   },
   "outputs": [
    {
     "name": "stdout",
     "output_type": "stream",
     "text": [
      "Taxa de acerto: 0.8287771017225126\n",
      "Taxa de captura: 0.9267848586487781\n"
     ]
    }
   ],
   "source": [
    "print('Taxa de acerto:', + precision_score(y, modelo.predict(X)))\n",
    "print('Taxa de captura:', + recall_score(y, modelo.predict(X)))"
   ]
  },
  {
   "cell_type": "markdown",
   "metadata": {},
   "source": [
    "# Tudo!\n",
    "Mesmo usando a geolocalização, não alterou o resultado. Então coloquei os meses para verificar o impacto, além de acrescentar mais métodos como LightGBM."
   ]
  },
  {
   "cell_type": "markdown",
   "metadata": {},
   "source": [
    "## DataFrame"
   ]
  },
  {
   "cell_type": "code",
   "execution_count": 56,
   "metadata": {},
   "outputs": [],
   "source": [
    "df = pd.read_csv('Geolocalização.csv').drop(columns=['Unnamed: 0'])"
   ]
  },
  {
   "cell_type": "code",
   "execution_count": 57,
   "metadata": {},
   "outputs": [],
   "source": [
    "df = df.drop(columns=['location','latitude_x','longitude_x']).rename(columns={'latitude_y':'latitude', 'longitude_y':'longitude'})"
   ]
  },
  {
   "cell_type": "code",
   "execution_count": 58,
   "metadata": {},
   "outputs": [
    {
     "name": "stderr",
     "output_type": "stream",
     "text": [
      "  0%|          | 0/142193 [00:00<?, ?it/s]C:\\Users\\yukar\\Anaconda3\\lib\\site-packages\\ipykernel_launcher.py:4: SettingWithCopyWarning: \n",
      "A value is trying to be set on a copy of a slice from a DataFrame\n",
      "\n",
      "See the caveats in the documentation: https://pandas.pydata.org/pandas-docs/stable/user_guide/indexing.html#returning-a-view-versus-a-copy\n",
      "  after removing the cwd from sys.path.\n",
      "100%|██████████| 142193/142193 [01:00<00:00, 2333.77it/s]\n"
     ]
    }
   ],
   "source": [
    "df['month'] = 0\n",
    "for item in tqdm(range(0,142193)):\n",
    "    date = datetime.strptime(df['date'][item],\"%Y-%m-%d\").date()\n",
    "    df['month'][item] = date.month"
   ]
  },
  {
   "cell_type": "code",
   "execution_count": 59,
   "metadata": {},
   "outputs": [],
   "source": [
    "df = df.drop(columns=['date'])"
   ]
  },
  {
   "cell_type": "code",
   "execution_count": 60,
   "metadata": {},
   "outputs": [],
   "source": [
    "df.to_csv('date_geo.csv')"
   ]
  },
  {
   "cell_type": "code",
   "execution_count": 61,
   "metadata": {},
   "outputs": [],
   "source": [
    "df = pd.read_csv('date_geo.csv').drop(columns=['Unnamed: 0'])"
   ]
  },
  {
   "cell_type": "markdown",
   "metadata": {},
   "source": [
    "## Dummies"
   ]
  },
  {
   "cell_type": "code",
   "execution_count": 63,
   "metadata": {},
   "outputs": [],
   "source": [
    "df = pd.get_dummies(df)"
   ]
  },
  {
   "cell_type": "markdown",
   "metadata": {},
   "source": [
    "## Balancear DataFrame"
   ]
  },
  {
   "cell_type": "code",
   "execution_count": 64,
   "metadata": {},
   "outputs": [],
   "source": [
    "X = df[['mintemp', 'maxtemp', 'rainfall', 'evaporation', 'sunshine',\n",
    "       'humidity9am', 'humidity3pm', 'pressure9am', 'pressure3pm', 'cloud9am',\n",
    "       'cloud3pm', 'temp9am', 'temp3pm', 'raintoday', 'amountOfRain',\n",
    "       'temp', 'humidity', 'precipitation3pm',\n",
    "       'precipitation9am', 'modelo_vigente', 'windgustspeed', 'windspeed9am',\n",
    "       'windspeed3pm', 'latitude', 'longitude', 'month', 'windgustdir_E',\n",
    "       'windgustdir_ENE', 'windgustdir_ESE', 'windgustdir_N', 'windgustdir_NE',\n",
    "       'windgustdir_NNE', 'windgustdir_NNW', 'windgustdir_NW', 'windgustdir_S',\n",
    "       'windgustdir_SE', 'windgustdir_SSE', 'windgustdir_SSW',\n",
    "       'windgustdir_SW', 'windgustdir_W', 'windgustdir_WNW', 'windgustdir_WSW',\n",
    "       'winddir9am_E', 'winddir9am_ENE', 'winddir9am_ESE', 'winddir9am_N',\n",
    "       'winddir9am_NE', 'winddir9am_NNE', 'winddir9am_NNW', 'winddir9am_NW',\n",
    "       'winddir9am_S', 'winddir9am_SE', 'winddir9am_SSE', 'winddir9am_SSW',\n",
    "       'winddir9am_SW', 'winddir9am_W', 'winddir9am_WNW', 'winddir9am_WSW',\n",
    "       'winddir3pm_E', 'winddir3pm_ENE', 'winddir3pm_ESE', 'winddir3pm_N',\n",
    "       'winddir3pm_NE', 'winddir3pm_NNE', 'winddir3pm_NNW', 'winddir3pm_NW',\n",
    "       'winddir3pm_S', 'winddir3pm_SE', 'winddir3pm_SSE', 'winddir3pm_SSW',\n",
    "       'winddir3pm_SW', 'winddir3pm_W', 'winddir3pm_WNW', 'winddir3pm_WSW']]\n",
    "y = df['raintomorrow']"
   ]
  },
  {
   "cell_type": "code",
   "execution_count": 65,
   "metadata": {},
   "outputs": [],
   "source": [
    "rus = RandomUnderSampler(random_state=7)\n",
    "X_resampled, y_resampled = rus.fit_resample(X, y)"
   ]
  },
  {
   "cell_type": "code",
   "execution_count": 66,
   "metadata": {},
   "outputs": [],
   "source": [
    "df = X_resampled\n",
    "df['raintomorrow'] = y_resampled"
   ]
  },
  {
   "cell_type": "code",
   "execution_count": 67,
   "metadata": {},
   "outputs": [],
   "source": [
    "df.to_csv('vai.csv')"
   ]
  },
  {
   "cell_type": "markdown",
   "metadata": {},
   "source": [
    "## Standardizar"
   ]
  },
  {
   "cell_type": "code",
   "execution_count": 156,
   "metadata": {},
   "outputs": [],
   "source": [
    "df = pd.read_csv('vai.csv').drop(columns=['Unnamed: 0'])"
   ]
  },
  {
   "cell_type": "code",
   "execution_count": 157,
   "metadata": {},
   "outputs": [],
   "source": [
    "X = df[['mintemp', 'maxtemp', 'rainfall', 'evaporation', 'sunshine',\n",
    "       'humidity9am', 'humidity3pm', 'pressure9am', 'pressure3pm', 'cloud9am',\n",
    "       'cloud3pm', 'temp9am', 'temp3pm', 'raintoday', 'amountOfRain', 'temp',\n",
    "       'humidity', 'precipitation3pm', 'precipitation9am', \n",
    "       'windgustspeed', 'windspeed9am', 'windspeed3pm', 'latitude',\n",
    "       'longitude', 'month', 'windgustdir_E', 'windgustdir_ENE',\n",
    "       'windgustdir_ESE', 'windgustdir_N', 'windgustdir_NE', 'windgustdir_NNE',\n",
    "       'windgustdir_NNW', 'windgustdir_NW', 'windgustdir_S', 'windgustdir_SE',\n",
    "       'windgustdir_SSE', 'windgustdir_SSW', 'windgustdir_SW', 'windgustdir_W',\n",
    "       'windgustdir_WNW', 'windgustdir_WSW', 'winddir9am_E', 'winddir9am_ENE',\n",
    "       'winddir9am_ESE', 'winddir9am_N', 'winddir9am_NE', 'winddir9am_NNE',\n",
    "       'winddir9am_NNW', 'winddir9am_NW', 'winddir9am_S', 'winddir9am_SE',\n",
    "       'winddir9am_SSE', 'winddir9am_SSW', 'winddir9am_SW', 'winddir9am_W',\n",
    "       'winddir9am_WNW', 'winddir9am_WSW', 'winddir3pm_E', 'winddir3pm_ENE',\n",
    "       'winddir3pm_ESE', 'winddir3pm_N', 'winddir3pm_NE', 'winddir3pm_NNE',\n",
    "       'winddir3pm_NNW', 'winddir3pm_NW', 'winddir3pm_S', 'winddir3pm_SE',\n",
    "       'winddir3pm_SSE', 'winddir3pm_SSW', 'winddir3pm_SW', 'winddir3pm_W',\n",
    "       'winddir3pm_WNW', 'winddir3pm_WSW']]"
   ]
  },
  {
   "cell_type": "code",
   "execution_count": 158,
   "metadata": {},
   "outputs": [
    {
     "data": {
      "text/plain": [
       "StandardScaler(copy=True, with_mean=True, with_std=True)"
      ]
     },
     "execution_count": 158,
     "metadata": {},
     "output_type": "execute_result"
    }
   ],
   "source": [
    "scaler = StandardScaler()\n",
    "scaler.fit(X)"
   ]
  },
  {
   "cell_type": "code",
   "execution_count": 159,
   "metadata": {},
   "outputs": [],
   "source": [
    "dfs=pd.DataFrame(scaler.transform(X), columns=X.columns, index=X.index)\n",
    "dfs['raintomorrow'] = df['raintomorrow']\n",
    "dfs['month'] = df['month']\n",
    "dfs['modelo_vigente'] = df['modelo_vigente']"
   ]
  },
  {
   "cell_type": "markdown",
   "metadata": {},
   "source": [
    "## KNNImputer"
   ]
  },
  {
   "cell_type": "code",
   "execution_count": 160,
   "metadata": {},
   "outputs": [],
   "source": [
    "imputer = KNNImputer(n_neighbors=2)"
   ]
  },
  {
   "cell_type": "code",
   "execution_count": 161,
   "metadata": {},
   "outputs": [],
   "source": [
    "df = pd.DataFrame(imputer.fit_transform(dfs.drop(columns='raintomorrow')), columns=dfs.drop(columns='raintomorrow').columns)"
   ]
  },
  {
   "cell_type": "code",
   "execution_count": 162,
   "metadata": {},
   "outputs": [],
   "source": [
    "df['raintomorrow'] = dfs['raintomorrow']"
   ]
  },
  {
   "cell_type": "code",
   "execution_count": 163,
   "metadata": {},
   "outputs": [],
   "source": [
    "X = df.drop(columns=['raintomorrow', 'modelo_vigente', 'amountOfRain'])\n",
    "y = df['raintomorrow']"
   ]
  },
  {
   "cell_type": "code",
   "execution_count": 164,
   "metadata": {},
   "outputs": [],
   "source": [
    "df.to_csv('date_geo_knn.csv')"
   ]
  },
  {
   "cell_type": "markdown",
   "metadata": {},
   "source": [
    "## Regressão Logística"
   ]
  },
  {
   "cell_type": "code",
   "execution_count": 418,
   "metadata": {},
   "outputs": [],
   "source": [
    "df = pd.read_csv('date_geo_knn.csv').drop(columns=['Unnamed: 0'])"
   ]
  },
  {
   "cell_type": "code",
   "execution_count": 419,
   "metadata": {},
   "outputs": [],
   "source": [
    "X = df.drop(columns=['raintomorrow', 'modelo_vigente', 'amountOfRain'])\n",
    "y = df['raintomorrow']"
   ]
  },
  {
   "cell_type": "code",
   "execution_count": 420,
   "metadata": {},
   "outputs": [],
   "source": [
    "modelo = LogisticRegression(max_iter=10000, n_jobs=-1)"
   ]
  },
  {
   "cell_type": "code",
   "execution_count": 421,
   "metadata": {},
   "outputs": [
    {
     "data": {
      "text/plain": [
       "LogisticRegression(C=1.0, class_weight=None, dual=False, fit_intercept=True,\n",
       "                   intercept_scaling=1, l1_ratio=None, max_iter=10000,\n",
       "                   multi_class='auto', n_jobs=-1, penalty='l2',\n",
       "                   random_state=None, solver='lbfgs', tol=0.0001, verbose=0,\n",
       "                   warm_start=False)"
      ]
     },
     "execution_count": 421,
     "metadata": {},
     "output_type": "execute_result"
    }
   ],
   "source": [
    "modelo.fit(X,y)"
   ]
  },
  {
   "cell_type": "code",
   "execution_count": 422,
   "metadata": {},
   "outputs": [
    {
     "data": {
      "text/plain": [
       "0.7868839602221037"
      ]
     },
     "execution_count": 422,
     "metadata": {},
     "output_type": "execute_result"
    }
   ],
   "source": [
    "modelo.score(X,y)"
   ]
  },
  {
   "cell_type": "code",
   "execution_count": 423,
   "metadata": {},
   "outputs": [
    {
     "name": "stdout",
     "output_type": "stream",
     "text": [
      "Taxa de acerto: 0.7930901865265048\n",
      "Taxa de captura: 0.776296389246165\n"
     ]
    }
   ],
   "source": [
    "print('Taxa de acerto:', + precision_score(y, modelo.predict(X)))\n",
    "print('Taxa de captura:', + recall_score(y, modelo.predict(X)))"
   ]
  },
  {
   "cell_type": "code",
   "execution_count": 424,
   "metadata": {},
   "outputs": [
    {
     "data": {
      "text/plain": [
       "0.7862969004893964"
      ]
     },
     "execution_count": 424,
     "metadata": {},
     "output_type": "execute_result"
    }
   ],
   "source": [
    "X_train, X_test, y_train, y_test = train_test_split(X, y, test_size=0.75, random_state=7)\n",
    "modelo.score(X_train, y_train)"
   ]
  },
  {
   "cell_type": "code",
   "execution_count": 425,
   "metadata": {},
   "outputs": [
    {
     "data": {
      "image/png": "[encoded data removed]",
      "text/plain": [
       "<Figure size 432x288 with 2 Axes>"
      ]
     },
     "metadata": {
      "needs_background": "light"
     },
     "output_type": "display_data"
    }
   ],
   "source": [
    "plot_confusion_matrix(modelo, X_test, y_test, values_format='.0f')\n",
    "plt.grid(False)"
   ]
  },
  {
   "cell_type": "markdown",
   "metadata": {},
   "source": [
    "## Cotovelo e KMeans"
   ]
  },
  {
   "cell_type": "code",
   "execution_count": 337,
   "metadata": {},
   "outputs": [
    {
     "data": {
      "image/png": "[encoded data removed]",
      "text/plain": [
       "<Figure size 432x288 with 2 Axes>"
      ]
     },
     "metadata": {},
     "output_type": "display_data"
    },
    {
     "data": {
      "text/plain": [
       "<matplotlib.axes._subplots.AxesSubplot at 0x1ce91dfcc08>"
      ]
     },
     "execution_count": 337,
     "metadata": {},
     "output_type": "execute_result"
    }
   ],
   "source": [
    "model = KMeans()\n",
    "visualizer = KElbowVisualizer(model, k=(1,20))\n",
    "visualizer.fit(df)\n",
    "visualizer.show()"
   ]
  },
  {
   "cell_type": "code",
   "execution_count": 426,
   "metadata": {},
   "outputs": [
    {
     "data": {
      "text/plain": [
       "KMeans(algorithm='auto', copy_x=True, init='k-means++', max_iter=300,\n",
       "       n_clusters=4, n_init=10, n_jobs=-1, precompute_distances='auto',\n",
       "       random_state=None, tol=0.0001, verbose=0)"
      ]
     },
     "execution_count": 426,
     "metadata": {},
     "output_type": "execute_result"
    }
   ],
   "source": [
    "model = KMeans(n_clusters=4, n_jobs=-1)\n",
    "model.fit(X)"
   ]
  },
  {
   "cell_type": "code",
   "execution_count": 427,
   "metadata": {},
   "outputs": [],
   "source": [
    "df['labels'] = model.labels_"
   ]
  },
  {
   "cell_type": "markdown",
   "metadata": {},
   "source": [
    "## Modificação de modelo por Labels"
   ]
  },
  {
   "cell_type": "markdown",
   "metadata": {},
   "source": [
    "### Labels == 0"
   ]
  },
  {
   "cell_type": "code",
   "execution_count": 653,
   "metadata": {},
   "outputs": [
    {
     "data": {
      "text/plain": [
       "LGBMClassifier(boosting_type='gbdt', class_weight=None, colsample_bytree=0.7,\n",
       "               importance_type='split', learning_rate=0.1, max_depth=10,\n",
       "               min_child_samples=20, min_child_weight=0.001, min_split_gain=0.0,\n",
       "               n_estimators=200, n_jobs=-1, num_leaves=31, objective=None,\n",
       "               random_state=None, reg_alpha=0.0, reg_lambda=0.0, silent=True,\n",
       "               subsample=1.0, subsample_for_bin=200000, subsample_freq=0)"
      ]
     },
     "execution_count": 653,
     "metadata": {},
     "output_type": "execute_result"
    }
   ],
   "source": [
    "mask = df['labels'] == 0\n",
    "X = df[mask].drop(columns=['raintomorrow', 'modelo_vigente', 'amountOfRain'])\n",
    "y = df[mask]['raintomorrow']\n",
    "lgb = LGBMClassifier(max_depth=10, n_estimators=200, colsample_bytree=.7, n_jobs=-1)\n",
    "lgb.fit(X,y)"
   ]
  },
  {
   "cell_type": "code",
   "execution_count": 654,
   "metadata": {},
   "outputs": [
    {
     "data": {
      "text/plain": [
       "0.8973760932944607"
      ]
     },
     "execution_count": 654,
     "metadata": {},
     "output_type": "execute_result"
    }
   ],
   "source": [
    "lgb.score(X,y)"
   ]
  },
  {
   "cell_type": "code",
   "execution_count": 655,
   "metadata": {},
   "outputs": [
    {
     "name": "stdout",
     "output_type": "stream",
     "text": [
      "Taxa de acerto: 0.8994834566522407\n",
      "Taxa de captura: 0.8610183081651744\n"
     ]
    }
   ],
   "source": [
    "print('Taxa de acerto:', + precision_score(y, lgb.predict(X)))\n",
    "print('Taxa de captura:', + recall_score(y, lgb.predict(X)))"
   ]
  },
  {
   "cell_type": "code",
   "execution_count": 656,
   "metadata": {},
   "outputs": [
    {
     "data": {
      "image/png": "[encoded data removed]",
      "text/plain": [
       "<Figure size 432x288 with 2 Axes>"
      ]
     },
     "metadata": {
      "needs_background": "light"
     },
     "output_type": "display_data"
    }
   ],
   "source": [
    "plot_confusion_matrix(lgb, X, y, values_format='.0f')\n",
    "plt.grid(False)"
   ]
  },
  {
   "cell_type": "markdown",
   "metadata": {},
   "source": [
    "### Labels == 1"
   ]
  },
  {
   "cell_type": "code",
   "execution_count": 657,
   "metadata": {},
   "outputs": [
    {
     "data": {
      "text/plain": [
       "LGBMClassifier(boosting_type='gbdt', class_weight=None, colsample_bytree=0.7,\n",
       "               importance_type='split', learning_rate=0.1, max_depth=10,\n",
       "               min_child_samples=20, min_child_weight=0.001, min_split_gain=0.0,\n",
       "               n_estimators=200, n_jobs=-1, num_leaves=31, objective=None,\n",
       "               random_state=None, reg_alpha=0.0, reg_lambda=0.0, silent=True,\n",
       "               subsample=1.0, subsample_for_bin=200000, subsample_freq=0)"
      ]
     },
     "execution_count": 657,
     "metadata": {},
     "output_type": "execute_result"
    }
   ],
   "source": [
    "mask = df['labels'] == 1\n",
    "X = df[mask].drop(columns=['raintomorrow', 'labels', 'modelo_vigente', 'amountOfRain'])\n",
    "y = df[mask]['raintomorrow']\n",
    "lgb = LGBMClassifier(max_depth=10, n_estimators=200, colsample_bytree=.7, n_jobs=-1)\n",
    "lgb.fit(X,y)"
   ]
  },
  {
   "cell_type": "code",
   "execution_count": 658,
   "metadata": {},
   "outputs": [
    {
     "data": {
      "text/plain": [
       "0.9137697516930022"
      ]
     },
     "execution_count": 658,
     "metadata": {},
     "output_type": "execute_result"
    }
   ],
   "source": [
    "lgb.score(X,y)"
   ]
  },
  {
   "cell_type": "code",
   "execution_count": 659,
   "metadata": {},
   "outputs": [
    {
     "name": "stdout",
     "output_type": "stream",
     "text": [
      "Taxa de acerto: 0.9113791295228107\n",
      "Taxa de captura: 0.8626737260092654\n"
     ]
    }
   ],
   "source": [
    "print('Taxa de acerto:', + precision_score(y, lgb.predict(X)))\n",
    "print('Taxa de captura:', + recall_score(y, lgb.predict(X)))"
   ]
  },
  {
   "cell_type": "code",
   "execution_count": 660,
   "metadata": {},
   "outputs": [
    {
     "data": {
      "image/png": "[encoded data removed]",
      "text/plain": [
       "<Figure size 432x288 with 2 Axes>"
      ]
     },
     "metadata": {
      "needs_background": "light"
     },
     "output_type": "display_data"
    }
   ],
   "source": [
    "plot_confusion_matrix(lgb, X, y, values_format='.0f')\n",
    "plt.grid(False)"
   ]
  },
  {
   "cell_type": "markdown",
   "metadata": {},
   "source": [
    "### Labels == 2"
   ]
  },
  {
   "cell_type": "code",
   "execution_count": 661,
   "metadata": {},
   "outputs": [
    {
     "data": {
      "text/plain": [
       "LGBMClassifier(boosting_type='gbdt', class_weight=None, colsample_bytree=0.7,\n",
       "               importance_type='split', learning_rate=0.1, max_depth=10,\n",
       "               min_child_samples=20, min_child_weight=0.001, min_split_gain=0.0,\n",
       "               n_estimators=200, n_jobs=-1, num_leaves=31, objective=None,\n",
       "               random_state=None, reg_alpha=0.0, reg_lambda=0.0, silent=True,\n",
       "               subsample=1.0, subsample_for_bin=200000, subsample_freq=0)"
      ]
     },
     "execution_count": 661,
     "metadata": {},
     "output_type": "execute_result"
    }
   ],
   "source": [
    "mask = df['labels'] == 2\n",
    "X = df[mask].drop(columns=['raintomorrow', 'labels', 'modelo_vigente', 'amountOfRain'])\n",
    "y = df[mask]['raintomorrow']\n",
    "lgb = LGBMClassifier(max_depth=10, n_estimators=200, colsample_bytree=.7, n_jobs=-1)\n",
    "lgb.fit(X,y)"
   ]
  },
  {
   "cell_type": "code",
   "execution_count": 662,
   "metadata": {},
   "outputs": [
    {
     "data": {
      "text/plain": [
       "0.9000526592943655"
      ]
     },
     "execution_count": 662,
     "metadata": {},
     "output_type": "execute_result"
    }
   ],
   "source": [
    "lgb.score(X,y)"
   ]
  },
  {
   "cell_type": "code",
   "execution_count": 663,
   "metadata": {},
   "outputs": [
    {
     "name": "stdout",
     "output_type": "stream",
     "text": [
      "Taxa de acerto: 0.8995835261453031\n",
      "Taxa de captura: 0.8830342947990006\n"
     ]
    }
   ],
   "source": [
    "print('Taxa de acerto:', + precision_score(y, lgb.predict(X)))\n",
    "print('Taxa de captura:', + recall_score(y, lgb.predict(X)))"
   ]
  },
  {
   "cell_type": "code",
   "execution_count": 664,
   "metadata": {},
   "outputs": [
    {
     "data": {
      "image/png": "[encoded data removed]",
      "text/plain": [
       "<Figure size 432x288 with 2 Axes>"
      ]
     },
     "metadata": {
      "needs_background": "light"
     },
     "output_type": "display_data"
    }
   ],
   "source": [
    "plot_confusion_matrix(lgb, X, y, values_format='.0f')\n",
    "plt.grid(False)"
   ]
  },
  {
   "cell_type": "markdown",
   "metadata": {},
   "source": [
    "### Labels == 3"
   ]
  },
  {
   "cell_type": "code",
   "execution_count": 665,
   "metadata": {},
   "outputs": [
    {
     "data": {
      "text/plain": [
       "LGBMClassifier(boosting_type='gbdt', class_weight=None, colsample_bytree=0.7,\n",
       "               importance_type='split', learning_rate=0.1, max_depth=10,\n",
       "               min_child_samples=20, min_child_weight=0.001, min_split_gain=0.0,\n",
       "               n_estimators=200, n_jobs=-1, num_leaves=31, objective=None,\n",
       "               random_state=None, reg_alpha=0.0, reg_lambda=0.0, silent=True,\n",
       "               subsample=1.0, subsample_for_bin=200000, subsample_freq=0)"
      ]
     },
     "execution_count": 665,
     "metadata": {},
     "output_type": "execute_result"
    }
   ],
   "source": [
    "mask = df['labels'] == 3\n",
    "X = df[mask].drop(columns=['raintomorrow', 'labels', 'modelo_vigente', 'amountOfRain'])\n",
    "y = df[mask]['raintomorrow']\n",
    "lgb = LGBMClassifier(max_depth=10, n_estimators=200, colsample_bytree=.7, n_jobs=-1)\n",
    "lgb.fit(X,y)"
   ]
  },
  {
   "cell_type": "code",
   "execution_count": 666,
   "metadata": {},
   "outputs": [
    {
     "data": {
      "text/plain": [
       "0.9655628045255595"
      ]
     },
     "execution_count": 666,
     "metadata": {},
     "output_type": "execute_result"
    }
   ],
   "source": [
    "lgb.score(X,y)"
   ]
  },
  {
   "cell_type": "code",
   "execution_count": 667,
   "metadata": {
    "scrolled": true
   },
   "outputs": [
    {
     "name": "stdout",
     "output_type": "stream",
     "text": [
      "Taxa acerto: 0.9653308861017641\n",
      "Taxa de captura: 0.9919321039396479\n"
     ]
    }
   ],
   "source": [
    "print('Taxa acerto:', + precision_score(y, lgb.predict(X)))\n",
    "print('Taxa de captura:', + recall_score(y, lgb.predict(X)))"
   ]
  },
  {
   "cell_type": "code",
   "execution_count": 668,
   "metadata": {},
   "outputs": [
    {
     "data": {
      "image/png": "[encoded data removed]",
      "text/plain": [
       "<Figure size 432x288 with 2 Axes>"
      ]
     },
     "metadata": {
      "needs_background": "light"
     },
     "output_type": "display_data"
    }
   ],
   "source": [
    "plot_confusion_matrix(lgb, X, y, values_format='.0f')\n",
    "plt.grid(False)"
   ]
  },
  {
   "cell_type": "markdown",
   "metadata": {
    "heading_collapsed": true
   },
   "source": [
    "## Ensemble Methods"
   ]
  },
  {
   "cell_type": "code",
   "execution_count": 491,
   "metadata": {
    "hidden": true
   },
   "outputs": [],
   "source": [
    "X = df.drop(columns=['raintomorrow', 'modelo_vigente', 'amountOfRain'])\n",
    "y = df['raintomorrow']"
   ]
  },
  {
   "cell_type": "markdown",
   "metadata": {
    "hidden": true
   },
   "source": [
    "### Tree"
   ]
  },
  {
   "cell_type": "code",
   "execution_count": 492,
   "metadata": {
    "hidden": true
   },
   "outputs": [
    {
     "data": {
      "text/plain": [
       "(0.7826082544680857, 0.006867986644834344)"
      ]
     },
     "execution_count": 492,
     "metadata": {},
     "output_type": "execute_result"
    }
   ],
   "source": [
    "tree = DecisionTreeClassifier(max_depth=2)\n",
    "\n",
    "results = cross_val_score(tree, X_train, y_train, cv=KFold(10, shuffle=True), scoring='roc_auc')\n",
    "(np.mean(results), np.std(results))"
   ]
  },
  {
   "cell_type": "code",
   "execution_count": 493,
   "metadata": {
    "hidden": true
   },
   "outputs": [
    {
     "data": {
      "text/plain": [
       "0.72086457320325"
      ]
     },
     "execution_count": 493,
     "metadata": {},
     "output_type": "execute_result"
    }
   ],
   "source": [
    "tree.fit(X,y)\n",
    "tree.score(X,y)"
   ]
  },
  {
   "cell_type": "code",
   "execution_count": 494,
   "metadata": {
    "hidden": true
   },
   "outputs": [
    {
     "name": "stdout",
     "output_type": "stream",
     "text": [
      "Taxa acerto: 0.7817890734440665\n",
      "Taxa de captura: 0.6127615522163316\n"
     ]
    }
   ],
   "source": [
    "print('Taxa acerto:', + precision_score(y, tree.predict(X)))\n",
    "print('Taxa de captura:', + recall_score(y, tree.predict(X)))"
   ]
  },
  {
   "cell_type": "code",
   "execution_count": 495,
   "metadata": {
    "hidden": true
   },
   "outputs": [
    {
     "data": {
      "text/html": [
       "<div>\n",
       "<style scoped>\n",
       "    .dataframe tbody tr th:only-of-type {\n",
       "        vertical-align: middle;\n",
       "    }\n",
       "\n",
       "    .dataframe tbody tr th {\n",
       "        vertical-align: top;\n",
       "    }\n",
       "\n",
       "    .dataframe thead th {\n",
       "        text-align: right;\n",
       "    }\n",
       "</style>\n",
       "<table border=\"1\" class=\"dataframe\">\n",
       "  <thead>\n",
       "    <tr style=\"text-align: right;\">\n",
       "      <th></th>\n",
       "      <th>importance</th>\n",
       "      <th>variable</th>\n",
       "    </tr>\n",
       "  </thead>\n",
       "  <tbody>\n",
       "    <tr>\n",
       "      <th>0</th>\n",
       "      <td>0.000000</td>\n",
       "      <td>mintemp</td>\n",
       "    </tr>\n",
       "    <tr>\n",
       "      <th>51</th>\n",
       "      <td>0.000000</td>\n",
       "      <td>winddir9am_SSW</td>\n",
       "    </tr>\n",
       "    <tr>\n",
       "      <th>50</th>\n",
       "      <td>0.000000</td>\n",
       "      <td>winddir9am_SSE</td>\n",
       "    </tr>\n",
       "    <tr>\n",
       "      <th>49</th>\n",
       "      <td>0.000000</td>\n",
       "      <td>winddir9am_SE</td>\n",
       "    </tr>\n",
       "    <tr>\n",
       "      <th>48</th>\n",
       "      <td>0.000000</td>\n",
       "      <td>winddir9am_S</td>\n",
       "    </tr>\n",
       "    <tr>\n",
       "      <th>...</th>\n",
       "      <td>...</td>\n",
       "      <td>...</td>\n",
       "    </tr>\n",
       "    <tr>\n",
       "      <th>20</th>\n",
       "      <td>0.000000</td>\n",
       "      <td>windspeed3pm</td>\n",
       "    </tr>\n",
       "    <tr>\n",
       "      <th>26</th>\n",
       "      <td>0.000000</td>\n",
       "      <td>windgustdir_ESE</td>\n",
       "    </tr>\n",
       "    <tr>\n",
       "      <th>71</th>\n",
       "      <td>0.000000</td>\n",
       "      <td>winddir3pm_WSW</td>\n",
       "    </tr>\n",
       "    <tr>\n",
       "      <th>4</th>\n",
       "      <td>0.166581</td>\n",
       "      <td>sunshine</td>\n",
       "    </tr>\n",
       "    <tr>\n",
       "      <th>6</th>\n",
       "      <td>0.833419</td>\n",
       "      <td>humidity3pm</td>\n",
       "    </tr>\n",
       "  </tbody>\n",
       "</table>\n",
       "<p>72 rows × 2 columns</p>\n",
       "</div>"
      ],
      "text/plain": [
       "    importance         variable\n",
       "0     0.000000          mintemp\n",
       "51    0.000000   winddir9am_SSW\n",
       "50    0.000000   winddir9am_SSE\n",
       "49    0.000000    winddir9am_SE\n",
       "48    0.000000     winddir9am_S\n",
       "..         ...              ...\n",
       "20    0.000000     windspeed3pm\n",
       "26    0.000000  windgustdir_ESE\n",
       "71    0.000000   winddir3pm_WSW\n",
       "4     0.166581         sunshine\n",
       "6     0.833419      humidity3pm\n",
       "\n",
       "[72 rows x 2 columns]"
      ]
     },
     "execution_count": 495,
     "metadata": {},
     "output_type": "execute_result"
    }
   ],
   "source": [
    "tree.fit(X_train, y_train)\n",
    "pd.DataFrame(zip(tree.feature_importances_, X_train.columns), columns=['importance','variable']).sort_values(by='importance')"
   ]
  },
  {
   "cell_type": "markdown",
   "metadata": {
    "hidden": true
   },
   "source": [
    "### Bagging"
   ]
  },
  {
   "cell_type": "code",
   "execution_count": 496,
   "metadata": {
    "hidden": true
   },
   "outputs": [
    {
     "data": {
      "text/plain": [
       "(0.8377229236738053, 0.004722133239646458)"
      ]
     },
     "execution_count": 496,
     "metadata": {},
     "output_type": "execute_result"
    }
   ],
   "source": [
    "bagging = BaggingClassifier(\n",
    "            base_estimator=DecisionTreeClassifier(max_depth=3), \n",
    "            n_estimators=100,\n",
    "            oob_score=True)\n",
    "\n",
    "results = cross_val_score(bagging, X_train, y_train, cv=KFold(10, shuffle=True), scoring='roc_auc')\n",
    "(np.mean(results), np.std(results))"
   ]
  },
  {
   "cell_type": "code",
   "execution_count": 497,
   "metadata": {
    "hidden": true
   },
   "outputs": [
    {
     "data": {
      "text/plain": [
       "0.749741192709477"
      ]
     },
     "execution_count": 497,
     "metadata": {},
     "output_type": "execute_result"
    }
   ],
   "source": [
    "bagging.fit(X,y)\n",
    "bagging.score(X,y)"
   ]
  },
  {
   "cell_type": "code",
   "execution_count": 498,
   "metadata": {
    "hidden": true
   },
   "outputs": [
    {
     "name": "stdout",
     "output_type": "stream",
     "text": [
      "Taxa acerto: 0.7354628808044957\n",
      "Taxa de captura: 0.7800608589264987\n"
     ]
    }
   ],
   "source": [
    "print('Taxa acerto:', + precision_score(y, bagging.predict(X)))\n",
    "print('Taxa de captura:', + recall_score(y, bagging.predict(X)))"
   ]
  },
  {
   "cell_type": "markdown",
   "metadata": {
    "hidden": true
   },
   "source": [
    "### Floresta Randômica"
   ]
  },
  {
   "cell_type": "code",
   "execution_count": 506,
   "metadata": {
    "hidden": true
   },
   "outputs": [
    {
     "data": {
      "text/plain": [
       "(0.870829006827741, 0.007455230717202846)"
      ]
     },
     "execution_count": 506,
     "metadata": {},
     "output_type": "execute_result"
    }
   ],
   "source": [
    "forest = RandomForestClassifier(max_depth=10, n_estimators=100, n_jobs=-1)\n",
    "\n",
    "results = cross_val_score(forest, X_train, y_train, cv=KFold(10, shuffle=True), scoring='roc_auc')\n",
    "(np.mean(results), np.std(results))"
   ]
  },
  {
   "cell_type": "code",
   "execution_count": 507,
   "metadata": {
    "hidden": true
   },
   "outputs": [
    {
     "data": {
      "text/plain": [
       "0.8177212410201713"
      ]
     },
     "execution_count": 507,
     "metadata": {},
     "output_type": "execute_result"
    }
   ],
   "source": [
    "forest.fit(X,y)\n",
    "forest.score(X,y)"
   ]
  },
  {
   "cell_type": "code",
   "execution_count": 508,
   "metadata": {
    "hidden": true
   },
   "outputs": [
    {
     "name": "stdout",
     "output_type": "stream",
     "text": [
      "Taxa acerto: 0.8298378167133459\n",
      "Taxa de captura: 0.7993537660382094\n"
     ]
    }
   ],
   "source": [
    "print('Taxa acerto:', + precision_score(y, forest.predict(X)))\n",
    "print('Taxa de captura:', + recall_score(y, forest.predict(X)))"
   ]
  },
  {
   "cell_type": "markdown",
   "metadata": {
    "hidden": true
   },
   "source": [
    "### Regressão Logística"
   ]
  },
  {
   "cell_type": "code",
   "execution_count": 502,
   "metadata": {
    "hidden": true
   },
   "outputs": [
    {
     "data": {
      "text/plain": [
       "(0.86940260698812, 0.007835200965970327)"
      ]
     },
     "execution_count": 502,
     "metadata": {},
     "output_type": "execute_result"
    }
   ],
   "source": [
    "logistic = LogisticRegression(max_iter=2000)\n",
    "\n",
    "results = cross_val_score(logistic, X_train, y_train, cv=KFold(10, shuffle=True), scoring='roc_auc')\n",
    "(np.mean(results), np.std(results))"
   ]
  },
  {
   "cell_type": "code",
   "execution_count": 503,
   "metadata": {
    "hidden": true
   },
   "outputs": [
    {
     "data": {
      "text/plain": [
       "0.7869153308027732"
      ]
     },
     "execution_count": 503,
     "metadata": {},
     "output_type": "execute_result"
    }
   ],
   "source": [
    "logistic.fit(X,y)\n",
    "logistic.score(X,y)"
   ]
  },
  {
   "cell_type": "code",
   "execution_count": 504,
   "metadata": {
    "hidden": true
   },
   "outputs": [
    {
     "name": "stdout",
     "output_type": "stream",
     "text": [
      "Taxa acerto: 0.792672\n",
      "Taxa de captura: 0.7770806537629011\n"
     ]
    }
   ],
   "source": [
    "print('Taxa acerto:', + precision_score(y, logistic.predict(X)))\n",
    "print('Taxa de captura:', + recall_score(y, logistic.predict(X)))"
   ]
  },
  {
   "cell_type": "code",
   "execution_count": 510,
   "metadata": {
    "hidden": true
   },
   "outputs": [
    {
     "data": {
      "text/plain": [
       "<sklearn.metrics._plot.roc_curve.RocCurveDisplay at 0x1ce8d5af748>"
      ]
     },
     "execution_count": 510,
     "metadata": {},
     "output_type": "execute_result"
    },
    {
     "data": {
      "image/png": "[encoded data removed]",
      "text/plain": [
       "<Figure size 432x288 with 1 Axes>"
      ]
     },
     "metadata": {
      "needs_background": "light"
     },
     "output_type": "display_data"
    }
   ],
   "source": [
    "logistic = LogisticRegression(max_iter=2000).fit(X_train, y_train)\n",
    "tree.fit(X_train, y_train)\n",
    "forest.fit(X_train,y_train)\n",
    "bagging.fit(X_train, y_train)\n",
    "\n",
    "fig, ax = plt.subplots()\n",
    "\n",
    "plot_roc_curve(tree, X_test, y_test, name='Tree', ax=ax)\n",
    "plot_roc_curve(bagging, X_test, y_test, name='Bagging', ax=ax)\n",
    "plot_roc_curve(forest, X_test, y_test, name='Forest', ax=ax)\n",
    "plot_roc_curve(logistic, X_test, y_test, name='Logistic', ax=ax)"
   ]
  },
  {
   "cell_type": "markdown",
   "metadata": {
    "heading_collapsed": true
   },
   "source": [
    "## LightGBM"
   ]
  },
  {
   "cell_type": "code",
   "execution_count": 639,
   "metadata": {
    "hidden": true
   },
   "outputs": [],
   "source": [
    "lgb = LGBMClassifier(max_depth=5, n_estimators=100, colsample_bytree=.7, n_jobs=-1)"
   ]
  },
  {
   "cell_type": "code",
   "execution_count": 640,
   "metadata": {
    "hidden": true
   },
   "outputs": [
    {
     "data": {
      "text/plain": [
       "(0.8821508164768543, 0.005913907553114705)"
      ]
     },
     "execution_count": 640,
     "metadata": {},
     "output_type": "execute_result"
    }
   ],
   "source": [
    "results = cross_val_score(lgb, X_train, y_train, cv=KFold(10, shuffle=True), scoring='roc_auc')\n",
    "(np.mean(results), np.std(results))"
   ]
  },
  {
   "cell_type": "code",
   "execution_count": 641,
   "metadata": {
    "hidden": true
   },
   "outputs": [
    {
     "data": {
      "text/plain": [
       "0.8907424229911636"
      ]
     },
     "execution_count": 641,
     "metadata": {},
     "output_type": "execute_result"
    }
   ],
   "source": [
    "lgb.fit(X, y)\n",
    "lgb.score(X, y)"
   ]
  },
  {
   "cell_type": "code",
   "execution_count": 642,
   "metadata": {
    "hidden": true
   },
   "outputs": [
    {
     "name": "stdout",
     "output_type": "stream",
     "text": [
      "Taxa de acerto: 0.9019262735895179\n",
      "Taxa de captura: 0.9664710813076278\n"
     ]
    }
   ],
   "source": [
    "print('Taxa de acerto:', + precision_score(y, lgb.predict(X)))\n",
    "print('Taxa de captura:', + recall_score(y, lgb.predict(X)))"
   ]
  },
  {
   "cell_type": "code",
   "execution_count": 643,
   "metadata": {
    "hidden": true
   },
   "outputs": [
    {
     "data": {
      "image/png": "[encoded data removed]",
      "text/plain": [
       "<Figure size 432x288 with 1 Axes>"
      ]
     },
     "metadata": {
      "needs_background": "light"
     },
     "output_type": "display_data"
    }
   ],
   "source": [
    "curves = learning_curve(lgb, X_train, y_train, scoring='roc_auc')\n",
    "train_sizes = curves[0]\n",
    "train_scores = curves[1]\n",
    "test_scores = curves[2]\n",
    "\n",
    "plt.plot(train_sizes, train_scores.mean(axis=1),'-o')\n",
    "plt.plot(train_sizes, test_scores.mean(axis=1),'-o');\n",
    "plt.ylim([0.5, 1.0])\n",
    "plt.grid()"
   ]
  },
  {
   "cell_type": "code",
   "execution_count": 644,
   "metadata": {
    "hidden": true
   },
   "outputs": [
    {
     "data": {
      "text/plain": [
       "<matplotlib.legend.Legend at 0x1ce8de82c48>"
      ]
     },
     "execution_count": 644,
     "metadata": {},
     "output_type": "execute_result"
    },
    {
     "data": {
      "image/png": "[encoded data removed]",
      "text/plain": [
       "<Figure size 432x288 with 1 Axes>"
      ]
     },
     "metadata": {
      "needs_background": "light"
     },
     "output_type": "display_data"
    }
   ],
   "source": [
    "tree.fit(X_train, y_train)\n",
    "forest.fit(X_train, y_train)\n",
    "bagging.fit(X_train, y_train)\n",
    "lgb.fit(X_train, y_train)\n",
    "\n",
    "\n",
    "fig, ax = plt.subplots()\n",
    "\n",
    "plot_roc_curve(tree, X_test, y_test, name='Tree', ax=ax)\n",
    "plot_roc_curve(forest, X_test, y_test, name='Random Forest', ax=ax)\n",
    "plot_roc_curve(bagging, X_test, y_test, name='Bagging', ax=ax)\n",
    "plot_roc_curve(logistic, X_test, y_test, name='Logistic', ax=ax)\n",
    "plot_roc_curve(lgb, X_test, y_test, name='LightGBM', ax=ax)\n",
    "\n",
    "plt.legend()\n"
   ]
  }
 ],
 "metadata": {
  "kernelspec": {
   "display_name": "Python 3",
   "language": "python",
   "name": "python3"
  },
  "language_info": {
   "codemirror_mode": {
    "name": "ipython",
    "version": 3
   },
   "file_extension": ".py",
   "mimetype": "text/x-python",
   "name": "python",
   "nbconvert_exporter": "python",
   "pygments_lexer": "ipython3",
   "version": "3.7.4"
  },
  "nbTranslate": {
   "displayLangs": [
    "*"
   ],
   "hotkey": "alt-t",
   "langInMainMenu": true,
   "sourceLang": "en",
   "targetLang": "fr",
   "useGoogleTranslate": true
  },
  "toc": {
   "base_numbering": 1,
   "nav_menu": {},
   "number_sections": true,
   "sideBar": true,
   "skip_h1_title": false,
   "title_cell": "Table of Contents",
   "title_sidebar": "Contents",
   "toc_cell": false,
   "toc_position": {
    "height": "calc(100% - 180px)",
    "left": "10px",
    "top": "150px",
    "width": "223px"
   },
   "toc_section_display": true,
   "toc_window_display": true
  }
 },
 "nbformat": 4,
 "nbformat_minor": 2
}
