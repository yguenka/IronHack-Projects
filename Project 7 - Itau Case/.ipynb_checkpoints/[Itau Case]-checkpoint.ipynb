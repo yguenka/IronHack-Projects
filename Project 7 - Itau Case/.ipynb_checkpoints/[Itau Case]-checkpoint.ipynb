{
 "cells": [
  {
   "cell_type": "markdown",
   "metadata": {},
   "source": [
    "Apresentação resumida em slides:\n",
    "https://docs.google.com/presentation/d/1ZxmFY8S0LMtlLfsznKvv7CUc0-v7NpXukbz_P-MkGd8/edit?usp=sharing"
   ]
  },
  {
   "cell_type": "markdown",
   "metadata": {},
   "source": [
    "# Bibliotecas e DataFrame"
   ]
  },
  {
   "cell_type": "markdown",
   "metadata": {
    "heading_collapsed": true
   },
   "source": [
    "## Biblioteca"
   ]
  },
  {
   "cell_type": "code",
   "execution_count": 1,
   "metadata": {
    "hidden": true,
    "scrolled": true
   },
   "outputs": [
    {
     "name": "stderr",
     "output_type": "stream",
     "text": [
      "C:\\Users\\yukar\\Anaconda3\\lib\\site-packages\\statsmodels\\tools\\_testing.py:19: FutureWarning: pandas.util.testing is deprecated. Use the functions in the public API at pandas.testing instead.\n",
      "  import pandas.util.testing as tm\n",
      "C:\\Users\\yukar\\Anaconda3\\lib\\site-packages\\sklearn\\utils\\deprecation.py:144: FutureWarning: The sklearn.metrics.classification module is  deprecated in version 0.22 and will be removed in version 0.24. The corresponding classes / functions should instead be imported from sklearn.metrics. Anything that cannot be imported from sklearn.metrics is now part of the private API.\n",
      "  warnings.warn(message, FutureWarning)\n"
     ]
    }
   ],
   "source": [
    "import pandas as pd\n",
    "import seaborn as sns\n",
    "from sklearn.linear_model import LogisticRegression\n",
    "from sklearn.metrics import r2_score\n",
    "from sklearn.metrics import mean_squared_error\n",
    "from math import sqrt\n",
    "from sklearn.model_selection import train_test_split\n",
    "from sklearn.metrics import confusion_matrix\n",
    "from sklearn.metrics import plot_confusion_matrix\n",
    "from sklearn.metrics import precision_score, recall_score\n",
    "from sklearn.metrics import plot_precision_recall_curve\n",
    "import matplotlib.pyplot as plt\n",
    "from sklearn.metrics import plot_roc_curve, roc_auc_score, roc_curve\n",
    "from sklearn.linear_model import LogisticRegression\n",
    "from yellowbrick.classifier import ROCAUC\n",
    "from sklearn.cluster import KMeans\n",
    "from yellowbrick.cluster import KElbowVisualizer\n",
    "from imblearn.under_sampling import RandomUnderSampler\n",
    "from sklearn.neighbors import KNeighborsClassifier\n",
    "from sklearn.impute import KNNImputer\n",
    "from geopy.geocoders import Nominatim\n",
    "from tqdm import tqdm\n",
    "from sklearn.preprocessing import StandardScaler\n",
    "import time \n",
    "import datetime\n",
    "from datetime import datetime\n",
    "from sklearn.model_selection import cross_val_score, KFold\n",
    "from sklearn.ensemble import BaggingClassifier\n",
    "from sklearn.tree import DecisionTreeClassifier, plot_tree\n",
    "import numpy as np\n",
    "from sklearn.ensemble import RandomForestClassifier\n",
    "from sklearn.model_selection import learning_curve\n",
    "from lightgbm import LGBMClassifier\n",
    "from lightgbm import plot_importance\n",
    "from sklearn.decomposition  import PCA\n",
    "import seaborn as sns\n",
    "from sklearn import tree"
   ]
  },
  {
   "cell_type": "markdown",
   "metadata": {
    "heading_collapsed": true
   },
   "source": [
    "## DataFrame"
   ]
  },
  {
   "cell_type": "code",
   "execution_count": 2,
   "metadata": {
    "hidden": true
   },
   "outputs": [],
   "source": [
    "rain = pd.read_csv('data/rain_data_aus.csv')"
   ]
  },
  {
   "cell_type": "markdown",
   "metadata": {
    "hidden": true
   },
   "source": [
    "Como o DataFrame 1 e 2 estavam com o nome das colunas diferente das demais, foi preciso igualar."
   ]
  },
  {
   "cell_type": "code",
   "execution_count": 3,
   "metadata": {
    "hidden": true
   },
   "outputs": [],
   "source": [
    "wind_1 = pd.read_csv('data/wind_table_01.csv')\n",
    "wind_2 = pd.read_csv('data/wind_table_02.csv')\n",
    "wind_3 = pd.read_csv('data/wind_table_03.csv')\n",
    "wind_4 = pd.read_csv('data/wind_table_04.csv')\n",
    "wind_5 = pd.read_csv('data/wind_table_05.csv')\n",
    "wind_6 = pd.read_csv('data/wind_table_06.csv')\n",
    "wind_7 = pd.read_csv('data/wind_table_07.csv')\n",
    "wind_8 = pd.read_csv('data/wind_table_08.csv')\n",
    "wind_1.columns = wind_3.columns\n",
    "wind_2.columns = wind_3.columns\n",
    "wind = wind_1.append(wind_2, ignore_index=True).append(wind_3, ignore_index=True).append(wind_3, ignore_index=True).append(wind_4, ignore_index=True).append(wind_5, ignore_index=True).append(wind_6, ignore_index=True).append(wind_7, ignore_index=True).append(wind_8, ignore_index=True)"
   ]
  },
  {
   "cell_type": "markdown",
   "metadata": {
    "hidden": true
   },
   "source": [
    "Como as colunas Rain Today e Rain Tomorrow está como Sim ou Não, substitui o valor de Sim para 1 e Não para 0, pois a regressão linear não consegue modelar quando está em texto."
   ]
  },
  {
   "cell_type": "code",
   "execution_count": 4,
   "metadata": {
    "hidden": true
   },
   "outputs": [],
   "source": [
    "rain['raintoday'] = rain['raintoday'].replace('No', 0).replace('Yes', 1)\n",
    "rain['raintomorrow'] = rain['raintomorrow'].replace('No', 0).replace('Yes', 1)"
   ]
  },
  {
   "cell_type": "markdown",
   "metadata": {
    "hidden": true
   },
   "source": [
    "Retirando as colunas Date e Location pelo mesmo motivo de não conseguir fazer a regressão com dados em texto."
   ]
  },
  {
   "cell_type": "code",
   "execution_count": 5,
   "metadata": {
    "hidden": true
   },
   "outputs": [],
   "source": [
    "df = rain.merge(wind, on=['date','location'], how='left').drop_duplicates().drop(columns=['date', 'location']).fillna(0)"
   ]
  },
  {
   "cell_type": "code",
   "execution_count": 6,
   "metadata": {
    "hidden": true
   },
   "outputs": [],
   "source": [
    "pd.set_option(\"display.max_columns\", len(df.columns)) "
   ]
  },
  {
   "cell_type": "markdown",
   "metadata": {},
   "source": [
    "# Overfitting e Baseline"
   ]
  },
  {
   "cell_type": "markdown",
   "metadata": {
    "heading_collapsed": true
   },
   "source": [
    "## Overfitting"
   ]
  },
  {
   "cell_type": "markdown",
   "metadata": {
    "hidden": true
   },
   "source": [
    "Drop feito nos valores NaN e na direção dos ventos pois no modelo de regressão logística, não é possível fazer a modelagem."
   ]
  },
  {
   "cell_type": "code",
   "execution_count": 7,
   "metadata": {
    "hidden": true
   },
   "outputs": [],
   "source": [
    "df = df.dropna()"
   ]
  },
  {
   "cell_type": "code",
   "execution_count": 8,
   "metadata": {
    "hidden": true
   },
   "outputs": [
    {
     "data": {
      "text/plain": [
       "LogisticRegression(C=1.0, class_weight=None, dual=False, fit_intercept=True,\n",
       "                   intercept_scaling=1, l1_ratio=None, max_iter=10000,\n",
       "                   multi_class='auto', n_jobs=None, penalty='l2',\n",
       "                   random_state=None, solver='lbfgs', tol=0.0001, verbose=0,\n",
       "                   warm_start=False)"
      ]
     },
     "execution_count": 8,
     "metadata": {},
     "output_type": "execute_result"
    }
   ],
   "source": [
    "X = df[['mintemp', 'maxtemp', 'rainfall', 'evaporation', 'sunshine',\n",
    "       'humidity9am', 'humidity3pm', 'pressure9am', 'pressure3pm', 'cloud9am',\n",
    "       'cloud3pm', 'temp9am', 'temp3pm', 'raintoday', 'amountOfRain',\n",
    "       'temp', 'humidity', 'precipitation3pm',\n",
    "       'precipitation9am', 'modelo_vigente', 'windgustspeed',\n",
    "       'windspeed9am', 'windspeed3pm']]\n",
    "y = df['raintomorrow']\n",
    "model = LogisticRegression(max_iter=10000)\n",
    "X_train, X_test, y_train, y_test = train_test_split(X, y, test_size=0.75, random_state=7)\n",
    "model.fit(X_train,y_train)"
   ]
  },
  {
   "cell_type": "code",
   "execution_count": 9,
   "metadata": {
    "hidden": true
   },
   "outputs": [
    {
     "name": "stdout",
     "output_type": "stream",
     "text": [
      "Acurácia: 0.9996343007173332\n"
     ]
    }
   ],
   "source": [
    "print('Acurácia:', + model.score(X_test, y_test))"
   ]
  },
  {
   "cell_type": "code",
   "execution_count": 10,
   "metadata": {
    "hidden": true
   },
   "outputs": [
    {
     "name": "stdout",
     "output_type": "stream",
     "text": [
      "Taxa de acerto: 0.9991616364855801\n",
      "Taxa de captura: 0.999203521274366\n"
     ]
    }
   ],
   "source": [
    "print('Taxa de acerto:', + precision_score(y_test, model.predict(X_test)))\n",
    "print('Taxa de captura:', + recall_score(y_test, model.predict(X_test)))"
   ]
  },
  {
   "cell_type": "code",
   "execution_count": 11,
   "metadata": {
    "hidden": true
   },
   "outputs": [
    {
     "data": {
      "text/html": [
       "<style  type=\"text/css\" >\n",
       "    #T_fed1975c_8f3c_11ea_a63f_d63a88ba66afrow0_col0 {\n",
       "            background-color:  #b40426;\n",
       "            color:  #f1f1f1;\n",
       "        }    #T_fed1975c_8f3c_11ea_a63f_d63a88ba66afrow0_col1 {\n",
       "            background-color:  #ec7f63;\n",
       "            color:  #000000;\n",
       "        }    #T_fed1975c_8f3c_11ea_a63f_d63a88ba66afrow0_col2 {\n",
       "            background-color:  #7597f6;\n",
       "            color:  #000000;\n",
       "        }    #T_fed1975c_8f3c_11ea_a63f_d63a88ba66afrow0_col3 {\n",
       "            background-color:  #e2dad5;\n",
       "            color:  #000000;\n",
       "        }    #T_fed1975c_8f3c_11ea_a63f_d63a88ba66afrow0_col4 {\n",
       "            background-color:  #a9c6fd;\n",
       "            color:  #000000;\n",
       "        }    #T_fed1975c_8f3c_11ea_a63f_d63a88ba66afrow0_col5 {\n",
       "            background-color:  #7295f4;\n",
       "            color:  #000000;\n",
       "        }    #T_fed1975c_8f3c_11ea_a63f_d63a88ba66afrow0_col6 {\n",
       "            background-color:  #a3c2fe;\n",
       "            color:  #000000;\n",
       "        }    #T_fed1975c_8f3c_11ea_a63f_d63a88ba66afrow0_col7 {\n",
       "            background-color:  #6485ec;\n",
       "            color:  #000000;\n",
       "        }    #T_fed1975c_8f3c_11ea_a63f_d63a88ba66afrow0_col8 {\n",
       "            background-color:  #6687ed;\n",
       "            color:  #000000;\n",
       "        }    #T_fed1975c_8f3c_11ea_a63f_d63a88ba66afrow0_col9 {\n",
       "            background-color:  #8caffe;\n",
       "            color:  #000000;\n",
       "        }    #T_fed1975c_8f3c_11ea_a63f_d63a88ba66afrow0_col10 {\n",
       "            background-color:  #7a9df8;\n",
       "            color:  #000000;\n",
       "        }    #T_fed1975c_8f3c_11ea_a63f_d63a88ba66afrow0_col11 {\n",
       "            background-color:  #d0473d;\n",
       "            color:  #f1f1f1;\n",
       "        }    #T_fed1975c_8f3c_11ea_a63f_d63a88ba66afrow0_col12 {\n",
       "            background-color:  #f5a081;\n",
       "            color:  #000000;\n",
       "        }    #T_fed1975c_8f3c_11ea_a63f_d63a88ba66afrow0_col13 {\n",
       "            background-color:  #85a8fc;\n",
       "            color:  #000000;\n",
       "        }    #T_fed1975c_8f3c_11ea_a63f_d63a88ba66afrow0_col14 {\n",
       "            background-color:  #82a6fb;\n",
       "            color:  #000000;\n",
       "        }    #T_fed1975c_8f3c_11ea_a63f_d63a88ba66afrow0_col15 {\n",
       "            background-color:  #f7b093;\n",
       "            color:  #000000;\n",
       "        }    #T_fed1975c_8f3c_11ea_a63f_d63a88ba66afrow0_col16 {\n",
       "            background-color:  #9dbdff;\n",
       "            color:  #000000;\n",
       "        }    #T_fed1975c_8f3c_11ea_a63f_d63a88ba66afrow0_col17 {\n",
       "            background-color:  #3c4ec2;\n",
       "            color:  #f1f1f1;\n",
       "        }    #T_fed1975c_8f3c_11ea_a63f_d63a88ba66afrow0_col18 {\n",
       "            background-color:  #3b4cc0;\n",
       "            color:  #f1f1f1;\n",
       "        }    #T_fed1975c_8f3c_11ea_a63f_d63a88ba66afrow0_col19 {\n",
       "            background-color:  #a7c5fe;\n",
       "            color:  #000000;\n",
       "        }    #T_fed1975c_8f3c_11ea_a63f_d63a88ba66afrow0_col20 {\n",
       "            background-color:  #8fb1fe;\n",
       "            color:  #000000;\n",
       "        }    #T_fed1975c_8f3c_11ea_a63f_d63a88ba66afrow0_col21 {\n",
       "            background-color:  #a9c6fd;\n",
       "            color:  #000000;\n",
       "        }    #T_fed1975c_8f3c_11ea_a63f_d63a88ba66afrow0_col22 {\n",
       "            background-color:  #90b2fe;\n",
       "            color:  #000000;\n",
       "        }    #T_fed1975c_8f3c_11ea_a63f_d63a88ba66afrow1_col0 {\n",
       "            background-color:  #f39475;\n",
       "            color:  #000000;\n",
       "        }    #T_fed1975c_8f3c_11ea_a63f_d63a88ba66afrow1_col1 {\n",
       "            background-color:  #b40426;\n",
       "            color:  #f1f1f1;\n",
       "        }    #T_fed1975c_8f3c_11ea_a63f_d63a88ba66afrow1_col2 {\n",
       "            background-color:  #4055c8;\n",
       "            color:  #f1f1f1;\n",
       "        }    #T_fed1975c_8f3c_11ea_a63f_d63a88ba66afrow1_col3 {\n",
       "            background-color:  #e9d5cb;\n",
       "            color:  #000000;\n",
       "        }    #T_fed1975c_8f3c_11ea_a63f_d63a88ba66afrow1_col4 {\n",
       "            background-color:  #c6d6f1;\n",
       "            color:  #000000;\n",
       "        }    #T_fed1975c_8f3c_11ea_a63f_d63a88ba66afrow1_col5 {\n",
       "            background-color:  #3b4cc0;\n",
       "            color:  #f1f1f1;\n",
       "        }    #T_fed1975c_8f3c_11ea_a63f_d63a88ba66afrow1_col6 {\n",
       "            background-color:  #3b4cc0;\n",
       "            color:  #f1f1f1;\n",
       "        }    #T_fed1975c_8f3c_11ea_a63f_d63a88ba66afrow1_col7 {\n",
       "            background-color:  #5b7ae5;\n",
       "            color:  #000000;\n",
       "        }    #T_fed1975c_8f3c_11ea_a63f_d63a88ba66afrow1_col8 {\n",
       "            background-color:  #5d7ce6;\n",
       "            color:  #000000;\n",
       "        }    #T_fed1975c_8f3c_11ea_a63f_d63a88ba66afrow1_col9 {\n",
       "            background-color:  #3c4ec2;\n",
       "            color:  #f1f1f1;\n",
       "        }    #T_fed1975c_8f3c_11ea_a63f_d63a88ba66afrow1_col10 {\n",
       "            background-color:  #3b4cc0;\n",
       "            color:  #f1f1f1;\n",
       "        }    #T_fed1975c_8f3c_11ea_a63f_d63a88ba66afrow1_col11 {\n",
       "            background-color:  #d55042;\n",
       "            color:  #000000;\n",
       "        }    #T_fed1975c_8f3c_11ea_a63f_d63a88ba66afrow1_col12 {\n",
       "            background-color:  #d24b40;\n",
       "            color:  #f1f1f1;\n",
       "        }    #T_fed1975c_8f3c_11ea_a63f_d63a88ba66afrow1_col13 {\n",
       "            background-color:  #3b4cc0;\n",
       "            color:  #f1f1f1;\n",
       "        }    #T_fed1975c_8f3c_11ea_a63f_d63a88ba66afrow1_col14 {\n",
       "            background-color:  #516ddb;\n",
       "            color:  #000000;\n",
       "        }    #T_fed1975c_8f3c_11ea_a63f_d63a88ba66afrow1_col15 {\n",
       "            background-color:  #e36b54;\n",
       "            color:  #000000;\n",
       "        }    #T_fed1975c_8f3c_11ea_a63f_d63a88ba66afrow1_col16 {\n",
       "            background-color:  #3b4cc0;\n",
       "            color:  #f1f1f1;\n",
       "        }    #T_fed1975c_8f3c_11ea_a63f_d63a88ba66afrow1_col17 {\n",
       "            background-color:  #3c4ec2;\n",
       "            color:  #f1f1f1;\n",
       "        }    #T_fed1975c_8f3c_11ea_a63f_d63a88ba66afrow1_col18 {\n",
       "            background-color:  #3b4cc0;\n",
       "            color:  #f1f1f1;\n",
       "        }    #T_fed1975c_8f3c_11ea_a63f_d63a88ba66afrow1_col19 {\n",
       "            background-color:  #465ecf;\n",
       "            color:  #f1f1f1;\n",
       "        }    #T_fed1975c_8f3c_11ea_a63f_d63a88ba66afrow1_col20 {\n",
       "            background-color:  #81a4fb;\n",
       "            color:  #000000;\n",
       "        }    #T_fed1975c_8f3c_11ea_a63f_d63a88ba66afrow1_col21 {\n",
       "            background-color:  #7b9ff9;\n",
       "            color:  #000000;\n",
       "        }    #T_fed1975c_8f3c_11ea_a63f_d63a88ba66afrow1_col22 {\n",
       "            background-color:  #6c8ff1;\n",
       "            color:  #000000;\n",
       "        }    #T_fed1975c_8f3c_11ea_a63f_d63a88ba66afrow2_col0 {\n",
       "            background-color:  #89acfd;\n",
       "            color:  #000000;\n",
       "        }    #T_fed1975c_8f3c_11ea_a63f_d63a88ba66afrow2_col1 {\n",
       "            background-color:  #92b4fe;\n",
       "            color:  #000000;\n",
       "        }    #T_fed1975c_8f3c_11ea_a63f_d63a88ba66afrow2_col2 {\n",
       "            background-color:  #b40426;\n",
       "            color:  #f1f1f1;\n",
       "        }    #T_fed1975c_8f3c_11ea_a63f_d63a88ba66afrow2_col3 {\n",
       "            background-color:  #7b9ff9;\n",
       "            color:  #000000;\n",
       "        }    #T_fed1975c_8f3c_11ea_a63f_d63a88ba66afrow2_col4 {\n",
       "            background-color:  #688aef;\n",
       "            color:  #000000;\n",
       "        }    #T_fed1975c_8f3c_11ea_a63f_d63a88ba66afrow2_col5 {\n",
       "            background-color:  #cdd9ec;\n",
       "            color:  #000000;\n",
       "        }    #T_fed1975c_8f3c_11ea_a63f_d63a88ba66afrow2_col6 {\n",
       "            background-color:  #d5dbe5;\n",
       "            color:  #000000;\n",
       "        }    #T_fed1975c_8f3c_11ea_a63f_d63a88ba66afrow2_col7 {\n",
       "            background-color:  #3c4ec2;\n",
       "            color:  #f1f1f1;\n",
       "        }    #T_fed1975c_8f3c_11ea_a63f_d63a88ba66afrow2_col8 {\n",
       "            background-color:  #3d50c3;\n",
       "            color:  #f1f1f1;\n",
       "        }    #T_fed1975c_8f3c_11ea_a63f_d63a88ba66afrow2_col9 {\n",
       "            background-color:  #89acfd;\n",
       "            color:  #000000;\n",
       "        }    #T_fed1975c_8f3c_11ea_a63f_d63a88ba66afrow2_col10 {\n",
       "            background-color:  #7da0f9;\n",
       "            color:  #000000;\n",
       "        }    #T_fed1975c_8f3c_11ea_a63f_d63a88ba66afrow2_col11 {\n",
       "            background-color:  #96b7ff;\n",
       "            color:  #000000;\n",
       "        }    #T_fed1975c_8f3c_11ea_a63f_d63a88ba66afrow2_col12 {\n",
       "            background-color:  #84a7fc;\n",
       "            color:  #000000;\n",
       "        }    #T_fed1975c_8f3c_11ea_a63f_d63a88ba66afrow2_col13 {\n",
       "            background-color:  #f1cdba;\n",
       "            color:  #000000;\n",
       "        }    #T_fed1975c_8f3c_11ea_a63f_d63a88ba66afrow2_col14 {\n",
       "            background-color:  #bad0f8;\n",
       "            color:  #000000;\n",
       "        }    #T_fed1975c_8f3c_11ea_a63f_d63a88ba66afrow2_col15 {\n",
       "            background-color:  #84a7fc;\n",
       "            color:  #000000;\n",
       "        }    #T_fed1975c_8f3c_11ea_a63f_d63a88ba66afrow2_col16 {\n",
       "            background-color:  #cdd9ec;\n",
       "            color:  #000000;\n",
       "        }    #T_fed1975c_8f3c_11ea_a63f_d63a88ba66afrow2_col17 {\n",
       "            background-color:  #3b4cc0;\n",
       "            color:  #f1f1f1;\n",
       "        }    #T_fed1975c_8f3c_11ea_a63f_d63a88ba66afrow2_col18 {\n",
       "            background-color:  #3b4cc0;\n",
       "            color:  #f1f1f1;\n",
       "        }    #T_fed1975c_8f3c_11ea_a63f_d63a88ba66afrow2_col19 {\n",
       "            background-color:  #dcdddd;\n",
       "            color:  #000000;\n",
       "        }    #T_fed1975c_8f3c_11ea_a63f_d63a88ba66afrow2_col20 {\n",
       "            background-color:  #84a7fc;\n",
       "            color:  #000000;\n",
       "        }    #T_fed1975c_8f3c_11ea_a63f_d63a88ba66afrow2_col21 {\n",
       "            background-color:  #8db0fe;\n",
       "            color:  #000000;\n",
       "        }    #T_fed1975c_8f3c_11ea_a63f_d63a88ba66afrow2_col22 {\n",
       "            background-color:  #6a8bef;\n",
       "            color:  #000000;\n",
       "        }    #T_fed1975c_8f3c_11ea_a63f_d63a88ba66afrow3_col0 {\n",
       "            background-color:  #d3dbe7;\n",
       "            color:  #000000;\n",
       "        }    #T_fed1975c_8f3c_11ea_a63f_d63a88ba66afrow3_col1 {\n",
       "            background-color:  #f1cdba;\n",
       "            color:  #000000;\n",
       "        }    #T_fed1975c_8f3c_11ea_a63f_d63a88ba66afrow3_col2 {\n",
       "            background-color:  #455cce;\n",
       "            color:  #f1f1f1;\n",
       "        }    #T_fed1975c_8f3c_11ea_a63f_d63a88ba66afrow3_col3 {\n",
       "            background-color:  #b40426;\n",
       "            color:  #f1f1f1;\n",
       "        }    #T_fed1975c_8f3c_11ea_a63f_d63a88ba66afrow3_col4 {\n",
       "            background-color:  #f3c7b1;\n",
       "            color:  #000000;\n",
       "        }    #T_fed1975c_8f3c_11ea_a63f_d63a88ba66afrow3_col5 {\n",
       "            background-color:  #516ddb;\n",
       "            color:  #000000;\n",
       "        }    #T_fed1975c_8f3c_11ea_a63f_d63a88ba66afrow3_col6 {\n",
       "            background-color:  #6788ee;\n",
       "            color:  #000000;\n",
       "        }    #T_fed1975c_8f3c_11ea_a63f_d63a88ba66afrow3_col7 {\n",
       "            background-color:  #88abfd;\n",
       "            color:  #000000;\n",
       "        }    #T_fed1975c_8f3c_11ea_a63f_d63a88ba66afrow3_col8 {\n",
       "            background-color:  #89acfd;\n",
       "            color:  #000000;\n",
       "        }    #T_fed1975c_8f3c_11ea_a63f_d63a88ba66afrow3_col9 {\n",
       "            background-color:  #8caffe;\n",
       "            color:  #000000;\n",
       "        }    #T_fed1975c_8f3c_11ea_a63f_d63a88ba66afrow3_col10 {\n",
       "            background-color:  #8caffe;\n",
       "            color:  #000000;\n",
       "        }    #T_fed1975c_8f3c_11ea_a63f_d63a88ba66afrow3_col11 {\n",
       "            background-color:  #ecd3c5;\n",
       "            color:  #000000;\n",
       "        }    #T_fed1975c_8f3c_11ea_a63f_d63a88ba66afrow3_col12 {\n",
       "            background-color:  #e8d6cc;\n",
       "            color:  #000000;\n",
       "        }    #T_fed1975c_8f3c_11ea_a63f_d63a88ba66afrow3_col13 {\n",
       "            background-color:  #5673e0;\n",
       "            color:  #000000;\n",
       "        }    #T_fed1975c_8f3c_11ea_a63f_d63a88ba66afrow3_col14 {\n",
       "            background-color:  #5470de;\n",
       "            color:  #000000;\n",
       "        }    #T_fed1975c_8f3c_11ea_a63f_d63a88ba66afrow3_col15 {\n",
       "            background-color:  #dedcdb;\n",
       "            color:  #000000;\n",
       "        }    #T_fed1975c_8f3c_11ea_a63f_d63a88ba66afrow3_col16 {\n",
       "            background-color:  #6485ec;\n",
       "            color:  #000000;\n",
       "        }    #T_fed1975c_8f3c_11ea_a63f_d63a88ba66afrow3_col17 {\n",
       "            background-color:  #3c4ec2;\n",
       "            color:  #f1f1f1;\n",
       "        }    #T_fed1975c_8f3c_11ea_a63f_d63a88ba66afrow3_col18 {\n",
       "            background-color:  #3b4cc0;\n",
       "            color:  #f1f1f1;\n",
       "        }    #T_fed1975c_8f3c_11ea_a63f_d63a88ba66afrow3_col19 {\n",
       "            background-color:  #6485ec;\n",
       "            color:  #000000;\n",
       "        }    #T_fed1975c_8f3c_11ea_a63f_d63a88ba66afrow3_col20 {\n",
       "            background-color:  #8db0fe;\n",
       "            color:  #000000;\n",
       "        }    #T_fed1975c_8f3c_11ea_a63f_d63a88ba66afrow3_col21 {\n",
       "            background-color:  #a6c4fe;\n",
       "            color:  #000000;\n",
       "        }    #T_fed1975c_8f3c_11ea_a63f_d63a88ba66afrow3_col22 {\n",
       "            background-color:  #81a4fb;\n",
       "            color:  #000000;\n",
       "        }    #T_fed1975c_8f3c_11ea_a63f_d63a88ba66afrow4_col0 {\n",
       "            background-color:  #94b6ff;\n",
       "            color:  #000000;\n",
       "        }    #T_fed1975c_8f3c_11ea_a63f_d63a88ba66afrow4_col1 {\n",
       "            background-color:  #dadce0;\n",
       "            color:  #000000;\n",
       "        }    #T_fed1975c_8f3c_11ea_a63f_d63a88ba66afrow4_col2 {\n",
       "            background-color:  #3b4cc0;\n",
       "            color:  #f1f1f1;\n",
       "        }    #T_fed1975c_8f3c_11ea_a63f_d63a88ba66afrow4_col3 {\n",
       "            background-color:  #f5c4ac;\n",
       "            color:  #000000;\n",
       "        }    #T_fed1975c_8f3c_11ea_a63f_d63a88ba66afrow4_col4 {\n",
       "            background-color:  #b40426;\n",
       "            color:  #f1f1f1;\n",
       "        }    #T_fed1975c_8f3c_11ea_a63f_d63a88ba66afrow4_col5 {\n",
       "            background-color:  #6282ea;\n",
       "            color:  #000000;\n",
       "        }    #T_fed1975c_8f3c_11ea_a63f_d63a88ba66afrow4_col6 {\n",
       "            background-color:  #688aef;\n",
       "            color:  #000000;\n",
       "        }    #T_fed1975c_8f3c_11ea_a63f_d63a88ba66afrow4_col7 {\n",
       "            background-color:  #98b9ff;\n",
       "            color:  #000000;\n",
       "        }    #T_fed1975c_8f3c_11ea_a63f_d63a88ba66afrow4_col8 {\n",
       "            background-color:  #9abbff;\n",
       "            color:  #000000;\n",
       "        }    #T_fed1975c_8f3c_11ea_a63f_d63a88ba66afrow4_col9 {\n",
       "            background-color:  #6e90f2;\n",
       "            color:  #000000;\n",
       "        }    #T_fed1975c_8f3c_11ea_a63f_d63a88ba66afrow4_col10 {\n",
       "            background-color:  #6f92f3;\n",
       "            color:  #000000;\n",
       "        }    #T_fed1975c_8f3c_11ea_a63f_d63a88ba66afrow4_col11 {\n",
       "            background-color:  #c9d7f0;\n",
       "            color:  #000000;\n",
       "        }    #T_fed1975c_8f3c_11ea_a63f_d63a88ba66afrow4_col12 {\n",
       "            background-color:  #d9dce1;\n",
       "            color:  #000000;\n",
       "        }    #T_fed1975c_8f3c_11ea_a63f_d63a88ba66afrow4_col13 {\n",
       "            background-color:  #506bda;\n",
       "            color:  #000000;\n",
       "        }    #T_fed1975c_8f3c_11ea_a63f_d63a88ba66afrow4_col14 {\n",
       "            background-color:  #3b4cc0;\n",
       "            color:  #f1f1f1;\n",
       "        }    #T_fed1975c_8f3c_11ea_a63f_d63a88ba66afrow4_col15 {\n",
       "            background-color:  #c5d6f2;\n",
       "            color:  #000000;\n",
       "        }    #T_fed1975c_8f3c_11ea_a63f_d63a88ba66afrow4_col16 {\n",
       "            background-color:  #6687ed;\n",
       "            color:  #000000;\n",
       "        }    #T_fed1975c_8f3c_11ea_a63f_d63a88ba66afrow4_col17 {\n",
       "            background-color:  #3b4cc0;\n",
       "            color:  #f1f1f1;\n",
       "        }    #T_fed1975c_8f3c_11ea_a63f_d63a88ba66afrow4_col18 {\n",
       "            background-color:  #3b4cc0;\n",
       "            color:  #f1f1f1;\n",
       "        }    #T_fed1975c_8f3c_11ea_a63f_d63a88ba66afrow4_col19 {\n",
       "            background-color:  #3b4cc0;\n",
       "            color:  #f1f1f1;\n",
       "        }    #T_fed1975c_8f3c_11ea_a63f_d63a88ba66afrow4_col20 {\n",
       "            background-color:  #7699f6;\n",
       "            color:  #000000;\n",
       "        }    #T_fed1975c_8f3c_11ea_a63f_d63a88ba66afrow4_col21 {\n",
       "            background-color:  #93b5fe;\n",
       "            color:  #000000;\n",
       "        }    #T_fed1975c_8f3c_11ea_a63f_d63a88ba66afrow4_col22 {\n",
       "            background-color:  #81a4fb;\n",
       "            color:  #000000;\n",
       "        }    #T_fed1975c_8f3c_11ea_a63f_d63a88ba66afrow5_col0 {\n",
       "            background-color:  #3b4cc0;\n",
       "            color:  #f1f1f1;\n",
       "        }    #T_fed1975c_8f3c_11ea_a63f_d63a88ba66afrow5_col1 {\n",
       "            background-color:  #3f53c6;\n",
       "            color:  #f1f1f1;\n",
       "        }    #T_fed1975c_8f3c_11ea_a63f_d63a88ba66afrow5_col2 {\n",
       "            background-color:  #94b6ff;\n",
       "            color:  #000000;\n",
       "        }    #T_fed1975c_8f3c_11ea_a63f_d63a88ba66afrow5_col3 {\n",
       "            background-color:  #3b4cc0;\n",
       "            color:  #f1f1f1;\n",
       "        }    #T_fed1975c_8f3c_11ea_a63f_d63a88ba66afrow5_col4 {\n",
       "            background-color:  #4358cb;\n",
       "            color:  #f1f1f1;\n",
       "        }    #T_fed1975c_8f3c_11ea_a63f_d63a88ba66afrow5_col5 {\n",
       "            background-color:  #b40426;\n",
       "            color:  #f1f1f1;\n",
       "        }    #T_fed1975c_8f3c_11ea_a63f_d63a88ba66afrow5_col6 {\n",
       "            background-color:  #f59f80;\n",
       "            color:  #000000;\n",
       "        }    #T_fed1975c_8f3c_11ea_a63f_d63a88ba66afrow5_col7 {\n",
       "            background-color:  #3b4cc0;\n",
       "            color:  #f1f1f1;\n",
       "        }    #T_fed1975c_8f3c_11ea_a63f_d63a88ba66afrow5_col8 {\n",
       "            background-color:  #3b4cc0;\n",
       "            color:  #f1f1f1;\n",
       "        }    #T_fed1975c_8f3c_11ea_a63f_d63a88ba66afrow5_col9 {\n",
       "            background-color:  #a5c3fe;\n",
       "            color:  #000000;\n",
       "        }    #T_fed1975c_8f3c_11ea_a63f_d63a88ba66afrow5_col10 {\n",
       "            background-color:  #88abfd;\n",
       "            color:  #000000;\n",
       "        }    #T_fed1975c_8f3c_11ea_a63f_d63a88ba66afrow5_col11 {\n",
       "            background-color:  #3b4cc0;\n",
       "            color:  #f1f1f1;\n",
       "        }    #T_fed1975c_8f3c_11ea_a63f_d63a88ba66afrow5_col12 {\n",
       "            background-color:  #3b4cc0;\n",
       "            color:  #f1f1f1;\n",
       "        }    #T_fed1975c_8f3c_11ea_a63f_d63a88ba66afrow5_col13 {\n",
       "            background-color:  #cdd9ec;\n",
       "            color:  #000000;\n",
       "        }    #T_fed1975c_8f3c_11ea_a63f_d63a88ba66afrow5_col14 {\n",
       "            background-color:  #8caffe;\n",
       "            color:  #000000;\n",
       "        }    #T_fed1975c_8f3c_11ea_a63f_d63a88ba66afrow5_col15 {\n",
       "            background-color:  #3f53c6;\n",
       "            color:  #f1f1f1;\n",
       "        }    #T_fed1975c_8f3c_11ea_a63f_d63a88ba66afrow5_col16 {\n",
       "            background-color:  #f7af91;\n",
       "            color:  #000000;\n",
       "        }    #T_fed1975c_8f3c_11ea_a63f_d63a88ba66afrow5_col17 {\n",
       "            background-color:  #3b4cc0;\n",
       "            color:  #f1f1f1;\n",
       "        }    #T_fed1975c_8f3c_11ea_a63f_d63a88ba66afrow5_col18 {\n",
       "            background-color:  #3c4ec2;\n",
       "            color:  #f1f1f1;\n",
       "        }    #T_fed1975c_8f3c_11ea_a63f_d63a88ba66afrow5_col19 {\n",
       "            background-color:  #dbdcde;\n",
       "            color:  #000000;\n",
       "        }    #T_fed1975c_8f3c_11ea_a63f_d63a88ba66afrow5_col20 {\n",
       "            background-color:  #3b4cc0;\n",
       "            color:  #f1f1f1;\n",
       "        }    #T_fed1975c_8f3c_11ea_a63f_d63a88ba66afrow5_col21 {\n",
       "            background-color:  #3b4cc0;\n",
       "            color:  #f1f1f1;\n",
       "        }    #T_fed1975c_8f3c_11ea_a63f_d63a88ba66afrow5_col22 {\n",
       "            background-color:  #3b4cc0;\n",
       "            color:  #f1f1f1;\n",
       "        }    #T_fed1975c_8f3c_11ea_a63f_d63a88ba66afrow6_col0 {\n",
       "            background-color:  #6a8bef;\n",
       "            color:  #000000;\n",
       "        }    #T_fed1975c_8f3c_11ea_a63f_d63a88ba66afrow6_col1 {\n",
       "            background-color:  #3b4cc0;\n",
       "            color:  #f1f1f1;\n",
       "        }    #T_fed1975c_8f3c_11ea_a63f_d63a88ba66afrow6_col2 {\n",
       "            background-color:  #9dbdff;\n",
       "            color:  #000000;\n",
       "        }    #T_fed1975c_8f3c_11ea_a63f_d63a88ba66afrow6_col3 {\n",
       "            background-color:  #4a63d3;\n",
       "            color:  #f1f1f1;\n",
       "        }    #T_fed1975c_8f3c_11ea_a63f_d63a88ba66afrow6_col4 {\n",
       "            background-color:  #4358cb;\n",
       "            color:  #f1f1f1;\n",
       "        }    #T_fed1975c_8f3c_11ea_a63f_d63a88ba66afrow6_col5 {\n",
       "            background-color:  #f6a283;\n",
       "            color:  #000000;\n",
       "        }    #T_fed1975c_8f3c_11ea_a63f_d63a88ba66afrow6_col6 {\n",
       "            background-color:  #b40426;\n",
       "            color:  #f1f1f1;\n",
       "        }    #T_fed1975c_8f3c_11ea_a63f_d63a88ba66afrow6_col7 {\n",
       "            background-color:  #4257c9;\n",
       "            color:  #f1f1f1;\n",
       "        }    #T_fed1975c_8f3c_11ea_a63f_d63a88ba66afrow6_col8 {\n",
       "            background-color:  #465ecf;\n",
       "            color:  #f1f1f1;\n",
       "        }    #T_fed1975c_8f3c_11ea_a63f_d63a88ba66afrow6_col9 {\n",
       "            background-color:  #aec9fc;\n",
       "            color:  #000000;\n",
       "        }    #T_fed1975c_8f3c_11ea_a63f_d63a88ba66afrow6_col10 {\n",
       "            background-color:  #b7cff9;\n",
       "            color:  #000000;\n",
       "        }    #T_fed1975c_8f3c_11ea_a63f_d63a88ba66afrow6_col11 {\n",
       "            background-color:  #5f7fe8;\n",
       "            color:  #000000;\n",
       "        }    #T_fed1975c_8f3c_11ea_a63f_d63a88ba66afrow6_col12 {\n",
       "            background-color:  #4358cb;\n",
       "            color:  #f1f1f1;\n",
       "        }    #T_fed1975c_8f3c_11ea_a63f_d63a88ba66afrow6_col13 {\n",
       "            background-color:  #d3dbe7;\n",
       "            color:  #000000;\n",
       "        }    #T_fed1975c_8f3c_11ea_a63f_d63a88ba66afrow6_col14 {\n",
       "            background-color:  #b3cdfb;\n",
       "            color:  #000000;\n",
       "        }    #T_fed1975c_8f3c_11ea_a63f_d63a88ba66afrow6_col15 {\n",
       "            background-color:  #3b4cc0;\n",
       "            color:  #f1f1f1;\n",
       "        }    #T_fed1975c_8f3c_11ea_a63f_d63a88ba66afrow6_col16 {\n",
       "            background-color:  #c83836;\n",
       "            color:  #f1f1f1;\n",
       "        }    #T_fed1975c_8f3c_11ea_a63f_d63a88ba66afrow6_col17 {\n",
       "            background-color:  #3c4ec2;\n",
       "            color:  #f1f1f1;\n",
       "        }    #T_fed1975c_8f3c_11ea_a63f_d63a88ba66afrow6_col18 {\n",
       "            background-color:  #3c4ec2;\n",
       "            color:  #f1f1f1;\n",
       "        }    #T_fed1975c_8f3c_11ea_a63f_d63a88ba66afrow6_col19 {\n",
       "            background-color:  #f7b093;\n",
       "            color:  #000000;\n",
       "        }    #T_fed1975c_8f3c_11ea_a63f_d63a88ba66afrow6_col20 {\n",
       "            background-color:  #6788ee;\n",
       "            color:  #000000;\n",
       "        }    #T_fed1975c_8f3c_11ea_a63f_d63a88ba66afrow6_col21 {\n",
       "            background-color:  #7295f4;\n",
       "            color:  #000000;\n",
       "        }    #T_fed1975c_8f3c_11ea_a63f_d63a88ba66afrow6_col22 {\n",
       "            background-color:  #7396f5;\n",
       "            color:  #000000;\n",
       "        }    #T_fed1975c_8f3c_11ea_a63f_d63a88ba66afrow7_col0 {\n",
       "            background-color:  #92b4fe;\n",
       "            color:  #000000;\n",
       "        }    #T_fed1975c_8f3c_11ea_a63f_d63a88ba66afrow7_col1 {\n",
       "            background-color:  #bad0f8;\n",
       "            color:  #000000;\n",
       "        }    #T_fed1975c_8f3c_11ea_a63f_d63a88ba66afrow7_col2 {\n",
       "            background-color:  #5470de;\n",
       "            color:  #000000;\n",
       "        }    #T_fed1975c_8f3c_11ea_a63f_d63a88ba66afrow7_col3 {\n",
       "            background-color:  #c6d6f1;\n",
       "            color:  #000000;\n",
       "        }    #T_fed1975c_8f3c_11ea_a63f_d63a88ba66afrow7_col4 {\n",
       "            background-color:  #cbd8ee;\n",
       "            color:  #000000;\n",
       "        }    #T_fed1975c_8f3c_11ea_a63f_d63a88ba66afrow7_col5 {\n",
       "            background-color:  #9dbdff;\n",
       "            color:  #000000;\n",
       "        }    #T_fed1975c_8f3c_11ea_a63f_d63a88ba66afrow7_col6 {\n",
       "            background-color:  #a7c5fe;\n",
       "            color:  #000000;\n",
       "        }    #T_fed1975c_8f3c_11ea_a63f_d63a88ba66afrow7_col7 {\n",
       "            background-color:  #b40426;\n",
       "            color:  #f1f1f1;\n",
       "        }    #T_fed1975c_8f3c_11ea_a63f_d63a88ba66afrow7_col8 {\n",
       "            background-color:  #ba162b;\n",
       "            color:  #f1f1f1;\n",
       "        }    #T_fed1975c_8f3c_11ea_a63f_d63a88ba66afrow7_col9 {\n",
       "            background-color:  #8db0fe;\n",
       "            color:  #000000;\n",
       "        }    #T_fed1975c_8f3c_11ea_a63f_d63a88ba66afrow7_col10 {\n",
       "            background-color:  #8fb1fe;\n",
       "            color:  #000000;\n",
       "        }    #T_fed1975c_8f3c_11ea_a63f_d63a88ba66afrow7_col11 {\n",
       "            background-color:  #b3cdfb;\n",
       "            color:  #000000;\n",
       "        }    #T_fed1975c_8f3c_11ea_a63f_d63a88ba66afrow7_col12 {\n",
       "            background-color:  #bad0f8;\n",
       "            color:  #000000;\n",
       "        }    #T_fed1975c_8f3c_11ea_a63f_d63a88ba66afrow7_col13 {\n",
       "            background-color:  #7597f6;\n",
       "            color:  #000000;\n",
       "        }    #T_fed1975c_8f3c_11ea_a63f_d63a88ba66afrow7_col14 {\n",
       "            background-color:  #5d7ce6;\n",
       "            color:  #000000;\n",
       "        }    #T_fed1975c_8f3c_11ea_a63f_d63a88ba66afrow7_col15 {\n",
       "            background-color:  #a7c5fe;\n",
       "            color:  #000000;\n",
       "        }    #T_fed1975c_8f3c_11ea_a63f_d63a88ba66afrow7_col16 {\n",
       "            background-color:  #a1c0ff;\n",
       "            color:  #000000;\n",
       "        }    #T_fed1975c_8f3c_11ea_a63f_d63a88ba66afrow7_col17 {\n",
       "            background-color:  #3c4ec2;\n",
       "            color:  #f1f1f1;\n",
       "        }    #T_fed1975c_8f3c_11ea_a63f_d63a88ba66afrow7_col18 {\n",
       "            background-color:  #3c4ec2;\n",
       "            color:  #f1f1f1;\n",
       "        }    #T_fed1975c_8f3c_11ea_a63f_d63a88ba66afrow7_col19 {\n",
       "            background-color:  #81a4fb;\n",
       "            color:  #000000;\n",
       "        }    #T_fed1975c_8f3c_11ea_a63f_d63a88ba66afrow7_col20 {\n",
       "            background-color:  #9dbdff;\n",
       "            color:  #000000;\n",
       "        }    #T_fed1975c_8f3c_11ea_a63f_d63a88ba66afrow7_col21 {\n",
       "            background-color:  #9bbcff;\n",
       "            color:  #000000;\n",
       "        }    #T_fed1975c_8f3c_11ea_a63f_d63a88ba66afrow7_col22 {\n",
       "            background-color:  #97b8ff;\n",
       "            color:  #000000;\n",
       "        }    #T_fed1975c_8f3c_11ea_a63f_d63a88ba66afrow8_col0 {\n",
       "            background-color:  #90b2fe;\n",
       "            color:  #000000;\n",
       "        }    #T_fed1975c_8f3c_11ea_a63f_d63a88ba66afrow8_col1 {\n",
       "            background-color:  #bad0f8;\n",
       "            color:  #000000;\n",
       "        }    #T_fed1975c_8f3c_11ea_a63f_d63a88ba66afrow8_col2 {\n",
       "            background-color:  #5470de;\n",
       "            color:  #000000;\n",
       "        }    #T_fed1975c_8f3c_11ea_a63f_d63a88ba66afrow8_col3 {\n",
       "            background-color:  #c5d6f2;\n",
       "            color:  #000000;\n",
       "        }    #T_fed1975c_8f3c_11ea_a63f_d63a88ba66afrow8_col4 {\n",
       "            background-color:  #cbd8ee;\n",
       "            color:  #000000;\n",
       "        }    #T_fed1975c_8f3c_11ea_a63f_d63a88ba66afrow8_col5 {\n",
       "            background-color:  #9bbcff;\n",
       "            color:  #000000;\n",
       "        }    #T_fed1975c_8f3c_11ea_a63f_d63a88ba66afrow8_col6 {\n",
       "            background-color:  #a9c6fd;\n",
       "            color:  #000000;\n",
       "        }    #T_fed1975c_8f3c_11ea_a63f_d63a88ba66afrow8_col7 {\n",
       "            background-color:  #ba162b;\n",
       "            color:  #f1f1f1;\n",
       "        }    #T_fed1975c_8f3c_11ea_a63f_d63a88ba66afrow8_col8 {\n",
       "            background-color:  #b40426;\n",
       "            color:  #f1f1f1;\n",
       "        }    #T_fed1975c_8f3c_11ea_a63f_d63a88ba66afrow8_col9 {\n",
       "            background-color:  #8db0fe;\n",
       "            color:  #000000;\n",
       "        }    #T_fed1975c_8f3c_11ea_a63f_d63a88ba66afrow8_col10 {\n",
       "            background-color:  #8fb1fe;\n",
       "            color:  #000000;\n",
       "        }    #T_fed1975c_8f3c_11ea_a63f_d63a88ba66afrow8_col11 {\n",
       "            background-color:  #b2ccfb;\n",
       "            color:  #000000;\n",
       "        }    #T_fed1975c_8f3c_11ea_a63f_d63a88ba66afrow8_col12 {\n",
       "            background-color:  #bbd1f8;\n",
       "            color:  #000000;\n",
       "        }    #T_fed1975c_8f3c_11ea_a63f_d63a88ba66afrow8_col13 {\n",
       "            background-color:  #7597f6;\n",
       "            color:  #000000;\n",
       "        }    #T_fed1975c_8f3c_11ea_a63f_d63a88ba66afrow8_col14 {\n",
       "            background-color:  #5d7ce6;\n",
       "            color:  #000000;\n",
       "        }    #T_fed1975c_8f3c_11ea_a63f_d63a88ba66afrow8_col15 {\n",
       "            background-color:  #a7c5fe;\n",
       "            color:  #000000;\n",
       "        }    #T_fed1975c_8f3c_11ea_a63f_d63a88ba66afrow8_col16 {\n",
       "            background-color:  #a3c2fe;\n",
       "            color:  #000000;\n",
       "        }    #T_fed1975c_8f3c_11ea_a63f_d63a88ba66afrow8_col17 {\n",
       "            background-color:  #3c4ec2;\n",
       "            color:  #f1f1f1;\n",
       "        }    #T_fed1975c_8f3c_11ea_a63f_d63a88ba66afrow8_col18 {\n",
       "            background-color:  #3c4ec2;\n",
       "            color:  #f1f1f1;\n",
       "        }    #T_fed1975c_8f3c_11ea_a63f_d63a88ba66afrow8_col19 {\n",
       "            background-color:  #81a4fb;\n",
       "            color:  #000000;\n",
       "        }    #T_fed1975c_8f3c_11ea_a63f_d63a88ba66afrow8_col20 {\n",
       "            background-color:  #9dbdff;\n",
       "            color:  #000000;\n",
       "        }    #T_fed1975c_8f3c_11ea_a63f_d63a88ba66afrow8_col21 {\n",
       "            background-color:  #9bbcff;\n",
       "            color:  #000000;\n",
       "        }    #T_fed1975c_8f3c_11ea_a63f_d63a88ba66afrow8_col22 {\n",
       "            background-color:  #9abbff;\n",
       "            color:  #000000;\n",
       "        }    #T_fed1975c_8f3c_11ea_a63f_d63a88ba66afrow9_col0 {\n",
       "            background-color:  #98b9ff;\n",
       "            color:  #000000;\n",
       "        }    #T_fed1975c_8f3c_11ea_a63f_d63a88ba66afrow9_col1 {\n",
       "            background-color:  #88abfd;\n",
       "            color:  #000000;\n",
       "        }    #T_fed1975c_8f3c_11ea_a63f_d63a88ba66afrow9_col2 {\n",
       "            background-color:  #84a7fc;\n",
       "            color:  #000000;\n",
       "        }    #T_fed1975c_8f3c_11ea_a63f_d63a88ba66afrow9_col3 {\n",
       "            background-color:  #b3cdfb;\n",
       "            color:  #000000;\n",
       "        }    #T_fed1975c_8f3c_11ea_a63f_d63a88ba66afrow9_col4 {\n",
       "            background-color:  #94b6ff;\n",
       "            color:  #000000;\n",
       "        }    #T_fed1975c_8f3c_11ea_a63f_d63a88ba66afrow9_col5 {\n",
       "            background-color:  #d4dbe6;\n",
       "            color:  #000000;\n",
       "        }    #T_fed1975c_8f3c_11ea_a63f_d63a88ba66afrow9_col6 {\n",
       "            background-color:  #dcdddd;\n",
       "            color:  #000000;\n",
       "        }    #T_fed1975c_8f3c_11ea_a63f_d63a88ba66afrow9_col7 {\n",
       "            background-color:  #6f92f3;\n",
       "            color:  #000000;\n",
       "        }    #T_fed1975c_8f3c_11ea_a63f_d63a88ba66afrow9_col8 {\n",
       "            background-color:  #7295f4;\n",
       "            color:  #000000;\n",
       "        }    #T_fed1975c_8f3c_11ea_a63f_d63a88ba66afrow9_col9 {\n",
       "            background-color:  #b40426;\n",
       "            color:  #f1f1f1;\n",
       "        }    #T_fed1975c_8f3c_11ea_a63f_d63a88ba66afrow9_col10 {\n",
       "            background-color:  #f6a283;\n",
       "            color:  #000000;\n",
       "        }    #T_fed1975c_8f3c_11ea_a63f_d63a88ba66afrow9_col11 {\n",
       "            background-color:  #96b7ff;\n",
       "            color:  #000000;\n",
       "        }    #T_fed1975c_8f3c_11ea_a63f_d63a88ba66afrow9_col12 {\n",
       "            background-color:  #799cf8;\n",
       "            color:  #000000;\n",
       "        }    #T_fed1975c_8f3c_11ea_a63f_d63a88ba66afrow9_col13 {\n",
       "            background-color:  #b1cbfc;\n",
       "            color:  #000000;\n",
       "        }    #T_fed1975c_8f3c_11ea_a63f_d63a88ba66afrow9_col14 {\n",
       "            background-color:  #89acfd;\n",
       "            color:  #000000;\n",
       "        }    #T_fed1975c_8f3c_11ea_a63f_d63a88ba66afrow9_col15 {\n",
       "            background-color:  #7b9ff9;\n",
       "            color:  #000000;\n",
       "        }    #T_fed1975c_8f3c_11ea_a63f_d63a88ba66afrow9_col16 {\n",
       "            background-color:  #d4dbe6;\n",
       "            color:  #000000;\n",
       "        }    #T_fed1975c_8f3c_11ea_a63f_d63a88ba66afrow9_col17 {\n",
       "            background-color:  #3b4cc0;\n",
       "            color:  #f1f1f1;\n",
       "        }    #T_fed1975c_8f3c_11ea_a63f_d63a88ba66afrow9_col18 {\n",
       "            background-color:  #3b4cc0;\n",
       "            color:  #f1f1f1;\n",
       "        }    #T_fed1975c_8f3c_11ea_a63f_d63a88ba66afrow9_col19 {\n",
       "            background-color:  #d4dbe6;\n",
       "            color:  #000000;\n",
       "        }    #T_fed1975c_8f3c_11ea_a63f_d63a88ba66afrow9_col20 {\n",
       "            background-color:  #688aef;\n",
       "            color:  #000000;\n",
       "        }    #T_fed1975c_8f3c_11ea_a63f_d63a88ba66afrow9_col21 {\n",
       "            background-color:  #93b5fe;\n",
       "            color:  #000000;\n",
       "        }    #T_fed1975c_8f3c_11ea_a63f_d63a88ba66afrow9_col22 {\n",
       "            background-color:  #7597f6;\n",
       "            color:  #000000;\n",
       "        }    #T_fed1975c_8f3c_11ea_a63f_d63a88ba66afrow10_col0 {\n",
       "            background-color:  #8db0fe;\n",
       "            color:  #000000;\n",
       "        }    #T_fed1975c_8f3c_11ea_a63f_d63a88ba66afrow10_col1 {\n",
       "            background-color:  #8badfd;\n",
       "            color:  #000000;\n",
       "        }    #T_fed1975c_8f3c_11ea_a63f_d63a88ba66afrow10_col2 {\n",
       "            background-color:  #7da0f9;\n",
       "            color:  #000000;\n",
       "        }    #T_fed1975c_8f3c_11ea_a63f_d63a88ba66afrow10_col3 {\n",
       "            background-color:  #b7cff9;\n",
       "            color:  #000000;\n",
       "        }    #T_fed1975c_8f3c_11ea_a63f_d63a88ba66afrow10_col4 {\n",
       "            background-color:  #9abbff;\n",
       "            color:  #000000;\n",
       "        }    #T_fed1975c_8f3c_11ea_a63f_d63a88ba66afrow10_col5 {\n",
       "            background-color:  #c4d5f3;\n",
       "            color:  #000000;\n",
       "        }    #T_fed1975c_8f3c_11ea_a63f_d63a88ba66afrow10_col6 {\n",
       "            background-color:  #e4d9d2;\n",
       "            color:  #000000;\n",
       "        }    #T_fed1975c_8f3c_11ea_a63f_d63a88ba66afrow10_col7 {\n",
       "            background-color:  #7699f6;\n",
       "            color:  #000000;\n",
       "        }    #T_fed1975c_8f3c_11ea_a63f_d63a88ba66afrow10_col8 {\n",
       "            background-color:  #799cf8;\n",
       "            color:  #000000;\n",
       "        }    #T_fed1975c_8f3c_11ea_a63f_d63a88ba66afrow10_col9 {\n",
       "            background-color:  #f5a081;\n",
       "            color:  #000000;\n",
       "        }    #T_fed1975c_8f3c_11ea_a63f_d63a88ba66afrow10_col10 {\n",
       "            background-color:  #b40426;\n",
       "            color:  #f1f1f1;\n",
       "        }    #T_fed1975c_8f3c_11ea_a63f_d63a88ba66afrow10_col11 {\n",
       "            background-color:  #98b9ff;\n",
       "            color:  #000000;\n",
       "        }    #T_fed1975c_8f3c_11ea_a63f_d63a88ba66afrow10_col12 {\n",
       "            background-color:  #86a9fc;\n",
       "            color:  #000000;\n",
       "        }    #T_fed1975c_8f3c_11ea_a63f_d63a88ba66afrow10_col13 {\n",
       "            background-color:  #a9c6fd;\n",
       "            color:  #000000;\n",
       "        }    #T_fed1975c_8f3c_11ea_a63f_d63a88ba66afrow10_col14 {\n",
       "            background-color:  #90b2fe;\n",
       "            color:  #000000;\n",
       "        }    #T_fed1975c_8f3c_11ea_a63f_d63a88ba66afrow10_col15 {\n",
       "            background-color:  #7ea1fa;\n",
       "            color:  #000000;\n",
       "        }    #T_fed1975c_8f3c_11ea_a63f_d63a88ba66afrow10_col16 {\n",
       "            background-color:  #dcdddd;\n",
       "            color:  #000000;\n",
       "        }    #T_fed1975c_8f3c_11ea_a63f_d63a88ba66afrow10_col17 {\n",
       "            background-color:  #3b4cc0;\n",
       "            color:  #f1f1f1;\n",
       "        }    #T_fed1975c_8f3c_11ea_a63f_d63a88ba66afrow10_col18 {\n",
       "            background-color:  #3b4cc0;\n",
       "            color:  #f1f1f1;\n",
       "        }    #T_fed1975c_8f3c_11ea_a63f_d63a88ba66afrow10_col19 {\n",
       "            background-color:  #dddcdc;\n",
       "            color:  #000000;\n",
       "        }    #T_fed1975c_8f3c_11ea_a63f_d63a88ba66afrow10_col20 {\n",
       "            background-color:  #799cf8;\n",
       "            color:  #000000;\n",
       "        }    #T_fed1975c_8f3c_11ea_a63f_d63a88ba66afrow10_col21 {\n",
       "            background-color:  #97b8ff;\n",
       "            color:  #000000;\n",
       "        }    #T_fed1975c_8f3c_11ea_a63f_d63a88ba66afrow10_col22 {\n",
       "            background-color:  #7a9df8;\n",
       "            color:  #000000;\n",
       "        }    #T_fed1975c_8f3c_11ea_a63f_d63a88ba66afrow11_col0 {\n",
       "            background-color:  #d44e41;\n",
       "            color:  #000000;\n",
       "        }    #T_fed1975c_8f3c_11ea_a63f_d63a88ba66afrow11_col1 {\n",
       "            background-color:  #d44e41;\n",
       "            color:  #000000;\n",
       "        }    #T_fed1975c_8f3c_11ea_a63f_d63a88ba66afrow11_col2 {\n",
       "            background-color:  #5875e1;\n",
       "            color:  #000000;\n",
       "        }    #T_fed1975c_8f3c_11ea_a63f_d63a88ba66afrow11_col3 {\n",
       "            background-color:  #e9d5cb;\n",
       "            color:  #000000;\n",
       "        }    #T_fed1975c_8f3c_11ea_a63f_d63a88ba66afrow11_col4 {\n",
       "            background-color:  #bed2f6;\n",
       "            color:  #000000;\n",
       "        }    #T_fed1975c_8f3c_11ea_a63f_d63a88ba66afrow11_col5 {\n",
       "            background-color:  #485fd1;\n",
       "            color:  #f1f1f1;\n",
       "        }    #T_fed1975c_8f3c_11ea_a63f_d63a88ba66afrow11_col6 {\n",
       "            background-color:  #7295f4;\n",
       "            color:  #000000;\n",
       "        }    #T_fed1975c_8f3c_11ea_a63f_d63a88ba66afrow11_col7 {\n",
       "            background-color:  #6687ed;\n",
       "            color:  #000000;\n",
       "        }    #T_fed1975c_8f3c_11ea_a63f_d63a88ba66afrow11_col8 {\n",
       "            background-color:  #6485ec;\n",
       "            color:  #000000;\n",
       "        }    #T_fed1975c_8f3c_11ea_a63f_d63a88ba66afrow11_col9 {\n",
       "            background-color:  #5f7fe8;\n",
       "            color:  #000000;\n",
       "        }    #T_fed1975c_8f3c_11ea_a63f_d63a88ba66afrow11_col10 {\n",
       "            background-color:  #5b7ae5;\n",
       "            color:  #000000;\n",
       "        }    #T_fed1975c_8f3c_11ea_a63f_d63a88ba66afrow11_col11 {\n",
       "            background-color:  #b40426;\n",
       "            color:  #f1f1f1;\n",
       "        }    #T_fed1975c_8f3c_11ea_a63f_d63a88ba66afrow11_col12 {\n",
       "            background-color:  #e8765c;\n",
       "            color:  #000000;\n",
       "        }    #T_fed1975c_8f3c_11ea_a63f_d63a88ba66afrow11_col13 {\n",
       "            background-color:  #5b7ae5;\n",
       "            color:  #000000;\n",
       "        }    #T_fed1975c_8f3c_11ea_a63f_d63a88ba66afrow11_col14 {\n",
       "            background-color:  #6b8df0;\n",
       "            color:  #000000;\n",
       "        }    #T_fed1975c_8f3c_11ea_a63f_d63a88ba66afrow11_col15 {\n",
       "            background-color:  #f18f71;\n",
       "            color:  #000000;\n",
       "        }    #T_fed1975c_8f3c_11ea_a63f_d63a88ba66afrow11_col16 {\n",
       "            background-color:  #6e90f2;\n",
       "            color:  #000000;\n",
       "        }    #T_fed1975c_8f3c_11ea_a63f_d63a88ba66afrow11_col17 {\n",
       "            background-color:  #3c4ec2;\n",
       "            color:  #f1f1f1;\n",
       "        }    #T_fed1975c_8f3c_11ea_a63f_d63a88ba66afrow11_col18 {\n",
       "            background-color:  #3b4cc0;\n",
       "            color:  #f1f1f1;\n",
       "        }    #T_fed1975c_8f3c_11ea_a63f_d63a88ba66afrow11_col19 {\n",
       "            background-color:  #779af7;\n",
       "            color:  #000000;\n",
       "        }    #T_fed1975c_8f3c_11ea_a63f_d63a88ba66afrow11_col20 {\n",
       "            background-color:  #8caffe;\n",
       "            color:  #000000;\n",
       "        }    #T_fed1975c_8f3c_11ea_a63f_d63a88ba66afrow11_col21 {\n",
       "            background-color:  #9dbdff;\n",
       "            color:  #000000;\n",
       "        }    #T_fed1975c_8f3c_11ea_a63f_d63a88ba66afrow11_col22 {\n",
       "            background-color:  #8db0fe;\n",
       "            color:  #000000;\n",
       "        }    #T_fed1975c_8f3c_11ea_a63f_d63a88ba66afrow12_col0 {\n",
       "            background-color:  #f7b194;\n",
       "            color:  #000000;\n",
       "        }    #T_fed1975c_8f3c_11ea_a63f_d63a88ba66afrow12_col1 {\n",
       "            background-color:  #d1493f;\n",
       "            color:  #f1f1f1;\n",
       "        }    #T_fed1975c_8f3c_11ea_a63f_d63a88ba66afrow12_col2 {\n",
       "            background-color:  #3f53c6;\n",
       "            color:  #f1f1f1;\n",
       "        }    #T_fed1975c_8f3c_11ea_a63f_d63a88ba66afrow12_col3 {\n",
       "            background-color:  #e2dad5;\n",
       "            color:  #000000;\n",
       "        }    #T_fed1975c_8f3c_11ea_a63f_d63a88ba66afrow12_col4 {\n",
       "            background-color:  #cdd9ec;\n",
       "            color:  #000000;\n",
       "        }    #T_fed1975c_8f3c_11ea_a63f_d63a88ba66afrow12_col5 {\n",
       "            background-color:  #4358cb;\n",
       "            color:  #f1f1f1;\n",
       "        }    #T_fed1975c_8f3c_11ea_a63f_d63a88ba66afrow12_col6 {\n",
       "            background-color:  #516ddb;\n",
       "            color:  #000000;\n",
       "        }    #T_fed1975c_8f3c_11ea_a63f_d63a88ba66afrow12_col7 {\n",
       "            background-color:  #688aef;\n",
       "            color:  #000000;\n",
       "        }    #T_fed1975c_8f3c_11ea_a63f_d63a88ba66afrow12_col8 {\n",
       "            background-color:  #6c8ff1;\n",
       "            color:  #000000;\n",
       "        }    #T_fed1975c_8f3c_11ea_a63f_d63a88ba66afrow12_col9 {\n",
       "            background-color:  #3b4cc0;\n",
       "            color:  #f1f1f1;\n",
       "        }    #T_fed1975c_8f3c_11ea_a63f_d63a88ba66afrow12_col10 {\n",
       "            background-color:  #445acc;\n",
       "            color:  #f1f1f1;\n",
       "        }    #T_fed1975c_8f3c_11ea_a63f_d63a88ba66afrow12_col11 {\n",
       "            background-color:  #e9785d;\n",
       "            color:  #000000;\n",
       "        }    #T_fed1975c_8f3c_11ea_a63f_d63a88ba66afrow12_col12 {\n",
       "            background-color:  #b40426;\n",
       "            color:  #f1f1f1;\n",
       "        }    #T_fed1975c_8f3c_11ea_a63f_d63a88ba66afrow12_col13 {\n",
       "            background-color:  #3c4ec2;\n",
       "            color:  #f1f1f1;\n",
       "        }    #T_fed1975c_8f3c_11ea_a63f_d63a88ba66afrow12_col14 {\n",
       "            background-color:  #4a63d3;\n",
       "            color:  #f1f1f1;\n",
       "        }    #T_fed1975c_8f3c_11ea_a63f_d63a88ba66afrow12_col15 {\n",
       "            background-color:  #f18d6f;\n",
       "            color:  #000000;\n",
       "        }    #T_fed1975c_8f3c_11ea_a63f_d63a88ba66afrow12_col16 {\n",
       "            background-color:  #516ddb;\n",
       "            color:  #000000;\n",
       "        }    #T_fed1975c_8f3c_11ea_a63f_d63a88ba66afrow12_col17 {\n",
       "            background-color:  #3c4ec2;\n",
       "            color:  #f1f1f1;\n",
       "        }    #T_fed1975c_8f3c_11ea_a63f_d63a88ba66afrow12_col18 {\n",
       "            background-color:  #3b4cc0;\n",
       "            color:  #f1f1f1;\n",
       "        }    #T_fed1975c_8f3c_11ea_a63f_d63a88ba66afrow12_col19 {\n",
       "            background-color:  #3d50c3;\n",
       "            color:  #f1f1f1;\n",
       "        }    #T_fed1975c_8f3c_11ea_a63f_d63a88ba66afrow12_col20 {\n",
       "            background-color:  #89acfd;\n",
       "            color:  #000000;\n",
       "        }    #T_fed1975c_8f3c_11ea_a63f_d63a88ba66afrow12_col21 {\n",
       "            background-color:  #7b9ff9;\n",
       "            color:  #000000;\n",
       "        }    #T_fed1975c_8f3c_11ea_a63f_d63a88ba66afrow12_col22 {\n",
       "            background-color:  #7b9ff9;\n",
       "            color:  #000000;\n",
       "        }    #T_fed1975c_8f3c_11ea_a63f_d63a88ba66afrow13_col0 {\n",
       "            background-color:  #7b9ff9;\n",
       "            color:  #000000;\n",
       "        }    #T_fed1975c_8f3c_11ea_a63f_d63a88ba66afrow13_col1 {\n",
       "            background-color:  #6e90f2;\n",
       "            color:  #000000;\n",
       "        }    #T_fed1975c_8f3c_11ea_a63f_d63a88ba66afrow13_col2 {\n",
       "            background-color:  #e8d6cc;\n",
       "            color:  #000000;\n",
       "        }    #T_fed1975c_8f3c_11ea_a63f_d63a88ba66afrow13_col3 {\n",
       "            background-color:  #6c8ff1;\n",
       "            color:  #000000;\n",
       "        }    #T_fed1975c_8f3c_11ea_a63f_d63a88ba66afrow13_col4 {\n",
       "            background-color:  #5f7fe8;\n",
       "            color:  #000000;\n",
       "        }    #T_fed1975c_8f3c_11ea_a63f_d63a88ba66afrow13_col5 {\n",
       "            background-color:  #e3d9d3;\n",
       "            color:  #000000;\n",
       "        }    #T_fed1975c_8f3c_11ea_a63f_d63a88ba66afrow13_col6 {\n",
       "            background-color:  #e9d5cb;\n",
       "            color:  #000000;\n",
       "        }    #T_fed1975c_8f3c_11ea_a63f_d63a88ba66afrow13_col7 {\n",
       "            background-color:  #3c4ec2;\n",
       "            color:  #f1f1f1;\n",
       "        }    #T_fed1975c_8f3c_11ea_a63f_d63a88ba66afrow13_col8 {\n",
       "            background-color:  #3e51c5;\n",
       "            color:  #f1f1f1;\n",
       "        }    #T_fed1975c_8f3c_11ea_a63f_d63a88ba66afrow13_col9 {\n",
       "            background-color:  #9dbdff;\n",
       "            color:  #000000;\n",
       "        }    #T_fed1975c_8f3c_11ea_a63f_d63a88ba66afrow13_col10 {\n",
       "            background-color:  #8fb1fe;\n",
       "            color:  #000000;\n",
       "        }    #T_fed1975c_8f3c_11ea_a63f_d63a88ba66afrow13_col11 {\n",
       "            background-color:  #7a9df8;\n",
       "            color:  #000000;\n",
       "        }    #T_fed1975c_8f3c_11ea_a63f_d63a88ba66afrow13_col12 {\n",
       "            background-color:  #6282ea;\n",
       "            color:  #000000;\n",
       "        }    #T_fed1975c_8f3c_11ea_a63f_d63a88ba66afrow13_col13 {\n",
       "            background-color:  #b40426;\n",
       "            color:  #f1f1f1;\n",
       "        }    #T_fed1975c_8f3c_11ea_a63f_d63a88ba66afrow13_col14 {\n",
       "            background-color:  #a1c0ff;\n",
       "            color:  #000000;\n",
       "        }    #T_fed1975c_8f3c_11ea_a63f_d63a88ba66afrow13_col15 {\n",
       "            background-color:  #6485ec;\n",
       "            color:  #000000;\n",
       "        }    #T_fed1975c_8f3c_11ea_a63f_d63a88ba66afrow13_col16 {\n",
       "            background-color:  #e1dad6;\n",
       "            color:  #000000;\n",
       "        }    #T_fed1975c_8f3c_11ea_a63f_d63a88ba66afrow13_col17 {\n",
       "            background-color:  #3b4cc0;\n",
       "            color:  #f1f1f1;\n",
       "        }    #T_fed1975c_8f3c_11ea_a63f_d63a88ba66afrow13_col18 {\n",
       "            background-color:  #3c4ec2;\n",
       "            color:  #f1f1f1;\n",
       "        }    #T_fed1975c_8f3c_11ea_a63f_d63a88ba66afrow13_col19 {\n",
       "            background-color:  #f0cdbb;\n",
       "            color:  #000000;\n",
       "        }    #T_fed1975c_8f3c_11ea_a63f_d63a88ba66afrow13_col20 {\n",
       "            background-color:  #88abfd;\n",
       "            color:  #000000;\n",
       "        }    #T_fed1975c_8f3c_11ea_a63f_d63a88ba66afrow13_col21 {\n",
       "            background-color:  #93b5fe;\n",
       "            color:  #000000;\n",
       "        }    #T_fed1975c_8f3c_11ea_a63f_d63a88ba66afrow13_col22 {\n",
       "            background-color:  #7093f3;\n",
       "            color:  #000000;\n",
       "        }    #T_fed1975c_8f3c_11ea_a63f_d63a88ba66afrow14_col0 {\n",
       "            background-color:  #8fb1fe;\n",
       "            color:  #000000;\n",
       "        }    #T_fed1975c_8f3c_11ea_a63f_d63a88ba66afrow14_col1 {\n",
       "            background-color:  #98b9ff;\n",
       "            color:  #000000;\n",
       "        }    #T_fed1975c_8f3c_11ea_a63f_d63a88ba66afrow14_col2 {\n",
       "            background-color:  #b3cdfb;\n",
       "            color:  #000000;\n",
       "        }    #T_fed1975c_8f3c_11ea_a63f_d63a88ba66afrow14_col3 {\n",
       "            background-color:  #81a4fb;\n",
       "            color:  #000000;\n",
       "        }    #T_fed1975c_8f3c_11ea_a63f_d63a88ba66afrow14_col4 {\n",
       "            background-color:  #6180e9;\n",
       "            color:  #000000;\n",
       "        }    #T_fed1975c_8f3c_11ea_a63f_d63a88ba66afrow14_col5 {\n",
       "            background-color:  #c3d5f4;\n",
       "            color:  #000000;\n",
       "        }    #T_fed1975c_8f3c_11ea_a63f_d63a88ba66afrow14_col6 {\n",
       "            background-color:  #dedcdb;\n",
       "            color:  #000000;\n",
       "        }    #T_fed1975c_8f3c_11ea_a63f_d63a88ba66afrow14_col7 {\n",
       "            background-color:  #3b4cc0;\n",
       "            color:  #f1f1f1;\n",
       "        }    #T_fed1975c_8f3c_11ea_a63f_d63a88ba66afrow14_col8 {\n",
       "            background-color:  #3d50c3;\n",
       "            color:  #f1f1f1;\n",
       "        }    #T_fed1975c_8f3c_11ea_a63f_d63a88ba66afrow14_col9 {\n",
       "            background-color:  #86a9fc;\n",
       "            color:  #000000;\n",
       "        }    #T_fed1975c_8f3c_11ea_a63f_d63a88ba66afrow14_col10 {\n",
       "            background-color:  #89acfd;\n",
       "            color:  #000000;\n",
       "        }    #T_fed1975c_8f3c_11ea_a63f_d63a88ba66afrow14_col11 {\n",
       "            background-color:  #9fbfff;\n",
       "            color:  #000000;\n",
       "        }    #T_fed1975c_8f3c_11ea_a63f_d63a88ba66afrow14_col12 {\n",
       "            background-color:  #86a9fc;\n",
       "            color:  #000000;\n",
       "        }    #T_fed1975c_8f3c_11ea_a63f_d63a88ba66afrow14_col13 {\n",
       "            background-color:  #b2ccfb;\n",
       "            color:  #000000;\n",
       "        }    #T_fed1975c_8f3c_11ea_a63f_d63a88ba66afrow14_col14 {\n",
       "            background-color:  #b40426;\n",
       "            color:  #f1f1f1;\n",
       "        }    #T_fed1975c_8f3c_11ea_a63f_d63a88ba66afrow14_col15 {\n",
       "            background-color:  #89acfd;\n",
       "            color:  #000000;\n",
       "        }    #T_fed1975c_8f3c_11ea_a63f_d63a88ba66afrow14_col16 {\n",
       "            background-color:  #d7dce3;\n",
       "            color:  #000000;\n",
       "        }    #T_fed1975c_8f3c_11ea_a63f_d63a88ba66afrow14_col17 {\n",
       "            background-color:  #3b4cc0;\n",
       "            color:  #f1f1f1;\n",
       "        }    #T_fed1975c_8f3c_11ea_a63f_d63a88ba66afrow14_col18 {\n",
       "            background-color:  #3b4cc0;\n",
       "            color:  #f1f1f1;\n",
       "        }    #T_fed1975c_8f3c_11ea_a63f_d63a88ba66afrow14_col19 {\n",
       "            background-color:  #f3c8b2;\n",
       "            color:  #000000;\n",
       "        }    #T_fed1975c_8f3c_11ea_a63f_d63a88ba66afrow14_col20 {\n",
       "            background-color:  #8badfd;\n",
       "            color:  #000000;\n",
       "        }    #T_fed1975c_8f3c_11ea_a63f_d63a88ba66afrow14_col21 {\n",
       "            background-color:  #88abfd;\n",
       "            color:  #000000;\n",
       "        }    #T_fed1975c_8f3c_11ea_a63f_d63a88ba66afrow14_col22 {\n",
       "            background-color:  #6788ee;\n",
       "            color:  #000000;\n",
       "        }    #T_fed1975c_8f3c_11ea_a63f_d63a88ba66afrow15_col0 {\n",
       "            background-color:  #f5c0a7;\n",
       "            color:  #000000;\n",
       "        }    #T_fed1975c_8f3c_11ea_a63f_d63a88ba66afrow15_col1 {\n",
       "            background-color:  #e16751;\n",
       "            color:  #000000;\n",
       "        }    #T_fed1975c_8f3c_11ea_a63f_d63a88ba66afrow15_col2 {\n",
       "            background-color:  #445acc;\n",
       "            color:  #f1f1f1;\n",
       "        }    #T_fed1975c_8f3c_11ea_a63f_d63a88ba66afrow15_col3 {\n",
       "            background-color:  #dadce0;\n",
       "            color:  #000000;\n",
       "        }    #T_fed1975c_8f3c_11ea_a63f_d63a88ba66afrow15_col4 {\n",
       "            background-color:  #bad0f8;\n",
       "            color:  #000000;\n",
       "        }    #T_fed1975c_8f3c_11ea_a63f_d63a88ba66afrow15_col5 {\n",
       "            background-color:  #4c66d6;\n",
       "            color:  #000000;\n",
       "        }    #T_fed1975c_8f3c_11ea_a63f_d63a88ba66afrow15_col6 {\n",
       "            background-color:  #4e68d8;\n",
       "            color:  #000000;\n",
       "        }    #T_fed1975c_8f3c_11ea_a63f_d63a88ba66afrow15_col7 {\n",
       "            background-color:  #5572df;\n",
       "            color:  #000000;\n",
       "        }    #T_fed1975c_8f3c_11ea_a63f_d63a88ba66afrow15_col8 {\n",
       "            background-color:  #5673e0;\n",
       "            color:  #000000;\n",
       "        }    #T_fed1975c_8f3c_11ea_a63f_d63a88ba66afrow15_col9 {\n",
       "            background-color:  #4257c9;\n",
       "            color:  #f1f1f1;\n",
       "        }    #T_fed1975c_8f3c_11ea_a63f_d63a88ba66afrow15_col10 {\n",
       "            background-color:  #3f53c6;\n",
       "            color:  #f1f1f1;\n",
       "        }    #T_fed1975c_8f3c_11ea_a63f_d63a88ba66afrow15_col11 {\n",
       "            background-color:  #f18f71;\n",
       "            color:  #000000;\n",
       "        }    #T_fed1975c_8f3c_11ea_a63f_d63a88ba66afrow15_col12 {\n",
       "            background-color:  #f08b6e;\n",
       "            color:  #000000;\n",
       "        }    #T_fed1975c_8f3c_11ea_a63f_d63a88ba66afrow15_col13 {\n",
       "            background-color:  #455cce;\n",
       "            color:  #f1f1f1;\n",
       "        }    #T_fed1975c_8f3c_11ea_a63f_d63a88ba66afrow15_col14 {\n",
       "            background-color:  #5470de;\n",
       "            color:  #000000;\n",
       "        }    #T_fed1975c_8f3c_11ea_a63f_d63a88ba66afrow15_col15 {\n",
       "            background-color:  #b40426;\n",
       "            color:  #f1f1f1;\n",
       "        }    #T_fed1975c_8f3c_11ea_a63f_d63a88ba66afrow15_col16 {\n",
       "            background-color:  #4c66d6;\n",
       "            color:  #000000;\n",
       "        }    #T_fed1975c_8f3c_11ea_a63f_d63a88ba66afrow15_col17 {\n",
       "            background-color:  #3c4ec2;\n",
       "            color:  #f1f1f1;\n",
       "        }    #T_fed1975c_8f3c_11ea_a63f_d63a88ba66afrow15_col18 {\n",
       "            background-color:  #3b4cc0;\n",
       "            color:  #f1f1f1;\n",
       "        }    #T_fed1975c_8f3c_11ea_a63f_d63a88ba66afrow15_col19 {\n",
       "            background-color:  #516ddb;\n",
       "            color:  #000000;\n",
       "        }    #T_fed1975c_8f3c_11ea_a63f_d63a88ba66afrow15_col20 {\n",
       "            background-color:  #7da0f9;\n",
       "            color:  #000000;\n",
       "        }    #T_fed1975c_8f3c_11ea_a63f_d63a88ba66afrow15_col21 {\n",
       "            background-color:  #7a9df8;\n",
       "            color:  #000000;\n",
       "        }    #T_fed1975c_8f3c_11ea_a63f_d63a88ba66afrow15_col22 {\n",
       "            background-color:  #6a8bef;\n",
       "            color:  #000000;\n",
       "        }    #T_fed1975c_8f3c_11ea_a63f_d63a88ba66afrow16_col0 {\n",
       "            background-color:  #6a8bef;\n",
       "            color:  #000000;\n",
       "        }    #T_fed1975c_8f3c_11ea_a63f_d63a88ba66afrow16_col1 {\n",
       "            background-color:  #4257c9;\n",
       "            color:  #f1f1f1;\n",
       "        }    #T_fed1975c_8f3c_11ea_a63f_d63a88ba66afrow16_col2 {\n",
       "            background-color:  #97b8ff;\n",
       "            color:  #000000;\n",
       "        }    #T_fed1975c_8f3c_11ea_a63f_d63a88ba66afrow16_col3 {\n",
       "            background-color:  #4f69d9;\n",
       "            color:  #000000;\n",
       "        }    #T_fed1975c_8f3c_11ea_a63f_d63a88ba66afrow16_col4 {\n",
       "            background-color:  #4961d2;\n",
       "            color:  #f1f1f1;\n",
       "        }    #T_fed1975c_8f3c_11ea_a63f_d63a88ba66afrow16_col5 {\n",
       "            background-color:  #f7ad90;\n",
       "            color:  #000000;\n",
       "        }    #T_fed1975c_8f3c_11ea_a63f_d63a88ba66afrow16_col6 {\n",
       "            background-color:  #c73635;\n",
       "            color:  #f1f1f1;\n",
       "        }    #T_fed1975c_8f3c_11ea_a63f_d63a88ba66afrow16_col7 {\n",
       "            background-color:  #4257c9;\n",
       "            color:  #f1f1f1;\n",
       "        }    #T_fed1975c_8f3c_11ea_a63f_d63a88ba66afrow16_col8 {\n",
       "            background-color:  #455cce;\n",
       "            color:  #f1f1f1;\n",
       "        }    #T_fed1975c_8f3c_11ea_a63f_d63a88ba66afrow16_col9 {\n",
       "            background-color:  #a7c5fe;\n",
       "            color:  #000000;\n",
       "        }    #T_fed1975c_8f3c_11ea_a63f_d63a88ba66afrow16_col10 {\n",
       "            background-color:  #afcafc;\n",
       "            color:  #000000;\n",
       "        }    #T_fed1975c_8f3c_11ea_a63f_d63a88ba66afrow16_col11 {\n",
       "            background-color:  #6384eb;\n",
       "            color:  #000000;\n",
       "        }    #T_fed1975c_8f3c_11ea_a63f_d63a88ba66afrow16_col12 {\n",
       "            background-color:  #4a63d3;\n",
       "            color:  #f1f1f1;\n",
       "        }    #T_fed1975c_8f3c_11ea_a63f_d63a88ba66afrow16_col13 {\n",
       "            background-color:  #ccd9ed;\n",
       "            color:  #000000;\n",
       "        }    #T_fed1975c_8f3c_11ea_a63f_d63a88ba66afrow16_col14 {\n",
       "            background-color:  #adc9fd;\n",
       "            color:  #000000;\n",
       "        }    #T_fed1975c_8f3c_11ea_a63f_d63a88ba66afrow16_col15 {\n",
       "            background-color:  #4055c8;\n",
       "            color:  #f1f1f1;\n",
       "        }    #T_fed1975c_8f3c_11ea_a63f_d63a88ba66afrow16_col16 {\n",
       "            background-color:  #b40426;\n",
       "            color:  #f1f1f1;\n",
       "        }    #T_fed1975c_8f3c_11ea_a63f_d63a88ba66afrow16_col17 {\n",
       "            background-color:  #3c4ec2;\n",
       "            color:  #f1f1f1;\n",
       "        }    #T_fed1975c_8f3c_11ea_a63f_d63a88ba66afrow16_col18 {\n",
       "            background-color:  #3b4cc0;\n",
       "            color:  #f1f1f1;\n",
       "        }    #T_fed1975c_8f3c_11ea_a63f_d63a88ba66afrow16_col19 {\n",
       "            background-color:  #f6bda2;\n",
       "            color:  #000000;\n",
       "        }    #T_fed1975c_8f3c_11ea_a63f_d63a88ba66afrow16_col20 {\n",
       "            background-color:  #688aef;\n",
       "            color:  #000000;\n",
       "        }    #T_fed1975c_8f3c_11ea_a63f_d63a88ba66afrow16_col21 {\n",
       "            background-color:  #7295f4;\n",
       "            color:  #000000;\n",
       "        }    #T_fed1975c_8f3c_11ea_a63f_d63a88ba66afrow16_col22 {\n",
       "            background-color:  #7295f4;\n",
       "            color:  #000000;\n",
       "        }    #T_fed1975c_8f3c_11ea_a63f_d63a88ba66afrow17_col0 {\n",
       "            background-color:  #6b8df0;\n",
       "            color:  #000000;\n",
       "        }    #T_fed1975c_8f3c_11ea_a63f_d63a88ba66afrow17_col1 {\n",
       "            background-color:  #a3c2fe;\n",
       "            color:  #000000;\n",
       "        }    #T_fed1975c_8f3c_11ea_a63f_d63a88ba66afrow17_col2 {\n",
       "            background-color:  #5572df;\n",
       "            color:  #000000;\n",
       "        }    #T_fed1975c_8f3c_11ea_a63f_d63a88ba66afrow17_col3 {\n",
       "            background-color:  #8badfd;\n",
       "            color:  #000000;\n",
       "        }    #T_fed1975c_8f3c_11ea_a63f_d63a88ba66afrow17_col4 {\n",
       "            background-color:  #82a6fb;\n",
       "            color:  #000000;\n",
       "        }    #T_fed1975c_8f3c_11ea_a63f_d63a88ba66afrow17_col5 {\n",
       "            background-color:  #9fbfff;\n",
       "            color:  #000000;\n",
       "        }    #T_fed1975c_8f3c_11ea_a63f_d63a88ba66afrow17_col6 {\n",
       "            background-color:  #a3c2fe;\n",
       "            color:  #000000;\n",
       "        }    #T_fed1975c_8f3c_11ea_a63f_d63a88ba66afrow17_col7 {\n",
       "            background-color:  #3d50c3;\n",
       "            color:  #f1f1f1;\n",
       "        }    #T_fed1975c_8f3c_11ea_a63f_d63a88ba66afrow17_col8 {\n",
       "            background-color:  #3f53c6;\n",
       "            color:  #f1f1f1;\n",
       "        }    #T_fed1975c_8f3c_11ea_a63f_d63a88ba66afrow17_col9 {\n",
       "            background-color:  #5a78e4;\n",
       "            color:  #000000;\n",
       "        }    #T_fed1975c_8f3c_11ea_a63f_d63a88ba66afrow17_col10 {\n",
       "            background-color:  #5572df;\n",
       "            color:  #000000;\n",
       "        }    #T_fed1975c_8f3c_11ea_a63f_d63a88ba66afrow17_col11 {\n",
       "            background-color:  #93b5fe;\n",
       "            color:  #000000;\n",
       "        }    #T_fed1975c_8f3c_11ea_a63f_d63a88ba66afrow17_col12 {\n",
       "            background-color:  #98b9ff;\n",
       "            color:  #000000;\n",
       "        }    #T_fed1975c_8f3c_11ea_a63f_d63a88ba66afrow17_col13 {\n",
       "            background-color:  #7597f6;\n",
       "            color:  #000000;\n",
       "        }    #T_fed1975c_8f3c_11ea_a63f_d63a88ba66afrow17_col14 {\n",
       "            background-color:  #5e7de7;\n",
       "            color:  #000000;\n",
       "        }    #T_fed1975c_8f3c_11ea_a63f_d63a88ba66afrow17_col15 {\n",
       "            background-color:  #93b5fe;\n",
       "            color:  #000000;\n",
       "        }    #T_fed1975c_8f3c_11ea_a63f_d63a88ba66afrow17_col16 {\n",
       "            background-color:  #9ebeff;\n",
       "            color:  #000000;\n",
       "        }    #T_fed1975c_8f3c_11ea_a63f_d63a88ba66afrow17_col17 {\n",
       "            background-color:  #b40426;\n",
       "            color:  #f1f1f1;\n",
       "        }    #T_fed1975c_8f3c_11ea_a63f_d63a88ba66afrow17_col18 {\n",
       "            background-color:  #3c4ec2;\n",
       "            color:  #f1f1f1;\n",
       "        }    #T_fed1975c_8f3c_11ea_a63f_d63a88ba66afrow17_col19 {\n",
       "            background-color:  #84a7fc;\n",
       "            color:  #000000;\n",
       "        }    #T_fed1975c_8f3c_11ea_a63f_d63a88ba66afrow17_col20 {\n",
       "            background-color:  #6a8bef;\n",
       "            color:  #000000;\n",
       "        }    #T_fed1975c_8f3c_11ea_a63f_d63a88ba66afrow17_col21 {\n",
       "            background-color:  #7699f6;\n",
       "            color:  #000000;\n",
       "        }    #T_fed1975c_8f3c_11ea_a63f_d63a88ba66afrow17_col22 {\n",
       "            background-color:  #5b7ae5;\n",
       "            color:  #000000;\n",
       "        }    #T_fed1975c_8f3c_11ea_a63f_d63a88ba66afrow18_col0 {\n",
       "            background-color:  #6a8bef;\n",
       "            color:  #000000;\n",
       "        }    #T_fed1975c_8f3c_11ea_a63f_d63a88ba66afrow18_col1 {\n",
       "            background-color:  #a3c2fe;\n",
       "            color:  #000000;\n",
       "        }    #T_fed1975c_8f3c_11ea_a63f_d63a88ba66afrow18_col2 {\n",
       "            background-color:  #5572df;\n",
       "            color:  #000000;\n",
       "        }    #T_fed1975c_8f3c_11ea_a63f_d63a88ba66afrow18_col3 {\n",
       "            background-color:  #89acfd;\n",
       "            color:  #000000;\n",
       "        }    #T_fed1975c_8f3c_11ea_a63f_d63a88ba66afrow18_col4 {\n",
       "            background-color:  #82a6fb;\n",
       "            color:  #000000;\n",
       "        }    #T_fed1975c_8f3c_11ea_a63f_d63a88ba66afrow18_col5 {\n",
       "            background-color:  #9fbfff;\n",
       "            color:  #000000;\n",
       "        }    #T_fed1975c_8f3c_11ea_a63f_d63a88ba66afrow18_col6 {\n",
       "            background-color:  #a3c2fe;\n",
       "            color:  #000000;\n",
       "        }    #T_fed1975c_8f3c_11ea_a63f_d63a88ba66afrow18_col7 {\n",
       "            background-color:  #3d50c3;\n",
       "            color:  #f1f1f1;\n",
       "        }    #T_fed1975c_8f3c_11ea_a63f_d63a88ba66afrow18_col8 {\n",
       "            background-color:  #3f53c6;\n",
       "            color:  #f1f1f1;\n",
       "        }    #T_fed1975c_8f3c_11ea_a63f_d63a88ba66afrow18_col9 {\n",
       "            background-color:  #5b7ae5;\n",
       "            color:  #000000;\n",
       "        }    #T_fed1975c_8f3c_11ea_a63f_d63a88ba66afrow18_col10 {\n",
       "            background-color:  #5572df;\n",
       "            color:  #000000;\n",
       "        }    #T_fed1975c_8f3c_11ea_a63f_d63a88ba66afrow18_col11 {\n",
       "            background-color:  #93b5fe;\n",
       "            color:  #000000;\n",
       "        }    #T_fed1975c_8f3c_11ea_a63f_d63a88ba66afrow18_col12 {\n",
       "            background-color:  #97b8ff;\n",
       "            color:  #000000;\n",
       "        }    #T_fed1975c_8f3c_11ea_a63f_d63a88ba66afrow18_col13 {\n",
       "            background-color:  #7699f6;\n",
       "            color:  #000000;\n",
       "        }    #T_fed1975c_8f3c_11ea_a63f_d63a88ba66afrow18_col14 {\n",
       "            background-color:  #5d7ce6;\n",
       "            color:  #000000;\n",
       "        }    #T_fed1975c_8f3c_11ea_a63f_d63a88ba66afrow18_col15 {\n",
       "            background-color:  #93b5fe;\n",
       "            color:  #000000;\n",
       "        }    #T_fed1975c_8f3c_11ea_a63f_d63a88ba66afrow18_col16 {\n",
       "            background-color:  #9dbdff;\n",
       "            color:  #000000;\n",
       "        }    #T_fed1975c_8f3c_11ea_a63f_d63a88ba66afrow18_col17 {\n",
       "            background-color:  #3c4ec2;\n",
       "            color:  #f1f1f1;\n",
       "        }    #T_fed1975c_8f3c_11ea_a63f_d63a88ba66afrow18_col18 {\n",
       "            background-color:  #b40426;\n",
       "            color:  #f1f1f1;\n",
       "        }    #T_fed1975c_8f3c_11ea_a63f_d63a88ba66afrow18_col19 {\n",
       "            background-color:  #82a6fb;\n",
       "            color:  #000000;\n",
       "        }    #T_fed1975c_8f3c_11ea_a63f_d63a88ba66afrow18_col20 {\n",
       "            background-color:  #688aef;\n",
       "            color:  #000000;\n",
       "        }    #T_fed1975c_8f3c_11ea_a63f_d63a88ba66afrow18_col21 {\n",
       "            background-color:  #7597f6;\n",
       "            color:  #000000;\n",
       "        }    #T_fed1975c_8f3c_11ea_a63f_d63a88ba66afrow18_col22 {\n",
       "            background-color:  #5b7ae5;\n",
       "            color:  #000000;\n",
       "        }    #T_fed1975c_8f3c_11ea_a63f_d63a88ba66afrow19_col0 {\n",
       "            background-color:  #92b4fe;\n",
       "            color:  #000000;\n",
       "        }    #T_fed1975c_8f3c_11ea_a63f_d63a88ba66afrow19_col1 {\n",
       "            background-color:  #6b8df0;\n",
       "            color:  #000000;\n",
       "        }    #T_fed1975c_8f3c_11ea_a63f_d63a88ba66afrow19_col2 {\n",
       "            background-color:  #c4d5f3;\n",
       "            color:  #000000;\n",
       "        }    #T_fed1975c_8f3c_11ea_a63f_d63a88ba66afrow19_col3 {\n",
       "            background-color:  #6c8ff1;\n",
       "            color:  #000000;\n",
       "        }    #T_fed1975c_8f3c_11ea_a63f_d63a88ba66afrow19_col4 {\n",
       "            background-color:  #3b4cc0;\n",
       "            color:  #f1f1f1;\n",
       "        }    #T_fed1975c_8f3c_11ea_a63f_d63a88ba66afrow19_col5 {\n",
       "            background-color:  #e9d5cb;\n",
       "            color:  #000000;\n",
       "        }    #T_fed1975c_8f3c_11ea_a63f_d63a88ba66afrow19_col6 {\n",
       "            background-color:  #f6a385;\n",
       "            color:  #000000;\n",
       "        }    #T_fed1975c_8f3c_11ea_a63f_d63a88ba66afrow19_col7 {\n",
       "            background-color:  #3b4cc0;\n",
       "            color:  #f1f1f1;\n",
       "        }    #T_fed1975c_8f3c_11ea_a63f_d63a88ba66afrow19_col8 {\n",
       "            background-color:  #3c4ec2;\n",
       "            color:  #f1f1f1;\n",
       "        }    #T_fed1975c_8f3c_11ea_a63f_d63a88ba66afrow19_col9 {\n",
       "            background-color:  #bcd2f7;\n",
       "            color:  #000000;\n",
       "        }    #T_fed1975c_8f3c_11ea_a63f_d63a88ba66afrow19_col10 {\n",
       "            background-color:  #c5d6f2;\n",
       "            color:  #000000;\n",
       "        }    #T_fed1975c_8f3c_11ea_a63f_d63a88ba66afrow19_col11 {\n",
       "            background-color:  #88abfd;\n",
       "            color:  #000000;\n",
       "        }    #T_fed1975c_8f3c_11ea_a63f_d63a88ba66afrow19_col12 {\n",
       "            background-color:  #5470de;\n",
       "            color:  #000000;\n",
       "        }    #T_fed1975c_8f3c_11ea_a63f_d63a88ba66afrow19_col13 {\n",
       "            background-color:  #ecd3c5;\n",
       "            color:  #000000;\n",
       "        }    #T_fed1975c_8f3c_11ea_a63f_d63a88ba66afrow19_col14 {\n",
       "            background-color:  #ead4c8;\n",
       "            color:  #000000;\n",
       "        }    #T_fed1975c_8f3c_11ea_a63f_d63a88ba66afrow19_col15 {\n",
       "            background-color:  #6384eb;\n",
       "            color:  #000000;\n",
       "        }    #T_fed1975c_8f3c_11ea_a63f_d63a88ba66afrow19_col16 {\n",
       "            background-color:  #f7b396;\n",
       "            color:  #000000;\n",
       "        }    #T_fed1975c_8f3c_11ea_a63f_d63a88ba66afrow19_col17 {\n",
       "            background-color:  #3c4ec2;\n",
       "            color:  #f1f1f1;\n",
       "        }    #T_fed1975c_8f3c_11ea_a63f_d63a88ba66afrow19_col18 {\n",
       "            background-color:  #3b4cc0;\n",
       "            color:  #f1f1f1;\n",
       "        }    #T_fed1975c_8f3c_11ea_a63f_d63a88ba66afrow19_col19 {\n",
       "            background-color:  #b40426;\n",
       "            color:  #f1f1f1;\n",
       "        }    #T_fed1975c_8f3c_11ea_a63f_d63a88ba66afrow19_col20 {\n",
       "            background-color:  #9abbff;\n",
       "            color:  #000000;\n",
       "        }    #T_fed1975c_8f3c_11ea_a63f_d63a88ba66afrow19_col21 {\n",
       "            background-color:  #96b7ff;\n",
       "            color:  #000000;\n",
       "        }    #T_fed1975c_8f3c_11ea_a63f_d63a88ba66afrow19_col22 {\n",
       "            background-color:  #7699f6;\n",
       "            color:  #000000;\n",
       "        }    #T_fed1975c_8f3c_11ea_a63f_d63a88ba66afrow20_col0 {\n",
       "            background-color:  #92b4fe;\n",
       "            color:  #000000;\n",
       "        }    #T_fed1975c_8f3c_11ea_a63f_d63a88ba66afrow20_col1 {\n",
       "            background-color:  #b7cff9;\n",
       "            color:  #000000;\n",
       "        }    #T_fed1975c_8f3c_11ea_a63f_d63a88ba66afrow20_col2 {\n",
       "            background-color:  #7295f4;\n",
       "            color:  #000000;\n",
       "        }    #T_fed1975c_8f3c_11ea_a63f_d63a88ba66afrow20_col3 {\n",
       "            background-color:  #adc9fd;\n",
       "            color:  #000000;\n",
       "        }    #T_fed1975c_8f3c_11ea_a63f_d63a88ba66afrow20_col4 {\n",
       "            background-color:  #90b2fe;\n",
       "            color:  #000000;\n",
       "        }    #T_fed1975c_8f3c_11ea_a63f_d63a88ba66afrow20_col5 {\n",
       "            background-color:  #7699f6;\n",
       "            color:  #000000;\n",
       "        }    #T_fed1975c_8f3c_11ea_a63f_d63a88ba66afrow20_col6 {\n",
       "            background-color:  #a3c2fe;\n",
       "            color:  #000000;\n",
       "        }    #T_fed1975c_8f3c_11ea_a63f_d63a88ba66afrow20_col7 {\n",
       "            background-color:  #7597f6;\n",
       "            color:  #000000;\n",
       "        }    #T_fed1975c_8f3c_11ea_a63f_d63a88ba66afrow20_col8 {\n",
       "            background-color:  #779af7;\n",
       "            color:  #000000;\n",
       "        }    #T_fed1975c_8f3c_11ea_a63f_d63a88ba66afrow20_col9 {\n",
       "            background-color:  #5d7ce6;\n",
       "            color:  #000000;\n",
       "        }    #T_fed1975c_8f3c_11ea_a63f_d63a88ba66afrow20_col10 {\n",
       "            background-color:  #6788ee;\n",
       "            color:  #000000;\n",
       "        }    #T_fed1975c_8f3c_11ea_a63f_d63a88ba66afrow20_col11 {\n",
       "            background-color:  #b2ccfb;\n",
       "            color:  #000000;\n",
       "        }    #T_fed1975c_8f3c_11ea_a63f_d63a88ba66afrow20_col12 {\n",
       "            background-color:  #b3cdfb;\n",
       "            color:  #000000;\n",
       "        }    #T_fed1975c_8f3c_11ea_a63f_d63a88ba66afrow20_col13 {\n",
       "            background-color:  #93b5fe;\n",
       "            color:  #000000;\n",
       "        }    #T_fed1975c_8f3c_11ea_a63f_d63a88ba66afrow20_col14 {\n",
       "            background-color:  #81a4fb;\n",
       "            color:  #000000;\n",
       "        }    #T_fed1975c_8f3c_11ea_a63f_d63a88ba66afrow20_col15 {\n",
       "            background-color:  #a5c3fe;\n",
       "            color:  #000000;\n",
       "        }    #T_fed1975c_8f3c_11ea_a63f_d63a88ba66afrow20_col16 {\n",
       "            background-color:  #9ebeff;\n",
       "            color:  #000000;\n",
       "        }    #T_fed1975c_8f3c_11ea_a63f_d63a88ba66afrow20_col17 {\n",
       "            background-color:  #3d50c3;\n",
       "            color:  #f1f1f1;\n",
       "        }    #T_fed1975c_8f3c_11ea_a63f_d63a88ba66afrow20_col18 {\n",
       "            background-color:  #3c4ec2;\n",
       "            color:  #f1f1f1;\n",
       "        }    #T_fed1975c_8f3c_11ea_a63f_d63a88ba66afrow20_col19 {\n",
       "            background-color:  #b1cbfc;\n",
       "            color:  #000000;\n",
       "        }    #T_fed1975c_8f3c_11ea_a63f_d63a88ba66afrow20_col20 {\n",
       "            background-color:  #b40426;\n",
       "            color:  #f1f1f1;\n",
       "        }    #T_fed1975c_8f3c_11ea_a63f_d63a88ba66afrow20_col21 {\n",
       "            background-color:  #f3c7b1;\n",
       "            color:  #000000;\n",
       "        }    #T_fed1975c_8f3c_11ea_a63f_d63a88ba66afrow20_col22 {\n",
       "            background-color:  #f6bda2;\n",
       "            color:  #000000;\n",
       "        }    #T_fed1975c_8f3c_11ea_a63f_d63a88ba66afrow21_col0 {\n",
       "            background-color:  #a1c0ff;\n",
       "            color:  #000000;\n",
       "        }    #T_fed1975c_8f3c_11ea_a63f_d63a88ba66afrow21_col1 {\n",
       "            background-color:  #a9c6fd;\n",
       "            color:  #000000;\n",
       "        }    #T_fed1975c_8f3c_11ea_a63f_d63a88ba66afrow21_col2 {\n",
       "            background-color:  #6f92f3;\n",
       "            color:  #000000;\n",
       "        }    #T_fed1975c_8f3c_11ea_a63f_d63a88ba66afrow21_col3 {\n",
       "            background-color:  #b7cff9;\n",
       "            color:  #000000;\n",
       "        }    #T_fed1975c_8f3c_11ea_a63f_d63a88ba66afrow21_col4 {\n",
       "            background-color:  #9fbfff;\n",
       "            color:  #000000;\n",
       "        }    #T_fed1975c_8f3c_11ea_a63f_d63a88ba66afrow21_col5 {\n",
       "            background-color:  #688aef;\n",
       "            color:  #000000;\n",
       "        }    #T_fed1975c_8f3c_11ea_a63f_d63a88ba66afrow21_col6 {\n",
       "            background-color:  #a1c0ff;\n",
       "            color:  #000000;\n",
       "        }    #T_fed1975c_8f3c_11ea_a63f_d63a88ba66afrow21_col7 {\n",
       "            background-color:  #6687ed;\n",
       "            color:  #000000;\n",
       "        }    #T_fed1975c_8f3c_11ea_a63f_d63a88ba66afrow21_col8 {\n",
       "            background-color:  #6788ee;\n",
       "            color:  #000000;\n",
       "        }    #T_fed1975c_8f3c_11ea_a63f_d63a88ba66afrow21_col9 {\n",
       "            background-color:  #7a9df8;\n",
       "            color:  #000000;\n",
       "        }    #T_fed1975c_8f3c_11ea_a63f_d63a88ba66afrow21_col10 {\n",
       "            background-color:  #7b9ff9;\n",
       "            color:  #000000;\n",
       "        }    #T_fed1975c_8f3c_11ea_a63f_d63a88ba66afrow21_col11 {\n",
       "            background-color:  #b6cefa;\n",
       "            color:  #000000;\n",
       "        }    #T_fed1975c_8f3c_11ea_a63f_d63a88ba66afrow21_col12 {\n",
       "            background-color:  #9ebeff;\n",
       "            color:  #000000;\n",
       "        }    #T_fed1975c_8f3c_11ea_a63f_d63a88ba66afrow21_col13 {\n",
       "            background-color:  #92b4fe;\n",
       "            color:  #000000;\n",
       "        }    #T_fed1975c_8f3c_11ea_a63f_d63a88ba66afrow21_col14 {\n",
       "            background-color:  #7295f4;\n",
       "            color:  #000000;\n",
       "        }    #T_fed1975c_8f3c_11ea_a63f_d63a88ba66afrow21_col15 {\n",
       "            background-color:  #98b9ff;\n",
       "            color:  #000000;\n",
       "        }    #T_fed1975c_8f3c_11ea_a63f_d63a88ba66afrow21_col16 {\n",
       "            background-color:  #9abbff;\n",
       "            color:  #000000;\n",
       "        }    #T_fed1975c_8f3c_11ea_a63f_d63a88ba66afrow21_col17 {\n",
       "            background-color:  #3c4ec2;\n",
       "            color:  #f1f1f1;\n",
       "        }    #T_fed1975c_8f3c_11ea_a63f_d63a88ba66afrow21_col18 {\n",
       "            background-color:  #3b4cc0;\n",
       "            color:  #f1f1f1;\n",
       "        }    #T_fed1975c_8f3c_11ea_a63f_d63a88ba66afrow21_col19 {\n",
       "            background-color:  #a2c1ff;\n",
       "            color:  #000000;\n",
       "        }    #T_fed1975c_8f3c_11ea_a63f_d63a88ba66afrow21_col20 {\n",
       "            background-color:  #f1ccb8;\n",
       "            color:  #000000;\n",
       "        }    #T_fed1975c_8f3c_11ea_a63f_d63a88ba66afrow21_col21 {\n",
       "            background-color:  #b40426;\n",
       "            color:  #f1f1f1;\n",
       "        }    #T_fed1975c_8f3c_11ea_a63f_d63a88ba66afrow21_col22 {\n",
       "            background-color:  #ecd3c5;\n",
       "            color:  #000000;\n",
       "        }    #T_fed1975c_8f3c_11ea_a63f_d63a88ba66afrow22_col0 {\n",
       "            background-color:  #9ebeff;\n",
       "            color:  #000000;\n",
       "        }    #T_fed1975c_8f3c_11ea_a63f_d63a88ba66afrow22_col1 {\n",
       "            background-color:  #b2ccfb;\n",
       "            color:  #000000;\n",
       "        }    #T_fed1975c_8f3c_11ea_a63f_d63a88ba66afrow22_col2 {\n",
       "            background-color:  #6485ec;\n",
       "            color:  #000000;\n",
       "        }    #T_fed1975c_8f3c_11ea_a63f_d63a88ba66afrow22_col3 {\n",
       "            background-color:  #abc8fd;\n",
       "            color:  #000000;\n",
       "        }    #T_fed1975c_8f3c_11ea_a63f_d63a88ba66afrow22_col4 {\n",
       "            background-color:  #a5c3fe;\n",
       "            color:  #000000;\n",
       "        }    #T_fed1975c_8f3c_11ea_a63f_d63a88ba66afrow22_col5 {\n",
       "            background-color:  #82a6fb;\n",
       "            color:  #000000;\n",
       "        }    #T_fed1975c_8f3c_11ea_a63f_d63a88ba66afrow22_col6 {\n",
       "            background-color:  #b6cefa;\n",
       "            color:  #000000;\n",
       "        }    #T_fed1975c_8f3c_11ea_a63f_d63a88ba66afrow22_col7 {\n",
       "            background-color:  #7da0f9;\n",
       "            color:  #000000;\n",
       "        }    #T_fed1975c_8f3c_11ea_a63f_d63a88ba66afrow22_col8 {\n",
       "            background-color:  #81a4fb;\n",
       "            color:  #000000;\n",
       "        }    #T_fed1975c_8f3c_11ea_a63f_d63a88ba66afrow22_col9 {\n",
       "            background-color:  #7597f6;\n",
       "            color:  #000000;\n",
       "        }    #T_fed1975c_8f3c_11ea_a63f_d63a88ba66afrow22_col10 {\n",
       "            background-color:  #7699f6;\n",
       "            color:  #000000;\n",
       "        }    #T_fed1975c_8f3c_11ea_a63f_d63a88ba66afrow22_col11 {\n",
       "            background-color:  #bcd2f7;\n",
       "            color:  #000000;\n",
       "        }    #T_fed1975c_8f3c_11ea_a63f_d63a88ba66afrow22_col12 {\n",
       "            background-color:  #b2ccfb;\n",
       "            color:  #000000;\n",
       "        }    #T_fed1975c_8f3c_11ea_a63f_d63a88ba66afrow22_col13 {\n",
       "            background-color:  #8badfd;\n",
       "            color:  #000000;\n",
       "        }    #T_fed1975c_8f3c_11ea_a63f_d63a88ba66afrow22_col14 {\n",
       "            background-color:  #6b8df0;\n",
       "            color:  #000000;\n",
       "        }    #T_fed1975c_8f3c_11ea_a63f_d63a88ba66afrow22_col15 {\n",
       "            background-color:  #9fbfff;\n",
       "            color:  #000000;\n",
       "        }    #T_fed1975c_8f3c_11ea_a63f_d63a88ba66afrow22_col16 {\n",
       "            background-color:  #b1cbfc;\n",
       "            color:  #000000;\n",
       "        }    #T_fed1975c_8f3c_11ea_a63f_d63a88ba66afrow22_col17 {\n",
       "            background-color:  #3c4ec2;\n",
       "            color:  #f1f1f1;\n",
       "        }    #T_fed1975c_8f3c_11ea_a63f_d63a88ba66afrow22_col18 {\n",
       "            background-color:  #3c4ec2;\n",
       "            color:  #f1f1f1;\n",
       "        }    #T_fed1975c_8f3c_11ea_a63f_d63a88ba66afrow22_col19 {\n",
       "            background-color:  #9bbcff;\n",
       "            color:  #000000;\n",
       "        }    #T_fed1975c_8f3c_11ea_a63f_d63a88ba66afrow22_col20 {\n",
       "            background-color:  #f7b89c;\n",
       "            color:  #000000;\n",
       "        }    #T_fed1975c_8f3c_11ea_a63f_d63a88ba66afrow22_col21 {\n",
       "            background-color:  #f2cab5;\n",
       "            color:  #000000;\n",
       "        }    #T_fed1975c_8f3c_11ea_a63f_d63a88ba66afrow22_col22 {\n",
       "            background-color:  #b40426;\n",
       "            color:  #f1f1f1;\n",
       "        }</style><table id=\"T_fed1975c_8f3c_11ea_a63f_d63a88ba66af\" ><thead>    <tr>        <th class=\"blank level0\" ></th>        <th class=\"col_heading level0 col0\" >mintemp</th>        <th class=\"col_heading level0 col1\" >maxtemp</th>        <th class=\"col_heading level0 col2\" >rainfall</th>        <th class=\"col_heading level0 col3\" >evaporation</th>        <th class=\"col_heading level0 col4\" >sunshine</th>        <th class=\"col_heading level0 col5\" >humidity9am</th>        <th class=\"col_heading level0 col6\" >humidity3pm</th>        <th class=\"col_heading level0 col7\" >pressure9am</th>        <th class=\"col_heading level0 col8\" >pressure3pm</th>        <th class=\"col_heading level0 col9\" >cloud9am</th>        <th class=\"col_heading level0 col10\" >cloud3pm</th>        <th class=\"col_heading level0 col11\" >temp9am</th>        <th class=\"col_heading level0 col12\" >temp3pm</th>        <th class=\"col_heading level0 col13\" >raintoday</th>        <th class=\"col_heading level0 col14\" >amountOfRain</th>        <th class=\"col_heading level0 col15\" >temp</th>        <th class=\"col_heading level0 col16\" >humidity</th>        <th class=\"col_heading level0 col17\" >precipitation3pm</th>        <th class=\"col_heading level0 col18\" >precipitation9am</th>        <th class=\"col_heading level0 col19\" >modelo_vigente</th>        <th class=\"col_heading level0 col20\" >windgustspeed</th>        <th class=\"col_heading level0 col21\" >windspeed9am</th>        <th class=\"col_heading level0 col22\" >windspeed3pm</th>    </tr></thead><tbody>\n",
       "                <tr>\n",
       "                        <th id=\"T_fed1975c_8f3c_11ea_a63f_d63a88ba66aflevel0_row0\" class=\"row_heading level0 row0\" >mintemp</th>\n",
       "                        <td id=\"T_fed1975c_8f3c_11ea_a63f_d63a88ba66afrow0_col0\" class=\"data row0 col0\" >1.000000</td>\n",
       "                        <td id=\"T_fed1975c_8f3c_11ea_a63f_d63a88ba66afrow0_col1\" class=\"data row0 col1\" >0.722484</td>\n",
       "                        <td id=\"T_fed1975c_8f3c_11ea_a63f_d63a88ba66afrow0_col2\" class=\"data row0 col2\" >0.102244</td>\n",
       "                        <td id=\"T_fed1975c_8f3c_11ea_a63f_d63a88ba66afrow0_col3\" class=\"data row0 col3\" >0.367894</td>\n",
       "                        <td id=\"T_fed1975c_8f3c_11ea_a63f_d63a88ba66afrow0_col4\" class=\"data row0 col4\" >0.140786</td>\n",
       "                        <td id=\"T_fed1975c_8f3c_11ea_a63f_d63a88ba66afrow0_col5\" class=\"data row0 col5\" >-0.180448</td>\n",
       "                        <td id=\"T_fed1975c_8f3c_11ea_a63f_d63a88ba66afrow0_col6\" class=\"data row0 col6\" >-0.000696</td>\n",
       "                        <td id=\"T_fed1975c_8f3c_11ea_a63f_d63a88ba66afrow0_col7\" class=\"data row0 col7\" >0.128941</td>\n",
       "                        <td id=\"T_fed1975c_8f3c_11ea_a63f_d63a88ba66afrow0_col8\" class=\"data row0 col8\" >0.127805</td>\n",
       "                        <td id=\"T_fed1975c_8f3c_11ea_a63f_d63a88ba66afrow0_col9\" class=\"data row0 col9\" >0.156097</td>\n",
       "                        <td id=\"T_fed1975c_8f3c_11ea_a63f_d63a88ba66afrow0_col10\" class=\"data row0 col10\" >0.117932</td>\n",
       "                        <td id=\"T_fed1975c_8f3c_11ea_a63f_d63a88ba66afrow0_col11\" class=\"data row0 col11\" >0.891762</td>\n",
       "                        <td id=\"T_fed1975c_8f3c_11ea_a63f_d63a88ba66afrow0_col12\" class=\"data row0 col12\" >0.627278</td>\n",
       "                        <td id=\"T_fed1975c_8f3c_11ea_a63f_d63a88ba66afrow0_col13\" class=\"data row0 col13\" >0.056575</td>\n",
       "                        <td id=\"T_fed1975c_8f3c_11ea_a63f_d63a88ba66afrow0_col14\" class=\"data row0 col14\" >0.121411</td>\n",
       "                        <td id=\"T_fed1975c_8f3c_11ea_a63f_d63a88ba66afrow0_col15\" class=\"data row0 col15\" >0.575597</td>\n",
       "                        <td id=\"T_fed1975c_8f3c_11ea_a63f_d63a88ba66afrow0_col16\" class=\"data row0 col16\" >-0.001881</td>\n",
       "                        <td id=\"T_fed1975c_8f3c_11ea_a63f_d63a88ba66afrow0_col17\" class=\"data row0 col17\" >0.001362</td>\n",
       "                        <td id=\"T_fed1975c_8f3c_11ea_a63f_d63a88ba66afrow0_col18\" class=\"data row0 col18\" >-0.001238</td>\n",
       "                        <td id=\"T_fed1975c_8f3c_11ea_a63f_d63a88ba66afrow0_col19\" class=\"data row0 col19\" >0.131697</td>\n",
       "                        <td id=\"T_fed1975c_8f3c_11ea_a63f_d63a88ba66afrow0_col20\" class=\"data row0 col20\" >0.130381</td>\n",
       "                        <td id=\"T_fed1975c_8f3c_11ea_a63f_d63a88ba66afrow0_col21\" class=\"data row0 col21\" >0.181565</td>\n",
       "                        <td id=\"T_fed1975c_8f3c_11ea_a63f_d63a88ba66afrow0_col22\" class=\"data row0 col22\" >0.173819</td>\n",
       "            </tr>\n",
       "            <tr>\n",
       "                        <th id=\"T_fed1975c_8f3c_11ea_a63f_d63a88ba66aflevel0_row1\" class=\"row_heading level0 row1\" >maxtemp</th>\n",
       "                        <td id=\"T_fed1975c_8f3c_11ea_a63f_d63a88ba66afrow1_col0\" class=\"data row1 col0\" >0.722484</td>\n",
       "                        <td id=\"T_fed1975c_8f3c_11ea_a63f_d63a88ba66afrow1_col1\" class=\"data row1 col1\" >1.000000</td>\n",
       "                        <td id=\"T_fed1975c_8f3c_11ea_a63f_d63a88ba66afrow1_col2\" class=\"data row1 col2\" >-0.073387</td>\n",
       "                        <td id=\"T_fed1975c_8f3c_11ea_a63f_d63a88ba66afrow1_col3\" class=\"data row1 col3\" >0.404757</td>\n",
       "                        <td id=\"T_fed1975c_8f3c_11ea_a63f_d63a88ba66afrow1_col4\" class=\"data row1 col4\" >0.254301</td>\n",
       "                        <td id=\"T_fed1975c_8f3c_11ea_a63f_d63a88ba66afrow1_col5\" class=\"data row1 col5\" >-0.431386</td>\n",
       "                        <td id=\"T_fed1975c_8f3c_11ea_a63f_d63a88ba66afrow1_col6\" class=\"data row1 col6\" >-0.459034</td>\n",
       "                        <td id=\"T_fed1975c_8f3c_11ea_a63f_d63a88ba66afrow1_col7\" class=\"data row1 col7\" >0.099451</td>\n",
       "                        <td id=\"T_fed1975c_8f3c_11ea_a63f_d63a88ba66afrow1_col8\" class=\"data row1 col8\" >0.096821</td>\n",
       "                        <td id=\"T_fed1975c_8f3c_11ea_a63f_d63a88ba66afrow1_col9\" class=\"data row1 col9\" >-0.113448</td>\n",
       "                        <td id=\"T_fed1975c_8f3c_11ea_a63f_d63a88ba66afrow1_col10\" class=\"data row1 col10\" >-0.100454</td>\n",
       "                        <td id=\"T_fed1975c_8f3c_11ea_a63f_d63a88ba66afrow1_col11\" class=\"data row1 col11\" >0.866982</td>\n",
       "                        <td id=\"T_fed1975c_8f3c_11ea_a63f_d63a88ba66afrow1_col12\" class=\"data row1 col12\" >0.878366</td>\n",
       "                        <td id=\"T_fed1975c_8f3c_11ea_a63f_d63a88ba66afrow1_col13\" class=\"data row1 col13\" >-0.223451</td>\n",
       "                        <td id=\"T_fed1975c_8f3c_11ea_a63f_d63a88ba66afrow1_col14\" class=\"data row1 col14\" >-0.043764</td>\n",
       "                        <td id=\"T_fed1975c_8f3c_11ea_a63f_d63a88ba66afrow1_col15\" class=\"data row1 col15\" >0.798133</td>\n",
       "                        <td id=\"T_fed1975c_8f3c_11ea_a63f_d63a88ba66afrow1_col16\" class=\"data row1 col16\" >-0.421435</td>\n",
       "                        <td id=\"T_fed1975c_8f3c_11ea_a63f_d63a88ba66afrow1_col17\" class=\"data row1 col17\" >0.002168</td>\n",
       "                        <td id=\"T_fed1975c_8f3c_11ea_a63f_d63a88ba66afrow1_col18\" class=\"data row1 col18\" >-0.000688</td>\n",
       "                        <td id=\"T_fed1975c_8f3c_11ea_a63f_d63a88ba66afrow1_col19\" class=\"data row1 col19\" >-0.233583</td>\n",
       "                        <td id=\"T_fed1975c_8f3c_11ea_a63f_d63a88ba66afrow1_col20\" class=\"data row1 col20\" >0.085229</td>\n",
       "                        <td id=\"T_fed1975c_8f3c_11ea_a63f_d63a88ba66afrow1_col21\" class=\"data row1 col21\" >0.021062</td>\n",
       "                        <td id=\"T_fed1975c_8f3c_11ea_a63f_d63a88ba66afrow1_col22\" class=\"data row1 col22\" >0.061310</td>\n",
       "            </tr>\n",
       "            <tr>\n",
       "                        <th id=\"T_fed1975c_8f3c_11ea_a63f_d63a88ba66aflevel0_row2\" class=\"row_heading level0 row2\" >rainfall</th>\n",
       "                        <td id=\"T_fed1975c_8f3c_11ea_a63f_d63a88ba66afrow2_col0\" class=\"data row2 col0\" >0.102244</td>\n",
       "                        <td id=\"T_fed1975c_8f3c_11ea_a63f_d63a88ba66afrow2_col1\" class=\"data row2 col1\" >-0.073387</td>\n",
       "                        <td id=\"T_fed1975c_8f3c_11ea_a63f_d63a88ba66afrow2_col2\" class=\"data row2 col2\" >1.000000</td>\n",
       "                        <td id=\"T_fed1975c_8f3c_11ea_a63f_d63a88ba66afrow2_col3\" class=\"data row2 col3\" >-0.054656</td>\n",
       "                        <td id=\"T_fed1975c_8f3c_11ea_a63f_d63a88ba66afrow2_col4\" class=\"data row2 col4\" >-0.097318</td>\n",
       "                        <td id=\"T_fed1975c_8f3c_11ea_a63f_d63a88ba66afrow2_col5\" class=\"data row2 col5\" >0.202095</td>\n",
       "                        <td id=\"T_fed1975c_8f3c_11ea_a63f_d63a88ba66afrow2_col6\" class=\"data row2 col6\" >0.226778</td>\n",
       "                        <td id=\"T_fed1975c_8f3c_11ea_a63f_d63a88ba66afrow2_col7\" class=\"data row2 col7\" >-0.004096</td>\n",
       "                        <td id=\"T_fed1975c_8f3c_11ea_a63f_d63a88ba66afrow2_col8\" class=\"data row2 col8\" >-0.003443</td>\n",
       "                        <td id=\"T_fed1975c_8f3c_11ea_a63f_d63a88ba66afrow2_col9\" class=\"data row2 col9\" >0.149963</td>\n",
       "                        <td id=\"T_fed1975c_8f3c_11ea_a63f_d63a88ba66afrow2_col10\" class=\"data row2 col10\" >0.126294</td>\n",
       "                        <td id=\"T_fed1975c_8f3c_11ea_a63f_d63a88ba66afrow2_col11\" class=\"data row2 col11\" >0.009495</td>\n",
       "                        <td id=\"T_fed1975c_8f3c_11ea_a63f_d63a88ba66afrow2_col12\" class=\"data row2 col12\" >-0.077041</td>\n",
       "                        <td id=\"T_fed1975c_8f3c_11ea_a63f_d63a88ba66afrow2_col13\" class=\"data row2 col13\" >0.501565</td>\n",
       "                        <td id=\"T_fed1975c_8f3c_11ea_a63f_d63a88ba66afrow2_col14\" class=\"data row2 col14\" >0.300183</td>\n",
       "                        <td id=\"T_fed1975c_8f3c_11ea_a63f_d63a88ba66afrow2_col15\" class=\"data row2 col15\" >-0.058995</td>\n",
       "                        <td id=\"T_fed1975c_8f3c_11ea_a63f_d63a88ba66afrow2_col16\" class=\"data row2 col16\" >0.208167</td>\n",
       "                        <td id=\"T_fed1975c_8f3c_11ea_a63f_d63a88ba66afrow2_col17\" class=\"data row2 col17\" >-0.002497</td>\n",
       "                        <td id=\"T_fed1975c_8f3c_11ea_a63f_d63a88ba66afrow2_col18\" class=\"data row2 col18\" >-0.002857</td>\n",
       "                        <td id=\"T_fed1975c_8f3c_11ea_a63f_d63a88ba66afrow2_col19\" class=\"data row2 col19\" >0.356368</td>\n",
       "                        <td id=\"T_fed1975c_8f3c_11ea_a63f_d63a88ba66afrow2_col20\" class=\"data row2 col20\" >0.094167</td>\n",
       "                        <td id=\"T_fed1975c_8f3c_11ea_a63f_d63a88ba66afrow2_col21\" class=\"data row2 col21\" >0.084768</td>\n",
       "                        <td id=\"T_fed1975c_8f3c_11ea_a63f_d63a88ba66afrow2_col22\" class=\"data row2 col22\" >0.052425</td>\n",
       "            </tr>\n",
       "            <tr>\n",
       "                        <th id=\"T_fed1975c_8f3c_11ea_a63f_d63a88ba66aflevel0_row3\" class=\"row_heading level0 row3\" >evaporation</th>\n",
       "                        <td id=\"T_fed1975c_8f3c_11ea_a63f_d63a88ba66afrow3_col0\" class=\"data row3 col0\" >0.367894</td>\n",
       "                        <td id=\"T_fed1975c_8f3c_11ea_a63f_d63a88ba66afrow3_col1\" class=\"data row3 col1\" >0.404757</td>\n",
       "                        <td id=\"T_fed1975c_8f3c_11ea_a63f_d63a88ba66afrow3_col2\" class=\"data row3 col2\" >-0.054656</td>\n",
       "                        <td id=\"T_fed1975c_8f3c_11ea_a63f_d63a88ba66afrow3_col3\" class=\"data row3 col3\" >1.000000</td>\n",
       "                        <td id=\"T_fed1975c_8f3c_11ea_a63f_d63a88ba66afrow3_col4\" class=\"data row3 col4\" >0.506606</td>\n",
       "                        <td id=\"T_fed1975c_8f3c_11ea_a63f_d63a88ba66afrow3_col5\" class=\"data row3 col5\" >-0.321374</td>\n",
       "                        <td id=\"T_fed1975c_8f3c_11ea_a63f_d63a88ba66afrow3_col6\" class=\"data row3 col6\" >-0.253544</td>\n",
       "                        <td id=\"T_fed1975c_8f3c_11ea_a63f_d63a88ba66afrow3_col7\" class=\"data row3 col7\" >0.231382</td>\n",
       "                        <td id=\"T_fed1975c_8f3c_11ea_a63f_d63a88ba66afrow3_col8\" class=\"data row3 col8\" >0.230812</td>\n",
       "                        <td id=\"T_fed1975c_8f3c_11ea_a63f_d63a88ba66afrow3_col9\" class=\"data row3 col9\" >0.156225</td>\n",
       "                        <td id=\"T_fed1975c_8f3c_11ea_a63f_d63a88ba66afrow3_col10\" class=\"data row3 col10\" >0.172650</td>\n",
       "                        <td id=\"T_fed1975c_8f3c_11ea_a63f_d63a88ba66afrow3_col11\" class=\"data row3 col11\" >0.403547</td>\n",
       "                        <td id=\"T_fed1975c_8f3c_11ea_a63f_d63a88ba66afrow3_col12\" class=\"data row3 col12\" >0.367642</td>\n",
       "                        <td id=\"T_fed1975c_8f3c_11ea_a63f_d63a88ba66afrow3_col13\" class=\"data row3 col13\" >-0.111719</td>\n",
       "                        <td id=\"T_fed1975c_8f3c_11ea_a63f_d63a88ba66afrow3_col14\" class=\"data row3 col14\" >-0.035194</td>\n",
       "                        <td id=\"T_fed1975c_8f3c_11ea_a63f_d63a88ba66afrow3_col15\" class=\"data row3 col15\" >0.324543</td>\n",
       "                        <td id=\"T_fed1975c_8f3c_11ea_a63f_d63a88ba66afrow3_col16\" class=\"data row3 col16\" >-0.230980</td>\n",
       "                        <td id=\"T_fed1975c_8f3c_11ea_a63f_d63a88ba66afrow3_col17\" class=\"data row3 col17\" >0.001816</td>\n",
       "                        <td id=\"T_fed1975c_8f3c_11ea_a63f_d63a88ba66afrow3_col18\" class=\"data row3 col18\" >-0.001933</td>\n",
       "                        <td id=\"T_fed1975c_8f3c_11ea_a63f_d63a88ba66afrow3_col19\" class=\"data row3 col19\" >-0.110303</td>\n",
       "                        <td id=\"T_fed1975c_8f3c_11ea_a63f_d63a88ba66afrow3_col20\" class=\"data row3 col20\" >0.127846</td>\n",
       "                        <td id=\"T_fed1975c_8f3c_11ea_a63f_d63a88ba66afrow3_col21\" class=\"data row3 col21\" >0.169056</td>\n",
       "                        <td id=\"T_fed1975c_8f3c_11ea_a63f_d63a88ba66afrow3_col22\" class=\"data row3 col22\" >0.126131</td>\n",
       "            </tr>\n",
       "            <tr>\n",
       "                        <th id=\"T_fed1975c_8f3c_11ea_a63f_d63a88ba66aflevel0_row4\" class=\"row_heading level0 row4\" >sunshine</th>\n",
       "                        <td id=\"T_fed1975c_8f3c_11ea_a63f_d63a88ba66afrow4_col0\" class=\"data row4 col0\" >0.140786</td>\n",
       "                        <td id=\"T_fed1975c_8f3c_11ea_a63f_d63a88ba66afrow4_col1\" class=\"data row4 col1\" >0.254301</td>\n",
       "                        <td id=\"T_fed1975c_8f3c_11ea_a63f_d63a88ba66afrow4_col2\" class=\"data row4 col2\" >-0.097318</td>\n",
       "                        <td id=\"T_fed1975c_8f3c_11ea_a63f_d63a88ba66afrow4_col3\" class=\"data row4 col3\" >0.506606</td>\n",
       "                        <td id=\"T_fed1975c_8f3c_11ea_a63f_d63a88ba66afrow4_col4\" class=\"data row4 col4\" >1.000000</td>\n",
       "                        <td id=\"T_fed1975c_8f3c_11ea_a63f_d63a88ba66afrow4_col5\" class=\"data row4 col5\" >-0.246957</td>\n",
       "                        <td id=\"T_fed1975c_8f3c_11ea_a63f_d63a88ba66afrow4_col6\" class=\"data row4 col6\" >-0.247096</td>\n",
       "                        <td id=\"T_fed1975c_8f3c_11ea_a63f_d63a88ba66afrow4_col7\" class=\"data row4 col7\" >0.276032</td>\n",
       "                        <td id=\"T_fed1975c_8f3c_11ea_a63f_d63a88ba66afrow4_col8\" class=\"data row4 col8\" >0.275012</td>\n",
       "                        <td id=\"T_fed1975c_8f3c_11ea_a63f_d63a88ba66afrow4_col9\" class=\"data row4 col9\" >0.063490</td>\n",
       "                        <td id=\"T_fed1975c_8f3c_11ea_a63f_d63a88ba66afrow4_col10\" class=\"data row4 col10\" >0.082072</td>\n",
       "                        <td id=\"T_fed1975c_8f3c_11ea_a63f_d63a88ba66afrow4_col11\" class=\"data row4 col11\" >0.217954</td>\n",
       "                        <td id=\"T_fed1975c_8f3c_11ea_a63f_d63a88ba66afrow4_col12\" class=\"data row4 col12\" >0.286501</td>\n",
       "                        <td id=\"T_fed1975c_8f3c_11ea_a63f_d63a88ba66afrow4_col13\" class=\"data row4 col13\" >-0.132708</td>\n",
       "                        <td id=\"T_fed1975c_8f3c_11ea_a63f_d63a88ba66afrow4_col14\" class=\"data row4 col14\" >-0.129531</td>\n",
       "                        <td id=\"T_fed1975c_8f3c_11ea_a63f_d63a88ba66afrow4_col15\" class=\"data row4 col15\" >0.204731</td>\n",
       "                        <td id=\"T_fed1975c_8f3c_11ea_a63f_d63a88ba66afrow4_col16\" class=\"data row4 col16\" >-0.224416</td>\n",
       "                        <td id=\"T_fed1975c_8f3c_11ea_a63f_d63a88ba66afrow4_col17\" class=\"data row4 col17\" >-0.003912</td>\n",
       "                        <td id=\"T_fed1975c_8f3c_11ea_a63f_d63a88ba66afrow4_col18\" class=\"data row4 col18\" >0.000039</td>\n",
       "                        <td id=\"T_fed1975c_8f3c_11ea_a63f_d63a88ba66afrow4_col19\" class=\"data row4 col19\" >-0.285988</td>\n",
       "                        <td id=\"T_fed1975c_8f3c_11ea_a63f_d63a88ba66afrow4_col20\" class=\"data row4 col20\" >0.049586</td>\n",
       "                        <td id=\"T_fed1975c_8f3c_11ea_a63f_d63a88ba66afrow4_col21\" class=\"data row4 col21\" >0.102530</td>\n",
       "                        <td id=\"T_fed1975c_8f3c_11ea_a63f_d63a88ba66afrow4_col22\" class=\"data row4 col22\" >0.124361</td>\n",
       "            </tr>\n",
       "            <tr>\n",
       "                        <th id=\"T_fed1975c_8f3c_11ea_a63f_d63a88ba66aflevel0_row5\" class=\"row_heading level0 row5\" >humidity9am</th>\n",
       "                        <td id=\"T_fed1975c_8f3c_11ea_a63f_d63a88ba66afrow5_col0\" class=\"data row5 col0\" >-0.180448</td>\n",
       "                        <td id=\"T_fed1975c_8f3c_11ea_a63f_d63a88ba66afrow5_col1\" class=\"data row5 col1\" >-0.431386</td>\n",
       "                        <td id=\"T_fed1975c_8f3c_11ea_a63f_d63a88ba66afrow5_col2\" class=\"data row5 col2\" >0.202095</td>\n",
       "                        <td id=\"T_fed1975c_8f3c_11ea_a63f_d63a88ba66afrow5_col3\" class=\"data row5 col3\" >-0.321374</td>\n",
       "                        <td id=\"T_fed1975c_8f3c_11ea_a63f_d63a88ba66afrow5_col4\" class=\"data row5 col4\" >-0.246957</td>\n",
       "                        <td id=\"T_fed1975c_8f3c_11ea_a63f_d63a88ba66afrow5_col5\" class=\"data row5 col5\" >1.000000</td>\n",
       "                        <td id=\"T_fed1975c_8f3c_11ea_a63f_d63a88ba66afrow5_col6\" class=\"data row5 col6\" >0.613533</td>\n",
       "                        <td id=\"T_fed1975c_8f3c_11ea_a63f_d63a88ba66afrow5_col7\" class=\"data row5 col7\" >-0.007590</td>\n",
       "                        <td id=\"T_fed1975c_8f3c_11ea_a63f_d63a88ba66afrow5_col8\" class=\"data row5 col8\" >-0.014754</td>\n",
       "                        <td id=\"T_fed1975c_8f3c_11ea_a63f_d63a88ba66afrow5_col9\" class=\"data row5 col9\" >0.238256</td>\n",
       "                        <td id=\"T_fed1975c_8f3c_11ea_a63f_d63a88ba66afrow5_col10\" class=\"data row5 col10\" >0.159797</td>\n",
       "                        <td id=\"T_fed1975c_8f3c_11ea_a63f_d63a88ba66afrow5_col11\" class=\"data row5 col11\" >-0.366070</td>\n",
       "                        <td id=\"T_fed1975c_8f3c_11ea_a63f_d63a88ba66afrow5_col12\" class=\"data row5 col12\" >-0.389508</td>\n",
       "                        <td id=\"T_fed1975c_8f3c_11ea_a63f_d63a88ba66afrow5_col13\" class=\"data row5 col13\" >0.320481</td>\n",
       "                        <td id=\"T_fed1975c_8f3c_11ea_a63f_d63a88ba66afrow5_col14\" class=\"data row5 col14\" >0.152556</td>\n",
       "                        <td id=\"T_fed1975c_8f3c_11ea_a63f_d63a88ba66afrow5_col15\" class=\"data row5 col15\" >-0.343392</td>\n",
       "                        <td id=\"T_fed1975c_8f3c_11ea_a63f_d63a88ba66afrow5_col16\" class=\"data row5 col16\" >0.564244</td>\n",
       "                        <td id=\"T_fed1975c_8f3c_11ea_a63f_d63a88ba66afrow5_col17\" class=\"data row5 col17\" >-0.000821</td>\n",
       "                        <td id=\"T_fed1975c_8f3c_11ea_a63f_d63a88ba66afrow5_col18\" class=\"data row5 col18\" >0.002519</td>\n",
       "                        <td id=\"T_fed1975c_8f3c_11ea_a63f_d63a88ba66afrow5_col19\" class=\"data row5 col19\" >0.351555</td>\n",
       "                        <td id=\"T_fed1975c_8f3c_11ea_a63f_d63a88ba66afrow5_col20\" class=\"data row5 col20\" >-0.167890</td>\n",
       "                        <td id=\"T_fed1975c_8f3c_11ea_a63f_d63a88ba66afrow5_col21\" class=\"data row5 col21\" >-0.224094</td>\n",
       "                        <td id=\"T_fed1975c_8f3c_11ea_a63f_d63a88ba66afrow5_col22\" class=\"data row5 col22\" >-0.116146</td>\n",
       "            </tr>\n",
       "            <tr>\n",
       "                        <th id=\"T_fed1975c_8f3c_11ea_a63f_d63a88ba66aflevel0_row6\" class=\"row_heading level0 row6\" >humidity3pm</th>\n",
       "                        <td id=\"T_fed1975c_8f3c_11ea_a63f_d63a88ba66afrow6_col0\" class=\"data row6 col0\" >-0.000696</td>\n",
       "                        <td id=\"T_fed1975c_8f3c_11ea_a63f_d63a88ba66afrow6_col1\" class=\"data row6 col1\" >-0.459034</td>\n",
       "                        <td id=\"T_fed1975c_8f3c_11ea_a63f_d63a88ba66afrow6_col2\" class=\"data row6 col2\" >0.226778</td>\n",
       "                        <td id=\"T_fed1975c_8f3c_11ea_a63f_d63a88ba66afrow6_col3\" class=\"data row6 col3\" >-0.253544</td>\n",
       "                        <td id=\"T_fed1975c_8f3c_11ea_a63f_d63a88ba66afrow6_col4\" class=\"data row6 col4\" >-0.247096</td>\n",
       "                        <td id=\"T_fed1975c_8f3c_11ea_a63f_d63a88ba66afrow6_col5\" class=\"data row6 col5\" >0.613533</td>\n",
       "                        <td id=\"T_fed1975c_8f3c_11ea_a63f_d63a88ba66afrow6_col6\" class=\"data row6 col6\" >1.000000</td>\n",
       "                        <td id=\"T_fed1975c_8f3c_11ea_a63f_d63a88ba66afrow6_col7\" class=\"data row6 col7\" >0.015457</td>\n",
       "                        <td id=\"T_fed1975c_8f3c_11ea_a63f_d63a88ba66afrow6_col8\" class=\"data row6 col8\" >0.024935</td>\n",
       "                        <td id=\"T_fed1975c_8f3c_11ea_a63f_d63a88ba66afrow6_col9\" class=\"data row6 col9\" >0.266226</td>\n",
       "                        <td id=\"T_fed1975c_8f3c_11ea_a63f_d63a88ba66afrow6_col10\" class=\"data row6 col10\" >0.311279</td>\n",
       "                        <td id=\"T_fed1975c_8f3c_11ea_a63f_d63a88ba66afrow6_col11\" class=\"data row6 col11\" >-0.205338</td>\n",
       "                        <td id=\"T_fed1975c_8f3c_11ea_a63f_d63a88ba66afrow6_col12\" class=\"data row6 col12\" >-0.347502</td>\n",
       "                        <td id=\"T_fed1975c_8f3c_11ea_a63f_d63a88ba66afrow6_col13\" class=\"data row6 col13\" >0.340624</td>\n",
       "                        <td id=\"T_fed1975c_8f3c_11ea_a63f_d63a88ba66afrow6_col14\" class=\"data row6 col14\" >0.278517</td>\n",
       "                        <td id=\"T_fed1975c_8f3c_11ea_a63f_d63a88ba66afrow6_col15\" class=\"data row6 col15\" >-0.365449</td>\n",
       "                        <td id=\"T_fed1975c_8f3c_11ea_a63f_d63a88ba66afrow6_col16\" class=\"data row6 col16\" >0.920296</td>\n",
       "                        <td id=\"T_fed1975c_8f3c_11ea_a63f_d63a88ba66afrow6_col17\" class=\"data row6 col17\" >0.000557</td>\n",
       "                        <td id=\"T_fed1975c_8f3c_11ea_a63f_d63a88ba66afrow6_col18\" class=\"data row6 col18\" >0.000396</td>\n",
       "                        <td id=\"T_fed1975c_8f3c_11ea_a63f_d63a88ba66afrow6_col19\" class=\"data row6 col19\" >0.600339</td>\n",
       "                        <td id=\"T_fed1975c_8f3c_11ea_a63f_d63a88ba66afrow6_col20\" class=\"data row6 col20\" >-0.001323</td>\n",
       "                        <td id=\"T_fed1975c_8f3c_11ea_a63f_d63a88ba66afrow6_col21\" class=\"data row6 col21\" >-0.013411</td>\n",
       "                        <td id=\"T_fed1975c_8f3c_11ea_a63f_d63a88ba66afrow6_col22\" class=\"data row6 col22\" >0.081109</td>\n",
       "            </tr>\n",
       "            <tr>\n",
       "                        <th id=\"T_fed1975c_8f3c_11ea_a63f_d63a88ba66aflevel0_row7\" class=\"row_heading level0 row7\" >pressure9am</th>\n",
       "                        <td id=\"T_fed1975c_8f3c_11ea_a63f_d63a88ba66afrow7_col0\" class=\"data row7 col0\" >0.128941</td>\n",
       "                        <td id=\"T_fed1975c_8f3c_11ea_a63f_d63a88ba66afrow7_col1\" class=\"data row7 col1\" >0.099451</td>\n",
       "                        <td id=\"T_fed1975c_8f3c_11ea_a63f_d63a88ba66afrow7_col2\" class=\"data row7 col2\" >-0.004096</td>\n",
       "                        <td id=\"T_fed1975c_8f3c_11ea_a63f_d63a88ba66afrow7_col3\" class=\"data row7 col3\" >0.231382</td>\n",
       "                        <td id=\"T_fed1975c_8f3c_11ea_a63f_d63a88ba66afrow7_col4\" class=\"data row7 col4\" >0.276032</td>\n",
       "                        <td id=\"T_fed1975c_8f3c_11ea_a63f_d63a88ba66afrow7_col5\" class=\"data row7 col5\" >-0.007590</td>\n",
       "                        <td id=\"T_fed1975c_8f3c_11ea_a63f_d63a88ba66afrow7_col6\" class=\"data row7 col6\" >0.015457</td>\n",
       "                        <td id=\"T_fed1975c_8f3c_11ea_a63f_d63a88ba66afrow7_col7\" class=\"data row7 col7\" >1.000000</td>\n",
       "                        <td id=\"T_fed1975c_8f3c_11ea_a63f_d63a88ba66afrow7_col8\" class=\"data row7 col8\" >0.983630</td>\n",
       "                        <td id=\"T_fed1975c_8f3c_11ea_a63f_d63a88ba66afrow7_col9\" class=\"data row7 col9\" >0.160782</td>\n",
       "                        <td id=\"T_fed1975c_8f3c_11ea_a63f_d63a88ba66afrow7_col10\" class=\"data row7 col10\" >0.179279</td>\n",
       "                        <td id=\"T_fed1975c_8f3c_11ea_a63f_d63a88ba66afrow7_col11\" class=\"data row7 col11\" >0.129621</td>\n",
       "                        <td id=\"T_fed1975c_8f3c_11ea_a63f_d63a88ba66afrow7_col12\" class=\"data row7 col12\" >0.137550</td>\n",
       "                        <td id=\"T_fed1975c_8f3c_11ea_a63f_d63a88ba66afrow7_col13\" class=\"data row7 col13\" >-0.000968</td>\n",
       "                        <td id=\"T_fed1975c_8f3c_11ea_a63f_d63a88ba66afrow7_col14\" class=\"data row7 col14\" >-0.005457</td>\n",
       "                        <td id=\"T_fed1975c_8f3c_11ea_a63f_d63a88ba66afrow7_col15\" class=\"data row7 col15\" >0.079602</td>\n",
       "                        <td id=\"T_fed1975c_8f3c_11ea_a63f_d63a88ba66afrow7_col16\" class=\"data row7 col16\" >0.016103</td>\n",
       "                        <td id=\"T_fed1975c_8f3c_11ea_a63f_d63a88ba66afrow7_col17\" class=\"data row7 col17\" >0.001886</td>\n",
       "                        <td id=\"T_fed1975c_8f3c_11ea_a63f_d63a88ba66afrow7_col18\" class=\"data row7 col18\" >0.001989</td>\n",
       "                        <td id=\"T_fed1975c_8f3c_11ea_a63f_d63a88ba66afrow7_col19\" class=\"data row7 col19\" >-0.008552</td>\n",
       "                        <td id=\"T_fed1975c_8f3c_11ea_a63f_d63a88ba66afrow7_col20\" class=\"data row7 col20\" >0.175633</td>\n",
       "                        <td id=\"T_fed1975c_8f3c_11ea_a63f_d63a88ba66afrow7_col21\" class=\"data row7 col21\" >0.132073</td>\n",
       "                        <td id=\"T_fed1975c_8f3c_11ea_a63f_d63a88ba66afrow7_col22\" class=\"data row7 col22\" >0.197209</td>\n",
       "            </tr>\n",
       "            <tr>\n",
       "                        <th id=\"T_fed1975c_8f3c_11ea_a63f_d63a88ba66aflevel0_row8\" class=\"row_heading level0 row8\" >pressure3pm</th>\n",
       "                        <td id=\"T_fed1975c_8f3c_11ea_a63f_d63a88ba66afrow8_col0\" class=\"data row8 col0\" >0.127805</td>\n",
       "                        <td id=\"T_fed1975c_8f3c_11ea_a63f_d63a88ba66afrow8_col1\" class=\"data row8 col1\" >0.096821</td>\n",
       "                        <td id=\"T_fed1975c_8f3c_11ea_a63f_d63a88ba66afrow8_col2\" class=\"data row8 col2\" >-0.003443</td>\n",
       "                        <td id=\"T_fed1975c_8f3c_11ea_a63f_d63a88ba66afrow8_col3\" class=\"data row8 col3\" >0.230812</td>\n",
       "                        <td id=\"T_fed1975c_8f3c_11ea_a63f_d63a88ba66afrow8_col4\" class=\"data row8 col4\" >0.275012</td>\n",
       "                        <td id=\"T_fed1975c_8f3c_11ea_a63f_d63a88ba66afrow8_col5\" class=\"data row8 col5\" >-0.014754</td>\n",
       "                        <td id=\"T_fed1975c_8f3c_11ea_a63f_d63a88ba66afrow8_col6\" class=\"data row8 col6\" >0.024935</td>\n",
       "                        <td id=\"T_fed1975c_8f3c_11ea_a63f_d63a88ba66afrow8_col7\" class=\"data row8 col7\" >0.983630</td>\n",
       "                        <td id=\"T_fed1975c_8f3c_11ea_a63f_d63a88ba66afrow8_col8\" class=\"data row8 col8\" >1.000000</td>\n",
       "                        <td id=\"T_fed1975c_8f3c_11ea_a63f_d63a88ba66afrow8_col9\" class=\"data row8 col9\" >0.161666</td>\n",
       "                        <td id=\"T_fed1975c_8f3c_11ea_a63f_d63a88ba66afrow8_col10\" class=\"data row8 col10\" >0.182560</td>\n",
       "                        <td id=\"T_fed1975c_8f3c_11ea_a63f_d63a88ba66afrow8_col11\" class=\"data row8 col11\" >0.121841</td>\n",
       "                        <td id=\"T_fed1975c_8f3c_11ea_a63f_d63a88ba66afrow8_col12\" class=\"data row8 col12\" >0.144317</td>\n",
       "                        <td id=\"T_fed1975c_8f3c_11ea_a63f_d63a88ba66afrow8_col13\" class=\"data row8 col13\" >0.000273</td>\n",
       "                        <td id=\"T_fed1975c_8f3c_11ea_a63f_d63a88ba66afrow8_col14\" class=\"data row8 col14\" >-0.005636</td>\n",
       "                        <td id=\"T_fed1975c_8f3c_11ea_a63f_d63a88ba66afrow8_col15\" class=\"data row8 col15\" >0.077781</td>\n",
       "                        <td id=\"T_fed1975c_8f3c_11ea_a63f_d63a88ba66afrow8_col16\" class=\"data row8 col16\" >0.024845</td>\n",
       "                        <td id=\"T_fed1975c_8f3c_11ea_a63f_d63a88ba66afrow8_col17\" class=\"data row8 col17\" >0.002372</td>\n",
       "                        <td id=\"T_fed1975c_8f3c_11ea_a63f_d63a88ba66afrow8_col18\" class=\"data row8 col18\" >0.002264</td>\n",
       "                        <td id=\"T_fed1975c_8f3c_11ea_a63f_d63a88ba66afrow8_col19\" class=\"data row8 col19\" >-0.008704</td>\n",
       "                        <td id=\"T_fed1975c_8f3c_11ea_a63f_d63a88ba66afrow8_col20\" class=\"data row8 col20\" >0.177270</td>\n",
       "                        <td id=\"T_fed1975c_8f3c_11ea_a63f_d63a88ba66afrow8_col21\" class=\"data row8 col21\" >0.130537</td>\n",
       "                        <td id=\"T_fed1975c_8f3c_11ea_a63f_d63a88ba66afrow8_col22\" class=\"data row8 col22\" >0.205051</td>\n",
       "            </tr>\n",
       "            <tr>\n",
       "                        <th id=\"T_fed1975c_8f3c_11ea_a63f_d63a88ba66aflevel0_row9\" class=\"row_heading level0 row9\" >cloud9am</th>\n",
       "                        <td id=\"T_fed1975c_8f3c_11ea_a63f_d63a88ba66afrow9_col0\" class=\"data row9 col0\" >0.156097</td>\n",
       "                        <td id=\"T_fed1975c_8f3c_11ea_a63f_d63a88ba66afrow9_col1\" class=\"data row9 col1\" >-0.113448</td>\n",
       "                        <td id=\"T_fed1975c_8f3c_11ea_a63f_d63a88ba66afrow9_col2\" class=\"data row9 col2\" >0.149963</td>\n",
       "                        <td id=\"T_fed1975c_8f3c_11ea_a63f_d63a88ba66afrow9_col3\" class=\"data row9 col3\" >0.156225</td>\n",
       "                        <td id=\"T_fed1975c_8f3c_11ea_a63f_d63a88ba66afrow9_col4\" class=\"data row9 col4\" >0.063490</td>\n",
       "                        <td id=\"T_fed1975c_8f3c_11ea_a63f_d63a88ba66afrow9_col5\" class=\"data row9 col5\" >0.238256</td>\n",
       "                        <td id=\"T_fed1975c_8f3c_11ea_a63f_d63a88ba66afrow9_col6\" class=\"data row9 col6\" >0.266226</td>\n",
       "                        <td id=\"T_fed1975c_8f3c_11ea_a63f_d63a88ba66afrow9_col7\" class=\"data row9 col7\" >0.160782</td>\n",
       "                        <td id=\"T_fed1975c_8f3c_11ea_a63f_d63a88ba66afrow9_col8\" class=\"data row9 col8\" >0.161666</td>\n",
       "                        <td id=\"T_fed1975c_8f3c_11ea_a63f_d63a88ba66afrow9_col9\" class=\"data row9 col9\" >1.000000</td>\n",
       "                        <td id=\"T_fed1975c_8f3c_11ea_a63f_d63a88ba66afrow9_col10\" class=\"data row9 col10\" >0.699792</td>\n",
       "                        <td id=\"T_fed1975c_8f3c_11ea_a63f_d63a88ba66afrow9_col11\" class=\"data row9 col11\" >0.012028</td>\n",
       "                        <td id=\"T_fed1975c_8f3c_11ea_a63f_d63a88ba66afrow9_col12\" class=\"data row9 col12\" >-0.120127</td>\n",
       "                        <td id=\"T_fed1975c_8f3c_11ea_a63f_d63a88ba66afrow9_col13\" class=\"data row9 col13\" >0.208327</td>\n",
       "                        <td id=\"T_fed1975c_8f3c_11ea_a63f_d63a88ba66afrow9_col14\" class=\"data row9 col14\" >0.141193</td>\n",
       "                        <td id=\"T_fed1975c_8f3c_11ea_a63f_d63a88ba66afrow9_col15\" class=\"data row9 col15\" >-0.089572</td>\n",
       "                        <td id=\"T_fed1975c_8f3c_11ea_a63f_d63a88ba66afrow9_col16\" class=\"data row9 col16\" >0.243469</td>\n",
       "                        <td id=\"T_fed1975c_8f3c_11ea_a63f_d63a88ba66afrow9_col17\" class=\"data row9 col17\" >-0.003744</td>\n",
       "                        <td id=\"T_fed1975c_8f3c_11ea_a63f_d63a88ba66afrow9_col18\" class=\"data row9 col18\" >-0.000927</td>\n",
       "                        <td id=\"T_fed1975c_8f3c_11ea_a63f_d63a88ba66afrow9_col19\" class=\"data row9 col19\" >0.314686</td>\n",
       "                        <td id=\"T_fed1975c_8f3c_11ea_a63f_d63a88ba66afrow9_col20\" class=\"data row9 col20\" >0.005053</td>\n",
       "                        <td id=\"T_fed1975c_8f3c_11ea_a63f_d63a88ba66afrow9_col21\" class=\"data row9 col21\" >0.101592</td>\n",
       "                        <td id=\"T_fed1975c_8f3c_11ea_a63f_d63a88ba66afrow9_col22\" class=\"data row9 col22\" >0.085136</td>\n",
       "            </tr>\n",
       "            <tr>\n",
       "                        <th id=\"T_fed1975c_8f3c_11ea_a63f_d63a88ba66aflevel0_row10\" class=\"row_heading level0 row10\" >cloud3pm</th>\n",
       "                        <td id=\"T_fed1975c_8f3c_11ea_a63f_d63a88ba66afrow10_col0\" class=\"data row10 col0\" >0.117932</td>\n",
       "                        <td id=\"T_fed1975c_8f3c_11ea_a63f_d63a88ba66afrow10_col1\" class=\"data row10 col1\" >-0.100454</td>\n",
       "                        <td id=\"T_fed1975c_8f3c_11ea_a63f_d63a88ba66afrow10_col2\" class=\"data row10 col2\" >0.126294</td>\n",
       "                        <td id=\"T_fed1975c_8f3c_11ea_a63f_d63a88ba66afrow10_col3\" class=\"data row10 col3\" >0.172650</td>\n",
       "                        <td id=\"T_fed1975c_8f3c_11ea_a63f_d63a88ba66afrow10_col4\" class=\"data row10 col4\" >0.082072</td>\n",
       "                        <td id=\"T_fed1975c_8f3c_11ea_a63f_d63a88ba66afrow10_col5\" class=\"data row10 col5\" >0.159797</td>\n",
       "                        <td id=\"T_fed1975c_8f3c_11ea_a63f_d63a88ba66afrow10_col6\" class=\"data row10 col6\" >0.311279</td>\n",
       "                        <td id=\"T_fed1975c_8f3c_11ea_a63f_d63a88ba66afrow10_col7\" class=\"data row10 col7\" >0.179279</td>\n",
       "                        <td id=\"T_fed1975c_8f3c_11ea_a63f_d63a88ba66afrow10_col8\" class=\"data row10 col8\" >0.182560</td>\n",
       "                        <td id=\"T_fed1975c_8f3c_11ea_a63f_d63a88ba66afrow10_col9\" class=\"data row10 col9\" >0.699792</td>\n",
       "                        <td id=\"T_fed1975c_8f3c_11ea_a63f_d63a88ba66afrow10_col10\" class=\"data row10 col10\" >1.000000</td>\n",
       "                        <td id=\"T_fed1975c_8f3c_11ea_a63f_d63a88ba66afrow10_col11\" class=\"data row10 col11\" >0.019503</td>\n",
       "                        <td id=\"T_fed1975c_8f3c_11ea_a63f_d63a88ba66afrow10_col12\" class=\"data row10 col12\" >-0.064420</td>\n",
       "                        <td id=\"T_fed1975c_8f3c_11ea_a63f_d63a88ba66afrow10_col13\" class=\"data row10 col13\" >0.179010</td>\n",
       "                        <td id=\"T_fed1975c_8f3c_11ea_a63f_d63a88ba66afrow10_col14\" class=\"data row10 col14\" >0.161965</td>\n",
       "                        <td id=\"T_fed1975c_8f3c_11ea_a63f_d63a88ba66afrow10_col15\" class=\"data row10 col15\" >-0.079669</td>\n",
       "                        <td id=\"T_fed1975c_8f3c_11ea_a63f_d63a88ba66afrow10_col16\" class=\"data row10 col16\" >0.285503</td>\n",
       "                        <td id=\"T_fed1975c_8f3c_11ea_a63f_d63a88ba66afrow10_col17\" class=\"data row10 col17\" >-0.002876</td>\n",
       "                        <td id=\"T_fed1975c_8f3c_11ea_a63f_d63a88ba66afrow10_col18\" class=\"data row10 col18\" >-0.003566</td>\n",
       "                        <td id=\"T_fed1975c_8f3c_11ea_a63f_d63a88ba66afrow10_col19\" class=\"data row10 col19\" >0.357673</td>\n",
       "                        <td id=\"T_fed1975c_8f3c_11ea_a63f_d63a88ba66afrow10_col20\" class=\"data row10 col20\" >0.056200</td>\n",
       "                        <td id=\"T_fed1975c_8f3c_11ea_a63f_d63a88ba66afrow10_col21\" class=\"data row10 col21\" >0.119961</td>\n",
       "                        <td id=\"T_fed1975c_8f3c_11ea_a63f_d63a88ba66afrow10_col22\" class=\"data row10 col22\" >0.102157</td>\n",
       "            </tr>\n",
       "            <tr>\n",
       "                        <th id=\"T_fed1975c_8f3c_11ea_a63f_d63a88ba66aflevel0_row11\" class=\"row_heading level0 row11\" >temp9am</th>\n",
       "                        <td id=\"T_fed1975c_8f3c_11ea_a63f_d63a88ba66afrow11_col0\" class=\"data row11 col0\" >0.891762</td>\n",
       "                        <td id=\"T_fed1975c_8f3c_11ea_a63f_d63a88ba66afrow11_col1\" class=\"data row11 col1\" >0.866982</td>\n",
       "                        <td id=\"T_fed1975c_8f3c_11ea_a63f_d63a88ba66afrow11_col2\" class=\"data row11 col2\" >0.009495</td>\n",
       "                        <td id=\"T_fed1975c_8f3c_11ea_a63f_d63a88ba66afrow11_col3\" class=\"data row11 col3\" >0.403547</td>\n",
       "                        <td id=\"T_fed1975c_8f3c_11ea_a63f_d63a88ba66afrow11_col4\" class=\"data row11 col4\" >0.217954</td>\n",
       "                        <td id=\"T_fed1975c_8f3c_11ea_a63f_d63a88ba66afrow11_col5\" class=\"data row11 col5\" >-0.366070</td>\n",
       "                        <td id=\"T_fed1975c_8f3c_11ea_a63f_d63a88ba66afrow11_col6\" class=\"data row11 col6\" >-0.205338</td>\n",
       "                        <td id=\"T_fed1975c_8f3c_11ea_a63f_d63a88ba66afrow11_col7\" class=\"data row11 col7\" >0.129621</td>\n",
       "                        <td id=\"T_fed1975c_8f3c_11ea_a63f_d63a88ba66afrow11_col8\" class=\"data row11 col8\" >0.121841</td>\n",
       "                        <td id=\"T_fed1975c_8f3c_11ea_a63f_d63a88ba66afrow11_col9\" class=\"data row11 col9\" >0.012028</td>\n",
       "                        <td id=\"T_fed1975c_8f3c_11ea_a63f_d63a88ba66afrow11_col10\" class=\"data row11 col10\" >0.019503</td>\n",
       "                        <td id=\"T_fed1975c_8f3c_11ea_a63f_d63a88ba66afrow11_col11\" class=\"data row11 col11\" >1.000000</td>\n",
       "                        <td id=\"T_fed1975c_8f3c_11ea_a63f_d63a88ba66afrow11_col12\" class=\"data row11 col12\" >0.764786</td>\n",
       "                        <td id=\"T_fed1975c_8f3c_11ea_a63f_d63a88ba66afrow11_col13\" class=\"data row11 col13\" >-0.094181</td>\n",
       "                        <td id=\"T_fed1975c_8f3c_11ea_a63f_d63a88ba66afrow11_col14\" class=\"data row11 col14\" >0.045691</td>\n",
       "                        <td id=\"T_fed1975c_8f3c_11ea_a63f_d63a88ba66afrow11_col15\" class=\"data row11 col15\" >0.691158</td>\n",
       "                        <td id=\"T_fed1975c_8f3c_11ea_a63f_d63a88ba66afrow11_col16\" class=\"data row11 col16\" >-0.189132</td>\n",
       "                        <td id=\"T_fed1975c_8f3c_11ea_a63f_d63a88ba66afrow11_col17\" class=\"data row11 col17\" >0.001727</td>\n",
       "                        <td id=\"T_fed1975c_8f3c_11ea_a63f_d63a88ba66afrow11_col18\" class=\"data row11 col18\" >-0.000410</td>\n",
       "                        <td id=\"T_fed1975c_8f3c_11ea_a63f_d63a88ba66afrow11_col19\" class=\"data row11 col19\" >-0.041284</td>\n",
       "                        <td id=\"T_fed1975c_8f3c_11ea_a63f_d63a88ba66afrow11_col20\" class=\"data row11 col20\" >0.121758</td>\n",
       "                        <td id=\"T_fed1975c_8f3c_11ea_a63f_d63a88ba66afrow11_col21\" class=\"data row11 col21\" >0.137988</td>\n",
       "                        <td id=\"T_fed1975c_8f3c_11ea_a63f_d63a88ba66afrow11_col22\" class=\"data row11 col22\" >0.164344</td>\n",
       "            </tr>\n",
       "            <tr>\n",
       "                        <th id=\"T_fed1975c_8f3c_11ea_a63f_d63a88ba66aflevel0_row12\" class=\"row_heading level0 row12\" >temp3pm</th>\n",
       "                        <td id=\"T_fed1975c_8f3c_11ea_a63f_d63a88ba66afrow12_col0\" class=\"data row12 col0\" >0.627278</td>\n",
       "                        <td id=\"T_fed1975c_8f3c_11ea_a63f_d63a88ba66afrow12_col1\" class=\"data row12 col1\" >0.878366</td>\n",
       "                        <td id=\"T_fed1975c_8f3c_11ea_a63f_d63a88ba66afrow12_col2\" class=\"data row12 col2\" >-0.077041</td>\n",
       "                        <td id=\"T_fed1975c_8f3c_11ea_a63f_d63a88ba66afrow12_col3\" class=\"data row12 col3\" >0.367642</td>\n",
       "                        <td id=\"T_fed1975c_8f3c_11ea_a63f_d63a88ba66afrow12_col4\" class=\"data row12 col4\" >0.286501</td>\n",
       "                        <td id=\"T_fed1975c_8f3c_11ea_a63f_d63a88ba66afrow12_col5\" class=\"data row12 col5\" >-0.389508</td>\n",
       "                        <td id=\"T_fed1975c_8f3c_11ea_a63f_d63a88ba66afrow12_col6\" class=\"data row12 col6\" >-0.347502</td>\n",
       "                        <td id=\"T_fed1975c_8f3c_11ea_a63f_d63a88ba66afrow12_col7\" class=\"data row12 col7\" >0.137550</td>\n",
       "                        <td id=\"T_fed1975c_8f3c_11ea_a63f_d63a88ba66afrow12_col8\" class=\"data row12 col8\" >0.144317</td>\n",
       "                        <td id=\"T_fed1975c_8f3c_11ea_a63f_d63a88ba66afrow12_col9\" class=\"data row12 col9\" >-0.120127</td>\n",
       "                        <td id=\"T_fed1975c_8f3c_11ea_a63f_d63a88ba66afrow12_col10\" class=\"data row12 col10\" >-0.064420</td>\n",
       "                        <td id=\"T_fed1975c_8f3c_11ea_a63f_d63a88ba66afrow12_col11\" class=\"data row12 col11\" >0.764786</td>\n",
       "                        <td id=\"T_fed1975c_8f3c_11ea_a63f_d63a88ba66afrow12_col12\" class=\"data row12 col12\" >1.000000</td>\n",
       "                        <td id=\"T_fed1975c_8f3c_11ea_a63f_d63a88ba66afrow12_col13\" class=\"data row12 col13\" >-0.215322</td>\n",
       "                        <td id=\"T_fed1975c_8f3c_11ea_a63f_d63a88ba66afrow12_col14\" class=\"data row12 col14\" >-0.068622</td>\n",
       "                        <td id=\"T_fed1975c_8f3c_11ea_a63f_d63a88ba66afrow12_col15\" class=\"data row12 col15\" >0.701055</td>\n",
       "                        <td id=\"T_fed1975c_8f3c_11ea_a63f_d63a88ba66afrow12_col16\" class=\"data row12 col16\" >-0.315569</td>\n",
       "                        <td id=\"T_fed1975c_8f3c_11ea_a63f_d63a88ba66afrow12_col17\" class=\"data row12 col17\" >0.002265</td>\n",
       "                        <td id=\"T_fed1975c_8f3c_11ea_a63f_d63a88ba66afrow12_col18\" class=\"data row12 col18\" >-0.001116</td>\n",
       "                        <td id=\"T_fed1975c_8f3c_11ea_a63f_d63a88ba66afrow12_col19\" class=\"data row12 col19\" >-0.273451</td>\n",
       "                        <td id=\"T_fed1975c_8f3c_11ea_a63f_d63a88ba66afrow12_col20\" class=\"data row12 col20\" >0.113040</td>\n",
       "                        <td id=\"T_fed1975c_8f3c_11ea_a63f_d63a88ba66afrow12_col21\" class=\"data row12 col21\" >0.023547</td>\n",
       "                        <td id=\"T_fed1975c_8f3c_11ea_a63f_d63a88ba66afrow12_col22\" class=\"data row12 col22\" >0.106350</td>\n",
       "            </tr>\n",
       "            <tr>\n",
       "                        <th id=\"T_fed1975c_8f3c_11ea_a63f_d63a88ba66aflevel0_row13\" class=\"row_heading level0 row13\" >raintoday</th>\n",
       "                        <td id=\"T_fed1975c_8f3c_11ea_a63f_d63a88ba66afrow13_col0\" class=\"data row13 col0\" >0.056575</td>\n",
       "                        <td id=\"T_fed1975c_8f3c_11ea_a63f_d63a88ba66afrow13_col1\" class=\"data row13 col1\" >-0.223451</td>\n",
       "                        <td id=\"T_fed1975c_8f3c_11ea_a63f_d63a88ba66afrow13_col2\" class=\"data row13 col2\" >0.501565</td>\n",
       "                        <td id=\"T_fed1975c_8f3c_11ea_a63f_d63a88ba66afrow13_col3\" class=\"data row13 col3\" >-0.111719</td>\n",
       "                        <td id=\"T_fed1975c_8f3c_11ea_a63f_d63a88ba66afrow13_col4\" class=\"data row13 col4\" >-0.132708</td>\n",
       "                        <td id=\"T_fed1975c_8f3c_11ea_a63f_d63a88ba66afrow13_col5\" class=\"data row13 col5\" >0.320481</td>\n",
       "                        <td id=\"T_fed1975c_8f3c_11ea_a63f_d63a88ba66afrow13_col6\" class=\"data row13 col6\" >0.340624</td>\n",
       "                        <td id=\"T_fed1975c_8f3c_11ea_a63f_d63a88ba66afrow13_col7\" class=\"data row13 col7\" >-0.000968</td>\n",
       "                        <td id=\"T_fed1975c_8f3c_11ea_a63f_d63a88ba66afrow13_col8\" class=\"data row13 col8\" >0.000273</td>\n",
       "                        <td id=\"T_fed1975c_8f3c_11ea_a63f_d63a88ba66afrow13_col9\" class=\"data row13 col9\" >0.208327</td>\n",
       "                        <td id=\"T_fed1975c_8f3c_11ea_a63f_d63a88ba66afrow13_col10\" class=\"data row13 col10\" >0.179010</td>\n",
       "                        <td id=\"T_fed1975c_8f3c_11ea_a63f_d63a88ba66afrow13_col11\" class=\"data row13 col11\" >-0.094181</td>\n",
       "                        <td id=\"T_fed1975c_8f3c_11ea_a63f_d63a88ba66afrow13_col12\" class=\"data row13 col12\" >-0.215322</td>\n",
       "                        <td id=\"T_fed1975c_8f3c_11ea_a63f_d63a88ba66afrow13_col13\" class=\"data row13 col13\" >1.000000</td>\n",
       "                        <td id=\"T_fed1975c_8f3c_11ea_a63f_d63a88ba66afrow13_col14\" class=\"data row13 col14\" >0.214971</td>\n",
       "                        <td id=\"T_fed1975c_8f3c_11ea_a63f_d63a88ba66afrow13_col15\" class=\"data row13 col15\" >-0.178962</td>\n",
       "                        <td id=\"T_fed1975c_8f3c_11ea_a63f_d63a88ba66afrow13_col16\" class=\"data row13 col16\" >0.312660</td>\n",
       "                        <td id=\"T_fed1975c_8f3c_11ea_a63f_d63a88ba66afrow13_col17\" class=\"data row13 col17\" >-0.002034</td>\n",
       "                        <td id=\"T_fed1975c_8f3c_11ea_a63f_d63a88ba66afrow13_col18\" class=\"data row13 col18\" >0.001526</td>\n",
       "                        <td id=\"T_fed1975c_8f3c_11ea_a63f_d63a88ba66afrow13_col19\" class=\"data row13 col19\" >0.469281</td>\n",
       "                        <td id=\"T_fed1975c_8f3c_11ea_a63f_d63a88ba66afrow13_col20\" class=\"data row13 col20\" >0.105933</td>\n",
       "                        <td id=\"T_fed1975c_8f3c_11ea_a63f_d63a88ba66afrow13_col21\" class=\"data row13 col21\" >0.101081</td>\n",
       "                        <td id=\"T_fed1975c_8f3c_11ea_a63f_d63a88ba66afrow13_col22\" class=\"data row13 col22\" >0.072925</td>\n",
       "            </tr>\n",
       "            <tr>\n",
       "                        <th id=\"T_fed1975c_8f3c_11ea_a63f_d63a88ba66aflevel0_row14\" class=\"row_heading level0 row14\" >amountOfRain</th>\n",
       "                        <td id=\"T_fed1975c_8f3c_11ea_a63f_d63a88ba66afrow14_col0\" class=\"data row14 col0\" >0.121411</td>\n",
       "                        <td id=\"T_fed1975c_8f3c_11ea_a63f_d63a88ba66afrow14_col1\" class=\"data row14 col1\" >-0.043764</td>\n",
       "                        <td id=\"T_fed1975c_8f3c_11ea_a63f_d63a88ba66afrow14_col2\" class=\"data row14 col2\" >0.300183</td>\n",
       "                        <td id=\"T_fed1975c_8f3c_11ea_a63f_d63a88ba66afrow14_col3\" class=\"data row14 col3\" >-0.035194</td>\n",
       "                        <td id=\"T_fed1975c_8f3c_11ea_a63f_d63a88ba66afrow14_col4\" class=\"data row14 col4\" >-0.129531</td>\n",
       "                        <td id=\"T_fed1975c_8f3c_11ea_a63f_d63a88ba66afrow14_col5\" class=\"data row14 col5\" >0.152556</td>\n",
       "                        <td id=\"T_fed1975c_8f3c_11ea_a63f_d63a88ba66afrow14_col6\" class=\"data row14 col6\" >0.278517</td>\n",
       "                        <td id=\"T_fed1975c_8f3c_11ea_a63f_d63a88ba66afrow14_col7\" class=\"data row14 col7\" >-0.005457</td>\n",
       "                        <td id=\"T_fed1975c_8f3c_11ea_a63f_d63a88ba66afrow14_col8\" class=\"data row14 col8\" >-0.005636</td>\n",
       "                        <td id=\"T_fed1975c_8f3c_11ea_a63f_d63a88ba66afrow14_col9\" class=\"data row14 col9\" >0.141193</td>\n",
       "                        <td id=\"T_fed1975c_8f3c_11ea_a63f_d63a88ba66afrow14_col10\" class=\"data row14 col10\" >0.161965</td>\n",
       "                        <td id=\"T_fed1975c_8f3c_11ea_a63f_d63a88ba66afrow14_col11\" class=\"data row14 col11\" >0.045691</td>\n",
       "                        <td id=\"T_fed1975c_8f3c_11ea_a63f_d63a88ba66afrow14_col12\" class=\"data row14 col12\" >-0.068622</td>\n",
       "                        <td id=\"T_fed1975c_8f3c_11ea_a63f_d63a88ba66afrow14_col13\" class=\"data row14 col13\" >0.214971</td>\n",
       "                        <td id=\"T_fed1975c_8f3c_11ea_a63f_d63a88ba66afrow14_col14\" class=\"data row14 col14\" >1.000000</td>\n",
       "                        <td id=\"T_fed1975c_8f3c_11ea_a63f_d63a88ba66afrow14_col15\" class=\"data row14 col15\" >-0.034764</td>\n",
       "                        <td id=\"T_fed1975c_8f3c_11ea_a63f_d63a88ba66afrow14_col16\" class=\"data row14 col16\" >0.256737</td>\n",
       "                        <td id=\"T_fed1975c_8f3c_11ea_a63f_d63a88ba66afrow14_col17\" class=\"data row14 col17\" >-0.001491</td>\n",
       "                        <td id=\"T_fed1975c_8f3c_11ea_a63f_d63a88ba66afrow14_col18\" class=\"data row14 col18\" >-0.002363</td>\n",
       "                        <td id=\"T_fed1975c_8f3c_11ea_a63f_d63a88ba66afrow14_col19\" class=\"data row14 col19\" >0.498879</td>\n",
       "                        <td id=\"T_fed1975c_8f3c_11ea_a63f_d63a88ba66afrow14_col20\" class=\"data row14 col20\" >0.117074</td>\n",
       "                        <td id=\"T_fed1975c_8f3c_11ea_a63f_d63a88ba66afrow14_col21\" class=\"data row14 col21\" >0.066521</td>\n",
       "                        <td id=\"T_fed1975c_8f3c_11ea_a63f_d63a88ba66afrow14_col22\" class=\"data row14 col22\" >0.043727</td>\n",
       "            </tr>\n",
       "            <tr>\n",
       "                        <th id=\"T_fed1975c_8f3c_11ea_a63f_d63a88ba66aflevel0_row15\" class=\"row_heading level0 row15\" >temp</th>\n",
       "                        <td id=\"T_fed1975c_8f3c_11ea_a63f_d63a88ba66afrow15_col0\" class=\"data row15 col0\" >0.575597</td>\n",
       "                        <td id=\"T_fed1975c_8f3c_11ea_a63f_d63a88ba66afrow15_col1\" class=\"data row15 col1\" >0.798133</td>\n",
       "                        <td id=\"T_fed1975c_8f3c_11ea_a63f_d63a88ba66afrow15_col2\" class=\"data row15 col2\" >-0.058995</td>\n",
       "                        <td id=\"T_fed1975c_8f3c_11ea_a63f_d63a88ba66afrow15_col3\" class=\"data row15 col3\" >0.324543</td>\n",
       "                        <td id=\"T_fed1975c_8f3c_11ea_a63f_d63a88ba66afrow15_col4\" class=\"data row15 col4\" >0.204731</td>\n",
       "                        <td id=\"T_fed1975c_8f3c_11ea_a63f_d63a88ba66afrow15_col5\" class=\"data row15 col5\" >-0.343392</td>\n",
       "                        <td id=\"T_fed1975c_8f3c_11ea_a63f_d63a88ba66afrow15_col6\" class=\"data row15 col6\" >-0.365449</td>\n",
       "                        <td id=\"T_fed1975c_8f3c_11ea_a63f_d63a88ba66afrow15_col7\" class=\"data row15 col7\" >0.079602</td>\n",
       "                        <td id=\"T_fed1975c_8f3c_11ea_a63f_d63a88ba66afrow15_col8\" class=\"data row15 col8\" >0.077781</td>\n",
       "                        <td id=\"T_fed1975c_8f3c_11ea_a63f_d63a88ba66afrow15_col9\" class=\"data row15 col9\" >-0.089572</td>\n",
       "                        <td id=\"T_fed1975c_8f3c_11ea_a63f_d63a88ba66afrow15_col10\" class=\"data row15 col10\" >-0.079669</td>\n",
       "                        <td id=\"T_fed1975c_8f3c_11ea_a63f_d63a88ba66afrow15_col11\" class=\"data row15 col11\" >0.691158</td>\n",
       "                        <td id=\"T_fed1975c_8f3c_11ea_a63f_d63a88ba66afrow15_col12\" class=\"data row15 col12\" >0.701055</td>\n",
       "                        <td id=\"T_fed1975c_8f3c_11ea_a63f_d63a88ba66afrow15_col13\" class=\"data row15 col13\" >-0.178962</td>\n",
       "                        <td id=\"T_fed1975c_8f3c_11ea_a63f_d63a88ba66afrow15_col14\" class=\"data row15 col14\" >-0.034764</td>\n",
       "                        <td id=\"T_fed1975c_8f3c_11ea_a63f_d63a88ba66afrow15_col15\" class=\"data row15 col15\" >1.000000</td>\n",
       "                        <td id=\"T_fed1975c_8f3c_11ea_a63f_d63a88ba66afrow15_col16\" class=\"data row15 col16\" >-0.335882</td>\n",
       "                        <td id=\"T_fed1975c_8f3c_11ea_a63f_d63a88ba66afrow15_col17\" class=\"data row15 col17\" >0.001501</td>\n",
       "                        <td id=\"T_fed1975c_8f3c_11ea_a63f_d63a88ba66afrow15_col18\" class=\"data row15 col18\" >0.000042</td>\n",
       "                        <td id=\"T_fed1975c_8f3c_11ea_a63f_d63a88ba66afrow15_col19\" class=\"data row15 col19\" >-0.185638</td>\n",
       "                        <td id=\"T_fed1975c_8f3c_11ea_a63f_d63a88ba66afrow15_col20\" class=\"data row15 col20\" >0.069927</td>\n",
       "                        <td id=\"T_fed1975c_8f3c_11ea_a63f_d63a88ba66afrow15_col21\" class=\"data row15 col21\" >0.019177</td>\n",
       "                        <td id=\"T_fed1975c_8f3c_11ea_a63f_d63a88ba66afrow15_col22\" class=\"data row15 col22\" >0.050281</td>\n",
       "            </tr>\n",
       "            <tr>\n",
       "                        <th id=\"T_fed1975c_8f3c_11ea_a63f_d63a88ba66aflevel0_row16\" class=\"row_heading level0 row16\" >humidity</th>\n",
       "                        <td id=\"T_fed1975c_8f3c_11ea_a63f_d63a88ba66afrow16_col0\" class=\"data row16 col0\" >-0.001881</td>\n",
       "                        <td id=\"T_fed1975c_8f3c_11ea_a63f_d63a88ba66afrow16_col1\" class=\"data row16 col1\" >-0.421435</td>\n",
       "                        <td id=\"T_fed1975c_8f3c_11ea_a63f_d63a88ba66afrow16_col2\" class=\"data row16 col2\" >0.208167</td>\n",
       "                        <td id=\"T_fed1975c_8f3c_11ea_a63f_d63a88ba66afrow16_col3\" class=\"data row16 col3\" >-0.230980</td>\n",
       "                        <td id=\"T_fed1975c_8f3c_11ea_a63f_d63a88ba66afrow16_col4\" class=\"data row16 col4\" >-0.224416</td>\n",
       "                        <td id=\"T_fed1975c_8f3c_11ea_a63f_d63a88ba66afrow16_col5\" class=\"data row16 col5\" >0.564244</td>\n",
       "                        <td id=\"T_fed1975c_8f3c_11ea_a63f_d63a88ba66afrow16_col6\" class=\"data row16 col6\" >0.920296</td>\n",
       "                        <td id=\"T_fed1975c_8f3c_11ea_a63f_d63a88ba66afrow16_col7\" class=\"data row16 col7\" >0.016103</td>\n",
       "                        <td id=\"T_fed1975c_8f3c_11ea_a63f_d63a88ba66afrow16_col8\" class=\"data row16 col8\" >0.024845</td>\n",
       "                        <td id=\"T_fed1975c_8f3c_11ea_a63f_d63a88ba66afrow16_col9\" class=\"data row16 col9\" >0.243469</td>\n",
       "                        <td id=\"T_fed1975c_8f3c_11ea_a63f_d63a88ba66afrow16_col10\" class=\"data row16 col10\" >0.285503</td>\n",
       "                        <td id=\"T_fed1975c_8f3c_11ea_a63f_d63a88ba66afrow16_col11\" class=\"data row16 col11\" >-0.189132</td>\n",
       "                        <td id=\"T_fed1975c_8f3c_11ea_a63f_d63a88ba66afrow16_col12\" class=\"data row16 col12\" >-0.315569</td>\n",
       "                        <td id=\"T_fed1975c_8f3c_11ea_a63f_d63a88ba66afrow16_col13\" class=\"data row16 col13\" >0.312660</td>\n",
       "                        <td id=\"T_fed1975c_8f3c_11ea_a63f_d63a88ba66afrow16_col14\" class=\"data row16 col14\" >0.256737</td>\n",
       "                        <td id=\"T_fed1975c_8f3c_11ea_a63f_d63a88ba66afrow16_col15\" class=\"data row16 col15\" >-0.335882</td>\n",
       "                        <td id=\"T_fed1975c_8f3c_11ea_a63f_d63a88ba66afrow16_col16\" class=\"data row16 col16\" >1.000000</td>\n",
       "                        <td id=\"T_fed1975c_8f3c_11ea_a63f_d63a88ba66afrow16_col17\" class=\"data row16 col17\" >0.000782</td>\n",
       "                        <td id=\"T_fed1975c_8f3c_11ea_a63f_d63a88ba66afrow16_col18\" class=\"data row16 col18\" >-0.000787</td>\n",
       "                        <td id=\"T_fed1975c_8f3c_11ea_a63f_d63a88ba66afrow16_col19\" class=\"data row16 col19\" >0.549758</td>\n",
       "                        <td id=\"T_fed1975c_8f3c_11ea_a63f_d63a88ba66afrow16_col20\" class=\"data row16 col20\" >0.003475</td>\n",
       "                        <td id=\"T_fed1975c_8f3c_11ea_a63f_d63a88ba66afrow16_col21\" class=\"data row16 col21\" >-0.011772</td>\n",
       "                        <td id=\"T_fed1975c_8f3c_11ea_a63f_d63a88ba66afrow16_col22\" class=\"data row16 col22\" >0.078291</td>\n",
       "            </tr>\n",
       "            <tr>\n",
       "                        <th id=\"T_fed1975c_8f3c_11ea_a63f_d63a88ba66aflevel0_row17\" class=\"row_heading level0 row17\" >precipitation3pm</th>\n",
       "                        <td id=\"T_fed1975c_8f3c_11ea_a63f_d63a88ba66afrow17_col0\" class=\"data row17 col0\" >0.001362</td>\n",
       "                        <td id=\"T_fed1975c_8f3c_11ea_a63f_d63a88ba66afrow17_col1\" class=\"data row17 col1\" >0.002168</td>\n",
       "                        <td id=\"T_fed1975c_8f3c_11ea_a63f_d63a88ba66afrow17_col2\" class=\"data row17 col2\" >-0.002497</td>\n",
       "                        <td id=\"T_fed1975c_8f3c_11ea_a63f_d63a88ba66afrow17_col3\" class=\"data row17 col3\" >0.001816</td>\n",
       "                        <td id=\"T_fed1975c_8f3c_11ea_a63f_d63a88ba66afrow17_col4\" class=\"data row17 col4\" >-0.003912</td>\n",
       "                        <td id=\"T_fed1975c_8f3c_11ea_a63f_d63a88ba66afrow17_col5\" class=\"data row17 col5\" >-0.000821</td>\n",
       "                        <td id=\"T_fed1975c_8f3c_11ea_a63f_d63a88ba66afrow17_col6\" class=\"data row17 col6\" >0.000557</td>\n",
       "                        <td id=\"T_fed1975c_8f3c_11ea_a63f_d63a88ba66afrow17_col7\" class=\"data row17 col7\" >0.001886</td>\n",
       "                        <td id=\"T_fed1975c_8f3c_11ea_a63f_d63a88ba66afrow17_col8\" class=\"data row17 col8\" >0.002372</td>\n",
       "                        <td id=\"T_fed1975c_8f3c_11ea_a63f_d63a88ba66afrow17_col9\" class=\"data row17 col9\" >-0.003744</td>\n",
       "                        <td id=\"T_fed1975c_8f3c_11ea_a63f_d63a88ba66afrow17_col10\" class=\"data row17 col10\" >-0.002876</td>\n",
       "                        <td id=\"T_fed1975c_8f3c_11ea_a63f_d63a88ba66afrow17_col11\" class=\"data row17 col11\" >0.001727</td>\n",
       "                        <td id=\"T_fed1975c_8f3c_11ea_a63f_d63a88ba66afrow17_col12\" class=\"data row17 col12\" >0.002265</td>\n",
       "                        <td id=\"T_fed1975c_8f3c_11ea_a63f_d63a88ba66afrow17_col13\" class=\"data row17 col13\" >-0.002034</td>\n",
       "                        <td id=\"T_fed1975c_8f3c_11ea_a63f_d63a88ba66afrow17_col14\" class=\"data row17 col14\" >-0.001491</td>\n",
       "                        <td id=\"T_fed1975c_8f3c_11ea_a63f_d63a88ba66afrow17_col15\" class=\"data row17 col15\" >0.001501</td>\n",
       "                        <td id=\"T_fed1975c_8f3c_11ea_a63f_d63a88ba66afrow17_col16\" class=\"data row17 col16\" >0.000782</td>\n",
       "                        <td id=\"T_fed1975c_8f3c_11ea_a63f_d63a88ba66afrow17_col17\" class=\"data row17 col17\" >1.000000</td>\n",
       "                        <td id=\"T_fed1975c_8f3c_11ea_a63f_d63a88ba66afrow17_col18\" class=\"data row17 col18\" >0.003420</td>\n",
       "                        <td id=\"T_fed1975c_8f3c_11ea_a63f_d63a88ba66afrow17_col19\" class=\"data row17 col19\" >0.003212</td>\n",
       "                        <td id=\"T_fed1975c_8f3c_11ea_a63f_d63a88ba66afrow17_col20\" class=\"data row17 col20\" >0.006031</td>\n",
       "                        <td id=\"T_fed1975c_8f3c_11ea_a63f_d63a88ba66afrow17_col21\" class=\"data row17 col21\" >0.001594</td>\n",
       "                        <td id=\"T_fed1975c_8f3c_11ea_a63f_d63a88ba66afrow17_col22\" class=\"data row17 col22\" >0.003058</td>\n",
       "            </tr>\n",
       "            <tr>\n",
       "                        <th id=\"T_fed1975c_8f3c_11ea_a63f_d63a88ba66aflevel0_row18\" class=\"row_heading level0 row18\" >precipitation9am</th>\n",
       "                        <td id=\"T_fed1975c_8f3c_11ea_a63f_d63a88ba66afrow18_col0\" class=\"data row18 col0\" >-0.001238</td>\n",
       "                        <td id=\"T_fed1975c_8f3c_11ea_a63f_d63a88ba66afrow18_col1\" class=\"data row18 col1\" >-0.000688</td>\n",
       "                        <td id=\"T_fed1975c_8f3c_11ea_a63f_d63a88ba66afrow18_col2\" class=\"data row18 col2\" >-0.002857</td>\n",
       "                        <td id=\"T_fed1975c_8f3c_11ea_a63f_d63a88ba66afrow18_col3\" class=\"data row18 col3\" >-0.001933</td>\n",
       "                        <td id=\"T_fed1975c_8f3c_11ea_a63f_d63a88ba66afrow18_col4\" class=\"data row18 col4\" >0.000039</td>\n",
       "                        <td id=\"T_fed1975c_8f3c_11ea_a63f_d63a88ba66afrow18_col5\" class=\"data row18 col5\" >0.002519</td>\n",
       "                        <td id=\"T_fed1975c_8f3c_11ea_a63f_d63a88ba66afrow18_col6\" class=\"data row18 col6\" >0.000396</td>\n",
       "                        <td id=\"T_fed1975c_8f3c_11ea_a63f_d63a88ba66afrow18_col7\" class=\"data row18 col7\" >0.001989</td>\n",
       "                        <td id=\"T_fed1975c_8f3c_11ea_a63f_d63a88ba66afrow18_col8\" class=\"data row18 col8\" >0.002264</td>\n",
       "                        <td id=\"T_fed1975c_8f3c_11ea_a63f_d63a88ba66afrow18_col9\" class=\"data row18 col9\" >-0.000927</td>\n",
       "                        <td id=\"T_fed1975c_8f3c_11ea_a63f_d63a88ba66afrow18_col10\" class=\"data row18 col10\" >-0.003566</td>\n",
       "                        <td id=\"T_fed1975c_8f3c_11ea_a63f_d63a88ba66afrow18_col11\" class=\"data row18 col11\" >-0.000410</td>\n",
       "                        <td id=\"T_fed1975c_8f3c_11ea_a63f_d63a88ba66afrow18_col12\" class=\"data row18 col12\" >-0.001116</td>\n",
       "                        <td id=\"T_fed1975c_8f3c_11ea_a63f_d63a88ba66afrow18_col13\" class=\"data row18 col13\" >0.001526</td>\n",
       "                        <td id=\"T_fed1975c_8f3c_11ea_a63f_d63a88ba66afrow18_col14\" class=\"data row18 col14\" >-0.002363</td>\n",
       "                        <td id=\"T_fed1975c_8f3c_11ea_a63f_d63a88ba66afrow18_col15\" class=\"data row18 col15\" >0.000042</td>\n",
       "                        <td id=\"T_fed1975c_8f3c_11ea_a63f_d63a88ba66afrow18_col16\" class=\"data row18 col16\" >-0.000787</td>\n",
       "                        <td id=\"T_fed1975c_8f3c_11ea_a63f_d63a88ba66afrow18_col17\" class=\"data row18 col17\" >0.003420</td>\n",
       "                        <td id=\"T_fed1975c_8f3c_11ea_a63f_d63a88ba66afrow18_col18\" class=\"data row18 col18\" >1.000000</td>\n",
       "                        <td id=\"T_fed1975c_8f3c_11ea_a63f_d63a88ba66afrow18_col19\" class=\"data row18 col19\" >-0.002983</td>\n",
       "                        <td id=\"T_fed1975c_8f3c_11ea_a63f_d63a88ba66afrow18_col20\" class=\"data row18 col20\" >0.001554</td>\n",
       "                        <td id=\"T_fed1975c_8f3c_11ea_a63f_d63a88ba66afrow18_col21\" class=\"data row18 col21\" >-0.000328</td>\n",
       "                        <td id=\"T_fed1975c_8f3c_11ea_a63f_d63a88ba66afrow18_col22\" class=\"data row18 col22\" >0.002224</td>\n",
       "            </tr>\n",
       "            <tr>\n",
       "                        <th id=\"T_fed1975c_8f3c_11ea_a63f_d63a88ba66aflevel0_row19\" class=\"row_heading level0 row19\" >modelo_vigente</th>\n",
       "                        <td id=\"T_fed1975c_8f3c_11ea_a63f_d63a88ba66afrow19_col0\" class=\"data row19 col0\" >0.131697</td>\n",
       "                        <td id=\"T_fed1975c_8f3c_11ea_a63f_d63a88ba66afrow19_col1\" class=\"data row19 col1\" >-0.233583</td>\n",
       "                        <td id=\"T_fed1975c_8f3c_11ea_a63f_d63a88ba66afrow19_col2\" class=\"data row19 col2\" >0.356368</td>\n",
       "                        <td id=\"T_fed1975c_8f3c_11ea_a63f_d63a88ba66afrow19_col3\" class=\"data row19 col3\" >-0.110303</td>\n",
       "                        <td id=\"T_fed1975c_8f3c_11ea_a63f_d63a88ba66afrow19_col4\" class=\"data row19 col4\" >-0.285988</td>\n",
       "                        <td id=\"T_fed1975c_8f3c_11ea_a63f_d63a88ba66afrow19_col5\" class=\"data row19 col5\" >0.351555</td>\n",
       "                        <td id=\"T_fed1975c_8f3c_11ea_a63f_d63a88ba66afrow19_col6\" class=\"data row19 col6\" >0.600339</td>\n",
       "                        <td id=\"T_fed1975c_8f3c_11ea_a63f_d63a88ba66afrow19_col7\" class=\"data row19 col7\" >-0.008552</td>\n",
       "                        <td id=\"T_fed1975c_8f3c_11ea_a63f_d63a88ba66afrow19_col8\" class=\"data row19 col8\" >-0.008704</td>\n",
       "                        <td id=\"T_fed1975c_8f3c_11ea_a63f_d63a88ba66afrow19_col9\" class=\"data row19 col9\" >0.314686</td>\n",
       "                        <td id=\"T_fed1975c_8f3c_11ea_a63f_d63a88ba66afrow19_col10\" class=\"data row19 col10\" >0.357673</td>\n",
       "                        <td id=\"T_fed1975c_8f3c_11ea_a63f_d63a88ba66afrow19_col11\" class=\"data row19 col11\" >-0.041284</td>\n",
       "                        <td id=\"T_fed1975c_8f3c_11ea_a63f_d63a88ba66afrow19_col12\" class=\"data row19 col12\" >-0.273451</td>\n",
       "                        <td id=\"T_fed1975c_8f3c_11ea_a63f_d63a88ba66afrow19_col13\" class=\"data row19 col13\" >0.469281</td>\n",
       "                        <td id=\"T_fed1975c_8f3c_11ea_a63f_d63a88ba66afrow19_col14\" class=\"data row19 col14\" >0.498879</td>\n",
       "                        <td id=\"T_fed1975c_8f3c_11ea_a63f_d63a88ba66afrow19_col15\" class=\"data row19 col15\" >-0.185638</td>\n",
       "                        <td id=\"T_fed1975c_8f3c_11ea_a63f_d63a88ba66afrow19_col16\" class=\"data row19 col16\" >0.549758</td>\n",
       "                        <td id=\"T_fed1975c_8f3c_11ea_a63f_d63a88ba66afrow19_col17\" class=\"data row19 col17\" >0.003212</td>\n",
       "                        <td id=\"T_fed1975c_8f3c_11ea_a63f_d63a88ba66afrow19_col18\" class=\"data row19 col18\" >-0.002983</td>\n",
       "                        <td id=\"T_fed1975c_8f3c_11ea_a63f_d63a88ba66afrow19_col19\" class=\"data row19 col19\" >1.000000</td>\n",
       "                        <td id=\"T_fed1975c_8f3c_11ea_a63f_d63a88ba66afrow19_col20\" class=\"data row19 col20\" >0.168666</td>\n",
       "                        <td id=\"T_fed1975c_8f3c_11ea_a63f_d63a88ba66afrow19_col21\" class=\"data row19 col21\" >0.110995</td>\n",
       "                        <td id=\"T_fed1975c_8f3c_11ea_a63f_d63a88ba66afrow19_col22\" class=\"data row19 col22\" >0.089709</td>\n",
       "            </tr>\n",
       "            <tr>\n",
       "                        <th id=\"T_fed1975c_8f3c_11ea_a63f_d63a88ba66aflevel0_row20\" class=\"row_heading level0 row20\" >windgustspeed</th>\n",
       "                        <td id=\"T_fed1975c_8f3c_11ea_a63f_d63a88ba66afrow20_col0\" class=\"data row20 col0\" >0.130381</td>\n",
       "                        <td id=\"T_fed1975c_8f3c_11ea_a63f_d63a88ba66afrow20_col1\" class=\"data row20 col1\" >0.085229</td>\n",
       "                        <td id=\"T_fed1975c_8f3c_11ea_a63f_d63a88ba66afrow20_col2\" class=\"data row20 col2\" >0.094167</td>\n",
       "                        <td id=\"T_fed1975c_8f3c_11ea_a63f_d63a88ba66afrow20_col3\" class=\"data row20 col3\" >0.127846</td>\n",
       "                        <td id=\"T_fed1975c_8f3c_11ea_a63f_d63a88ba66afrow20_col4\" class=\"data row20 col4\" >0.049586</td>\n",
       "                        <td id=\"T_fed1975c_8f3c_11ea_a63f_d63a88ba66afrow20_col5\" class=\"data row20 col5\" >-0.167890</td>\n",
       "                        <td id=\"T_fed1975c_8f3c_11ea_a63f_d63a88ba66afrow20_col6\" class=\"data row20 col6\" >-0.001323</td>\n",
       "                        <td id=\"T_fed1975c_8f3c_11ea_a63f_d63a88ba66afrow20_col7\" class=\"data row20 col7\" >0.175633</td>\n",
       "                        <td id=\"T_fed1975c_8f3c_11ea_a63f_d63a88ba66afrow20_col8\" class=\"data row20 col8\" >0.177270</td>\n",
       "                        <td id=\"T_fed1975c_8f3c_11ea_a63f_d63a88ba66afrow20_col9\" class=\"data row20 col9\" >0.005053</td>\n",
       "                        <td id=\"T_fed1975c_8f3c_11ea_a63f_d63a88ba66afrow20_col10\" class=\"data row20 col10\" >0.056200</td>\n",
       "                        <td id=\"T_fed1975c_8f3c_11ea_a63f_d63a88ba66afrow20_col11\" class=\"data row20 col11\" >0.121758</td>\n",
       "                        <td id=\"T_fed1975c_8f3c_11ea_a63f_d63a88ba66afrow20_col12\" class=\"data row20 col12\" >0.113040</td>\n",
       "                        <td id=\"T_fed1975c_8f3c_11ea_a63f_d63a88ba66afrow20_col13\" class=\"data row20 col13\" >0.105933</td>\n",
       "                        <td id=\"T_fed1975c_8f3c_11ea_a63f_d63a88ba66afrow20_col14\" class=\"data row20 col14\" >0.117074</td>\n",
       "                        <td id=\"T_fed1975c_8f3c_11ea_a63f_d63a88ba66afrow20_col15\" class=\"data row20 col15\" >0.069927</td>\n",
       "                        <td id=\"T_fed1975c_8f3c_11ea_a63f_d63a88ba66afrow20_col16\" class=\"data row20 col16\" >0.003475</td>\n",
       "                        <td id=\"T_fed1975c_8f3c_11ea_a63f_d63a88ba66afrow20_col17\" class=\"data row20 col17\" >0.006031</td>\n",
       "                        <td id=\"T_fed1975c_8f3c_11ea_a63f_d63a88ba66afrow20_col18\" class=\"data row20 col18\" >0.001554</td>\n",
       "                        <td id=\"T_fed1975c_8f3c_11ea_a63f_d63a88ba66afrow20_col19\" class=\"data row20 col19\" >0.168666</td>\n",
       "                        <td id=\"T_fed1975c_8f3c_11ea_a63f_d63a88ba66afrow20_col20\" class=\"data row20 col20\" >1.000000</td>\n",
       "                        <td id=\"T_fed1975c_8f3c_11ea_a63f_d63a88ba66afrow20_col21\" class=\"data row20 col21\" >0.527075</td>\n",
       "                        <td id=\"T_fed1975c_8f3c_11ea_a63f_d63a88ba66afrow20_col22\" class=\"data row20 col22\" >0.608283</td>\n",
       "            </tr>\n",
       "            <tr>\n",
       "                        <th id=\"T_fed1975c_8f3c_11ea_a63f_d63a88ba66aflevel0_row21\" class=\"row_heading level0 row21\" >windspeed9am</th>\n",
       "                        <td id=\"T_fed1975c_8f3c_11ea_a63f_d63a88ba66afrow21_col0\" class=\"data row21 col0\" >0.181565</td>\n",
       "                        <td id=\"T_fed1975c_8f3c_11ea_a63f_d63a88ba66afrow21_col1\" class=\"data row21 col1\" >0.021062</td>\n",
       "                        <td id=\"T_fed1975c_8f3c_11ea_a63f_d63a88ba66afrow21_col2\" class=\"data row21 col2\" >0.084768</td>\n",
       "                        <td id=\"T_fed1975c_8f3c_11ea_a63f_d63a88ba66afrow21_col3\" class=\"data row21 col3\" >0.169056</td>\n",
       "                        <td id=\"T_fed1975c_8f3c_11ea_a63f_d63a88ba66afrow21_col4\" class=\"data row21 col4\" >0.102530</td>\n",
       "                        <td id=\"T_fed1975c_8f3c_11ea_a63f_d63a88ba66afrow21_col5\" class=\"data row21 col5\" >-0.224094</td>\n",
       "                        <td id=\"T_fed1975c_8f3c_11ea_a63f_d63a88ba66afrow21_col6\" class=\"data row21 col6\" >-0.013411</td>\n",
       "                        <td id=\"T_fed1975c_8f3c_11ea_a63f_d63a88ba66afrow21_col7\" class=\"data row21 col7\" >0.132073</td>\n",
       "                        <td id=\"T_fed1975c_8f3c_11ea_a63f_d63a88ba66afrow21_col8\" class=\"data row21 col8\" >0.130537</td>\n",
       "                        <td id=\"T_fed1975c_8f3c_11ea_a63f_d63a88ba66afrow21_col9\" class=\"data row21 col9\" >0.101592</td>\n",
       "                        <td id=\"T_fed1975c_8f3c_11ea_a63f_d63a88ba66afrow21_col10\" class=\"data row21 col10\" >0.119961</td>\n",
       "                        <td id=\"T_fed1975c_8f3c_11ea_a63f_d63a88ba66afrow21_col11\" class=\"data row21 col11\" >0.137988</td>\n",
       "                        <td id=\"T_fed1975c_8f3c_11ea_a63f_d63a88ba66afrow21_col12\" class=\"data row21 col12\" >0.023547</td>\n",
       "                        <td id=\"T_fed1975c_8f3c_11ea_a63f_d63a88ba66afrow21_col13\" class=\"data row21 col13\" >0.101081</td>\n",
       "                        <td id=\"T_fed1975c_8f3c_11ea_a63f_d63a88ba66afrow21_col14\" class=\"data row21 col14\" >0.066521</td>\n",
       "                        <td id=\"T_fed1975c_8f3c_11ea_a63f_d63a88ba66afrow21_col15\" class=\"data row21 col15\" >0.019177</td>\n",
       "                        <td id=\"T_fed1975c_8f3c_11ea_a63f_d63a88ba66afrow21_col16\" class=\"data row21 col16\" >-0.011772</td>\n",
       "                        <td id=\"T_fed1975c_8f3c_11ea_a63f_d63a88ba66afrow21_col17\" class=\"data row21 col17\" >0.001594</td>\n",
       "                        <td id=\"T_fed1975c_8f3c_11ea_a63f_d63a88ba66afrow21_col18\" class=\"data row21 col18\" >-0.000328</td>\n",
       "                        <td id=\"T_fed1975c_8f3c_11ea_a63f_d63a88ba66afrow21_col19\" class=\"data row21 col19\" >0.110995</td>\n",
       "                        <td id=\"T_fed1975c_8f3c_11ea_a63f_d63a88ba66afrow21_col20\" class=\"data row21 col20\" >0.527075</td>\n",
       "                        <td id=\"T_fed1975c_8f3c_11ea_a63f_d63a88ba66afrow21_col21\" class=\"data row21 col21\" >1.000000</td>\n",
       "                        <td id=\"T_fed1975c_8f3c_11ea_a63f_d63a88ba66afrow21_col22\" class=\"data row21 col22\" >0.513931</td>\n",
       "            </tr>\n",
       "            <tr>\n",
       "                        <th id=\"T_fed1975c_8f3c_11ea_a63f_d63a88ba66aflevel0_row22\" class=\"row_heading level0 row22\" >windspeed3pm</th>\n",
       "                        <td id=\"T_fed1975c_8f3c_11ea_a63f_d63a88ba66afrow22_col0\" class=\"data row22 col0\" >0.173819</td>\n",
       "                        <td id=\"T_fed1975c_8f3c_11ea_a63f_d63a88ba66afrow22_col1\" class=\"data row22 col1\" >0.061310</td>\n",
       "                        <td id=\"T_fed1975c_8f3c_11ea_a63f_d63a88ba66afrow22_col2\" class=\"data row22 col2\" >0.052425</td>\n",
       "                        <td id=\"T_fed1975c_8f3c_11ea_a63f_d63a88ba66afrow22_col3\" class=\"data row22 col3\" >0.126131</td>\n",
       "                        <td id=\"T_fed1975c_8f3c_11ea_a63f_d63a88ba66afrow22_col4\" class=\"data row22 col4\" >0.124361</td>\n",
       "                        <td id=\"T_fed1975c_8f3c_11ea_a63f_d63a88ba66afrow22_col5\" class=\"data row22 col5\" >-0.116146</td>\n",
       "                        <td id=\"T_fed1975c_8f3c_11ea_a63f_d63a88ba66afrow22_col6\" class=\"data row22 col6\" >0.081109</td>\n",
       "                        <td id=\"T_fed1975c_8f3c_11ea_a63f_d63a88ba66afrow22_col7\" class=\"data row22 col7\" >0.197209</td>\n",
       "                        <td id=\"T_fed1975c_8f3c_11ea_a63f_d63a88ba66afrow22_col8\" class=\"data row22 col8\" >0.205051</td>\n",
       "                        <td id=\"T_fed1975c_8f3c_11ea_a63f_d63a88ba66afrow22_col9\" class=\"data row22 col9\" >0.085136</td>\n",
       "                        <td id=\"T_fed1975c_8f3c_11ea_a63f_d63a88ba66afrow22_col10\" class=\"data row22 col10\" >0.102157</td>\n",
       "                        <td id=\"T_fed1975c_8f3c_11ea_a63f_d63a88ba66afrow22_col11\" class=\"data row22 col11\" >0.164344</td>\n",
       "                        <td id=\"T_fed1975c_8f3c_11ea_a63f_d63a88ba66afrow22_col12\" class=\"data row22 col12\" >0.106350</td>\n",
       "                        <td id=\"T_fed1975c_8f3c_11ea_a63f_d63a88ba66afrow22_col13\" class=\"data row22 col13\" >0.072925</td>\n",
       "                        <td id=\"T_fed1975c_8f3c_11ea_a63f_d63a88ba66afrow22_col14\" class=\"data row22 col14\" >0.043727</td>\n",
       "                        <td id=\"T_fed1975c_8f3c_11ea_a63f_d63a88ba66afrow22_col15\" class=\"data row22 col15\" >0.050281</td>\n",
       "                        <td id=\"T_fed1975c_8f3c_11ea_a63f_d63a88ba66afrow22_col16\" class=\"data row22 col16\" >0.078291</td>\n",
       "                        <td id=\"T_fed1975c_8f3c_11ea_a63f_d63a88ba66afrow22_col17\" class=\"data row22 col17\" >0.003058</td>\n",
       "                        <td id=\"T_fed1975c_8f3c_11ea_a63f_d63a88ba66afrow22_col18\" class=\"data row22 col18\" >0.002224</td>\n",
       "                        <td id=\"T_fed1975c_8f3c_11ea_a63f_d63a88ba66afrow22_col19\" class=\"data row22 col19\" >0.089709</td>\n",
       "                        <td id=\"T_fed1975c_8f3c_11ea_a63f_d63a88ba66afrow22_col20\" class=\"data row22 col20\" >0.608283</td>\n",
       "                        <td id=\"T_fed1975c_8f3c_11ea_a63f_d63a88ba66afrow22_col21\" class=\"data row22 col21\" >0.513931</td>\n",
       "                        <td id=\"T_fed1975c_8f3c_11ea_a63f_d63a88ba66afrow22_col22\" class=\"data row22 col22\" >1.000000</td>\n",
       "            </tr>\n",
       "    </tbody></table>"
      ],
      "text/plain": [
       "<pandas.io.formats.style.Styler at 0x278bc10fdc8>"
      ]
     },
     "execution_count": 11,
     "metadata": {},
     "output_type": "execute_result"
    }
   ],
   "source": [
    "X.corr().style.background_gradient(cmap='coolwarm')"
   ]
  },
  {
   "cell_type": "markdown",
   "metadata": {
    "hidden": true
   },
   "source": [
    "\n",
    "**Acredita-se que tem um modelo perfeito, mas ao verificar os nomes das colunas como Amount Of Rain e Modelo Vigente, foi possível analisar que se trata de uma 'resposta', ou seja, não usaria essas colunas para modelar os dados e sim para conferir se o modelo está adequado ou não.**\n",
    "\n",
    "**É possível ver também  que no índice correlação, as duas colunas possuem 0.498879 e 0.825086, respectivamente, representando a maior parte no peso do modelo.**"
   ]
  },
  {
   "cell_type": "markdown",
   "metadata": {
    "hidden": true
   },
   "source": [
    "### Modelo Vigente\n",
    "Verificando o modelo usado para saber o quanto de acerto está tendo."
   ]
  },
  {
   "cell_type": "code",
   "execution_count": 12,
   "metadata": {
    "hidden": true
   },
   "outputs": [
    {
     "data": {
      "text/plain": [
       "LogisticRegression(C=1.0, class_weight=None, dual=False, fit_intercept=True,\n",
       "                   intercept_scaling=1, l1_ratio=None, max_iter=10000,\n",
       "                   multi_class='auto', n_jobs=None, penalty='l2',\n",
       "                   random_state=None, solver='lbfgs', tol=0.0001, verbose=0,\n",
       "                   warm_start=False)"
      ]
     },
     "execution_count": 12,
     "metadata": {},
     "output_type": "execute_result"
    }
   ],
   "source": [
    "X = df[['modelo_vigente']]\n",
    "y = df['raintomorrow']\n",
    "model = LogisticRegression(max_iter=10000)\n",
    "X_train, X_test, y_train, y_test = train_test_split(X, y, test_size=0.75, random_state=7)\n",
    "model.fit(X_train,y_train)"
   ]
  },
  {
   "cell_type": "code",
   "execution_count": 13,
   "metadata": {
    "hidden": true
   },
   "outputs": [
    {
     "data": {
      "text/plain": [
       "0.9384687514651413"
      ]
     },
     "execution_count": 13,
     "metadata": {},
     "output_type": "execute_result"
    }
   ],
   "source": [
    "model.score(X_test, y_test)"
   ]
  },
  {
   "cell_type": "code",
   "execution_count": 14,
   "metadata": {
    "hidden": true
   },
   "outputs": [
    {
     "name": "stdout",
     "output_type": "stream",
     "text": [
      "Taxa de acerto: 0.8899562531006179\n",
      "Taxa de captura: 0.8272060364703416\n"
     ]
    }
   ],
   "source": [
    "print('Taxa de acerto:', + precision_score(y_test, model.predict(X_test)))\n",
    "print('Taxa de captura:', + recall_score(y_test, model.predict(X_test)))"
   ]
  },
  {
   "cell_type": "markdown",
   "metadata": {
    "hidden": true
   },
   "source": [
    "### Amount Of Rain\n",
    "Verificando o quão esta coluna inferfere ou não no modelo."
   ]
  },
  {
   "cell_type": "code",
   "execution_count": 15,
   "metadata": {
    "hidden": true
   },
   "outputs": [
    {
     "data": {
      "text/plain": [
       "LogisticRegression(C=1.0, class_weight=None, dual=False, fit_intercept=True,\n",
       "                   intercept_scaling=1, l1_ratio=None, max_iter=10000,\n",
       "                   multi_class='auto', n_jobs=None, penalty='l2',\n",
       "                   random_state=None, solver='lbfgs', tol=0.0001, verbose=0,\n",
       "                   warm_start=False)"
      ]
     },
     "execution_count": 15,
     "metadata": {},
     "output_type": "execute_result"
    }
   ],
   "source": [
    "X = df[['amountOfRain']]\n",
    "y = df['raintomorrow']\n",
    "model = LogisticRegression(max_iter=10000)\n",
    "X_train, X_test, y_train, y_test = train_test_split(X, y, test_size=0.75, random_state=7)\n",
    "model.fit(X_train,y_train)"
   ]
  },
  {
   "cell_type": "code",
   "execution_count": 16,
   "metadata": {
    "hidden": true
   },
   "outputs": [
    {
     "data": {
      "text/plain": [
       "0.9999343616672136"
      ]
     },
     "execution_count": 16,
     "metadata": {},
     "output_type": "execute_result"
    }
   ],
   "source": [
    "model.score(X_test, y_test)"
   ]
  },
  {
   "cell_type": "code",
   "execution_count": 17,
   "metadata": {
    "hidden": true
   },
   "outputs": [
    {
     "name": "stdout",
     "output_type": "stream",
     "text": [
      "Taxa de acerto: 1.0\n",
      "Taxa de captura: 0.9997065604695032\n"
     ]
    }
   ],
   "source": [
    "print('Taxa de acerto:', + precision_score(y_test, model.predict(X_test)))\n",
    "print('Taxa de captura:', + recall_score(y_test, model.predict(X_test)))"
   ]
  },
  {
   "cell_type": "markdown",
   "metadata": {
    "heading_collapsed": true
   },
   "source": [
    "## Baseline"
   ]
  },
  {
   "cell_type": "markdown",
   "metadata": {
    "hidden": true
   },
   "source": [
    "Com o insight anterior, retirei as duas colunas para que possa ter um baseline do modelo."
   ]
  },
  {
   "cell_type": "code",
   "execution_count": 18,
   "metadata": {
    "hidden": true
   },
   "outputs": [
    {
     "data": {
      "text/plain": [
       "LogisticRegression(C=1.0, class_weight=None, dual=False, fit_intercept=True,\n",
       "                   intercept_scaling=1, l1_ratio=None, max_iter=10000,\n",
       "                   multi_class='auto', n_jobs=None, penalty='l2',\n",
       "                   random_state=None, solver='lbfgs', tol=0.0001, verbose=0,\n",
       "                   warm_start=False)"
      ]
     },
     "execution_count": 18,
     "metadata": {},
     "output_type": "execute_result"
    }
   ],
   "source": [
    "X = df[['mintemp', 'maxtemp', 'rainfall', 'evaporation', 'sunshine',\n",
    "       'humidity9am', 'humidity3pm', 'pressure9am', 'pressure3pm', 'cloud9am',\n",
    "       'cloud3pm', 'temp9am', 'temp3pm', 'raintoday', \n",
    "       'temp', 'humidity', 'precipitation3pm',\n",
    "       'precipitation9am', 'windgustspeed',\n",
    "       'windspeed9am', 'windspeed3pm']]\n",
    "y = df['raintomorrow']\n",
    "model = LogisticRegression(max_iter=10000)\n",
    "X_train, X_test, y_train, y_test = train_test_split(X, y, test_size=0.75, random_state=7)\n",
    "model.fit(X_train,y_train)"
   ]
  },
  {
   "cell_type": "code",
   "execution_count": 19,
   "metadata": {
    "hidden": true
   },
   "outputs": [
    {
     "data": {
      "text/plain": [
       "0.8339350180505415"
      ]
     },
     "execution_count": 19,
     "metadata": {},
     "output_type": "execute_result"
    }
   ],
   "source": [
    "model.score(X_test, y_test)"
   ]
  },
  {
   "cell_type": "code",
   "execution_count": 20,
   "metadata": {
    "hidden": true
   },
   "outputs": [
    {
     "name": "stdout",
     "output_type": "stream",
     "text": [
      "Taxa de acerto: 0.706860566888844\n",
      "Taxa de captura: 0.4401173758121987\n"
     ]
    }
   ],
   "source": [
    "print('Taxa de acerto:', + precision_score(y_test, model.predict(X_test)))\n",
    "print('Taxa de captura:', + recall_score(y_test, model.predict(X_test)))"
   ]
  },
  {
   "cell_type": "markdown",
   "metadata": {
    "hidden": true
   },
   "source": [
    "**Como a taxa de captura é baixa, o objetivo foi estabelecido em: permanecer com a taxa de acerto e aumentar a taxa de captura (aumentar a taxa de certeza se vai chover ou não).**"
   ]
  },
  {
   "cell_type": "code",
   "execution_count": 21,
   "metadata": {
    "hidden": true
   },
   "outputs": [
    {
     "data": {
      "image/png": "[encoded data removed]",
      "text/plain": [
       "<Figure size 432x288 with 2 Axes>"
      ]
     },
     "metadata": {
      "needs_background": "light"
     },
     "output_type": "display_data"
    }
   ],
   "source": [
    "plot_confusion_matrix(model, X_test, y_test, values_format='.0f')\n",
    "plt.grid(False)"
   ]
  },
  {
   "cell_type": "code",
   "execution_count": 22,
   "metadata": {
    "hidden": true,
    "scrolled": false
   },
   "outputs": [
    {
     "data": {
      "image/png": "[encoded data removed]",
      "text/plain": [
       "<Figure size 432x288 with 1 Axes>"
      ]
     },
     "metadata": {
      "needs_background": "light"
     },
     "output_type": "display_data"
    }
   ],
   "source": [
    "sns.countplot(y)\n",
    "plt.show()"
   ]
  },
  {
   "cell_type": "markdown",
   "metadata": {
    "hidden": true
   },
   "source": [
    "**Ao plotar a matriz de confusão, podemos ver que a quantidade de dias que chovem estão desproporcional, e plotando a quantidade um ao lado do outro, foi possível identificar melhor que a quantidade dos dias que choveram é bem menor do que a quantidade de dias que não choveram.**\n",
    "\n",
    "**Então terá que balancear a quantidade de dias.**"
   ]
  },
  {
   "cell_type": "markdown",
   "metadata": {},
   "source": [
    "# Tratamento e modelagem\n"
   ]
  },
  {
   "cell_type": "markdown",
   "metadata": {
    "heading_collapsed": true
   },
   "source": [
    "## DataFrame"
   ]
  },
  {
   "cell_type": "code",
   "execution_count": 23,
   "metadata": {
    "hidden": true
   },
   "outputs": [],
   "source": [
    "df = rain.merge(wind, on=['date','location'], how='left').drop_duplicates().reset_index().drop(columns=['index'])"
   ]
  },
  {
   "cell_type": "markdown",
   "metadata": {
    "hidden": true
   },
   "source": [
    "**O que não foi feito/usado na modelagem do baseline:**\n",
    "1. Balanceamento do DataFrame.\n",
    "2. Utilização das colunas Date, Location, Direção dos ventos.\n",
    "3. Standardização dos dados (colocar todas as variáveis em uma escala).\n",
    "4. Melhor utilização dos valores missings."
   ]
  },
  {
   "cell_type": "markdown",
   "metadata": {
    "heading_collapsed": true
   },
   "source": [
    "## Datetime (month)\n",
    "Colocando os dados dos meses."
   ]
  },
  {
   "cell_type": "code",
   "execution_count": 24,
   "metadata": {
    "hidden": true
   },
   "outputs": [
    {
     "name": "stderr",
     "output_type": "stream",
     "text": [
      "  0%|          | 0/142193 [00:00<?, ?it/s]C:\\Users\\yukar\\Anaconda3\\lib\\site-packages\\ipykernel_launcher.py:4: SettingWithCopyWarning: \n",
      "A value is trying to be set on a copy of a slice from a DataFrame\n",
      "\n",
      "See the caveats in the documentation: https://pandas.pydata.org/pandas-docs/stable/user_guide/indexing.html#returning-a-view-versus-a-copy\n",
      "  after removing the cwd from sys.path.\n",
      "100%|██████████| 142193/142193 [00:20<00:00, 6850.29it/s]\n"
     ]
    }
   ],
   "source": [
    "df['month'] = 0\n",
    "for item in tqdm(range(0,142193)):\n",
    "    date = datetime.strptime(df['date'][item],\"%Y-%m-%d\").date()\n",
    "    df['month'][item] = date.month"
   ]
  },
  {
   "cell_type": "markdown",
   "metadata": {
    "hidden": true
   },
   "source": [
    "Dropando a coluna pois não vamos utilizar mais, já que a transformação para obter o mês foi feito."
   ]
  },
  {
   "cell_type": "code",
   "execution_count": 25,
   "metadata": {
    "hidden": true
   },
   "outputs": [],
   "source": [
    "df = df.drop(columns=['date'])"
   ]
  },
  {
   "cell_type": "markdown",
   "metadata": {
    "heading_collapsed": true
   },
   "source": [
    "## Geolocation\n",
    "Transformar a cidade em geolocalização."
   ]
  },
  {
   "cell_type": "markdown",
   "metadata": {
    "hidden": true
   },
   "source": [
    "### Tratar nomes\n",
    "Como os nomes estão sem espaço, adicionar espaço para que o código funcione"
   ]
  },
  {
   "cell_type": "code",
   "execution_count": 26,
   "metadata": {
    "hidden": true
   },
   "outputs": [
    {
     "data": {
      "text/plain": [
       "array(['Albury', 'BadgerysCreek', 'Cobar', 'CoffsHarbour', 'Moree',\n",
       "       'Newcastle', 'NorahHead', 'NorfolkIsland', 'Penrith', 'Richmond',\n",
       "       'Sydney', 'SydneyAirport', 'WaggaWagga', 'Williamtown',\n",
       "       'Wollongong', 'Canberra', 'Tuggeranong', 'MountGinini', 'Ballarat',\n",
       "       'Bendigo', 'Sale', 'MelbourneAirport', 'Melbourne', 'Mildura',\n",
       "       'Nhil', 'Portland', 'Watsonia', 'Dartmoor', 'Brisbane', 'Cairns',\n",
       "       'GoldCoast', 'Townsville', 'Adelaide', 'MountGambier', 'Nuriootpa',\n",
       "       'Woomera', 'Albany', 'Witchcliffe', 'PearceRAAF', 'PerthAirport',\n",
       "       'Perth', 'SalmonGums', 'Walpole', 'Hobart', 'Launceston',\n",
       "       'AliceSprings', 'Darwin', 'Katherine', 'Uluru'], dtype=object)"
      ]
     },
     "execution_count": 26,
     "metadata": {},
     "output_type": "execute_result"
    }
   ],
   "source": [
    "df['location'].unique()"
   ]
  },
  {
   "cell_type": "code",
   "execution_count": 27,
   "metadata": {
    "hidden": true
   },
   "outputs": [],
   "source": [
    "df['location'] = df['location'].replace('NorfolkIsland', 'Norfolk Island').replace('MountGambier', 'Mount Gambier')\n",
    "df['location'] = df['location'].replace('SydneyAirport', 'Sydney Airport').replace('MountGinini', 'Mount Ginini')\n",
    "df['location'] = df['location'].replace('PerthAirport', 'Perth Airport').replace('AliceSprings', 'Alice Springs')\n",
    "df['location'] = df['location'].replace('NorahHead', 'Norah Head').replace('WaggaWagga', 'Wagga Wagga')\n",
    "df['location'] = df['location'].replace('BadgerysCreek', 'Badgerys Creek').replace('PearceRAAF', 'Pearce RAAF')\n",
    "df['location'] = df['location'].replace('GoldCoast', 'Gold Coast').replace('SalmonGums', 'Salmon Gums')\n",
    "df['location'] = df['location'].replace('MelbourneAirport', 'Melbourne Airport').replace('CoffsHarbour', 'Coffs Harbour')"
   ]
  },
  {
   "cell_type": "markdown",
   "metadata": {
    "hidden": true
   },
   "source": [
    "### Geolocalozação por cidade\n",
    "Como há muitas linhas, coloquei em um DataFrame diferente com todas as cidades sem duplicações para ir mais rápido."
   ]
  },
  {
   "cell_type": "code",
   "execution_count": 28,
   "metadata": {
    "hidden": true
   },
   "outputs": [],
   "source": [
    "local = df[['location']].drop_duplicates().reset_index().drop(columns=['index'])"
   ]
  },
  {
   "cell_type": "code",
   "execution_count": 29,
   "metadata": {
    "hidden": true
   },
   "outputs": [],
   "source": [
    "local['latitude'] = float(0)\n",
    "local['longitude'] = float(0)"
   ]
  },
  {
   "cell_type": "code",
   "execution_count": 30,
   "metadata": {
    "hidden": true,
    "scrolled": true
   },
   "outputs": [
    {
     "name": "stderr",
     "output_type": "stream",
     "text": [
      "C:\\Users\\yukar\\Anaconda3\\lib\\site-packages\\ipykernel_launcher.py:1: DeprecationWarning: Using Nominatim with the default \"geopy/1.21.0\" `user_agent` is strongly discouraged, as it violates Nominatim's ToS https://operations.osmfoundation.org/policies/nominatim/ and may possibly cause 403 and 429 HTTP errors. Please specify a custom `user_agent` with `Nominatim(user_agent=\"my-application\")` or by overriding the default `user_agent`: `geopy.geocoders.options.default_user_agent = \"my-application\"`. In geopy 2.0 this will become an exception.\n",
      "  \"\"\"Entry point for launching an IPython kernel.\n",
      "  0%|          | 0/49 [00:00<?, ?it/s]C:\\Users\\yukar\\Anaconda3\\lib\\site-packages\\ipykernel_launcher.py:4: SettingWithCopyWarning: \n",
      "A value is trying to be set on a copy of a slice from a DataFrame\n",
      "\n",
      "See the caveats in the documentation: https://pandas.pydata.org/pandas-docs/stable/user_guide/indexing.html#returning-a-view-versus-a-copy\n",
      "  after removing the cwd from sys.path.\n",
      "C:\\Users\\yukar\\Anaconda3\\lib\\site-packages\\ipykernel_launcher.py:5: SettingWithCopyWarning: \n",
      "A value is trying to be set on a copy of a slice from a DataFrame\n",
      "\n",
      "See the caveats in the documentation: https://pandas.pydata.org/pandas-docs/stable/user_guide/indexing.html#returning-a-view-versus-a-copy\n",
      "  \"\"\"\n",
      "100%|██████████| 49/49 [00:33<00:00,  1.49it/s]\n"
     ]
    }
   ],
   "source": [
    "geolocator = Nominatim(timeout=10)\n",
    "for item in tqdm(range(0,49)):\n",
    "    location = geolocator.geocode(local['location'][item] + ', Australia')\n",
    "    local['latitude'][item]= location.latitude\n",
    "    local['longitude'][item]=location.longitude"
   ]
  },
  {
   "cell_type": "code",
   "execution_count": 155,
   "metadata": {
    "hidden": true
   },
   "outputs": [
    {
     "data": {
      "text/html": [
       "<div>\n",
       "<style scoped>\n",
       "    .dataframe tbody tr th:only-of-type {\n",
       "        vertical-align: middle;\n",
       "    }\n",
       "\n",
       "    .dataframe tbody tr th {\n",
       "        vertical-align: top;\n",
       "    }\n",
       "\n",
       "    .dataframe thead th {\n",
       "        text-align: right;\n",
       "    }\n",
       "</style>\n",
       "<table border=\"1\" class=\"dataframe\">\n",
       "  <thead>\n",
       "    <tr style=\"text-align: right;\">\n",
       "      <th></th>\n",
       "      <th>location</th>\n",
       "      <th>latitude</th>\n",
       "      <th>longitude</th>\n",
       "    </tr>\n",
       "  </thead>\n",
       "  <tbody>\n",
       "    <tr>\n",
       "      <th>0</th>\n",
       "      <td>Albury</td>\n",
       "      <td>-36.080477</td>\n",
       "      <td>146.916280</td>\n",
       "    </tr>\n",
       "    <tr>\n",
       "      <th>1</th>\n",
       "      <td>Badgerys Creek</td>\n",
       "      <td>-35.834879</td>\n",
       "      <td>149.995766</td>\n",
       "    </tr>\n",
       "    <tr>\n",
       "      <th>2</th>\n",
       "      <td>Cobar</td>\n",
       "      <td>-31.498333</td>\n",
       "      <td>145.834444</td>\n",
       "    </tr>\n",
       "    <tr>\n",
       "      <th>3</th>\n",
       "      <td>Coffs Harbour</td>\n",
       "      <td>-30.296241</td>\n",
       "      <td>153.113529</td>\n",
       "    </tr>\n",
       "    <tr>\n",
       "      <th>4</th>\n",
       "      <td>Moree</td>\n",
       "      <td>-29.461720</td>\n",
       "      <td>149.840715</td>\n",
       "    </tr>\n",
       "    <tr>\n",
       "      <th>5</th>\n",
       "      <td>Newcastle</td>\n",
       "      <td>-32.927288</td>\n",
       "      <td>151.781253</td>\n",
       "    </tr>\n",
       "    <tr>\n",
       "      <th>6</th>\n",
       "      <td>Norah Head</td>\n",
       "      <td>-33.281667</td>\n",
       "      <td>151.567778</td>\n",
       "    </tr>\n",
       "    <tr>\n",
       "      <th>7</th>\n",
       "      <td>Norfolk Island</td>\n",
       "      <td>-29.032804</td>\n",
       "      <td>167.948314</td>\n",
       "    </tr>\n",
       "    <tr>\n",
       "      <th>8</th>\n",
       "      <td>Penrith</td>\n",
       "      <td>-33.751079</td>\n",
       "      <td>150.694168</td>\n",
       "    </tr>\n",
       "    <tr>\n",
       "      <th>9</th>\n",
       "      <td>Richmond</td>\n",
       "      <td>-37.820395</td>\n",
       "      <td>145.002515</td>\n",
       "    </tr>\n",
       "    <tr>\n",
       "      <th>10</th>\n",
       "      <td>Sydney</td>\n",
       "      <td>-33.854816</td>\n",
       "      <td>151.216454</td>\n",
       "    </tr>\n",
       "    <tr>\n",
       "      <th>11</th>\n",
       "      <td>Sydney Airport</td>\n",
       "      <td>-33.949894</td>\n",
       "      <td>151.181968</td>\n",
       "    </tr>\n",
       "    <tr>\n",
       "      <th>12</th>\n",
       "      <td>Wagga Wagga</td>\n",
       "      <td>-35.115000</td>\n",
       "      <td>147.367778</td>\n",
       "    </tr>\n",
       "    <tr>\n",
       "      <th>13</th>\n",
       "      <td>Williamtown</td>\n",
       "      <td>-32.815000</td>\n",
       "      <td>151.842778</td>\n",
       "    </tr>\n",
       "    <tr>\n",
       "      <th>14</th>\n",
       "      <td>Wollongong</td>\n",
       "      <td>-34.424394</td>\n",
       "      <td>150.893850</td>\n",
       "    </tr>\n",
       "    <tr>\n",
       "      <th>15</th>\n",
       "      <td>Canberra</td>\n",
       "      <td>-35.297591</td>\n",
       "      <td>149.101268</td>\n",
       "    </tr>\n",
       "    <tr>\n",
       "      <th>16</th>\n",
       "      <td>Tuggeranong</td>\n",
       "      <td>-35.420977</td>\n",
       "      <td>149.092134</td>\n",
       "    </tr>\n",
       "    <tr>\n",
       "      <th>17</th>\n",
       "      <td>Mount Ginini</td>\n",
       "      <td>-35.529720</td>\n",
       "      <td>148.772635</td>\n",
       "    </tr>\n",
       "    <tr>\n",
       "      <th>18</th>\n",
       "      <td>Ballarat</td>\n",
       "      <td>-37.562263</td>\n",
       "      <td>143.860722</td>\n",
       "    </tr>\n",
       "    <tr>\n",
       "      <th>19</th>\n",
       "      <td>Bendigo</td>\n",
       "      <td>-36.758877</td>\n",
       "      <td>144.282593</td>\n",
       "    </tr>\n",
       "    <tr>\n",
       "      <th>20</th>\n",
       "      <td>Sale</td>\n",
       "      <td>-38.106605</td>\n",
       "      <td>147.067945</td>\n",
       "    </tr>\n",
       "    <tr>\n",
       "      <th>21</th>\n",
       "      <td>Melbourne Airport</td>\n",
       "      <td>-37.667111</td>\n",
       "      <td>144.833481</td>\n",
       "    </tr>\n",
       "    <tr>\n",
       "      <th>22</th>\n",
       "      <td>Melbourne</td>\n",
       "      <td>-37.814218</td>\n",
       "      <td>144.963161</td>\n",
       "    </tr>\n",
       "    <tr>\n",
       "      <th>23</th>\n",
       "      <td>Mildura</td>\n",
       "      <td>-34.184726</td>\n",
       "      <td>142.162497</td>\n",
       "    </tr>\n",
       "    <tr>\n",
       "      <th>24</th>\n",
       "      <td>Nhil</td>\n",
       "      <td>-35.432528</td>\n",
       "      <td>141.283319</td>\n",
       "    </tr>\n",
       "    <tr>\n",
       "      <th>25</th>\n",
       "      <td>Portland</td>\n",
       "      <td>-38.363435</td>\n",
       "      <td>141.605606</td>\n",
       "    </tr>\n",
       "    <tr>\n",
       "      <th>26</th>\n",
       "      <td>Watsonia</td>\n",
       "      <td>-37.711002</td>\n",
       "      <td>145.083635</td>\n",
       "    </tr>\n",
       "    <tr>\n",
       "      <th>27</th>\n",
       "      <td>Dartmoor</td>\n",
       "      <td>-37.922544</td>\n",
       "      <td>141.276655</td>\n",
       "    </tr>\n",
       "    <tr>\n",
       "      <th>28</th>\n",
       "      <td>Brisbane</td>\n",
       "      <td>-27.468968</td>\n",
       "      <td>153.023499</td>\n",
       "    </tr>\n",
       "    <tr>\n",
       "      <th>29</th>\n",
       "      <td>Cairns</td>\n",
       "      <td>-16.920666</td>\n",
       "      <td>145.772185</td>\n",
       "    </tr>\n",
       "    <tr>\n",
       "      <th>30</th>\n",
       "      <td>Gold Coast</td>\n",
       "      <td>-28.002373</td>\n",
       "      <td>153.414599</td>\n",
       "    </tr>\n",
       "    <tr>\n",
       "      <th>31</th>\n",
       "      <td>Townsville</td>\n",
       "      <td>-19.256939</td>\n",
       "      <td>146.823954</td>\n",
       "    </tr>\n",
       "    <tr>\n",
       "      <th>32</th>\n",
       "      <td>Adelaide</td>\n",
       "      <td>-34.928181</td>\n",
       "      <td>138.599931</td>\n",
       "    </tr>\n",
       "    <tr>\n",
       "      <th>33</th>\n",
       "      <td>Mount Gambier</td>\n",
       "      <td>-37.824670</td>\n",
       "      <td>140.782007</td>\n",
       "    </tr>\n",
       "    <tr>\n",
       "      <th>34</th>\n",
       "      <td>Nuriootpa</td>\n",
       "      <td>-34.469335</td>\n",
       "      <td>138.993901</td>\n",
       "    </tr>\n",
       "    <tr>\n",
       "      <th>35</th>\n",
       "      <td>Woomera</td>\n",
       "      <td>-31.199914</td>\n",
       "      <td>136.825353</td>\n",
       "    </tr>\n",
       "    <tr>\n",
       "      <th>36</th>\n",
       "      <td>Albany</td>\n",
       "      <td>-35.024782</td>\n",
       "      <td>117.883608</td>\n",
       "    </tr>\n",
       "    <tr>\n",
       "      <th>37</th>\n",
       "      <td>Witchcliffe</td>\n",
       "      <td>-34.026335</td>\n",
       "      <td>115.100477</td>\n",
       "    </tr>\n",
       "    <tr>\n",
       "      <th>38</th>\n",
       "      <td>Pearce RAAF</td>\n",
       "      <td>-31.673960</td>\n",
       "      <td>116.017544</td>\n",
       "    </tr>\n",
       "    <tr>\n",
       "      <th>39</th>\n",
       "      <td>Perth Airport</td>\n",
       "      <td>-31.943122</td>\n",
       "      <td>115.966806</td>\n",
       "    </tr>\n",
       "    <tr>\n",
       "      <th>40</th>\n",
       "      <td>Perth</td>\n",
       "      <td>-31.952712</td>\n",
       "      <td>115.860480</td>\n",
       "    </tr>\n",
       "    <tr>\n",
       "      <th>41</th>\n",
       "      <td>Salmon Gums</td>\n",
       "      <td>-32.981535</td>\n",
       "      <td>121.643942</td>\n",
       "    </tr>\n",
       "    <tr>\n",
       "      <th>42</th>\n",
       "      <td>Walpole</td>\n",
       "      <td>-34.977680</td>\n",
       "      <td>116.731006</td>\n",
       "    </tr>\n",
       "    <tr>\n",
       "      <th>43</th>\n",
       "      <td>Hobart</td>\n",
       "      <td>-42.882509</td>\n",
       "      <td>147.328123</td>\n",
       "    </tr>\n",
       "    <tr>\n",
       "      <th>44</th>\n",
       "      <td>Launceston</td>\n",
       "      <td>-41.434081</td>\n",
       "      <td>147.137350</td>\n",
       "    </tr>\n",
       "    <tr>\n",
       "      <th>45</th>\n",
       "      <td>Alice Springs</td>\n",
       "      <td>-23.698388</td>\n",
       "      <td>133.881289</td>\n",
       "    </tr>\n",
       "    <tr>\n",
       "      <th>46</th>\n",
       "      <td>Darwin</td>\n",
       "      <td>-12.460440</td>\n",
       "      <td>130.841047</td>\n",
       "    </tr>\n",
       "    <tr>\n",
       "      <th>47</th>\n",
       "      <td>Katherine</td>\n",
       "      <td>-14.464231</td>\n",
       "      <td>132.263857</td>\n",
       "    </tr>\n",
       "    <tr>\n",
       "      <th>48</th>\n",
       "      <td>Uluru</td>\n",
       "      <td>-25.345554</td>\n",
       "      <td>131.036961</td>\n",
       "    </tr>\n",
       "  </tbody>\n",
       "</table>\n",
       "</div>"
      ],
      "text/plain": [
       "             location   latitude   longitude\n",
       "0              Albury -36.080477  146.916280\n",
       "1      Badgerys Creek -35.834879  149.995766\n",
       "2               Cobar -31.498333  145.834444\n",
       "3       Coffs Harbour -30.296241  153.113529\n",
       "4               Moree -29.461720  149.840715\n",
       "5           Newcastle -32.927288  151.781253\n",
       "6          Norah Head -33.281667  151.567778\n",
       "7      Norfolk Island -29.032804  167.948314\n",
       "8             Penrith -33.751079  150.694168\n",
       "9            Richmond -37.820395  145.002515\n",
       "10             Sydney -33.854816  151.216454\n",
       "11     Sydney Airport -33.949894  151.181968\n",
       "12        Wagga Wagga -35.115000  147.367778\n",
       "13        Williamtown -32.815000  151.842778\n",
       "14         Wollongong -34.424394  150.893850\n",
       "15           Canberra -35.297591  149.101268\n",
       "16        Tuggeranong -35.420977  149.092134\n",
       "17       Mount Ginini -35.529720  148.772635\n",
       "18           Ballarat -37.562263  143.860722\n",
       "19            Bendigo -36.758877  144.282593\n",
       "20               Sale -38.106605  147.067945\n",
       "21  Melbourne Airport -37.667111  144.833481\n",
       "22          Melbourne -37.814218  144.963161\n",
       "23            Mildura -34.184726  142.162497\n",
       "24               Nhil -35.432528  141.283319\n",
       "25           Portland -38.363435  141.605606\n",
       "26           Watsonia -37.711002  145.083635\n",
       "27           Dartmoor -37.922544  141.276655\n",
       "28           Brisbane -27.468968  153.023499\n",
       "29             Cairns -16.920666  145.772185\n",
       "30         Gold Coast -28.002373  153.414599\n",
       "31         Townsville -19.256939  146.823954\n",
       "32           Adelaide -34.928181  138.599931\n",
       "33      Mount Gambier -37.824670  140.782007\n",
       "34          Nuriootpa -34.469335  138.993901\n",
       "35            Woomera -31.199914  136.825353\n",
       "36             Albany -35.024782  117.883608\n",
       "37        Witchcliffe -34.026335  115.100477\n",
       "38        Pearce RAAF -31.673960  116.017544\n",
       "39      Perth Airport -31.943122  115.966806\n",
       "40              Perth -31.952712  115.860480\n",
       "41        Salmon Gums -32.981535  121.643942\n",
       "42            Walpole -34.977680  116.731006\n",
       "43             Hobart -42.882509  147.328123\n",
       "44         Launceston -41.434081  147.137350\n",
       "45      Alice Springs -23.698388  133.881289\n",
       "46             Darwin -12.460440  130.841047\n",
       "47          Katherine -14.464231  132.263857\n",
       "48              Uluru -25.345554  131.036961"
      ]
     },
     "execution_count": 155,
     "metadata": {},
     "output_type": "execute_result"
    }
   ],
   "source": [
    "local"
   ]
  },
  {
   "cell_type": "markdown",
   "metadata": {
    "hidden": true
   },
   "source": [
    "### DataFrame original\n",
    "Como as cidades foram obtidas em outro DataFrame, é necessário inserir a latitude e a longitude no DataFrame original."
   ]
  },
  {
   "cell_type": "code",
   "execution_count": 31,
   "metadata": {
    "hidden": true
   },
   "outputs": [],
   "source": [
    "df = df.merge(local, on=['location'], how='left')"
   ]
  },
  {
   "cell_type": "code",
   "execution_count": 32,
   "metadata": {
    "hidden": true,
    "scrolled": true
   },
   "outputs": [
    {
     "data": {
      "text/html": [
       "<div>\n",
       "<style scoped>\n",
       "    .dataframe tbody tr th:only-of-type {\n",
       "        vertical-align: middle;\n",
       "    }\n",
       "\n",
       "    .dataframe tbody tr th {\n",
       "        vertical-align: top;\n",
       "    }\n",
       "\n",
       "    .dataframe thead th {\n",
       "        text-align: right;\n",
       "    }\n",
       "</style>\n",
       "<table border=\"1\" class=\"dataframe\">\n",
       "  <thead>\n",
       "    <tr style=\"text-align: right;\">\n",
       "      <th></th>\n",
       "      <th>location</th>\n",
       "      <th>mintemp</th>\n",
       "      <th>maxtemp</th>\n",
       "      <th>rainfall</th>\n",
       "      <th>evaporation</th>\n",
       "      <th>sunshine</th>\n",
       "      <th>humidity9am</th>\n",
       "      <th>humidity3pm</th>\n",
       "      <th>pressure9am</th>\n",
       "      <th>pressure3pm</th>\n",
       "      <th>cloud9am</th>\n",
       "      <th>cloud3pm</th>\n",
       "      <th>temp9am</th>\n",
       "      <th>...</th>\n",
       "      <th>humidity</th>\n",
       "      <th>precipitation3pm</th>\n",
       "      <th>precipitation9am</th>\n",
       "      <th>modelo_vigente</th>\n",
       "      <th>windgustdir</th>\n",
       "      <th>windgustspeed</th>\n",
       "      <th>winddir9am</th>\n",
       "      <th>winddir3pm</th>\n",
       "      <th>windspeed9am</th>\n",
       "      <th>windspeed3pm</th>\n",
       "      <th>month</th>\n",
       "      <th>latitude</th>\n",
       "      <th>longitude</th>\n",
       "    </tr>\n",
       "  </thead>\n",
       "  <tbody>\n",
       "    <tr>\n",
       "      <th>0</th>\n",
       "      <td>Albury</td>\n",
       "      <td>13.4</td>\n",
       "      <td>22.9</td>\n",
       "      <td>0.6</td>\n",
       "      <td>NaN</td>\n",
       "      <td>NaN</td>\n",
       "      <td>71.0</td>\n",
       "      <td>22.0</td>\n",
       "      <td>1007.7</td>\n",
       "      <td>1007.1</td>\n",
       "      <td>8.0</td>\n",
       "      <td>NaN</td>\n",
       "      <td>16.9</td>\n",
       "      <td>...</td>\n",
       "      <td>28.400000</td>\n",
       "      <td>12</td>\n",
       "      <td>5.115360</td>\n",
       "      <td>0.089825</td>\n",
       "      <td>W</td>\n",
       "      <td>44.0</td>\n",
       "      <td>W</td>\n",
       "      <td>WNW</td>\n",
       "      <td>20.0</td>\n",
       "      <td>24.0</td>\n",
       "      <td>12</td>\n",
       "      <td>-36.080477</td>\n",
       "      <td>146.91628</td>\n",
       "    </tr>\n",
       "    <tr>\n",
       "      <th>1</th>\n",
       "      <td>Albury</td>\n",
       "      <td>7.4</td>\n",
       "      <td>25.1</td>\n",
       "      <td>0.0</td>\n",
       "      <td>NaN</td>\n",
       "      <td>NaN</td>\n",
       "      <td>44.0</td>\n",
       "      <td>25.0</td>\n",
       "      <td>1010.6</td>\n",
       "      <td>1007.8</td>\n",
       "      <td>NaN</td>\n",
       "      <td>NaN</td>\n",
       "      <td>17.2</td>\n",
       "      <td>...</td>\n",
       "      <td>2.208569</td>\n",
       "      <td>10</td>\n",
       "      <td>21.497100</td>\n",
       "      <td>0.023477</td>\n",
       "      <td>WNW</td>\n",
       "      <td>44.0</td>\n",
       "      <td>NNW</td>\n",
       "      <td>WSW</td>\n",
       "      <td>4.0</td>\n",
       "      <td>22.0</td>\n",
       "      <td>12</td>\n",
       "      <td>-36.080477</td>\n",
       "      <td>146.91628</td>\n",
       "    </tr>\n",
       "    <tr>\n",
       "      <th>2</th>\n",
       "      <td>Albury</td>\n",
       "      <td>12.9</td>\n",
       "      <td>25.7</td>\n",
       "      <td>0.0</td>\n",
       "      <td>NaN</td>\n",
       "      <td>NaN</td>\n",
       "      <td>38.0</td>\n",
       "      <td>30.0</td>\n",
       "      <td>1007.6</td>\n",
       "      <td>1008.7</td>\n",
       "      <td>NaN</td>\n",
       "      <td>2.0</td>\n",
       "      <td>21.0</td>\n",
       "      <td>...</td>\n",
       "      <td>38.000000</td>\n",
       "      <td>17</td>\n",
       "      <td>20.782859</td>\n",
       "      <td>0.027580</td>\n",
       "      <td>WSW</td>\n",
       "      <td>46.0</td>\n",
       "      <td>W</td>\n",
       "      <td>WSW</td>\n",
       "      <td>19.0</td>\n",
       "      <td>26.0</td>\n",
       "      <td>12</td>\n",
       "      <td>-36.080477</td>\n",
       "      <td>146.91628</td>\n",
       "    </tr>\n",
       "    <tr>\n",
       "      <th>3</th>\n",
       "      <td>Albury</td>\n",
       "      <td>9.2</td>\n",
       "      <td>28.0</td>\n",
       "      <td>0.0</td>\n",
       "      <td>NaN</td>\n",
       "      <td>NaN</td>\n",
       "      <td>45.0</td>\n",
       "      <td>16.0</td>\n",
       "      <td>1017.6</td>\n",
       "      <td>1012.8</td>\n",
       "      <td>NaN</td>\n",
       "      <td>NaN</td>\n",
       "      <td>18.1</td>\n",
       "      <td>...</td>\n",
       "      <td>21.200000</td>\n",
       "      <td>8</td>\n",
       "      <td>12.028646</td>\n",
       "      <td>0.023962</td>\n",
       "      <td>NE</td>\n",
       "      <td>24.0</td>\n",
       "      <td>SE</td>\n",
       "      <td>E</td>\n",
       "      <td>11.0</td>\n",
       "      <td>9.0</td>\n",
       "      <td>12</td>\n",
       "      <td>-36.080477</td>\n",
       "      <td>146.91628</td>\n",
       "    </tr>\n",
       "    <tr>\n",
       "      <th>4</th>\n",
       "      <td>Albury</td>\n",
       "      <td>17.5</td>\n",
       "      <td>32.3</td>\n",
       "      <td>1.0</td>\n",
       "      <td>NaN</td>\n",
       "      <td>NaN</td>\n",
       "      <td>82.0</td>\n",
       "      <td>33.0</td>\n",
       "      <td>1010.8</td>\n",
       "      <td>1006.0</td>\n",
       "      <td>7.0</td>\n",
       "      <td>8.0</td>\n",
       "      <td>17.8</td>\n",
       "      <td>...</td>\n",
       "      <td>41.600000</td>\n",
       "      <td>9</td>\n",
       "      <td>11.883546</td>\n",
       "      <td>0.220164</td>\n",
       "      <td>W</td>\n",
       "      <td>41.0</td>\n",
       "      <td>ENE</td>\n",
       "      <td>NW</td>\n",
       "      <td>7.0</td>\n",
       "      <td>20.0</td>\n",
       "      <td>12</td>\n",
       "      <td>-36.080477</td>\n",
       "      <td>146.91628</td>\n",
       "    </tr>\n",
       "  </tbody>\n",
       "</table>\n",
       "<p>5 rows × 31 columns</p>\n",
       "</div>"
      ],
      "text/plain": [
       "  location  mintemp  maxtemp  rainfall  evaporation  sunshine  humidity9am  \\\n",
       "0   Albury     13.4     22.9       0.6          NaN       NaN         71.0   \n",
       "1   Albury      7.4     25.1       0.0          NaN       NaN         44.0   \n",
       "2   Albury     12.9     25.7       0.0          NaN       NaN         38.0   \n",
       "3   Albury      9.2     28.0       0.0          NaN       NaN         45.0   \n",
       "4   Albury     17.5     32.3       1.0          NaN       NaN         82.0   \n",
       "\n",
       "   humidity3pm  pressure9am  pressure3pm  cloud9am  cloud3pm  temp9am  ...  \\\n",
       "0         22.0       1007.7       1007.1       8.0       NaN     16.9  ...   \n",
       "1         25.0       1010.6       1007.8       NaN       NaN     17.2  ...   \n",
       "2         30.0       1007.6       1008.7       NaN       2.0     21.0  ...   \n",
       "3         16.0       1017.6       1012.8       NaN       NaN     18.1  ...   \n",
       "4         33.0       1010.8       1006.0       7.0       8.0     17.8  ...   \n",
       "\n",
       "    humidity  precipitation3pm  precipitation9am  modelo_vigente  windgustdir  \\\n",
       "0  28.400000                12          5.115360        0.089825            W   \n",
       "1   2.208569                10         21.497100        0.023477          WNW   \n",
       "2  38.000000                17         20.782859        0.027580          WSW   \n",
       "3  21.200000                 8         12.028646        0.023962           NE   \n",
       "4  41.600000                 9         11.883546        0.220164            W   \n",
       "\n",
       "   windgustspeed  winddir9am  winddir3pm  windspeed9am windspeed3pm  month  \\\n",
       "0           44.0           W         WNW          20.0         24.0     12   \n",
       "1           44.0         NNW         WSW           4.0         22.0     12   \n",
       "2           46.0           W         WSW          19.0         26.0     12   \n",
       "3           24.0          SE           E          11.0          9.0     12   \n",
       "4           41.0         ENE          NW           7.0         20.0     12   \n",
       "\n",
       "    latitude  longitude  \n",
       "0 -36.080477  146.91628  \n",
       "1 -36.080477  146.91628  \n",
       "2 -36.080477  146.91628  \n",
       "3 -36.080477  146.91628  \n",
       "4 -36.080477  146.91628  \n",
       "\n",
       "[5 rows x 31 columns]"
      ]
     },
     "execution_count": 32,
     "metadata": {},
     "output_type": "execute_result"
    }
   ],
   "source": [
    "df.head()"
   ]
  },
  {
   "cell_type": "markdown",
   "metadata": {
    "hidden": true
   },
   "source": [
    "Dropando a coluna 'Location' pois não vamos utilizar mais, já que a transformação para obter a geolocalização foi feito."
   ]
  },
  {
   "cell_type": "code",
   "execution_count": 33,
   "metadata": {
    "hidden": true
   },
   "outputs": [],
   "source": [
    "df = df.drop(columns=['location'])"
   ]
  },
  {
   "cell_type": "markdown",
   "metadata": {
    "heading_collapsed": true
   },
   "source": [
    "## Dummies (Wind direction)\n",
    "Como a direção do vento é uma variável categórica, coloquei em dummies para identificá-las."
   ]
  },
  {
   "cell_type": "code",
   "execution_count": 34,
   "metadata": {
    "hidden": true
   },
   "outputs": [],
   "source": [
    "pd.set_option(\"display.max_columns\", len(df.columns)) "
   ]
  },
  {
   "cell_type": "code",
   "execution_count": 35,
   "metadata": {
    "hidden": true
   },
   "outputs": [],
   "source": [
    "df = pd.get_dummies(df)"
   ]
  },
  {
   "cell_type": "code",
   "execution_count": 36,
   "metadata": {
    "hidden": true,
    "scrolled": true
   },
   "outputs": [
    {
     "data": {
      "text/html": [
       "<div>\n",
       "<style scoped>\n",
       "    .dataframe tbody tr th:only-of-type {\n",
       "        vertical-align: middle;\n",
       "    }\n",
       "\n",
       "    .dataframe tbody tr th {\n",
       "        vertical-align: top;\n",
       "    }\n",
       "\n",
       "    .dataframe thead th {\n",
       "        text-align: right;\n",
       "    }\n",
       "</style>\n",
       "<table border=\"1\" class=\"dataframe\">\n",
       "  <thead>\n",
       "    <tr style=\"text-align: right;\">\n",
       "      <th></th>\n",
       "      <th>mintemp</th>\n",
       "      <th>maxtemp</th>\n",
       "      <th>rainfall</th>\n",
       "      <th>evaporation</th>\n",
       "      <th>sunshine</th>\n",
       "      <th>humidity9am</th>\n",
       "      <th>humidity3pm</th>\n",
       "      <th>pressure9am</th>\n",
       "      <th>pressure3pm</th>\n",
       "      <th>cloud9am</th>\n",
       "      <th>cloud3pm</th>\n",
       "      <th>temp9am</th>\n",
       "      <th>temp3pm</th>\n",
       "      <th>raintoday</th>\n",
       "      <th>amountOfRain</th>\n",
       "      <th>...</th>\n",
       "      <th>winddir3pm_ENE</th>\n",
       "      <th>winddir3pm_ESE</th>\n",
       "      <th>winddir3pm_N</th>\n",
       "      <th>winddir3pm_NE</th>\n",
       "      <th>winddir3pm_NNE</th>\n",
       "      <th>winddir3pm_NNW</th>\n",
       "      <th>winddir3pm_NW</th>\n",
       "      <th>winddir3pm_S</th>\n",
       "      <th>winddir3pm_SE</th>\n",
       "      <th>winddir3pm_SSE</th>\n",
       "      <th>winddir3pm_SSW</th>\n",
       "      <th>winddir3pm_SW</th>\n",
       "      <th>winddir3pm_W</th>\n",
       "      <th>winddir3pm_WNW</th>\n",
       "      <th>winddir3pm_WSW</th>\n",
       "    </tr>\n",
       "  </thead>\n",
       "  <tbody>\n",
       "    <tr>\n",
       "      <th>0</th>\n",
       "      <td>13.4</td>\n",
       "      <td>22.9</td>\n",
       "      <td>0.6</td>\n",
       "      <td>NaN</td>\n",
       "      <td>NaN</td>\n",
       "      <td>71.0</td>\n",
       "      <td>22.0</td>\n",
       "      <td>1007.7</td>\n",
       "      <td>1007.1</td>\n",
       "      <td>8.0</td>\n",
       "      <td>NaN</td>\n",
       "      <td>16.9</td>\n",
       "      <td>21.8</td>\n",
       "      <td>0.0</td>\n",
       "      <td>0.0</td>\n",
       "      <td>...</td>\n",
       "      <td>0</td>\n",
       "      <td>0</td>\n",
       "      <td>0</td>\n",
       "      <td>0</td>\n",
       "      <td>0</td>\n",
       "      <td>0</td>\n",
       "      <td>0</td>\n",
       "      <td>0</td>\n",
       "      <td>0</td>\n",
       "      <td>0</td>\n",
       "      <td>0</td>\n",
       "      <td>0</td>\n",
       "      <td>0</td>\n",
       "      <td>1</td>\n",
       "      <td>0</td>\n",
       "    </tr>\n",
       "    <tr>\n",
       "      <th>1</th>\n",
       "      <td>7.4</td>\n",
       "      <td>25.1</td>\n",
       "      <td>0.0</td>\n",
       "      <td>NaN</td>\n",
       "      <td>NaN</td>\n",
       "      <td>44.0</td>\n",
       "      <td>25.0</td>\n",
       "      <td>1010.6</td>\n",
       "      <td>1007.8</td>\n",
       "      <td>NaN</td>\n",
       "      <td>NaN</td>\n",
       "      <td>17.2</td>\n",
       "      <td>24.3</td>\n",
       "      <td>0.0</td>\n",
       "      <td>0.0</td>\n",
       "      <td>...</td>\n",
       "      <td>0</td>\n",
       "      <td>0</td>\n",
       "      <td>0</td>\n",
       "      <td>0</td>\n",
       "      <td>0</td>\n",
       "      <td>0</td>\n",
       "      <td>0</td>\n",
       "      <td>0</td>\n",
       "      <td>0</td>\n",
       "      <td>0</td>\n",
       "      <td>0</td>\n",
       "      <td>0</td>\n",
       "      <td>0</td>\n",
       "      <td>0</td>\n",
       "      <td>1</td>\n",
       "    </tr>\n",
       "    <tr>\n",
       "      <th>2</th>\n",
       "      <td>12.9</td>\n",
       "      <td>25.7</td>\n",
       "      <td>0.0</td>\n",
       "      <td>NaN</td>\n",
       "      <td>NaN</td>\n",
       "      <td>38.0</td>\n",
       "      <td>30.0</td>\n",
       "      <td>1007.6</td>\n",
       "      <td>1008.7</td>\n",
       "      <td>NaN</td>\n",
       "      <td>2.0</td>\n",
       "      <td>21.0</td>\n",
       "      <td>23.2</td>\n",
       "      <td>0.0</td>\n",
       "      <td>0.0</td>\n",
       "      <td>...</td>\n",
       "      <td>0</td>\n",
       "      <td>0</td>\n",
       "      <td>0</td>\n",
       "      <td>0</td>\n",
       "      <td>0</td>\n",
       "      <td>0</td>\n",
       "      <td>0</td>\n",
       "      <td>0</td>\n",
       "      <td>0</td>\n",
       "      <td>0</td>\n",
       "      <td>0</td>\n",
       "      <td>0</td>\n",
       "      <td>0</td>\n",
       "      <td>0</td>\n",
       "      <td>1</td>\n",
       "    </tr>\n",
       "    <tr>\n",
       "      <th>3</th>\n",
       "      <td>9.2</td>\n",
       "      <td>28.0</td>\n",
       "      <td>0.0</td>\n",
       "      <td>NaN</td>\n",
       "      <td>NaN</td>\n",
       "      <td>45.0</td>\n",
       "      <td>16.0</td>\n",
       "      <td>1017.6</td>\n",
       "      <td>1012.8</td>\n",
       "      <td>NaN</td>\n",
       "      <td>NaN</td>\n",
       "      <td>18.1</td>\n",
       "      <td>26.5</td>\n",
       "      <td>0.0</td>\n",
       "      <td>1.0</td>\n",
       "      <td>...</td>\n",
       "      <td>0</td>\n",
       "      <td>0</td>\n",
       "      <td>0</td>\n",
       "      <td>0</td>\n",
       "      <td>0</td>\n",
       "      <td>0</td>\n",
       "      <td>0</td>\n",
       "      <td>0</td>\n",
       "      <td>0</td>\n",
       "      <td>0</td>\n",
       "      <td>0</td>\n",
       "      <td>0</td>\n",
       "      <td>0</td>\n",
       "      <td>0</td>\n",
       "      <td>0</td>\n",
       "    </tr>\n",
       "    <tr>\n",
       "      <th>4</th>\n",
       "      <td>17.5</td>\n",
       "      <td>32.3</td>\n",
       "      <td>1.0</td>\n",
       "      <td>NaN</td>\n",
       "      <td>NaN</td>\n",
       "      <td>82.0</td>\n",
       "      <td>33.0</td>\n",
       "      <td>1010.8</td>\n",
       "      <td>1006.0</td>\n",
       "      <td>7.0</td>\n",
       "      <td>8.0</td>\n",
       "      <td>17.8</td>\n",
       "      <td>29.7</td>\n",
       "      <td>0.0</td>\n",
       "      <td>0.2</td>\n",
       "      <td>...</td>\n",
       "      <td>0</td>\n",
       "      <td>0</td>\n",
       "      <td>0</td>\n",
       "      <td>0</td>\n",
       "      <td>0</td>\n",
       "      <td>0</td>\n",
       "      <td>1</td>\n",
       "      <td>0</td>\n",
       "      <td>0</td>\n",
       "      <td>0</td>\n",
       "      <td>0</td>\n",
       "      <td>0</td>\n",
       "      <td>0</td>\n",
       "      <td>0</td>\n",
       "      <td>0</td>\n",
       "    </tr>\n",
       "  </tbody>\n",
       "</table>\n",
       "<p>5 rows × 75 columns</p>\n",
       "</div>"
      ],
      "text/plain": [
       "   mintemp  maxtemp  rainfall  evaporation  sunshine  humidity9am  \\\n",
       "0     13.4     22.9       0.6          NaN       NaN         71.0   \n",
       "1      7.4     25.1       0.0          NaN       NaN         44.0   \n",
       "2     12.9     25.7       0.0          NaN       NaN         38.0   \n",
       "3      9.2     28.0       0.0          NaN       NaN         45.0   \n",
       "4     17.5     32.3       1.0          NaN       NaN         82.0   \n",
       "\n",
       "   humidity3pm  pressure9am  pressure3pm  cloud9am  cloud3pm  temp9am  \\\n",
       "0         22.0       1007.7       1007.1       8.0       NaN     16.9   \n",
       "1         25.0       1010.6       1007.8       NaN       NaN     17.2   \n",
       "2         30.0       1007.6       1008.7       NaN       2.0     21.0   \n",
       "3         16.0       1017.6       1012.8       NaN       NaN     18.1   \n",
       "4         33.0       1010.8       1006.0       7.0       8.0     17.8   \n",
       "\n",
       "   temp3pm  raintoday  amountOfRain  ...  winddir3pm_ENE  winddir3pm_ESE  \\\n",
       "0     21.8        0.0           0.0  ...               0               0   \n",
       "1     24.3        0.0           0.0  ...               0               0   \n",
       "2     23.2        0.0           0.0  ...               0               0   \n",
       "3     26.5        0.0           1.0  ...               0               0   \n",
       "4     29.7        0.0           0.2  ...               0               0   \n",
       "\n",
       "   winddir3pm_N  winddir3pm_NE  winddir3pm_NNE  winddir3pm_NNW  winddir3pm_NW  \\\n",
       "0             0              0               0               0              0   \n",
       "1             0              0               0               0              0   \n",
       "2             0              0               0               0              0   \n",
       "3             0              0               0               0              0   \n",
       "4             0              0               0               0              1   \n",
       "\n",
       "   winddir3pm_S  winddir3pm_SE  winddir3pm_SSE  winddir3pm_SSW  winddir3pm_SW  \\\n",
       "0             0              0               0               0              0   \n",
       "1             0              0               0               0              0   \n",
       "2             0              0               0               0              0   \n",
       "3             0              0               0               0              0   \n",
       "4             0              0               0               0              0   \n",
       "\n",
       "   winddir3pm_W  winddir3pm_WNW  winddir3pm_WSW  \n",
       "0             0               1               0  \n",
       "1             0               0               1  \n",
       "2             0               0               1  \n",
       "3             0               0               0  \n",
       "4             0               0               0  \n",
       "\n",
       "[5 rows x 75 columns]"
      ]
     },
     "execution_count": 36,
     "metadata": {},
     "output_type": "execute_result"
    }
   ],
   "source": [
    "df.head()"
   ]
  },
  {
   "cell_type": "code",
   "execution_count": 37,
   "metadata": {
    "hidden": true
   },
   "outputs": [],
   "source": [
    "df.to_csv('Mes_Geolocalização_Ventos.csv')"
   ]
  },
  {
   "cell_type": "markdown",
   "metadata": {
    "heading_collapsed": true
   },
   "source": [
    "## StandardScaler\n",
    "Como a escala da pressão é bem diferente da escala (unidades) da rainfall por exemplo, será necessário colocar em uma escala todo o DataFrame, exceto a coluna 'Rain Tomorrow' e o 'Modelo Vigente', que seria o parâmetro de resposta."
   ]
  },
  {
   "cell_type": "code",
   "execution_count": 38,
   "metadata": {
    "hidden": true
   },
   "outputs": [
    {
     "data": {
      "text/plain": [
       "StandardScaler(copy=True, with_mean=True, with_std=True)"
      ]
     },
     "execution_count": 38,
     "metadata": {},
     "output_type": "execute_result"
    }
   ],
   "source": [
    "X = df.drop(columns=['raintomorrow', 'modelo_vigente'])\n",
    "scaler = StandardScaler()\n",
    "scaler.fit(X)"
   ]
  },
  {
   "cell_type": "code",
   "execution_count": 39,
   "metadata": {
    "hidden": true
   },
   "outputs": [],
   "source": [
    "dfs=pd.DataFrame(scaler.transform(X), columns=X.columns, index=X.index)\n",
    "dfs['raintomorrow'] = df['raintomorrow']\n",
    "dfs['modelo_vigente'] = df['modelo_vigente']"
   ]
  },
  {
   "cell_type": "code",
   "execution_count": 40,
   "metadata": {
    "hidden": true
   },
   "outputs": [
    {
     "data": {
      "text/html": [
       "<div>\n",
       "<style scoped>\n",
       "    .dataframe tbody tr th:only-of-type {\n",
       "        vertical-align: middle;\n",
       "    }\n",
       "\n",
       "    .dataframe tbody tr th {\n",
       "        vertical-align: top;\n",
       "    }\n",
       "\n",
       "    .dataframe thead th {\n",
       "        text-align: right;\n",
       "    }\n",
       "</style>\n",
       "<table border=\"1\" class=\"dataframe\">\n",
       "  <thead>\n",
       "    <tr style=\"text-align: right;\">\n",
       "      <th></th>\n",
       "      <th>mintemp</th>\n",
       "      <th>maxtemp</th>\n",
       "      <th>rainfall</th>\n",
       "      <th>evaporation</th>\n",
       "      <th>sunshine</th>\n",
       "      <th>humidity9am</th>\n",
       "      <th>humidity3pm</th>\n",
       "      <th>pressure9am</th>\n",
       "      <th>pressure3pm</th>\n",
       "      <th>cloud9am</th>\n",
       "      <th>cloud3pm</th>\n",
       "      <th>temp9am</th>\n",
       "      <th>temp3pm</th>\n",
       "      <th>raintoday</th>\n",
       "      <th>amountOfRain</th>\n",
       "      <th>...</th>\n",
       "      <th>winddir3pm_N</th>\n",
       "      <th>winddir3pm_NE</th>\n",
       "      <th>winddir3pm_NNE</th>\n",
       "      <th>winddir3pm_NNW</th>\n",
       "      <th>winddir3pm_NW</th>\n",
       "      <th>winddir3pm_S</th>\n",
       "      <th>winddir3pm_SE</th>\n",
       "      <th>winddir3pm_SSE</th>\n",
       "      <th>winddir3pm_SSW</th>\n",
       "      <th>winddir3pm_SW</th>\n",
       "      <th>winddir3pm_W</th>\n",
       "      <th>winddir3pm_WNW</th>\n",
       "      <th>winddir3pm_WSW</th>\n",
       "      <th>raintomorrow</th>\n",
       "      <th>modelo_vigente</th>\n",
       "    </tr>\n",
       "  </thead>\n",
       "  <tbody>\n",
       "    <tr>\n",
       "      <th>0</th>\n",
       "      <td>0.189528</td>\n",
       "      <td>-0.045912</td>\n",
       "      <td>-0.206727</td>\n",
       "      <td>NaN</td>\n",
       "      <td>NaN</td>\n",
       "      <td>0.113179</td>\n",
       "      <td>-1.417590</td>\n",
       "      <td>-1.400863</td>\n",
       "      <td>-1.159388</td>\n",
       "      <td>1.234088</td>\n",
       "      <td>NaN</td>\n",
       "      <td>-0.013478</td>\n",
       "      <td>0.016254</td>\n",
       "      <td>-0.536378</td>\n",
       "      <td>-0.278450</td>\n",
       "      <td>...</td>\n",
       "      <td>-0.254772</td>\n",
       "      <td>-0.246804</td>\n",
       "      <td>-0.217876</td>\n",
       "      <td>-0.239816</td>\n",
       "      <td>-0.251643</td>\n",
       "      <td>-0.269046</td>\n",
       "      <td>-0.284726</td>\n",
       "      <td>-0.262127</td>\n",
       "      <td>-0.244325</td>\n",
       "      <td>-0.262739</td>\n",
       "      <td>-0.273721</td>\n",
       "      <td>3.927735</td>\n",
       "      <td>-0.264980</td>\n",
       "      <td>0</td>\n",
       "      <td>0.089825</td>\n",
       "    </tr>\n",
       "    <tr>\n",
       "      <th>1</th>\n",
       "      <td>-0.747494</td>\n",
       "      <td>0.263181</td>\n",
       "      <td>-0.277606</td>\n",
       "      <td>NaN</td>\n",
       "      <td>NaN</td>\n",
       "      <td>-1.304053</td>\n",
       "      <td>-1.273343</td>\n",
       "      <td>-0.992725</td>\n",
       "      <td>-1.059908</td>\n",
       "      <td>NaN</td>\n",
       "      <td>NaN</td>\n",
       "      <td>0.032727</td>\n",
       "      <td>0.376611</td>\n",
       "      <td>-0.536378</td>\n",
       "      <td>-0.278450</td>\n",
       "      <td>...</td>\n",
       "      <td>-0.254772</td>\n",
       "      <td>-0.246804</td>\n",
       "      <td>-0.217876</td>\n",
       "      <td>-0.239816</td>\n",
       "      <td>-0.251643</td>\n",
       "      <td>-0.269046</td>\n",
       "      <td>-0.284726</td>\n",
       "      <td>-0.262127</td>\n",
       "      <td>-0.244325</td>\n",
       "      <td>-0.262739</td>\n",
       "      <td>-0.273721</td>\n",
       "      <td>-0.254600</td>\n",
       "      <td>3.773863</td>\n",
       "      <td>0</td>\n",
       "      <td>0.023477</td>\n",
       "    </tr>\n",
       "    <tr>\n",
       "      <th>2</th>\n",
       "      <td>0.111443</td>\n",
       "      <td>0.347479</td>\n",
       "      <td>-0.277606</td>\n",
       "      <td>NaN</td>\n",
       "      <td>NaN</td>\n",
       "      <td>-1.618994</td>\n",
       "      <td>-1.032932</td>\n",
       "      <td>-1.414937</td>\n",
       "      <td>-0.932007</td>\n",
       "      <td>NaN</td>\n",
       "      <td>-0.920073</td>\n",
       "      <td>0.617989</td>\n",
       "      <td>0.218054</td>\n",
       "      <td>-0.536378</td>\n",
       "      <td>-0.278450</td>\n",
       "      <td>...</td>\n",
       "      <td>-0.254772</td>\n",
       "      <td>-0.246804</td>\n",
       "      <td>-0.217876</td>\n",
       "      <td>-0.239816</td>\n",
       "      <td>-0.251643</td>\n",
       "      <td>-0.269046</td>\n",
       "      <td>-0.284726</td>\n",
       "      <td>-0.262127</td>\n",
       "      <td>-0.244325</td>\n",
       "      <td>-0.262739</td>\n",
       "      <td>-0.273721</td>\n",
       "      <td>-0.254600</td>\n",
       "      <td>3.773863</td>\n",
       "      <td>0</td>\n",
       "      <td>0.027580</td>\n",
       "    </tr>\n",
       "    <tr>\n",
       "      <th>3</th>\n",
       "      <td>-0.466387</td>\n",
       "      <td>0.670622</td>\n",
       "      <td>-0.277606</td>\n",
       "      <td>NaN</td>\n",
       "      <td>NaN</td>\n",
       "      <td>-1.251563</td>\n",
       "      <td>-1.706083</td>\n",
       "      <td>-0.007566</td>\n",
       "      <td>-0.349343</td>\n",
       "      <td>NaN</td>\n",
       "      <td>NaN</td>\n",
       "      <td>0.171342</td>\n",
       "      <td>0.693725</td>\n",
       "      <td>-0.536378</td>\n",
       "      <td>-0.160497</td>\n",
       "      <td>...</td>\n",
       "      <td>-0.254772</td>\n",
       "      <td>-0.246804</td>\n",
       "      <td>-0.217876</td>\n",
       "      <td>-0.239816</td>\n",
       "      <td>-0.251643</td>\n",
       "      <td>-0.269046</td>\n",
       "      <td>-0.284726</td>\n",
       "      <td>-0.262127</td>\n",
       "      <td>-0.244325</td>\n",
       "      <td>-0.262739</td>\n",
       "      <td>-0.273721</td>\n",
       "      <td>-0.254600</td>\n",
       "      <td>-0.264980</td>\n",
       "      <td>0</td>\n",
       "      <td>0.023962</td>\n",
       "    </tr>\n",
       "    <tr>\n",
       "      <th>4</th>\n",
       "      <td>0.829827</td>\n",
       "      <td>1.274759</td>\n",
       "      <td>-0.159474</td>\n",
       "      <td>NaN</td>\n",
       "      <td>NaN</td>\n",
       "      <td>0.690569</td>\n",
       "      <td>-0.888685</td>\n",
       "      <td>-0.964578</td>\n",
       "      <td>-1.315712</td>\n",
       "      <td>0.887707</td>\n",
       "      <td>1.285309</td>\n",
       "      <td>0.125137</td>\n",
       "      <td>1.154982</td>\n",
       "      <td>-0.536378</td>\n",
       "      <td>-0.254859</td>\n",
       "      <td>...</td>\n",
       "      <td>-0.254772</td>\n",
       "      <td>-0.246804</td>\n",
       "      <td>-0.217876</td>\n",
       "      <td>-0.239816</td>\n",
       "      <td>3.973890</td>\n",
       "      <td>-0.269046</td>\n",
       "      <td>-0.284726</td>\n",
       "      <td>-0.262127</td>\n",
       "      <td>-0.244325</td>\n",
       "      <td>-0.262739</td>\n",
       "      <td>-0.273721</td>\n",
       "      <td>-0.254600</td>\n",
       "      <td>-0.264980</td>\n",
       "      <td>0</td>\n",
       "      <td>0.220164</td>\n",
       "    </tr>\n",
       "    <tr>\n",
       "      <th>...</th>\n",
       "      <td>...</td>\n",
       "      <td>...</td>\n",
       "      <td>...</td>\n",
       "      <td>...</td>\n",
       "      <td>...</td>\n",
       "      <td>...</td>\n",
       "      <td>...</td>\n",
       "      <td>...</td>\n",
       "      <td>...</td>\n",
       "      <td>...</td>\n",
       "      <td>...</td>\n",
       "      <td>...</td>\n",
       "      <td>...</td>\n",
       "      <td>...</td>\n",
       "      <td>...</td>\n",
       "      <td>...</td>\n",
       "      <td>...</td>\n",
       "      <td>...</td>\n",
       "      <td>...</td>\n",
       "      <td>...</td>\n",
       "      <td>...</td>\n",
       "      <td>...</td>\n",
       "      <td>...</td>\n",
       "      <td>...</td>\n",
       "      <td>...</td>\n",
       "      <td>...</td>\n",
       "      <td>...</td>\n",
       "      <td>...</td>\n",
       "      <td>...</td>\n",
       "      <td>...</td>\n",
       "      <td>...</td>\n",
       "    </tr>\n",
       "    <tr>\n",
       "      <th>142188</th>\n",
       "      <td>-1.356559</td>\n",
       "      <td>-0.200459</td>\n",
       "      <td>-0.277606</td>\n",
       "      <td>NaN</td>\n",
       "      <td>NaN</td>\n",
       "      <td>-0.516702</td>\n",
       "      <td>-1.177179</td>\n",
       "      <td>0.991667</td>\n",
       "      <td>0.844407</td>\n",
       "      <td>NaN</td>\n",
       "      <td>NaN</td>\n",
       "      <td>-1.168601</td>\n",
       "      <td>-0.113474</td>\n",
       "      <td>-0.536378</td>\n",
       "      <td>-0.278450</td>\n",
       "      <td>...</td>\n",
       "      <td>-0.254772</td>\n",
       "      <td>-0.246804</td>\n",
       "      <td>-0.217876</td>\n",
       "      <td>-0.239816</td>\n",
       "      <td>-0.251643</td>\n",
       "      <td>-0.269046</td>\n",
       "      <td>-0.284726</td>\n",
       "      <td>-0.262127</td>\n",
       "      <td>-0.244325</td>\n",
       "      <td>-0.262739</td>\n",
       "      <td>-0.273721</td>\n",
       "      <td>-0.254600</td>\n",
       "      <td>-0.264980</td>\n",
       "      <td>0</td>\n",
       "      <td>0.002556</td>\n",
       "    </tr>\n",
       "    <tr>\n",
       "      <th>142189</th>\n",
       "      <td>-1.465878</td>\n",
       "      <td>0.024336</td>\n",
       "      <td>-0.277606</td>\n",
       "      <td>NaN</td>\n",
       "      <td>NaN</td>\n",
       "      <td>-0.936623</td>\n",
       "      <td>-1.321425</td>\n",
       "      <td>0.977594</td>\n",
       "      <td>0.716505</td>\n",
       "      <td>NaN</td>\n",
       "      <td>NaN</td>\n",
       "      <td>-1.060789</td>\n",
       "      <td>0.102740</td>\n",
       "      <td>-0.536378</td>\n",
       "      <td>-0.278450</td>\n",
       "      <td>...</td>\n",
       "      <td>-0.254772</td>\n",
       "      <td>-0.246804</td>\n",
       "      <td>-0.217876</td>\n",
       "      <td>-0.239816</td>\n",
       "      <td>-0.251643</td>\n",
       "      <td>-0.269046</td>\n",
       "      <td>-0.284726</td>\n",
       "      <td>-0.262127</td>\n",
       "      <td>-0.244325</td>\n",
       "      <td>-0.262739</td>\n",
       "      <td>-0.273721</td>\n",
       "      <td>-0.254600</td>\n",
       "      <td>-0.264980</td>\n",
       "      <td>0</td>\n",
       "      <td>0.002053</td>\n",
       "    </tr>\n",
       "    <tr>\n",
       "      <th>142190</th>\n",
       "      <td>-1.340942</td>\n",
       "      <td>0.291280</td>\n",
       "      <td>-0.277606</td>\n",
       "      <td>NaN</td>\n",
       "      <td>NaN</td>\n",
       "      <td>-0.674172</td>\n",
       "      <td>-1.465672</td>\n",
       "      <td>0.822783</td>\n",
       "      <td>0.545970</td>\n",
       "      <td>NaN</td>\n",
       "      <td>NaN</td>\n",
       "      <td>-0.937576</td>\n",
       "      <td>0.405440</td>\n",
       "      <td>-0.536378</td>\n",
       "      <td>-0.278450</td>\n",
       "      <td>...</td>\n",
       "      <td>3.925080</td>\n",
       "      <td>-0.246804</td>\n",
       "      <td>-0.217876</td>\n",
       "      <td>-0.239816</td>\n",
       "      <td>-0.251643</td>\n",
       "      <td>-0.269046</td>\n",
       "      <td>-0.284726</td>\n",
       "      <td>-0.262127</td>\n",
       "      <td>-0.244325</td>\n",
       "      <td>-0.262739</td>\n",
       "      <td>-0.273721</td>\n",
       "      <td>-0.254600</td>\n",
       "      <td>-0.264980</td>\n",
       "      <td>0</td>\n",
       "      <td>0.023350</td>\n",
       "    </tr>\n",
       "    <tr>\n",
       "      <th>142191</th>\n",
       "      <td>-1.059835</td>\n",
       "      <td>0.516076</td>\n",
       "      <td>-0.277606</td>\n",
       "      <td>NaN</td>\n",
       "      <td>NaN</td>\n",
       "      <td>-0.831643</td>\n",
       "      <td>-1.321425</td>\n",
       "      <td>0.470940</td>\n",
       "      <td>0.219109</td>\n",
       "      <td>NaN</td>\n",
       "      <td>NaN</td>\n",
       "      <td>-0.691150</td>\n",
       "      <td>0.636068</td>\n",
       "      <td>-0.536378</td>\n",
       "      <td>-0.278450</td>\n",
       "      <td>...</td>\n",
       "      <td>-0.254772</td>\n",
       "      <td>-0.246804</td>\n",
       "      <td>-0.217876</td>\n",
       "      <td>-0.239816</td>\n",
       "      <td>-0.251643</td>\n",
       "      <td>-0.269046</td>\n",
       "      <td>-0.284726</td>\n",
       "      <td>-0.262127</td>\n",
       "      <td>-0.244325</td>\n",
       "      <td>-0.262739</td>\n",
       "      <td>-0.273721</td>\n",
       "      <td>3.927735</td>\n",
       "      <td>-0.264980</td>\n",
       "      <td>0</td>\n",
       "      <td>0.007195</td>\n",
       "    </tr>\n",
       "    <tr>\n",
       "      <th>142192</th>\n",
       "      <td>-0.685026</td>\n",
       "      <td>0.530125</td>\n",
       "      <td>-0.277606</td>\n",
       "      <td>NaN</td>\n",
       "      <td>NaN</td>\n",
       "      <td>-0.936623</td>\n",
       "      <td>-1.321425</td>\n",
       "      <td>0.245761</td>\n",
       "      <td>0.176476</td>\n",
       "      <td>-0.497814</td>\n",
       "      <td>-0.920073</td>\n",
       "      <td>-0.290707</td>\n",
       "      <td>0.621654</td>\n",
       "      <td>-0.536378</td>\n",
       "      <td>-0.278450</td>\n",
       "      <td>...</td>\n",
       "      <td>3.925080</td>\n",
       "      <td>-0.246804</td>\n",
       "      <td>-0.217876</td>\n",
       "      <td>-0.239816</td>\n",
       "      <td>-0.251643</td>\n",
       "      <td>-0.269046</td>\n",
       "      <td>-0.284726</td>\n",
       "      <td>-0.262127</td>\n",
       "      <td>-0.244325</td>\n",
       "      <td>-0.262739</td>\n",
       "      <td>-0.273721</td>\n",
       "      <td>-0.254600</td>\n",
       "      <td>-0.264980</td>\n",
       "      <td>0</td>\n",
       "      <td>0.018811</td>\n",
       "    </tr>\n",
       "  </tbody>\n",
       "</table>\n",
       "<p>142193 rows × 75 columns</p>\n",
       "</div>"
      ],
      "text/plain": [
       "         mintemp   maxtemp  rainfall  evaporation  sunshine  humidity9am  \\\n",
       "0       0.189528 -0.045912 -0.206727          NaN       NaN     0.113179   \n",
       "1      -0.747494  0.263181 -0.277606          NaN       NaN    -1.304053   \n",
       "2       0.111443  0.347479 -0.277606          NaN       NaN    -1.618994   \n",
       "3      -0.466387  0.670622 -0.277606          NaN       NaN    -1.251563   \n",
       "4       0.829827  1.274759 -0.159474          NaN       NaN     0.690569   \n",
       "...          ...       ...       ...          ...       ...          ...   \n",
       "142188 -1.356559 -0.200459 -0.277606          NaN       NaN    -0.516702   \n",
       "142189 -1.465878  0.024336 -0.277606          NaN       NaN    -0.936623   \n",
       "142190 -1.340942  0.291280 -0.277606          NaN       NaN    -0.674172   \n",
       "142191 -1.059835  0.516076 -0.277606          NaN       NaN    -0.831643   \n",
       "142192 -0.685026  0.530125 -0.277606          NaN       NaN    -0.936623   \n",
       "\n",
       "        humidity3pm  pressure9am  pressure3pm  cloud9am  cloud3pm   temp9am  \\\n",
       "0         -1.417590    -1.400863    -1.159388  1.234088       NaN -0.013478   \n",
       "1         -1.273343    -0.992725    -1.059908       NaN       NaN  0.032727   \n",
       "2         -1.032932    -1.414937    -0.932007       NaN -0.920073  0.617989   \n",
       "3         -1.706083    -0.007566    -0.349343       NaN       NaN  0.171342   \n",
       "4         -0.888685    -0.964578    -1.315712  0.887707  1.285309  0.125137   \n",
       "...             ...          ...          ...       ...       ...       ...   \n",
       "142188    -1.177179     0.991667     0.844407       NaN       NaN -1.168601   \n",
       "142189    -1.321425     0.977594     0.716505       NaN       NaN -1.060789   \n",
       "142190    -1.465672     0.822783     0.545970       NaN       NaN -0.937576   \n",
       "142191    -1.321425     0.470940     0.219109       NaN       NaN -0.691150   \n",
       "142192    -1.321425     0.245761     0.176476 -0.497814 -0.920073 -0.290707   \n",
       "\n",
       "         temp3pm  raintoday  amountOfRain  ...  winddir3pm_N  winddir3pm_NE  \\\n",
       "0       0.016254  -0.536378     -0.278450  ...     -0.254772      -0.246804   \n",
       "1       0.376611  -0.536378     -0.278450  ...     -0.254772      -0.246804   \n",
       "2       0.218054  -0.536378     -0.278450  ...     -0.254772      -0.246804   \n",
       "3       0.693725  -0.536378     -0.160497  ...     -0.254772      -0.246804   \n",
       "4       1.154982  -0.536378     -0.254859  ...     -0.254772      -0.246804   \n",
       "...          ...        ...           ...  ...           ...            ...   \n",
       "142188 -0.113474  -0.536378     -0.278450  ...     -0.254772      -0.246804   \n",
       "142189  0.102740  -0.536378     -0.278450  ...     -0.254772      -0.246804   \n",
       "142190  0.405440  -0.536378     -0.278450  ...      3.925080      -0.246804   \n",
       "142191  0.636068  -0.536378     -0.278450  ...     -0.254772      -0.246804   \n",
       "142192  0.621654  -0.536378     -0.278450  ...      3.925080      -0.246804   \n",
       "\n",
       "        winddir3pm_NNE  winddir3pm_NNW  winddir3pm_NW  winddir3pm_S  \\\n",
       "0            -0.217876       -0.239816      -0.251643     -0.269046   \n",
       "1            -0.217876       -0.239816      -0.251643     -0.269046   \n",
       "2            -0.217876       -0.239816      -0.251643     -0.269046   \n",
       "3            -0.217876       -0.239816      -0.251643     -0.269046   \n",
       "4            -0.217876       -0.239816       3.973890     -0.269046   \n",
       "...                ...             ...            ...           ...   \n",
       "142188       -0.217876       -0.239816      -0.251643     -0.269046   \n",
       "142189       -0.217876       -0.239816      -0.251643     -0.269046   \n",
       "142190       -0.217876       -0.239816      -0.251643     -0.269046   \n",
       "142191       -0.217876       -0.239816      -0.251643     -0.269046   \n",
       "142192       -0.217876       -0.239816      -0.251643     -0.269046   \n",
       "\n",
       "        winddir3pm_SE  winddir3pm_SSE  winddir3pm_SSW  winddir3pm_SW  \\\n",
       "0           -0.284726       -0.262127       -0.244325      -0.262739   \n",
       "1           -0.284726       -0.262127       -0.244325      -0.262739   \n",
       "2           -0.284726       -0.262127       -0.244325      -0.262739   \n",
       "3           -0.284726       -0.262127       -0.244325      -0.262739   \n",
       "4           -0.284726       -0.262127       -0.244325      -0.262739   \n",
       "...               ...             ...             ...            ...   \n",
       "142188      -0.284726       -0.262127       -0.244325      -0.262739   \n",
       "142189      -0.284726       -0.262127       -0.244325      -0.262739   \n",
       "142190      -0.284726       -0.262127       -0.244325      -0.262739   \n",
       "142191      -0.284726       -0.262127       -0.244325      -0.262739   \n",
       "142192      -0.284726       -0.262127       -0.244325      -0.262739   \n",
       "\n",
       "        winddir3pm_W  winddir3pm_WNW  winddir3pm_WSW  raintomorrow  \\\n",
       "0          -0.273721        3.927735       -0.264980             0   \n",
       "1          -0.273721       -0.254600        3.773863             0   \n",
       "2          -0.273721       -0.254600        3.773863             0   \n",
       "3          -0.273721       -0.254600       -0.264980             0   \n",
       "4          -0.273721       -0.254600       -0.264980             0   \n",
       "...              ...             ...             ...           ...   \n",
       "142188     -0.273721       -0.254600       -0.264980             0   \n",
       "142189     -0.273721       -0.254600       -0.264980             0   \n",
       "142190     -0.273721       -0.254600       -0.264980             0   \n",
       "142191     -0.273721        3.927735       -0.264980             0   \n",
       "142192     -0.273721       -0.254600       -0.264980             0   \n",
       "\n",
       "        modelo_vigente  \n",
       "0             0.089825  \n",
       "1             0.023477  \n",
       "2             0.027580  \n",
       "3             0.023962  \n",
       "4             0.220164  \n",
       "...                ...  \n",
       "142188        0.002556  \n",
       "142189        0.002053  \n",
       "142190        0.023350  \n",
       "142191        0.007195  \n",
       "142192        0.018811  \n",
       "\n",
       "[142193 rows x 75 columns]"
      ]
     },
     "execution_count": 40,
     "metadata": {},
     "output_type": "execute_result"
    }
   ],
   "source": [
    "dfs"
   ]
  },
  {
   "cell_type": "markdown",
   "metadata": {
    "heading_collapsed": true
   },
   "source": [
    "## Train / Test\n",
    "**É necessário separar os dados em treino e teste, pois no treino será feito todos os tratamento para modelagem e o test será para a vida real.**"
   ]
  },
  {
   "cell_type": "code",
   "execution_count": 41,
   "metadata": {
    "hidden": true
   },
   "outputs": [],
   "source": [
    "X = dfs.drop(columns=['raintomorrow'])\n",
    "y = dfs['raintomorrow']"
   ]
  },
  {
   "cell_type": "code",
   "execution_count": 42,
   "metadata": {
    "hidden": true
   },
   "outputs": [],
   "source": [
    "X_train, X_test, y_train, y_test = train_test_split(X, y, test_size=0.75, random_state=7)"
   ]
  },
  {
   "cell_type": "code",
   "execution_count": 43,
   "metadata": {
    "collapsed": true,
    "hidden": true
   },
   "outputs": [
    {
     "name": "stderr",
     "output_type": "stream",
     "text": [
      "C:\\Users\\yukar\\Anaconda3\\lib\\site-packages\\ipykernel_launcher.py:2: SettingWithCopyWarning: \n",
      "A value is trying to be set on a copy of a slice from a DataFrame.\n",
      "Try using .loc[row_indexer,col_indexer] = value instead\n",
      "\n",
      "See the caveats in the documentation: https://pandas.pydata.org/pandas-docs/stable/user_guide/indexing.html#returning-a-view-versus-a-copy\n",
      "  \n",
      "C:\\Users\\yukar\\Anaconda3\\lib\\site-packages\\ipykernel_launcher.py:4: SettingWithCopyWarning: \n",
      "A value is trying to be set on a copy of a slice from a DataFrame.\n",
      "Try using .loc[row_indexer,col_indexer] = value instead\n",
      "\n",
      "See the caveats in the documentation: https://pandas.pydata.org/pandas-docs/stable/user_guide/indexing.html#returning-a-view-versus-a-copy\n",
      "  after removing the cwd from sys.path.\n"
     ]
    }
   ],
   "source": [
    "df_train = X_train\n",
    "df_train['raintomorrow'] = y_train\n",
    "df_test = X_test\n",
    "df_test['raintomorrow'] = y_test"
   ]
  },
  {
   "cell_type": "markdown",
   "metadata": {
    "heading_collapsed": true
   },
   "source": [
    "## UnderSampler\n",
    "Balancear a quantidade de dias de chuva e de sol/nublado."
   ]
  },
  {
   "cell_type": "code",
   "execution_count": 44,
   "metadata": {
    "hidden": true
   },
   "outputs": [],
   "source": [
    "X = df_train.drop(columns=['raintomorrow'])\n",
    "y = df_train['raintomorrow']"
   ]
  },
  {
   "cell_type": "code",
   "execution_count": 45,
   "metadata": {
    "hidden": true
   },
   "outputs": [],
   "source": [
    "rus = RandomUnderSampler(random_state=7)\n",
    "X_resampled, y_resampled = rus.fit_resample(X, y)"
   ]
  },
  {
   "cell_type": "code",
   "execution_count": 46,
   "metadata": {
    "hidden": true
   },
   "outputs": [
    {
     "data": {
      "text/plain": [
       "1    8022\n",
       "0    8022\n",
       "Name: raintomorrow, dtype: int64"
      ]
     },
     "execution_count": 46,
     "metadata": {},
     "output_type": "execute_result"
    }
   ],
   "source": [
    "y_resampled.value_counts()"
   ]
  },
  {
   "cell_type": "code",
   "execution_count": 47,
   "metadata": {
    "hidden": true
   },
   "outputs": [],
   "source": [
    "df_train = X_resampled\n",
    "df_train['raintomorrow'] = y_resampled"
   ]
  },
  {
   "cell_type": "markdown",
   "metadata": {},
   "source": [
    "## KNNImputer\n",
    "Inserir dados no lugar de valores missings para que não haja perdas."
   ]
  },
  {
   "cell_type": "code",
   "execution_count": 48,
   "metadata": {},
   "outputs": [
    {
     "data": {
      "text/plain": [
       "KNNImputer(add_indicator=False, copy=True, metric='nan_euclidean',\n",
       "           missing_values=nan, n_neighbors=10, weights='uniform')"
      ]
     },
     "execution_count": 48,
     "metadata": {},
     "output_type": "execute_result"
    }
   ],
   "source": [
    "imputer = KNNImputer(n_neighbors=10)\n",
    "imputer.fit(df_train)\n",
    "imputer"
   ]
  },
  {
   "cell_type": "code",
   "execution_count": 49,
   "metadata": {},
   "outputs": [],
   "source": [
    "df_train = pd.DataFrame(imputer.transform(df_train), columns=df_train.columns)"
   ]
  },
  {
   "cell_type": "code",
   "execution_count": 50,
   "metadata": {},
   "outputs": [],
   "source": [
    "df_test = pd.DataFrame(imputer.transform(df_test), columns=df_train.columns)"
   ]
  },
  {
   "cell_type": "code",
   "execution_count": 14,
   "metadata": {},
   "outputs": [],
   "source": [
    "df_train.to_csv('train.csv', compression='zip')\n",
    "df_test.to_csv('test.csv', compression='zip')"
   ]
  },
  {
   "cell_type": "code",
   "execution_count": 15,
   "metadata": {},
   "outputs": [],
   "source": [
    "df_train = pd.read_csv('train.csv', compression='zip').drop(columns=['Unnamed: 0'])\n",
    "df_test = pd.read_csv('test.csv', compression='zip').drop(columns=['Unnamed: 0'])"
   ]
  },
  {
   "cell_type": "markdown",
   "metadata": {
    "heading_collapsed": true
   },
   "source": [
    "## Logistic Regression\n",
    "Fazer a modelagem da regressão para verificar se a taxa de captura aumentou."
   ]
  },
  {
   "cell_type": "code",
   "execution_count": 53,
   "metadata": {
    "hidden": true
   },
   "outputs": [],
   "source": [
    "X_train = df_train.drop(columns=['raintomorrow', 'modelo_vigente', 'amountOfRain'])\n",
    "y_train = df_train['raintomorrow']\n",
    "\n",
    "X_test = df_test.drop(columns=['raintomorrow', 'modelo_vigente', 'amountOfRain'])\n",
    "y_test = df_test['raintomorrow']"
   ]
  },
  {
   "cell_type": "code",
   "execution_count": 54,
   "metadata": {
    "hidden": true
   },
   "outputs": [],
   "source": [
    "modelo = LogisticRegression(max_iter=10000, n_jobs=-1)"
   ]
  },
  {
   "cell_type": "code",
   "execution_count": 55,
   "metadata": {
    "hidden": true
   },
   "outputs": [
    {
     "data": {
      "text/plain": [
       "0.7931642364855361"
      ]
     },
     "execution_count": 55,
     "metadata": {},
     "output_type": "execute_result"
    }
   ],
   "source": [
    "modelo.fit(X_train, y_train)\n",
    "modelo.score(X_test, y_test)"
   ]
  },
  {
   "cell_type": "code",
   "execution_count": 56,
   "metadata": {
    "hidden": true
   },
   "outputs": [
    {
     "name": "stdout",
     "output_type": "stream",
     "text": [
      "Taxa de acerto: 0.5251617239351424\n",
      "Taxa de captura: 0.7861245022007964\n"
     ]
    }
   ],
   "source": [
    "print('Taxa de acerto:', + precision_score(y_test, modelo.predict(X_test)))\n",
    "print('Taxa de captura:', + recall_score(y_test, modelo.predict(X_test)))"
   ]
  },
  {
   "cell_type": "markdown",
   "metadata": {
    "heading_collapsed": true
   },
   "source": [
    "## LightGBM"
   ]
  },
  {
   "cell_type": "code",
   "execution_count": 57,
   "metadata": {
    "hidden": true
   },
   "outputs": [],
   "source": [
    "lgb = LGBMClassifier(max_depth=5, n_estimators=100, colsample_bytree=.7, n_jobs=-1)"
   ]
  },
  {
   "cell_type": "code",
   "execution_count": 58,
   "metadata": {
    "hidden": true
   },
   "outputs": [
    {
     "data": {
      "text/plain": [
       "0.799484270242393"
      ]
     },
     "execution_count": 58,
     "metadata": {},
     "output_type": "execute_result"
    }
   ],
   "source": [
    "lgb.fit(X_train, y_train)\n",
    "lgb.score(X_test, y_test)"
   ]
  },
  {
   "cell_type": "code",
   "execution_count": 59,
   "metadata": {
    "hidden": true,
    "scrolled": true
   },
   "outputs": [
    {
     "name": "stdout",
     "output_type": "stream",
     "text": [
      "Taxa de acerto: 0.5347177340039903\n",
      "Taxa de captura: 0.7976944036889541\n"
     ]
    }
   ],
   "source": [
    "print('Taxa de acerto:', + precision_score(y_test, lgb.predict(X_test)))\n",
    "print('Taxa de captura:', + recall_score(y_test, lgb.predict(X_test)))"
   ]
  },
  {
   "cell_type": "code",
   "execution_count": 60,
   "metadata": {
    "hidden": true
   },
   "outputs": [
    {
     "data": {
      "text/plain": [
       "array([False, False, False, ..., False, False, False])"
      ]
     },
     "execution_count": 60,
     "metadata": {},
     "output_type": "execute_result"
    }
   ],
   "source": [
    "lgb.predict_proba(X_test)[:,1] > 0.8"
   ]
  },
  {
   "cell_type": "code",
   "execution_count": 61,
   "metadata": {
    "hidden": true
   },
   "outputs": [
    {
     "name": "stdout",
     "output_type": "stream",
     "text": [
      "Taxa de acerto: 0.642797635577419\n",
      "Taxa de captura: 0.6792286732341228\n"
     ]
    }
   ],
   "source": [
    "print('Taxa de acerto:', + precision_score(y_test, lgb.predict_proba(X_test)[:,1] > 0.65))\n",
    "print('Taxa de captura:', + recall_score(y_test, lgb.predict_proba(X_test)[:,1] > 0.65))"
   ]
  },
  {
   "cell_type": "code",
   "execution_count": 62,
   "metadata": {
    "hidden": true
   },
   "outputs": [
    {
     "data": {
      "text/plain": [
       "<matplotlib.axes._subplots.AxesSubplot at 0x278bc3cff08>"
      ]
     },
     "execution_count": 62,
     "metadata": {},
     "output_type": "execute_result"
    },
    {
     "data": {
      "image/png": "[encoded data removed]",
      "text/plain": [
       "<Figure size 432x288 with 1 Axes>"
      ]
     },
     "metadata": {
      "needs_background": "light"
     },
     "output_type": "display_data"
    }
   ],
   "source": [
    "plot_importance(lgb, importance_type='gain', max_num_features=10, color='magenta')"
   ]
  },
  {
   "cell_type": "code",
   "execution_count": 63,
   "metadata": {
    "hidden": true,
    "scrolled": true
   },
   "outputs": [
    {
     "data": {
      "text/plain": [
       "<matplotlib.legend.Legend at 0x278bc40d288>"
      ]
     },
     "execution_count": 63,
     "metadata": {},
     "output_type": "execute_result"
    },
    {
     "data": {
      "image/png": "[encoded data removed]",
      "text/plain": [
       "<Figure size 432x288 with 1 Axes>"
      ]
     },
     "metadata": {
      "needs_background": "light"
     },
     "output_type": "display_data"
    }
   ],
   "source": [
    "modelo.fit(X_train, y_train)\n",
    "lgb.fit(X_train, y_train)\n",
    "\n",
    "fig, ax = plt.subplots()\n",
    "\n",
    "plot_roc_curve(modelo, X_test, y_test, name='Logistic', ax=ax)\n",
    "plot_roc_curve(lgb, X_test, y_test, name='LightGBM', ax=ax)\n",
    "\n",
    "plt.legend()"
   ]
  },
  {
   "cell_type": "markdown",
   "metadata": {
    "hidden": true
   },
   "source": [
    "Não tive muita diferença entre os dois métodos(Regressão Logística e LightGBM), mas como o LightGBM se mostrou levemente mais eficiente, prosseguirei com este método.\n",
    "Para ambos os métodos, a taxa de acerto diminuiu e a taxa de captura aumentou. Mas como o objetivo era permanecer com a taxa no nível do baseline de 0.706, a sugestão seria de agrupar em conjunto os dados para fazer a modelagem por conjunto."
   ]
  },
  {
   "cell_type": "markdown",
   "metadata": {
    "heading_collapsed": true
   },
   "source": [
    "## KMeans"
   ]
  },
  {
   "cell_type": "code",
   "execution_count": 64,
   "metadata": {
    "hidden": true,
    "scrolled": true
   },
   "outputs": [
    {
     "data": {
      "image/png": "[encoded data removed]",
      "text/plain": [
       "<Figure size 432x288 with 2 Axes>"
      ]
     },
     "metadata": {},
     "output_type": "display_data"
    },
    {
     "data": {
      "text/plain": [
       "<matplotlib.axes._subplots.AxesSubplot at 0x278bd305d48>"
      ]
     },
     "execution_count": 64,
     "metadata": {},
     "output_type": "execute_result"
    }
   ],
   "source": [
    "model = KMeans()\n",
    "visualizer = KElbowVisualizer(model, k=(1,20))\n",
    "visualizer.fit(df_train)\n",
    "visualizer.show()"
   ]
  },
  {
   "cell_type": "code",
   "execution_count": 118,
   "metadata": {
    "hidden": true
   },
   "outputs": [],
   "source": [
    "df_train = pd.read_csv('train.csv').drop(columns=['Unnamed: 0'])\n",
    "df_test = pd.read_csv('test.csv').drop(columns=['Unnamed: 0'])"
   ]
  },
  {
   "cell_type": "code",
   "execution_count": 119,
   "metadata": {
    "hidden": true
   },
   "outputs": [],
   "source": [
    "model = KMeans(n_clusters=4, n_jobs=-1)\n",
    "model.fit(df_train)\n",
    "df_train['label'] = model.predict(df_train)\n",
    "df_test['label'] = model.predict(df_test)"
   ]
  },
  {
   "cell_type": "markdown",
   "metadata": {
    "heading_collapsed": true,
    "hidden": true
   },
   "source": [
    "### Label == 0"
   ]
  },
  {
   "cell_type": "code",
   "execution_count": 120,
   "metadata": {
    "hidden": true
   },
   "outputs": [
    {
     "data": {
      "text/plain": [
       "0.7292211186617877"
      ]
     },
     "execution_count": 120,
     "metadata": {},
     "output_type": "execute_result"
    }
   ],
   "source": [
    "mask_train = df_train['label'] == 0\n",
    "X_train = df_train[mask_train].drop(columns=['raintomorrow', 'label', 'modelo_vigente', 'amountOfRain'])\n",
    "y_train = df_train[mask_train]['raintomorrow']\n",
    "\n",
    "mask_test = df_test['label'] == 0\n",
    "X_test = df_test[mask_test].drop(columns=['raintomorrow', 'label', 'modelo_vigente', 'amountOfRain'])\n",
    "y_test = df_test[mask_test]['raintomorrow']\n",
    "\n",
    "lgb = LGBMClassifier(max_depth=10, n_estimators=5000, colsample_bytree=.7, n_jobs=-1,  num_leaves=50, subsample_for_bin=100)\n",
    "lgb.fit(X_train, y_train)\n",
    "lgb.score(X_test, y_test)"
   ]
  },
  {
   "cell_type": "code",
   "execution_count": 121,
   "metadata": {
    "hidden": true
   },
   "outputs": [
    {
     "name": "stdout",
     "output_type": "stream",
     "text": [
      "Taxa de acerto: 0.7267270544581469\n",
      "Taxa de captura: 0.9872498146775389\n"
     ]
    }
   ],
   "source": [
    "print('Taxa de acerto:', + precision_score(y_test, lgb.predict(X_test)))\n",
    "print('Taxa de captura:', + recall_score(y_test, lgb.predict(X_test)))"
   ]
  },
  {
   "cell_type": "code",
   "execution_count": 122,
   "metadata": {
    "hidden": true
   },
   "outputs": [
    {
     "data": {
      "image/png": "[encoded data removed]",
      "text/plain": [
       "<Figure size 432x288 with 2 Axes>"
      ]
     },
     "metadata": {
      "needs_background": "light"
     },
     "output_type": "display_data"
    }
   ],
   "source": [
    "plot_confusion_matrix(lgb, X_test, y_test, values_format='.0f')\n",
    "plt.grid(False)"
   ]
  },
  {
   "cell_type": "code",
   "execution_count": 123,
   "metadata": {
    "hidden": true
   },
   "outputs": [
    {
     "data": {
      "text/plain": [
       "<matplotlib.axes._subplots.AxesSubplot at 0x278a897be88>"
      ]
     },
     "execution_count": 123,
     "metadata": {},
     "output_type": "execute_result"
    },
    {
     "data": {
      "image/png": "[encoded data removed]",
      "text/plain": [
       "<Figure size 432x288 with 1 Axes>"
      ]
     },
     "metadata": {
      "needs_background": "light"
     },
     "output_type": "display_data"
    }
   ],
   "source": [
    "plot_importance(lgb, importance_type='gain', max_num_features=10, color='magenta')"
   ]
  },
  {
   "cell_type": "markdown",
   "metadata": {
    "heading_collapsed": true,
    "hidden": true
   },
   "source": [
    "### Label == 1"
   ]
  },
  {
   "cell_type": "code",
   "execution_count": 124,
   "metadata": {
    "hidden": true
   },
   "outputs": [
    {
     "data": {
      "text/plain": [
       "0.8524469861835113"
      ]
     },
     "execution_count": 124,
     "metadata": {},
     "output_type": "execute_result"
    }
   ],
   "source": [
    "mask_train = df_train['label'] == 1\n",
    "X_train = df_train[mask_train].drop(columns=['raintomorrow', 'label', 'modelo_vigente', 'amountOfRain'])\n",
    "y_train = df_train[mask_train]['raintomorrow']\n",
    "\n",
    "mask_test = df_test['label'] == 1\n",
    "X_test = df_test[mask_test].drop(columns=['raintomorrow', 'label', 'modelo_vigente', 'amountOfRain'])\n",
    "y_test = df_test[mask_test]['raintomorrow']\n",
    "\n",
    "lgb = LGBMClassifier(max_depth=10, n_estimators=5000, colsample_bytree=.7, n_jobs=-1,  num_leaves=50, subsample_for_bin=100)\n",
    "lgb.fit(X_train, y_train)\n",
    "lgb.score(X_test, y_test)"
   ]
  },
  {
   "cell_type": "code",
   "execution_count": 125,
   "metadata": {
    "hidden": true
   },
   "outputs": [
    {
     "name": "stdout",
     "output_type": "stream",
     "text": [
      "Taxa de acerto: 0.31810995959950816\n",
      "Taxa de captura: 0.48164893617021276\n"
     ]
    }
   ],
   "source": [
    "print('Taxa de acerto:', + precision_score(y_test, lgb.predict(X_test)))\n",
    "print('Taxa de captura:', + recall_score(y_test, lgb.predict(X_test)))"
   ]
  },
  {
   "cell_type": "code",
   "execution_count": 126,
   "metadata": {
    "hidden": true
   },
   "outputs": [
    {
     "data": {
      "image/png": "[encoded data removed]",
      "text/plain": [
       "<Figure size 432x288 with 2 Axes>"
      ]
     },
     "metadata": {
      "needs_background": "light"
     },
     "output_type": "display_data"
    }
   ],
   "source": [
    "plot_confusion_matrix(lgb, X_test, y_test, values_format='.0f')\n",
    "plt.grid(False)"
   ]
  },
  {
   "cell_type": "code",
   "execution_count": 127,
   "metadata": {
    "hidden": true
   },
   "outputs": [
    {
     "data": {
      "text/plain": [
       "<matplotlib.axes._subplots.AxesSubplot at 0x278a8789cc8>"
      ]
     },
     "execution_count": 127,
     "metadata": {},
     "output_type": "execute_result"
    },
    {
     "data": {
      "image/png": "[encoded data removed]",
      "text/plain": [
       "<Figure size 432x288 with 1 Axes>"
      ]
     },
     "metadata": {
      "needs_background": "light"
     },
     "output_type": "display_data"
    }
   ],
   "source": [
    "plot_importance(lgb, importance_type='gain', max_num_features=10, color='magenta')"
   ]
  },
  {
   "cell_type": "markdown",
   "metadata": {
    "heading_collapsed": true,
    "hidden": true
   },
   "source": [
    "### Label == 2"
   ]
  },
  {
   "cell_type": "code",
   "execution_count": 128,
   "metadata": {
    "hidden": true
   },
   "outputs": [
    {
     "data": {
      "text/plain": [
       "0.8142595531681114"
      ]
     },
     "execution_count": 128,
     "metadata": {},
     "output_type": "execute_result"
    }
   ],
   "source": [
    "mask_train = df_train['label'] == 2\n",
    "X_train = df_train[mask_train].drop(columns=['raintomorrow', 'label', 'modelo_vigente', 'amountOfRain'])\n",
    "y_train = df_train[mask_train]['raintomorrow']\n",
    "\n",
    "mask_test = df_test['label'] == 2\n",
    "X_test = df_test[mask_test].drop(columns=['raintomorrow', 'label', 'modelo_vigente', 'amountOfRain'])\n",
    "y_test = df_test[mask_test]['raintomorrow']\n",
    "\n",
    "lgb = LGBMClassifier(max_depth=10, n_estimators=5000, colsample_bytree=.7, n_jobs=-1,  num_leaves=50, subsample_for_bin=100)\n",
    "lgb.fit(X_train, y_train)\n",
    "lgb.score(X_test, y_test)"
   ]
  },
  {
   "cell_type": "code",
   "execution_count": 129,
   "metadata": {
    "hidden": true
   },
   "outputs": [
    {
     "name": "stdout",
     "output_type": "stream",
     "text": [
      "Taxa de acerto: 0.37483983692486894\n",
      "Taxa de captura: 0.5895932576035178\n"
     ]
    }
   ],
   "source": [
    "print('Taxa de acerto:', + precision_score(y_test, lgb.predict(X_test)))\n",
    "print('Taxa de captura:', + recall_score(y_test, lgb.predict(X_test)))"
   ]
  },
  {
   "cell_type": "code",
   "execution_count": 130,
   "metadata": {
    "hidden": true
   },
   "outputs": [
    {
     "data": {
      "image/png": "[encoded data removed]",
      "text/plain": [
       "<Figure size 432x288 with 2 Axes>"
      ]
     },
     "metadata": {
      "needs_background": "light"
     },
     "output_type": "display_data"
    }
   ],
   "source": [
    "plot_confusion_matrix(lgb, X_test, y_test, values_format='.0f')\n",
    "plt.grid(False)"
   ]
  },
  {
   "cell_type": "code",
   "execution_count": 131,
   "metadata": {
    "hidden": true
   },
   "outputs": [
    {
     "data": {
      "text/plain": [
       "<matplotlib.axes._subplots.AxesSubplot at 0x278a85246c8>"
      ]
     },
     "execution_count": 131,
     "metadata": {},
     "output_type": "execute_result"
    },
    {
     "data": {
      "image/png": "[encoded data removed]",
      "text/plain": [
       "<Figure size 432x288 with 1 Axes>"
      ]
     },
     "metadata": {
      "needs_background": "light"
     },
     "output_type": "display_data"
    }
   ],
   "source": [
    "plot_importance(lgb, importance_type='gain', max_num_features=10, color='magenta')"
   ]
  },
  {
   "cell_type": "markdown",
   "metadata": {
    "heading_collapsed": true,
    "hidden": true
   },
   "source": [
    "### Label == 3"
   ]
  },
  {
   "cell_type": "code",
   "execution_count": 132,
   "metadata": {
    "hidden": true
   },
   "outputs": [
    {
     "data": {
      "text/plain": [
       "0.6899500210754501"
      ]
     },
     "execution_count": 132,
     "metadata": {},
     "output_type": "execute_result"
    }
   ],
   "source": [
    "mask_train = df_train['label'] == 3\n",
    "X_train = df_train[mask_train].drop(columns=['raintomorrow', 'label', 'modelo_vigente', 'amountOfRain'])\n",
    "y_train = df_train[mask_train]['raintomorrow']\n",
    "\n",
    "mask_test = df_test['label'] == 3\n",
    "X_test = df_test[mask_test].drop(columns=['raintomorrow', 'label', 'modelo_vigente', 'amountOfRain'])\n",
    "y_test = df_test[mask_test]['raintomorrow']\n",
    "\n",
    "lgb = LGBMClassifier(max_depth=10, n_estimators=5000, colsample_bytree=.7, n_jobs=-1,  num_leaves=50, subsample_for_bin=100)\n",
    "lgb.fit(X_train, y_train)\n",
    "lgb.score(X_test, y_test)"
   ]
  },
  {
   "cell_type": "code",
   "execution_count": 133,
   "metadata": {
    "hidden": true
   },
   "outputs": [
    {
     "name": "stdout",
     "output_type": "stream",
     "text": [
      "Taxa de acerto: 0.6169323898030523\n",
      "Taxa de captura: 0.9168778509883426\n"
     ]
    }
   ],
   "source": [
    "print('Taxa de acerto:', + precision_score(y_test, lgb.predict(X_test)))\n",
    "print('Taxa de captura:', + recall_score(y_test, lgb.predict(X_test)))"
   ]
  },
  {
   "cell_type": "code",
   "execution_count": 134,
   "metadata": {
    "hidden": true
   },
   "outputs": [
    {
     "data": {
      "image/png": "[encoded data removed]",
      "text/plain": [
       "<Figure size 432x288 with 2 Axes>"
      ]
     },
     "metadata": {
      "needs_background": "light"
     },
     "output_type": "display_data"
    }
   ],
   "source": [
    "plot_confusion_matrix(lgb, X_test, y_test, values_format='.0f')\n",
    "plt.grid(False)"
   ]
  },
  {
   "cell_type": "code",
   "execution_count": 135,
   "metadata": {
    "hidden": true
   },
   "outputs": [
    {
     "data": {
      "text/plain": [
       "<matplotlib.axes._subplots.AxesSubplot at 0x278a86517c8>"
      ]
     },
     "execution_count": 135,
     "metadata": {},
     "output_type": "execute_result"
    },
    {
     "data": {
      "image/png": "[encoded data removed]",
      "text/plain": [
       "<Figure size 432x288 with 1 Axes>"
      ]
     },
     "metadata": {
      "needs_background": "light"
     },
     "output_type": "display_data"
    }
   ],
   "source": [
    "plot_importance(lgb, importance_type='gain', max_num_features=10, color='magenta')"
   ]
  },
  {
   "cell_type": "markdown",
   "metadata": {},
   "source": [
    "## LightGBM - aumentar Recall Score"
   ]
  },
  {
   "cell_type": "code",
   "execution_count": 2,
   "metadata": {},
   "outputs": [],
   "source": [
    "df_train = pd.read_csv('train.csv', compression='zip').drop(columns=['Unnamed: 0'])\n",
    "df_test = pd.read_csv('test.csv', compression='zip').drop(columns=['Unnamed: 0'])"
   ]
  },
  {
   "cell_type": "code",
   "execution_count": 3,
   "metadata": {},
   "outputs": [],
   "source": [
    "X_train = df_train.drop(columns=['raintomorrow','modelo_vigente', 'amountOfRain'])\n",
    "y_train = df_train['raintomorrow']\n",
    "\n",
    "X_test = df_test.drop(columns=['raintomorrow', 'modelo_vigente', 'amountOfRain'])\n",
    "y_test = df_test['raintomorrow']"
   ]
  },
  {
   "cell_type": "code",
   "execution_count": 4,
   "metadata": {},
   "outputs": [],
   "source": [
    "lgb = LGBMClassifier(max_depth=5, n_estimators=100, colsample_bytree=.7, n_jobs=-1)"
   ]
  },
  {
   "cell_type": "code",
   "execution_count": 5,
   "metadata": {},
   "outputs": [
    {
     "data": {
      "text/plain": [
       "0.799484270242393"
      ]
     },
     "execution_count": 5,
     "metadata": {},
     "output_type": "execute_result"
    }
   ],
   "source": [
    "lgb.fit(X_train, y_train)\n",
    "lgb.score(X_test, y_test)"
   ]
  },
  {
   "cell_type": "code",
   "execution_count": 6,
   "metadata": {},
   "outputs": [
    {
     "name": "stdout",
     "output_type": "stream",
     "text": [
      "Taxa de acerto: 0.41465550057099354\n",
      "Taxa de captura: 0.913267658771746\n"
     ]
    }
   ],
   "source": [
    "print('Taxa de acerto:', + precision_score(y_test, lgb.predict_proba(X_test)[:,1] > 0.30))\n",
    "print('Taxa de captura:', + recall_score(y_test, lgb.predict_proba(X_test)[:,1] > 0.30))"
   ]
  },
  {
   "cell_type": "code",
   "execution_count": 7,
   "metadata": {},
   "outputs": [
    {
     "data": {
      "text/html": [
       "<div>\n",
       "<style scoped>\n",
       "    .dataframe tbody tr th:only-of-type {\n",
       "        vertical-align: middle;\n",
       "    }\n",
       "\n",
       "    .dataframe tbody tr th {\n",
       "        vertical-align: top;\n",
       "    }\n",
       "\n",
       "    .dataframe thead th {\n",
       "        text-align: right;\n",
       "    }\n",
       "</style>\n",
       "<table border=\"1\" class=\"dataframe\">\n",
       "  <thead>\n",
       "    <tr style=\"text-align: right;\">\n",
       "      <th></th>\n",
       "      <th>latitude</th>\n",
       "      <th>longitude</th>\n",
       "      <th>month</th>\n",
       "      <th>mintemp</th>\n",
       "      <th>maxtemp</th>\n",
       "      <th>rainfall</th>\n",
       "      <th>evaporation</th>\n",
       "      <th>sunshine</th>\n",
       "      <th>humidity9am</th>\n",
       "      <th>humidity3pm</th>\n",
       "      <th>...</th>\n",
       "      <th>raintoday</th>\n",
       "      <th>temp</th>\n",
       "      <th>humidity</th>\n",
       "      <th>precipitation3pm</th>\n",
       "      <th>precipitation9am</th>\n",
       "      <th>windgustspeed</th>\n",
       "      <th>windspeed9am</th>\n",
       "      <th>windspeed3pm</th>\n",
       "      <th>winddir9am</th>\n",
       "      <th>winddir3pm</th>\n",
       "    </tr>\n",
       "  </thead>\n",
       "  <tbody>\n",
       "    <tr>\n",
       "      <th>0</th>\n",
       "      <td>-33.949894</td>\n",
       "      <td>151.181968</td>\n",
       "      <td>5</td>\n",
       "      <td>9</td>\n",
       "      <td>18</td>\n",
       "      <td>NaN</td>\n",
       "      <td>NaN</td>\n",
       "      <td>NaN</td>\n",
       "      <td>82</td>\n",
       "      <td>93</td>\n",
       "      <td>...</td>\n",
       "      <td>0</td>\n",
       "      <td>13</td>\n",
       "      <td>87</td>\n",
       "      <td>NaN</td>\n",
       "      <td>NaN</td>\n",
       "      <td>NaN</td>\n",
       "      <td>3</td>\n",
       "      <td>6</td>\n",
       "      <td>SSE</td>\n",
       "      <td>WSW</td>\n",
       "    </tr>\n",
       "  </tbody>\n",
       "</table>\n",
       "<p>1 rows × 26 columns</p>\n",
       "</div>"
      ],
      "text/plain": [
       "    latitude   longitude  month  mintemp  maxtemp  rainfall  evaporation  \\\n",
       "0 -33.949894  151.181968      5        9       18       NaN          NaN   \n",
       "\n",
       "   sunshine  humidity9am  humidity3pm  ...  raintoday  temp  humidity  \\\n",
       "0       NaN           82           93  ...          0    13        87   \n",
       "\n",
       "   precipitation3pm  precipitation9am  windgustspeed  windspeed9am  \\\n",
       "0               NaN               NaN            NaN             3   \n",
       "\n",
       "   windspeed3pm  winddir9am  winddir3pm  \n",
       "0             6         SSE         WSW  \n",
       "\n",
       "[1 rows x 26 columns]"
      ]
     },
     "execution_count": 7,
     "metadata": {},
     "output_type": "execute_result"
    }
   ],
   "source": [
    "obj = {'latitude' : -33.949894, 'longitude' : 151.181968, 'month' : 5 , 'mintemp': 9 ,'maxtemp': 18, \n",
    "       'rainfall' : np.nan, 'evaporation':np.nan, 'sunshine':np.nan, 'humidity9am': 82, 'humidity3pm': 93,\n",
    "       'pressure9am': 1020,'pressure3pm': 1020, 'cloud9am': np.nan,\n",
    "       'cloud3pm': np.nan, 'temp9am': 14, 'temp3pm': 11, 'raintoday': 0, 'temp': 13, 'humidity': 87,\n",
    "       'precipitation3pm': np.nan, 'precipitation9am': np.nan, 'windgustspeed': np.nan, 'windspeed9am': 3,\n",
    "       'windspeed3pm': 6, 'winddir9am': 'SSE', 'winddir3pm': 'WSW'}\n",
    "today = pd.DataFrame(data=obj, index=[0])\n",
    "today"
   ]
  },
  {
   "cell_type": "code",
   "execution_count": 8,
   "metadata": {},
   "outputs": [],
   "source": [
    "today = pd.get_dummies(today)"
   ]
  },
  {
   "cell_type": "code",
   "execution_count": 9,
   "metadata": {},
   "outputs": [],
   "source": [
    "today = today.reset_index().drop(columns=['index'])"
   ]
  },
  {
   "cell_type": "code",
   "execution_count": 10,
   "metadata": {},
   "outputs": [],
   "source": [
    "today['windgustdir_E'] = 0\n",
    "today['windgustdir_ENE'] = 0\n",
    "today['windgustdir_ESE'] = 0 \n",
    "today['windgustdir_N'] = 0\n",
    "today['windgustdir_NE'] = 0\n",
    "today['windgustdir_NNE'] = 0\n",
    "today['windgustdir_NNW'] = 0\n",
    "today['windgustdir_NW'] = 0\n",
    "today['windgustdir_S'] = 0\n",
    "today['windgustdir_SE'] = 0\n",
    "today['windgustdir_SSE'] = 0\n",
    "today['windgustdir_SSW'] = 0\n",
    "today['windgustdir_SW'] = 0\n",
    "today['windgustdir_W'] = 0\n",
    "today['windgustdir_WNW'] = 0\n",
    "today['windgustdir_WSW'] = 0\n",
    "today['windgustdir9am_E'] = 0\n",
    "today['windgustdir9am_ENE'] = 0\n",
    "today['windgustdir9am_ESE'] = 0\n",
    "today['windgustdir9am_N'] = 0\n",
    "today['windgustdir9am_NE'] = 0\n",
    "today['windgustdir9am_NNE'] = 0\n",
    "today['windgustdir9am_NNW'] = 0\n",
    "today['windgustdir9am_NW'] = 0\n",
    "today['windgustdir9am_S'] = 0\n",
    "today['windgustdir9am_SE'] = 0\n",
    "today['windgustdir9am_SSW'] = 0\n",
    "today['windgustdir9am_SW'] = 0\n",
    "today['windgustdir9am_W'] = 0\n",
    "today['windgustdir9am_WNW'] = 0\n",
    "today['windgustdir9am_WSW'] = 0\n",
    "\n",
    "today['windgustdir3pm_E'] = 0\n",
    "today['windgustdir3pm_ENE'] = 0\n",
    "today['windgustdir3pm_ESE'] = 0\n",
    "today['windgustdir3pm_N'] = 0\n",
    "today['windgustdir3pm_NE'] = 0\n",
    "today['windgustdir3pm_NNE'] = 0\n",
    "today['windgustdir3pm_NNW'] = 0\n",
    "today['windgustdir3pm_NW'] = 0\n",
    "today['windgustdir3pm_S'] = 0\n",
    "today['windgustdir3pm_SE'] = 0\n",
    "today['windgustdir3pm_SSE'] = 0\n",
    "today['windgustdir3pm_SSW'] = 0\n",
    "today['windgustdir3pm_SW'] = 0\n",
    "today['windgustdir3pm_W'] = 0\n",
    "today['windgustdir3pm_WNW'] = 0\n"
   ]
  },
  {
   "cell_type": "code",
   "execution_count": 12,
   "metadata": {},
   "outputs": [
    {
     "data": {
      "text/plain": [
       "array([[0.66587453, 0.33412547]])"
      ]
     },
     "execution_count": 12,
     "metadata": {},
     "output_type": "execute_result"
    }
   ],
   "source": [
    "lgb.predict_proba(today)"
   ]
  },
  {
   "cell_type": "code",
   "execution_count": 11,
   "metadata": {
    "scrolled": true
   },
   "outputs": [
    {
     "data": {
      "text/plain": [
       "array([0.])"
      ]
     },
     "execution_count": 11,
     "metadata": {},
     "output_type": "execute_result"
    }
   ],
   "source": [
    "lgb.predict(today)"
   ]
  },
  {
   "cell_type": "markdown",
   "metadata": {
    "heading_collapsed": true
   },
   "source": [
    "## Decision Tree"
   ]
  },
  {
   "cell_type": "code",
   "execution_count": 117,
   "metadata": {
    "hidden": true
   },
   "outputs": [
    {
     "data": {
      "image/png": "[encoded data removed]",
      "text/plain": [
       "<Figure size 864x576 with 1 Axes>"
      ]
     },
     "metadata": {
      "needs_background": "light"
     },
     "output_type": "display_data"
    }
   ],
   "source": [
    "X_train = df_train.drop(columns=['raintomorrow', 'label', 'modelo_vigente', 'amountOfRain'])\n",
    "y_train = df_train['label']\n",
    "clf = DecisionTreeClassifier(max_depth = 2,  random_state = 7)\n",
    "clf.fit(X_train, y_train)\n",
    "\n",
    "plt.figure(figsize=(12,8))\n",
    "plot_tree(clf)\n",
    "plt.show()"
   ]
  },
  {
   "cell_type": "code",
   "execution_count": 116,
   "metadata": {
    "hidden": true
   },
   "outputs": [
    {
     "data": {
      "text/plain": [
       "0       -1.429010\n",
       "1        2.666439\n",
       "2       -0.021640\n",
       "3        0.400572\n",
       "4       -0.514219\n",
       "           ...   \n",
       "16039    0.273908\n",
       "16040    0.555383\n",
       "16041    0.327388\n",
       "16042   -0.049787\n",
       "16043   -0.640883\n",
       "Name: pressure9am, Length: 16044, dtype: float64"
      ]
     },
     "execution_count": 116,
     "metadata": {},
     "output_type": "execute_result"
    }
   ],
   "source": [
    "df_train.iloc[:,7]"
   ]
  },
  {
   "cell_type": "markdown",
   "metadata": {
    "heading_collapsed": true
   },
   "source": [
    "## Seasons"
   ]
  },
  {
   "cell_type": "code",
   "execution_count": 88,
   "metadata": {
    "hidden": true
   },
   "outputs": [],
   "source": [
    "df_train = pd.read_csv('train.csv').drop(columns=['Unnamed: 0'])\n",
    "df_test = pd.read_csv('test.csv').drop(columns=['Unnamed: 0'])"
   ]
  },
  {
   "cell_type": "code",
   "execution_count": 89,
   "metadata": {
    "collapsed": true,
    "hidden": true
   },
   "outputs": [
    {
     "name": "stderr",
     "output_type": "stream",
     "text": [
      "  0%|          | 0/16044 [00:00<?, ?it/s]C:\\Users\\yukar\\Anaconda3\\lib\\site-packages\\ipykernel_launcher.py:4: SettingWithCopyWarning: \n",
      "A value is trying to be set on a copy of a slice from a DataFrame\n",
      "\n",
      "See the caveats in the documentation: https://pandas.pydata.org/pandas-docs/stable/user_guide/indexing.html#returning-a-view-versus-a-copy\n",
      "  after removing the cwd from sys.path.\n",
      "C:\\Users\\yukar\\Anaconda3\\lib\\site-packages\\ipykernel_launcher.py:5: SettingWithCopyWarning: \n",
      "A value is trying to be set on a copy of a slice from a DataFrame\n",
      "\n",
      "See the caveats in the documentation: https://pandas.pydata.org/pandas-docs/stable/user_guide/indexing.html#returning-a-view-versus-a-copy\n",
      "  \"\"\"\n",
      "C:\\Users\\yukar\\Anaconda3\\lib\\site-packages\\ipykernel_launcher.py:2: SettingWithCopyWarning: \n",
      "A value is trying to be set on a copy of a slice from a DataFrame\n",
      "\n",
      "See the caveats in the documentation: https://pandas.pydata.org/pandas-docs/stable/user_guide/indexing.html#returning-a-view-versus-a-copy\n",
      "  \n",
      "C:\\Users\\yukar\\Anaconda3\\lib\\site-packages\\ipykernel_launcher.py:3: SettingWithCopyWarning: \n",
      "A value is trying to be set on a copy of a slice from a DataFrame\n",
      "\n",
      "See the caveats in the documentation: https://pandas.pydata.org/pandas-docs/stable/user_guide/indexing.html#returning-a-view-versus-a-copy\n",
      "  This is separate from the ipykernel package so we can avoid doing imports until\n",
      "100%|██████████| 16044/16044 [00:08<00:00, 1966.88it/s]\n"
     ]
    }
   ],
   "source": [
    "for item in tqdm(range(0,16044)): \n",
    "    df_train['month'][item]= str(df_train['month'][item]).replace('9.0', 'Spring').replace('10.0', 'Spring').replace('11.0', 'Spring')\n",
    "    df_train['month'][item]= str(df_train['month'][item]).replace('12.0', 'Summer').replace('1.0', 'Summer').replace('2.0', 'Summer')\n",
    "    df_train['month'][item]= str(df_train['month'][item]).replace('3.0', 'Autumn').replace('4.0', 'Autumn').replace('5.0', 'Autumn')\n",
    "    df_train['month'][item]= str(df_train['month'][item]).replace('6.0', 'Winter').replace('7.0', 'Winter').replace('8.0', 'Winter')"
   ]
  },
  {
   "cell_type": "code",
   "execution_count": 90,
   "metadata": {
    "collapsed": true,
    "hidden": true
   },
   "outputs": [
    {
     "name": "stderr",
     "output_type": "stream",
     "text": [
      "  0%|          | 0/106645 [00:00<?, ?it/s]C:\\Users\\yukar\\Anaconda3\\lib\\site-packages\\ipykernel_launcher.py:4: SettingWithCopyWarning: \n",
      "A value is trying to be set on a copy of a slice from a DataFrame\n",
      "\n",
      "See the caveats in the documentation: https://pandas.pydata.org/pandas-docs/stable/user_guide/indexing.html#returning-a-view-versus-a-copy\n",
      "  after removing the cwd from sys.path.\n",
      "C:\\Users\\yukar\\Anaconda3\\lib\\site-packages\\ipykernel_launcher.py:5: SettingWithCopyWarning: \n",
      "A value is trying to be set on a copy of a slice from a DataFrame\n",
      "\n",
      "See the caveats in the documentation: https://pandas.pydata.org/pandas-docs/stable/user_guide/indexing.html#returning-a-view-versus-a-copy\n",
      "  \"\"\"\n",
      "C:\\Users\\yukar\\Anaconda3\\lib\\site-packages\\ipykernel_launcher.py:2: SettingWithCopyWarning: \n",
      "A value is trying to be set on a copy of a slice from a DataFrame\n",
      "\n",
      "See the caveats in the documentation: https://pandas.pydata.org/pandas-docs/stable/user_guide/indexing.html#returning-a-view-versus-a-copy\n",
      "  \n",
      "C:\\Users\\yukar\\Anaconda3\\lib\\site-packages\\ipykernel_launcher.py:3: SettingWithCopyWarning: \n",
      "A value is trying to be set on a copy of a slice from a DataFrame\n",
      "\n",
      "See the caveats in the documentation: https://pandas.pydata.org/pandas-docs/stable/user_guide/indexing.html#returning-a-view-versus-a-copy\n",
      "  This is separate from the ipykernel package so we can avoid doing imports until\n",
      "100%|██████████| 106645/106645 [05:10<00:00, 343.71it/s]\n"
     ]
    }
   ],
   "source": [
    "for item in tqdm(range(0,106645)): \n",
    "    df_test['month'][item]= str(df_test['month'][item]).replace('9.0', 'Spring').replace('10.0', 'Spring').replace('11.0', 'Spring')\n",
    "    df_test['month'][item]= str(df_test['month'][item]).replace('12.0', 'Summer').replace('1.0', 'Summer').replace('2.0', 'Summer')\n",
    "    df_test['month'][item]= str(df_test['month'][item]).replace('3.0', 'Autumn').replace('4.0', 'Autumn').replace('5.0', 'Autumn')\n",
    "    df_test['month'][item]= str(df_test['month'][item]).replace('6.0', 'Winter').replace('7.0', 'Winter').replace('8.0', 'Winter')\n"
   ]
  },
  {
   "cell_type": "code",
   "execution_count": 91,
   "metadata": {
    "hidden": true
   },
   "outputs": [],
   "source": [
    "df_train = pd.get_dummies(df_train)\n",
    "df_test = pd.get_dummies(df_test)"
   ]
  },
  {
   "cell_type": "code",
   "execution_count": 92,
   "metadata": {
    "hidden": true
   },
   "outputs": [],
   "source": [
    "X_train = df_train.drop(columns=['raintomorrow', 'modelo_vigente', 'amountOfRain'])\n",
    "y_train = df_train['raintomorrow']\n",
    "\n",
    "X_test = df_test.drop(columns=['raintomorrow', 'modelo_vigente', 'amountOfRain'])\n",
    "y_test = df_test['raintomorrow']"
   ]
  },
  {
   "cell_type": "code",
   "execution_count": 93,
   "metadata": {
    "hidden": true
   },
   "outputs": [
    {
     "data": {
      "text/plain": [
       "0.8002062919030428"
      ]
     },
     "execution_count": 93,
     "metadata": {},
     "output_type": "execute_result"
    }
   ],
   "source": [
    "lgb = LGBMClassifier(max_depth=10, n_estimators=5000, colsample_bytree=.7, n_jobs=-1,  num_leaves=50, subsample_for_bin=100)\n",
    "lgb.fit(X_train, y_train)\n",
    "lgb.score(X_test, y_test)"
   ]
  },
  {
   "cell_type": "code",
   "execution_count": 94,
   "metadata": {
    "hidden": true
   },
   "outputs": [
    {
     "name": "stdout",
     "output_type": "stream",
     "text": [
      "Taxa de acerto: 0.5356762811537384\n",
      "Taxa de captura: 0.8018863969817648\n"
     ]
    }
   ],
   "source": [
    "print('Taxa de acerto:', + precision_score(y_test, lgb.predict(X_test)))\n",
    "print('Taxa de captura:', + recall_score(y_test, lgb.predict(X_test)))"
   ]
  }
 ],
 "metadata": {
  "kernelspec": {
   "display_name": "Python 3",
   "language": "python",
   "name": "python3"
  },
  "language_info": {
   "codemirror_mode": {
    "name": "ipython",
    "version": 3
   },
   "file_extension": ".py",
   "mimetype": "text/x-python",
   "name": "python",
   "nbconvert_exporter": "python",
   "pygments_lexer": "ipython3",
   "version": "3.7.4"
  },
  "nbTranslate": {
   "displayLangs": [
    "*"
   ],
   "hotkey": "alt-t",
   "langInMainMenu": true,
   "sourceLang": "en",
   "targetLang": "fr",
   "useGoogleTranslate": true
  },
  "toc": {
   "base_numbering": 1,
   "nav_menu": {},
   "number_sections": true,
   "sideBar": true,
   "skip_h1_title": false,
   "title_cell": "Table of Contents",
   "title_sidebar": "Contents",
   "toc_cell": false,
   "toc_position": {
    "height": "calc(100% - 180px)",
    "left": "10px",
    "top": "150px",
    "width": "208.188px"
   },
   "toc_section_display": true,
   "toc_window_display": true
  }
 },
 "nbformat": 4,
 "nbformat_minor": 2
}
