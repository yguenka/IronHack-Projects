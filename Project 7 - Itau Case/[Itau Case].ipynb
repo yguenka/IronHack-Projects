{
 "cells": [
  {
   "cell_type": "markdown",
   "metadata": {},
   "source": [
    "# Importar as bibliotecas"
   ]
  },
  {
   "cell_type": "code",
   "execution_count": 1,
   "metadata": {},
   "outputs": [
    {
     "name": "stderr",
     "output_type": "stream",
     "text": [
      "C:\\Users\\yukar\\Anaconda3\\lib\\site-packages\\statsmodels\\tools\\_testing.py:19: FutureWarning: pandas.util.testing is deprecated. Use the functions in the public API at pandas.testing instead.\n",
      "  import pandas.util.testing as tm\n",
      "C:\\Users\\yukar\\Anaconda3\\lib\\site-packages\\sklearn\\utils\\deprecation.py:144: FutureWarning: The sklearn.metrics.classification module is  deprecated in version 0.22 and will be removed in version 0.24. The corresponding classes / functions should instead be imported from sklearn.metrics. Anything that cannot be imported from sklearn.metrics is now part of the private API.\n",
      "  warnings.warn(message, FutureWarning)\n"
     ]
    }
   ],
   "source": [
    "import pandas as pd\n",
    "import seaborn as sns\n",
    "from sklearn.linear_model import LogisticRegression\n",
    "from sklearn.metrics import r2_score\n",
    "from sklearn.metrics import mean_squared_error\n",
    "from math import sqrt\n",
    "from sklearn.model_selection import train_test_split\n",
    "from sklearn.metrics import confusion_matrix\n",
    "from sklearn.metrics import plot_confusion_matrix\n",
    "from sklearn.metrics import precision_score, recall_score\n",
    "from sklearn.metrics import plot_precision_recall_curve\n",
    "import matplotlib.pyplot as plt\n",
    "from sklearn.metrics import plot_roc_curve, roc_auc_score, roc_curve\n",
    "from sklearn.linear_model import LogisticRegression\n",
    "from yellowbrick.classifier import ROCAUC\n",
    "from sklearn.cluster import KMeans\n",
    "from yellowbrick.cluster import KElbowVisualizer\n",
    "from imblearn.under_sampling import RandomUnderSampler"
   ]
  },
  {
   "cell_type": "markdown",
   "metadata": {},
   "source": [
    "# Ler todos os dados"
   ]
  },
  {
   "cell_type": "code",
   "execution_count": 2,
   "metadata": {},
   "outputs": [],
   "source": [
    "rain = pd.read_csv('data/rain_data_aus.csv')"
   ]
  },
  {
   "cell_type": "code",
   "execution_count": 3,
   "metadata": {},
   "outputs": [],
   "source": [
    "wind_1 = pd.read_csv('data/wind_table_01.csv')\n",
    "wind_2 = pd.read_csv('data/wind_table_02.csv')\n",
    "wind_3 = pd.read_csv('data/wind_table_03.csv')\n",
    "wind_4 = pd.read_csv('data/wind_table_04.csv')\n",
    "wind_5 = pd.read_csv('data/wind_table_05.csv')\n",
    "wind_6 = pd.read_csv('data/wind_table_06.csv')\n",
    "wind_7 = pd.read_csv('data/wind_table_07.csv')\n",
    "wind_8 = pd.read_csv('data/wind_table_08.csv')\n",
    "wind_1.columns = wind_3.columns\n",
    "wind_2.columns = wind_3.columns\n",
    "wind = wind_1.append(wind_2, ignore_index=True).append(wind_3, ignore_index=True).append(wind_3, ignore_index=True).append(wind_4, ignore_index=True).append(wind_5, ignore_index=True).append(wind_6, ignore_index=True).append(wind_7, ignore_index=True).append(wind_8, ignore_index=True)"
   ]
  },
  {
   "cell_type": "markdown",
   "metadata": {},
   "source": [
    "# O Baseline"
   ]
  },
  {
   "cell_type": "markdown",
   "metadata": {},
   "source": [
    "Fiz o baseline usando apenas a regressão logística no dataframe 'Rain'."
   ]
  },
  {
   "cell_type": "markdown",
   "metadata": {},
   "source": [
    "## Tratamento"
   ]
  },
  {
   "cell_type": "code",
   "execution_count": 4,
   "metadata": {},
   "outputs": [],
   "source": [
    "rain = rain.dropna()\n",
    "rain['raintoday'] = rain['raintoday'].replace('No', 0).replace('Yes', 1)\n",
    "rain['raintomorrow'] = rain['raintomorrow'].replace('No', 0).replace('Yes', 1)"
   ]
  },
  {
   "cell_type": "code",
   "execution_count": 5,
   "metadata": {},
   "outputs": [
    {
     "data": {
      "text/plain": [
       "LogisticRegression(C=1.0, class_weight=None, dual=False, fit_intercept=True,\n",
       "                   intercept_scaling=1, l1_ratio=None, max_iter=10000,\n",
       "                   multi_class='auto', n_jobs=None, penalty='l2',\n",
       "                   random_state=None, solver='lbfgs', tol=0.0001, verbose=0,\n",
       "                   warm_start=False)"
      ]
     },
     "execution_count": 5,
     "metadata": {},
     "output_type": "execute_result"
    }
   ],
   "source": [
    "X = rain[[ 'mintemp', 'maxtemp', 'rainfall', 'evaporation',\n",
    "       'sunshine', 'humidity9am', 'humidity3pm', 'pressure9am', 'pressure3pm',\n",
    "       'cloud9am', 'cloud3pm', 'temp9am', 'temp3pm', 'raintoday',\n",
    "       'temp', 'humidity', 'precipitation3pm','modelo_vigente', 'amountOfRain',\n",
    "       'precipitation9am']]\n",
    "y = rain['raintomorrow']\n",
    "model = LogisticRegression(max_iter=10000)\n",
    "model.fit(X,y)"
   ]
  },
  {
   "cell_type": "code",
   "execution_count": 6,
   "metadata": {},
   "outputs": [
    {
     "data": {
      "text/plain": [
       "0.9997092929358183"
      ]
     },
     "execution_count": 6,
     "metadata": {},
     "output_type": "execute_result"
    }
   ],
   "source": [
    "model.score(X, y)"
   ]
  },
  {
   "cell_type": "code",
   "execution_count": 7,
   "metadata": {},
   "outputs": [],
   "source": [
    "X_train, X_test, y_train, y_test = train_test_split(X, y, test_size=0.75, random_state=7)"
   ]
  },
  {
   "cell_type": "code",
   "execution_count": 8,
   "metadata": {},
   "outputs": [
    {
     "data": {
      "text/plain": [
       "LogisticRegression(C=1.0, class_weight=None, dual=False, fit_intercept=True,\n",
       "                   intercept_scaling=1, l1_ratio=None, max_iter=10000,\n",
       "                   multi_class='auto', n_jobs=None, penalty='l2',\n",
       "                   random_state=None, solver='lbfgs', tol=0.0001, verbose=0,\n",
       "                   warm_start=False)"
      ]
     },
     "execution_count": 8,
     "metadata": {},
     "output_type": "execute_result"
    }
   ],
   "source": [
    "model.fit(X_train, y_train)"
   ]
  },
  {
   "cell_type": "code",
   "execution_count": 9,
   "metadata": {},
   "outputs": [
    {
     "data": {
      "text/plain": [
       "0.9993539912573484"
      ]
     },
     "execution_count": 9,
     "metadata": {},
     "output_type": "execute_result"
    }
   ],
   "source": [
    "model.score(X_test, y_test)"
   ]
  },
  {
   "cell_type": "code",
   "execution_count": 10,
   "metadata": {},
   "outputs": [
    {
     "data": {
      "text/plain": [
       "0.9992893597777635"
      ]
     },
     "execution_count": 10,
     "metadata": {},
     "output_type": "execute_result"
    }
   ],
   "source": [
    "model.score(X_train, y_train)"
   ]
  },
  {
   "cell_type": "markdown",
   "metadata": {},
   "source": [
    "Deu Overfitting...."
   ]
  },
  {
   "cell_type": "markdown",
   "metadata": {},
   "source": [
    "# O overfitting"
   ]
  },
  {
   "cell_type": "code",
   "execution_count": 11,
   "metadata": {},
   "outputs": [
    {
     "data": {
      "text/html": [
       "<style  type=\"text/css\" >\n",
       "    #T_d7d66f46_8a65_11ea_9c59_abd2d5119b6arow0_col0 {\n",
       "            background-color:  #b40426;\n",
       "            color:  #f1f1f1;\n",
       "        }    #T_d7d66f46_8a65_11ea_9c59_abd2d5119b6arow0_col1 {\n",
       "            background-color:  #e8765c;\n",
       "            color:  #000000;\n",
       "        }    #T_d7d66f46_8a65_11ea_9c59_abd2d5119b6arow0_col2 {\n",
       "            background-color:  #98b9ff;\n",
       "            color:  #000000;\n",
       "        }    #T_d7d66f46_8a65_11ea_9c59_abd2d5119b6arow0_col3 {\n",
       "            background-color:  #f7b194;\n",
       "            color:  #000000;\n",
       "        }    #T_d7d66f46_8a65_11ea_9c59_abd2d5119b6arow0_col4 {\n",
       "            background-color:  #d1dae9;\n",
       "            color:  #000000;\n",
       "        }    #T_d7d66f46_8a65_11ea_9c59_abd2d5119b6arow0_col5 {\n",
       "            background-color:  #89acfd;\n",
       "            color:  #000000;\n",
       "        }    #T_d7d66f46_8a65_11ea_9c59_abd2d5119b6arow0_col6 {\n",
       "            background-color:  #cad8ef;\n",
       "            color:  #000000;\n",
       "        }    #T_d7d66f46_8a65_11ea_9c59_abd2d5119b6arow0_col7 {\n",
       "            background-color:  #3b4cc0;\n",
       "            color:  #f1f1f1;\n",
       "        }    #T_d7d66f46_8a65_11ea_9c59_abd2d5119b6arow0_col8 {\n",
       "            background-color:  #3c4ec2;\n",
       "            color:  #f1f1f1;\n",
       "        }    #T_d7d66f46_8a65_11ea_9c59_abd2d5119b6arow0_col9 {\n",
       "            background-color:  #d6dce4;\n",
       "            color:  #000000;\n",
       "        }    #T_d7d66f46_8a65_11ea_9c59_abd2d5119b6arow0_col10 {\n",
       "            background-color:  #cdd9ec;\n",
       "            color:  #000000;\n",
       "        }    #T_d7d66f46_8a65_11ea_9c59_abd2d5119b6arow0_col11 {\n",
       "            background-color:  #cb3e38;\n",
       "            color:  #f1f1f1;\n",
       "        }    #T_d7d66f46_8a65_11ea_9c59_abd2d5119b6arow0_col12 {\n",
       "            background-color:  #eb7d62;\n",
       "            color:  #000000;\n",
       "        }    #T_d7d66f46_8a65_11ea_9c59_abd2d5119b6arow0_col13 {\n",
       "            background-color:  #9abbff;\n",
       "            color:  #000000;\n",
       "        }    #T_d7d66f46_8a65_11ea_9c59_abd2d5119b6arow0_col14 {\n",
       "            background-color:  #abc8fd;\n",
       "            color:  #000000;\n",
       "        }    #T_d7d66f46_8a65_11ea_9c59_abd2d5119b6arow0_col15 {\n",
       "            background-color:  #b7cff9;\n",
       "            color:  #000000;\n",
       "        }    #T_d7d66f46_8a65_11ea_9c59_abd2d5119b6arow0_col16 {\n",
       "            background-color:  #f7ad90;\n",
       "            color:  #000000;\n",
       "        }    #T_d7d66f46_8a65_11ea_9c59_abd2d5119b6arow0_col17 {\n",
       "            background-color:  #c1d4f4;\n",
       "            color:  #000000;\n",
       "        }    #T_d7d66f46_8a65_11ea_9c59_abd2d5119b6arow0_col18 {\n",
       "            background-color:  #3d50c3;\n",
       "            color:  #f1f1f1;\n",
       "        }    #T_d7d66f46_8a65_11ea_9c59_abd2d5119b6arow0_col19 {\n",
       "            background-color:  #3e51c5;\n",
       "            color:  #f1f1f1;\n",
       "        }    #T_d7d66f46_8a65_11ea_9c59_abd2d5119b6arow0_col20 {\n",
       "            background-color:  #d6dce4;\n",
       "            color:  #000000;\n",
       "        }    #T_d7d66f46_8a65_11ea_9c59_abd2d5119b6arow1_col0 {\n",
       "            background-color:  #e8765c;\n",
       "            color:  #000000;\n",
       "        }    #T_d7d66f46_8a65_11ea_9c59_abd2d5119b6arow1_col1 {\n",
       "            background-color:  #b40426;\n",
       "            color:  #f1f1f1;\n",
       "        }    #T_d7d66f46_8a65_11ea_9c59_abd2d5119b6arow1_col2 {\n",
       "            background-color:  #6687ed;\n",
       "            color:  #000000;\n",
       "        }    #T_d7d66f46_8a65_11ea_9c59_abd2d5119b6arow1_col3 {\n",
       "            background-color:  #f18f71;\n",
       "            color:  #000000;\n",
       "        }    #T_d7d66f46_8a65_11ea_9c59_abd2d5119b6arow1_col4 {\n",
       "            background-color:  #f7b194;\n",
       "            color:  #000000;\n",
       "        }    #T_d7d66f46_8a65_11ea_9c59_abd2d5119b6arow1_col5 {\n",
       "            background-color:  #455cce;\n",
       "            color:  #f1f1f1;\n",
       "        }    #T_d7d66f46_8a65_11ea_9c59_abd2d5119b6arow1_col6 {\n",
       "            background-color:  #5b7ae5;\n",
       "            color:  #000000;\n",
       "        }    #T_d7d66f46_8a65_11ea_9c59_abd2d5119b6arow1_col7 {\n",
       "            background-color:  #536edd;\n",
       "            color:  #000000;\n",
       "        }    #T_d7d66f46_8a65_11ea_9c59_abd2d5119b6arow1_col8 {\n",
       "            background-color:  #4358cb;\n",
       "            color:  #f1f1f1;\n",
       "        }    #T_d7d66f46_8a65_11ea_9c59_abd2d5119b6arow1_col9 {\n",
       "            background-color:  #8caffe;\n",
       "            color:  #000000;\n",
       "        }    #T_d7d66f46_8a65_11ea_9c59_abd2d5119b6arow1_col10 {\n",
       "            background-color:  #92b4fe;\n",
       "            color:  #000000;\n",
       "        }    #T_d7d66f46_8a65_11ea_9c59_abd2d5119b6arow1_col11 {\n",
       "            background-color:  #cd423b;\n",
       "            color:  #f1f1f1;\n",
       "        }    #T_d7d66f46_8a65_11ea_9c59_abd2d5119b6arow1_col12 {\n",
       "            background-color:  #b70d28;\n",
       "            color:  #f1f1f1;\n",
       "        }    #T_d7d66f46_8a65_11ea_9c59_abd2d5119b6arow1_col13 {\n",
       "            background-color:  #536edd;\n",
       "            color:  #000000;\n",
       "        }    #T_d7d66f46_8a65_11ea_9c59_abd2d5119b6arow1_col14 {\n",
       "            background-color:  #81a4fb;\n",
       "            color:  #000000;\n",
       "        }    #T_d7d66f46_8a65_11ea_9c59_abd2d5119b6arow1_col15 {\n",
       "            background-color:  #7ea1fa;\n",
       "            color:  #000000;\n",
       "        }    #T_d7d66f46_8a65_11ea_9c59_abd2d5119b6arow1_col16 {\n",
       "            background-color:  #e57058;\n",
       "            color:  #000000;\n",
       "        }    #T_d7d66f46_8a65_11ea_9c59_abd2d5119b6arow1_col17 {\n",
       "            background-color:  #5977e3;\n",
       "            color:  #000000;\n",
       "        }    #T_d7d66f46_8a65_11ea_9c59_abd2d5119b6arow1_col18 {\n",
       "            background-color:  #3d50c3;\n",
       "            color:  #f1f1f1;\n",
       "        }    #T_d7d66f46_8a65_11ea_9c59_abd2d5119b6arow1_col19 {\n",
       "            background-color:  #3e51c5;\n",
       "            color:  #f1f1f1;\n",
       "        }    #T_d7d66f46_8a65_11ea_9c59_abd2d5119b6arow1_col20 {\n",
       "            background-color:  #92b4fe;\n",
       "            color:  #000000;\n",
       "        }    #T_d7d66f46_8a65_11ea_9c59_abd2d5119b6arow2_col0 {\n",
       "            background-color:  #c1d4f4;\n",
       "            color:  #000000;\n",
       "        }    #T_d7d66f46_8a65_11ea_9c59_abd2d5119b6arow2_col1 {\n",
       "            background-color:  #9abbff;\n",
       "            color:  #000000;\n",
       "        }    #T_d7d66f46_8a65_11ea_9c59_abd2d5119b6arow2_col2 {\n",
       "            background-color:  #b40426;\n",
       "            color:  #f1f1f1;\n",
       "        }    #T_d7d66f46_8a65_11ea_9c59_abd2d5119b6arow2_col3 {\n",
       "            background-color:  #a2c1ff;\n",
       "            color:  #000000;\n",
       "        }    #T_d7d66f46_8a65_11ea_9c59_abd2d5119b6arow2_col4 {\n",
       "            background-color:  #94b6ff;\n",
       "            color:  #000000;\n",
       "        }    #T_d7d66f46_8a65_11ea_9c59_abd2d5119b6arow2_col5 {\n",
       "            background-color:  #e2dad5;\n",
       "            color:  #000000;\n",
       "        }    #T_d7d66f46_8a65_11ea_9c59_abd2d5119b6arow2_col6 {\n",
       "            background-color:  #e9d5cb;\n",
       "            color:  #000000;\n",
       "        }    #T_d7d66f46_8a65_11ea_9c59_abd2d5119b6arow2_col7 {\n",
       "            background-color:  #7b9ff9;\n",
       "            color:  #000000;\n",
       "        }    #T_d7d66f46_8a65_11ea_9c59_abd2d5119b6arow2_col8 {\n",
       "            background-color:  #8badfd;\n",
       "            color:  #000000;\n",
       "        }    #T_d7d66f46_8a65_11ea_9c59_abd2d5119b6arow2_col9 {\n",
       "            background-color:  #e5d8d1;\n",
       "            color:  #000000;\n",
       "        }    #T_d7d66f46_8a65_11ea_9c59_abd2d5119b6arow2_col10 {\n",
       "            background-color:  #e3d9d3;\n",
       "            color:  #000000;\n",
       "        }    #T_d7d66f46_8a65_11ea_9c59_abd2d5119b6arow2_col11 {\n",
       "            background-color:  #adc9fd;\n",
       "            color:  #000000;\n",
       "        }    #T_d7d66f46_8a65_11ea_9c59_abd2d5119b6arow2_col12 {\n",
       "            background-color:  #98b9ff;\n",
       "            color:  #000000;\n",
       "        }    #T_d7d66f46_8a65_11ea_9c59_abd2d5119b6arow2_col13 {\n",
       "            background-color:  #f7b99e;\n",
       "            color:  #000000;\n",
       "        }    #T_d7d66f46_8a65_11ea_9c59_abd2d5119b6arow2_col14 {\n",
       "            background-color:  #d3dbe7;\n",
       "            color:  #000000;\n",
       "        }    #T_d7d66f46_8a65_11ea_9c59_abd2d5119b6arow2_col15 {\n",
       "            background-color:  #d9dce1;\n",
       "            color:  #000000;\n",
       "        }    #T_d7d66f46_8a65_11ea_9c59_abd2d5119b6arow2_col16 {\n",
       "            background-color:  #88abfd;\n",
       "            color:  #000000;\n",
       "        }    #T_d7d66f46_8a65_11ea_9c59_abd2d5119b6arow2_col17 {\n",
       "            background-color:  #e1dad6;\n",
       "            color:  #000000;\n",
       "        }    #T_d7d66f46_8a65_11ea_9c59_abd2d5119b6arow2_col18 {\n",
       "            background-color:  #3b4cc0;\n",
       "            color:  #f1f1f1;\n",
       "        }    #T_d7d66f46_8a65_11ea_9c59_abd2d5119b6arow2_col19 {\n",
       "            background-color:  #3d50c3;\n",
       "            color:  #f1f1f1;\n",
       "        }    #T_d7d66f46_8a65_11ea_9c59_abd2d5119b6arow2_col20 {\n",
       "            background-color:  #f4c6af;\n",
       "            color:  #000000;\n",
       "        }    #T_d7d66f46_8a65_11ea_9c59_abd2d5119b6arow3_col0 {\n",
       "            background-color:  #f7b79b;\n",
       "            color:  #000000;\n",
       "        }    #T_d7d66f46_8a65_11ea_9c59_abd2d5119b6arow3_col1 {\n",
       "            background-color:  #f29274;\n",
       "            color:  #000000;\n",
       "        }    #T_d7d66f46_8a65_11ea_9c59_abd2d5119b6arow3_col2 {\n",
       "            background-color:  #6485ec;\n",
       "            color:  #000000;\n",
       "        }    #T_d7d66f46_8a65_11ea_9c59_abd2d5119b6arow3_col3 {\n",
       "            background-color:  #b40426;\n",
       "            color:  #f1f1f1;\n",
       "        }    #T_d7d66f46_8a65_11ea_9c59_abd2d5119b6arow3_col4 {\n",
       "            background-color:  #f5c4ac;\n",
       "            color:  #000000;\n",
       "        }    #T_d7d66f46_8a65_11ea_9c59_abd2d5119b6arow3_col5 {\n",
       "            background-color:  #3b4cc0;\n",
       "            color:  #f1f1f1;\n",
       "        }    #T_d7d66f46_8a65_11ea_9c59_abd2d5119b6arow3_col6 {\n",
       "            background-color:  #6282ea;\n",
       "            color:  #000000;\n",
       "        }    #T_d7d66f46_8a65_11ea_9c59_abd2d5119b6arow3_col7 {\n",
       "            background-color:  #5e7de7;\n",
       "            color:  #000000;\n",
       "        }    #T_d7d66f46_8a65_11ea_9c59_abd2d5119b6arow3_col8 {\n",
       "            background-color:  #5d7ce6;\n",
       "            color:  #000000;\n",
       "        }    #T_d7d66f46_8a65_11ea_9c59_abd2d5119b6arow3_col9 {\n",
       "            background-color:  #9bbcff;\n",
       "            color:  #000000;\n",
       "        }    #T_d7d66f46_8a65_11ea_9c59_abd2d5119b6arow3_col10 {\n",
       "            background-color:  #9ebeff;\n",
       "            color:  #000000;\n",
       "        }    #T_d7d66f46_8a65_11ea_9c59_abd2d5119b6arow3_col11 {\n",
       "            background-color:  #f5a081;\n",
       "            color:  #000000;\n",
       "        }    #T_d7d66f46_8a65_11ea_9c59_abd2d5119b6arow3_col12 {\n",
       "            background-color:  #f39778;\n",
       "            color:  #000000;\n",
       "        }    #T_d7d66f46_8a65_11ea_9c59_abd2d5119b6arow3_col13 {\n",
       "            background-color:  #5572df;\n",
       "            color:  #000000;\n",
       "        }    #T_d7d66f46_8a65_11ea_9c59_abd2d5119b6arow3_col14 {\n",
       "            background-color:  #7a9df8;\n",
       "            color:  #000000;\n",
       "        }    #T_d7d66f46_8a65_11ea_9c59_abd2d5119b6arow3_col15 {\n",
       "            background-color:  #82a6fb;\n",
       "            color:  #000000;\n",
       "        }    #T_d7d66f46_8a65_11ea_9c59_abd2d5119b6arow3_col16 {\n",
       "            background-color:  #f6bea4;\n",
       "            color:  #000000;\n",
       "        }    #T_d7d66f46_8a65_11ea_9c59_abd2d5119b6arow3_col17 {\n",
       "            background-color:  #6180e9;\n",
       "            color:  #000000;\n",
       "        }    #T_d7d66f46_8a65_11ea_9c59_abd2d5119b6arow3_col18 {\n",
       "            background-color:  #3e51c5;\n",
       "            color:  #f1f1f1;\n",
       "        }    #T_d7d66f46_8a65_11ea_9c59_abd2d5119b6arow3_col19 {\n",
       "            background-color:  #3e51c5;\n",
       "            color:  #f1f1f1;\n",
       "        }    #T_d7d66f46_8a65_11ea_9c59_abd2d5119b6arow3_col20 {\n",
       "            background-color:  #97b8ff;\n",
       "            color:  #000000;\n",
       "        }    #T_d7d66f46_8a65_11ea_9c59_abd2d5119b6arow4_col0 {\n",
       "            background-color:  #b9d0f9;\n",
       "            color:  #000000;\n",
       "        }    #T_d7d66f46_8a65_11ea_9c59_abd2d5119b6arow4_col1 {\n",
       "            background-color:  #f5c0a7;\n",
       "            color:  #000000;\n",
       "        }    #T_d7d66f46_8a65_11ea_9c59_abd2d5119b6arow4_col2 {\n",
       "            background-color:  #3b4cc0;\n",
       "            color:  #f1f1f1;\n",
       "        }    #T_d7d66f46_8a65_11ea_9c59_abd2d5119b6arow4_col3 {\n",
       "            background-color:  #f1cdba;\n",
       "            color:  #000000;\n",
       "        }    #T_d7d66f46_8a65_11ea_9c59_abd2d5119b6arow4_col4 {\n",
       "            background-color:  #b40426;\n",
       "            color:  #f1f1f1;\n",
       "        }    #T_d7d66f46_8a65_11ea_9c59_abd2d5119b6arow4_col5 {\n",
       "            background-color:  #455cce;\n",
       "            color:  #f1f1f1;\n",
       "        }    #T_d7d66f46_8a65_11ea_9c59_abd2d5119b6arow4_col6 {\n",
       "            background-color:  #3b4cc0;\n",
       "            color:  #f1f1f1;\n",
       "        }    #T_d7d66f46_8a65_11ea_9c59_abd2d5119b6arow4_col7 {\n",
       "            background-color:  #aec9fc;\n",
       "            color:  #000000;\n",
       "        }    #T_d7d66f46_8a65_11ea_9c59_abd2d5119b6arow4_col8 {\n",
       "            background-color:  #a3c2fe;\n",
       "            color:  #000000;\n",
       "        }    #T_d7d66f46_8a65_11ea_9c59_abd2d5119b6arow4_col9 {\n",
       "            background-color:  #3b4cc0;\n",
       "            color:  #f1f1f1;\n",
       "        }    #T_d7d66f46_8a65_11ea_9c59_abd2d5119b6arow4_col10 {\n",
       "            background-color:  #3b4cc0;\n",
       "            color:  #f1f1f1;\n",
       "        }    #T_d7d66f46_8a65_11ea_9c59_abd2d5119b6arow4_col11 {\n",
       "            background-color:  #e3d9d3;\n",
       "            color:  #000000;\n",
       "        }    #T_d7d66f46_8a65_11ea_9c59_abd2d5119b6arow4_col12 {\n",
       "            background-color:  #f7bca1;\n",
       "            color:  #000000;\n",
       "        }    #T_d7d66f46_8a65_11ea_9c59_abd2d5119b6arow4_col13 {\n",
       "            background-color:  #3b4cc0;\n",
       "            color:  #f1f1f1;\n",
       "        }    #T_d7d66f46_8a65_11ea_9c59_abd2d5119b6arow4_col14 {\n",
       "            background-color:  #3b4cc0;\n",
       "            color:  #f1f1f1;\n",
       "        }    #T_d7d66f46_8a65_11ea_9c59_abd2d5119b6arow4_col15 {\n",
       "            background-color:  #3b4cc0;\n",
       "            color:  #f1f1f1;\n",
       "        }    #T_d7d66f46_8a65_11ea_9c59_abd2d5119b6arow4_col16 {\n",
       "            background-color:  #e6d7cf;\n",
       "            color:  #000000;\n",
       "        }    #T_d7d66f46_8a65_11ea_9c59_abd2d5119b6arow4_col17 {\n",
       "            background-color:  #3b4cc0;\n",
       "            color:  #f1f1f1;\n",
       "        }    #T_d7d66f46_8a65_11ea_9c59_abd2d5119b6arow4_col18 {\n",
       "            background-color:  #3c4ec2;\n",
       "            color:  #f1f1f1;\n",
       "        }    #T_d7d66f46_8a65_11ea_9c59_abd2d5119b6arow4_col19 {\n",
       "            background-color:  #3f53c6;\n",
       "            color:  #f1f1f1;\n",
       "        }    #T_d7d66f46_8a65_11ea_9c59_abd2d5119b6arow4_col20 {\n",
       "            background-color:  #3b4cc0;\n",
       "            color:  #f1f1f1;\n",
       "        }    #T_d7d66f46_8a65_11ea_9c59_abd2d5119b6arow5_col0 {\n",
       "            background-color:  #7ea1fa;\n",
       "            color:  #000000;\n",
       "        }    #T_d7d66f46_8a65_11ea_9c59_abd2d5119b6arow5_col1 {\n",
       "            background-color:  #3b4cc0;\n",
       "            color:  #f1f1f1;\n",
       "        }    #T_d7d66f46_8a65_11ea_9c59_abd2d5119b6arow5_col2 {\n",
       "            background-color:  #c1d4f4;\n",
       "            color:  #000000;\n",
       "        }    #T_d7d66f46_8a65_11ea_9c59_abd2d5119b6arow5_col3 {\n",
       "            background-color:  #3b4cc0;\n",
       "            color:  #f1f1f1;\n",
       "        }    #T_d7d66f46_8a65_11ea_9c59_abd2d5119b6arow5_col4 {\n",
       "            background-color:  #5f7fe8;\n",
       "            color:  #000000;\n",
       "        }    #T_d7d66f46_8a65_11ea_9c59_abd2d5119b6arow5_col5 {\n",
       "            background-color:  #b40426;\n",
       "            color:  #f1f1f1;\n",
       "        }    #T_d7d66f46_8a65_11ea_9c59_abd2d5119b6arow5_col6 {\n",
       "            background-color:  #ed8366;\n",
       "            color:  #000000;\n",
       "        }    #T_d7d66f46_8a65_11ea_9c59_abd2d5119b6arow5_col7 {\n",
       "            background-color:  #c1d4f4;\n",
       "            color:  #000000;\n",
       "        }    #T_d7d66f46_8a65_11ea_9c59_abd2d5119b6arow5_col8 {\n",
       "            background-color:  #cfdaea;\n",
       "            color:  #000000;\n",
       "        }    #T_d7d66f46_8a65_11ea_9c59_abd2d5119b6arow5_col9 {\n",
       "            background-color:  #f7b99e;\n",
       "            color:  #000000;\n",
       "        }    #T_d7d66f46_8a65_11ea_9c59_abd2d5119b6arow5_col10 {\n",
       "            background-color:  #f3c7b1;\n",
       "            color:  #000000;\n",
       "        }    #T_d7d66f46_8a65_11ea_9c59_abd2d5119b6arow5_col11 {\n",
       "            background-color:  #4961d2;\n",
       "            color:  #f1f1f1;\n",
       "        }    #T_d7d66f46_8a65_11ea_9c59_abd2d5119b6arow5_col12 {\n",
       "            background-color:  #3c4ec2;\n",
       "            color:  #f1f1f1;\n",
       "        }    #T_d7d66f46_8a65_11ea_9c59_abd2d5119b6arow5_col13 {\n",
       "            background-color:  #e3d9d3;\n",
       "            color:  #000000;\n",
       "        }    #T_d7d66f46_8a65_11ea_9c59_abd2d5119b6arow5_col14 {\n",
       "            background-color:  #b5cdfa;\n",
       "            color:  #000000;\n",
       "        }    #T_d7d66f46_8a65_11ea_9c59_abd2d5119b6arow5_col15 {\n",
       "            background-color:  #dbdcde;\n",
       "            color:  #000000;\n",
       "        }    #T_d7d66f46_8a65_11ea_9c59_abd2d5119b6arow5_col16 {\n",
       "            background-color:  #3b4cc0;\n",
       "            color:  #f1f1f1;\n",
       "        }    #T_d7d66f46_8a65_11ea_9c59_abd2d5119b6arow5_col17 {\n",
       "            background-color:  #f39778;\n",
       "            color:  #000000;\n",
       "        }    #T_d7d66f46_8a65_11ea_9c59_abd2d5119b6arow5_col18 {\n",
       "            background-color:  #3b4cc0;\n",
       "            color:  #f1f1f1;\n",
       "        }    #T_d7d66f46_8a65_11ea_9c59_abd2d5119b6arow5_col19 {\n",
       "            background-color:  #3d50c3;\n",
       "            color:  #f1f1f1;\n",
       "        }    #T_d7d66f46_8a65_11ea_9c59_abd2d5119b6arow5_col20 {\n",
       "            background-color:  #f5c2aa;\n",
       "            color:  #000000;\n",
       "        }    #T_d7d66f46_8a65_11ea_9c59_abd2d5119b6arow6_col0 {\n",
       "            background-color:  #bad0f8;\n",
       "            color:  #000000;\n",
       "        }    #T_d7d66f46_8a65_11ea_9c59_abd2d5119b6arow6_col1 {\n",
       "            background-color:  #445acc;\n",
       "            color:  #f1f1f1;\n",
       "        }    #T_d7d66f46_8a65_11ea_9c59_abd2d5119b6arow6_col2 {\n",
       "            background-color:  #c4d5f3;\n",
       "            color:  #000000;\n",
       "        }    #T_d7d66f46_8a65_11ea_9c59_abd2d5119b6arow6_col3 {\n",
       "            background-color:  #5572df;\n",
       "            color:  #000000;\n",
       "        }    #T_d7d66f46_8a65_11ea_9c59_abd2d5119b6arow6_col4 {\n",
       "            background-color:  #4961d2;\n",
       "            color:  #f1f1f1;\n",
       "        }    #T_d7d66f46_8a65_11ea_9c59_abd2d5119b6arow6_col5 {\n",
       "            background-color:  #ee8669;\n",
       "            color:  #000000;\n",
       "        }    #T_d7d66f46_8a65_11ea_9c59_abd2d5119b6arow6_col6 {\n",
       "            background-color:  #b40426;\n",
       "            color:  #f1f1f1;\n",
       "        }    #T_d7d66f46_8a65_11ea_9c59_abd2d5119b6arow6_col7 {\n",
       "            background-color:  #98b9ff;\n",
       "            color:  #000000;\n",
       "        }    #T_d7d66f46_8a65_11ea_9c59_abd2d5119b6arow6_col8 {\n",
       "            background-color:  #b1cbfc;\n",
       "            color:  #000000;\n",
       "        }    #T_d7d66f46_8a65_11ea_9c59_abd2d5119b6arow6_col9 {\n",
       "            background-color:  #f7aa8c;\n",
       "            color:  #000000;\n",
       "        }    #T_d7d66f46_8a65_11ea_9c59_abd2d5119b6arow6_col10 {\n",
       "            background-color:  #f7a889;\n",
       "            color:  #000000;\n",
       "        }    #T_d7d66f46_8a65_11ea_9c59_abd2d5119b6arow6_col11 {\n",
       "            background-color:  #88abfd;\n",
       "            color:  #000000;\n",
       "        }    #T_d7d66f46_8a65_11ea_9c59_abd2d5119b6arow6_col12 {\n",
       "            background-color:  #3b4cc0;\n",
       "            color:  #f1f1f1;\n",
       "        }    #T_d7d66f46_8a65_11ea_9c59_abd2d5119b6arow6_col13 {\n",
       "            background-color:  #e4d9d2;\n",
       "            color:  #000000;\n",
       "        }    #T_d7d66f46_8a65_11ea_9c59_abd2d5119b6arow6_col14 {\n",
       "            background-color:  #d4dbe6;\n",
       "            color:  #000000;\n",
       "        }    #T_d7d66f46_8a65_11ea_9c59_abd2d5119b6arow6_col15 {\n",
       "            background-color:  #f4c6af;\n",
       "            color:  #000000;\n",
       "        }    #T_d7d66f46_8a65_11ea_9c59_abd2d5119b6arow6_col16 {\n",
       "            background-color:  #4257c9;\n",
       "            color:  #f1f1f1;\n",
       "        }    #T_d7d66f46_8a65_11ea_9c59_abd2d5119b6arow6_col17 {\n",
       "            background-color:  #ca3b37;\n",
       "            color:  #f1f1f1;\n",
       "        }    #T_d7d66f46_8a65_11ea_9c59_abd2d5119b6arow6_col18 {\n",
       "            background-color:  #3c4ec2;\n",
       "            color:  #f1f1f1;\n",
       "        }    #T_d7d66f46_8a65_11ea_9c59_abd2d5119b6arow6_col19 {\n",
       "            background-color:  #3d50c3;\n",
       "            color:  #f1f1f1;\n",
       "        }    #T_d7d66f46_8a65_11ea_9c59_abd2d5119b6arow6_col20 {\n",
       "            background-color:  #f08b6e;\n",
       "            color:  #000000;\n",
       "        }    #T_d7d66f46_8a65_11ea_9c59_abd2d5119b6arow7_col0 {\n",
       "            background-color:  #3d50c3;\n",
       "            color:  #f1f1f1;\n",
       "        }    #T_d7d66f46_8a65_11ea_9c59_abd2d5119b6arow7_col1 {\n",
       "            background-color:  #5875e1;\n",
       "            color:  #000000;\n",
       "        }    #T_d7d66f46_8a65_11ea_9c59_abd2d5119b6arow7_col2 {\n",
       "            background-color:  #4a63d3;\n",
       "            color:  #f1f1f1;\n",
       "        }    #T_d7d66f46_8a65_11ea_9c59_abd2d5119b6arow7_col3 {\n",
       "            background-color:  #6e90f2;\n",
       "            color:  #000000;\n",
       "        }    #T_d7d66f46_8a65_11ea_9c59_abd2d5119b6arow7_col4 {\n",
       "            background-color:  #cbd8ee;\n",
       "            color:  #000000;\n",
       "        }    #T_d7d66f46_8a65_11ea_9c59_abd2d5119b6arow7_col5 {\n",
       "            background-color:  #cbd8ee;\n",
       "            color:  #000000;\n",
       "        }    #T_d7d66f46_8a65_11ea_9c59_abd2d5119b6arow7_col6 {\n",
       "            background-color:  #afcafc;\n",
       "            color:  #000000;\n",
       "        }    #T_d7d66f46_8a65_11ea_9c59_abd2d5119b6arow7_col7 {\n",
       "            background-color:  #b40426;\n",
       "            color:  #f1f1f1;\n",
       "        }    #T_d7d66f46_8a65_11ea_9c59_abd2d5119b6arow7_col8 {\n",
       "            background-color:  #bd1f2d;\n",
       "            color:  #f1f1f1;\n",
       "        }    #T_d7d66f46_8a65_11ea_9c59_abd2d5119b6arow7_col9 {\n",
       "            background-color:  #a5c3fe;\n",
       "            color:  #000000;\n",
       "        }    #T_d7d66f46_8a65_11ea_9c59_abd2d5119b6arow7_col10 {\n",
       "            background-color:  #a5c3fe;\n",
       "            color:  #000000;\n",
       "        }    #T_d7d66f46_8a65_11ea_9c59_abd2d5119b6arow7_col11 {\n",
       "            background-color:  #455cce;\n",
       "            color:  #f1f1f1;\n",
       "        }    #T_d7d66f46_8a65_11ea_9c59_abd2d5119b6arow7_col12 {\n",
       "            background-color:  #6180e9;\n",
       "            color:  #000000;\n",
       "        }    #T_d7d66f46_8a65_11ea_9c59_abd2d5119b6arow7_col13 {\n",
       "            background-color:  #5b7ae5;\n",
       "            color:  #000000;\n",
       "        }    #T_d7d66f46_8a65_11ea_9c59_abd2d5119b6arow7_col14 {\n",
       "            background-color:  #5875e1;\n",
       "            color:  #000000;\n",
       "        }    #T_d7d66f46_8a65_11ea_9c59_abd2d5119b6arow7_col15 {\n",
       "            background-color:  #6485ec;\n",
       "            color:  #000000;\n",
       "        }    #T_d7d66f46_8a65_11ea_9c59_abd2d5119b6arow7_col16 {\n",
       "            background-color:  #536edd;\n",
       "            color:  #000000;\n",
       "        }    #T_d7d66f46_8a65_11ea_9c59_abd2d5119b6arow7_col17 {\n",
       "            background-color:  #a7c5fe;\n",
       "            color:  #000000;\n",
       "        }    #T_d7d66f46_8a65_11ea_9c59_abd2d5119b6arow7_col18 {\n",
       "            background-color:  #3c4ec2;\n",
       "            color:  #f1f1f1;\n",
       "        }    #T_d7d66f46_8a65_11ea_9c59_abd2d5119b6arow7_col19 {\n",
       "            background-color:  #3f53c6;\n",
       "            color:  #f1f1f1;\n",
       "        }    #T_d7d66f46_8a65_11ea_9c59_abd2d5119b6arow7_col20 {\n",
       "            background-color:  #6f92f3;\n",
       "            color:  #000000;\n",
       "        }    #T_d7d66f46_8a65_11ea_9c59_abd2d5119b6arow8_col0 {\n",
       "            background-color:  #3b4cc0;\n",
       "            color:  #f1f1f1;\n",
       "        }    #T_d7d66f46_8a65_11ea_9c59_abd2d5119b6arow8_col1 {\n",
       "            background-color:  #4358cb;\n",
       "            color:  #f1f1f1;\n",
       "        }    #T_d7d66f46_8a65_11ea_9c59_abd2d5119b6arow8_col2 {\n",
       "            background-color:  #5572df;\n",
       "            color:  #000000;\n",
       "        }    #T_d7d66f46_8a65_11ea_9c59_abd2d5119b6arow8_col3 {\n",
       "            background-color:  #6788ee;\n",
       "            color:  #000000;\n",
       "        }    #T_d7d66f46_8a65_11ea_9c59_abd2d5119b6arow8_col4 {\n",
       "            background-color:  #bfd3f6;\n",
       "            color:  #000000;\n",
       "        }    #T_d7d66f46_8a65_11ea_9c59_abd2d5119b6arow8_col5 {\n",
       "            background-color:  #d5dbe5;\n",
       "            color:  #000000;\n",
       "        }    #T_d7d66f46_8a65_11ea_9c59_abd2d5119b6arow8_col6 {\n",
       "            background-color:  #c0d4f5;\n",
       "            color:  #000000;\n",
       "        }    #T_d7d66f46_8a65_11ea_9c59_abd2d5119b6arow8_col7 {\n",
       "            background-color:  #bd1f2d;\n",
       "            color:  #f1f1f1;\n",
       "        }    #T_d7d66f46_8a65_11ea_9c59_abd2d5119b6arow8_col8 {\n",
       "            background-color:  #b40426;\n",
       "            color:  #f1f1f1;\n",
       "        }    #T_d7d66f46_8a65_11ea_9c59_abd2d5119b6arow8_col9 {\n",
       "            background-color:  #b3cdfb;\n",
       "            color:  #000000;\n",
       "        }    #T_d7d66f46_8a65_11ea_9c59_abd2d5119b6arow8_col10 {\n",
       "            background-color:  #b1cbfc;\n",
       "            color:  #000000;\n",
       "        }    #T_d7d66f46_8a65_11ea_9c59_abd2d5119b6arow8_col11 {\n",
       "            background-color:  #3b4cc0;\n",
       "            color:  #f1f1f1;\n",
       "        }    #T_d7d66f46_8a65_11ea_9c59_abd2d5119b6arow8_col12 {\n",
       "            background-color:  #4a63d3;\n",
       "            color:  #f1f1f1;\n",
       "        }    #T_d7d66f46_8a65_11ea_9c59_abd2d5119b6arow8_col13 {\n",
       "            background-color:  #7093f3;\n",
       "            color:  #000000;\n",
       "        }    #T_d7d66f46_8a65_11ea_9c59_abd2d5119b6arow8_col14 {\n",
       "            background-color:  #5875e1;\n",
       "            color:  #000000;\n",
       "        }    #T_d7d66f46_8a65_11ea_9c59_abd2d5119b6arow8_col15 {\n",
       "            background-color:  #6a8bef;\n",
       "            color:  #000000;\n",
       "        }    #T_d7d66f46_8a65_11ea_9c59_abd2d5119b6arow8_col16 {\n",
       "            background-color:  #4257c9;\n",
       "            color:  #f1f1f1;\n",
       "        }    #T_d7d66f46_8a65_11ea_9c59_abd2d5119b6arow8_col17 {\n",
       "            background-color:  #b9d0f9;\n",
       "            color:  #000000;\n",
       "        }    #T_d7d66f46_8a65_11ea_9c59_abd2d5119b6arow8_col18 {\n",
       "            background-color:  #3c4ec2;\n",
       "            color:  #f1f1f1;\n",
       "        }    #T_d7d66f46_8a65_11ea_9c59_abd2d5119b6arow8_col19 {\n",
       "            background-color:  #3f53c6;\n",
       "            color:  #f1f1f1;\n",
       "        }    #T_d7d66f46_8a65_11ea_9c59_abd2d5119b6arow8_col20 {\n",
       "            background-color:  #799cf8;\n",
       "            color:  #000000;\n",
       "        }    #T_d7d66f46_8a65_11ea_9c59_abd2d5119b6arow9_col0 {\n",
       "            background-color:  #c3d5f4;\n",
       "            color:  #000000;\n",
       "        }    #T_d7d66f46_8a65_11ea_9c59_abd2d5119b6arow9_col1 {\n",
       "            background-color:  #6c8ff1;\n",
       "            color:  #000000;\n",
       "        }    #T_d7d66f46_8a65_11ea_9c59_abd2d5119b6arow9_col2 {\n",
       "            background-color:  #b6cefa;\n",
       "            color:  #000000;\n",
       "        }    #T_d7d66f46_8a65_11ea_9c59_abd2d5119b6arow9_col3 {\n",
       "            background-color:  #86a9fc;\n",
       "            color:  #000000;\n",
       "        }    #T_d7d66f46_8a65_11ea_9c59_abd2d5119b6arow9_col4 {\n",
       "            background-color:  #3e51c5;\n",
       "            color:  #f1f1f1;\n",
       "        }    #T_d7d66f46_8a65_11ea_9c59_abd2d5119b6arow9_col5 {\n",
       "            background-color:  #f5c1a9;\n",
       "            color:  #000000;\n",
       "        }    #T_d7d66f46_8a65_11ea_9c59_abd2d5119b6arow9_col6 {\n",
       "            background-color:  #f7ad90;\n",
       "            color:  #000000;\n",
       "        }    #T_d7d66f46_8a65_11ea_9c59_abd2d5119b6arow9_col7 {\n",
       "            background-color:  #84a7fc;\n",
       "            color:  #000000;\n",
       "        }    #T_d7d66f46_8a65_11ea_9c59_abd2d5119b6arow9_col8 {\n",
       "            background-color:  #98b9ff;\n",
       "            color:  #000000;\n",
       "        }    #T_d7d66f46_8a65_11ea_9c59_abd2d5119b6arow9_col9 {\n",
       "            background-color:  #b40426;\n",
       "            color:  #f1f1f1;\n",
       "        }    #T_d7d66f46_8a65_11ea_9c59_abd2d5119b6arow9_col10 {\n",
       "            background-color:  #f29072;\n",
       "            color:  #000000;\n",
       "        }    #T_d7d66f46_8a65_11ea_9c59_abd2d5119b6arow9_col11 {\n",
       "            background-color:  #93b5fe;\n",
       "            color:  #000000;\n",
       "        }    #T_d7d66f46_8a65_11ea_9c59_abd2d5119b6arow9_col12 {\n",
       "            background-color:  #688aef;\n",
       "            color:  #000000;\n",
       "        }    #T_d7d66f46_8a65_11ea_9c59_abd2d5119b6arow9_col13 {\n",
       "            background-color:  #d5dbe5;\n",
       "            color:  #000000;\n",
       "        }    #T_d7d66f46_8a65_11ea_9c59_abd2d5119b6arow9_col14 {\n",
       "            background-color:  #bcd2f7;\n",
       "            color:  #000000;\n",
       "        }    #T_d7d66f46_8a65_11ea_9c59_abd2d5119b6arow9_col15 {\n",
       "            background-color:  #e4d9d2;\n",
       "            color:  #000000;\n",
       "        }    #T_d7d66f46_8a65_11ea_9c59_abd2d5119b6arow9_col16 {\n",
       "            background-color:  #6485ec;\n",
       "            color:  #000000;\n",
       "        }    #T_d7d66f46_8a65_11ea_9c59_abd2d5119b6arow9_col17 {\n",
       "            background-color:  #f7bca1;\n",
       "            color:  #000000;\n",
       "        }    #T_d7d66f46_8a65_11ea_9c59_abd2d5119b6arow9_col18 {\n",
       "            background-color:  #3c4ec2;\n",
       "            color:  #f1f1f1;\n",
       "        }    #T_d7d66f46_8a65_11ea_9c59_abd2d5119b6arow9_col19 {\n",
       "            background-color:  #3e51c5;\n",
       "            color:  #f1f1f1;\n",
       "        }    #T_d7d66f46_8a65_11ea_9c59_abd2d5119b6arow9_col20 {\n",
       "            background-color:  #f7b396;\n",
       "            color:  #000000;\n",
       "        }    #T_d7d66f46_8a65_11ea_9c59_abd2d5119b6arow10_col0 {\n",
       "            background-color:  #b5cdfa;\n",
       "            color:  #000000;\n",
       "        }    #T_d7d66f46_8a65_11ea_9c59_abd2d5119b6arow10_col1 {\n",
       "            background-color:  #6e90f2;\n",
       "            color:  #000000;\n",
       "        }    #T_d7d66f46_8a65_11ea_9c59_abd2d5119b6arow10_col2 {\n",
       "            background-color:  #afcafc;\n",
       "            color:  #000000;\n",
       "        }    #T_d7d66f46_8a65_11ea_9c59_abd2d5119b6arow10_col3 {\n",
       "            background-color:  #85a8fc;\n",
       "            color:  #000000;\n",
       "        }    #T_d7d66f46_8a65_11ea_9c59_abd2d5119b6arow10_col4 {\n",
       "            background-color:  #3b4cc0;\n",
       "            color:  #f1f1f1;\n",
       "        }    #T_d7d66f46_8a65_11ea_9c59_abd2d5119b6arow10_col5 {\n",
       "            background-color:  #efcfbf;\n",
       "            color:  #000000;\n",
       "        }    #T_d7d66f46_8a65_11ea_9c59_abd2d5119b6arow10_col6 {\n",
       "            background-color:  #f7ad90;\n",
       "            color:  #000000;\n",
       "        }    #T_d7d66f46_8a65_11ea_9c59_abd2d5119b6arow10_col7 {\n",
       "            background-color:  #7ea1fa;\n",
       "            color:  #000000;\n",
       "        }    #T_d7d66f46_8a65_11ea_9c59_abd2d5119b6arow10_col8 {\n",
       "            background-color:  #93b5fe;\n",
       "            color:  #000000;\n",
       "        }    #T_d7d66f46_8a65_11ea_9c59_abd2d5119b6arow10_col9 {\n",
       "            background-color:  #f29274;\n",
       "            color:  #000000;\n",
       "        }    #T_d7d66f46_8a65_11ea_9c59_abd2d5119b6arow10_col10 {\n",
       "            background-color:  #b40426;\n",
       "            color:  #f1f1f1;\n",
       "        }    #T_d7d66f46_8a65_11ea_9c59_abd2d5119b6arow10_col11 {\n",
       "            background-color:  #93b5fe;\n",
       "            color:  #000000;\n",
       "        }    #T_d7d66f46_8a65_11ea_9c59_abd2d5119b6arow10_col12 {\n",
       "            background-color:  #6687ed;\n",
       "            color:  #000000;\n",
       "        }    #T_d7d66f46_8a65_11ea_9c59_abd2d5119b6arow10_col13 {\n",
       "            background-color:  #cfdaea;\n",
       "            color:  #000000;\n",
       "        }    #T_d7d66f46_8a65_11ea_9c59_abd2d5119b6arow10_col14 {\n",
       "            background-color:  #c5d6f2;\n",
       "            color:  #000000;\n",
       "        }    #T_d7d66f46_8a65_11ea_9c59_abd2d5119b6arow10_col15 {\n",
       "            background-color:  #efcfbf;\n",
       "            color:  #000000;\n",
       "        }    #T_d7d66f46_8a65_11ea_9c59_abd2d5119b6arow10_col16 {\n",
       "            background-color:  #6485ec;\n",
       "            color:  #000000;\n",
       "        }    #T_d7d66f46_8a65_11ea_9c59_abd2d5119b6arow10_col17 {\n",
       "            background-color:  #f7bca1;\n",
       "            color:  #000000;\n",
       "        }    #T_d7d66f46_8a65_11ea_9c59_abd2d5119b6arow10_col18 {\n",
       "            background-color:  #3c4ec2;\n",
       "            color:  #f1f1f1;\n",
       "        }    #T_d7d66f46_8a65_11ea_9c59_abd2d5119b6arow10_col19 {\n",
       "            background-color:  #3d50c3;\n",
       "            color:  #f1f1f1;\n",
       "        }    #T_d7d66f46_8a65_11ea_9c59_abd2d5119b6arow10_col20 {\n",
       "            background-color:  #f5a081;\n",
       "            color:  #000000;\n",
       "        }    #T_d7d66f46_8a65_11ea_9c59_abd2d5119b6arow11_col0 {\n",
       "            background-color:  #cb3e38;\n",
       "            color:  #f1f1f1;\n",
       "        }    #T_d7d66f46_8a65_11ea_9c59_abd2d5119b6arow11_col1 {\n",
       "            background-color:  #cd423b;\n",
       "            color:  #f1f1f1;\n",
       "        }    #T_d7d66f46_8a65_11ea_9c59_abd2d5119b6arow11_col2 {\n",
       "            background-color:  #7ea1fa;\n",
       "            color:  #000000;\n",
       "        }    #T_d7d66f46_8a65_11ea_9c59_abd2d5119b6arow11_col3 {\n",
       "            background-color:  #f59d7e;\n",
       "            color:  #000000;\n",
       "        }    #T_d7d66f46_8a65_11ea_9c59_abd2d5119b6arow11_col4 {\n",
       "            background-color:  #efcfbf;\n",
       "            color:  #000000;\n",
       "        }    #T_d7d66f46_8a65_11ea_9c59_abd2d5119b6arow11_col5 {\n",
       "            background-color:  #536edd;\n",
       "            color:  #000000;\n",
       "        }    #T_d7d66f46_8a65_11ea_9c59_abd2d5119b6arow11_col6 {\n",
       "            background-color:  #9bbcff;\n",
       "            color:  #000000;\n",
       "        }    #T_d7d66f46_8a65_11ea_9c59_abd2d5119b6arow11_col7 {\n",
       "            background-color:  #3f53c6;\n",
       "            color:  #f1f1f1;\n",
       "        }    #T_d7d66f46_8a65_11ea_9c59_abd2d5119b6arow11_col8 {\n",
       "            background-color:  #3b4cc0;\n",
       "            color:  #f1f1f1;\n",
       "        }    #T_d7d66f46_8a65_11ea_9c59_abd2d5119b6arow11_col9 {\n",
       "            background-color:  #adc9fd;\n",
       "            color:  #000000;\n",
       "        }    #T_d7d66f46_8a65_11ea_9c59_abd2d5119b6arow11_col10 {\n",
       "            background-color:  #b1cbfc;\n",
       "            color:  #000000;\n",
       "        }    #T_d7d66f46_8a65_11ea_9c59_abd2d5119b6arow11_col11 {\n",
       "            background-color:  #b40426;\n",
       "            color:  #f1f1f1;\n",
       "        }    #T_d7d66f46_8a65_11ea_9c59_abd2d5119b6arow11_col12 {\n",
       "            background-color:  #d24b40;\n",
       "            color:  #f1f1f1;\n",
       "        }    #T_d7d66f46_8a65_11ea_9c59_abd2d5119b6arow11_col13 {\n",
       "            background-color:  #7396f5;\n",
       "            color:  #000000;\n",
       "        }    #T_d7d66f46_8a65_11ea_9c59_abd2d5119b6arow11_col14 {\n",
       "            background-color:  #9abbff;\n",
       "            color:  #000000;\n",
       "        }    #T_d7d66f46_8a65_11ea_9c59_abd2d5119b6arow11_col15 {\n",
       "            background-color:  #9ebeff;\n",
       "            color:  #000000;\n",
       "        }    #T_d7d66f46_8a65_11ea_9c59_abd2d5119b6arow11_col16 {\n",
       "            background-color:  #f18d6f;\n",
       "            color:  #000000;\n",
       "        }    #T_d7d66f46_8a65_11ea_9c59_abd2d5119b6arow11_col17 {\n",
       "            background-color:  #96b7ff;\n",
       "            color:  #000000;\n",
       "        }    #T_d7d66f46_8a65_11ea_9c59_abd2d5119b6arow11_col18 {\n",
       "            background-color:  #3d50c3;\n",
       "            color:  #f1f1f1;\n",
       "        }    #T_d7d66f46_8a65_11ea_9c59_abd2d5119b6arow11_col19 {\n",
       "            background-color:  #3e51c5;\n",
       "            color:  #f1f1f1;\n",
       "        }    #T_d7d66f46_8a65_11ea_9c59_abd2d5119b6arow11_col20 {\n",
       "            background-color:  #b9d0f9;\n",
       "            color:  #000000;\n",
       "        }    #T_d7d66f46_8a65_11ea_9c59_abd2d5119b6arow12_col0 {\n",
       "            background-color:  #eb7d62;\n",
       "            color:  #000000;\n",
       "        }    #T_d7d66f46_8a65_11ea_9c59_abd2d5119b6arow12_col1 {\n",
       "            background-color:  #b70d28;\n",
       "            color:  #f1f1f1;\n",
       "        }    #T_d7d66f46_8a65_11ea_9c59_abd2d5119b6arow12_col2 {\n",
       "            background-color:  #6687ed;\n",
       "            color:  #000000;\n",
       "        }    #T_d7d66f46_8a65_11ea_9c59_abd2d5119b6arow12_col3 {\n",
       "            background-color:  #f39475;\n",
       "            color:  #000000;\n",
       "        }    #T_d7d66f46_8a65_11ea_9c59_abd2d5119b6arow12_col4 {\n",
       "            background-color:  #f7ad90;\n",
       "            color:  #000000;\n",
       "        }    #T_d7d66f46_8a65_11ea_9c59_abd2d5119b6arow12_col5 {\n",
       "            background-color:  #465ecf;\n",
       "            color:  #f1f1f1;\n",
       "        }    #T_d7d66f46_8a65_11ea_9c59_abd2d5119b6arow12_col6 {\n",
       "            background-color:  #516ddb;\n",
       "            color:  #000000;\n",
       "        }    #T_d7d66f46_8a65_11ea_9c59_abd2d5119b6arow12_col7 {\n",
       "            background-color:  #5b7ae5;\n",
       "            color:  #000000;\n",
       "        }    #T_d7d66f46_8a65_11ea_9c59_abd2d5119b6arow12_col8 {\n",
       "            background-color:  #4a63d3;\n",
       "            color:  #f1f1f1;\n",
       "        }    #T_d7d66f46_8a65_11ea_9c59_abd2d5119b6arow12_col9 {\n",
       "            background-color:  #88abfd;\n",
       "            color:  #000000;\n",
       "        }    #T_d7d66f46_8a65_11ea_9c59_abd2d5119b6arow12_col10 {\n",
       "            background-color:  #89acfd;\n",
       "            color:  #000000;\n",
       "        }    #T_d7d66f46_8a65_11ea_9c59_abd2d5119b6arow12_col11 {\n",
       "            background-color:  #d24b40;\n",
       "            color:  #f1f1f1;\n",
       "        }    #T_d7d66f46_8a65_11ea_9c59_abd2d5119b6arow12_col12 {\n",
       "            background-color:  #b40426;\n",
       "            color:  #f1f1f1;\n",
       "        }    #T_d7d66f46_8a65_11ea_9c59_abd2d5119b6arow12_col13 {\n",
       "            background-color:  #516ddb;\n",
       "            color:  #000000;\n",
       "        }    #T_d7d66f46_8a65_11ea_9c59_abd2d5119b6arow12_col14 {\n",
       "            background-color:  #7b9ff9;\n",
       "            color:  #000000;\n",
       "        }    #T_d7d66f46_8a65_11ea_9c59_abd2d5119b6arow12_col15 {\n",
       "            background-color:  #7699f6;\n",
       "            color:  #000000;\n",
       "        }    #T_d7d66f46_8a65_11ea_9c59_abd2d5119b6arow12_col16 {\n",
       "            background-color:  #e7745b;\n",
       "            color:  #000000;\n",
       "        }    #T_d7d66f46_8a65_11ea_9c59_abd2d5119b6arow12_col17 {\n",
       "            background-color:  #506bda;\n",
       "            color:  #000000;\n",
       "        }    #T_d7d66f46_8a65_11ea_9c59_abd2d5119b6arow12_col18 {\n",
       "            background-color:  #3d50c3;\n",
       "            color:  #f1f1f1;\n",
       "        }    #T_d7d66f46_8a65_11ea_9c59_abd2d5119b6arow12_col19 {\n",
       "            background-color:  #3e51c5;\n",
       "            color:  #f1f1f1;\n",
       "        }    #T_d7d66f46_8a65_11ea_9c59_abd2d5119b6arow12_col20 {\n",
       "            background-color:  #86a9fc;\n",
       "            color:  #000000;\n",
       "        }    #T_d7d66f46_8a65_11ea_9c59_abd2d5119b6arow13_col0 {\n",
       "            background-color:  #b5cdfa;\n",
       "            color:  #000000;\n",
       "        }    #T_d7d66f46_8a65_11ea_9c59_abd2d5119b6arow13_col1 {\n",
       "            background-color:  #7699f6;\n",
       "            color:  #000000;\n",
       "        }    #T_d7d66f46_8a65_11ea_9c59_abd2d5119b6arow13_col2 {\n",
       "            background-color:  #f6bfa6;\n",
       "            color:  #000000;\n",
       "        }    #T_d7d66f46_8a65_11ea_9c59_abd2d5119b6arow13_col3 {\n",
       "            background-color:  #82a6fb;\n",
       "            color:  #000000;\n",
       "        }    #T_d7d66f46_8a65_11ea_9c59_abd2d5119b6arow13_col4 {\n",
       "            background-color:  #82a6fb;\n",
       "            color:  #000000;\n",
       "        }    #T_d7d66f46_8a65_11ea_9c59_abd2d5119b6arow13_col5 {\n",
       "            background-color:  #f1ccb8;\n",
       "            color:  #000000;\n",
       "        }    #T_d7d66f46_8a65_11ea_9c59_abd2d5119b6arow13_col6 {\n",
       "            background-color:  #f3c7b1;\n",
       "            color:  #000000;\n",
       "        }    #T_d7d66f46_8a65_11ea_9c59_abd2d5119b6arow13_col7 {\n",
       "            background-color:  #7a9df8;\n",
       "            color:  #000000;\n",
       "        }    #T_d7d66f46_8a65_11ea_9c59_abd2d5119b6arow13_col8 {\n",
       "            background-color:  #93b5fe;\n",
       "            color:  #000000;\n",
       "        }    #T_d7d66f46_8a65_11ea_9c59_abd2d5119b6arow13_col9 {\n",
       "            background-color:  #efcfbf;\n",
       "            color:  #000000;\n",
       "        }    #T_d7d66f46_8a65_11ea_9c59_abd2d5119b6arow13_col10 {\n",
       "            background-color:  #edd1c2;\n",
       "            color:  #000000;\n",
       "        }    #T_d7d66f46_8a65_11ea_9c59_abd2d5119b6arow13_col11 {\n",
       "            background-color:  #94b6ff;\n",
       "            color:  #000000;\n",
       "        }    #T_d7d66f46_8a65_11ea_9c59_abd2d5119b6arow13_col12 {\n",
       "            background-color:  #7597f6;\n",
       "            color:  #000000;\n",
       "        }    #T_d7d66f46_8a65_11ea_9c59_abd2d5119b6arow13_col13 {\n",
       "            background-color:  #b40426;\n",
       "            color:  #f1f1f1;\n",
       "        }    #T_d7d66f46_8a65_11ea_9c59_abd2d5119b6arow13_col14 {\n",
       "            background-color:  #bfd3f6;\n",
       "            color:  #000000;\n",
       "        }    #T_d7d66f46_8a65_11ea_9c59_abd2d5119b6arow13_col15 {\n",
       "            background-color:  #e2dad5;\n",
       "            color:  #000000;\n",
       "        }    #T_d7d66f46_8a65_11ea_9c59_abd2d5119b6arow13_col16 {\n",
       "            background-color:  #6b8df0;\n",
       "            color:  #000000;\n",
       "        }    #T_d7d66f46_8a65_11ea_9c59_abd2d5119b6arow13_col17 {\n",
       "            background-color:  #eed0c0;\n",
       "            color:  #000000;\n",
       "        }    #T_d7d66f46_8a65_11ea_9c59_abd2d5119b6arow13_col18 {\n",
       "            background-color:  #3c4ec2;\n",
       "            color:  #f1f1f1;\n",
       "        }    #T_d7d66f46_8a65_11ea_9c59_abd2d5119b6arow13_col19 {\n",
       "            background-color:  #3d50c3;\n",
       "            color:  #f1f1f1;\n",
       "        }    #T_d7d66f46_8a65_11ea_9c59_abd2d5119b6arow13_col20 {\n",
       "            background-color:  #f7b89c;\n",
       "            color:  #000000;\n",
       "        }    #T_d7d66f46_8a65_11ea_9c59_abd2d5119b6arow14_col0 {\n",
       "            background-color:  #c7d7f0;\n",
       "            color:  #000000;\n",
       "        }    #T_d7d66f46_8a65_11ea_9c59_abd2d5119b6arow14_col1 {\n",
       "            background-color:  #a6c4fe;\n",
       "            color:  #000000;\n",
       "        }    #T_d7d66f46_8a65_11ea_9c59_abd2d5119b6arow14_col2 {\n",
       "            background-color:  #ccd9ed;\n",
       "            color:  #000000;\n",
       "        }    #T_d7d66f46_8a65_11ea_9c59_abd2d5119b6arow14_col3 {\n",
       "            background-color:  #a9c6fd;\n",
       "            color:  #000000;\n",
       "        }    #T_d7d66f46_8a65_11ea_9c59_abd2d5119b6arow14_col4 {\n",
       "            background-color:  #89acfd;\n",
       "            color:  #000000;\n",
       "        }    #T_d7d66f46_8a65_11ea_9c59_abd2d5119b6arow14_col5 {\n",
       "            background-color:  #d5dbe5;\n",
       "            color:  #000000;\n",
       "        }    #T_d7d66f46_8a65_11ea_9c59_abd2d5119b6arow14_col6 {\n",
       "            background-color:  #eed0c0;\n",
       "            color:  #000000;\n",
       "        }    #T_d7d66f46_8a65_11ea_9c59_abd2d5119b6arow14_col7 {\n",
       "            background-color:  #7da0f9;\n",
       "            color:  #000000;\n",
       "        }    #T_d7d66f46_8a65_11ea_9c59_abd2d5119b6arow14_col8 {\n",
       "            background-color:  #81a4fb;\n",
       "            color:  #000000;\n",
       "        }    #T_d7d66f46_8a65_11ea_9c59_abd2d5119b6arow14_col9 {\n",
       "            background-color:  #e3d9d3;\n",
       "            color:  #000000;\n",
       "        }    #T_d7d66f46_8a65_11ea_9c59_abd2d5119b6arow14_col10 {\n",
       "            background-color:  #ead4c8;\n",
       "            color:  #000000;\n",
       "        }    #T_d7d66f46_8a65_11ea_9c59_abd2d5119b6arow14_col11 {\n",
       "            background-color:  #bad0f8;\n",
       "            color:  #000000;\n",
       "        }    #T_d7d66f46_8a65_11ea_9c59_abd2d5119b6arow14_col12 {\n",
       "            background-color:  #a1c0ff;\n",
       "            color:  #000000;\n",
       "        }    #T_d7d66f46_8a65_11ea_9c59_abd2d5119b6arow14_col13 {\n",
       "            background-color:  #c4d5f3;\n",
       "            color:  #000000;\n",
       "        }    #T_d7d66f46_8a65_11ea_9c59_abd2d5119b6arow14_col14 {\n",
       "            background-color:  #b40426;\n",
       "            color:  #f1f1f1;\n",
       "        }    #T_d7d66f46_8a65_11ea_9c59_abd2d5119b6arow14_col15 {\n",
       "            background-color:  #f6bda2;\n",
       "            color:  #000000;\n",
       "        }    #T_d7d66f46_8a65_11ea_9c59_abd2d5119b6arow14_col16 {\n",
       "            background-color:  #94b6ff;\n",
       "            color:  #000000;\n",
       "        }    #T_d7d66f46_8a65_11ea_9c59_abd2d5119b6arow14_col17 {\n",
       "            background-color:  #e7d7ce;\n",
       "            color:  #000000;\n",
       "        }    #T_d7d66f46_8a65_11ea_9c59_abd2d5119b6arow14_col18 {\n",
       "            background-color:  #3c4ec2;\n",
       "            color:  #f1f1f1;\n",
       "        }    #T_d7d66f46_8a65_11ea_9c59_abd2d5119b6arow14_col19 {\n",
       "            background-color:  #3c4ec2;\n",
       "            color:  #f1f1f1;\n",
       "        }    #T_d7d66f46_8a65_11ea_9c59_abd2d5119b6arow14_col20 {\n",
       "            background-color:  #f7ad90;\n",
       "            color:  #000000;\n",
       "        }    #T_d7d66f46_8a65_11ea_9c59_abd2d5119b6arow15_col0 {\n",
       "            background-color:  #bcd2f7;\n",
       "            color:  #000000;\n",
       "        }    #T_d7d66f46_8a65_11ea_9c59_abd2d5119b6arow15_col1 {\n",
       "            background-color:  #88abfd;\n",
       "            color:  #000000;\n",
       "        }    #T_d7d66f46_8a65_11ea_9c59_abd2d5119b6arow15_col2 {\n",
       "            background-color:  #c0d4f5;\n",
       "            color:  #000000;\n",
       "        }    #T_d7d66f46_8a65_11ea_9c59_abd2d5119b6arow15_col3 {\n",
       "            background-color:  #96b7ff;\n",
       "            color:  #000000;\n",
       "        }    #T_d7d66f46_8a65_11ea_9c59_abd2d5119b6arow15_col4 {\n",
       "            background-color:  #6a8bef;\n",
       "            color:  #000000;\n",
       "        }    #T_d7d66f46_8a65_11ea_9c59_abd2d5119b6arow15_col5 {\n",
       "            background-color:  #e3d9d3;\n",
       "            color:  #000000;\n",
       "        }    #T_d7d66f46_8a65_11ea_9c59_abd2d5119b6arow15_col6 {\n",
       "            background-color:  #f7ba9f;\n",
       "            color:  #000000;\n",
       "        }    #T_d7d66f46_8a65_11ea_9c59_abd2d5119b6arow15_col7 {\n",
       "            background-color:  #6a8bef;\n",
       "            color:  #000000;\n",
       "        }    #T_d7d66f46_8a65_11ea_9c59_abd2d5119b6arow15_col8 {\n",
       "            background-color:  #7396f5;\n",
       "            color:  #000000;\n",
       "        }    #T_d7d66f46_8a65_11ea_9c59_abd2d5119b6arow15_col9 {\n",
       "            background-color:  #f1ccb8;\n",
       "            color:  #000000;\n",
       "        }    #T_d7d66f46_8a65_11ea_9c59_abd2d5119b6arow15_col10 {\n",
       "            background-color:  #f6bfa6;\n",
       "            color:  #000000;\n",
       "        }    #T_d7d66f46_8a65_11ea_9c59_abd2d5119b6arow15_col11 {\n",
       "            background-color:  #a6c4fe;\n",
       "            color:  #000000;\n",
       "        }    #T_d7d66f46_8a65_11ea_9c59_abd2d5119b6arow15_col12 {\n",
       "            background-color:  #80a3fa;\n",
       "            color:  #000000;\n",
       "        }    #T_d7d66f46_8a65_11ea_9c59_abd2d5119b6arow15_col13 {\n",
       "            background-color:  #d7dce3;\n",
       "            color:  #000000;\n",
       "        }    #T_d7d66f46_8a65_11ea_9c59_abd2d5119b6arow15_col14 {\n",
       "            background-color:  #f2c9b4;\n",
       "            color:  #000000;\n",
       "        }    #T_d7d66f46_8a65_11ea_9c59_abd2d5119b6arow15_col15 {\n",
       "            background-color:  #b40426;\n",
       "            color:  #f1f1f1;\n",
       "        }    #T_d7d66f46_8a65_11ea_9c59_abd2d5119b6arow15_col16 {\n",
       "            background-color:  #7a9df8;\n",
       "            color:  #000000;\n",
       "        }    #T_d7d66f46_8a65_11ea_9c59_abd2d5119b6arow15_col17 {\n",
       "            background-color:  #f4c6af;\n",
       "            color:  #000000;\n",
       "        }    #T_d7d66f46_8a65_11ea_9c59_abd2d5119b6arow15_col18 {\n",
       "            background-color:  #3e51c5;\n",
       "            color:  #f1f1f1;\n",
       "        }    #T_d7d66f46_8a65_11ea_9c59_abd2d5119b6arow15_col19 {\n",
       "            background-color:  #3b4cc0;\n",
       "            color:  #f1f1f1;\n",
       "        }    #T_d7d66f46_8a65_11ea_9c59_abd2d5119b6arow15_col20 {\n",
       "            background-color:  #d1493f;\n",
       "            color:  #f1f1f1;\n",
       "        }    #T_d7d66f46_8a65_11ea_9c59_abd2d5119b6arow16_col0 {\n",
       "            background-color:  #f7a688;\n",
       "            color:  #000000;\n",
       "        }    #T_d7d66f46_8a65_11ea_9c59_abd2d5119b6arow16_col1 {\n",
       "            background-color:  #e36b54;\n",
       "            color:  #000000;\n",
       "        }    #T_d7d66f46_8a65_11ea_9c59_abd2d5119b6arow16_col2 {\n",
       "            background-color:  #688aef;\n",
       "            color:  #000000;\n",
       "        }    #T_d7d66f46_8a65_11ea_9c59_abd2d5119b6arow16_col3 {\n",
       "            background-color:  #f7b194;\n",
       "            color:  #000000;\n",
       "        }    #T_d7d66f46_8a65_11ea_9c59_abd2d5119b6arow16_col4 {\n",
       "            background-color:  #f4c5ad;\n",
       "            color:  #000000;\n",
       "        }    #T_d7d66f46_8a65_11ea_9c59_abd2d5119b6arow16_col5 {\n",
       "            background-color:  #5b7ae5;\n",
       "            color:  #000000;\n",
       "        }    #T_d7d66f46_8a65_11ea_9c59_abd2d5119b6arow16_col6 {\n",
       "            background-color:  #6f92f3;\n",
       "            color:  #000000;\n",
       "        }    #T_d7d66f46_8a65_11ea_9c59_abd2d5119b6arow16_col7 {\n",
       "            background-color:  #6485ec;\n",
       "            color:  #000000;\n",
       "        }    #T_d7d66f46_8a65_11ea_9c59_abd2d5119b6arow16_col8 {\n",
       "            background-color:  #5977e3;\n",
       "            color:  #000000;\n",
       "        }    #T_d7d66f46_8a65_11ea_9c59_abd2d5119b6arow16_col9 {\n",
       "            background-color:  #98b9ff;\n",
       "            color:  #000000;\n",
       "        }    #T_d7d66f46_8a65_11ea_9c59_abd2d5119b6arow16_col10 {\n",
       "            background-color:  #9dbdff;\n",
       "            color:  #000000;\n",
       "        }    #T_d7d66f46_8a65_11ea_9c59_abd2d5119b6arow16_col11 {\n",
       "            background-color:  #ee8669;\n",
       "            color:  #000000;\n",
       "        }    #T_d7d66f46_8a65_11ea_9c59_abd2d5119b6arow16_col12 {\n",
       "            background-color:  #e46e56;\n",
       "            color:  #000000;\n",
       "        }    #T_d7d66f46_8a65_11ea_9c59_abd2d5119b6arow16_col13 {\n",
       "            background-color:  #5e7de7;\n",
       "            color:  #000000;\n",
       "        }    #T_d7d66f46_8a65_11ea_9c59_abd2d5119b6arow16_col14 {\n",
       "            background-color:  #82a6fb;\n",
       "            color:  #000000;\n",
       "        }    #T_d7d66f46_8a65_11ea_9c59_abd2d5119b6arow16_col15 {\n",
       "            background-color:  #86a9fc;\n",
       "            color:  #000000;\n",
       "        }    #T_d7d66f46_8a65_11ea_9c59_abd2d5119b6arow16_col16 {\n",
       "            background-color:  #b40426;\n",
       "            color:  #f1f1f1;\n",
       "        }    #T_d7d66f46_8a65_11ea_9c59_abd2d5119b6arow16_col17 {\n",
       "            background-color:  #6c8ff1;\n",
       "            color:  #000000;\n",
       "        }    #T_d7d66f46_8a65_11ea_9c59_abd2d5119b6arow16_col18 {\n",
       "            background-color:  #3d50c3;\n",
       "            color:  #f1f1f1;\n",
       "        }    #T_d7d66f46_8a65_11ea_9c59_abd2d5119b6arow16_col19 {\n",
       "            background-color:  #3e51c5;\n",
       "            color:  #f1f1f1;\n",
       "        }    #T_d7d66f46_8a65_11ea_9c59_abd2d5119b6arow16_col20 {\n",
       "            background-color:  #9bbcff;\n",
       "            color:  #000000;\n",
       "        }    #T_d7d66f46_8a65_11ea_9c59_abd2d5119b6arow17_col0 {\n",
       "            background-color:  #b9d0f9;\n",
       "            color:  #000000;\n",
       "        }    #T_d7d66f46_8a65_11ea_9c59_abd2d5119b6arow17_col1 {\n",
       "            background-color:  #4c66d6;\n",
       "            color:  #000000;\n",
       "        }    #T_d7d66f46_8a65_11ea_9c59_abd2d5119b6arow17_col2 {\n",
       "            background-color:  #bfd3f6;\n",
       "            color:  #000000;\n",
       "        }    #T_d7d66f46_8a65_11ea_9c59_abd2d5119b6arow17_col3 {\n",
       "            background-color:  #5e7de7;\n",
       "            color:  #000000;\n",
       "        }    #T_d7d66f46_8a65_11ea_9c59_abd2d5119b6arow17_col4 {\n",
       "            background-color:  #536edd;\n",
       "            color:  #000000;\n",
       "        }    #T_d7d66f46_8a65_11ea_9c59_abd2d5119b6arow17_col5 {\n",
       "            background-color:  #f4987a;\n",
       "            color:  #000000;\n",
       "        }    #T_d7d66f46_8a65_11ea_9c59_abd2d5119b6arow17_col6 {\n",
       "            background-color:  #c83836;\n",
       "            color:  #f1f1f1;\n",
       "        }    #T_d7d66f46_8a65_11ea_9c59_abd2d5119b6arow17_col7 {\n",
       "            background-color:  #9abbff;\n",
       "            color:  #000000;\n",
       "        }    #T_d7d66f46_8a65_11ea_9c59_abd2d5119b6arow17_col8 {\n",
       "            background-color:  #afcafc;\n",
       "            color:  #000000;\n",
       "        }    #T_d7d66f46_8a65_11ea_9c59_abd2d5119b6arow17_col9 {\n",
       "            background-color:  #f7b497;\n",
       "            color:  #000000;\n",
       "        }    #T_d7d66f46_8a65_11ea_9c59_abd2d5119b6arow17_col10 {\n",
       "            background-color:  #f7b194;\n",
       "            color:  #000000;\n",
       "        }    #T_d7d66f46_8a65_11ea_9c59_abd2d5119b6arow17_col11 {\n",
       "            background-color:  #8badfd;\n",
       "            color:  #000000;\n",
       "        }    #T_d7d66f46_8a65_11ea_9c59_abd2d5119b6arow17_col12 {\n",
       "            background-color:  #4358cb;\n",
       "            color:  #f1f1f1;\n",
       "        }    #T_d7d66f46_8a65_11ea_9c59_abd2d5119b6arow17_col13 {\n",
       "            background-color:  #dddcdc;\n",
       "            color:  #000000;\n",
       "        }    #T_d7d66f46_8a65_11ea_9c59_abd2d5119b6arow17_col14 {\n",
       "            background-color:  #cedaeb;\n",
       "            color:  #000000;\n",
       "        }    #T_d7d66f46_8a65_11ea_9c59_abd2d5119b6arow17_col15 {\n",
       "            background-color:  #f1cdba;\n",
       "            color:  #000000;\n",
       "        }    #T_d7d66f46_8a65_11ea_9c59_abd2d5119b6arow17_col16 {\n",
       "            background-color:  #4961d2;\n",
       "            color:  #f1f1f1;\n",
       "        }    #T_d7d66f46_8a65_11ea_9c59_abd2d5119b6arow17_col17 {\n",
       "            background-color:  #b40426;\n",
       "            color:  #f1f1f1;\n",
       "        }    #T_d7d66f46_8a65_11ea_9c59_abd2d5119b6arow17_col18 {\n",
       "            background-color:  #3b4cc0;\n",
       "            color:  #f1f1f1;\n",
       "        }    #T_d7d66f46_8a65_11ea_9c59_abd2d5119b6arow17_col19 {\n",
       "            background-color:  #3d50c3;\n",
       "            color:  #f1f1f1;\n",
       "        }    #T_d7d66f46_8a65_11ea_9c59_abd2d5119b6arow17_col20 {\n",
       "            background-color:  #f49a7b;\n",
       "            color:  #000000;\n",
       "        }    #T_d7d66f46_8a65_11ea_9c59_abd2d5119b6arow18_col0 {\n",
       "            background-color:  #a9c6fd;\n",
       "            color:  #000000;\n",
       "        }    #T_d7d66f46_8a65_11ea_9c59_abd2d5119b6arow18_col1 {\n",
       "            background-color:  #aac7fd;\n",
       "            color:  #000000;\n",
       "        }    #T_d7d66f46_8a65_11ea_9c59_abd2d5119b6arow18_col2 {\n",
       "            background-color:  #779af7;\n",
       "            color:  #000000;\n",
       "        }    #T_d7d66f46_8a65_11ea_9c59_abd2d5119b6arow18_col3 {\n",
       "            background-color:  #b3cdfb;\n",
       "            color:  #000000;\n",
       "        }    #T_d7d66f46_8a65_11ea_9c59_abd2d5119b6arow18_col4 {\n",
       "            background-color:  #c4d5f3;\n",
       "            color:  #000000;\n",
       "        }    #T_d7d66f46_8a65_11ea_9c59_abd2d5119b6arow18_col5 {\n",
       "            background-color:  #b1cbfc;\n",
       "            color:  #000000;\n",
       "        }    #T_d7d66f46_8a65_11ea_9c59_abd2d5119b6arow18_col6 {\n",
       "            background-color:  #bad0f8;\n",
       "            color:  #000000;\n",
       "        }    #T_d7d66f46_8a65_11ea_9c59_abd2d5119b6arow18_col7 {\n",
       "            background-color:  #a6c4fe;\n",
       "            color:  #000000;\n",
       "        }    #T_d7d66f46_8a65_11ea_9c59_abd2d5119b6arow18_col8 {\n",
       "            background-color:  #a9c6fd;\n",
       "            color:  #000000;\n",
       "        }    #T_d7d66f46_8a65_11ea_9c59_abd2d5119b6arow18_col9 {\n",
       "            background-color:  #c1d4f4;\n",
       "            color:  #000000;\n",
       "        }    #T_d7d66f46_8a65_11ea_9c59_abd2d5119b6arow18_col10 {\n",
       "            background-color:  #c4d5f3;\n",
       "            color:  #000000;\n",
       "        }    #T_d7d66f46_8a65_11ea_9c59_abd2d5119b6arow18_col11 {\n",
       "            background-color:  #abc8fd;\n",
       "            color:  #000000;\n",
       "        }    #T_d7d66f46_8a65_11ea_9c59_abd2d5119b6arow18_col12 {\n",
       "            background-color:  #aac7fd;\n",
       "            color:  #000000;\n",
       "        }    #T_d7d66f46_8a65_11ea_9c59_abd2d5119b6arow18_col13 {\n",
       "            background-color:  #8badfd;\n",
       "            color:  #000000;\n",
       "        }    #T_d7d66f46_8a65_11ea_9c59_abd2d5119b6arow18_col14 {\n",
       "            background-color:  #85a8fc;\n",
       "            color:  #000000;\n",
       "        }    #T_d7d66f46_8a65_11ea_9c59_abd2d5119b6arow18_col15 {\n",
       "            background-color:  #a3c2fe;\n",
       "            color:  #000000;\n",
       "        }    #T_d7d66f46_8a65_11ea_9c59_abd2d5119b6arow18_col16 {\n",
       "            background-color:  #97b8ff;\n",
       "            color:  #000000;\n",
       "        }    #T_d7d66f46_8a65_11ea_9c59_abd2d5119b6arow18_col17 {\n",
       "            background-color:  #b2ccfb;\n",
       "            color:  #000000;\n",
       "        }    #T_d7d66f46_8a65_11ea_9c59_abd2d5119b6arow18_col18 {\n",
       "            background-color:  #b40426;\n",
       "            color:  #f1f1f1;\n",
       "        }    #T_d7d66f46_8a65_11ea_9c59_abd2d5119b6arow18_col19 {\n",
       "            background-color:  #3f53c6;\n",
       "            color:  #f1f1f1;\n",
       "        }    #T_d7d66f46_8a65_11ea_9c59_abd2d5119b6arow18_col20 {\n",
       "            background-color:  #bed2f6;\n",
       "            color:  #000000;\n",
       "        }    #T_d7d66f46_8a65_11ea_9c59_abd2d5119b6arow19_col0 {\n",
       "            background-color:  #a9c6fd;\n",
       "            color:  #000000;\n",
       "        }    #T_d7d66f46_8a65_11ea_9c59_abd2d5119b6arow19_col1 {\n",
       "            background-color:  #a9c6fd;\n",
       "            color:  #000000;\n",
       "        }    #T_d7d66f46_8a65_11ea_9c59_abd2d5119b6arow19_col2 {\n",
       "            background-color:  #799cf8;\n",
       "            color:  #000000;\n",
       "        }    #T_d7d66f46_8a65_11ea_9c59_abd2d5119b6arow19_col3 {\n",
       "            background-color:  #b2ccfb;\n",
       "            color:  #000000;\n",
       "        }    #T_d7d66f46_8a65_11ea_9c59_abd2d5119b6arow19_col4 {\n",
       "            background-color:  #c5d6f2;\n",
       "            color:  #000000;\n",
       "        }    #T_d7d66f46_8a65_11ea_9c59_abd2d5119b6arow19_col5 {\n",
       "            background-color:  #b1cbfc;\n",
       "            color:  #000000;\n",
       "        }    #T_d7d66f46_8a65_11ea_9c59_abd2d5119b6arow19_col6 {\n",
       "            background-color:  #bad0f8;\n",
       "            color:  #000000;\n",
       "        }    #T_d7d66f46_8a65_11ea_9c59_abd2d5119b6arow19_col7 {\n",
       "            background-color:  #a7c5fe;\n",
       "            color:  #000000;\n",
       "        }    #T_d7d66f46_8a65_11ea_9c59_abd2d5119b6arow19_col8 {\n",
       "            background-color:  #abc8fd;\n",
       "            color:  #000000;\n",
       "        }    #T_d7d66f46_8a65_11ea_9c59_abd2d5119b6arow19_col9 {\n",
       "            background-color:  #c1d4f4;\n",
       "            color:  #000000;\n",
       "        }    #T_d7d66f46_8a65_11ea_9c59_abd2d5119b6arow19_col10 {\n",
       "            background-color:  #c4d5f3;\n",
       "            color:  #000000;\n",
       "        }    #T_d7d66f46_8a65_11ea_9c59_abd2d5119b6arow19_col11 {\n",
       "            background-color:  #aac7fd;\n",
       "            color:  #000000;\n",
       "        }    #T_d7d66f46_8a65_11ea_9c59_abd2d5119b6arow19_col12 {\n",
       "            background-color:  #aac7fd;\n",
       "            color:  #000000;\n",
       "        }    #T_d7d66f46_8a65_11ea_9c59_abd2d5119b6arow19_col13 {\n",
       "            background-color:  #8badfd;\n",
       "            color:  #000000;\n",
       "        }    #T_d7d66f46_8a65_11ea_9c59_abd2d5119b6arow19_col14 {\n",
       "            background-color:  #84a7fc;\n",
       "            color:  #000000;\n",
       "        }    #T_d7d66f46_8a65_11ea_9c59_abd2d5119b6arow19_col15 {\n",
       "            background-color:  #9ebeff;\n",
       "            color:  #000000;\n",
       "        }    #T_d7d66f46_8a65_11ea_9c59_abd2d5119b6arow19_col16 {\n",
       "            background-color:  #97b8ff;\n",
       "            color:  #000000;\n",
       "        }    #T_d7d66f46_8a65_11ea_9c59_abd2d5119b6arow19_col17 {\n",
       "            background-color:  #b2ccfb;\n",
       "            color:  #000000;\n",
       "        }    #T_d7d66f46_8a65_11ea_9c59_abd2d5119b6arow19_col18 {\n",
       "            background-color:  #3d50c3;\n",
       "            color:  #f1f1f1;\n",
       "        }    #T_d7d66f46_8a65_11ea_9c59_abd2d5119b6arow19_col19 {\n",
       "            background-color:  #b40426;\n",
       "            color:  #f1f1f1;\n",
       "        }    #T_d7d66f46_8a65_11ea_9c59_abd2d5119b6arow19_col20 {\n",
       "            background-color:  #bbd1f8;\n",
       "            color:  #000000;\n",
       "        }    #T_d7d66f46_8a65_11ea_9c59_abd2d5119b6arow20_col0 {\n",
       "            background-color:  #c6d6f1;\n",
       "            color:  #000000;\n",
       "        }    #T_d7d66f46_8a65_11ea_9c59_abd2d5119b6arow20_col1 {\n",
       "            background-color:  #779af7;\n",
       "            color:  #000000;\n",
       "        }    #T_d7d66f46_8a65_11ea_9c59_abd2d5119b6arow20_col2 {\n",
       "            background-color:  #dbdcde;\n",
       "            color:  #000000;\n",
       "        }    #T_d7d66f46_8a65_11ea_9c59_abd2d5119b6arow20_col3 {\n",
       "            background-color:  #89acfd;\n",
       "            color:  #000000;\n",
       "        }    #T_d7d66f46_8a65_11ea_9c59_abd2d5119b6arow20_col4 {\n",
       "            background-color:  #455cce;\n",
       "            color:  #f1f1f1;\n",
       "        }    #T_d7d66f46_8a65_11ea_9c59_abd2d5119b6arow20_col5 {\n",
       "            background-color:  #f2c9b4;\n",
       "            color:  #000000;\n",
       "        }    #T_d7d66f46_8a65_11ea_9c59_abd2d5119b6arow20_col6 {\n",
       "            background-color:  #f18d6f;\n",
       "            color:  #000000;\n",
       "        }    #T_d7d66f46_8a65_11ea_9c59_abd2d5119b6arow20_col7 {\n",
       "            background-color:  #506bda;\n",
       "            color:  #000000;\n",
       "        }    #T_d7d66f46_8a65_11ea_9c59_abd2d5119b6arow20_col8 {\n",
       "            background-color:  #5f7fe8;\n",
       "            color:  #000000;\n",
       "        }    #T_d7d66f46_8a65_11ea_9c59_abd2d5119b6arow20_col9 {\n",
       "            background-color:  #f7b194;\n",
       "            color:  #000000;\n",
       "        }    #T_d7d66f46_8a65_11ea_9c59_abd2d5119b6arow20_col10 {\n",
       "            background-color:  #f59d7e;\n",
       "            color:  #000000;\n",
       "        }    #T_d7d66f46_8a65_11ea_9c59_abd2d5119b6arow20_col11 {\n",
       "            background-color:  #a5c3fe;\n",
       "            color:  #000000;\n",
       "        }    #T_d7d66f46_8a65_11ea_9c59_abd2d5119b6arow20_col12 {\n",
       "            background-color:  #6c8ff1;\n",
       "            color:  #000000;\n",
       "        }    #T_d7d66f46_8a65_11ea_9c59_abd2d5119b6arow20_col13 {\n",
       "            background-color:  #f0cdbb;\n",
       "            color:  #000000;\n",
       "        }    #T_d7d66f46_8a65_11ea_9c59_abd2d5119b6arow20_col14 {\n",
       "            background-color:  #f4c6af;\n",
       "            color:  #000000;\n",
       "        }    #T_d7d66f46_8a65_11ea_9c59_abd2d5119b6arow20_col15 {\n",
       "            background-color:  #d55042;\n",
       "            color:  #000000;\n",
       "        }    #T_d7d66f46_8a65_11ea_9c59_abd2d5119b6arow20_col16 {\n",
       "            background-color:  #6e90f2;\n",
       "            color:  #000000;\n",
       "        }    #T_d7d66f46_8a65_11ea_9c59_abd2d5119b6arow20_col17 {\n",
       "            background-color:  #f59f80;\n",
       "            color:  #000000;\n",
       "        }    #T_d7d66f46_8a65_11ea_9c59_abd2d5119b6arow20_col18 {\n",
       "            background-color:  #3d50c3;\n",
       "            color:  #f1f1f1;\n",
       "        }    #T_d7d66f46_8a65_11ea_9c59_abd2d5119b6arow20_col19 {\n",
       "            background-color:  #3b4cc0;\n",
       "            color:  #f1f1f1;\n",
       "        }    #T_d7d66f46_8a65_11ea_9c59_abd2d5119b6arow20_col20 {\n",
       "            background-color:  #b40426;\n",
       "            color:  #f1f1f1;\n",
       "        }</style><table id=\"T_d7d66f46_8a65_11ea_9c59_abd2d5119b6a\" ><thead>    <tr>        <th class=\"blank level0\" ></th>        <th class=\"col_heading level0 col0\" >mintemp</th>        <th class=\"col_heading level0 col1\" >maxtemp</th>        <th class=\"col_heading level0 col2\" >rainfall</th>        <th class=\"col_heading level0 col3\" >evaporation</th>        <th class=\"col_heading level0 col4\" >sunshine</th>        <th class=\"col_heading level0 col5\" >humidity9am</th>        <th class=\"col_heading level0 col6\" >humidity3pm</th>        <th class=\"col_heading level0 col7\" >pressure9am</th>        <th class=\"col_heading level0 col8\" >pressure3pm</th>        <th class=\"col_heading level0 col9\" >cloud9am</th>        <th class=\"col_heading level0 col10\" >cloud3pm</th>        <th class=\"col_heading level0 col11\" >temp9am</th>        <th class=\"col_heading level0 col12\" >temp3pm</th>        <th class=\"col_heading level0 col13\" >raintoday</th>        <th class=\"col_heading level0 col14\" >amountOfRain</th>        <th class=\"col_heading level0 col15\" >raintomorrow</th>        <th class=\"col_heading level0 col16\" >temp</th>        <th class=\"col_heading level0 col17\" >humidity</th>        <th class=\"col_heading level0 col18\" >precipitation3pm</th>        <th class=\"col_heading level0 col19\" >precipitation9am</th>        <th class=\"col_heading level0 col20\" >modelo_vigente</th>    </tr></thead><tbody>\n",
       "                <tr>\n",
       "                        <th id=\"T_d7d66f46_8a65_11ea_9c59_abd2d5119b6alevel0_row0\" class=\"row_heading level0 row0\" >mintemp</th>\n",
       "                        <td id=\"T_d7d66f46_8a65_11ea_9c59_abd2d5119b6arow0_col0\" class=\"data row0 col0\" >1.000000</td>\n",
       "                        <td id=\"T_d7d66f46_8a65_11ea_9c59_abd2d5119b6arow0_col1\" class=\"data row0 col1\" >0.743674</td>\n",
       "                        <td id=\"T_d7d66f46_8a65_11ea_9c59_abd2d5119b6arow0_col2\" class=\"data row0 col2\" >0.110846</td>\n",
       "                        <td id=\"T_d7d66f46_8a65_11ea_9c59_abd2d5119b6arow0_col3\" class=\"data row0 col3\" >0.510004</td>\n",
       "                        <td id=\"T_d7d66f46_8a65_11ea_9c59_abd2d5119b6arow0_col4\" class=\"data row0 col4\" >0.070680</td>\n",
       "                        <td id=\"T_d7d66f46_8a65_11ea_9c59_abd2d5119b6arow0_col5\" class=\"data row0 col5\" >-0.177758</td>\n",
       "                        <td id=\"T_d7d66f46_8a65_11ea_9c59_abd2d5119b6arow0_col6\" class=\"data row0 col6\" >0.076333</td>\n",
       "                        <td id=\"T_d7d66f46_8a65_11ea_9c59_abd2d5119b6arow0_col7\" class=\"data row0 col7\" >-0.475451</td>\n",
       "                        <td id=\"T_d7d66f46_8a65_11ea_9c59_abd2d5119b6arow0_col8\" class=\"data row0 col8\" >-0.491435</td>\n",
       "                        <td id=\"T_d7d66f46_8a65_11ea_9c59_abd2d5119b6arow0_col9\" class=\"data row0 col9\" >0.115204</td>\n",
       "                        <td id=\"T_d7d66f46_8a65_11ea_9c59_abd2d5119b6arow0_col10\" class=\"data row0 col10\" >0.050917</td>\n",
       "                        <td id=\"T_d7d66f46_8a65_11ea_9c59_abd2d5119b6arow0_col11\" class=\"data row0 col11\" >0.905552</td>\n",
       "                        <td id=\"T_d7d66f46_8a65_11ea_9c59_abd2d5119b6arow0_col12\" class=\"data row0 col12\" >0.720796</td>\n",
       "                        <td id=\"T_d7d66f46_8a65_11ea_9c59_abd2d5119b6arow0_col13\" class=\"data row0 col13\" >0.051478</td>\n",
       "                        <td id=\"T_d7d66f46_8a65_11ea_9c59_abd2d5119b6arow0_col14\" class=\"data row0 col14\" >0.142911</td>\n",
       "                        <td id=\"T_d7d66f46_8a65_11ea_9c59_abd2d5119b6arow0_col15\" class=\"data row0 col15\" >0.088964</td>\n",
       "                        <td id=\"T_d7d66f46_8a65_11ea_9c59_abd2d5119b6arow0_col16\" class=\"data row0 col16\" >0.578773</td>\n",
       "                        <td id=\"T_d7d66f46_8a65_11ea_9c59_abd2d5119b6arow0_col17\" class=\"data row0 col17\" >0.068579</td>\n",
       "                        <td id=\"T_d7d66f46_8a65_11ea_9c59_abd2d5119b6arow0_col18\" class=\"data row0 col18\" >0.003508</td>\n",
       "                        <td id=\"T_d7d66f46_8a65_11ea_9c59_abd2d5119b6arow0_col19\" class=\"data row0 col19\" >-0.001382</td>\n",
       "                        <td id=\"T_d7d66f46_8a65_11ea_9c59_abd2d5119b6arow0_col20\" class=\"data row0 col20\" >0.135744</td>\n",
       "            </tr>\n",
       "            <tr>\n",
       "                        <th id=\"T_d7d66f46_8a65_11ea_9c59_abd2d5119b6alevel0_row1\" class=\"row_heading level0 row1\" >maxtemp</th>\n",
       "                        <td id=\"T_d7d66f46_8a65_11ea_9c59_abd2d5119b6arow1_col0\" class=\"data row1 col0\" >0.743674</td>\n",
       "                        <td id=\"T_d7d66f46_8a65_11ea_9c59_abd2d5119b6arow1_col1\" class=\"data row1 col1\" >1.000000</td>\n",
       "                        <td id=\"T_d7d66f46_8a65_11ea_9c59_abd2d5119b6arow1_col2\" class=\"data row1 col2\" >-0.069482</td>\n",
       "                        <td id=\"T_d7d66f46_8a65_11ea_9c59_abd2d5119b6arow1_col3\" class=\"data row1 col3\" >0.652247</td>\n",
       "                        <td id=\"T_d7d66f46_8a65_11ea_9c59_abd2d5119b6arow1_col4\" class=\"data row1 col4\" >0.461698</td>\n",
       "                        <td id=\"T_d7d66f46_8a65_11ea_9c59_abd2d5119b6arow1_col5\" class=\"data row1 col5\" >-0.496329</td>\n",
       "                        <td id=\"T_d7d66f46_8a65_11ea_9c59_abd2d5119b6arow1_col6\" class=\"data row1 col6\" >-0.448043</td>\n",
       "                        <td id=\"T_d7d66f46_8a65_11ea_9c59_abd2d5119b6arow1_col7\" class=\"data row1 col7\" >-0.355855</td>\n",
       "                        <td id=\"T_d7d66f46_8a65_11ea_9c59_abd2d5119b6arow1_col8\" class=\"data row1 col8\" >-0.454047</td>\n",
       "                        <td id=\"T_d7d66f46_8a65_11ea_9c59_abd2d5119b6arow1_col9\" class=\"data row1 col9\" >-0.262003</td>\n",
       "                        <td id=\"T_d7d66f46_8a65_11ea_9c59_abd2d5119b6arow1_col10\" class=\"data row1 col10\" >-0.253183</td>\n",
       "                        <td id=\"T_d7d66f46_8a65_11ea_9c59_abd2d5119b6arow1_col11\" class=\"data row1 col11\" >0.890743</td>\n",
       "                        <td id=\"T_d7d66f46_8a65_11ea_9c59_abd2d5119b6arow1_col12\" class=\"data row1 col12\" >0.984101</td>\n",
       "                        <td id=\"T_d7d66f46_8a65_11ea_9c59_abd2d5119b6arow1_col13\" class=\"data row1 col13\" >-0.220012</td>\n",
       "                        <td id=\"T_d7d66f46_8a65_11ea_9c59_abd2d5119b6arow1_col14\" class=\"data row1 col14\" >-0.015487</td>\n",
       "                        <td id=\"T_d7d66f46_8a65_11ea_9c59_abd2d5119b6arow1_col15\" class=\"data row1 col15\" >-0.144498</td>\n",
       "                        <td id=\"T_d7d66f46_8a65_11ea_9c59_abd2d5119b6arow1_col16\" class=\"data row1 col16\" >0.779778</td>\n",
       "                        <td id=\"T_d7d66f46_8a65_11ea_9c59_abd2d5119b6arow1_col17\" class=\"data row1 col17\" >-0.406402</td>\n",
       "                        <td id=\"T_d7d66f46_8a65_11ea_9c59_abd2d5119b6arow1_col18\" class=\"data row1 col18\" >0.003385</td>\n",
       "                        <td id=\"T_d7d66f46_8a65_11ea_9c59_abd2d5119b6arow1_col19\" class=\"data row1 col19\" >-0.001055</td>\n",
       "                        <td id=\"T_d7d66f46_8a65_11ea_9c59_abd2d5119b6arow1_col20\" class=\"data row1 col20\" >-0.212616</td>\n",
       "            </tr>\n",
       "            <tr>\n",
       "                        <th id=\"T_d7d66f46_8a65_11ea_9c59_abd2d5119b6alevel0_row2\" class=\"row_heading level0 row2\" >rainfall</th>\n",
       "                        <td id=\"T_d7d66f46_8a65_11ea_9c59_abd2d5119b6arow2_col0\" class=\"data row2 col0\" >0.110846</td>\n",
       "                        <td id=\"T_d7d66f46_8a65_11ea_9c59_abd2d5119b6arow2_col1\" class=\"data row2 col1\" >-0.069482</td>\n",
       "                        <td id=\"T_d7d66f46_8a65_11ea_9c59_abd2d5119b6arow2_col2\" class=\"data row2 col2\" >1.000000</td>\n",
       "                        <td id=\"T_d7d66f46_8a65_11ea_9c59_abd2d5119b6arow2_col3\" class=\"data row2 col3\" >-0.074049</td>\n",
       "                        <td id=\"T_d7d66f46_8a65_11ea_9c59_abd2d5119b6arow2_col4\" class=\"data row2 col4\" >-0.243738</td>\n",
       "                        <td id=\"T_d7d66f46_8a65_11ea_9c59_abd2d5119b6arow2_col5\" class=\"data row2 col5\" >0.258127</td>\n",
       "                        <td id=\"T_d7d66f46_8a65_11ea_9c59_abd2d5119b6arow2_col6\" class=\"data row2 col6\" >0.270421</td>\n",
       "                        <td id=\"T_d7d66f46_8a65_11ea_9c59_abd2d5119b6arow2_col7\" class=\"data row2 col7\" >-0.177673</td>\n",
       "                        <td id=\"T_d7d66f46_8a65_11ea_9c59_abd2d5119b6arow2_col8\" class=\"data row2 col8\" >-0.133452</td>\n",
       "                        <td id=\"T_d7d66f46_8a65_11ea_9c59_abd2d5119b6arow2_col9\" class=\"data row2 col9\" >0.215699</td>\n",
       "                        <td id=\"T_d7d66f46_8a65_11ea_9c59_abd2d5119b6arow2_col10\" class=\"data row2 col10\" >0.191743</td>\n",
       "                        <td id=\"T_d7d66f46_8a65_11ea_9c59_abd2d5119b6arow2_col11\" class=\"data row2 col11\" >0.014438</td>\n",
       "                        <td id=\"T_d7d66f46_8a65_11ea_9c59_abd2d5119b6arow2_col12\" class=\"data row2 col12\" >-0.073640</td>\n",
       "                        <td id=\"T_d7d66f46_8a65_11ea_9c59_abd2d5119b6arow2_col13\" class=\"data row2 col13\" >0.553481</td>\n",
       "                        <td id=\"T_d7d66f46_8a65_11ea_9c59_abd2d5119b6arow2_col14\" class=\"data row2 col14\" >0.302723</td>\n",
       "                        <td id=\"T_d7d66f46_8a65_11ea_9c59_abd2d5119b6arow2_col15\" class=\"data row2 col15\" >0.253773</td>\n",
       "                        <td id=\"T_d7d66f46_8a65_11ea_9c59_abd2d5119b6arow2_col16\" class=\"data row2 col16\" >-0.060093</td>\n",
       "                        <td id=\"T_d7d66f46_8a65_11ea_9c59_abd2d5119b6arow2_col17\" class=\"data row2 col17\" >0.247128</td>\n",
       "                        <td id=\"T_d7d66f46_8a65_11ea_9c59_abd2d5119b6arow2_col18\" class=\"data row2 col18\" >-0.007556</td>\n",
       "                        <td id=\"T_d7d66f46_8a65_11ea_9c59_abd2d5119b6arow2_col19\" class=\"data row2 col19\" >-0.003066</td>\n",
       "                        <td id=\"T_d7d66f46_8a65_11ea_9c59_abd2d5119b6arow2_col20\" class=\"data row2 col20\" >0.371184</td>\n",
       "            </tr>\n",
       "            <tr>\n",
       "                        <th id=\"T_d7d66f46_8a65_11ea_9c59_abd2d5119b6alevel0_row3\" class=\"row_heading level0 row3\" >evaporation</th>\n",
       "                        <td id=\"T_d7d66f46_8a65_11ea_9c59_abd2d5119b6arow3_col0\" class=\"data row3 col0\" >0.510004</td>\n",
       "                        <td id=\"T_d7d66f46_8a65_11ea_9c59_abd2d5119b6arow3_col1\" class=\"data row3 col1\" >0.652247</td>\n",
       "                        <td id=\"T_d7d66f46_8a65_11ea_9c59_abd2d5119b6arow3_col2\" class=\"data row3 col2\" >-0.074049</td>\n",
       "                        <td id=\"T_d7d66f46_8a65_11ea_9c59_abd2d5119b6arow3_col3\" class=\"data row3 col3\" >1.000000</td>\n",
       "                        <td id=\"T_d7d66f46_8a65_11ea_9c59_abd2d5119b6arow3_col4\" class=\"data row3 col4\" >0.366577</td>\n",
       "                        <td id=\"T_d7d66f46_8a65_11ea_9c59_abd2d5119b6arow3_col5\" class=\"data row3 col5\" >-0.554104</td>\n",
       "                        <td id=\"T_d7d66f46_8a65_11ea_9c59_abd2d5119b6arow3_col6\" class=\"data row3 col6\" >-0.414895</td>\n",
       "                        <td id=\"T_d7d66f46_8a65_11ea_9c59_abd2d5119b6arow3_col7\" class=\"data row3 col7\" >-0.304406</td>\n",
       "                        <td id=\"T_d7d66f46_8a65_11ea_9c59_abd2d5119b6arow3_col8\" class=\"data row3 col8\" >-0.330799</td>\n",
       "                        <td id=\"T_d7d66f46_8a65_11ea_9c59_abd2d5119b6arow3_col9\" class=\"data row3 col9\" >-0.192775</td>\n",
       "                        <td id=\"T_d7d66f46_8a65_11ea_9c59_abd2d5119b6arow3_col10\" class=\"data row3 col10\" >-0.196180</td>\n",
       "                        <td id=\"T_d7d66f46_8a65_11ea_9c59_abd2d5119b6arow3_col11\" class=\"data row3 col11\" >0.598609</td>\n",
       "                        <td id=\"T_d7d66f46_8a65_11ea_9c59_abd2d5119b6arow3_col12\" class=\"data row3 col12\" >0.631686</td>\n",
       "                        <td id=\"T_d7d66f46_8a65_11ea_9c59_abd2d5119b6arow3_col13\" class=\"data row3 col13\" >-0.213291</td>\n",
       "                        <td id=\"T_d7d66f46_8a65_11ea_9c59_abd2d5119b6arow3_col14\" class=\"data row3 col14\" >-0.042126</td>\n",
       "                        <td id=\"T_d7d66f46_8a65_11ea_9c59_abd2d5119b6arow3_col15\" class=\"data row3 col15\" >-0.127257</td>\n",
       "                        <td id=\"T_d7d66f46_8a65_11ea_9c59_abd2d5119b6arow3_col16\" class=\"data row3 col16\" >0.509947</td>\n",
       "                        <td id=\"T_d7d66f46_8a65_11ea_9c59_abd2d5119b6arow3_col17\" class=\"data row3 col17\" >-0.375537</td>\n",
       "                        <td id=\"T_d7d66f46_8a65_11ea_9c59_abd2d5119b6arow3_col18\" class=\"data row3 col18\" >0.007043</td>\n",
       "                        <td id=\"T_d7d66f46_8a65_11ea_9c59_abd2d5119b6arow3_col19\" class=\"data row3 col19\" >-0.000189</td>\n",
       "                        <td id=\"T_d7d66f46_8a65_11ea_9c59_abd2d5119b6arow3_col20\" class=\"data row3 col20\" >-0.183537</td>\n",
       "            </tr>\n",
       "            <tr>\n",
       "                        <th id=\"T_d7d66f46_8a65_11ea_9c59_abd2d5119b6alevel0_row4\" class=\"row_heading level0 row4\" >sunshine</th>\n",
       "                        <td id=\"T_d7d66f46_8a65_11ea_9c59_abd2d5119b6arow4_col0\" class=\"data row4 col0\" >0.070680</td>\n",
       "                        <td id=\"T_d7d66f46_8a65_11ea_9c59_abd2d5119b6arow4_col1\" class=\"data row4 col1\" >0.461698</td>\n",
       "                        <td id=\"T_d7d66f46_8a65_11ea_9c59_abd2d5119b6arow4_col2\" class=\"data row4 col2\" >-0.243738</td>\n",
       "                        <td id=\"T_d7d66f46_8a65_11ea_9c59_abd2d5119b6arow4_col3\" class=\"data row4 col3\" >0.366577</td>\n",
       "                        <td id=\"T_d7d66f46_8a65_11ea_9c59_abd2d5119b6arow4_col4\" class=\"data row4 col4\" >1.000000</td>\n",
       "                        <td id=\"T_d7d66f46_8a65_11ea_9c59_abd2d5119b6arow4_col5\" class=\"data row4 col5\" >-0.498855</td>\n",
       "                        <td id=\"T_d7d66f46_8a65_11ea_9c59_abd2d5119b6arow4_col6\" class=\"data row4 col6\" >-0.622767</td>\n",
       "                        <td id=\"T_d7d66f46_8a65_11ea_9c59_abd2d5119b6arow4_col7\" class=\"data row4 col7\" >0.035783</td>\n",
       "                        <td id=\"T_d7d66f46_8a65_11ea_9c59_abd2d5119b6arow4_col8\" class=\"data row4 col8\" >-0.027949</td>\n",
       "                        <td id=\"T_d7d66f46_8a65_11ea_9c59_abd2d5119b6arow4_col9\" class=\"data row4 col9\" >-0.678801</td>\n",
       "                        <td id=\"T_d7d66f46_8a65_11ea_9c59_abd2d5119b6arow4_col10\" class=\"data row4 col10\" >-0.704871</td>\n",
       "                        <td id=\"T_d7d66f46_8a65_11ea_9c59_abd2d5119b6arow4_col11\" class=\"data row4 col11\" >0.285678</td>\n",
       "                        <td id=\"T_d7d66f46_8a65_11ea_9c59_abd2d5119b6arow4_col12\" class=\"data row4 col12\" >0.483256</td>\n",
       "                        <td id=\"T_d7d66f46_8a65_11ea_9c59_abd2d5119b6arow4_col13\" class=\"data row4 col13\" >-0.327720</td>\n",
       "                        <td id=\"T_d7d66f46_8a65_11ea_9c59_abd2d5119b6arow4_col14\" class=\"data row4 col14\" >-0.298182</td>\n",
       "                        <td id=\"T_d7d66f46_8a65_11ea_9c59_abd2d5119b6arow4_col15\" class=\"data row4 col15\" >-0.449261</td>\n",
       "                        <td id=\"T_d7d66f46_8a65_11ea_9c59_abd2d5119b6arow4_col16\" class=\"data row4 col16\" >0.359295</td>\n",
       "                        <td id=\"T_d7d66f46_8a65_11ea_9c59_abd2d5119b6arow4_col17\" class=\"data row4 col17\" >-0.565134</td>\n",
       "                        <td id=\"T_d7d66f46_8a65_11ea_9c59_abd2d5119b6arow4_col18\" class=\"data row4 col18\" >-0.003376</td>\n",
       "                        <td id=\"T_d7d66f46_8a65_11ea_9c59_abd2d5119b6arow4_col19\" class=\"data row4 col19\" >0.004404</td>\n",
       "                        <td id=\"T_d7d66f46_8a65_11ea_9c59_abd2d5119b6arow4_col20\" class=\"data row4 col20\" >-0.643104</td>\n",
       "            </tr>\n",
       "            <tr>\n",
       "                        <th id=\"T_d7d66f46_8a65_11ea_9c59_abd2d5119b6alevel0_row5\" class=\"row_heading level0 row5\" >humidity9am</th>\n",
       "                        <td id=\"T_d7d66f46_8a65_11ea_9c59_abd2d5119b6arow5_col0\" class=\"data row5 col0\" >-0.177758</td>\n",
       "                        <td id=\"T_d7d66f46_8a65_11ea_9c59_abd2d5119b6arow5_col1\" class=\"data row5 col1\" >-0.496329</td>\n",
       "                        <td id=\"T_d7d66f46_8a65_11ea_9c59_abd2d5119b6arow5_col2\" class=\"data row5 col2\" >0.258127</td>\n",
       "                        <td id=\"T_d7d66f46_8a65_11ea_9c59_abd2d5119b6arow5_col3\" class=\"data row5 col3\" >-0.554104</td>\n",
       "                        <td id=\"T_d7d66f46_8a65_11ea_9c59_abd2d5119b6arow5_col4\" class=\"data row5 col4\" >-0.498855</td>\n",
       "                        <td id=\"T_d7d66f46_8a65_11ea_9c59_abd2d5119b6arow5_col5\" class=\"data row5 col5\" >1.000000</td>\n",
       "                        <td id=\"T_d7d66f46_8a65_11ea_9c59_abd2d5119b6arow5_col6\" class=\"data row5 col6\" >0.679847</td>\n",
       "                        <td id=\"T_d7d66f46_8a65_11ea_9c59_abd2d5119b6arow5_col7\" class=\"data row5 col7\" >0.122421</td>\n",
       "                        <td id=\"T_d7d66f46_8a65_11ea_9c59_abd2d5119b6arow5_col8\" class=\"data row5 col8\" >0.178441</td>\n",
       "                        <td id=\"T_d7d66f46_8a65_11ea_9c59_abd2d5119b6arow5_col9\" class=\"data row5 col9\" >0.432826</td>\n",
       "                        <td id=\"T_d7d66f46_8a65_11ea_9c59_abd2d5119b6arow5_col10\" class=\"data row5 col10\" >0.344565</td>\n",
       "                        <td id=\"T_d7d66f46_8a65_11ea_9c59_abd2d5119b6arow5_col11\" class=\"data row5 col11\" >-0.426737</td>\n",
       "                        <td id=\"T_d7d66f46_8a65_11ea_9c59_abd2d5119b6arow5_col12\" class=\"data row5 col12\" >-0.487789</td>\n",
       "                        <td id=\"T_d7d66f46_8a65_11ea_9c59_abd2d5119b6arow5_col13\" class=\"data row5 col13\" >0.371288</td>\n",
       "                        <td id=\"T_d7d66f46_8a65_11ea_9c59_abd2d5119b6arow5_col14\" class=\"data row5 col14\" >0.177473</td>\n",
       "                        <td id=\"T_d7d66f46_8a65_11ea_9c59_abd2d5119b6arow5_col15\" class=\"data row5 col15\" >0.265360</td>\n",
       "                        <td id=\"T_d7d66f46_8a65_11ea_9c59_abd2d5119b6arow5_col16\" class=\"data row5 col16\" >-0.388460</td>\n",
       "                        <td id=\"T_d7d66f46_8a65_11ea_9c59_abd2d5119b6arow5_col17\" class=\"data row5 col17\" >0.617538</td>\n",
       "                        <td id=\"T_d7d66f46_8a65_11ea_9c59_abd2d5119b6arow5_col18\" class=\"data row5 col18\" >-0.003913</td>\n",
       "                        <td id=\"T_d7d66f46_8a65_11ea_9c59_abd2d5119b6arow5_col19\" class=\"data row5 col19\" >-0.001670</td>\n",
       "                        <td id=\"T_d7d66f46_8a65_11ea_9c59_abd2d5119b6arow5_col20\" class=\"data row5 col20\" >0.392692</td>\n",
       "            </tr>\n",
       "            <tr>\n",
       "                        <th id=\"T_d7d66f46_8a65_11ea_9c59_abd2d5119b6alevel0_row6\" class=\"row_heading level0 row6\" >humidity3pm</th>\n",
       "                        <td id=\"T_d7d66f46_8a65_11ea_9c59_abd2d5119b6arow6_col0\" class=\"data row6 col0\" >0.076333</td>\n",
       "                        <td id=\"T_d7d66f46_8a65_11ea_9c59_abd2d5119b6arow6_col1\" class=\"data row6 col1\" >-0.448043</td>\n",
       "                        <td id=\"T_d7d66f46_8a65_11ea_9c59_abd2d5119b6arow6_col2\" class=\"data row6 col2\" >0.270421</td>\n",
       "                        <td id=\"T_d7d66f46_8a65_11ea_9c59_abd2d5119b6arow6_col3\" class=\"data row6 col3\" >-0.414895</td>\n",
       "                        <td id=\"T_d7d66f46_8a65_11ea_9c59_abd2d5119b6arow6_col4\" class=\"data row6 col4\" >-0.622767</td>\n",
       "                        <td id=\"T_d7d66f46_8a65_11ea_9c59_abd2d5119b6arow6_col5\" class=\"data row6 col5\" >0.679847</td>\n",
       "                        <td id=\"T_d7d66f46_8a65_11ea_9c59_abd2d5119b6arow6_col6\" class=\"data row6 col6\" >1.000000</td>\n",
       "                        <td id=\"T_d7d66f46_8a65_11ea_9c59_abd2d5119b6arow6_col7\" class=\"data row6 col7\" >-0.057837</td>\n",
       "                        <td id=\"T_d7d66f46_8a65_11ea_9c59_abd2d5119b6arow6_col8\" class=\"data row6 col8\" >0.028653</td>\n",
       "                        <td id=\"T_d7d66f46_8a65_11ea_9c59_abd2d5119b6arow6_col9\" class=\"data row6 col9\" >0.507677</td>\n",
       "                        <td id=\"T_d7d66f46_8a65_11ea_9c59_abd2d5119b6arow6_col10\" class=\"data row6 col10\" >0.507461</td>\n",
       "                        <td id=\"T_d7d66f46_8a65_11ea_9c59_abd2d5119b6arow6_col11\" class=\"data row6 col11\" >-0.148491</td>\n",
       "                        <td id=\"T_d7d66f46_8a65_11ea_9c59_abd2d5119b6arow6_col12\" class=\"data row6 col12\" >-0.498921</td>\n",
       "                        <td id=\"T_d7d66f46_8a65_11ea_9c59_abd2d5119b6arow6_col13\" class=\"data row6 col13\" >0.376480</td>\n",
       "                        <td id=\"T_d7d66f46_8a65_11ea_9c59_abd2d5119b6arow6_col14\" class=\"data row6 col14\" >0.309910</td>\n",
       "                        <td id=\"T_d7d66f46_8a65_11ea_9c59_abd2d5119b6arow6_col15\" class=\"data row6 col15\" >0.447742</td>\n",
       "                        <td id=\"T_d7d66f46_8a65_11ea_9c59_abd2d5119b6arow6_col16\" class=\"data row6 col16\" >-0.351533</td>\n",
       "                        <td id=\"T_d7d66f46_8a65_11ea_9c59_abd2d5119b6arow6_col17\" class=\"data row6 col17\" >0.907959</td>\n",
       "                        <td id=\"T_d7d66f46_8a65_11ea_9c59_abd2d5119b6arow6_col18\" class=\"data row6 col18\" >-0.003120</td>\n",
       "                        <td id=\"T_d7d66f46_8a65_11ea_9c59_abd2d5119b6arow6_col19\" class=\"data row6 col19\" >-0.003777</td>\n",
       "                        <td id=\"T_d7d66f46_8a65_11ea_9c59_abd2d5119b6arow6_col20\" class=\"data row6 col20\" >0.644851</td>\n",
       "            </tr>\n",
       "            <tr>\n",
       "                        <th id=\"T_d7d66f46_8a65_11ea_9c59_abd2d5119b6alevel0_row7\" class=\"row_heading level0 row7\" >pressure9am</th>\n",
       "                        <td id=\"T_d7d66f46_8a65_11ea_9c59_abd2d5119b6arow7_col0\" class=\"data row7 col0\" >-0.475451</td>\n",
       "                        <td id=\"T_d7d66f46_8a65_11ea_9c59_abd2d5119b6arow7_col1\" class=\"data row7 col1\" >-0.355855</td>\n",
       "                        <td id=\"T_d7d66f46_8a65_11ea_9c59_abd2d5119b6arow7_col2\" class=\"data row7 col2\" >-0.177673</td>\n",
       "                        <td id=\"T_d7d66f46_8a65_11ea_9c59_abd2d5119b6arow7_col3\" class=\"data row7 col3\" >-0.304406</td>\n",
       "                        <td id=\"T_d7d66f46_8a65_11ea_9c59_abd2d5119b6arow7_col4\" class=\"data row7 col4\" >0.035783</td>\n",
       "                        <td id=\"T_d7d66f46_8a65_11ea_9c59_abd2d5119b6arow7_col5\" class=\"data row7 col5\" >0.122421</td>\n",
       "                        <td id=\"T_d7d66f46_8a65_11ea_9c59_abd2d5119b6arow7_col6\" class=\"data row7 col6\" >-0.057837</td>\n",
       "                        <td id=\"T_d7d66f46_8a65_11ea_9c59_abd2d5119b6arow7_col7\" class=\"data row7 col7\" >1.000000</td>\n",
       "                        <td id=\"T_d7d66f46_8a65_11ea_9c59_abd2d5119b6arow7_col8\" class=\"data row7 col8\" >0.961926</td>\n",
       "                        <td id=\"T_d7d66f46_8a65_11ea_9c59_abd2d5119b6arow7_col9\" class=\"data row7 col9\" >-0.142788</td>\n",
       "                        <td id=\"T_d7d66f46_8a65_11ea_9c59_abd2d5119b6arow7_col10\" class=\"data row7 col10\" >-0.164998</td>\n",
       "                        <td id=\"T_d7d66f46_8a65_11ea_9c59_abd2d5119b6arow7_col11\" class=\"data row7 col11\" >-0.447688</td>\n",
       "                        <td id=\"T_d7d66f46_8a65_11ea_9c59_abd2d5119b6arow7_col12\" class=\"data row7 col12\" >-0.314549</td>\n",
       "                        <td id=\"T_d7d66f46_8a65_11ea_9c59_abd2d5119b6arow7_col13\" class=\"data row7 col13\" >-0.183468</td>\n",
       "                        <td id=\"T_d7d66f46_8a65_11ea_9c59_abd2d5119b6arow7_col14\" class=\"data row7 col14\" >-0.174923</td>\n",
       "                        <td id=\"T_d7d66f46_8a65_11ea_9c59_abd2d5119b6arow7_col15\" class=\"data row7 col15\" >-0.255934</td>\n",
       "                        <td id=\"T_d7d66f46_8a65_11ea_9c59_abd2d5119b6arow7_col16\" class=\"data row7 col16\" >-0.274905</td>\n",
       "                        <td id=\"T_d7d66f46_8a65_11ea_9c59_abd2d5119b6arow7_col17\" class=\"data row7 col17\" >-0.052670</td>\n",
       "                        <td id=\"T_d7d66f46_8a65_11ea_9c59_abd2d5119b6arow7_col18\" class=\"data row7 col18\" >-0.002484</td>\n",
       "                        <td id=\"T_d7d66f46_8a65_11ea_9c59_abd2d5119b6arow7_col19\" class=\"data row7 col19\" >0.003967</td>\n",
       "                        <td id=\"T_d7d66f46_8a65_11ea_9c59_abd2d5119b6arow7_col20\" class=\"data row7 col20\" >-0.371539</td>\n",
       "            </tr>\n",
       "            <tr>\n",
       "                        <th id=\"T_d7d66f46_8a65_11ea_9c59_abd2d5119b6alevel0_row8\" class=\"row_heading level0 row8\" >pressure3pm</th>\n",
       "                        <td id=\"T_d7d66f46_8a65_11ea_9c59_abd2d5119b6arow8_col0\" class=\"data row8 col0\" >-0.491435</td>\n",
       "                        <td id=\"T_d7d66f46_8a65_11ea_9c59_abd2d5119b6arow8_col1\" class=\"data row8 col1\" >-0.454047</td>\n",
       "                        <td id=\"T_d7d66f46_8a65_11ea_9c59_abd2d5119b6arow8_col2\" class=\"data row8 col2\" >-0.133452</td>\n",
       "                        <td id=\"T_d7d66f46_8a65_11ea_9c59_abd2d5119b6arow8_col3\" class=\"data row8 col3\" >-0.330799</td>\n",
       "                        <td id=\"T_d7d66f46_8a65_11ea_9c59_abd2d5119b6arow8_col4\" class=\"data row8 col4\" >-0.027949</td>\n",
       "                        <td id=\"T_d7d66f46_8a65_11ea_9c59_abd2d5119b6arow8_col5\" class=\"data row8 col5\" >0.178441</td>\n",
       "                        <td id=\"T_d7d66f46_8a65_11ea_9c59_abd2d5119b6arow8_col6\" class=\"data row8 col6\" >0.028653</td>\n",
       "                        <td id=\"T_d7d66f46_8a65_11ea_9c59_abd2d5119b6arow8_col7\" class=\"data row8 col7\" >0.961926</td>\n",
       "                        <td id=\"T_d7d66f46_8a65_11ea_9c59_abd2d5119b6arow8_col8\" class=\"data row8 col8\" >1.000000</td>\n",
       "                        <td id=\"T_d7d66f46_8a65_11ea_9c59_abd2d5119b6arow8_col9\" class=\"data row8 col9\" >-0.074193</td>\n",
       "                        <td id=\"T_d7d66f46_8a65_11ea_9c59_abd2d5119b6arow8_col10\" class=\"data row8 col10\" >-0.101631</td>\n",
       "                        <td id=\"T_d7d66f46_8a65_11ea_9c59_abd2d5119b6arow8_col11\" class=\"data row8 col11\" >-0.500713</td>\n",
       "                        <td id=\"T_d7d66f46_8a65_11ea_9c59_abd2d5119b6arow8_col12\" class=\"data row8 col12\" >-0.422233</td>\n",
       "                        <td id=\"T_d7d66f46_8a65_11ea_9c59_abd2d5119b6arow8_col13\" class=\"data row8 col13\" >-0.100839</td>\n",
       "                        <td id=\"T_d7d66f46_8a65_11ea_9c59_abd2d5119b6arow8_col14\" class=\"data row8 col14\" >-0.174031</td>\n",
       "                        <td id=\"T_d7d66f46_8a65_11ea_9c59_abd2d5119b6arow8_col15\" class=\"data row8 col15\" >-0.231428</td>\n",
       "                        <td id=\"T_d7d66f46_8a65_11ea_9c59_abd2d5119b6arow8_col16\" class=\"data row8 col16\" >-0.351972</td>\n",
       "                        <td id=\"T_d7d66f46_8a65_11ea_9c59_abd2d5119b6arow8_col17\" class=\"data row8 col17\" >0.025834</td>\n",
       "                        <td id=\"T_d7d66f46_8a65_11ea_9c59_abd2d5119b6arow8_col18\" class=\"data row8 col18\" >-0.002560</td>\n",
       "                        <td id=\"T_d7d66f46_8a65_11ea_9c59_abd2d5119b6arow8_col19\" class=\"data row8 col19\" >0.004046</td>\n",
       "                        <td id=\"T_d7d66f46_8a65_11ea_9c59_abd2d5119b6arow8_col20\" class=\"data row8 col20\" >-0.322904</td>\n",
       "            </tr>\n",
       "            <tr>\n",
       "                        <th id=\"T_d7d66f46_8a65_11ea_9c59_abd2d5119b6alevel0_row9\" class=\"row_heading level0 row9\" >cloud9am</th>\n",
       "                        <td id=\"T_d7d66f46_8a65_11ea_9c59_abd2d5119b6arow9_col0\" class=\"data row9 col0\" >0.115204</td>\n",
       "                        <td id=\"T_d7d66f46_8a65_11ea_9c59_abd2d5119b6arow9_col1\" class=\"data row9 col1\" >-0.262003</td>\n",
       "                        <td id=\"T_d7d66f46_8a65_11ea_9c59_abd2d5119b6arow9_col2\" class=\"data row9 col2\" >0.215699</td>\n",
       "                        <td id=\"T_d7d66f46_8a65_11ea_9c59_abd2d5119b6arow9_col3\" class=\"data row9 col3\" >-0.192775</td>\n",
       "                        <td id=\"T_d7d66f46_8a65_11ea_9c59_abd2d5119b6arow9_col4\" class=\"data row9 col4\" >-0.678801</td>\n",
       "                        <td id=\"T_d7d66f46_8a65_11ea_9c59_abd2d5119b6arow9_col5\" class=\"data row9 col5\" >0.432826</td>\n",
       "                        <td id=\"T_d7d66f46_8a65_11ea_9c59_abd2d5119b6arow9_col6\" class=\"data row9 col6\" >0.507677</td>\n",
       "                        <td id=\"T_d7d66f46_8a65_11ea_9c59_abd2d5119b6arow9_col7\" class=\"data row9 col7\" >-0.142788</td>\n",
       "                        <td id=\"T_d7d66f46_8a65_11ea_9c59_abd2d5119b6arow9_col8\" class=\"data row9 col8\" >-0.074193</td>\n",
       "                        <td id=\"T_d7d66f46_8a65_11ea_9c59_abd2d5119b6arow9_col9\" class=\"data row9 col9\" >1.000000</td>\n",
       "                        <td id=\"T_d7d66f46_8a65_11ea_9c59_abd2d5119b6arow9_col10\" class=\"data row9 col10\" >0.612633</td>\n",
       "                        <td id=\"T_d7d66f46_8a65_11ea_9c59_abd2d5119b6arow9_col11\" class=\"data row9 col11\" >-0.101916</td>\n",
       "                        <td id=\"T_d7d66f46_8a65_11ea_9c59_abd2d5119b6arow9_col12\" class=\"data row9 col12\" >-0.278856</td>\n",
       "                        <td id=\"T_d7d66f46_8a65_11ea_9c59_abd2d5119b6arow9_col13\" class=\"data row9 col13\" >0.297414</td>\n",
       "                        <td id=\"T_d7d66f46_8a65_11ea_9c59_abd2d5119b6arow9_col14\" class=\"data row9 col14\" >0.204768</td>\n",
       "                        <td id=\"T_d7d66f46_8a65_11ea_9c59_abd2d5119b6arow9_col15\" class=\"data row9 col15\" >0.319410</td>\n",
       "                        <td id=\"T_d7d66f46_8a65_11ea_9c59_abd2d5119b6arow9_col16\" class=\"data row9 col16\" >-0.203947</td>\n",
       "                        <td id=\"T_d7d66f46_8a65_11ea_9c59_abd2d5119b6arow9_col17\" class=\"data row9 col17\" >0.460164</td>\n",
       "                        <td id=\"T_d7d66f46_8a65_11ea_9c59_abd2d5119b6arow9_col18\" class=\"data row9 col18\" >-0.000451</td>\n",
       "                        <td id=\"T_d7d66f46_8a65_11ea_9c59_abd2d5119b6arow9_col19\" class=\"data row9 col19\" >-0.000973</td>\n",
       "                        <td id=\"T_d7d66f46_8a65_11ea_9c59_abd2d5119b6arow9_col20\" class=\"data row9 col20\" >0.473697</td>\n",
       "            </tr>\n",
       "            <tr>\n",
       "                        <th id=\"T_d7d66f46_8a65_11ea_9c59_abd2d5119b6alevel0_row10\" class=\"row_heading level0 row10\" >cloud3pm</th>\n",
       "                        <td id=\"T_d7d66f46_8a65_11ea_9c59_abd2d5119b6arow10_col0\" class=\"data row10 col0\" >0.050917</td>\n",
       "                        <td id=\"T_d7d66f46_8a65_11ea_9c59_abd2d5119b6arow10_col1\" class=\"data row10 col1\" >-0.253183</td>\n",
       "                        <td id=\"T_d7d66f46_8a65_11ea_9c59_abd2d5119b6arow10_col2\" class=\"data row10 col2\" >0.191743</td>\n",
       "                        <td id=\"T_d7d66f46_8a65_11ea_9c59_abd2d5119b6arow10_col3\" class=\"data row10 col3\" >-0.196180</td>\n",
       "                        <td id=\"T_d7d66f46_8a65_11ea_9c59_abd2d5119b6arow10_col4\" class=\"data row10 col4\" >-0.704871</td>\n",
       "                        <td id=\"T_d7d66f46_8a65_11ea_9c59_abd2d5119b6arow10_col5\" class=\"data row10 col5\" >0.344565</td>\n",
       "                        <td id=\"T_d7d66f46_8a65_11ea_9c59_abd2d5119b6arow10_col6\" class=\"data row10 col6\" >0.507461</td>\n",
       "                        <td id=\"T_d7d66f46_8a65_11ea_9c59_abd2d5119b6arow10_col7\" class=\"data row10 col7\" >-0.164998</td>\n",
       "                        <td id=\"T_d7d66f46_8a65_11ea_9c59_abd2d5119b6arow10_col8\" class=\"data row10 col8\" >-0.101631</td>\n",
       "                        <td id=\"T_d7d66f46_8a65_11ea_9c59_abd2d5119b6arow10_col9\" class=\"data row10 col9\" >0.612633</td>\n",
       "                        <td id=\"T_d7d66f46_8a65_11ea_9c59_abd2d5119b6arow10_col10\" class=\"data row10 col10\" >1.000000</td>\n",
       "                        <td id=\"T_d7d66f46_8a65_11ea_9c59_abd2d5119b6arow10_col11\" class=\"data row10 col11\" >-0.100641</td>\n",
       "                        <td id=\"T_d7d66f46_8a65_11ea_9c59_abd2d5119b6arow10_col12\" class=\"data row10 col12\" >-0.292905</td>\n",
       "                        <td id=\"T_d7d66f46_8a65_11ea_9c59_abd2d5119b6arow10_col13\" class=\"data row10 col13\" >0.272209</td>\n",
       "                        <td id=\"T_d7d66f46_8a65_11ea_9c59_abd2d5119b6arow10_col14\" class=\"data row10 col14\" >0.243504</td>\n",
       "                        <td id=\"T_d7d66f46_8a65_11ea_9c59_abd2d5119b6arow10_col15\" class=\"data row10 col15\" >0.389891</td>\n",
       "                        <td id=\"T_d7d66f46_8a65_11ea_9c59_abd2d5119b6arow10_col16\" class=\"data row10 col16\" >-0.199544</td>\n",
       "                        <td id=\"T_d7d66f46_8a65_11ea_9c59_abd2d5119b6arow10_col17\" class=\"data row10 col17\" >0.460723</td>\n",
       "                        <td id=\"T_d7d66f46_8a65_11ea_9c59_abd2d5119b6arow10_col18\" class=\"data row10 col18\" >0.000051</td>\n",
       "                        <td id=\"T_d7d66f46_8a65_11ea_9c59_abd2d5119b6arow10_col19\" class=\"data row10 col19\" >-0.005084</td>\n",
       "                        <td id=\"T_d7d66f46_8a65_11ea_9c59_abd2d5119b6arow10_col20\" class=\"data row10 col20\" >0.558326</td>\n",
       "            </tr>\n",
       "            <tr>\n",
       "                        <th id=\"T_d7d66f46_8a65_11ea_9c59_abd2d5119b6alevel0_row11\" class=\"row_heading level0 row11\" >temp9am</th>\n",
       "                        <td id=\"T_d7d66f46_8a65_11ea_9c59_abd2d5119b6arow11_col0\" class=\"data row11 col0\" >0.905552</td>\n",
       "                        <td id=\"T_d7d66f46_8a65_11ea_9c59_abd2d5119b6arow11_col1\" class=\"data row11 col1\" >0.890743</td>\n",
       "                        <td id=\"T_d7d66f46_8a65_11ea_9c59_abd2d5119b6arow11_col2\" class=\"data row11 col2\" >0.014438</td>\n",
       "                        <td id=\"T_d7d66f46_8a65_11ea_9c59_abd2d5119b6arow11_col3\" class=\"data row11 col3\" >0.598609</td>\n",
       "                        <td id=\"T_d7d66f46_8a65_11ea_9c59_abd2d5119b6arow11_col4\" class=\"data row11 col4\" >0.285678</td>\n",
       "                        <td id=\"T_d7d66f46_8a65_11ea_9c59_abd2d5119b6arow11_col5\" class=\"data row11 col5\" >-0.426737</td>\n",
       "                        <td id=\"T_d7d66f46_8a65_11ea_9c59_abd2d5119b6arow11_col6\" class=\"data row11 col6\" >-0.148491</td>\n",
       "                        <td id=\"T_d7d66f46_8a65_11ea_9c59_abd2d5119b6arow11_col7\" class=\"data row11 col7\" >-0.447688</td>\n",
       "                        <td id=\"T_d7d66f46_8a65_11ea_9c59_abd2d5119b6arow11_col8\" class=\"data row11 col8\" >-0.500713</td>\n",
       "                        <td id=\"T_d7d66f46_8a65_11ea_9c59_abd2d5119b6arow11_col9\" class=\"data row11 col9\" >-0.101916</td>\n",
       "                        <td id=\"T_d7d66f46_8a65_11ea_9c59_abd2d5119b6arow11_col10\" class=\"data row11 col10\" >-0.100641</td>\n",
       "                        <td id=\"T_d7d66f46_8a65_11ea_9c59_abd2d5119b6arow11_col11\" class=\"data row11 col11\" >1.000000</td>\n",
       "                        <td id=\"T_d7d66f46_8a65_11ea_9c59_abd2d5119b6arow11_col12\" class=\"data row11 col12\" >0.867197</td>\n",
       "                        <td id=\"T_d7d66f46_8a65_11ea_9c59_abd2d5119b6arow11_col13\" class=\"data row11 col13\" >-0.094113</td>\n",
       "                        <td id=\"T_d7d66f46_8a65_11ea_9c59_abd2d5119b6arow11_col14\" class=\"data row11 col14\" >0.072842</td>\n",
       "                        <td id=\"T_d7d66f46_8a65_11ea_9c59_abd2d5119b6arow11_col15\" class=\"data row11 col15\" >-0.016180</td>\n",
       "                        <td id=\"T_d7d66f46_8a65_11ea_9c59_abd2d5119b6arow11_col16\" class=\"data row11 col16\" >0.694676</td>\n",
       "                        <td id=\"T_d7d66f46_8a65_11ea_9c59_abd2d5119b6arow11_col17\" class=\"data row11 col17\" >-0.134657</td>\n",
       "                        <td id=\"T_d7d66f46_8a65_11ea_9c59_abd2d5119b6arow11_col18\" class=\"data row11 col18\" >0.003672</td>\n",
       "                        <td id=\"T_d7d66f46_8a65_11ea_9c59_abd2d5119b6arow11_col19\" class=\"data row11 col19\" >-0.000129</td>\n",
       "                        <td id=\"T_d7d66f46_8a65_11ea_9c59_abd2d5119b6arow11_col20\" class=\"data row11 col20\" >-0.025092</td>\n",
       "            </tr>\n",
       "            <tr>\n",
       "                        <th id=\"T_d7d66f46_8a65_11ea_9c59_abd2d5119b6alevel0_row12\" class=\"row_heading level0 row12\" >temp3pm</th>\n",
       "                        <td id=\"T_d7d66f46_8a65_11ea_9c59_abd2d5119b6arow12_col0\" class=\"data row12 col0\" >0.720796</td>\n",
       "                        <td id=\"T_d7d66f46_8a65_11ea_9c59_abd2d5119b6arow12_col1\" class=\"data row12 col1\" >0.984101</td>\n",
       "                        <td id=\"T_d7d66f46_8a65_11ea_9c59_abd2d5119b6arow12_col2\" class=\"data row12 col2\" >-0.073640</td>\n",
       "                        <td id=\"T_d7d66f46_8a65_11ea_9c59_abd2d5119b6arow12_col3\" class=\"data row12 col3\" >0.631686</td>\n",
       "                        <td id=\"T_d7d66f46_8a65_11ea_9c59_abd2d5119b6arow12_col4\" class=\"data row12 col4\" >0.483256</td>\n",
       "                        <td id=\"T_d7d66f46_8a65_11ea_9c59_abd2d5119b6arow12_col5\" class=\"data row12 col5\" >-0.487789</td>\n",
       "                        <td id=\"T_d7d66f46_8a65_11ea_9c59_abd2d5119b6arow12_col6\" class=\"data row12 col6\" >-0.498921</td>\n",
       "                        <td id=\"T_d7d66f46_8a65_11ea_9c59_abd2d5119b6arow12_col7\" class=\"data row12 col7\" >-0.314549</td>\n",
       "                        <td id=\"T_d7d66f46_8a65_11ea_9c59_abd2d5119b6arow12_col8\" class=\"data row12 col8\" >-0.422233</td>\n",
       "                        <td id=\"T_d7d66f46_8a65_11ea_9c59_abd2d5119b6arow12_col9\" class=\"data row12 col9\" >-0.278856</td>\n",
       "                        <td id=\"T_d7d66f46_8a65_11ea_9c59_abd2d5119b6arow12_col10\" class=\"data row12 col10\" >-0.292905</td>\n",
       "                        <td id=\"T_d7d66f46_8a65_11ea_9c59_abd2d5119b6arow12_col11\" class=\"data row12 col11\" >0.867197</td>\n",
       "                        <td id=\"T_d7d66f46_8a65_11ea_9c59_abd2d5119b6arow12_col12\" class=\"data row12 col12\" >1.000000</td>\n",
       "                        <td id=\"T_d7d66f46_8a65_11ea_9c59_abd2d5119b6arow12_col13\" class=\"data row12 col13\" >-0.225959</td>\n",
       "                        <td id=\"T_d7d66f46_8a65_11ea_9c59_abd2d5119b6arow12_col14\" class=\"data row12 col14\" >-0.039415</td>\n",
       "                        <td id=\"T_d7d66f46_8a65_11ea_9c59_abd2d5119b6arow12_col15\" class=\"data row12 col15\" >-0.181295</td>\n",
       "                        <td id=\"T_d7d66f46_8a65_11ea_9c59_abd2d5119b6arow12_col16\" class=\"data row12 col16\" >0.767793</td>\n",
       "                        <td id=\"T_d7d66f46_8a65_11ea_9c59_abd2d5119b6arow12_col17\" class=\"data row12 col17\" >-0.452851</td>\n",
       "                        <td id=\"T_d7d66f46_8a65_11ea_9c59_abd2d5119b6arow12_col18\" class=\"data row12 col18\" >0.003252</td>\n",
       "                        <td id=\"T_d7d66f46_8a65_11ea_9c59_abd2d5119b6arow12_col19\" class=\"data row12 col19\" >-0.000318</td>\n",
       "                        <td id=\"T_d7d66f46_8a65_11ea_9c59_abd2d5119b6arow12_col20\" class=\"data row12 col20\" >-0.264061</td>\n",
       "            </tr>\n",
       "            <tr>\n",
       "                        <th id=\"T_d7d66f46_8a65_11ea_9c59_abd2d5119b6alevel0_row13\" class=\"row_heading level0 row13\" >raintoday</th>\n",
       "                        <td id=\"T_d7d66f46_8a65_11ea_9c59_abd2d5119b6arow13_col0\" class=\"data row13 col0\" >0.051478</td>\n",
       "                        <td id=\"T_d7d66f46_8a65_11ea_9c59_abd2d5119b6arow13_col1\" class=\"data row13 col1\" >-0.220012</td>\n",
       "                        <td id=\"T_d7d66f46_8a65_11ea_9c59_abd2d5119b6arow13_col2\" class=\"data row13 col2\" >0.553481</td>\n",
       "                        <td id=\"T_d7d66f46_8a65_11ea_9c59_abd2d5119b6arow13_col3\" class=\"data row13 col3\" >-0.213291</td>\n",
       "                        <td id=\"T_d7d66f46_8a65_11ea_9c59_abd2d5119b6arow13_col4\" class=\"data row13 col4\" >-0.327720</td>\n",
       "                        <td id=\"T_d7d66f46_8a65_11ea_9c59_abd2d5119b6arow13_col5\" class=\"data row13 col5\" >0.371288</td>\n",
       "                        <td id=\"T_d7d66f46_8a65_11ea_9c59_abd2d5119b6arow13_col6\" class=\"data row13 col6\" >0.376480</td>\n",
       "                        <td id=\"T_d7d66f46_8a65_11ea_9c59_abd2d5119b6arow13_col7\" class=\"data row13 col7\" >-0.183468</td>\n",
       "                        <td id=\"T_d7d66f46_8a65_11ea_9c59_abd2d5119b6arow13_col8\" class=\"data row13 col8\" >-0.100839</td>\n",
       "                        <td id=\"T_d7d66f46_8a65_11ea_9c59_abd2d5119b6arow13_col9\" class=\"data row13 col9\" >0.297414</td>\n",
       "                        <td id=\"T_d7d66f46_8a65_11ea_9c59_abd2d5119b6arow13_col10\" class=\"data row13 col10\" >0.272209</td>\n",
       "                        <td id=\"T_d7d66f46_8a65_11ea_9c59_abd2d5119b6arow13_col11\" class=\"data row13 col11\" >-0.094113</td>\n",
       "                        <td id=\"T_d7d66f46_8a65_11ea_9c59_abd2d5119b6arow13_col12\" class=\"data row13 col12\" >-0.225959</td>\n",
       "                        <td id=\"T_d7d66f46_8a65_11ea_9c59_abd2d5119b6arow13_col13\" class=\"data row13 col13\" >1.000000</td>\n",
       "                        <td id=\"T_d7d66f46_8a65_11ea_9c59_abd2d5119b6arow13_col14\" class=\"data row13 col14\" >0.218438</td>\n",
       "                        <td id=\"T_d7d66f46_8a65_11ea_9c59_abd2d5119b6arow13_col15\" class=\"data row13 col15\" >0.308621</td>\n",
       "                        <td id=\"T_d7d66f46_8a65_11ea_9c59_abd2d5119b6arow13_col16\" class=\"data row13 col16\" >-0.174028</td>\n",
       "                        <td id=\"T_d7d66f46_8a65_11ea_9c59_abd2d5119b6arow13_col17\" class=\"data row13 col17\" >0.339474</td>\n",
       "                        <td id=\"T_d7d66f46_8a65_11ea_9c59_abd2d5119b6arow13_col18\" class=\"data row13 col18\" >-0.001359</td>\n",
       "                        <td id=\"T_d7d66f46_8a65_11ea_9c59_abd2d5119b6arow13_col19\" class=\"data row13 col19\" >-0.002866</td>\n",
       "                        <td id=\"T_d7d66f46_8a65_11ea_9c59_abd2d5119b6arow13_col20\" class=\"data row13 col20\" >0.453866</td>\n",
       "            </tr>\n",
       "            <tr>\n",
       "                        <th id=\"T_d7d66f46_8a65_11ea_9c59_abd2d5119b6alevel0_row14\" class=\"row_heading level0 row14\" >amountOfRain</th>\n",
       "                        <td id=\"T_d7d66f46_8a65_11ea_9c59_abd2d5119b6arow14_col0\" class=\"data row14 col0\" >0.142911</td>\n",
       "                        <td id=\"T_d7d66f46_8a65_11ea_9c59_abd2d5119b6arow14_col1\" class=\"data row14 col1\" >-0.015487</td>\n",
       "                        <td id=\"T_d7d66f46_8a65_11ea_9c59_abd2d5119b6arow14_col2\" class=\"data row14 col2\" >0.302723</td>\n",
       "                        <td id=\"T_d7d66f46_8a65_11ea_9c59_abd2d5119b6arow14_col3\" class=\"data row14 col3\" >-0.042126</td>\n",
       "                        <td id=\"T_d7d66f46_8a65_11ea_9c59_abd2d5119b6arow14_col4\" class=\"data row14 col4\" >-0.298182</td>\n",
       "                        <td id=\"T_d7d66f46_8a65_11ea_9c59_abd2d5119b6arow14_col5\" class=\"data row14 col5\" >0.177473</td>\n",
       "                        <td id=\"T_d7d66f46_8a65_11ea_9c59_abd2d5119b6arow14_col6\" class=\"data row14 col6\" >0.309910</td>\n",
       "                        <td id=\"T_d7d66f46_8a65_11ea_9c59_abd2d5119b6arow14_col7\" class=\"data row14 col7\" >-0.174923</td>\n",
       "                        <td id=\"T_d7d66f46_8a65_11ea_9c59_abd2d5119b6arow14_col8\" class=\"data row14 col8\" >-0.174031</td>\n",
       "                        <td id=\"T_d7d66f46_8a65_11ea_9c59_abd2d5119b6arow14_col9\" class=\"data row14 col9\" >0.204768</td>\n",
       "                        <td id=\"T_d7d66f46_8a65_11ea_9c59_abd2d5119b6arow14_col10\" class=\"data row14 col10\" >0.243504</td>\n",
       "                        <td id=\"T_d7d66f46_8a65_11ea_9c59_abd2d5119b6arow14_col11\" class=\"data row14 col11\" >0.072842</td>\n",
       "                        <td id=\"T_d7d66f46_8a65_11ea_9c59_abd2d5119b6arow14_col12\" class=\"data row14 col12\" >-0.039415</td>\n",
       "                        <td id=\"T_d7d66f46_8a65_11ea_9c59_abd2d5119b6arow14_col13\" class=\"data row14 col13\" >0.218438</td>\n",
       "                        <td id=\"T_d7d66f46_8a65_11ea_9c59_abd2d5119b6arow14_col14\" class=\"data row14 col14\" >1.000000</td>\n",
       "                        <td id=\"T_d7d66f46_8a65_11ea_9c59_abd2d5119b6arow14_col15\" class=\"data row14 col15\" >0.492611</td>\n",
       "                        <td id=\"T_d7d66f46_8a65_11ea_9c59_abd2d5119b6arow14_col16\" class=\"data row14 col16\" >-0.012145</td>\n",
       "                        <td id=\"T_d7d66f46_8a65_11ea_9c59_abd2d5119b6arow14_col17\" class=\"data row14 col17\" >0.283171</td>\n",
       "                        <td id=\"T_d7d66f46_8a65_11ea_9c59_abd2d5119b6arow14_col18\" class=\"data row14 col18\" >-0.003559</td>\n",
       "                        <td id=\"T_d7d66f46_8a65_11ea_9c59_abd2d5119b6arow14_col19\" class=\"data row14 col19\" >-0.008993</td>\n",
       "                        <td id=\"T_d7d66f46_8a65_11ea_9c59_abd2d5119b6arow14_col20\" class=\"data row14 col20\" >0.505059</td>\n",
       "            </tr>\n",
       "            <tr>\n",
       "                        <th id=\"T_d7d66f46_8a65_11ea_9c59_abd2d5119b6alevel0_row15\" class=\"row_heading level0 row15\" >raintomorrow</th>\n",
       "                        <td id=\"T_d7d66f46_8a65_11ea_9c59_abd2d5119b6arow15_col0\" class=\"data row15 col0\" >0.088964</td>\n",
       "                        <td id=\"T_d7d66f46_8a65_11ea_9c59_abd2d5119b6arow15_col1\" class=\"data row15 col1\" >-0.144498</td>\n",
       "                        <td id=\"T_d7d66f46_8a65_11ea_9c59_abd2d5119b6arow15_col2\" class=\"data row15 col2\" >0.253773</td>\n",
       "                        <td id=\"T_d7d66f46_8a65_11ea_9c59_abd2d5119b6arow15_col3\" class=\"data row15 col3\" >-0.127257</td>\n",
       "                        <td id=\"T_d7d66f46_8a65_11ea_9c59_abd2d5119b6arow15_col4\" class=\"data row15 col4\" >-0.449261</td>\n",
       "                        <td id=\"T_d7d66f46_8a65_11ea_9c59_abd2d5119b6arow15_col5\" class=\"data row15 col5\" >0.265360</td>\n",
       "                        <td id=\"T_d7d66f46_8a65_11ea_9c59_abd2d5119b6arow15_col6\" class=\"data row15 col6\" >0.447742</td>\n",
       "                        <td id=\"T_d7d66f46_8a65_11ea_9c59_abd2d5119b6arow15_col7\" class=\"data row15 col7\" >-0.255934</td>\n",
       "                        <td id=\"T_d7d66f46_8a65_11ea_9c59_abd2d5119b6arow15_col8\" class=\"data row15 col8\" >-0.231428</td>\n",
       "                        <td id=\"T_d7d66f46_8a65_11ea_9c59_abd2d5119b6arow15_col9\" class=\"data row15 col9\" >0.319410</td>\n",
       "                        <td id=\"T_d7d66f46_8a65_11ea_9c59_abd2d5119b6arow15_col10\" class=\"data row15 col10\" >0.389891</td>\n",
       "                        <td id=\"T_d7d66f46_8a65_11ea_9c59_abd2d5119b6arow15_col11\" class=\"data row15 col11\" >-0.016180</td>\n",
       "                        <td id=\"T_d7d66f46_8a65_11ea_9c59_abd2d5119b6arow15_col12\" class=\"data row15 col12\" >-0.181295</td>\n",
       "                        <td id=\"T_d7d66f46_8a65_11ea_9c59_abd2d5119b6arow15_col13\" class=\"data row15 col13\" >0.308621</td>\n",
       "                        <td id=\"T_d7d66f46_8a65_11ea_9c59_abd2d5119b6arow15_col14\" class=\"data row15 col14\" >0.492611</td>\n",
       "                        <td id=\"T_d7d66f46_8a65_11ea_9c59_abd2d5119b6arow15_col15\" class=\"data row15 col15\" >1.000000</td>\n",
       "                        <td id=\"T_d7d66f46_8a65_11ea_9c59_abd2d5119b6arow15_col16\" class=\"data row15 col16\" >-0.112636</td>\n",
       "                        <td id=\"T_d7d66f46_8a65_11ea_9c59_abd2d5119b6arow15_col17\" class=\"data row15 col17\" >0.406002</td>\n",
       "                        <td id=\"T_d7d66f46_8a65_11ea_9c59_abd2d5119b6arow15_col18\" class=\"data row15 col18\" >0.006578</td>\n",
       "                        <td id=\"T_d7d66f46_8a65_11ea_9c59_abd2d5119b6arow15_col19\" class=\"data row15 col19\" >-0.013366</td>\n",
       "                        <td id=\"T_d7d66f46_8a65_11ea_9c59_abd2d5119b6arow15_col20\" class=\"data row15 col20\" >0.863107</td>\n",
       "            </tr>\n",
       "            <tr>\n",
       "                        <th id=\"T_d7d66f46_8a65_11ea_9c59_abd2d5119b6alevel0_row16\" class=\"row_heading level0 row16\" >temp</th>\n",
       "                        <td id=\"T_d7d66f46_8a65_11ea_9c59_abd2d5119b6arow16_col0\" class=\"data row16 col0\" >0.578773</td>\n",
       "                        <td id=\"T_d7d66f46_8a65_11ea_9c59_abd2d5119b6arow16_col1\" class=\"data row16 col1\" >0.779778</td>\n",
       "                        <td id=\"T_d7d66f46_8a65_11ea_9c59_abd2d5119b6arow16_col2\" class=\"data row16 col2\" >-0.060093</td>\n",
       "                        <td id=\"T_d7d66f46_8a65_11ea_9c59_abd2d5119b6arow16_col3\" class=\"data row16 col3\" >0.509947</td>\n",
       "                        <td id=\"T_d7d66f46_8a65_11ea_9c59_abd2d5119b6arow16_col4\" class=\"data row16 col4\" >0.359295</td>\n",
       "                        <td id=\"T_d7d66f46_8a65_11ea_9c59_abd2d5119b6arow16_col5\" class=\"data row16 col5\" >-0.388460</td>\n",
       "                        <td id=\"T_d7d66f46_8a65_11ea_9c59_abd2d5119b6arow16_col6\" class=\"data row16 col6\" >-0.351533</td>\n",
       "                        <td id=\"T_d7d66f46_8a65_11ea_9c59_abd2d5119b6arow16_col7\" class=\"data row16 col7\" >-0.274905</td>\n",
       "                        <td id=\"T_d7d66f46_8a65_11ea_9c59_abd2d5119b6arow16_col8\" class=\"data row16 col8\" >-0.351972</td>\n",
       "                        <td id=\"T_d7d66f46_8a65_11ea_9c59_abd2d5119b6arow16_col9\" class=\"data row16 col9\" >-0.203947</td>\n",
       "                        <td id=\"T_d7d66f46_8a65_11ea_9c59_abd2d5119b6arow16_col10\" class=\"data row16 col10\" >-0.199544</td>\n",
       "                        <td id=\"T_d7d66f46_8a65_11ea_9c59_abd2d5119b6arow16_col11\" class=\"data row16 col11\" >0.694676</td>\n",
       "                        <td id=\"T_d7d66f46_8a65_11ea_9c59_abd2d5119b6arow16_col12\" class=\"data row16 col12\" >0.767793</td>\n",
       "                        <td id=\"T_d7d66f46_8a65_11ea_9c59_abd2d5119b6arow16_col13\" class=\"data row16 col13\" >-0.174028</td>\n",
       "                        <td id=\"T_d7d66f46_8a65_11ea_9c59_abd2d5119b6arow16_col14\" class=\"data row16 col14\" >-0.012145</td>\n",
       "                        <td id=\"T_d7d66f46_8a65_11ea_9c59_abd2d5119b6arow16_col15\" class=\"data row16 col15\" >-0.112636</td>\n",
       "                        <td id=\"T_d7d66f46_8a65_11ea_9c59_abd2d5119b6arow16_col16\" class=\"data row16 col16\" >1.000000</td>\n",
       "                        <td id=\"T_d7d66f46_8a65_11ea_9c59_abd2d5119b6arow16_col17\" class=\"data row16 col17\" >-0.318448</td>\n",
       "                        <td id=\"T_d7d66f46_8a65_11ea_9c59_abd2d5119b6arow16_col18\" class=\"data row16 col18\" >0.000834</td>\n",
       "                        <td id=\"T_d7d66f46_8a65_11ea_9c59_abd2d5119b6arow16_col19\" class=\"data row16 col19\" >-0.001049</td>\n",
       "                        <td id=\"T_d7d66f46_8a65_11ea_9c59_abd2d5119b6arow16_col20\" class=\"data row16 col20\" >-0.164796</td>\n",
       "            </tr>\n",
       "            <tr>\n",
       "                        <th id=\"T_d7d66f46_8a65_11ea_9c59_abd2d5119b6alevel0_row17\" class=\"row_heading level0 row17\" >humidity</th>\n",
       "                        <td id=\"T_d7d66f46_8a65_11ea_9c59_abd2d5119b6arow17_col0\" class=\"data row17 col0\" >0.068579</td>\n",
       "                        <td id=\"T_d7d66f46_8a65_11ea_9c59_abd2d5119b6arow17_col1\" class=\"data row17 col1\" >-0.406402</td>\n",
       "                        <td id=\"T_d7d66f46_8a65_11ea_9c59_abd2d5119b6arow17_col2\" class=\"data row17 col2\" >0.247128</td>\n",
       "                        <td id=\"T_d7d66f46_8a65_11ea_9c59_abd2d5119b6arow17_col3\" class=\"data row17 col3\" >-0.375537</td>\n",
       "                        <td id=\"T_d7d66f46_8a65_11ea_9c59_abd2d5119b6arow17_col4\" class=\"data row17 col4\" >-0.565134</td>\n",
       "                        <td id=\"T_d7d66f46_8a65_11ea_9c59_abd2d5119b6arow17_col5\" class=\"data row17 col5\" >0.617538</td>\n",
       "                        <td id=\"T_d7d66f46_8a65_11ea_9c59_abd2d5119b6arow17_col6\" class=\"data row17 col6\" >0.907959</td>\n",
       "                        <td id=\"T_d7d66f46_8a65_11ea_9c59_abd2d5119b6arow17_col7\" class=\"data row17 col7\" >-0.052670</td>\n",
       "                        <td id=\"T_d7d66f46_8a65_11ea_9c59_abd2d5119b6arow17_col8\" class=\"data row17 col8\" >0.025834</td>\n",
       "                        <td id=\"T_d7d66f46_8a65_11ea_9c59_abd2d5119b6arow17_col9\" class=\"data row17 col9\" >0.460164</td>\n",
       "                        <td id=\"T_d7d66f46_8a65_11ea_9c59_abd2d5119b6arow17_col10\" class=\"data row17 col10\" >0.460723</td>\n",
       "                        <td id=\"T_d7d66f46_8a65_11ea_9c59_abd2d5119b6arow17_col11\" class=\"data row17 col11\" >-0.134657</td>\n",
       "                        <td id=\"T_d7d66f46_8a65_11ea_9c59_abd2d5119b6arow17_col12\" class=\"data row17 col12\" >-0.452851</td>\n",
       "                        <td id=\"T_d7d66f46_8a65_11ea_9c59_abd2d5119b6arow17_col13\" class=\"data row17 col13\" >0.339474</td>\n",
       "                        <td id=\"T_d7d66f46_8a65_11ea_9c59_abd2d5119b6arow17_col14\" class=\"data row17 col14\" >0.283171</td>\n",
       "                        <td id=\"T_d7d66f46_8a65_11ea_9c59_abd2d5119b6arow17_col15\" class=\"data row17 col15\" >0.406002</td>\n",
       "                        <td id=\"T_d7d66f46_8a65_11ea_9c59_abd2d5119b6arow17_col16\" class=\"data row17 col16\" >-0.318448</td>\n",
       "                        <td id=\"T_d7d66f46_8a65_11ea_9c59_abd2d5119b6arow17_col17\" class=\"data row17 col17\" >1.000000</td>\n",
       "                        <td id=\"T_d7d66f46_8a65_11ea_9c59_abd2d5119b6arow17_col18\" class=\"data row17 col18\" >-0.003714</td>\n",
       "                        <td id=\"T_d7d66f46_8a65_11ea_9c59_abd2d5119b6arow17_col19\" class=\"data row17 col19\" >-0.004449</td>\n",
       "                        <td id=\"T_d7d66f46_8a65_11ea_9c59_abd2d5119b6arow17_col20\" class=\"data row17 col20\" >0.584962</td>\n",
       "            </tr>\n",
       "            <tr>\n",
       "                        <th id=\"T_d7d66f46_8a65_11ea_9c59_abd2d5119b6alevel0_row18\" class=\"row_heading level0 row18\" >precipitation3pm</th>\n",
       "                        <td id=\"T_d7d66f46_8a65_11ea_9c59_abd2d5119b6arow18_col0\" class=\"data row18 col0\" >0.003508</td>\n",
       "                        <td id=\"T_d7d66f46_8a65_11ea_9c59_abd2d5119b6arow18_col1\" class=\"data row18 col1\" >0.003385</td>\n",
       "                        <td id=\"T_d7d66f46_8a65_11ea_9c59_abd2d5119b6arow18_col2\" class=\"data row18 col2\" >-0.007556</td>\n",
       "                        <td id=\"T_d7d66f46_8a65_11ea_9c59_abd2d5119b6arow18_col3\" class=\"data row18 col3\" >0.007043</td>\n",
       "                        <td id=\"T_d7d66f46_8a65_11ea_9c59_abd2d5119b6arow18_col4\" class=\"data row18 col4\" >-0.003376</td>\n",
       "                        <td id=\"T_d7d66f46_8a65_11ea_9c59_abd2d5119b6arow18_col5\" class=\"data row18 col5\" >-0.003913</td>\n",
       "                        <td id=\"T_d7d66f46_8a65_11ea_9c59_abd2d5119b6arow18_col6\" class=\"data row18 col6\" >-0.003120</td>\n",
       "                        <td id=\"T_d7d66f46_8a65_11ea_9c59_abd2d5119b6arow18_col7\" class=\"data row18 col7\" >-0.002484</td>\n",
       "                        <td id=\"T_d7d66f46_8a65_11ea_9c59_abd2d5119b6arow18_col8\" class=\"data row18 col8\" >-0.002560</td>\n",
       "                        <td id=\"T_d7d66f46_8a65_11ea_9c59_abd2d5119b6arow18_col9\" class=\"data row18 col9\" >-0.000451</td>\n",
       "                        <td id=\"T_d7d66f46_8a65_11ea_9c59_abd2d5119b6arow18_col10\" class=\"data row18 col10\" >0.000051</td>\n",
       "                        <td id=\"T_d7d66f46_8a65_11ea_9c59_abd2d5119b6arow18_col11\" class=\"data row18 col11\" >0.003672</td>\n",
       "                        <td id=\"T_d7d66f46_8a65_11ea_9c59_abd2d5119b6arow18_col12\" class=\"data row18 col12\" >0.003252</td>\n",
       "                        <td id=\"T_d7d66f46_8a65_11ea_9c59_abd2d5119b6arow18_col13\" class=\"data row18 col13\" >-0.001359</td>\n",
       "                        <td id=\"T_d7d66f46_8a65_11ea_9c59_abd2d5119b6arow18_col14\" class=\"data row18 col14\" >-0.003559</td>\n",
       "                        <td id=\"T_d7d66f46_8a65_11ea_9c59_abd2d5119b6arow18_col15\" class=\"data row18 col15\" >0.006578</td>\n",
       "                        <td id=\"T_d7d66f46_8a65_11ea_9c59_abd2d5119b6arow18_col16\" class=\"data row18 col16\" >0.000834</td>\n",
       "                        <td id=\"T_d7d66f46_8a65_11ea_9c59_abd2d5119b6arow18_col17\" class=\"data row18 col17\" >-0.003714</td>\n",
       "                        <td id=\"T_d7d66f46_8a65_11ea_9c59_abd2d5119b6arow18_col18\" class=\"data row18 col18\" >1.000000</td>\n",
       "                        <td id=\"T_d7d66f46_8a65_11ea_9c59_abd2d5119b6arow18_col19\" class=\"data row18 col19\" >0.004011</td>\n",
       "                        <td id=\"T_d7d66f46_8a65_11ea_9c59_abd2d5119b6arow18_col20\" class=\"data row18 col20\" >0.002956</td>\n",
       "            </tr>\n",
       "            <tr>\n",
       "                        <th id=\"T_d7d66f46_8a65_11ea_9c59_abd2d5119b6alevel0_row19\" class=\"row_heading level0 row19\" >precipitation9am</th>\n",
       "                        <td id=\"T_d7d66f46_8a65_11ea_9c59_abd2d5119b6arow19_col0\" class=\"data row19 col0\" >-0.001382</td>\n",
       "                        <td id=\"T_d7d66f46_8a65_11ea_9c59_abd2d5119b6arow19_col1\" class=\"data row19 col1\" >-0.001055</td>\n",
       "                        <td id=\"T_d7d66f46_8a65_11ea_9c59_abd2d5119b6arow19_col2\" class=\"data row19 col2\" >-0.003066</td>\n",
       "                        <td id=\"T_d7d66f46_8a65_11ea_9c59_abd2d5119b6arow19_col3\" class=\"data row19 col3\" >-0.000189</td>\n",
       "                        <td id=\"T_d7d66f46_8a65_11ea_9c59_abd2d5119b6arow19_col4\" class=\"data row19 col4\" >0.004404</td>\n",
       "                        <td id=\"T_d7d66f46_8a65_11ea_9c59_abd2d5119b6arow19_col5\" class=\"data row19 col5\" >-0.001670</td>\n",
       "                        <td id=\"T_d7d66f46_8a65_11ea_9c59_abd2d5119b6arow19_col6\" class=\"data row19 col6\" >-0.003777</td>\n",
       "                        <td id=\"T_d7d66f46_8a65_11ea_9c59_abd2d5119b6arow19_col7\" class=\"data row19 col7\" >0.003967</td>\n",
       "                        <td id=\"T_d7d66f46_8a65_11ea_9c59_abd2d5119b6arow19_col8\" class=\"data row19 col8\" >0.004046</td>\n",
       "                        <td id=\"T_d7d66f46_8a65_11ea_9c59_abd2d5119b6arow19_col9\" class=\"data row19 col9\" >-0.000973</td>\n",
       "                        <td id=\"T_d7d66f46_8a65_11ea_9c59_abd2d5119b6arow19_col10\" class=\"data row19 col10\" >-0.005084</td>\n",
       "                        <td id=\"T_d7d66f46_8a65_11ea_9c59_abd2d5119b6arow19_col11\" class=\"data row19 col11\" >-0.000129</td>\n",
       "                        <td id=\"T_d7d66f46_8a65_11ea_9c59_abd2d5119b6arow19_col12\" class=\"data row19 col12\" >-0.000318</td>\n",
       "                        <td id=\"T_d7d66f46_8a65_11ea_9c59_abd2d5119b6arow19_col13\" class=\"data row19 col13\" >-0.002866</td>\n",
       "                        <td id=\"T_d7d66f46_8a65_11ea_9c59_abd2d5119b6arow19_col14\" class=\"data row19 col14\" >-0.008993</td>\n",
       "                        <td id=\"T_d7d66f46_8a65_11ea_9c59_abd2d5119b6arow19_col15\" class=\"data row19 col15\" >-0.013366</td>\n",
       "                        <td id=\"T_d7d66f46_8a65_11ea_9c59_abd2d5119b6arow19_col16\" class=\"data row19 col16\" >-0.001049</td>\n",
       "                        <td id=\"T_d7d66f46_8a65_11ea_9c59_abd2d5119b6arow19_col17\" class=\"data row19 col17\" >-0.004449</td>\n",
       "                        <td id=\"T_d7d66f46_8a65_11ea_9c59_abd2d5119b6arow19_col18\" class=\"data row19 col18\" >0.004011</td>\n",
       "                        <td id=\"T_d7d66f46_8a65_11ea_9c59_abd2d5119b6arow19_col19\" class=\"data row19 col19\" >1.000000</td>\n",
       "                        <td id=\"T_d7d66f46_8a65_11ea_9c59_abd2d5119b6arow19_col20\" class=\"data row19 col20\" >-0.009939</td>\n",
       "            </tr>\n",
       "            <tr>\n",
       "                        <th id=\"T_d7d66f46_8a65_11ea_9c59_abd2d5119b6alevel0_row20\" class=\"row_heading level0 row20\" >modelo_vigente</th>\n",
       "                        <td id=\"T_d7d66f46_8a65_11ea_9c59_abd2d5119b6arow20_col0\" class=\"data row20 col0\" >0.135744</td>\n",
       "                        <td id=\"T_d7d66f46_8a65_11ea_9c59_abd2d5119b6arow20_col1\" class=\"data row20 col1\" >-0.212616</td>\n",
       "                        <td id=\"T_d7d66f46_8a65_11ea_9c59_abd2d5119b6arow20_col2\" class=\"data row20 col2\" >0.371184</td>\n",
       "                        <td id=\"T_d7d66f46_8a65_11ea_9c59_abd2d5119b6arow20_col3\" class=\"data row20 col3\" >-0.183537</td>\n",
       "                        <td id=\"T_d7d66f46_8a65_11ea_9c59_abd2d5119b6arow20_col4\" class=\"data row20 col4\" >-0.643104</td>\n",
       "                        <td id=\"T_d7d66f46_8a65_11ea_9c59_abd2d5119b6arow20_col5\" class=\"data row20 col5\" >0.392692</td>\n",
       "                        <td id=\"T_d7d66f46_8a65_11ea_9c59_abd2d5119b6arow20_col6\" class=\"data row20 col6\" >0.644851</td>\n",
       "                        <td id=\"T_d7d66f46_8a65_11ea_9c59_abd2d5119b6arow20_col7\" class=\"data row20 col7\" >-0.371539</td>\n",
       "                        <td id=\"T_d7d66f46_8a65_11ea_9c59_abd2d5119b6arow20_col8\" class=\"data row20 col8\" >-0.322904</td>\n",
       "                        <td id=\"T_d7d66f46_8a65_11ea_9c59_abd2d5119b6arow20_col9\" class=\"data row20 col9\" >0.473697</td>\n",
       "                        <td id=\"T_d7d66f46_8a65_11ea_9c59_abd2d5119b6arow20_col10\" class=\"data row20 col10\" >0.558326</td>\n",
       "                        <td id=\"T_d7d66f46_8a65_11ea_9c59_abd2d5119b6arow20_col11\" class=\"data row20 col11\" >-0.025092</td>\n",
       "                        <td id=\"T_d7d66f46_8a65_11ea_9c59_abd2d5119b6arow20_col12\" class=\"data row20 col12\" >-0.264061</td>\n",
       "                        <td id=\"T_d7d66f46_8a65_11ea_9c59_abd2d5119b6arow20_col13\" class=\"data row20 col13\" >0.453866</td>\n",
       "                        <td id=\"T_d7d66f46_8a65_11ea_9c59_abd2d5119b6arow20_col14\" class=\"data row20 col14\" >0.505059</td>\n",
       "                        <td id=\"T_d7d66f46_8a65_11ea_9c59_abd2d5119b6arow20_col15\" class=\"data row20 col15\" >0.863107</td>\n",
       "                        <td id=\"T_d7d66f46_8a65_11ea_9c59_abd2d5119b6arow20_col16\" class=\"data row20 col16\" >-0.164796</td>\n",
       "                        <td id=\"T_d7d66f46_8a65_11ea_9c59_abd2d5119b6arow20_col17\" class=\"data row20 col17\" >0.584962</td>\n",
       "                        <td id=\"T_d7d66f46_8a65_11ea_9c59_abd2d5119b6arow20_col18\" class=\"data row20 col18\" >0.002956</td>\n",
       "                        <td id=\"T_d7d66f46_8a65_11ea_9c59_abd2d5119b6arow20_col19\" class=\"data row20 col19\" >-0.009939</td>\n",
       "                        <td id=\"T_d7d66f46_8a65_11ea_9c59_abd2d5119b6arow20_col20\" class=\"data row20 col20\" >1.000000</td>\n",
       "            </tr>\n",
       "    </tbody></table>"
      ],
      "text/plain": [
       "<pandas.io.formats.style.Styler at 0x22ed74fd248>"
      ]
     },
     "execution_count": 11,
     "metadata": {},
     "output_type": "execute_result"
    }
   ],
   "source": [
    "rain.corr().style.background_gradient(cmap='coolwarm')"
   ]
  },
  {
   "cell_type": "markdown",
   "metadata": {},
   "source": [
    "Vamos ter que tirar o Amount of Rain e o Modelo Vigente,pois está diretamente relacionado ao overfitting."
   ]
  },
  {
   "cell_type": "code",
   "execution_count": 12,
   "metadata": {},
   "outputs": [
    {
     "data": {
      "text/plain": [
       "LogisticRegression(C=1.0, class_weight=None, dual=False, fit_intercept=True,\n",
       "                   intercept_scaling=1, l1_ratio=None, max_iter=10000,\n",
       "                   multi_class='auto', n_jobs=None, penalty='l2',\n",
       "                   random_state=None, solver='lbfgs', tol=0.0001, verbose=0,\n",
       "                   warm_start=False)"
      ]
     },
     "execution_count": 12,
     "metadata": {},
     "output_type": "execute_result"
    }
   ],
   "source": [
    "X = rain[[ 'mintemp', 'maxtemp', 'rainfall', 'evaporation',\n",
    "       'sunshine', 'humidity9am', 'humidity3pm', 'pressure9am', 'pressure3pm',\n",
    "       'cloud9am', 'cloud3pm', 'temp9am', 'temp3pm', 'raintoday',\n",
    "       'temp', 'humidity', 'precipitation3pm','precipitation9am']]\n",
    "y = rain['raintomorrow']\n",
    "model = LogisticRegression(max_iter=10000)\n",
    "model.fit(X,y)"
   ]
  },
  {
   "cell_type": "code",
   "execution_count": 13,
   "metadata": {},
   "outputs": [
    {
     "data": {
      "text/plain": [
       "0.8372847960205433"
      ]
     },
     "execution_count": 13,
     "metadata": {},
     "output_type": "execute_result"
    }
   ],
   "source": [
    "model.score(X, y)"
   ]
  },
  {
   "cell_type": "code",
   "execution_count": 14,
   "metadata": {},
   "outputs": [
    {
     "data": {
      "text/plain": [
       "0.8360359196330512"
      ]
     },
     "execution_count": 14,
     "metadata": {},
     "output_type": "execute_result"
    }
   ],
   "source": [
    "X_train, X_test, y_train, y_test = train_test_split(X, y, test_size=0.75, random_state=7)\n",
    "model.score(X_train, y_train)"
   ]
  },
  {
   "cell_type": "code",
   "execution_count": 15,
   "metadata": {},
   "outputs": [
    {
     "data": {
      "text/plain": [
       "0.8377010702211504"
      ]
     },
     "execution_count": 15,
     "metadata": {},
     "output_type": "execute_result"
    }
   ],
   "source": [
    "model.score(X_test, y_test)"
   ]
  },
  {
   "cell_type": "code",
   "execution_count": 16,
   "metadata": {},
   "outputs": [
    {
     "data": {
      "image/png": "[encoded data removed]",
      "text/plain": [
       "<Figure size 432x288 with 2 Axes>"
      ]
     },
     "metadata": {
      "needs_background": "light"
     },
     "output_type": "display_data"
    }
   ],
   "source": [
    "plot_confusion_matrix(model, X_test, y_test, values_format='.0f')\n",
    "plt.grid(False)"
   ]
  },
  {
   "cell_type": "markdown",
   "metadata": {},
   "source": [
    "Taxa de acerto e a taxa de captura está quanto ?"
   ]
  },
  {
   "cell_type": "code",
   "execution_count": 17,
   "metadata": {},
   "outputs": [
    {
     "name": "stdout",
     "output_type": "stream",
     "text": [
      "Taxa de acerto: 0.7020218401989404\n",
      "Taxa de captura: 0.47009846510280917\n"
     ]
    }
   ],
   "source": [
    "print('Taxa de acerto:', + precision_score(y, model.predict(X)))\n",
    "print('Taxa de captura:', + recall_score(y, model.predict(X)))"
   ]
  },
  {
   "cell_type": "markdown",
   "metadata": {},
   "source": [
    "## E se aumentar a taxe de acertos ?"
   ]
  },
  {
   "cell_type": "code",
   "execution_count": 18,
   "metadata": {},
   "outputs": [
    {
     "data": {
      "text/plain": [
       "<matplotlib.axes._subplots.AxesSubplot at 0x22ed87d09c8>"
      ]
     },
     "execution_count": 18,
     "metadata": {},
     "output_type": "execute_result"
    },
    {
     "data": {
      "image/png": "[encoded data removed]",
      "text/plain": [
       "<Figure size 432x288 with 2 Axes>"
      ]
     },
     "metadata": {
      "needs_background": "light"
     },
     "output_type": "display_data"
    }
   ],
   "source": [
    "y_pred = model.predict_proba(X)[:, 1] > 0.8\n",
    "sns.heatmap(confusion_matrix(y, y_pred), annot=True, cmap='viridis', fmt=\"d\", annot_kws={'verticalalignment':'top'})"
   ]
  },
  {
   "cell_type": "markdown",
   "metadata": {},
   "source": [
    "Taxa de acerto e a taxa de captura ficou em quanto ?"
   ]
  },
  {
   "cell_type": "code",
   "execution_count": 19,
   "metadata": {
    "scrolled": true
   },
   "outputs": [
    {
     "name": "stdout",
     "output_type": "stream",
     "text": [
      "Taxa de acerto: 0.7020218401989404\n",
      "Taxa de captura: 0.47009846510280917\n"
     ]
    }
   ],
   "source": [
    "print('Taxa de acerto:', + precision_score(y, model.predict(X)))\n",
    "print('Taxa de captura:', + recall_score(y, model.predict(X)))"
   ]
  },
  {
   "cell_type": "markdown",
   "metadata": {},
   "source": [
    "## E se diminuir a taca de acertos ?"
   ]
  },
  {
   "cell_type": "code",
   "execution_count": 20,
   "metadata": {},
   "outputs": [
    {
     "data": {
      "text/plain": [
       "<matplotlib.axes._subplots.AxesSubplot at 0x22ed864af08>"
      ]
     },
     "execution_count": 20,
     "metadata": {},
     "output_type": "execute_result"
    },
    {
     "data": {
      "image/png": "[encoded data removed]",
      "text/plain": [
       "<Figure size 432x288 with 2 Axes>"
      ]
     },
     "metadata": {
      "needs_background": "light"
     },
     "output_type": "display_data"
    }
   ],
   "source": [
    "y_pred = model.predict_proba(X)[:, 1] > 0.2\n",
    "sns.heatmap(confusion_matrix(y, y_pred), annot=True, cmap='viridis', fmt=\"d\")"
   ]
  },
  {
   "cell_type": "markdown",
   "metadata": {},
   "source": [
    "Taxa de acerto e a taxa de captura ficou em quanto ?"
   ]
  },
  {
   "cell_type": "code",
   "execution_count": 21,
   "metadata": {},
   "outputs": [
    {
     "name": "stdout",
     "output_type": "stream",
     "text": [
      "Taxa de acerto: 0.7020218401989404\n",
      "Taxa de captura: 0.47009846510280917\n"
     ]
    }
   ],
   "source": [
    "print('Taxa de acerto:', + precision_score(y, model.predict(X)))\n",
    "print('Taxa de captura:', + recall_score(y, model.predict(X)))"
   ]
  },
  {
   "cell_type": "markdown",
   "metadata": {},
   "source": [
    "Se quer aumentar a taxa de acerto, a taxa de captura diminui.\n",
    "\n",
    "Se quiser aumentar a taxa de captura, a taxa de acerto diminui.\n",
    "\n"
   ]
  },
  {
   "cell_type": "markdown",
   "metadata": {},
   "source": [
    "# Mesclar dataframes"
   ]
  },
  {
   "cell_type": "code",
   "execution_count": 22,
   "metadata": {},
   "outputs": [],
   "source": [
    "df = rain.merge(wind, on=['date','location'], how='left').drop_duplicates().drop(columns=['date', 'location']).fillna(0)"
   ]
  },
  {
   "cell_type": "code",
   "execution_count": 23,
   "metadata": {},
   "outputs": [
    {
     "data": {
      "text/plain": [
       "<matplotlib.axes._subplots.AxesSubplot at 0x22ed805eb08>"
      ]
     },
     "execution_count": 23,
     "metadata": {},
     "output_type": "execute_result"
    },
    {
     "data": {
      "image/png": "[encoded data removed]",
      "text/plain": [
       "<Figure size 432x288 with 2 Axes>"
      ]
     },
     "metadata": {
      "needs_background": "light"
     },
     "output_type": "display_data"
    }
   ],
   "source": [
    "sns.heatmap(df.corr())"
   ]
  },
  {
   "cell_type": "markdown",
   "metadata": {},
   "source": [
    "## Velocidade do vento para fazer a regressão logística."
   ]
  },
  {
   "cell_type": "code",
   "execution_count": 24,
   "metadata": {},
   "outputs": [
    {
     "data": {
      "text/plain": [
       "LogisticRegression(C=1.0, class_weight=None, dual=False, fit_intercept=True,\n",
       "                   intercept_scaling=1, l1_ratio=None, max_iter=100,\n",
       "                   multi_class='auto', n_jobs=None, penalty='l2',\n",
       "                   random_state=None, solver='lbfgs', tol=0.0001, verbose=0,\n",
       "                   warm_start=False)"
      ]
     },
     "execution_count": 24,
     "metadata": {},
     "output_type": "execute_result"
    }
   ],
   "source": [
    "X = df[['windgustspeed', 'windspeed9am','windspeed3pm']]\n",
    "y = df['raintomorrow']\n",
    "model = LogisticRegression()\n",
    "model.fit(X,y)"
   ]
  },
  {
   "cell_type": "code",
   "execution_count": 25,
   "metadata": {},
   "outputs": [
    {
     "data": {
      "text/plain": [
       "0.7777059982557576"
      ]
     },
     "execution_count": 25,
     "metadata": {},
     "output_type": "execute_result"
    }
   ],
   "source": [
    "model.score(X, y)"
   ]
  },
  {
   "cell_type": "code",
   "execution_count": 26,
   "metadata": {},
   "outputs": [
    {
     "data": {
      "text/plain": [
       "0.7746624458944377"
      ]
     },
     "execution_count": 26,
     "metadata": {},
     "output_type": "execute_result"
    }
   ],
   "source": [
    "X_train, X_test, y_train, y_test = train_test_split(X, y, test_size=0.75, random_state=7)\n",
    "model.score(X_train, y_train)"
   ]
  },
  {
   "cell_type": "code",
   "execution_count": 27,
   "metadata": {},
   "outputs": [
    {
     "data": {
      "text/plain": [
       "0.7787204720170546"
      ]
     },
     "execution_count": 27,
     "metadata": {},
     "output_type": "execute_result"
    }
   ],
   "source": [
    "model.score(X_test, y_test)"
   ]
  },
  {
   "cell_type": "code",
   "execution_count": 28,
   "metadata": {},
   "outputs": [
    {
     "data": {
      "image/png": "[encoded data removed]",
      "text/plain": [
       "<Figure size 432x288 with 2 Axes>"
      ]
     },
     "metadata": {
      "needs_background": "light"
     },
     "output_type": "display_data"
    }
   ],
   "source": [
    "plot_confusion_matrix(model, X_test, y_test, values_format='.0f')\n",
    "plt.grid(False)"
   ]
  },
  {
   "cell_type": "markdown",
   "metadata": {},
   "source": [
    "Taxa de acerto e a taxa de captura ficou em quanto ?"
   ]
  },
  {
   "cell_type": "code",
   "execution_count": 29,
   "metadata": {},
   "outputs": [
    {
     "name": "stdout",
     "output_type": "stream",
     "text": [
      "Taxa de acerto: 0.6224489795918368\n",
      "Taxa de captura: 0.008832898928468\n"
     ]
    }
   ],
   "source": [
    "print('Taxa de acerto:', + precision_score(y, model.predict(X)))\n",
    "print('Taxa de captura:', + recall_score(y, model.predict(X)))"
   ]
  },
  {
   "cell_type": "markdown",
   "metadata": {},
   "source": [
    "## Dummies"
   ]
  },
  {
   "cell_type": "code",
   "execution_count": 30,
   "metadata": {},
   "outputs": [],
   "source": [
    "dfd = pd.get_dummies(df)"
   ]
  },
  {
   "cell_type": "code",
   "execution_count": 31,
   "metadata": {},
   "outputs": [
    {
     "data": {
      "text/plain": [
       "LogisticRegression(C=1.0, class_weight=None, dual=False, fit_intercept=True,\n",
       "                   intercept_scaling=1, l1_ratio=None, max_iter=10000,\n",
       "                   multi_class='auto', n_jobs=None, penalty='l2',\n",
       "                   random_state=None, solver='lbfgs', tol=0.0001, verbose=0,\n",
       "                   warm_start=False)"
      ]
     },
     "execution_count": 31,
     "metadata": {},
     "output_type": "execute_result"
    }
   ],
   "source": [
    "X = dfd[['mintemp', 'maxtemp', 'rainfall', 'evaporation', 'sunshine',\n",
    "       'humidity9am', 'humidity3pm', 'pressure9am', 'pressure3pm', 'cloud9am',\n",
    "       'cloud3pm', 'temp9am', 'temp3pm', 'raintoday',\n",
    "       'temp', 'humidity', 'precipitation3pm',\n",
    "       'precipitation9am', 'windgustspeed', 'windspeed9am',\n",
    "       'windspeed3pm', 'windgustdir_0', 'windgustdir_E', 'windgustdir_ENE',\n",
    "       'windgustdir_ESE', 'windgustdir_N', 'windgustdir_NE', 'windgustdir_NNE',\n",
    "       'windgustdir_NNW', 'windgustdir_NW', 'windgustdir_S', 'windgustdir_SE',\n",
    "       'windgustdir_SSE', 'windgustdir_SSW', 'windgustdir_SW', 'windgustdir_W',\n",
    "       'windgustdir_WNW', 'windgustdir_WSW', 'winddir9am_0', 'winddir9am_E',\n",
    "       'winddir9am_ENE', 'winddir9am_ESE', 'winddir9am_N', 'winddir9am_NE',\n",
    "       'winddir9am_NNE', 'winddir9am_NNW', 'winddir9am_NW', 'winddir9am_S',\n",
    "       'winddir9am_SE', 'winddir9am_SSE', 'winddir9am_SSW', 'winddir9am_SW',\n",
    "       'winddir9am_W', 'winddir9am_WNW', 'winddir9am_WSW', 'winddir3pm_0',\n",
    "       'winddir3pm_E', 'winddir3pm_ENE', 'winddir3pm_ESE', 'winddir3pm_N',\n",
    "       'winddir3pm_NE', 'winddir3pm_NNE', 'winddir3pm_NNW', 'winddir3pm_NW',\n",
    "       'winddir3pm_S', 'winddir3pm_SE', 'winddir3pm_SSE', 'winddir3pm_SSW',\n",
    "       'winddir3pm_SW', 'winddir3pm_W', 'winddir3pm_WNW', 'winddir3pm_WSW']]\n",
    "y = dfd['raintomorrow']\n",
    "model = LogisticRegression(max_iter=10000)\n",
    "model.fit(X,y)"
   ]
  },
  {
   "cell_type": "code",
   "execution_count": 32,
   "metadata": {},
   "outputs": [
    {
     "data": {
      "text/plain": [
       "0.8517070964824445"
      ]
     },
     "execution_count": 32,
     "metadata": {},
     "output_type": "execute_result"
    }
   ],
   "source": [
    "model.score(X, y)"
   ]
  },
  {
   "cell_type": "code",
   "execution_count": 34,
   "metadata": {},
   "outputs": [
    {
     "data": {
      "text/plain": [
       "0.8494088765424123"
      ]
     },
     "execution_count": 34,
     "metadata": {},
     "output_type": "execute_result"
    }
   ],
   "source": [
    "X_train, X_test, y_train, y_test = train_test_split(X, y, test_size=0.75, random_state=7)\n",
    "model.score(X_train, y_train)"
   ]
  },
  {
   "cell_type": "code",
   "execution_count": 35,
   "metadata": {},
   "outputs": [
    {
     "data": {
      "text/plain": [
       "0.8524731368031181"
      ]
     },
     "execution_count": 35,
     "metadata": {},
     "output_type": "execute_result"
    }
   ],
   "source": [
    "model.score(X_test, y_test)"
   ]
  },
  {
   "cell_type": "code",
   "execution_count": 36,
   "metadata": {},
   "outputs": [
    {
     "data": {
      "image/png": "[encoded data removed]",
      "text/plain": [
       "<Figure size 432x288 with 2 Axes>"
      ]
     },
     "metadata": {
      "needs_background": "light"
     },
     "output_type": "display_data"
    }
   ],
   "source": [
    "plot_confusion_matrix(model, X_test, y_test, values_format='.0f')\n",
    "plt.grid(False)"
   ]
  },
  {
   "cell_type": "code",
   "execution_count": 37,
   "metadata": {},
   "outputs": [
    {
     "name": "stdout",
     "output_type": "stream",
     "text": [
      "Taxa de acerto: 0.7288453934361407\n",
      "Taxa de captura: 0.5338111786852012\n"
     ]
    }
   ],
   "source": [
    "print('Taxa de acerto:', + precision_score(y, model.predict(X)))\n",
    "print('Taxa de captura:', + recall_score(y, model.predict(X)))"
   ]
  },
  {
   "cell_type": "markdown",
   "metadata": {},
   "source": [
    "## Cotovelos"
   ]
  },
  {
   "cell_type": "code",
   "execution_count": 38,
   "metadata": {},
   "outputs": [
    {
     "data": {
      "image/png": "[encoded data removed]",
      "text/plain": [
       "<Figure size 432x288 with 2 Axes>"
      ]
     },
     "metadata": {},
     "output_type": "display_data"
    },
    {
     "data": {
      "text/plain": [
       "<matplotlib.axes._subplots.AxesSubplot at 0x22ed820bf08>"
      ]
     },
     "execution_count": 38,
     "metadata": {},
     "output_type": "execute_result"
    }
   ],
   "source": [
    "model = KMeans()\n",
    "visualizer = KElbowVisualizer(model, k=(1,20))\n",
    "visualizer.fit(dfd)\n",
    "visualizer.show()"
   ]
  },
  {
   "cell_type": "code",
   "execution_count": 48,
   "metadata": {},
   "outputs": [
    {
     "data": {
      "text/plain": [
       "KMeans(algorithm='auto', copy_x=True, init='k-means++', max_iter=300,\n",
       "       n_clusters=5, n_init=10, n_jobs=None, precompute_distances='auto',\n",
       "       random_state=None, tol=0.0001, verbose=0)"
      ]
     },
     "execution_count": 48,
     "metadata": {},
     "output_type": "execute_result"
    }
   ],
   "source": [
    "model = KMeans(n_clusters=5)\n",
    "model.fit(X)"
   ]
  },
  {
   "cell_type": "code",
   "execution_count": 49,
   "metadata": {
    "collapsed": true
   },
   "outputs": [
    {
     "ename": "ValueError",
     "evalue": "Length of values does not match length of index",
     "output_type": "error",
     "traceback": [
      "\u001b[1;31m---------------------------------------------------------------------------\u001b[0m",
      "\u001b[1;31mValueError\u001b[0m                                Traceback (most recent call last)",
      "\u001b[1;32m<ipython-input-49-909dfeaca821>\u001b[0m in \u001b[0;36m<module>\u001b[1;34m\u001b[0m\n\u001b[1;32m----> 1\u001b[1;33m \u001b[0mdfd\u001b[0m\u001b[1;33m[\u001b[0m\u001b[1;34m'labels'\u001b[0m\u001b[1;33m]\u001b[0m \u001b[1;33m=\u001b[0m \u001b[0mmodel\u001b[0m\u001b[1;33m.\u001b[0m\u001b[0mlabels_\u001b[0m\u001b[1;33m\u001b[0m\u001b[1;33m\u001b[0m\u001b[0m\n\u001b[0m",
      "\u001b[1;32m~\\Anaconda3\\lib\\site-packages\\pandas\\core\\frame.py\u001b[0m in \u001b[0;36m__setitem__\u001b[1;34m(self, key, value)\u001b[0m\n\u001b[0;32m   2936\u001b[0m         \u001b[1;32melse\u001b[0m\u001b[1;33m:\u001b[0m\u001b[1;33m\u001b[0m\u001b[1;33m\u001b[0m\u001b[0m\n\u001b[0;32m   2937\u001b[0m             \u001b[1;31m# set column\u001b[0m\u001b[1;33m\u001b[0m\u001b[1;33m\u001b[0m\u001b[1;33m\u001b[0m\u001b[0m\n\u001b[1;32m-> 2938\u001b[1;33m             \u001b[0mself\u001b[0m\u001b[1;33m.\u001b[0m\u001b[0m_set_item\u001b[0m\u001b[1;33m(\u001b[0m\u001b[0mkey\u001b[0m\u001b[1;33m,\u001b[0m \u001b[0mvalue\u001b[0m\u001b[1;33m)\u001b[0m\u001b[1;33m\u001b[0m\u001b[1;33m\u001b[0m\u001b[0m\n\u001b[0m\u001b[0;32m   2939\u001b[0m \u001b[1;33m\u001b[0m\u001b[0m\n\u001b[0;32m   2940\u001b[0m     \u001b[1;32mdef\u001b[0m \u001b[0m_setitem_slice\u001b[0m\u001b[1;33m(\u001b[0m\u001b[0mself\u001b[0m\u001b[1;33m,\u001b[0m \u001b[0mkey\u001b[0m\u001b[1;33m,\u001b[0m \u001b[0mvalue\u001b[0m\u001b[1;33m)\u001b[0m\u001b[1;33m:\u001b[0m\u001b[1;33m\u001b[0m\u001b[1;33m\u001b[0m\u001b[0m\n",
      "\u001b[1;32m~\\Anaconda3\\lib\\site-packages\\pandas\\core\\frame.py\u001b[0m in \u001b[0;36m_set_item\u001b[1;34m(self, key, value)\u001b[0m\n\u001b[0;32m   2998\u001b[0m \u001b[1;33m\u001b[0m\u001b[0m\n\u001b[0;32m   2999\u001b[0m         \u001b[0mself\u001b[0m\u001b[1;33m.\u001b[0m\u001b[0m_ensure_valid_index\u001b[0m\u001b[1;33m(\u001b[0m\u001b[0mvalue\u001b[0m\u001b[1;33m)\u001b[0m\u001b[1;33m\u001b[0m\u001b[1;33m\u001b[0m\u001b[0m\n\u001b[1;32m-> 3000\u001b[1;33m         \u001b[0mvalue\u001b[0m \u001b[1;33m=\u001b[0m \u001b[0mself\u001b[0m\u001b[1;33m.\u001b[0m\u001b[0m_sanitize_column\u001b[0m\u001b[1;33m(\u001b[0m\u001b[0mkey\u001b[0m\u001b[1;33m,\u001b[0m \u001b[0mvalue\u001b[0m\u001b[1;33m)\u001b[0m\u001b[1;33m\u001b[0m\u001b[1;33m\u001b[0m\u001b[0m\n\u001b[0m\u001b[0;32m   3001\u001b[0m         \u001b[0mNDFrame\u001b[0m\u001b[1;33m.\u001b[0m\u001b[0m_set_item\u001b[0m\u001b[1;33m(\u001b[0m\u001b[0mself\u001b[0m\u001b[1;33m,\u001b[0m \u001b[0mkey\u001b[0m\u001b[1;33m,\u001b[0m \u001b[0mvalue\u001b[0m\u001b[1;33m)\u001b[0m\u001b[1;33m\u001b[0m\u001b[1;33m\u001b[0m\u001b[0m\n\u001b[0;32m   3002\u001b[0m \u001b[1;33m\u001b[0m\u001b[0m\n",
      "\u001b[1;32m~\\Anaconda3\\lib\\site-packages\\pandas\\core\\frame.py\u001b[0m in \u001b[0;36m_sanitize_column\u001b[1;34m(self, key, value, broadcast)\u001b[0m\n\u001b[0;32m   3634\u001b[0m \u001b[1;33m\u001b[0m\u001b[0m\n\u001b[0;32m   3635\u001b[0m             \u001b[1;31m# turn me into an ndarray\u001b[0m\u001b[1;33m\u001b[0m\u001b[1;33m\u001b[0m\u001b[1;33m\u001b[0m\u001b[0m\n\u001b[1;32m-> 3636\u001b[1;33m             \u001b[0mvalue\u001b[0m \u001b[1;33m=\u001b[0m \u001b[0msanitize_index\u001b[0m\u001b[1;33m(\u001b[0m\u001b[0mvalue\u001b[0m\u001b[1;33m,\u001b[0m \u001b[0mself\u001b[0m\u001b[1;33m.\u001b[0m\u001b[0mindex\u001b[0m\u001b[1;33m,\u001b[0m \u001b[0mcopy\u001b[0m\u001b[1;33m=\u001b[0m\u001b[1;32mFalse\u001b[0m\u001b[1;33m)\u001b[0m\u001b[1;33m\u001b[0m\u001b[1;33m\u001b[0m\u001b[0m\n\u001b[0m\u001b[0;32m   3637\u001b[0m             \u001b[1;32mif\u001b[0m \u001b[1;32mnot\u001b[0m \u001b[0misinstance\u001b[0m\u001b[1;33m(\u001b[0m\u001b[0mvalue\u001b[0m\u001b[1;33m,\u001b[0m \u001b[1;33m(\u001b[0m\u001b[0mnp\u001b[0m\u001b[1;33m.\u001b[0m\u001b[0mndarray\u001b[0m\u001b[1;33m,\u001b[0m \u001b[0mIndex\u001b[0m\u001b[1;33m)\u001b[0m\u001b[1;33m)\u001b[0m\u001b[1;33m:\u001b[0m\u001b[1;33m\u001b[0m\u001b[1;33m\u001b[0m\u001b[0m\n\u001b[0;32m   3638\u001b[0m                 \u001b[1;32mif\u001b[0m \u001b[0misinstance\u001b[0m\u001b[1;33m(\u001b[0m\u001b[0mvalue\u001b[0m\u001b[1;33m,\u001b[0m \u001b[0mlist\u001b[0m\u001b[1;33m)\u001b[0m \u001b[1;32mand\u001b[0m \u001b[0mlen\u001b[0m\u001b[1;33m(\u001b[0m\u001b[0mvalue\u001b[0m\u001b[1;33m)\u001b[0m \u001b[1;33m>\u001b[0m \u001b[1;36m0\u001b[0m\u001b[1;33m:\u001b[0m\u001b[1;33m\u001b[0m\u001b[1;33m\u001b[0m\u001b[0m\n",
      "\u001b[1;32m~\\Anaconda3\\lib\\site-packages\\pandas\\core\\internals\\construction.py\u001b[0m in \u001b[0;36msanitize_index\u001b[1;34m(data, index, copy)\u001b[0m\n\u001b[0;32m    609\u001b[0m \u001b[1;33m\u001b[0m\u001b[0m\n\u001b[0;32m    610\u001b[0m     \u001b[1;32mif\u001b[0m \u001b[0mlen\u001b[0m\u001b[1;33m(\u001b[0m\u001b[0mdata\u001b[0m\u001b[1;33m)\u001b[0m \u001b[1;33m!=\u001b[0m \u001b[0mlen\u001b[0m\u001b[1;33m(\u001b[0m\u001b[0mindex\u001b[0m\u001b[1;33m)\u001b[0m\u001b[1;33m:\u001b[0m\u001b[1;33m\u001b[0m\u001b[1;33m\u001b[0m\u001b[0m\n\u001b[1;32m--> 611\u001b[1;33m         \u001b[1;32mraise\u001b[0m \u001b[0mValueError\u001b[0m\u001b[1;33m(\u001b[0m\u001b[1;34m\"Length of values does not match length of index\"\u001b[0m\u001b[1;33m)\u001b[0m\u001b[1;33m\u001b[0m\u001b[1;33m\u001b[0m\u001b[0m\n\u001b[0m\u001b[0;32m    612\u001b[0m \u001b[1;33m\u001b[0m\u001b[0m\n\u001b[0;32m    613\u001b[0m     \u001b[1;32mif\u001b[0m \u001b[0misinstance\u001b[0m\u001b[1;33m(\u001b[0m\u001b[0mdata\u001b[0m\u001b[1;33m,\u001b[0m \u001b[0mABCIndexClass\u001b[0m\u001b[1;33m)\u001b[0m \u001b[1;32mand\u001b[0m \u001b[1;32mnot\u001b[0m \u001b[0mcopy\u001b[0m\u001b[1;33m:\u001b[0m\u001b[1;33m\u001b[0m\u001b[1;33m\u001b[0m\u001b[0m\n",
      "\u001b[1;31mValueError\u001b[0m: Length of values does not match length of index"
     ]
    }
   ],
   "source": [
    "dfd['labels'] = model.labels_"
   ]
  },
  {
   "cell_type": "code",
   "execution_count": null,
   "metadata": {},
   "outputs": [],
   "source": [
    "modelo = LogisticRegression(max_iter=10000)"
   ]
  },
  {
   "cell_type": "markdown",
   "metadata": {},
   "source": [
    "## Mascaras"
   ]
  },
  {
   "cell_type": "code",
   "execution_count": 50,
   "metadata": {},
   "outputs": [
    {
     "data": {
      "text/plain": [
       "LogisticRegression(C=1.0, class_weight=None, dual=False, fit_intercept=True,\n",
       "                   intercept_scaling=1, l1_ratio=None, max_iter=10000,\n",
       "                   multi_class='auto', n_jobs=None, penalty='l2',\n",
       "                   random_state=None, solver='lbfgs', tol=0.0001, verbose=0,\n",
       "                   warm_start=False)"
      ]
     },
     "execution_count": 50,
     "metadata": {},
     "output_type": "execute_result"
    }
   ],
   "source": [
    "mask = dfd['labels'] == 0\n",
    "X = dfd[mask].drop(columns=['raintomorrow', 'amountOfRain', 'modelo_vigente', 'labels']) \n",
    "y = dfd[mask]['raintomorrow']\n",
    "modelo.fit(X,y)"
   ]
  },
  {
   "cell_type": "code",
   "execution_count": 43,
   "metadata": {},
   "outputs": [
    {
     "data": {
      "text/plain": [
       "0.7499740205757041"
      ]
     },
     "execution_count": 43,
     "metadata": {},
     "output_type": "execute_result"
    }
   ],
   "source": [
    "modelo.score(X,y)"
   ]
  },
  {
   "cell_type": "code",
   "execution_count": 44,
   "metadata": {},
   "outputs": [
    {
     "data": {
      "text/plain": [
       "0.7476091476091477"
      ]
     },
     "execution_count": 44,
     "metadata": {},
     "output_type": "execute_result"
    }
   ],
   "source": [
    "X_train, X_test, y_train, y_test = train_test_split(X, y, test_size=0.75, random_state=7)\n",
    "modelo.score(X_train, y_train)"
   ]
  },
  {
   "cell_type": "code",
   "execution_count": 45,
   "metadata": {
    "scrolled": true
   },
   "outputs": [
    {
     "data": {
      "text/plain": [
       "0.7507619839290662"
      ]
     },
     "execution_count": 45,
     "metadata": {},
     "output_type": "execute_result"
    }
   ],
   "source": [
    "modelo.score(X_test, y_test)"
   ]
  },
  {
   "cell_type": "markdown",
   "metadata": {},
   "source": [
    "**Fazer função para colocar labels nos 5**"
   ]
  },
  {
   "cell_type": "code",
   "execution_count": null,
   "metadata": {},
   "outputs": [],
   "source": []
  },
  {
   "cell_type": "markdown",
   "metadata": {},
   "source": [
    "# E se não retirar os NaNs do 'Rain' e balancear a quantidade de dados que serão testados ?"
   ]
  },
  {
   "cell_type": "markdown",
   "metadata": {},
   "source": [
    "## Ler novamente o dataframe"
   ]
  },
  {
   "cell_type": "code",
   "execution_count": null,
   "metadata": {},
   "outputs": [],
   "source": [
    "rain = pd.read_csv('data/rain_data_aus.csv')\n",
    "rain.fillna(0)\n",
    "rain['raintoday'] = rain['raintoday'].replace('No', 0).replace('Yes', 1)\n",
    "rain['raintomorrow'] = rain['raintomorrow'].replace('No', 0).replace('Yes', 1)"
   ]
  },
  {
   "cell_type": "markdown",
   "metadata": {},
   "source": [
    "## Mesclar dataframes novamente"
   ]
  },
  {
   "cell_type": "code",
   "execution_count": null,
   "metadata": {},
   "outputs": [],
   "source": [
    "df = rain.merge(wind, on=['date','location'], how='left').drop_duplicates().drop(columns=['date', 'location']).fillna(0)"
   ]
  },
  {
   "cell_type": "markdown",
   "metadata": {},
   "source": [
    "## Dummies para direção da velocidade"
   ]
  },
  {
   "cell_type": "code",
   "execution_count": 46,
   "metadata": {},
   "outputs": [],
   "source": [
    "df = pd.get_dummies(df)"
   ]
  },
  {
   "cell_type": "markdown",
   "metadata": {},
   "source": [
    "## Cotovelos"
   ]
  },
  {
   "cell_type": "code",
   "execution_count": 51,
   "metadata": {},
   "outputs": [
    {
     "data": {
      "image/png": "[encoded data removed]",
      "text/plain": [
       "<Figure size 432x288 with 2 Axes>"
      ]
     },
     "metadata": {},
     "output_type": "display_data"
    },
    {
     "data": {
      "text/plain": [
       "<matplotlib.axes._subplots.AxesSubplot at 0x22ed8c27388>"
      ]
     },
     "execution_count": 51,
     "metadata": {},
     "output_type": "execute_result"
    }
   ],
   "source": [
    "model = KMeans()\n",
    "visualizer = KElbowVisualizer(model, k=(1,20))\n",
    "visualizer.fit(df.drop(columns=['raintomorrow']))\n",
    "visualizer.show()"
   ]
  },
  {
   "cell_type": "code",
   "execution_count": 52,
   "metadata": {},
   "outputs": [
    {
     "data": {
      "text/plain": [
       "KMeans(algorithm='auto', copy_x=True, init='k-means++', max_iter=300,\n",
       "       n_clusters=2, n_init=10, n_jobs=None, precompute_distances='auto',\n",
       "       random_state=None, tol=0.0001, verbose=0)"
      ]
     },
     "execution_count": 52,
     "metadata": {},
     "output_type": "execute_result"
    }
   ],
   "source": [
    "X = df[['mintemp', 'maxtemp', 'rainfall', 'evaporation', 'sunshine',\n",
    "       'humidity9am', 'humidity3pm', 'pressure9am', 'pressure3pm', 'cloud9am',\n",
    "       'cloud3pm', 'temp9am', 'temp3pm', 'raintoday', 'temp', 'humidity',\n",
    "       'precipitation3pm', 'precipitation9am',\n",
    "       'windgustspeed', 'windspeed9am', 'windspeed3pm', 'windgustdir_0',\n",
    "       'windgustdir_E', 'windgustdir_ENE', 'windgustdir_ESE', 'windgustdir_N',\n",
    "       'windgustdir_NE', 'windgustdir_NNE', 'windgustdir_NNW',\n",
    "       'windgustdir_NW', 'windgustdir_S', 'windgustdir_SE', 'windgustdir_SSE',\n",
    "       'windgustdir_SSW', 'windgustdir_SW', 'windgustdir_W', 'windgustdir_WNW',\n",
    "       'windgustdir_WSW', 'winddir9am_0', 'winddir9am_E', 'winddir9am_ENE',\n",
    "       'winddir9am_ESE', 'winddir9am_N', 'winddir9am_NE', 'winddir9am_NNE',\n",
    "       'winddir9am_NNW', 'winddir9am_NW', 'winddir9am_S', 'winddir9am_SE',\n",
    "       'winddir9am_SSE', 'winddir9am_SSW', 'winddir9am_SW', 'winddir9am_W',\n",
    "       'winddir9am_WNW', 'winddir9am_WSW', 'winddir3pm_0', 'winddir3pm_E',\n",
    "       'winddir3pm_ENE', 'winddir3pm_ESE', 'winddir3pm_N', 'winddir3pm_NE',\n",
    "       'winddir3pm_NNE', 'winddir3pm_NNW', 'winddir3pm_NW', 'winddir3pm_S',\n",
    "       'winddir3pm_SE', 'winddir3pm_SSE', 'winddir3pm_SSW', 'winddir3pm_SW',\n",
    "       'winddir3pm_W', 'winddir3pm_WNW', 'winddir3pm_WSW']]\n",
    "model = KMeans(n_clusters=2)\n",
    "model.fit(X)"
   ]
  },
  {
   "cell_type": "code",
   "execution_count": 53,
   "metadata": {},
   "outputs": [],
   "source": [
    "df['labels'] = model.labels_"
   ]
  },
  {
   "cell_type": "markdown",
   "metadata": {},
   "source": [
    "## Labels"
   ]
  },
  {
   "cell_type": "markdown",
   "metadata": {},
   "source": [
    "### Labels == 0"
   ]
  },
  {
   "cell_type": "code",
   "execution_count": 54,
   "metadata": {},
   "outputs": [
    {
     "data": {
      "text/plain": [
       "LogisticRegression(C=1.0, class_weight=None, dual=False, fit_intercept=True,\n",
       "                   intercept_scaling=1, l1_ratio=None, max_iter=10000,\n",
       "                   multi_class='auto', n_jobs=None, penalty='l2',\n",
       "                   random_state=None, solver='lbfgs', tol=0.0001, verbose=0,\n",
       "                   warm_start=False)"
      ]
     },
     "execution_count": 54,
     "metadata": {},
     "output_type": "execute_result"
    }
   ],
   "source": [
    "mask = df['labels'] == 0\n",
    "X = df[mask].drop(columns=['raintomorrow'])\n",
    "y = df[mask]['raintomorrow']\n",
    "modelo.fit(X,y)"
   ]
  },
  {
   "cell_type": "code",
   "execution_count": 55,
   "metadata": {},
   "outputs": [
    {
     "data": {
      "text/plain": [
       "0.9999765628662052"
      ]
     },
     "execution_count": 55,
     "metadata": {},
     "output_type": "execute_result"
    }
   ],
   "source": [
    "modelo.score(X,y)"
   ]
  },
  {
   "cell_type": "code",
   "execution_count": 57,
   "metadata": {},
   "outputs": [
    {
     "data": {
      "text/plain": [
       "0.9999375"
      ]
     },
     "execution_count": 57,
     "metadata": {},
     "output_type": "execute_result"
    }
   ],
   "source": [
    "X_train, X_test, y_train, y_test = train_test_split(X, y, test_size=0.75, random_state=7)\n",
    "modelo.score(X_train, y_train)"
   ]
  },
  {
   "cell_type": "code",
   "execution_count": 58,
   "metadata": {},
   "outputs": [
    {
     "data": {
      "text/plain": [
       "0.9999895835503427"
      ]
     },
     "execution_count": 58,
     "metadata": {},
     "output_type": "execute_result"
    }
   ],
   "source": [
    "modelo.score(X_test, y_test)"
   ]
  },
  {
   "cell_type": "code",
   "execution_count": 59,
   "metadata": {},
   "outputs": [
    {
     "data": {
      "image/png": "[encoded data removed]",
      "text/plain": [
       "<Figure size 432x288 with 2 Axes>"
      ]
     },
     "metadata": {
      "needs_background": "light"
     },
     "output_type": "display_data"
    }
   ],
   "source": [
    "plot_confusion_matrix(modelo, X_test, y_test, values_format='.0f')\n",
    "plt.grid(False)"
   ]
  },
  {
   "cell_type": "code",
   "execution_count": 60,
   "metadata": {},
   "outputs": [
    {
     "name": "stderr",
     "output_type": "stream",
     "text": [
      "C:\\Users\\yukar\\Anaconda3\\lib\\site-packages\\ipykernel_launcher.py:4: UserWarning: Matplotlib is currently using module://ipykernel.pylab.backend_inline, which is a non-GUI backend, so cannot show the figure.\n",
      "  after removing the cwd from sys.path.\n"
     ]
    },
    {
     "data": {
      "image/png": "[encoded data removed]",
      "text/plain": [
       "<Figure size 432x288 with 2 Axes>"
      ]
     },
     "metadata": {
      "needs_background": "light"
     },
     "output_type": "display_data"
    }
   ],
   "source": [
    "fig, ax =plt.subplots(1,2)\n",
    "sns.countplot(y_test, ax=ax[0])\n",
    "sns.countplot(y_train, ax=ax[1])\n",
    "fig.show()"
   ]
  },
  {
   "cell_type": "markdown",
   "metadata": {},
   "source": [
    "### Labels == 1"
   ]
  },
  {
   "cell_type": "code",
   "execution_count": 61,
   "metadata": {},
   "outputs": [
    {
     "data": {
      "text/plain": [
       "LogisticRegression(C=1.0, class_weight=None, dual=False, fit_intercept=True,\n",
       "                   intercept_scaling=1, l1_ratio=None, max_iter=10000,\n",
       "                   multi_class='auto', n_jobs=None, penalty='l2',\n",
       "                   random_state=None, solver='lbfgs', tol=0.0001, verbose=0,\n",
       "                   warm_start=False)"
      ]
     },
     "execution_count": 61,
     "metadata": {},
     "output_type": "execute_result"
    }
   ],
   "source": [
    "mask1 = df['labels'] == 1\n",
    "X = df[mask1].drop(columns=['raintomorrow'])\n",
    "y = df[mask1]['raintomorrow']\n",
    "modelo.fit(X,y)"
   ]
  },
  {
   "cell_type": "code",
   "execution_count": 62,
   "metadata": {},
   "outputs": [
    {
     "data": {
      "text/plain": [
       "0.9997181312099218"
      ]
     },
     "execution_count": 62,
     "metadata": {},
     "output_type": "execute_result"
    }
   ],
   "source": [
    "modelo.score(X,y)"
   ]
  },
  {
   "cell_type": "code",
   "execution_count": 63,
   "metadata": {},
   "outputs": [
    {
     "data": {
      "text/plain": [
       "0.9997180716098111"
      ]
     },
     "execution_count": 63,
     "metadata": {},
     "output_type": "execute_result"
    }
   ],
   "source": [
    "X_train, X_test, y_train, y_test = train_test_split(X, y, test_size=0.75, random_state=7)\n",
    "modelo.score(X_train, y_train)"
   ]
  },
  {
   "cell_type": "code",
   "execution_count": 64,
   "metadata": {},
   "outputs": [
    {
     "data": {
      "text/plain": [
       "0.9997181510710259"
      ]
     },
     "execution_count": 64,
     "metadata": {},
     "output_type": "execute_result"
    }
   ],
   "source": [
    "modelo.score(X_test, y_test)"
   ]
  },
  {
   "cell_type": "code",
   "execution_count": 65,
   "metadata": {},
   "outputs": [
    {
     "data": {
      "image/png": "[encoded data removed]",
      "text/plain": [
       "<Figure size 432x288 with 2 Axes>"
      ]
     },
     "metadata": {
      "needs_background": "light"
     },
     "output_type": "display_data"
    }
   ],
   "source": [
    "plot_confusion_matrix(modelo, X_test, y_test, values_format='.0f')\n",
    "plt.grid(False)"
   ]
  },
  {
   "cell_type": "code",
   "execution_count": null,
   "metadata": {},
   "outputs": [],
   "source": [
    "fig, ax =plt.subplots(1,2)\n",
    "sns.countplot(y_test, ax=ax[0])\n",
    "sns.countplot(y_train, ax=ax[1])\n",
    "fig.show()"
   ]
  },
  {
   "cell_type": "markdown",
   "metadata": {},
   "source": [
    "**O dataset está desbalanceado. Por exemplo: 1/3 do valor é que vai chover (1), então tem que ser equilibrados.**"
   ]
  },
  {
   "cell_type": "markdown",
   "metadata": {},
   "source": [
    "# Balancear o DataFrame"
   ]
  },
  {
   "cell_type": "code",
   "execution_count": 67,
   "metadata": {},
   "outputs": [],
   "source": [
    "X = df[['mintemp', 'maxtemp', 'rainfall', 'evaporation', 'sunshine',\n",
    "       'humidity9am', 'humidity3pm', 'pressure9am', 'pressure3pm', 'cloud9am',\n",
    "       'cloud3pm', 'temp9am', 'temp3pm', 'raintoday', 'temp', 'humidity',\n",
    "       'precipitation3pm', 'precipitation9am',\n",
    "       'windgustspeed', 'windspeed9am', 'windspeed3pm', 'windgustdir_0',\n",
    "       'windgustdir_E', 'windgustdir_ENE', 'windgustdir_ESE', 'windgustdir_N',\n",
    "       'windgustdir_NE', 'windgustdir_NNE', 'windgustdir_NNW',\n",
    "       'windgustdir_NW', 'windgustdir_S', 'windgustdir_SE', 'windgustdir_SSE',\n",
    "       'windgustdir_SSW', 'windgustdir_SW', 'windgustdir_W', 'windgustdir_WNW',\n",
    "       'windgustdir_WSW', 'winddir9am_0', 'winddir9am_E', 'winddir9am_ENE',\n",
    "       'winddir9am_ESE', 'winddir9am_N', 'winddir9am_NE', 'winddir9am_NNE',\n",
    "       'winddir9am_NNW', 'winddir9am_NW', 'winddir9am_S', 'winddir9am_SE',\n",
    "       'winddir9am_SSE', 'winddir9am_SSW', 'winddir9am_SW', 'winddir9am_W',\n",
    "       'winddir9am_WNW', 'winddir9am_WSW', 'winddir3pm_0', 'winddir3pm_E',\n",
    "       'winddir3pm_ENE', 'winddir3pm_ESE', 'winddir3pm_N', 'winddir3pm_NE',\n",
    "       'winddir3pm_NNE', 'winddir3pm_NNW', 'winddir3pm_NW', 'winddir3pm_S',\n",
    "       'winddir3pm_SE', 'winddir3pm_SSE', 'winddir3pm_SSW', 'winddir3pm_SW',\n",
    "       'winddir3pm_W', 'winddir3pm_WNW', 'winddir3pm_WSW']]\n",
    "y = df['raintomorrow']"
   ]
  },
  {
   "cell_type": "code",
   "execution_count": 68,
   "metadata": {},
   "outputs": [],
   "source": [
    "rus = RandomUnderSampler(random_state=7)\n",
    "X_resampled, y_resampled = rus.fit_resample(X, y)"
   ]
  },
  {
   "cell_type": "code",
   "execution_count": 69,
   "metadata": {},
   "outputs": [
    {
     "data": {
      "text/plain": [
       "1    31877\n",
       "0    31877\n",
       "Name: raintomorrow, dtype: int64"
      ]
     },
     "execution_count": 69,
     "metadata": {},
     "output_type": "execute_result"
    }
   ],
   "source": [
    "y_resampled.value_counts()"
   ]
  },
  {
   "cell_type": "markdown",
   "metadata": {},
   "source": [
    "## Regressão Logística"
   ]
  },
  {
   "cell_type": "code",
   "execution_count": 89,
   "metadata": {
    "scrolled": true
   },
   "outputs": [
    {
     "data": {
      "text/plain": [
       "LogisticRegression(C=1.0, class_weight=None, dual=False, fit_intercept=True,\n",
       "                   intercept_scaling=1, l1_ratio=None, max_iter=10000,\n",
       "                   multi_class='auto', n_jobs=None, penalty='l2',\n",
       "                   random_state=None, solver='lbfgs', tol=0.0001, verbose=0,\n",
       "                   warm_start=False)"
      ]
     },
     "execution_count": 89,
     "metadata": {},
     "output_type": "execute_result"
    }
   ],
   "source": [
    "model = LogisticRegression(max_iter=10000)\n",
    "model.fit(X_resampled, y_resampled)"
   ]
  },
  {
   "cell_type": "code",
   "execution_count": 90,
   "metadata": {},
   "outputs": [
    {
     "data": {
      "text/plain": [
       "0.7700693289832795"
      ]
     },
     "execution_count": 90,
     "metadata": {},
     "output_type": "execute_result"
    }
   ],
   "source": [
    "model.score(X_resampled, y_resampled)"
   ]
  },
  {
   "cell_type": "code",
   "execution_count": 91,
   "metadata": {
    "scrolled": true
   },
   "outputs": [
    {
     "data": {
      "text/plain": [
       "0.7752941928882067"
      ]
     },
     "execution_count": 91,
     "metadata": {},
     "output_type": "execute_result"
    }
   ],
   "source": [
    "precision_score(y_resampled, model.predict(X_resampled))"
   ]
  },
  {
   "cell_type": "markdown",
   "metadata": {},
   "source": [
    "## Cotovelos"
   ]
  },
  {
   "cell_type": "code",
   "execution_count": 96,
   "metadata": {},
   "outputs": [],
   "source": [
    "X_resampled['raintomorrow'] = y_resampled\n",
    "sample = X_resampled"
   ]
  },
  {
   "cell_type": "code",
   "execution_count": 97,
   "metadata": {},
   "outputs": [
    {
     "data": {
      "image/png": "[encoded data removed]",
      "text/plain": [
       "<Figure size 432x288 with 2 Axes>"
      ]
     },
     "metadata": {},
     "output_type": "display_data"
    },
    {
     "data": {
      "text/plain": [
       "<matplotlib.axes._subplots.AxesSubplot at 0x22e82a8dbc8>"
      ]
     },
     "execution_count": 97,
     "metadata": {},
     "output_type": "execute_result"
    }
   ],
   "source": [
    "model = KMeans()\n",
    "visualizer = KElbowVisualizer(model, k=(1,20))\n",
    "visualizer.fit(sample)\n",
    "visualizer.show()"
   ]
  },
  {
   "cell_type": "code",
   "execution_count": 99,
   "metadata": {},
   "outputs": [],
   "source": [
    "X = sample[['mintemp', 'maxtemp', 'rainfall', 'evaporation', 'sunshine',\n",
    "       'humidity9am', 'humidity3pm', 'pressure9am', 'pressure3pm', 'cloud9am',\n",
    "       'cloud3pm', 'temp9am', 'temp3pm', 'raintoday', 'temp', 'humidity',\n",
    "       'precipitation3pm', 'precipitation9am', 'windgustspeed', 'windspeed9am',\n",
    "       'windspeed3pm', 'windgustdir_0', 'windgustdir_E', 'windgustdir_ENE',\n",
    "       'windgustdir_ESE', 'windgustdir_N', 'windgustdir_NE', 'windgustdir_NNE',\n",
    "       'windgustdir_NNW', 'windgustdir_NW', 'windgustdir_S', 'windgustdir_SE',\n",
    "       'windgustdir_SSE', 'windgustdir_SSW', 'windgustdir_SW', 'windgustdir_W',\n",
    "       'windgustdir_WNW', 'windgustdir_WSW', 'winddir9am_0', 'winddir9am_E',\n",
    "       'winddir9am_ENE', 'winddir9am_ESE', 'winddir9am_N', 'winddir9am_NE',\n",
    "       'winddir9am_NNE', 'winddir9am_NNW', 'winddir9am_NW', 'winddir9am_S',\n",
    "       'winddir9am_SE', 'winddir9am_SSE', 'winddir9am_SSW', 'winddir9am_SW',\n",
    "       'winddir9am_W', 'winddir9am_WNW', 'winddir9am_WSW', 'winddir3pm_0',\n",
    "       'winddir3pm_E', 'winddir3pm_ENE', 'winddir3pm_ESE', 'winddir3pm_N',\n",
    "       'winddir3pm_NE', 'winddir3pm_NNE', 'winddir3pm_NNW', 'winddir3pm_NW',\n",
    "       'winddir3pm_S', 'winddir3pm_SE', 'winddir3pm_SSE', 'winddir3pm_SSW',\n",
    "       'winddir3pm_SW', 'winddir3pm_W', 'winddir3pm_WNW', 'winddir3pm_WSW']]\n",
    "y = sample['raintomorrow']"
   ]
  },
  {
   "cell_type": "code",
   "execution_count": 101,
   "metadata": {},
   "outputs": [
    {
     "data": {
      "text/plain": [
       "KMeans(algorithm='auto', copy_x=True, init='k-means++', max_iter=300,\n",
       "       n_clusters=2, n_init=10, n_jobs=None, precompute_distances='auto',\n",
       "       random_state=None, tol=0.0001, verbose=0)"
      ]
     },
     "execution_count": 101,
     "metadata": {},
     "output_type": "execute_result"
    }
   ],
   "source": [
    "model = KMeans(n_clusters=2)\n",
    "model.fit(X)"
   ]
  },
  {
   "cell_type": "code",
   "execution_count": 102,
   "metadata": {},
   "outputs": [],
   "source": [
    "sample['labels'] = model.labels_"
   ]
  },
  {
   "cell_type": "markdown",
   "metadata": {},
   "source": [
    "## Labels"
   ]
  },
  {
   "cell_type": "markdown",
   "metadata": {},
   "source": [
    "### Labels == 0"
   ]
  },
  {
   "cell_type": "code",
   "execution_count": 103,
   "metadata": {},
   "outputs": [
    {
     "data": {
      "text/plain": [
       "LogisticRegression(C=1.0, class_weight=None, dual=False, fit_intercept=True,\n",
       "                   intercept_scaling=1, l1_ratio=None, max_iter=10000,\n",
       "                   multi_class='auto', n_jobs=None, penalty='l2',\n",
       "                   random_state=None, solver='lbfgs', tol=0.0001, verbose=0,\n",
       "                   warm_start=False)"
      ]
     },
     "execution_count": 103,
     "metadata": {},
     "output_type": "execute_result"
    }
   ],
   "source": [
    "mask = sample['labels'] == 0\n",
    "X = sample[mask].drop(columns=['raintomorrow'])\n",
    "y = sample[mask]['raintomorrow']\n",
    "modelo.fit(X,y)"
   ]
  },
  {
   "cell_type": "code",
   "execution_count": 104,
   "metadata": {},
   "outputs": [
    {
     "data": {
      "text/plain": [
       "0.778445617519469"
      ]
     },
     "execution_count": 104,
     "metadata": {},
     "output_type": "execute_result"
    }
   ],
   "source": [
    "modelo.score(X,y)"
   ]
  },
  {
   "cell_type": "code",
   "execution_count": 105,
   "metadata": {},
   "outputs": [
    {
     "data": {
      "text/plain": [
       "0.7811694194717402"
      ]
     },
     "execution_count": 105,
     "metadata": {},
     "output_type": "execute_result"
    }
   ],
   "source": [
    "X_train, X_test, y_train, y_test = train_test_split(X, y, test_size=0.75, random_state=7)\n",
    "modelo.score(X_train, y_train)"
   ]
  },
  {
   "cell_type": "code",
   "execution_count": 106,
   "metadata": {},
   "outputs": [
    {
     "data": {
      "text/plain": [
       "0.7775377468060395"
      ]
     },
     "execution_count": 106,
     "metadata": {},
     "output_type": "execute_result"
    }
   ],
   "source": [
    "modelo.score(X_test, y_test)"
   ]
  },
  {
   "cell_type": "code",
   "execution_count": 107,
   "metadata": {},
   "outputs": [
    {
     "data": {
      "image/png": "[encoded data removed]",
      "text/plain": [
       "<Figure size 432x288 with 2 Axes>"
      ]
     },
     "metadata": {
      "needs_background": "light"
     },
     "output_type": "display_data"
    }
   ],
   "source": [
    "plot_confusion_matrix(modelo, X_test, y_test, values_format='.0f')\n",
    "plt.grid(False)"
   ]
  },
  {
   "cell_type": "code",
   "execution_count": 108,
   "metadata": {},
   "outputs": [
    {
     "name": "stderr",
     "output_type": "stream",
     "text": [
      "C:\\Users\\yukar\\Anaconda3\\lib\\site-packages\\ipykernel_launcher.py:4: UserWarning: Matplotlib is currently using module://ipykernel.pylab.backend_inline, which is a non-GUI backend, so cannot show the figure.\n",
      "  after removing the cwd from sys.path.\n"
     ]
    },
    {
     "data": {
      "image/png": "[encoded data removed]",
      "text/plain": [
       "<Figure size 432x288 with 2 Axes>"
      ]
     },
     "metadata": {
      "needs_background": "light"
     },
     "output_type": "display_data"
    }
   ],
   "source": [
    "fig, ax =plt.subplots(1,2)\n",
    "sns.countplot(y_test, ax=ax[0])\n",
    "sns.countplot(y_train, ax=ax[1])\n",
    "fig.show()"
   ]
  },
  {
   "cell_type": "markdown",
   "metadata": {},
   "source": [
    "### Labels == 1"
   ]
  },
  {
   "cell_type": "code",
   "execution_count": 109,
   "metadata": {},
   "outputs": [
    {
     "data": {
      "text/plain": [
       "LogisticRegression(C=1.0, class_weight=None, dual=False, fit_intercept=True,\n",
       "                   intercept_scaling=1, l1_ratio=None, max_iter=10000,\n",
       "                   multi_class='auto', n_jobs=None, penalty='l2',\n",
       "                   random_state=None, solver='lbfgs', tol=0.0001, verbose=0,\n",
       "                   warm_start=False)"
      ]
     },
     "execution_count": 109,
     "metadata": {},
     "output_type": "execute_result"
    }
   ],
   "source": [
    "mask1 = sample['labels'] == 1\n",
    "X = sample[mask1].drop(columns=['raintomorrow'])\n",
    "y = sample[mask1]['raintomorrow']\n",
    "modelo.fit(X,y)"
   ]
  },
  {
   "cell_type": "code",
   "execution_count": 110,
   "metadata": {},
   "outputs": [
    {
     "data": {
      "text/plain": [
       "0.7339103068450039"
      ]
     },
     "execution_count": 110,
     "metadata": {},
     "output_type": "execute_result"
    }
   ],
   "source": [
    "modelo.score(X,y)"
   ]
  },
  {
   "cell_type": "code",
   "execution_count": 111,
   "metadata": {},
   "outputs": [
    {
     "data": {
      "text/plain": [
       "0.7418136020151134"
      ]
     },
     "execution_count": 111,
     "metadata": {},
     "output_type": "execute_result"
    }
   ],
   "source": [
    "X_train, X_test, y_train, y_test = train_test_split(X, y, test_size=0.75, random_state=7)\n",
    "modelo.score(X_train, y_train)"
   ]
  },
  {
   "cell_type": "code",
   "execution_count": 112,
   "metadata": {},
   "outputs": [
    {
     "data": {
      "text/plain": [
       "0.7312775330396476"
      ]
     },
     "execution_count": 112,
     "metadata": {},
     "output_type": "execute_result"
    }
   ],
   "source": [
    "modelo.score(X_test, y_test)"
   ]
  },
  {
   "cell_type": "code",
   "execution_count": 113,
   "metadata": {},
   "outputs": [
    {
     "data": {
      "image/png": "[encoded data removed]",
      "text/plain": [
       "<Figure size 432x288 with 2 Axes>"
      ]
     },
     "metadata": {
      "needs_background": "light"
     },
     "output_type": "display_data"
    }
   ],
   "source": [
    "plot_confusion_matrix(modelo, X_test, y_test, values_format='.0f')\n",
    "plt.grid(False)"
   ]
  },
  {
   "cell_type": "code",
   "execution_count": 114,
   "metadata": {},
   "outputs": [
    {
     "name": "stderr",
     "output_type": "stream",
     "text": [
      "C:\\Users\\yukar\\Anaconda3\\lib\\site-packages\\ipykernel_launcher.py:4: UserWarning: Matplotlib is currently using module://ipykernel.pylab.backend_inline, which is a non-GUI backend, so cannot show the figure.\n",
      "  after removing the cwd from sys.path.\n"
     ]
    },
    {
     "data": {
      "image/png": "[encoded data removed]",
      "text/plain": [
       "<Figure size 432x288 with 2 Axes>"
      ]
     },
     "metadata": {
      "needs_background": "light"
     },
     "output_type": "display_data"
    }
   ],
   "source": [
    "fig, ax =plt.subplots(1,2)\n",
    "sns.countplot(y_test, ax=ax[0])\n",
    "sns.countplot(y_train, ax=ax[1])\n",
    "fig.show()"
   ]
  },
  {
   "cell_type": "markdown",
   "metadata": {},
   "source": [
    "https://scikit-learn.org/stable/modules/neighbors.html"
   ]
  },
  {
   "cell_type": "code",
   "execution_count": 125,
   "metadata": {
    "collapsed": true
   },
   "outputs": [
    {
     "data": {
      "text/plain": [
       "<matplotlib.axes._subplots.AxesSubplot at 0x22e80229e88>"
      ]
     },
     "execution_count": 125,
     "metadata": {},
     "output_type": "execute_result"
    },
    {
     "data": {
      "image/png": "[encoded data removed]",
      "text/plain": [
       "<Figure size 864x720 with 2 Axes>"
      ]
     },
     "metadata": {
      "needs_background": "light"
     },
     "output_type": "display_data"
    }
   ],
   "source": [
    "fig, ax =plt.subplots(1,1, figsize=(12,10))\n",
    "sns.heatmap(sample.corr(), ax=ax)"
   ]
  },
  {
   "cell_type": "code",
   "execution_count": null,
   "metadata": {},
   "outputs": [],
   "source": []
  }
 ],
 "metadata": {
  "kernelspec": {
   "display_name": "Python 3",
   "language": "python",
   "name": "python3"
  },
  "language_info": {
   "codemirror_mode": {
    "name": "ipython",
    "version": 3
   },
   "file_extension": ".py",
   "mimetype": "text/x-python",
   "name": "python",
   "nbconvert_exporter": "python",
   "pygments_lexer": "ipython3",
   "version": "3.7.4"
  },
  "nbTranslate": {
   "displayLangs": [
    "*"
   ],
   "hotkey": "alt-t",
   "langInMainMenu": true,
   "sourceLang": "en",
   "targetLang": "fr",
   "useGoogleTranslate": true
  },
  "toc": {
   "base_numbering": 1,
   "nav_menu": {},
   "number_sections": true,
   "sideBar": true,
   "skip_h1_title": false,
   "title_cell": "Table of Contents",
   "title_sidebar": "Contents",
   "toc_cell": false,
   "toc_position": {
    "height": "calc(100% - 180px)",
    "left": "10px",
    "top": "150px",
    "width": "199px"
   },
   "toc_section_display": true,
   "toc_window_display": true
  }
 },
 "nbformat": 4,
 "nbformat_minor": 2
}
