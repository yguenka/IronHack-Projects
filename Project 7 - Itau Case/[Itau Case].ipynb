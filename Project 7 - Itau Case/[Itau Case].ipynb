{
 "cells": [
  {
   "cell_type": "code",
   "execution_count": 1,
   "metadata": {},
   "outputs": [
    {
     "name": "stderr",
     "output_type": "stream",
     "text": [
      "C:\\Users\\yukar\\Anaconda3\\lib\\site-packages\\statsmodels\\tools\\_testing.py:19: FutureWarning: pandas.util.testing is deprecated. Use the functions in the public API at pandas.testing instead.\n",
      "  import pandas.util.testing as tm\n",
      "C:\\Users\\yukar\\Anaconda3\\lib\\site-packages\\sklearn\\utils\\deprecation.py:144: FutureWarning: The sklearn.metrics.classification module is  deprecated in version 0.22 and will be removed in version 0.24. The corresponding classes / functions should instead be imported from sklearn.metrics. Anything that cannot be imported from sklearn.metrics is now part of the private API.\n",
      "  warnings.warn(message, FutureWarning)\n"
     ]
    }
   ],
   "source": [
    "import pandas as pd\n",
    "import seaborn as sns\n",
    "from sklearn.linear_model import LogisticRegression\n",
    "from sklearn.metrics import r2_score\n",
    "from sklearn.metrics import mean_squared_error\n",
    "from math import sqrt\n",
    "from sklearn.model_selection import train_test_split\n",
    "from sklearn.metrics import confusion_matrix\n",
    "from sklearn.metrics import plot_confusion_matrix\n",
    "from sklearn.metrics import precision_score, recall_score\n",
    "from sklearn.metrics import plot_precision_recall_curve\n",
    "import matplotlib.pyplot as plt\n",
    "from sklearn.metrics import plot_roc_curve, roc_auc_score, roc_curve\n",
    "from sklearn.linear_model import LogisticRegression\n",
    "from yellowbrick.classifier import ROCAUC\n",
    "from sklearn.cluster import KMeans\n",
    "from yellowbrick.cluster import KElbowVisualizer\n",
    "from imblearn.under_sampling import RandomUnderSampler\n",
    "from sklearn.neighbors import KNeighborsClassifier\n",
    "from sklearn.impute import KNNImputer"
   ]
  },
  {
   "cell_type": "code",
   "execution_count": 10,
   "metadata": {},
   "outputs": [],
   "source": [
    "rain = pd.read_csv('data/rain_data_aus.csv')"
   ]
  },
  {
   "cell_type": "code",
   "execution_count": 11,
   "metadata": {},
   "outputs": [],
   "source": [
    "wind_1 = pd.read_csv('data/wind_table_01.csv')\n",
    "wind_2 = pd.read_csv('data/wind_table_02.csv')\n",
    "wind_3 = pd.read_csv('data/wind_table_03.csv')\n",
    "wind_4 = pd.read_csv('data/wind_table_04.csv')\n",
    "wind_5 = pd.read_csv('data/wind_table_05.csv')\n",
    "wind_6 = pd.read_csv('data/wind_table_06.csv')\n",
    "wind_7 = pd.read_csv('data/wind_table_07.csv')\n",
    "wind_8 = pd.read_csv('data/wind_table_08.csv')\n",
    "wind_1.columns = wind_3.columns\n",
    "wind_2.columns = wind_3.columns\n",
    "wind = wind_1.append(wind_2, ignore_index=True).append(wind_3, ignore_index=True).append(wind_3, ignore_index=True).append(wind_4, ignore_index=True).append(wind_5, ignore_index=True).append(wind_6, ignore_index=True).append(wind_7, ignore_index=True).append(wind_8, ignore_index=True)"
   ]
  },
  {
   "cell_type": "markdown",
   "metadata": {},
   "source": [
    "# O Baseline"
   ]
  },
  {
   "cell_type": "markdown",
   "metadata": {},
   "source": [
    "Fiz o baseline usando apenas a regressão logística no dataframe 'Rain'."
   ]
  },
  {
   "cell_type": "markdown",
   "metadata": {},
   "source": [
    "## Tratamento"
   ]
  },
  {
   "cell_type": "code",
   "execution_count": 4,
   "metadata": {},
   "outputs": [],
   "source": [
    "rain = rain.dropna()\n",
    "rain['raintoday'] = rain['raintoday'].replace('No', 0).replace('Yes', 1)\n",
    "rain['raintomorrow'] = rain['raintomorrow'].replace('No', 0).replace('Yes', 1)"
   ]
  },
  {
   "cell_type": "code",
   "execution_count": 5,
   "metadata": {},
   "outputs": [
    {
     "data": {
      "text/plain": [
       "LogisticRegression(C=1.0, class_weight=None, dual=False, fit_intercept=True,\n",
       "                   intercept_scaling=1, l1_ratio=None, max_iter=10000,\n",
       "                   multi_class='auto', n_jobs=None, penalty='l2',\n",
       "                   random_state=None, solver='lbfgs', tol=0.0001, verbose=0,\n",
       "                   warm_start=False)"
      ]
     },
     "execution_count": 5,
     "metadata": {},
     "output_type": "execute_result"
    }
   ],
   "source": [
    "X = rain[[ 'mintemp', 'maxtemp', 'rainfall', 'evaporation',\n",
    "       'sunshine', 'humidity9am', 'humidity3pm', 'pressure9am', 'pressure3pm',\n",
    "       'cloud9am', 'cloud3pm', 'temp9am', 'temp3pm', 'raintoday',\n",
    "       'temp', 'humidity', 'precipitation3pm','modelo_vigente', 'amountOfRain',\n",
    "       'precipitation9am']]\n",
    "y = rain['raintomorrow']\n",
    "model = LogisticRegression(max_iter=10000)\n",
    "model.fit(X,y)"
   ]
  },
  {
   "cell_type": "code",
   "execution_count": 6,
   "metadata": {},
   "outputs": [
    {
     "data": {
      "text/plain": [
       "0.9997092929358183"
      ]
     },
     "execution_count": 6,
     "metadata": {},
     "output_type": "execute_result"
    }
   ],
   "source": [
    "model.score(X, y)"
   ]
  },
  {
   "cell_type": "code",
   "execution_count": 7,
   "metadata": {},
   "outputs": [],
   "source": [
    "X_train, X_test, y_train, y_test = train_test_split(X, y, test_size=0.75, random_state=7)"
   ]
  },
  {
   "cell_type": "code",
   "execution_count": 8,
   "metadata": {},
   "outputs": [
    {
     "data": {
      "text/plain": [
       "LogisticRegression(C=1.0, class_weight=None, dual=False, fit_intercept=True,\n",
       "                   intercept_scaling=1, l1_ratio=None, max_iter=10000,\n",
       "                   multi_class='auto', n_jobs=None, penalty='l2',\n",
       "                   random_state=None, solver='lbfgs', tol=0.0001, verbose=0,\n",
       "                   warm_start=False)"
      ]
     },
     "execution_count": 8,
     "metadata": {},
     "output_type": "execute_result"
    }
   ],
   "source": [
    "model.fit(X_train, y_train)"
   ]
  },
  {
   "cell_type": "code",
   "execution_count": 9,
   "metadata": {},
   "outputs": [
    {
     "data": {
      "text/plain": [
       "0.9993539912573484"
      ]
     },
     "execution_count": 9,
     "metadata": {},
     "output_type": "execute_result"
    }
   ],
   "source": [
    "model.score(X_test, y_test)"
   ]
  },
  {
   "cell_type": "code",
   "execution_count": 10,
   "metadata": {},
   "outputs": [
    {
     "data": {
      "text/plain": [
       "0.9992893597777635"
      ]
     },
     "execution_count": 10,
     "metadata": {},
     "output_type": "execute_result"
    }
   ],
   "source": [
    "model.score(X_train, y_train)"
   ]
  },
  {
   "cell_type": "markdown",
   "metadata": {},
   "source": [
    "<div class=\"burk\">\n",
    "<span class=\"girk\"><span class=\"burk\">Deu Overfitting....</span></span></div><i class=\"fa fa-lightbulb-o \"></i>"
   ]
  },
  {
   "cell_type": "markdown",
   "metadata": {},
   "source": [
    "# O overfitting"
   ]
  },
  {
   "cell_type": "code",
   "execution_count": 11,
   "metadata": {},
   "outputs": [
    {
     "data": {
      "text/html": [
       "<style  type=\"text/css\" >\n",
       "    #T_d576bda6_8ada_11ea_8efb_abd2d5119b6arow0_col0 {\n",
       "            background-color:  #b40426;\n",
       "            color:  #f1f1f1;\n",
       "        }    #T_d576bda6_8ada_11ea_8efb_abd2d5119b6arow0_col1 {\n",
       "            background-color:  #e8765c;\n",
       "            color:  #000000;\n",
       "        }    #T_d576bda6_8ada_11ea_8efb_abd2d5119b6arow0_col2 {\n",
       "            background-color:  #98b9ff;\n",
       "            color:  #000000;\n",
       "        }    #T_d576bda6_8ada_11ea_8efb_abd2d5119b6arow0_col3 {\n",
       "            background-color:  #f7b194;\n",
       "            color:  #000000;\n",
       "        }    #T_d576bda6_8ada_11ea_8efb_abd2d5119b6arow0_col4 {\n",
       "            background-color:  #d1dae9;\n",
       "            color:  #000000;\n",
       "        }    #T_d576bda6_8ada_11ea_8efb_abd2d5119b6arow0_col5 {\n",
       "            background-color:  #89acfd;\n",
       "            color:  #000000;\n",
       "        }    #T_d576bda6_8ada_11ea_8efb_abd2d5119b6arow0_col6 {\n",
       "            background-color:  #cad8ef;\n",
       "            color:  #000000;\n",
       "        }    #T_d576bda6_8ada_11ea_8efb_abd2d5119b6arow0_col7 {\n",
       "            background-color:  #3b4cc0;\n",
       "            color:  #f1f1f1;\n",
       "        }    #T_d576bda6_8ada_11ea_8efb_abd2d5119b6arow0_col8 {\n",
       "            background-color:  #3c4ec2;\n",
       "            color:  #f1f1f1;\n",
       "        }    #T_d576bda6_8ada_11ea_8efb_abd2d5119b6arow0_col9 {\n",
       "            background-color:  #d6dce4;\n",
       "            color:  #000000;\n",
       "        }    #T_d576bda6_8ada_11ea_8efb_abd2d5119b6arow0_col10 {\n",
       "            background-color:  #cdd9ec;\n",
       "            color:  #000000;\n",
       "        }    #T_d576bda6_8ada_11ea_8efb_abd2d5119b6arow0_col11 {\n",
       "            background-color:  #cb3e38;\n",
       "            color:  #f1f1f1;\n",
       "        }    #T_d576bda6_8ada_11ea_8efb_abd2d5119b6arow0_col12 {\n",
       "            background-color:  #eb7d62;\n",
       "            color:  #000000;\n",
       "        }    #T_d576bda6_8ada_11ea_8efb_abd2d5119b6arow0_col13 {\n",
       "            background-color:  #9abbff;\n",
       "            color:  #000000;\n",
       "        }    #T_d576bda6_8ada_11ea_8efb_abd2d5119b6arow0_col14 {\n",
       "            background-color:  #abc8fd;\n",
       "            color:  #000000;\n",
       "        }    #T_d576bda6_8ada_11ea_8efb_abd2d5119b6arow0_col15 {\n",
       "            background-color:  #b7cff9;\n",
       "            color:  #000000;\n",
       "        }    #T_d576bda6_8ada_11ea_8efb_abd2d5119b6arow0_col16 {\n",
       "            background-color:  #f7ad90;\n",
       "            color:  #000000;\n",
       "        }    #T_d576bda6_8ada_11ea_8efb_abd2d5119b6arow0_col17 {\n",
       "            background-color:  #c1d4f4;\n",
       "            color:  #000000;\n",
       "        }    #T_d576bda6_8ada_11ea_8efb_abd2d5119b6arow0_col18 {\n",
       "            background-color:  #3d50c3;\n",
       "            color:  #f1f1f1;\n",
       "        }    #T_d576bda6_8ada_11ea_8efb_abd2d5119b6arow0_col19 {\n",
       "            background-color:  #3e51c5;\n",
       "            color:  #f1f1f1;\n",
       "        }    #T_d576bda6_8ada_11ea_8efb_abd2d5119b6arow0_col20 {\n",
       "            background-color:  #d6dce4;\n",
       "            color:  #000000;\n",
       "        }    #T_d576bda6_8ada_11ea_8efb_abd2d5119b6arow1_col0 {\n",
       "            background-color:  #e8765c;\n",
       "            color:  #000000;\n",
       "        }    #T_d576bda6_8ada_11ea_8efb_abd2d5119b6arow1_col1 {\n",
       "            background-color:  #b40426;\n",
       "            color:  #f1f1f1;\n",
       "        }    #T_d576bda6_8ada_11ea_8efb_abd2d5119b6arow1_col2 {\n",
       "            background-color:  #6687ed;\n",
       "            color:  #000000;\n",
       "        }    #T_d576bda6_8ada_11ea_8efb_abd2d5119b6arow1_col3 {\n",
       "            background-color:  #f18f71;\n",
       "            color:  #000000;\n",
       "        }    #T_d576bda6_8ada_11ea_8efb_abd2d5119b6arow1_col4 {\n",
       "            background-color:  #f7b194;\n",
       "            color:  #000000;\n",
       "        }    #T_d576bda6_8ada_11ea_8efb_abd2d5119b6arow1_col5 {\n",
       "            background-color:  #455cce;\n",
       "            color:  #f1f1f1;\n",
       "        }    #T_d576bda6_8ada_11ea_8efb_abd2d5119b6arow1_col6 {\n",
       "            background-color:  #5b7ae5;\n",
       "            color:  #000000;\n",
       "        }    #T_d576bda6_8ada_11ea_8efb_abd2d5119b6arow1_col7 {\n",
       "            background-color:  #536edd;\n",
       "            color:  #000000;\n",
       "        }    #T_d576bda6_8ada_11ea_8efb_abd2d5119b6arow1_col8 {\n",
       "            background-color:  #4358cb;\n",
       "            color:  #f1f1f1;\n",
       "        }    #T_d576bda6_8ada_11ea_8efb_abd2d5119b6arow1_col9 {\n",
       "            background-color:  #8caffe;\n",
       "            color:  #000000;\n",
       "        }    #T_d576bda6_8ada_11ea_8efb_abd2d5119b6arow1_col10 {\n",
       "            background-color:  #92b4fe;\n",
       "            color:  #000000;\n",
       "        }    #T_d576bda6_8ada_11ea_8efb_abd2d5119b6arow1_col11 {\n",
       "            background-color:  #cd423b;\n",
       "            color:  #f1f1f1;\n",
       "        }    #T_d576bda6_8ada_11ea_8efb_abd2d5119b6arow1_col12 {\n",
       "            background-color:  #b70d28;\n",
       "            color:  #f1f1f1;\n",
       "        }    #T_d576bda6_8ada_11ea_8efb_abd2d5119b6arow1_col13 {\n",
       "            background-color:  #536edd;\n",
       "            color:  #000000;\n",
       "        }    #T_d576bda6_8ada_11ea_8efb_abd2d5119b6arow1_col14 {\n",
       "            background-color:  #81a4fb;\n",
       "            color:  #000000;\n",
       "        }    #T_d576bda6_8ada_11ea_8efb_abd2d5119b6arow1_col15 {\n",
       "            background-color:  #7ea1fa;\n",
       "            color:  #000000;\n",
       "        }    #T_d576bda6_8ada_11ea_8efb_abd2d5119b6arow1_col16 {\n",
       "            background-color:  #e57058;\n",
       "            color:  #000000;\n",
       "        }    #T_d576bda6_8ada_11ea_8efb_abd2d5119b6arow1_col17 {\n",
       "            background-color:  #5977e3;\n",
       "            color:  #000000;\n",
       "        }    #T_d576bda6_8ada_11ea_8efb_abd2d5119b6arow1_col18 {\n",
       "            background-color:  #3d50c3;\n",
       "            color:  #f1f1f1;\n",
       "        }    #T_d576bda6_8ada_11ea_8efb_abd2d5119b6arow1_col19 {\n",
       "            background-color:  #3e51c5;\n",
       "            color:  #f1f1f1;\n",
       "        }    #T_d576bda6_8ada_11ea_8efb_abd2d5119b6arow1_col20 {\n",
       "            background-color:  #92b4fe;\n",
       "            color:  #000000;\n",
       "        }    #T_d576bda6_8ada_11ea_8efb_abd2d5119b6arow2_col0 {\n",
       "            background-color:  #c1d4f4;\n",
       "            color:  #000000;\n",
       "        }    #T_d576bda6_8ada_11ea_8efb_abd2d5119b6arow2_col1 {\n",
       "            background-color:  #9abbff;\n",
       "            color:  #000000;\n",
       "        }    #T_d576bda6_8ada_11ea_8efb_abd2d5119b6arow2_col2 {\n",
       "            background-color:  #b40426;\n",
       "            color:  #f1f1f1;\n",
       "        }    #T_d576bda6_8ada_11ea_8efb_abd2d5119b6arow2_col3 {\n",
       "            background-color:  #a2c1ff;\n",
       "            color:  #000000;\n",
       "        }    #T_d576bda6_8ada_11ea_8efb_abd2d5119b6arow2_col4 {\n",
       "            background-color:  #94b6ff;\n",
       "            color:  #000000;\n",
       "        }    #T_d576bda6_8ada_11ea_8efb_abd2d5119b6arow2_col5 {\n",
       "            background-color:  #e2dad5;\n",
       "            color:  #000000;\n",
       "        }    #T_d576bda6_8ada_11ea_8efb_abd2d5119b6arow2_col6 {\n",
       "            background-color:  #e9d5cb;\n",
       "            color:  #000000;\n",
       "        }    #T_d576bda6_8ada_11ea_8efb_abd2d5119b6arow2_col7 {\n",
       "            background-color:  #7b9ff9;\n",
       "            color:  #000000;\n",
       "        }    #T_d576bda6_8ada_11ea_8efb_abd2d5119b6arow2_col8 {\n",
       "            background-color:  #8badfd;\n",
       "            color:  #000000;\n",
       "        }    #T_d576bda6_8ada_11ea_8efb_abd2d5119b6arow2_col9 {\n",
       "            background-color:  #e5d8d1;\n",
       "            color:  #000000;\n",
       "        }    #T_d576bda6_8ada_11ea_8efb_abd2d5119b6arow2_col10 {\n",
       "            background-color:  #e3d9d3;\n",
       "            color:  #000000;\n",
       "        }    #T_d576bda6_8ada_11ea_8efb_abd2d5119b6arow2_col11 {\n",
       "            background-color:  #adc9fd;\n",
       "            color:  #000000;\n",
       "        }    #T_d576bda6_8ada_11ea_8efb_abd2d5119b6arow2_col12 {\n",
       "            background-color:  #98b9ff;\n",
       "            color:  #000000;\n",
       "        }    #T_d576bda6_8ada_11ea_8efb_abd2d5119b6arow2_col13 {\n",
       "            background-color:  #f7b99e;\n",
       "            color:  #000000;\n",
       "        }    #T_d576bda6_8ada_11ea_8efb_abd2d5119b6arow2_col14 {\n",
       "            background-color:  #d3dbe7;\n",
       "            color:  #000000;\n",
       "        }    #T_d576bda6_8ada_11ea_8efb_abd2d5119b6arow2_col15 {\n",
       "            background-color:  #d9dce1;\n",
       "            color:  #000000;\n",
       "        }    #T_d576bda6_8ada_11ea_8efb_abd2d5119b6arow2_col16 {\n",
       "            background-color:  #88abfd;\n",
       "            color:  #000000;\n",
       "        }    #T_d576bda6_8ada_11ea_8efb_abd2d5119b6arow2_col17 {\n",
       "            background-color:  #e1dad6;\n",
       "            color:  #000000;\n",
       "        }    #T_d576bda6_8ada_11ea_8efb_abd2d5119b6arow2_col18 {\n",
       "            background-color:  #3b4cc0;\n",
       "            color:  #f1f1f1;\n",
       "        }    #T_d576bda6_8ada_11ea_8efb_abd2d5119b6arow2_col19 {\n",
       "            background-color:  #3d50c3;\n",
       "            color:  #f1f1f1;\n",
       "        }    #T_d576bda6_8ada_11ea_8efb_abd2d5119b6arow2_col20 {\n",
       "            background-color:  #f4c6af;\n",
       "            color:  #000000;\n",
       "        }    #T_d576bda6_8ada_11ea_8efb_abd2d5119b6arow3_col0 {\n",
       "            background-color:  #f7b79b;\n",
       "            color:  #000000;\n",
       "        }    #T_d576bda6_8ada_11ea_8efb_abd2d5119b6arow3_col1 {\n",
       "            background-color:  #f29274;\n",
       "            color:  #000000;\n",
       "        }    #T_d576bda6_8ada_11ea_8efb_abd2d5119b6arow3_col2 {\n",
       "            background-color:  #6485ec;\n",
       "            color:  #000000;\n",
       "        }    #T_d576bda6_8ada_11ea_8efb_abd2d5119b6arow3_col3 {\n",
       "            background-color:  #b40426;\n",
       "            color:  #f1f1f1;\n",
       "        }    #T_d576bda6_8ada_11ea_8efb_abd2d5119b6arow3_col4 {\n",
       "            background-color:  #f5c4ac;\n",
       "            color:  #000000;\n",
       "        }    #T_d576bda6_8ada_11ea_8efb_abd2d5119b6arow3_col5 {\n",
       "            background-color:  #3b4cc0;\n",
       "            color:  #f1f1f1;\n",
       "        }    #T_d576bda6_8ada_11ea_8efb_abd2d5119b6arow3_col6 {\n",
       "            background-color:  #6282ea;\n",
       "            color:  #000000;\n",
       "        }    #T_d576bda6_8ada_11ea_8efb_abd2d5119b6arow3_col7 {\n",
       "            background-color:  #5e7de7;\n",
       "            color:  #000000;\n",
       "        }    #T_d576bda6_8ada_11ea_8efb_abd2d5119b6arow3_col8 {\n",
       "            background-color:  #5d7ce6;\n",
       "            color:  #000000;\n",
       "        }    #T_d576bda6_8ada_11ea_8efb_abd2d5119b6arow3_col9 {\n",
       "            background-color:  #9bbcff;\n",
       "            color:  #000000;\n",
       "        }    #T_d576bda6_8ada_11ea_8efb_abd2d5119b6arow3_col10 {\n",
       "            background-color:  #9ebeff;\n",
       "            color:  #000000;\n",
       "        }    #T_d576bda6_8ada_11ea_8efb_abd2d5119b6arow3_col11 {\n",
       "            background-color:  #f5a081;\n",
       "            color:  #000000;\n",
       "        }    #T_d576bda6_8ada_11ea_8efb_abd2d5119b6arow3_col12 {\n",
       "            background-color:  #f39778;\n",
       "            color:  #000000;\n",
       "        }    #T_d576bda6_8ada_11ea_8efb_abd2d5119b6arow3_col13 {\n",
       "            background-color:  #5572df;\n",
       "            color:  #000000;\n",
       "        }    #T_d576bda6_8ada_11ea_8efb_abd2d5119b6arow3_col14 {\n",
       "            background-color:  #7a9df8;\n",
       "            color:  #000000;\n",
       "        }    #T_d576bda6_8ada_11ea_8efb_abd2d5119b6arow3_col15 {\n",
       "            background-color:  #82a6fb;\n",
       "            color:  #000000;\n",
       "        }    #T_d576bda6_8ada_11ea_8efb_abd2d5119b6arow3_col16 {\n",
       "            background-color:  #f6bea4;\n",
       "            color:  #000000;\n",
       "        }    #T_d576bda6_8ada_11ea_8efb_abd2d5119b6arow3_col17 {\n",
       "            background-color:  #6180e9;\n",
       "            color:  #000000;\n",
       "        }    #T_d576bda6_8ada_11ea_8efb_abd2d5119b6arow3_col18 {\n",
       "            background-color:  #3e51c5;\n",
       "            color:  #f1f1f1;\n",
       "        }    #T_d576bda6_8ada_11ea_8efb_abd2d5119b6arow3_col19 {\n",
       "            background-color:  #3e51c5;\n",
       "            color:  #f1f1f1;\n",
       "        }    #T_d576bda6_8ada_11ea_8efb_abd2d5119b6arow3_col20 {\n",
       "            background-color:  #97b8ff;\n",
       "            color:  #000000;\n",
       "        }    #T_d576bda6_8ada_11ea_8efb_abd2d5119b6arow4_col0 {\n",
       "            background-color:  #b9d0f9;\n",
       "            color:  #000000;\n",
       "        }    #T_d576bda6_8ada_11ea_8efb_abd2d5119b6arow4_col1 {\n",
       "            background-color:  #f5c0a7;\n",
       "            color:  #000000;\n",
       "        }    #T_d576bda6_8ada_11ea_8efb_abd2d5119b6arow4_col2 {\n",
       "            background-color:  #3b4cc0;\n",
       "            color:  #f1f1f1;\n",
       "        }    #T_d576bda6_8ada_11ea_8efb_abd2d5119b6arow4_col3 {\n",
       "            background-color:  #f1cdba;\n",
       "            color:  #000000;\n",
       "        }    #T_d576bda6_8ada_11ea_8efb_abd2d5119b6arow4_col4 {\n",
       "            background-color:  #b40426;\n",
       "            color:  #f1f1f1;\n",
       "        }    #T_d576bda6_8ada_11ea_8efb_abd2d5119b6arow4_col5 {\n",
       "            background-color:  #455cce;\n",
       "            color:  #f1f1f1;\n",
       "        }    #T_d576bda6_8ada_11ea_8efb_abd2d5119b6arow4_col6 {\n",
       "            background-color:  #3b4cc0;\n",
       "            color:  #f1f1f1;\n",
       "        }    #T_d576bda6_8ada_11ea_8efb_abd2d5119b6arow4_col7 {\n",
       "            background-color:  #aec9fc;\n",
       "            color:  #000000;\n",
       "        }    #T_d576bda6_8ada_11ea_8efb_abd2d5119b6arow4_col8 {\n",
       "            background-color:  #a3c2fe;\n",
       "            color:  #000000;\n",
       "        }    #T_d576bda6_8ada_11ea_8efb_abd2d5119b6arow4_col9 {\n",
       "            background-color:  #3b4cc0;\n",
       "            color:  #f1f1f1;\n",
       "        }    #T_d576bda6_8ada_11ea_8efb_abd2d5119b6arow4_col10 {\n",
       "            background-color:  #3b4cc0;\n",
       "            color:  #f1f1f1;\n",
       "        }    #T_d576bda6_8ada_11ea_8efb_abd2d5119b6arow4_col11 {\n",
       "            background-color:  #e3d9d3;\n",
       "            color:  #000000;\n",
       "        }    #T_d576bda6_8ada_11ea_8efb_abd2d5119b6arow4_col12 {\n",
       "            background-color:  #f7bca1;\n",
       "            color:  #000000;\n",
       "        }    #T_d576bda6_8ada_11ea_8efb_abd2d5119b6arow4_col13 {\n",
       "            background-color:  #3b4cc0;\n",
       "            color:  #f1f1f1;\n",
       "        }    #T_d576bda6_8ada_11ea_8efb_abd2d5119b6arow4_col14 {\n",
       "            background-color:  #3b4cc0;\n",
       "            color:  #f1f1f1;\n",
       "        }    #T_d576bda6_8ada_11ea_8efb_abd2d5119b6arow4_col15 {\n",
       "            background-color:  #3b4cc0;\n",
       "            color:  #f1f1f1;\n",
       "        }    #T_d576bda6_8ada_11ea_8efb_abd2d5119b6arow4_col16 {\n",
       "            background-color:  #e6d7cf;\n",
       "            color:  #000000;\n",
       "        }    #T_d576bda6_8ada_11ea_8efb_abd2d5119b6arow4_col17 {\n",
       "            background-color:  #3b4cc0;\n",
       "            color:  #f1f1f1;\n",
       "        }    #T_d576bda6_8ada_11ea_8efb_abd2d5119b6arow4_col18 {\n",
       "            background-color:  #3c4ec2;\n",
       "            color:  #f1f1f1;\n",
       "        }    #T_d576bda6_8ada_11ea_8efb_abd2d5119b6arow4_col19 {\n",
       "            background-color:  #3f53c6;\n",
       "            color:  #f1f1f1;\n",
       "        }    #T_d576bda6_8ada_11ea_8efb_abd2d5119b6arow4_col20 {\n",
       "            background-color:  #3b4cc0;\n",
       "            color:  #f1f1f1;\n",
       "        }    #T_d576bda6_8ada_11ea_8efb_abd2d5119b6arow5_col0 {\n",
       "            background-color:  #7ea1fa;\n",
       "            color:  #000000;\n",
       "        }    #T_d576bda6_8ada_11ea_8efb_abd2d5119b6arow5_col1 {\n",
       "            background-color:  #3b4cc0;\n",
       "            color:  #f1f1f1;\n",
       "        }    #T_d576bda6_8ada_11ea_8efb_abd2d5119b6arow5_col2 {\n",
       "            background-color:  #c1d4f4;\n",
       "            color:  #000000;\n",
       "        }    #T_d576bda6_8ada_11ea_8efb_abd2d5119b6arow5_col3 {\n",
       "            background-color:  #3b4cc0;\n",
       "            color:  #f1f1f1;\n",
       "        }    #T_d576bda6_8ada_11ea_8efb_abd2d5119b6arow5_col4 {\n",
       "            background-color:  #5f7fe8;\n",
       "            color:  #000000;\n",
       "        }    #T_d576bda6_8ada_11ea_8efb_abd2d5119b6arow5_col5 {\n",
       "            background-color:  #b40426;\n",
       "            color:  #f1f1f1;\n",
       "        }    #T_d576bda6_8ada_11ea_8efb_abd2d5119b6arow5_col6 {\n",
       "            background-color:  #ed8366;\n",
       "            color:  #000000;\n",
       "        }    #T_d576bda6_8ada_11ea_8efb_abd2d5119b6arow5_col7 {\n",
       "            background-color:  #c1d4f4;\n",
       "            color:  #000000;\n",
       "        }    #T_d576bda6_8ada_11ea_8efb_abd2d5119b6arow5_col8 {\n",
       "            background-color:  #cfdaea;\n",
       "            color:  #000000;\n",
       "        }    #T_d576bda6_8ada_11ea_8efb_abd2d5119b6arow5_col9 {\n",
       "            background-color:  #f7b99e;\n",
       "            color:  #000000;\n",
       "        }    #T_d576bda6_8ada_11ea_8efb_abd2d5119b6arow5_col10 {\n",
       "            background-color:  #f3c7b1;\n",
       "            color:  #000000;\n",
       "        }    #T_d576bda6_8ada_11ea_8efb_abd2d5119b6arow5_col11 {\n",
       "            background-color:  #4961d2;\n",
       "            color:  #f1f1f1;\n",
       "        }    #T_d576bda6_8ada_11ea_8efb_abd2d5119b6arow5_col12 {\n",
       "            background-color:  #3c4ec2;\n",
       "            color:  #f1f1f1;\n",
       "        }    #T_d576bda6_8ada_11ea_8efb_abd2d5119b6arow5_col13 {\n",
       "            background-color:  #e3d9d3;\n",
       "            color:  #000000;\n",
       "        }    #T_d576bda6_8ada_11ea_8efb_abd2d5119b6arow5_col14 {\n",
       "            background-color:  #b5cdfa;\n",
       "            color:  #000000;\n",
       "        }    #T_d576bda6_8ada_11ea_8efb_abd2d5119b6arow5_col15 {\n",
       "            background-color:  #dbdcde;\n",
       "            color:  #000000;\n",
       "        }    #T_d576bda6_8ada_11ea_8efb_abd2d5119b6arow5_col16 {\n",
       "            background-color:  #3b4cc0;\n",
       "            color:  #f1f1f1;\n",
       "        }    #T_d576bda6_8ada_11ea_8efb_abd2d5119b6arow5_col17 {\n",
       "            background-color:  #f39778;\n",
       "            color:  #000000;\n",
       "        }    #T_d576bda6_8ada_11ea_8efb_abd2d5119b6arow5_col18 {\n",
       "            background-color:  #3b4cc0;\n",
       "            color:  #f1f1f1;\n",
       "        }    #T_d576bda6_8ada_11ea_8efb_abd2d5119b6arow5_col19 {\n",
       "            background-color:  #3d50c3;\n",
       "            color:  #f1f1f1;\n",
       "        }    #T_d576bda6_8ada_11ea_8efb_abd2d5119b6arow5_col20 {\n",
       "            background-color:  #f5c2aa;\n",
       "            color:  #000000;\n",
       "        }    #T_d576bda6_8ada_11ea_8efb_abd2d5119b6arow6_col0 {\n",
       "            background-color:  #bad0f8;\n",
       "            color:  #000000;\n",
       "        }    #T_d576bda6_8ada_11ea_8efb_abd2d5119b6arow6_col1 {\n",
       "            background-color:  #445acc;\n",
       "            color:  #f1f1f1;\n",
       "        }    #T_d576bda6_8ada_11ea_8efb_abd2d5119b6arow6_col2 {\n",
       "            background-color:  #c4d5f3;\n",
       "            color:  #000000;\n",
       "        }    #T_d576bda6_8ada_11ea_8efb_abd2d5119b6arow6_col3 {\n",
       "            background-color:  #5572df;\n",
       "            color:  #000000;\n",
       "        }    #T_d576bda6_8ada_11ea_8efb_abd2d5119b6arow6_col4 {\n",
       "            background-color:  #4961d2;\n",
       "            color:  #f1f1f1;\n",
       "        }    #T_d576bda6_8ada_11ea_8efb_abd2d5119b6arow6_col5 {\n",
       "            background-color:  #ee8669;\n",
       "            color:  #000000;\n",
       "        }    #T_d576bda6_8ada_11ea_8efb_abd2d5119b6arow6_col6 {\n",
       "            background-color:  #b40426;\n",
       "            color:  #f1f1f1;\n",
       "        }    #T_d576bda6_8ada_11ea_8efb_abd2d5119b6arow6_col7 {\n",
       "            background-color:  #98b9ff;\n",
       "            color:  #000000;\n",
       "        }    #T_d576bda6_8ada_11ea_8efb_abd2d5119b6arow6_col8 {\n",
       "            background-color:  #b1cbfc;\n",
       "            color:  #000000;\n",
       "        }    #T_d576bda6_8ada_11ea_8efb_abd2d5119b6arow6_col9 {\n",
       "            background-color:  #f7aa8c;\n",
       "            color:  #000000;\n",
       "        }    #T_d576bda6_8ada_11ea_8efb_abd2d5119b6arow6_col10 {\n",
       "            background-color:  #f7a889;\n",
       "            color:  #000000;\n",
       "        }    #T_d576bda6_8ada_11ea_8efb_abd2d5119b6arow6_col11 {\n",
       "            background-color:  #88abfd;\n",
       "            color:  #000000;\n",
       "        }    #T_d576bda6_8ada_11ea_8efb_abd2d5119b6arow6_col12 {\n",
       "            background-color:  #3b4cc0;\n",
       "            color:  #f1f1f1;\n",
       "        }    #T_d576bda6_8ada_11ea_8efb_abd2d5119b6arow6_col13 {\n",
       "            background-color:  #e4d9d2;\n",
       "            color:  #000000;\n",
       "        }    #T_d576bda6_8ada_11ea_8efb_abd2d5119b6arow6_col14 {\n",
       "            background-color:  #d4dbe6;\n",
       "            color:  #000000;\n",
       "        }    #T_d576bda6_8ada_11ea_8efb_abd2d5119b6arow6_col15 {\n",
       "            background-color:  #f4c6af;\n",
       "            color:  #000000;\n",
       "        }    #T_d576bda6_8ada_11ea_8efb_abd2d5119b6arow6_col16 {\n",
       "            background-color:  #4257c9;\n",
       "            color:  #f1f1f1;\n",
       "        }    #T_d576bda6_8ada_11ea_8efb_abd2d5119b6arow6_col17 {\n",
       "            background-color:  #ca3b37;\n",
       "            color:  #f1f1f1;\n",
       "        }    #T_d576bda6_8ada_11ea_8efb_abd2d5119b6arow6_col18 {\n",
       "            background-color:  #3c4ec2;\n",
       "            color:  #f1f1f1;\n",
       "        }    #T_d576bda6_8ada_11ea_8efb_abd2d5119b6arow6_col19 {\n",
       "            background-color:  #3d50c3;\n",
       "            color:  #f1f1f1;\n",
       "        }    #T_d576bda6_8ada_11ea_8efb_abd2d5119b6arow6_col20 {\n",
       "            background-color:  #f08b6e;\n",
       "            color:  #000000;\n",
       "        }    #T_d576bda6_8ada_11ea_8efb_abd2d5119b6arow7_col0 {\n",
       "            background-color:  #3d50c3;\n",
       "            color:  #f1f1f1;\n",
       "        }    #T_d576bda6_8ada_11ea_8efb_abd2d5119b6arow7_col1 {\n",
       "            background-color:  #5875e1;\n",
       "            color:  #000000;\n",
       "        }    #T_d576bda6_8ada_11ea_8efb_abd2d5119b6arow7_col2 {\n",
       "            background-color:  #4a63d3;\n",
       "            color:  #f1f1f1;\n",
       "        }    #T_d576bda6_8ada_11ea_8efb_abd2d5119b6arow7_col3 {\n",
       "            background-color:  #6e90f2;\n",
       "            color:  #000000;\n",
       "        }    #T_d576bda6_8ada_11ea_8efb_abd2d5119b6arow7_col4 {\n",
       "            background-color:  #cbd8ee;\n",
       "            color:  #000000;\n",
       "        }    #T_d576bda6_8ada_11ea_8efb_abd2d5119b6arow7_col5 {\n",
       "            background-color:  #cbd8ee;\n",
       "            color:  #000000;\n",
       "        }    #T_d576bda6_8ada_11ea_8efb_abd2d5119b6arow7_col6 {\n",
       "            background-color:  #afcafc;\n",
       "            color:  #000000;\n",
       "        }    #T_d576bda6_8ada_11ea_8efb_abd2d5119b6arow7_col7 {\n",
       "            background-color:  #b40426;\n",
       "            color:  #f1f1f1;\n",
       "        }    #T_d576bda6_8ada_11ea_8efb_abd2d5119b6arow7_col8 {\n",
       "            background-color:  #bd1f2d;\n",
       "            color:  #f1f1f1;\n",
       "        }    #T_d576bda6_8ada_11ea_8efb_abd2d5119b6arow7_col9 {\n",
       "            background-color:  #a5c3fe;\n",
       "            color:  #000000;\n",
       "        }    #T_d576bda6_8ada_11ea_8efb_abd2d5119b6arow7_col10 {\n",
       "            background-color:  #a5c3fe;\n",
       "            color:  #000000;\n",
       "        }    #T_d576bda6_8ada_11ea_8efb_abd2d5119b6arow7_col11 {\n",
       "            background-color:  #455cce;\n",
       "            color:  #f1f1f1;\n",
       "        }    #T_d576bda6_8ada_11ea_8efb_abd2d5119b6arow7_col12 {\n",
       "            background-color:  #6180e9;\n",
       "            color:  #000000;\n",
       "        }    #T_d576bda6_8ada_11ea_8efb_abd2d5119b6arow7_col13 {\n",
       "            background-color:  #5b7ae5;\n",
       "            color:  #000000;\n",
       "        }    #T_d576bda6_8ada_11ea_8efb_abd2d5119b6arow7_col14 {\n",
       "            background-color:  #5875e1;\n",
       "            color:  #000000;\n",
       "        }    #T_d576bda6_8ada_11ea_8efb_abd2d5119b6arow7_col15 {\n",
       "            background-color:  #6485ec;\n",
       "            color:  #000000;\n",
       "        }    #T_d576bda6_8ada_11ea_8efb_abd2d5119b6arow7_col16 {\n",
       "            background-color:  #536edd;\n",
       "            color:  #000000;\n",
       "        }    #T_d576bda6_8ada_11ea_8efb_abd2d5119b6arow7_col17 {\n",
       "            background-color:  #a7c5fe;\n",
       "            color:  #000000;\n",
       "        }    #T_d576bda6_8ada_11ea_8efb_abd2d5119b6arow7_col18 {\n",
       "            background-color:  #3c4ec2;\n",
       "            color:  #f1f1f1;\n",
       "        }    #T_d576bda6_8ada_11ea_8efb_abd2d5119b6arow7_col19 {\n",
       "            background-color:  #3f53c6;\n",
       "            color:  #f1f1f1;\n",
       "        }    #T_d576bda6_8ada_11ea_8efb_abd2d5119b6arow7_col20 {\n",
       "            background-color:  #6f92f3;\n",
       "            color:  #000000;\n",
       "        }    #T_d576bda6_8ada_11ea_8efb_abd2d5119b6arow8_col0 {\n",
       "            background-color:  #3b4cc0;\n",
       "            color:  #f1f1f1;\n",
       "        }    #T_d576bda6_8ada_11ea_8efb_abd2d5119b6arow8_col1 {\n",
       "            background-color:  #4358cb;\n",
       "            color:  #f1f1f1;\n",
       "        }    #T_d576bda6_8ada_11ea_8efb_abd2d5119b6arow8_col2 {\n",
       "            background-color:  #5572df;\n",
       "            color:  #000000;\n",
       "        }    #T_d576bda6_8ada_11ea_8efb_abd2d5119b6arow8_col3 {\n",
       "            background-color:  #6788ee;\n",
       "            color:  #000000;\n",
       "        }    #T_d576bda6_8ada_11ea_8efb_abd2d5119b6arow8_col4 {\n",
       "            background-color:  #bfd3f6;\n",
       "            color:  #000000;\n",
       "        }    #T_d576bda6_8ada_11ea_8efb_abd2d5119b6arow8_col5 {\n",
       "            background-color:  #d5dbe5;\n",
       "            color:  #000000;\n",
       "        }    #T_d576bda6_8ada_11ea_8efb_abd2d5119b6arow8_col6 {\n",
       "            background-color:  #c0d4f5;\n",
       "            color:  #000000;\n",
       "        }    #T_d576bda6_8ada_11ea_8efb_abd2d5119b6arow8_col7 {\n",
       "            background-color:  #bd1f2d;\n",
       "            color:  #f1f1f1;\n",
       "        }    #T_d576bda6_8ada_11ea_8efb_abd2d5119b6arow8_col8 {\n",
       "            background-color:  #b40426;\n",
       "            color:  #f1f1f1;\n",
       "        }    #T_d576bda6_8ada_11ea_8efb_abd2d5119b6arow8_col9 {\n",
       "            background-color:  #b3cdfb;\n",
       "            color:  #000000;\n",
       "        }    #T_d576bda6_8ada_11ea_8efb_abd2d5119b6arow8_col10 {\n",
       "            background-color:  #b1cbfc;\n",
       "            color:  #000000;\n",
       "        }    #T_d576bda6_8ada_11ea_8efb_abd2d5119b6arow8_col11 {\n",
       "            background-color:  #3b4cc0;\n",
       "            color:  #f1f1f1;\n",
       "        }    #T_d576bda6_8ada_11ea_8efb_abd2d5119b6arow8_col12 {\n",
       "            background-color:  #4a63d3;\n",
       "            color:  #f1f1f1;\n",
       "        }    #T_d576bda6_8ada_11ea_8efb_abd2d5119b6arow8_col13 {\n",
       "            background-color:  #7093f3;\n",
       "            color:  #000000;\n",
       "        }    #T_d576bda6_8ada_11ea_8efb_abd2d5119b6arow8_col14 {\n",
       "            background-color:  #5875e1;\n",
       "            color:  #000000;\n",
       "        }    #T_d576bda6_8ada_11ea_8efb_abd2d5119b6arow8_col15 {\n",
       "            background-color:  #6a8bef;\n",
       "            color:  #000000;\n",
       "        }    #T_d576bda6_8ada_11ea_8efb_abd2d5119b6arow8_col16 {\n",
       "            background-color:  #4257c9;\n",
       "            color:  #f1f1f1;\n",
       "        }    #T_d576bda6_8ada_11ea_8efb_abd2d5119b6arow8_col17 {\n",
       "            background-color:  #b9d0f9;\n",
       "            color:  #000000;\n",
       "        }    #T_d576bda6_8ada_11ea_8efb_abd2d5119b6arow8_col18 {\n",
       "            background-color:  #3c4ec2;\n",
       "            color:  #f1f1f1;\n",
       "        }    #T_d576bda6_8ada_11ea_8efb_abd2d5119b6arow8_col19 {\n",
       "            background-color:  #3f53c6;\n",
       "            color:  #f1f1f1;\n",
       "        }    #T_d576bda6_8ada_11ea_8efb_abd2d5119b6arow8_col20 {\n",
       "            background-color:  #799cf8;\n",
       "            color:  #000000;\n",
       "        }    #T_d576bda6_8ada_11ea_8efb_abd2d5119b6arow9_col0 {\n",
       "            background-color:  #c3d5f4;\n",
       "            color:  #000000;\n",
       "        }    #T_d576bda6_8ada_11ea_8efb_abd2d5119b6arow9_col1 {\n",
       "            background-color:  #6c8ff1;\n",
       "            color:  #000000;\n",
       "        }    #T_d576bda6_8ada_11ea_8efb_abd2d5119b6arow9_col2 {\n",
       "            background-color:  #b6cefa;\n",
       "            color:  #000000;\n",
       "        }    #T_d576bda6_8ada_11ea_8efb_abd2d5119b6arow9_col3 {\n",
       "            background-color:  #86a9fc;\n",
       "            color:  #000000;\n",
       "        }    #T_d576bda6_8ada_11ea_8efb_abd2d5119b6arow9_col4 {\n",
       "            background-color:  #3e51c5;\n",
       "            color:  #f1f1f1;\n",
       "        }    #T_d576bda6_8ada_11ea_8efb_abd2d5119b6arow9_col5 {\n",
       "            background-color:  #f5c1a9;\n",
       "            color:  #000000;\n",
       "        }    #T_d576bda6_8ada_11ea_8efb_abd2d5119b6arow9_col6 {\n",
       "            background-color:  #f7ad90;\n",
       "            color:  #000000;\n",
       "        }    #T_d576bda6_8ada_11ea_8efb_abd2d5119b6arow9_col7 {\n",
       "            background-color:  #84a7fc;\n",
       "            color:  #000000;\n",
       "        }    #T_d576bda6_8ada_11ea_8efb_abd2d5119b6arow9_col8 {\n",
       "            background-color:  #98b9ff;\n",
       "            color:  #000000;\n",
       "        }    #T_d576bda6_8ada_11ea_8efb_abd2d5119b6arow9_col9 {\n",
       "            background-color:  #b40426;\n",
       "            color:  #f1f1f1;\n",
       "        }    #T_d576bda6_8ada_11ea_8efb_abd2d5119b6arow9_col10 {\n",
       "            background-color:  #f29072;\n",
       "            color:  #000000;\n",
       "        }    #T_d576bda6_8ada_11ea_8efb_abd2d5119b6arow9_col11 {\n",
       "            background-color:  #93b5fe;\n",
       "            color:  #000000;\n",
       "        }    #T_d576bda6_8ada_11ea_8efb_abd2d5119b6arow9_col12 {\n",
       "            background-color:  #688aef;\n",
       "            color:  #000000;\n",
       "        }    #T_d576bda6_8ada_11ea_8efb_abd2d5119b6arow9_col13 {\n",
       "            background-color:  #d5dbe5;\n",
       "            color:  #000000;\n",
       "        }    #T_d576bda6_8ada_11ea_8efb_abd2d5119b6arow9_col14 {\n",
       "            background-color:  #bcd2f7;\n",
       "            color:  #000000;\n",
       "        }    #T_d576bda6_8ada_11ea_8efb_abd2d5119b6arow9_col15 {\n",
       "            background-color:  #e4d9d2;\n",
       "            color:  #000000;\n",
       "        }    #T_d576bda6_8ada_11ea_8efb_abd2d5119b6arow9_col16 {\n",
       "            background-color:  #6485ec;\n",
       "            color:  #000000;\n",
       "        }    #T_d576bda6_8ada_11ea_8efb_abd2d5119b6arow9_col17 {\n",
       "            background-color:  #f7bca1;\n",
       "            color:  #000000;\n",
       "        }    #T_d576bda6_8ada_11ea_8efb_abd2d5119b6arow9_col18 {\n",
       "            background-color:  #3c4ec2;\n",
       "            color:  #f1f1f1;\n",
       "        }    #T_d576bda6_8ada_11ea_8efb_abd2d5119b6arow9_col19 {\n",
       "            background-color:  #3e51c5;\n",
       "            color:  #f1f1f1;\n",
       "        }    #T_d576bda6_8ada_11ea_8efb_abd2d5119b6arow9_col20 {\n",
       "            background-color:  #f7b396;\n",
       "            color:  #000000;\n",
       "        }    #T_d576bda6_8ada_11ea_8efb_abd2d5119b6arow10_col0 {\n",
       "            background-color:  #b5cdfa;\n",
       "            color:  #000000;\n",
       "        }    #T_d576bda6_8ada_11ea_8efb_abd2d5119b6arow10_col1 {\n",
       "            background-color:  #6e90f2;\n",
       "            color:  #000000;\n",
       "        }    #T_d576bda6_8ada_11ea_8efb_abd2d5119b6arow10_col2 {\n",
       "            background-color:  #afcafc;\n",
       "            color:  #000000;\n",
       "        }    #T_d576bda6_8ada_11ea_8efb_abd2d5119b6arow10_col3 {\n",
       "            background-color:  #85a8fc;\n",
       "            color:  #000000;\n",
       "        }    #T_d576bda6_8ada_11ea_8efb_abd2d5119b6arow10_col4 {\n",
       "            background-color:  #3b4cc0;\n",
       "            color:  #f1f1f1;\n",
       "        }    #T_d576bda6_8ada_11ea_8efb_abd2d5119b6arow10_col5 {\n",
       "            background-color:  #efcfbf;\n",
       "            color:  #000000;\n",
       "        }    #T_d576bda6_8ada_11ea_8efb_abd2d5119b6arow10_col6 {\n",
       "            background-color:  #f7ad90;\n",
       "            color:  #000000;\n",
       "        }    #T_d576bda6_8ada_11ea_8efb_abd2d5119b6arow10_col7 {\n",
       "            background-color:  #7ea1fa;\n",
       "            color:  #000000;\n",
       "        }    #T_d576bda6_8ada_11ea_8efb_abd2d5119b6arow10_col8 {\n",
       "            background-color:  #93b5fe;\n",
       "            color:  #000000;\n",
       "        }    #T_d576bda6_8ada_11ea_8efb_abd2d5119b6arow10_col9 {\n",
       "            background-color:  #f29274;\n",
       "            color:  #000000;\n",
       "        }    #T_d576bda6_8ada_11ea_8efb_abd2d5119b6arow10_col10 {\n",
       "            background-color:  #b40426;\n",
       "            color:  #f1f1f1;\n",
       "        }    #T_d576bda6_8ada_11ea_8efb_abd2d5119b6arow10_col11 {\n",
       "            background-color:  #93b5fe;\n",
       "            color:  #000000;\n",
       "        }    #T_d576bda6_8ada_11ea_8efb_abd2d5119b6arow10_col12 {\n",
       "            background-color:  #6687ed;\n",
       "            color:  #000000;\n",
       "        }    #T_d576bda6_8ada_11ea_8efb_abd2d5119b6arow10_col13 {\n",
       "            background-color:  #cfdaea;\n",
       "            color:  #000000;\n",
       "        }    #T_d576bda6_8ada_11ea_8efb_abd2d5119b6arow10_col14 {\n",
       "            background-color:  #c5d6f2;\n",
       "            color:  #000000;\n",
       "        }    #T_d576bda6_8ada_11ea_8efb_abd2d5119b6arow10_col15 {\n",
       "            background-color:  #efcfbf;\n",
       "            color:  #000000;\n",
       "        }    #T_d576bda6_8ada_11ea_8efb_abd2d5119b6arow10_col16 {\n",
       "            background-color:  #6485ec;\n",
       "            color:  #000000;\n",
       "        }    #T_d576bda6_8ada_11ea_8efb_abd2d5119b6arow10_col17 {\n",
       "            background-color:  #f7bca1;\n",
       "            color:  #000000;\n",
       "        }    #T_d576bda6_8ada_11ea_8efb_abd2d5119b6arow10_col18 {\n",
       "            background-color:  #3c4ec2;\n",
       "            color:  #f1f1f1;\n",
       "        }    #T_d576bda6_8ada_11ea_8efb_abd2d5119b6arow10_col19 {\n",
       "            background-color:  #3d50c3;\n",
       "            color:  #f1f1f1;\n",
       "        }    #T_d576bda6_8ada_11ea_8efb_abd2d5119b6arow10_col20 {\n",
       "            background-color:  #f5a081;\n",
       "            color:  #000000;\n",
       "        }    #T_d576bda6_8ada_11ea_8efb_abd2d5119b6arow11_col0 {\n",
       "            background-color:  #cb3e38;\n",
       "            color:  #f1f1f1;\n",
       "        }    #T_d576bda6_8ada_11ea_8efb_abd2d5119b6arow11_col1 {\n",
       "            background-color:  #cd423b;\n",
       "            color:  #f1f1f1;\n",
       "        }    #T_d576bda6_8ada_11ea_8efb_abd2d5119b6arow11_col2 {\n",
       "            background-color:  #7ea1fa;\n",
       "            color:  #000000;\n",
       "        }    #T_d576bda6_8ada_11ea_8efb_abd2d5119b6arow11_col3 {\n",
       "            background-color:  #f59d7e;\n",
       "            color:  #000000;\n",
       "        }    #T_d576bda6_8ada_11ea_8efb_abd2d5119b6arow11_col4 {\n",
       "            background-color:  #efcfbf;\n",
       "            color:  #000000;\n",
       "        }    #T_d576bda6_8ada_11ea_8efb_abd2d5119b6arow11_col5 {\n",
       "            background-color:  #536edd;\n",
       "            color:  #000000;\n",
       "        }    #T_d576bda6_8ada_11ea_8efb_abd2d5119b6arow11_col6 {\n",
       "            background-color:  #9bbcff;\n",
       "            color:  #000000;\n",
       "        }    #T_d576bda6_8ada_11ea_8efb_abd2d5119b6arow11_col7 {\n",
       "            background-color:  #3f53c6;\n",
       "            color:  #f1f1f1;\n",
       "        }    #T_d576bda6_8ada_11ea_8efb_abd2d5119b6arow11_col8 {\n",
       "            background-color:  #3b4cc0;\n",
       "            color:  #f1f1f1;\n",
       "        }    #T_d576bda6_8ada_11ea_8efb_abd2d5119b6arow11_col9 {\n",
       "            background-color:  #adc9fd;\n",
       "            color:  #000000;\n",
       "        }    #T_d576bda6_8ada_11ea_8efb_abd2d5119b6arow11_col10 {\n",
       "            background-color:  #b1cbfc;\n",
       "            color:  #000000;\n",
       "        }    #T_d576bda6_8ada_11ea_8efb_abd2d5119b6arow11_col11 {\n",
       "            background-color:  #b40426;\n",
       "            color:  #f1f1f1;\n",
       "        }    #T_d576bda6_8ada_11ea_8efb_abd2d5119b6arow11_col12 {\n",
       "            background-color:  #d24b40;\n",
       "            color:  #f1f1f1;\n",
       "        }    #T_d576bda6_8ada_11ea_8efb_abd2d5119b6arow11_col13 {\n",
       "            background-color:  #7396f5;\n",
       "            color:  #000000;\n",
       "        }    #T_d576bda6_8ada_11ea_8efb_abd2d5119b6arow11_col14 {\n",
       "            background-color:  #9abbff;\n",
       "            color:  #000000;\n",
       "        }    #T_d576bda6_8ada_11ea_8efb_abd2d5119b6arow11_col15 {\n",
       "            background-color:  #9ebeff;\n",
       "            color:  #000000;\n",
       "        }    #T_d576bda6_8ada_11ea_8efb_abd2d5119b6arow11_col16 {\n",
       "            background-color:  #f18d6f;\n",
       "            color:  #000000;\n",
       "        }    #T_d576bda6_8ada_11ea_8efb_abd2d5119b6arow11_col17 {\n",
       "            background-color:  #96b7ff;\n",
       "            color:  #000000;\n",
       "        }    #T_d576bda6_8ada_11ea_8efb_abd2d5119b6arow11_col18 {\n",
       "            background-color:  #3d50c3;\n",
       "            color:  #f1f1f1;\n",
       "        }    #T_d576bda6_8ada_11ea_8efb_abd2d5119b6arow11_col19 {\n",
       "            background-color:  #3e51c5;\n",
       "            color:  #f1f1f1;\n",
       "        }    #T_d576bda6_8ada_11ea_8efb_abd2d5119b6arow11_col20 {\n",
       "            background-color:  #b9d0f9;\n",
       "            color:  #000000;\n",
       "        }    #T_d576bda6_8ada_11ea_8efb_abd2d5119b6arow12_col0 {\n",
       "            background-color:  #eb7d62;\n",
       "            color:  #000000;\n",
       "        }    #T_d576bda6_8ada_11ea_8efb_abd2d5119b6arow12_col1 {\n",
       "            background-color:  #b70d28;\n",
       "            color:  #f1f1f1;\n",
       "        }    #T_d576bda6_8ada_11ea_8efb_abd2d5119b6arow12_col2 {\n",
       "            background-color:  #6687ed;\n",
       "            color:  #000000;\n",
       "        }    #T_d576bda6_8ada_11ea_8efb_abd2d5119b6arow12_col3 {\n",
       "            background-color:  #f39475;\n",
       "            color:  #000000;\n",
       "        }    #T_d576bda6_8ada_11ea_8efb_abd2d5119b6arow12_col4 {\n",
       "            background-color:  #f7ad90;\n",
       "            color:  #000000;\n",
       "        }    #T_d576bda6_8ada_11ea_8efb_abd2d5119b6arow12_col5 {\n",
       "            background-color:  #465ecf;\n",
       "            color:  #f1f1f1;\n",
       "        }    #T_d576bda6_8ada_11ea_8efb_abd2d5119b6arow12_col6 {\n",
       "            background-color:  #516ddb;\n",
       "            color:  #000000;\n",
       "        }    #T_d576bda6_8ada_11ea_8efb_abd2d5119b6arow12_col7 {\n",
       "            background-color:  #5b7ae5;\n",
       "            color:  #000000;\n",
       "        }    #T_d576bda6_8ada_11ea_8efb_abd2d5119b6arow12_col8 {\n",
       "            background-color:  #4a63d3;\n",
       "            color:  #f1f1f1;\n",
       "        }    #T_d576bda6_8ada_11ea_8efb_abd2d5119b6arow12_col9 {\n",
       "            background-color:  #88abfd;\n",
       "            color:  #000000;\n",
       "        }    #T_d576bda6_8ada_11ea_8efb_abd2d5119b6arow12_col10 {\n",
       "            background-color:  #89acfd;\n",
       "            color:  #000000;\n",
       "        }    #T_d576bda6_8ada_11ea_8efb_abd2d5119b6arow12_col11 {\n",
       "            background-color:  #d24b40;\n",
       "            color:  #f1f1f1;\n",
       "        }    #T_d576bda6_8ada_11ea_8efb_abd2d5119b6arow12_col12 {\n",
       "            background-color:  #b40426;\n",
       "            color:  #f1f1f1;\n",
       "        }    #T_d576bda6_8ada_11ea_8efb_abd2d5119b6arow12_col13 {\n",
       "            background-color:  #516ddb;\n",
       "            color:  #000000;\n",
       "        }    #T_d576bda6_8ada_11ea_8efb_abd2d5119b6arow12_col14 {\n",
       "            background-color:  #7b9ff9;\n",
       "            color:  #000000;\n",
       "        }    #T_d576bda6_8ada_11ea_8efb_abd2d5119b6arow12_col15 {\n",
       "            background-color:  #7699f6;\n",
       "            color:  #000000;\n",
       "        }    #T_d576bda6_8ada_11ea_8efb_abd2d5119b6arow12_col16 {\n",
       "            background-color:  #e7745b;\n",
       "            color:  #000000;\n",
       "        }    #T_d576bda6_8ada_11ea_8efb_abd2d5119b6arow12_col17 {\n",
       "            background-color:  #506bda;\n",
       "            color:  #000000;\n",
       "        }    #T_d576bda6_8ada_11ea_8efb_abd2d5119b6arow12_col18 {\n",
       "            background-color:  #3d50c3;\n",
       "            color:  #f1f1f1;\n",
       "        }    #T_d576bda6_8ada_11ea_8efb_abd2d5119b6arow12_col19 {\n",
       "            background-color:  #3e51c5;\n",
       "            color:  #f1f1f1;\n",
       "        }    #T_d576bda6_8ada_11ea_8efb_abd2d5119b6arow12_col20 {\n",
       "            background-color:  #86a9fc;\n",
       "            color:  #000000;\n",
       "        }    #T_d576bda6_8ada_11ea_8efb_abd2d5119b6arow13_col0 {\n",
       "            background-color:  #b5cdfa;\n",
       "            color:  #000000;\n",
       "        }    #T_d576bda6_8ada_11ea_8efb_abd2d5119b6arow13_col1 {\n",
       "            background-color:  #7699f6;\n",
       "            color:  #000000;\n",
       "        }    #T_d576bda6_8ada_11ea_8efb_abd2d5119b6arow13_col2 {\n",
       "            background-color:  #f6bfa6;\n",
       "            color:  #000000;\n",
       "        }    #T_d576bda6_8ada_11ea_8efb_abd2d5119b6arow13_col3 {\n",
       "            background-color:  #82a6fb;\n",
       "            color:  #000000;\n",
       "        }    #T_d576bda6_8ada_11ea_8efb_abd2d5119b6arow13_col4 {\n",
       "            background-color:  #82a6fb;\n",
       "            color:  #000000;\n",
       "        }    #T_d576bda6_8ada_11ea_8efb_abd2d5119b6arow13_col5 {\n",
       "            background-color:  #f1ccb8;\n",
       "            color:  #000000;\n",
       "        }    #T_d576bda6_8ada_11ea_8efb_abd2d5119b6arow13_col6 {\n",
       "            background-color:  #f3c7b1;\n",
       "            color:  #000000;\n",
       "        }    #T_d576bda6_8ada_11ea_8efb_abd2d5119b6arow13_col7 {\n",
       "            background-color:  #7a9df8;\n",
       "            color:  #000000;\n",
       "        }    #T_d576bda6_8ada_11ea_8efb_abd2d5119b6arow13_col8 {\n",
       "            background-color:  #93b5fe;\n",
       "            color:  #000000;\n",
       "        }    #T_d576bda6_8ada_11ea_8efb_abd2d5119b6arow13_col9 {\n",
       "            background-color:  #efcfbf;\n",
       "            color:  #000000;\n",
       "        }    #T_d576bda6_8ada_11ea_8efb_abd2d5119b6arow13_col10 {\n",
       "            background-color:  #edd1c2;\n",
       "            color:  #000000;\n",
       "        }    #T_d576bda6_8ada_11ea_8efb_abd2d5119b6arow13_col11 {\n",
       "            background-color:  #94b6ff;\n",
       "            color:  #000000;\n",
       "        }    #T_d576bda6_8ada_11ea_8efb_abd2d5119b6arow13_col12 {\n",
       "            background-color:  #7597f6;\n",
       "            color:  #000000;\n",
       "        }    #T_d576bda6_8ada_11ea_8efb_abd2d5119b6arow13_col13 {\n",
       "            background-color:  #b40426;\n",
       "            color:  #f1f1f1;\n",
       "        }    #T_d576bda6_8ada_11ea_8efb_abd2d5119b6arow13_col14 {\n",
       "            background-color:  #bfd3f6;\n",
       "            color:  #000000;\n",
       "        }    #T_d576bda6_8ada_11ea_8efb_abd2d5119b6arow13_col15 {\n",
       "            background-color:  #e2dad5;\n",
       "            color:  #000000;\n",
       "        }    #T_d576bda6_8ada_11ea_8efb_abd2d5119b6arow13_col16 {\n",
       "            background-color:  #6b8df0;\n",
       "            color:  #000000;\n",
       "        }    #T_d576bda6_8ada_11ea_8efb_abd2d5119b6arow13_col17 {\n",
       "            background-color:  #eed0c0;\n",
       "            color:  #000000;\n",
       "        }    #T_d576bda6_8ada_11ea_8efb_abd2d5119b6arow13_col18 {\n",
       "            background-color:  #3c4ec2;\n",
       "            color:  #f1f1f1;\n",
       "        }    #T_d576bda6_8ada_11ea_8efb_abd2d5119b6arow13_col19 {\n",
       "            background-color:  #3d50c3;\n",
       "            color:  #f1f1f1;\n",
       "        }    #T_d576bda6_8ada_11ea_8efb_abd2d5119b6arow13_col20 {\n",
       "            background-color:  #f7b89c;\n",
       "            color:  #000000;\n",
       "        }    #T_d576bda6_8ada_11ea_8efb_abd2d5119b6arow14_col0 {\n",
       "            background-color:  #c7d7f0;\n",
       "            color:  #000000;\n",
       "        }    #T_d576bda6_8ada_11ea_8efb_abd2d5119b6arow14_col1 {\n",
       "            background-color:  #a6c4fe;\n",
       "            color:  #000000;\n",
       "        }    #T_d576bda6_8ada_11ea_8efb_abd2d5119b6arow14_col2 {\n",
       "            background-color:  #ccd9ed;\n",
       "            color:  #000000;\n",
       "        }    #T_d576bda6_8ada_11ea_8efb_abd2d5119b6arow14_col3 {\n",
       "            background-color:  #a9c6fd;\n",
       "            color:  #000000;\n",
       "        }    #T_d576bda6_8ada_11ea_8efb_abd2d5119b6arow14_col4 {\n",
       "            background-color:  #89acfd;\n",
       "            color:  #000000;\n",
       "        }    #T_d576bda6_8ada_11ea_8efb_abd2d5119b6arow14_col5 {\n",
       "            background-color:  #d5dbe5;\n",
       "            color:  #000000;\n",
       "        }    #T_d576bda6_8ada_11ea_8efb_abd2d5119b6arow14_col6 {\n",
       "            background-color:  #eed0c0;\n",
       "            color:  #000000;\n",
       "        }    #T_d576bda6_8ada_11ea_8efb_abd2d5119b6arow14_col7 {\n",
       "            background-color:  #7da0f9;\n",
       "            color:  #000000;\n",
       "        }    #T_d576bda6_8ada_11ea_8efb_abd2d5119b6arow14_col8 {\n",
       "            background-color:  #81a4fb;\n",
       "            color:  #000000;\n",
       "        }    #T_d576bda6_8ada_11ea_8efb_abd2d5119b6arow14_col9 {\n",
       "            background-color:  #e3d9d3;\n",
       "            color:  #000000;\n",
       "        }    #T_d576bda6_8ada_11ea_8efb_abd2d5119b6arow14_col10 {\n",
       "            background-color:  #ead4c8;\n",
       "            color:  #000000;\n",
       "        }    #T_d576bda6_8ada_11ea_8efb_abd2d5119b6arow14_col11 {\n",
       "            background-color:  #bad0f8;\n",
       "            color:  #000000;\n",
       "        }    #T_d576bda6_8ada_11ea_8efb_abd2d5119b6arow14_col12 {\n",
       "            background-color:  #a1c0ff;\n",
       "            color:  #000000;\n",
       "        }    #T_d576bda6_8ada_11ea_8efb_abd2d5119b6arow14_col13 {\n",
       "            background-color:  #c4d5f3;\n",
       "            color:  #000000;\n",
       "        }    #T_d576bda6_8ada_11ea_8efb_abd2d5119b6arow14_col14 {\n",
       "            background-color:  #b40426;\n",
       "            color:  #f1f1f1;\n",
       "        }    #T_d576bda6_8ada_11ea_8efb_abd2d5119b6arow14_col15 {\n",
       "            background-color:  #f6bda2;\n",
       "            color:  #000000;\n",
       "        }    #T_d576bda6_8ada_11ea_8efb_abd2d5119b6arow14_col16 {\n",
       "            background-color:  #94b6ff;\n",
       "            color:  #000000;\n",
       "        }    #T_d576bda6_8ada_11ea_8efb_abd2d5119b6arow14_col17 {\n",
       "            background-color:  #e7d7ce;\n",
       "            color:  #000000;\n",
       "        }    #T_d576bda6_8ada_11ea_8efb_abd2d5119b6arow14_col18 {\n",
       "            background-color:  #3c4ec2;\n",
       "            color:  #f1f1f1;\n",
       "        }    #T_d576bda6_8ada_11ea_8efb_abd2d5119b6arow14_col19 {\n",
       "            background-color:  #3c4ec2;\n",
       "            color:  #f1f1f1;\n",
       "        }    #T_d576bda6_8ada_11ea_8efb_abd2d5119b6arow14_col20 {\n",
       "            background-color:  #f7ad90;\n",
       "            color:  #000000;\n",
       "        }    #T_d576bda6_8ada_11ea_8efb_abd2d5119b6arow15_col0 {\n",
       "            background-color:  #bcd2f7;\n",
       "            color:  #000000;\n",
       "        }    #T_d576bda6_8ada_11ea_8efb_abd2d5119b6arow15_col1 {\n",
       "            background-color:  #88abfd;\n",
       "            color:  #000000;\n",
       "        }    #T_d576bda6_8ada_11ea_8efb_abd2d5119b6arow15_col2 {\n",
       "            background-color:  #c0d4f5;\n",
       "            color:  #000000;\n",
       "        }    #T_d576bda6_8ada_11ea_8efb_abd2d5119b6arow15_col3 {\n",
       "            background-color:  #96b7ff;\n",
       "            color:  #000000;\n",
       "        }    #T_d576bda6_8ada_11ea_8efb_abd2d5119b6arow15_col4 {\n",
       "            background-color:  #6a8bef;\n",
       "            color:  #000000;\n",
       "        }    #T_d576bda6_8ada_11ea_8efb_abd2d5119b6arow15_col5 {\n",
       "            background-color:  #e3d9d3;\n",
       "            color:  #000000;\n",
       "        }    #T_d576bda6_8ada_11ea_8efb_abd2d5119b6arow15_col6 {\n",
       "            background-color:  #f7ba9f;\n",
       "            color:  #000000;\n",
       "        }    #T_d576bda6_8ada_11ea_8efb_abd2d5119b6arow15_col7 {\n",
       "            background-color:  #6a8bef;\n",
       "            color:  #000000;\n",
       "        }    #T_d576bda6_8ada_11ea_8efb_abd2d5119b6arow15_col8 {\n",
       "            background-color:  #7396f5;\n",
       "            color:  #000000;\n",
       "        }    #T_d576bda6_8ada_11ea_8efb_abd2d5119b6arow15_col9 {\n",
       "            background-color:  #f1ccb8;\n",
       "            color:  #000000;\n",
       "        }    #T_d576bda6_8ada_11ea_8efb_abd2d5119b6arow15_col10 {\n",
       "            background-color:  #f6bfa6;\n",
       "            color:  #000000;\n",
       "        }    #T_d576bda6_8ada_11ea_8efb_abd2d5119b6arow15_col11 {\n",
       "            background-color:  #a6c4fe;\n",
       "            color:  #000000;\n",
       "        }    #T_d576bda6_8ada_11ea_8efb_abd2d5119b6arow15_col12 {\n",
       "            background-color:  #80a3fa;\n",
       "            color:  #000000;\n",
       "        }    #T_d576bda6_8ada_11ea_8efb_abd2d5119b6arow15_col13 {\n",
       "            background-color:  #d7dce3;\n",
       "            color:  #000000;\n",
       "        }    #T_d576bda6_8ada_11ea_8efb_abd2d5119b6arow15_col14 {\n",
       "            background-color:  #f2c9b4;\n",
       "            color:  #000000;\n",
       "        }    #T_d576bda6_8ada_11ea_8efb_abd2d5119b6arow15_col15 {\n",
       "            background-color:  #b40426;\n",
       "            color:  #f1f1f1;\n",
       "        }    #T_d576bda6_8ada_11ea_8efb_abd2d5119b6arow15_col16 {\n",
       "            background-color:  #7a9df8;\n",
       "            color:  #000000;\n",
       "        }    #T_d576bda6_8ada_11ea_8efb_abd2d5119b6arow15_col17 {\n",
       "            background-color:  #f4c6af;\n",
       "            color:  #000000;\n",
       "        }    #T_d576bda6_8ada_11ea_8efb_abd2d5119b6arow15_col18 {\n",
       "            background-color:  #3e51c5;\n",
       "            color:  #f1f1f1;\n",
       "        }    #T_d576bda6_8ada_11ea_8efb_abd2d5119b6arow15_col19 {\n",
       "            background-color:  #3b4cc0;\n",
       "            color:  #f1f1f1;\n",
       "        }    #T_d576bda6_8ada_11ea_8efb_abd2d5119b6arow15_col20 {\n",
       "            background-color:  #d1493f;\n",
       "            color:  #f1f1f1;\n",
       "        }    #T_d576bda6_8ada_11ea_8efb_abd2d5119b6arow16_col0 {\n",
       "            background-color:  #f7a688;\n",
       "            color:  #000000;\n",
       "        }    #T_d576bda6_8ada_11ea_8efb_abd2d5119b6arow16_col1 {\n",
       "            background-color:  #e36b54;\n",
       "            color:  #000000;\n",
       "        }    #T_d576bda6_8ada_11ea_8efb_abd2d5119b6arow16_col2 {\n",
       "            background-color:  #688aef;\n",
       "            color:  #000000;\n",
       "        }    #T_d576bda6_8ada_11ea_8efb_abd2d5119b6arow16_col3 {\n",
       "            background-color:  #f7b194;\n",
       "            color:  #000000;\n",
       "        }    #T_d576bda6_8ada_11ea_8efb_abd2d5119b6arow16_col4 {\n",
       "            background-color:  #f4c5ad;\n",
       "            color:  #000000;\n",
       "        }    #T_d576bda6_8ada_11ea_8efb_abd2d5119b6arow16_col5 {\n",
       "            background-color:  #5b7ae5;\n",
       "            color:  #000000;\n",
       "        }    #T_d576bda6_8ada_11ea_8efb_abd2d5119b6arow16_col6 {\n",
       "            background-color:  #6f92f3;\n",
       "            color:  #000000;\n",
       "        }    #T_d576bda6_8ada_11ea_8efb_abd2d5119b6arow16_col7 {\n",
       "            background-color:  #6485ec;\n",
       "            color:  #000000;\n",
       "        }    #T_d576bda6_8ada_11ea_8efb_abd2d5119b6arow16_col8 {\n",
       "            background-color:  #5977e3;\n",
       "            color:  #000000;\n",
       "        }    #T_d576bda6_8ada_11ea_8efb_abd2d5119b6arow16_col9 {\n",
       "            background-color:  #98b9ff;\n",
       "            color:  #000000;\n",
       "        }    #T_d576bda6_8ada_11ea_8efb_abd2d5119b6arow16_col10 {\n",
       "            background-color:  #9dbdff;\n",
       "            color:  #000000;\n",
       "        }    #T_d576bda6_8ada_11ea_8efb_abd2d5119b6arow16_col11 {\n",
       "            background-color:  #ee8669;\n",
       "            color:  #000000;\n",
       "        }    #T_d576bda6_8ada_11ea_8efb_abd2d5119b6arow16_col12 {\n",
       "            background-color:  #e46e56;\n",
       "            color:  #000000;\n",
       "        }    #T_d576bda6_8ada_11ea_8efb_abd2d5119b6arow16_col13 {\n",
       "            background-color:  #5e7de7;\n",
       "            color:  #000000;\n",
       "        }    #T_d576bda6_8ada_11ea_8efb_abd2d5119b6arow16_col14 {\n",
       "            background-color:  #82a6fb;\n",
       "            color:  #000000;\n",
       "        }    #T_d576bda6_8ada_11ea_8efb_abd2d5119b6arow16_col15 {\n",
       "            background-color:  #86a9fc;\n",
       "            color:  #000000;\n",
       "        }    #T_d576bda6_8ada_11ea_8efb_abd2d5119b6arow16_col16 {\n",
       "            background-color:  #b40426;\n",
       "            color:  #f1f1f1;\n",
       "        }    #T_d576bda6_8ada_11ea_8efb_abd2d5119b6arow16_col17 {\n",
       "            background-color:  #6c8ff1;\n",
       "            color:  #000000;\n",
       "        }    #T_d576bda6_8ada_11ea_8efb_abd2d5119b6arow16_col18 {\n",
       "            background-color:  #3d50c3;\n",
       "            color:  #f1f1f1;\n",
       "        }    #T_d576bda6_8ada_11ea_8efb_abd2d5119b6arow16_col19 {\n",
       "            background-color:  #3e51c5;\n",
       "            color:  #f1f1f1;\n",
       "        }    #T_d576bda6_8ada_11ea_8efb_abd2d5119b6arow16_col20 {\n",
       "            background-color:  #9bbcff;\n",
       "            color:  #000000;\n",
       "        }    #T_d576bda6_8ada_11ea_8efb_abd2d5119b6arow17_col0 {\n",
       "            background-color:  #b9d0f9;\n",
       "            color:  #000000;\n",
       "        }    #T_d576bda6_8ada_11ea_8efb_abd2d5119b6arow17_col1 {\n",
       "            background-color:  #4c66d6;\n",
       "            color:  #000000;\n",
       "        }    #T_d576bda6_8ada_11ea_8efb_abd2d5119b6arow17_col2 {\n",
       "            background-color:  #bfd3f6;\n",
       "            color:  #000000;\n",
       "        }    #T_d576bda6_8ada_11ea_8efb_abd2d5119b6arow17_col3 {\n",
       "            background-color:  #5e7de7;\n",
       "            color:  #000000;\n",
       "        }    #T_d576bda6_8ada_11ea_8efb_abd2d5119b6arow17_col4 {\n",
       "            background-color:  #536edd;\n",
       "            color:  #000000;\n",
       "        }    #T_d576bda6_8ada_11ea_8efb_abd2d5119b6arow17_col5 {\n",
       "            background-color:  #f4987a;\n",
       "            color:  #000000;\n",
       "        }    #T_d576bda6_8ada_11ea_8efb_abd2d5119b6arow17_col6 {\n",
       "            background-color:  #c83836;\n",
       "            color:  #f1f1f1;\n",
       "        }    #T_d576bda6_8ada_11ea_8efb_abd2d5119b6arow17_col7 {\n",
       "            background-color:  #9abbff;\n",
       "            color:  #000000;\n",
       "        }    #T_d576bda6_8ada_11ea_8efb_abd2d5119b6arow17_col8 {\n",
       "            background-color:  #afcafc;\n",
       "            color:  #000000;\n",
       "        }    #T_d576bda6_8ada_11ea_8efb_abd2d5119b6arow17_col9 {\n",
       "            background-color:  #f7b497;\n",
       "            color:  #000000;\n",
       "        }    #T_d576bda6_8ada_11ea_8efb_abd2d5119b6arow17_col10 {\n",
       "            background-color:  #f7b194;\n",
       "            color:  #000000;\n",
       "        }    #T_d576bda6_8ada_11ea_8efb_abd2d5119b6arow17_col11 {\n",
       "            background-color:  #8badfd;\n",
       "            color:  #000000;\n",
       "        }    #T_d576bda6_8ada_11ea_8efb_abd2d5119b6arow17_col12 {\n",
       "            background-color:  #4358cb;\n",
       "            color:  #f1f1f1;\n",
       "        }    #T_d576bda6_8ada_11ea_8efb_abd2d5119b6arow17_col13 {\n",
       "            background-color:  #dddcdc;\n",
       "            color:  #000000;\n",
       "        }    #T_d576bda6_8ada_11ea_8efb_abd2d5119b6arow17_col14 {\n",
       "            background-color:  #cedaeb;\n",
       "            color:  #000000;\n",
       "        }    #T_d576bda6_8ada_11ea_8efb_abd2d5119b6arow17_col15 {\n",
       "            background-color:  #f1cdba;\n",
       "            color:  #000000;\n",
       "        }    #T_d576bda6_8ada_11ea_8efb_abd2d5119b6arow17_col16 {\n",
       "            background-color:  #4961d2;\n",
       "            color:  #f1f1f1;\n",
       "        }    #T_d576bda6_8ada_11ea_8efb_abd2d5119b6arow17_col17 {\n",
       "            background-color:  #b40426;\n",
       "            color:  #f1f1f1;\n",
       "        }    #T_d576bda6_8ada_11ea_8efb_abd2d5119b6arow17_col18 {\n",
       "            background-color:  #3b4cc0;\n",
       "            color:  #f1f1f1;\n",
       "        }    #T_d576bda6_8ada_11ea_8efb_abd2d5119b6arow17_col19 {\n",
       "            background-color:  #3d50c3;\n",
       "            color:  #f1f1f1;\n",
       "        }    #T_d576bda6_8ada_11ea_8efb_abd2d5119b6arow17_col20 {\n",
       "            background-color:  #f49a7b;\n",
       "            color:  #000000;\n",
       "        }    #T_d576bda6_8ada_11ea_8efb_abd2d5119b6arow18_col0 {\n",
       "            background-color:  #a9c6fd;\n",
       "            color:  #000000;\n",
       "        }    #T_d576bda6_8ada_11ea_8efb_abd2d5119b6arow18_col1 {\n",
       "            background-color:  #aac7fd;\n",
       "            color:  #000000;\n",
       "        }    #T_d576bda6_8ada_11ea_8efb_abd2d5119b6arow18_col2 {\n",
       "            background-color:  #779af7;\n",
       "            color:  #000000;\n",
       "        }    #T_d576bda6_8ada_11ea_8efb_abd2d5119b6arow18_col3 {\n",
       "            background-color:  #b3cdfb;\n",
       "            color:  #000000;\n",
       "        }    #T_d576bda6_8ada_11ea_8efb_abd2d5119b6arow18_col4 {\n",
       "            background-color:  #c4d5f3;\n",
       "            color:  #000000;\n",
       "        }    #T_d576bda6_8ada_11ea_8efb_abd2d5119b6arow18_col5 {\n",
       "            background-color:  #b1cbfc;\n",
       "            color:  #000000;\n",
       "        }    #T_d576bda6_8ada_11ea_8efb_abd2d5119b6arow18_col6 {\n",
       "            background-color:  #bad0f8;\n",
       "            color:  #000000;\n",
       "        }    #T_d576bda6_8ada_11ea_8efb_abd2d5119b6arow18_col7 {\n",
       "            background-color:  #a6c4fe;\n",
       "            color:  #000000;\n",
       "        }    #T_d576bda6_8ada_11ea_8efb_abd2d5119b6arow18_col8 {\n",
       "            background-color:  #a9c6fd;\n",
       "            color:  #000000;\n",
       "        }    #T_d576bda6_8ada_11ea_8efb_abd2d5119b6arow18_col9 {\n",
       "            background-color:  #c1d4f4;\n",
       "            color:  #000000;\n",
       "        }    #T_d576bda6_8ada_11ea_8efb_abd2d5119b6arow18_col10 {\n",
       "            background-color:  #c4d5f3;\n",
       "            color:  #000000;\n",
       "        }    #T_d576bda6_8ada_11ea_8efb_abd2d5119b6arow18_col11 {\n",
       "            background-color:  #abc8fd;\n",
       "            color:  #000000;\n",
       "        }    #T_d576bda6_8ada_11ea_8efb_abd2d5119b6arow18_col12 {\n",
       "            background-color:  #aac7fd;\n",
       "            color:  #000000;\n",
       "        }    #T_d576bda6_8ada_11ea_8efb_abd2d5119b6arow18_col13 {\n",
       "            background-color:  #8badfd;\n",
       "            color:  #000000;\n",
       "        }    #T_d576bda6_8ada_11ea_8efb_abd2d5119b6arow18_col14 {\n",
       "            background-color:  #85a8fc;\n",
       "            color:  #000000;\n",
       "        }    #T_d576bda6_8ada_11ea_8efb_abd2d5119b6arow18_col15 {\n",
       "            background-color:  #a3c2fe;\n",
       "            color:  #000000;\n",
       "        }    #T_d576bda6_8ada_11ea_8efb_abd2d5119b6arow18_col16 {\n",
       "            background-color:  #97b8ff;\n",
       "            color:  #000000;\n",
       "        }    #T_d576bda6_8ada_11ea_8efb_abd2d5119b6arow18_col17 {\n",
       "            background-color:  #b2ccfb;\n",
       "            color:  #000000;\n",
       "        }    #T_d576bda6_8ada_11ea_8efb_abd2d5119b6arow18_col18 {\n",
       "            background-color:  #b40426;\n",
       "            color:  #f1f1f1;\n",
       "        }    #T_d576bda6_8ada_11ea_8efb_abd2d5119b6arow18_col19 {\n",
       "            background-color:  #3f53c6;\n",
       "            color:  #f1f1f1;\n",
       "        }    #T_d576bda6_8ada_11ea_8efb_abd2d5119b6arow18_col20 {\n",
       "            background-color:  #bed2f6;\n",
       "            color:  #000000;\n",
       "        }    #T_d576bda6_8ada_11ea_8efb_abd2d5119b6arow19_col0 {\n",
       "            background-color:  #a9c6fd;\n",
       "            color:  #000000;\n",
       "        }    #T_d576bda6_8ada_11ea_8efb_abd2d5119b6arow19_col1 {\n",
       "            background-color:  #a9c6fd;\n",
       "            color:  #000000;\n",
       "        }    #T_d576bda6_8ada_11ea_8efb_abd2d5119b6arow19_col2 {\n",
       "            background-color:  #799cf8;\n",
       "            color:  #000000;\n",
       "        }    #T_d576bda6_8ada_11ea_8efb_abd2d5119b6arow19_col3 {\n",
       "            background-color:  #b2ccfb;\n",
       "            color:  #000000;\n",
       "        }    #T_d576bda6_8ada_11ea_8efb_abd2d5119b6arow19_col4 {\n",
       "            background-color:  #c5d6f2;\n",
       "            color:  #000000;\n",
       "        }    #T_d576bda6_8ada_11ea_8efb_abd2d5119b6arow19_col5 {\n",
       "            background-color:  #b1cbfc;\n",
       "            color:  #000000;\n",
       "        }    #T_d576bda6_8ada_11ea_8efb_abd2d5119b6arow19_col6 {\n",
       "            background-color:  #bad0f8;\n",
       "            color:  #000000;\n",
       "        }    #T_d576bda6_8ada_11ea_8efb_abd2d5119b6arow19_col7 {\n",
       "            background-color:  #a7c5fe;\n",
       "            color:  #000000;\n",
       "        }    #T_d576bda6_8ada_11ea_8efb_abd2d5119b6arow19_col8 {\n",
       "            background-color:  #abc8fd;\n",
       "            color:  #000000;\n",
       "        }    #T_d576bda6_8ada_11ea_8efb_abd2d5119b6arow19_col9 {\n",
       "            background-color:  #c1d4f4;\n",
       "            color:  #000000;\n",
       "        }    #T_d576bda6_8ada_11ea_8efb_abd2d5119b6arow19_col10 {\n",
       "            background-color:  #c4d5f3;\n",
       "            color:  #000000;\n",
       "        }    #T_d576bda6_8ada_11ea_8efb_abd2d5119b6arow19_col11 {\n",
       "            background-color:  #aac7fd;\n",
       "            color:  #000000;\n",
       "        }    #T_d576bda6_8ada_11ea_8efb_abd2d5119b6arow19_col12 {\n",
       "            background-color:  #aac7fd;\n",
       "            color:  #000000;\n",
       "        }    #T_d576bda6_8ada_11ea_8efb_abd2d5119b6arow19_col13 {\n",
       "            background-color:  #8badfd;\n",
       "            color:  #000000;\n",
       "        }    #T_d576bda6_8ada_11ea_8efb_abd2d5119b6arow19_col14 {\n",
       "            background-color:  #84a7fc;\n",
       "            color:  #000000;\n",
       "        }    #T_d576bda6_8ada_11ea_8efb_abd2d5119b6arow19_col15 {\n",
       "            background-color:  #9ebeff;\n",
       "            color:  #000000;\n",
       "        }    #T_d576bda6_8ada_11ea_8efb_abd2d5119b6arow19_col16 {\n",
       "            background-color:  #97b8ff;\n",
       "            color:  #000000;\n",
       "        }    #T_d576bda6_8ada_11ea_8efb_abd2d5119b6arow19_col17 {\n",
       "            background-color:  #b2ccfb;\n",
       "            color:  #000000;\n",
       "        }    #T_d576bda6_8ada_11ea_8efb_abd2d5119b6arow19_col18 {\n",
       "            background-color:  #3d50c3;\n",
       "            color:  #f1f1f1;\n",
       "        }    #T_d576bda6_8ada_11ea_8efb_abd2d5119b6arow19_col19 {\n",
       "            background-color:  #b40426;\n",
       "            color:  #f1f1f1;\n",
       "        }    #T_d576bda6_8ada_11ea_8efb_abd2d5119b6arow19_col20 {\n",
       "            background-color:  #bbd1f8;\n",
       "            color:  #000000;\n",
       "        }    #T_d576bda6_8ada_11ea_8efb_abd2d5119b6arow20_col0 {\n",
       "            background-color:  #c6d6f1;\n",
       "            color:  #000000;\n",
       "        }    #T_d576bda6_8ada_11ea_8efb_abd2d5119b6arow20_col1 {\n",
       "            background-color:  #779af7;\n",
       "            color:  #000000;\n",
       "        }    #T_d576bda6_8ada_11ea_8efb_abd2d5119b6arow20_col2 {\n",
       "            background-color:  #dbdcde;\n",
       "            color:  #000000;\n",
       "        }    #T_d576bda6_8ada_11ea_8efb_abd2d5119b6arow20_col3 {\n",
       "            background-color:  #89acfd;\n",
       "            color:  #000000;\n",
       "        }    #T_d576bda6_8ada_11ea_8efb_abd2d5119b6arow20_col4 {\n",
       "            background-color:  #455cce;\n",
       "            color:  #f1f1f1;\n",
       "        }    #T_d576bda6_8ada_11ea_8efb_abd2d5119b6arow20_col5 {\n",
       "            background-color:  #f2c9b4;\n",
       "            color:  #000000;\n",
       "        }    #T_d576bda6_8ada_11ea_8efb_abd2d5119b6arow20_col6 {\n",
       "            background-color:  #f18d6f;\n",
       "            color:  #000000;\n",
       "        }    #T_d576bda6_8ada_11ea_8efb_abd2d5119b6arow20_col7 {\n",
       "            background-color:  #506bda;\n",
       "            color:  #000000;\n",
       "        }    #T_d576bda6_8ada_11ea_8efb_abd2d5119b6arow20_col8 {\n",
       "            background-color:  #5f7fe8;\n",
       "            color:  #000000;\n",
       "        }    #T_d576bda6_8ada_11ea_8efb_abd2d5119b6arow20_col9 {\n",
       "            background-color:  #f7b194;\n",
       "            color:  #000000;\n",
       "        }    #T_d576bda6_8ada_11ea_8efb_abd2d5119b6arow20_col10 {\n",
       "            background-color:  #f59d7e;\n",
       "            color:  #000000;\n",
       "        }    #T_d576bda6_8ada_11ea_8efb_abd2d5119b6arow20_col11 {\n",
       "            background-color:  #a5c3fe;\n",
       "            color:  #000000;\n",
       "        }    #T_d576bda6_8ada_11ea_8efb_abd2d5119b6arow20_col12 {\n",
       "            background-color:  #6c8ff1;\n",
       "            color:  #000000;\n",
       "        }    #T_d576bda6_8ada_11ea_8efb_abd2d5119b6arow20_col13 {\n",
       "            background-color:  #f0cdbb;\n",
       "            color:  #000000;\n",
       "        }    #T_d576bda6_8ada_11ea_8efb_abd2d5119b6arow20_col14 {\n",
       "            background-color:  #f4c6af;\n",
       "            color:  #000000;\n",
       "        }    #T_d576bda6_8ada_11ea_8efb_abd2d5119b6arow20_col15 {\n",
       "            background-color:  #d55042;\n",
       "            color:  #000000;\n",
       "        }    #T_d576bda6_8ada_11ea_8efb_abd2d5119b6arow20_col16 {\n",
       "            background-color:  #6e90f2;\n",
       "            color:  #000000;\n",
       "        }    #T_d576bda6_8ada_11ea_8efb_abd2d5119b6arow20_col17 {\n",
       "            background-color:  #f59f80;\n",
       "            color:  #000000;\n",
       "        }    #T_d576bda6_8ada_11ea_8efb_abd2d5119b6arow20_col18 {\n",
       "            background-color:  #3d50c3;\n",
       "            color:  #f1f1f1;\n",
       "        }    #T_d576bda6_8ada_11ea_8efb_abd2d5119b6arow20_col19 {\n",
       "            background-color:  #3b4cc0;\n",
       "            color:  #f1f1f1;\n",
       "        }    #T_d576bda6_8ada_11ea_8efb_abd2d5119b6arow20_col20 {\n",
       "            background-color:  #b40426;\n",
       "            color:  #f1f1f1;\n",
       "        }</style><table id=\"T_d576bda6_8ada_11ea_8efb_abd2d5119b6a\" ><thead>    <tr>        <th class=\"blank level0\" ></th>        <th class=\"col_heading level0 col0\" >mintemp</th>        <th class=\"col_heading level0 col1\" >maxtemp</th>        <th class=\"col_heading level0 col2\" >rainfall</th>        <th class=\"col_heading level0 col3\" >evaporation</th>        <th class=\"col_heading level0 col4\" >sunshine</th>        <th class=\"col_heading level0 col5\" >humidity9am</th>        <th class=\"col_heading level0 col6\" >humidity3pm</th>        <th class=\"col_heading level0 col7\" >pressure9am</th>        <th class=\"col_heading level0 col8\" >pressure3pm</th>        <th class=\"col_heading level0 col9\" >cloud9am</th>        <th class=\"col_heading level0 col10\" >cloud3pm</th>        <th class=\"col_heading level0 col11\" >temp9am</th>        <th class=\"col_heading level0 col12\" >temp3pm</th>        <th class=\"col_heading level0 col13\" >raintoday</th>        <th class=\"col_heading level0 col14\" >amountOfRain</th>        <th class=\"col_heading level0 col15\" >raintomorrow</th>        <th class=\"col_heading level0 col16\" >temp</th>        <th class=\"col_heading level0 col17\" >humidity</th>        <th class=\"col_heading level0 col18\" >precipitation3pm</th>        <th class=\"col_heading level0 col19\" >precipitation9am</th>        <th class=\"col_heading level0 col20\" >modelo_vigente</th>    </tr></thead><tbody>\n",
       "                <tr>\n",
       "                        <th id=\"T_d576bda6_8ada_11ea_8efb_abd2d5119b6alevel0_row0\" class=\"row_heading level0 row0\" >mintemp</th>\n",
       "                        <td id=\"T_d576bda6_8ada_11ea_8efb_abd2d5119b6arow0_col0\" class=\"data row0 col0\" >1.000000</td>\n",
       "                        <td id=\"T_d576bda6_8ada_11ea_8efb_abd2d5119b6arow0_col1\" class=\"data row0 col1\" >0.743674</td>\n",
       "                        <td id=\"T_d576bda6_8ada_11ea_8efb_abd2d5119b6arow0_col2\" class=\"data row0 col2\" >0.110846</td>\n",
       "                        <td id=\"T_d576bda6_8ada_11ea_8efb_abd2d5119b6arow0_col3\" class=\"data row0 col3\" >0.510004</td>\n",
       "                        <td id=\"T_d576bda6_8ada_11ea_8efb_abd2d5119b6arow0_col4\" class=\"data row0 col4\" >0.070680</td>\n",
       "                        <td id=\"T_d576bda6_8ada_11ea_8efb_abd2d5119b6arow0_col5\" class=\"data row0 col5\" >-0.177758</td>\n",
       "                        <td id=\"T_d576bda6_8ada_11ea_8efb_abd2d5119b6arow0_col6\" class=\"data row0 col6\" >0.076333</td>\n",
       "                        <td id=\"T_d576bda6_8ada_11ea_8efb_abd2d5119b6arow0_col7\" class=\"data row0 col7\" >-0.475451</td>\n",
       "                        <td id=\"T_d576bda6_8ada_11ea_8efb_abd2d5119b6arow0_col8\" class=\"data row0 col8\" >-0.491435</td>\n",
       "                        <td id=\"T_d576bda6_8ada_11ea_8efb_abd2d5119b6arow0_col9\" class=\"data row0 col9\" >0.115204</td>\n",
       "                        <td id=\"T_d576bda6_8ada_11ea_8efb_abd2d5119b6arow0_col10\" class=\"data row0 col10\" >0.050917</td>\n",
       "                        <td id=\"T_d576bda6_8ada_11ea_8efb_abd2d5119b6arow0_col11\" class=\"data row0 col11\" >0.905552</td>\n",
       "                        <td id=\"T_d576bda6_8ada_11ea_8efb_abd2d5119b6arow0_col12\" class=\"data row0 col12\" >0.720796</td>\n",
       "                        <td id=\"T_d576bda6_8ada_11ea_8efb_abd2d5119b6arow0_col13\" class=\"data row0 col13\" >0.051478</td>\n",
       "                        <td id=\"T_d576bda6_8ada_11ea_8efb_abd2d5119b6arow0_col14\" class=\"data row0 col14\" >0.142911</td>\n",
       "                        <td id=\"T_d576bda6_8ada_11ea_8efb_abd2d5119b6arow0_col15\" class=\"data row0 col15\" >0.088964</td>\n",
       "                        <td id=\"T_d576bda6_8ada_11ea_8efb_abd2d5119b6arow0_col16\" class=\"data row0 col16\" >0.578773</td>\n",
       "                        <td id=\"T_d576bda6_8ada_11ea_8efb_abd2d5119b6arow0_col17\" class=\"data row0 col17\" >0.068579</td>\n",
       "                        <td id=\"T_d576bda6_8ada_11ea_8efb_abd2d5119b6arow0_col18\" class=\"data row0 col18\" >0.003508</td>\n",
       "                        <td id=\"T_d576bda6_8ada_11ea_8efb_abd2d5119b6arow0_col19\" class=\"data row0 col19\" >-0.001382</td>\n",
       "                        <td id=\"T_d576bda6_8ada_11ea_8efb_abd2d5119b6arow0_col20\" class=\"data row0 col20\" >0.135744</td>\n",
       "            </tr>\n",
       "            <tr>\n",
       "                        <th id=\"T_d576bda6_8ada_11ea_8efb_abd2d5119b6alevel0_row1\" class=\"row_heading level0 row1\" >maxtemp</th>\n",
       "                        <td id=\"T_d576bda6_8ada_11ea_8efb_abd2d5119b6arow1_col0\" class=\"data row1 col0\" >0.743674</td>\n",
       "                        <td id=\"T_d576bda6_8ada_11ea_8efb_abd2d5119b6arow1_col1\" class=\"data row1 col1\" >1.000000</td>\n",
       "                        <td id=\"T_d576bda6_8ada_11ea_8efb_abd2d5119b6arow1_col2\" class=\"data row1 col2\" >-0.069482</td>\n",
       "                        <td id=\"T_d576bda6_8ada_11ea_8efb_abd2d5119b6arow1_col3\" class=\"data row1 col3\" >0.652247</td>\n",
       "                        <td id=\"T_d576bda6_8ada_11ea_8efb_abd2d5119b6arow1_col4\" class=\"data row1 col4\" >0.461698</td>\n",
       "                        <td id=\"T_d576bda6_8ada_11ea_8efb_abd2d5119b6arow1_col5\" class=\"data row1 col5\" >-0.496329</td>\n",
       "                        <td id=\"T_d576bda6_8ada_11ea_8efb_abd2d5119b6arow1_col6\" class=\"data row1 col6\" >-0.448043</td>\n",
       "                        <td id=\"T_d576bda6_8ada_11ea_8efb_abd2d5119b6arow1_col7\" class=\"data row1 col7\" >-0.355855</td>\n",
       "                        <td id=\"T_d576bda6_8ada_11ea_8efb_abd2d5119b6arow1_col8\" class=\"data row1 col8\" >-0.454047</td>\n",
       "                        <td id=\"T_d576bda6_8ada_11ea_8efb_abd2d5119b6arow1_col9\" class=\"data row1 col9\" >-0.262003</td>\n",
       "                        <td id=\"T_d576bda6_8ada_11ea_8efb_abd2d5119b6arow1_col10\" class=\"data row1 col10\" >-0.253183</td>\n",
       "                        <td id=\"T_d576bda6_8ada_11ea_8efb_abd2d5119b6arow1_col11\" class=\"data row1 col11\" >0.890743</td>\n",
       "                        <td id=\"T_d576bda6_8ada_11ea_8efb_abd2d5119b6arow1_col12\" class=\"data row1 col12\" >0.984101</td>\n",
       "                        <td id=\"T_d576bda6_8ada_11ea_8efb_abd2d5119b6arow1_col13\" class=\"data row1 col13\" >-0.220012</td>\n",
       "                        <td id=\"T_d576bda6_8ada_11ea_8efb_abd2d5119b6arow1_col14\" class=\"data row1 col14\" >-0.015487</td>\n",
       "                        <td id=\"T_d576bda6_8ada_11ea_8efb_abd2d5119b6arow1_col15\" class=\"data row1 col15\" >-0.144498</td>\n",
       "                        <td id=\"T_d576bda6_8ada_11ea_8efb_abd2d5119b6arow1_col16\" class=\"data row1 col16\" >0.779778</td>\n",
       "                        <td id=\"T_d576bda6_8ada_11ea_8efb_abd2d5119b6arow1_col17\" class=\"data row1 col17\" >-0.406402</td>\n",
       "                        <td id=\"T_d576bda6_8ada_11ea_8efb_abd2d5119b6arow1_col18\" class=\"data row1 col18\" >0.003385</td>\n",
       "                        <td id=\"T_d576bda6_8ada_11ea_8efb_abd2d5119b6arow1_col19\" class=\"data row1 col19\" >-0.001055</td>\n",
       "                        <td id=\"T_d576bda6_8ada_11ea_8efb_abd2d5119b6arow1_col20\" class=\"data row1 col20\" >-0.212616</td>\n",
       "            </tr>\n",
       "            <tr>\n",
       "                        <th id=\"T_d576bda6_8ada_11ea_8efb_abd2d5119b6alevel0_row2\" class=\"row_heading level0 row2\" >rainfall</th>\n",
       "                        <td id=\"T_d576bda6_8ada_11ea_8efb_abd2d5119b6arow2_col0\" class=\"data row2 col0\" >0.110846</td>\n",
       "                        <td id=\"T_d576bda6_8ada_11ea_8efb_abd2d5119b6arow2_col1\" class=\"data row2 col1\" >-0.069482</td>\n",
       "                        <td id=\"T_d576bda6_8ada_11ea_8efb_abd2d5119b6arow2_col2\" class=\"data row2 col2\" >1.000000</td>\n",
       "                        <td id=\"T_d576bda6_8ada_11ea_8efb_abd2d5119b6arow2_col3\" class=\"data row2 col3\" >-0.074049</td>\n",
       "                        <td id=\"T_d576bda6_8ada_11ea_8efb_abd2d5119b6arow2_col4\" class=\"data row2 col4\" >-0.243738</td>\n",
       "                        <td id=\"T_d576bda6_8ada_11ea_8efb_abd2d5119b6arow2_col5\" class=\"data row2 col5\" >0.258127</td>\n",
       "                        <td id=\"T_d576bda6_8ada_11ea_8efb_abd2d5119b6arow2_col6\" class=\"data row2 col6\" >0.270421</td>\n",
       "                        <td id=\"T_d576bda6_8ada_11ea_8efb_abd2d5119b6arow2_col7\" class=\"data row2 col7\" >-0.177673</td>\n",
       "                        <td id=\"T_d576bda6_8ada_11ea_8efb_abd2d5119b6arow2_col8\" class=\"data row2 col8\" >-0.133452</td>\n",
       "                        <td id=\"T_d576bda6_8ada_11ea_8efb_abd2d5119b6arow2_col9\" class=\"data row2 col9\" >0.215699</td>\n",
       "                        <td id=\"T_d576bda6_8ada_11ea_8efb_abd2d5119b6arow2_col10\" class=\"data row2 col10\" >0.191743</td>\n",
       "                        <td id=\"T_d576bda6_8ada_11ea_8efb_abd2d5119b6arow2_col11\" class=\"data row2 col11\" >0.014438</td>\n",
       "                        <td id=\"T_d576bda6_8ada_11ea_8efb_abd2d5119b6arow2_col12\" class=\"data row2 col12\" >-0.073640</td>\n",
       "                        <td id=\"T_d576bda6_8ada_11ea_8efb_abd2d5119b6arow2_col13\" class=\"data row2 col13\" >0.553481</td>\n",
       "                        <td id=\"T_d576bda6_8ada_11ea_8efb_abd2d5119b6arow2_col14\" class=\"data row2 col14\" >0.302723</td>\n",
       "                        <td id=\"T_d576bda6_8ada_11ea_8efb_abd2d5119b6arow2_col15\" class=\"data row2 col15\" >0.253773</td>\n",
       "                        <td id=\"T_d576bda6_8ada_11ea_8efb_abd2d5119b6arow2_col16\" class=\"data row2 col16\" >-0.060093</td>\n",
       "                        <td id=\"T_d576bda6_8ada_11ea_8efb_abd2d5119b6arow2_col17\" class=\"data row2 col17\" >0.247128</td>\n",
       "                        <td id=\"T_d576bda6_8ada_11ea_8efb_abd2d5119b6arow2_col18\" class=\"data row2 col18\" >-0.007556</td>\n",
       "                        <td id=\"T_d576bda6_8ada_11ea_8efb_abd2d5119b6arow2_col19\" class=\"data row2 col19\" >-0.003066</td>\n",
       "                        <td id=\"T_d576bda6_8ada_11ea_8efb_abd2d5119b6arow2_col20\" class=\"data row2 col20\" >0.371184</td>\n",
       "            </tr>\n",
       "            <tr>\n",
       "                        <th id=\"T_d576bda6_8ada_11ea_8efb_abd2d5119b6alevel0_row3\" class=\"row_heading level0 row3\" >evaporation</th>\n",
       "                        <td id=\"T_d576bda6_8ada_11ea_8efb_abd2d5119b6arow3_col0\" class=\"data row3 col0\" >0.510004</td>\n",
       "                        <td id=\"T_d576bda6_8ada_11ea_8efb_abd2d5119b6arow3_col1\" class=\"data row3 col1\" >0.652247</td>\n",
       "                        <td id=\"T_d576bda6_8ada_11ea_8efb_abd2d5119b6arow3_col2\" class=\"data row3 col2\" >-0.074049</td>\n",
       "                        <td id=\"T_d576bda6_8ada_11ea_8efb_abd2d5119b6arow3_col3\" class=\"data row3 col3\" >1.000000</td>\n",
       "                        <td id=\"T_d576bda6_8ada_11ea_8efb_abd2d5119b6arow3_col4\" class=\"data row3 col4\" >0.366577</td>\n",
       "                        <td id=\"T_d576bda6_8ada_11ea_8efb_abd2d5119b6arow3_col5\" class=\"data row3 col5\" >-0.554104</td>\n",
       "                        <td id=\"T_d576bda6_8ada_11ea_8efb_abd2d5119b6arow3_col6\" class=\"data row3 col6\" >-0.414895</td>\n",
       "                        <td id=\"T_d576bda6_8ada_11ea_8efb_abd2d5119b6arow3_col7\" class=\"data row3 col7\" >-0.304406</td>\n",
       "                        <td id=\"T_d576bda6_8ada_11ea_8efb_abd2d5119b6arow3_col8\" class=\"data row3 col8\" >-0.330799</td>\n",
       "                        <td id=\"T_d576bda6_8ada_11ea_8efb_abd2d5119b6arow3_col9\" class=\"data row3 col9\" >-0.192775</td>\n",
       "                        <td id=\"T_d576bda6_8ada_11ea_8efb_abd2d5119b6arow3_col10\" class=\"data row3 col10\" >-0.196180</td>\n",
       "                        <td id=\"T_d576bda6_8ada_11ea_8efb_abd2d5119b6arow3_col11\" class=\"data row3 col11\" >0.598609</td>\n",
       "                        <td id=\"T_d576bda6_8ada_11ea_8efb_abd2d5119b6arow3_col12\" class=\"data row3 col12\" >0.631686</td>\n",
       "                        <td id=\"T_d576bda6_8ada_11ea_8efb_abd2d5119b6arow3_col13\" class=\"data row3 col13\" >-0.213291</td>\n",
       "                        <td id=\"T_d576bda6_8ada_11ea_8efb_abd2d5119b6arow3_col14\" class=\"data row3 col14\" >-0.042126</td>\n",
       "                        <td id=\"T_d576bda6_8ada_11ea_8efb_abd2d5119b6arow3_col15\" class=\"data row3 col15\" >-0.127257</td>\n",
       "                        <td id=\"T_d576bda6_8ada_11ea_8efb_abd2d5119b6arow3_col16\" class=\"data row3 col16\" >0.509947</td>\n",
       "                        <td id=\"T_d576bda6_8ada_11ea_8efb_abd2d5119b6arow3_col17\" class=\"data row3 col17\" >-0.375537</td>\n",
       "                        <td id=\"T_d576bda6_8ada_11ea_8efb_abd2d5119b6arow3_col18\" class=\"data row3 col18\" >0.007043</td>\n",
       "                        <td id=\"T_d576bda6_8ada_11ea_8efb_abd2d5119b6arow3_col19\" class=\"data row3 col19\" >-0.000189</td>\n",
       "                        <td id=\"T_d576bda6_8ada_11ea_8efb_abd2d5119b6arow3_col20\" class=\"data row3 col20\" >-0.183537</td>\n",
       "            </tr>\n",
       "            <tr>\n",
       "                        <th id=\"T_d576bda6_8ada_11ea_8efb_abd2d5119b6alevel0_row4\" class=\"row_heading level0 row4\" >sunshine</th>\n",
       "                        <td id=\"T_d576bda6_8ada_11ea_8efb_abd2d5119b6arow4_col0\" class=\"data row4 col0\" >0.070680</td>\n",
       "                        <td id=\"T_d576bda6_8ada_11ea_8efb_abd2d5119b6arow4_col1\" class=\"data row4 col1\" >0.461698</td>\n",
       "                        <td id=\"T_d576bda6_8ada_11ea_8efb_abd2d5119b6arow4_col2\" class=\"data row4 col2\" >-0.243738</td>\n",
       "                        <td id=\"T_d576bda6_8ada_11ea_8efb_abd2d5119b6arow4_col3\" class=\"data row4 col3\" >0.366577</td>\n",
       "                        <td id=\"T_d576bda6_8ada_11ea_8efb_abd2d5119b6arow4_col4\" class=\"data row4 col4\" >1.000000</td>\n",
       "                        <td id=\"T_d576bda6_8ada_11ea_8efb_abd2d5119b6arow4_col5\" class=\"data row4 col5\" >-0.498855</td>\n",
       "                        <td id=\"T_d576bda6_8ada_11ea_8efb_abd2d5119b6arow4_col6\" class=\"data row4 col6\" >-0.622767</td>\n",
       "                        <td id=\"T_d576bda6_8ada_11ea_8efb_abd2d5119b6arow4_col7\" class=\"data row4 col7\" >0.035783</td>\n",
       "                        <td id=\"T_d576bda6_8ada_11ea_8efb_abd2d5119b6arow4_col8\" class=\"data row4 col8\" >-0.027949</td>\n",
       "                        <td id=\"T_d576bda6_8ada_11ea_8efb_abd2d5119b6arow4_col9\" class=\"data row4 col9\" >-0.678801</td>\n",
       "                        <td id=\"T_d576bda6_8ada_11ea_8efb_abd2d5119b6arow4_col10\" class=\"data row4 col10\" >-0.704871</td>\n",
       "                        <td id=\"T_d576bda6_8ada_11ea_8efb_abd2d5119b6arow4_col11\" class=\"data row4 col11\" >0.285678</td>\n",
       "                        <td id=\"T_d576bda6_8ada_11ea_8efb_abd2d5119b6arow4_col12\" class=\"data row4 col12\" >0.483256</td>\n",
       "                        <td id=\"T_d576bda6_8ada_11ea_8efb_abd2d5119b6arow4_col13\" class=\"data row4 col13\" >-0.327720</td>\n",
       "                        <td id=\"T_d576bda6_8ada_11ea_8efb_abd2d5119b6arow4_col14\" class=\"data row4 col14\" >-0.298182</td>\n",
       "                        <td id=\"T_d576bda6_8ada_11ea_8efb_abd2d5119b6arow4_col15\" class=\"data row4 col15\" >-0.449261</td>\n",
       "                        <td id=\"T_d576bda6_8ada_11ea_8efb_abd2d5119b6arow4_col16\" class=\"data row4 col16\" >0.359295</td>\n",
       "                        <td id=\"T_d576bda6_8ada_11ea_8efb_abd2d5119b6arow4_col17\" class=\"data row4 col17\" >-0.565134</td>\n",
       "                        <td id=\"T_d576bda6_8ada_11ea_8efb_abd2d5119b6arow4_col18\" class=\"data row4 col18\" >-0.003376</td>\n",
       "                        <td id=\"T_d576bda6_8ada_11ea_8efb_abd2d5119b6arow4_col19\" class=\"data row4 col19\" >0.004404</td>\n",
       "                        <td id=\"T_d576bda6_8ada_11ea_8efb_abd2d5119b6arow4_col20\" class=\"data row4 col20\" >-0.643104</td>\n",
       "            </tr>\n",
       "            <tr>\n",
       "                        <th id=\"T_d576bda6_8ada_11ea_8efb_abd2d5119b6alevel0_row5\" class=\"row_heading level0 row5\" >humidity9am</th>\n",
       "                        <td id=\"T_d576bda6_8ada_11ea_8efb_abd2d5119b6arow5_col0\" class=\"data row5 col0\" >-0.177758</td>\n",
       "                        <td id=\"T_d576bda6_8ada_11ea_8efb_abd2d5119b6arow5_col1\" class=\"data row5 col1\" >-0.496329</td>\n",
       "                        <td id=\"T_d576bda6_8ada_11ea_8efb_abd2d5119b6arow5_col2\" class=\"data row5 col2\" >0.258127</td>\n",
       "                        <td id=\"T_d576bda6_8ada_11ea_8efb_abd2d5119b6arow5_col3\" class=\"data row5 col3\" >-0.554104</td>\n",
       "                        <td id=\"T_d576bda6_8ada_11ea_8efb_abd2d5119b6arow5_col4\" class=\"data row5 col4\" >-0.498855</td>\n",
       "                        <td id=\"T_d576bda6_8ada_11ea_8efb_abd2d5119b6arow5_col5\" class=\"data row5 col5\" >1.000000</td>\n",
       "                        <td id=\"T_d576bda6_8ada_11ea_8efb_abd2d5119b6arow5_col6\" class=\"data row5 col6\" >0.679847</td>\n",
       "                        <td id=\"T_d576bda6_8ada_11ea_8efb_abd2d5119b6arow5_col7\" class=\"data row5 col7\" >0.122421</td>\n",
       "                        <td id=\"T_d576bda6_8ada_11ea_8efb_abd2d5119b6arow5_col8\" class=\"data row5 col8\" >0.178441</td>\n",
       "                        <td id=\"T_d576bda6_8ada_11ea_8efb_abd2d5119b6arow5_col9\" class=\"data row5 col9\" >0.432826</td>\n",
       "                        <td id=\"T_d576bda6_8ada_11ea_8efb_abd2d5119b6arow5_col10\" class=\"data row5 col10\" >0.344565</td>\n",
       "                        <td id=\"T_d576bda6_8ada_11ea_8efb_abd2d5119b6arow5_col11\" class=\"data row5 col11\" >-0.426737</td>\n",
       "                        <td id=\"T_d576bda6_8ada_11ea_8efb_abd2d5119b6arow5_col12\" class=\"data row5 col12\" >-0.487789</td>\n",
       "                        <td id=\"T_d576bda6_8ada_11ea_8efb_abd2d5119b6arow5_col13\" class=\"data row5 col13\" >0.371288</td>\n",
       "                        <td id=\"T_d576bda6_8ada_11ea_8efb_abd2d5119b6arow5_col14\" class=\"data row5 col14\" >0.177473</td>\n",
       "                        <td id=\"T_d576bda6_8ada_11ea_8efb_abd2d5119b6arow5_col15\" class=\"data row5 col15\" >0.265360</td>\n",
       "                        <td id=\"T_d576bda6_8ada_11ea_8efb_abd2d5119b6arow5_col16\" class=\"data row5 col16\" >-0.388460</td>\n",
       "                        <td id=\"T_d576bda6_8ada_11ea_8efb_abd2d5119b6arow5_col17\" class=\"data row5 col17\" >0.617538</td>\n",
       "                        <td id=\"T_d576bda6_8ada_11ea_8efb_abd2d5119b6arow5_col18\" class=\"data row5 col18\" >-0.003913</td>\n",
       "                        <td id=\"T_d576bda6_8ada_11ea_8efb_abd2d5119b6arow5_col19\" class=\"data row5 col19\" >-0.001670</td>\n",
       "                        <td id=\"T_d576bda6_8ada_11ea_8efb_abd2d5119b6arow5_col20\" class=\"data row5 col20\" >0.392692</td>\n",
       "            </tr>\n",
       "            <tr>\n",
       "                        <th id=\"T_d576bda6_8ada_11ea_8efb_abd2d5119b6alevel0_row6\" class=\"row_heading level0 row6\" >humidity3pm</th>\n",
       "                        <td id=\"T_d576bda6_8ada_11ea_8efb_abd2d5119b6arow6_col0\" class=\"data row6 col0\" >0.076333</td>\n",
       "                        <td id=\"T_d576bda6_8ada_11ea_8efb_abd2d5119b6arow6_col1\" class=\"data row6 col1\" >-0.448043</td>\n",
       "                        <td id=\"T_d576bda6_8ada_11ea_8efb_abd2d5119b6arow6_col2\" class=\"data row6 col2\" >0.270421</td>\n",
       "                        <td id=\"T_d576bda6_8ada_11ea_8efb_abd2d5119b6arow6_col3\" class=\"data row6 col3\" >-0.414895</td>\n",
       "                        <td id=\"T_d576bda6_8ada_11ea_8efb_abd2d5119b6arow6_col4\" class=\"data row6 col4\" >-0.622767</td>\n",
       "                        <td id=\"T_d576bda6_8ada_11ea_8efb_abd2d5119b6arow6_col5\" class=\"data row6 col5\" >0.679847</td>\n",
       "                        <td id=\"T_d576bda6_8ada_11ea_8efb_abd2d5119b6arow6_col6\" class=\"data row6 col6\" >1.000000</td>\n",
       "                        <td id=\"T_d576bda6_8ada_11ea_8efb_abd2d5119b6arow6_col7\" class=\"data row6 col7\" >-0.057837</td>\n",
       "                        <td id=\"T_d576bda6_8ada_11ea_8efb_abd2d5119b6arow6_col8\" class=\"data row6 col8\" >0.028653</td>\n",
       "                        <td id=\"T_d576bda6_8ada_11ea_8efb_abd2d5119b6arow6_col9\" class=\"data row6 col9\" >0.507677</td>\n",
       "                        <td id=\"T_d576bda6_8ada_11ea_8efb_abd2d5119b6arow6_col10\" class=\"data row6 col10\" >0.507461</td>\n",
       "                        <td id=\"T_d576bda6_8ada_11ea_8efb_abd2d5119b6arow6_col11\" class=\"data row6 col11\" >-0.148491</td>\n",
       "                        <td id=\"T_d576bda6_8ada_11ea_8efb_abd2d5119b6arow6_col12\" class=\"data row6 col12\" >-0.498921</td>\n",
       "                        <td id=\"T_d576bda6_8ada_11ea_8efb_abd2d5119b6arow6_col13\" class=\"data row6 col13\" >0.376480</td>\n",
       "                        <td id=\"T_d576bda6_8ada_11ea_8efb_abd2d5119b6arow6_col14\" class=\"data row6 col14\" >0.309910</td>\n",
       "                        <td id=\"T_d576bda6_8ada_11ea_8efb_abd2d5119b6arow6_col15\" class=\"data row6 col15\" >0.447742</td>\n",
       "                        <td id=\"T_d576bda6_8ada_11ea_8efb_abd2d5119b6arow6_col16\" class=\"data row6 col16\" >-0.351533</td>\n",
       "                        <td id=\"T_d576bda6_8ada_11ea_8efb_abd2d5119b6arow6_col17\" class=\"data row6 col17\" >0.907959</td>\n",
       "                        <td id=\"T_d576bda6_8ada_11ea_8efb_abd2d5119b6arow6_col18\" class=\"data row6 col18\" >-0.003120</td>\n",
       "                        <td id=\"T_d576bda6_8ada_11ea_8efb_abd2d5119b6arow6_col19\" class=\"data row6 col19\" >-0.003777</td>\n",
       "                        <td id=\"T_d576bda6_8ada_11ea_8efb_abd2d5119b6arow6_col20\" class=\"data row6 col20\" >0.644851</td>\n",
       "            </tr>\n",
       "            <tr>\n",
       "                        <th id=\"T_d576bda6_8ada_11ea_8efb_abd2d5119b6alevel0_row7\" class=\"row_heading level0 row7\" >pressure9am</th>\n",
       "                        <td id=\"T_d576bda6_8ada_11ea_8efb_abd2d5119b6arow7_col0\" class=\"data row7 col0\" >-0.475451</td>\n",
       "                        <td id=\"T_d576bda6_8ada_11ea_8efb_abd2d5119b6arow7_col1\" class=\"data row7 col1\" >-0.355855</td>\n",
       "                        <td id=\"T_d576bda6_8ada_11ea_8efb_abd2d5119b6arow7_col2\" class=\"data row7 col2\" >-0.177673</td>\n",
       "                        <td id=\"T_d576bda6_8ada_11ea_8efb_abd2d5119b6arow7_col3\" class=\"data row7 col3\" >-0.304406</td>\n",
       "                        <td id=\"T_d576bda6_8ada_11ea_8efb_abd2d5119b6arow7_col4\" class=\"data row7 col4\" >0.035783</td>\n",
       "                        <td id=\"T_d576bda6_8ada_11ea_8efb_abd2d5119b6arow7_col5\" class=\"data row7 col5\" >0.122421</td>\n",
       "                        <td id=\"T_d576bda6_8ada_11ea_8efb_abd2d5119b6arow7_col6\" class=\"data row7 col6\" >-0.057837</td>\n",
       "                        <td id=\"T_d576bda6_8ada_11ea_8efb_abd2d5119b6arow7_col7\" class=\"data row7 col7\" >1.000000</td>\n",
       "                        <td id=\"T_d576bda6_8ada_11ea_8efb_abd2d5119b6arow7_col8\" class=\"data row7 col8\" >0.961926</td>\n",
       "                        <td id=\"T_d576bda6_8ada_11ea_8efb_abd2d5119b6arow7_col9\" class=\"data row7 col9\" >-0.142788</td>\n",
       "                        <td id=\"T_d576bda6_8ada_11ea_8efb_abd2d5119b6arow7_col10\" class=\"data row7 col10\" >-0.164998</td>\n",
       "                        <td id=\"T_d576bda6_8ada_11ea_8efb_abd2d5119b6arow7_col11\" class=\"data row7 col11\" >-0.447688</td>\n",
       "                        <td id=\"T_d576bda6_8ada_11ea_8efb_abd2d5119b6arow7_col12\" class=\"data row7 col12\" >-0.314549</td>\n",
       "                        <td id=\"T_d576bda6_8ada_11ea_8efb_abd2d5119b6arow7_col13\" class=\"data row7 col13\" >-0.183468</td>\n",
       "                        <td id=\"T_d576bda6_8ada_11ea_8efb_abd2d5119b6arow7_col14\" class=\"data row7 col14\" >-0.174923</td>\n",
       "                        <td id=\"T_d576bda6_8ada_11ea_8efb_abd2d5119b6arow7_col15\" class=\"data row7 col15\" >-0.255934</td>\n",
       "                        <td id=\"T_d576bda6_8ada_11ea_8efb_abd2d5119b6arow7_col16\" class=\"data row7 col16\" >-0.274905</td>\n",
       "                        <td id=\"T_d576bda6_8ada_11ea_8efb_abd2d5119b6arow7_col17\" class=\"data row7 col17\" >-0.052670</td>\n",
       "                        <td id=\"T_d576bda6_8ada_11ea_8efb_abd2d5119b6arow7_col18\" class=\"data row7 col18\" >-0.002484</td>\n",
       "                        <td id=\"T_d576bda6_8ada_11ea_8efb_abd2d5119b6arow7_col19\" class=\"data row7 col19\" >0.003967</td>\n",
       "                        <td id=\"T_d576bda6_8ada_11ea_8efb_abd2d5119b6arow7_col20\" class=\"data row7 col20\" >-0.371539</td>\n",
       "            </tr>\n",
       "            <tr>\n",
       "                        <th id=\"T_d576bda6_8ada_11ea_8efb_abd2d5119b6alevel0_row8\" class=\"row_heading level0 row8\" >pressure3pm</th>\n",
       "                        <td id=\"T_d576bda6_8ada_11ea_8efb_abd2d5119b6arow8_col0\" class=\"data row8 col0\" >-0.491435</td>\n",
       "                        <td id=\"T_d576bda6_8ada_11ea_8efb_abd2d5119b6arow8_col1\" class=\"data row8 col1\" >-0.454047</td>\n",
       "                        <td id=\"T_d576bda6_8ada_11ea_8efb_abd2d5119b6arow8_col2\" class=\"data row8 col2\" >-0.133452</td>\n",
       "                        <td id=\"T_d576bda6_8ada_11ea_8efb_abd2d5119b6arow8_col3\" class=\"data row8 col3\" >-0.330799</td>\n",
       "                        <td id=\"T_d576bda6_8ada_11ea_8efb_abd2d5119b6arow8_col4\" class=\"data row8 col4\" >-0.027949</td>\n",
       "                        <td id=\"T_d576bda6_8ada_11ea_8efb_abd2d5119b6arow8_col5\" class=\"data row8 col5\" >0.178441</td>\n",
       "                        <td id=\"T_d576bda6_8ada_11ea_8efb_abd2d5119b6arow8_col6\" class=\"data row8 col6\" >0.028653</td>\n",
       "                        <td id=\"T_d576bda6_8ada_11ea_8efb_abd2d5119b6arow8_col7\" class=\"data row8 col7\" >0.961926</td>\n",
       "                        <td id=\"T_d576bda6_8ada_11ea_8efb_abd2d5119b6arow8_col8\" class=\"data row8 col8\" >1.000000</td>\n",
       "                        <td id=\"T_d576bda6_8ada_11ea_8efb_abd2d5119b6arow8_col9\" class=\"data row8 col9\" >-0.074193</td>\n",
       "                        <td id=\"T_d576bda6_8ada_11ea_8efb_abd2d5119b6arow8_col10\" class=\"data row8 col10\" >-0.101631</td>\n",
       "                        <td id=\"T_d576bda6_8ada_11ea_8efb_abd2d5119b6arow8_col11\" class=\"data row8 col11\" >-0.500713</td>\n",
       "                        <td id=\"T_d576bda6_8ada_11ea_8efb_abd2d5119b6arow8_col12\" class=\"data row8 col12\" >-0.422233</td>\n",
       "                        <td id=\"T_d576bda6_8ada_11ea_8efb_abd2d5119b6arow8_col13\" class=\"data row8 col13\" >-0.100839</td>\n",
       "                        <td id=\"T_d576bda6_8ada_11ea_8efb_abd2d5119b6arow8_col14\" class=\"data row8 col14\" >-0.174031</td>\n",
       "                        <td id=\"T_d576bda6_8ada_11ea_8efb_abd2d5119b6arow8_col15\" class=\"data row8 col15\" >-0.231428</td>\n",
       "                        <td id=\"T_d576bda6_8ada_11ea_8efb_abd2d5119b6arow8_col16\" class=\"data row8 col16\" >-0.351972</td>\n",
       "                        <td id=\"T_d576bda6_8ada_11ea_8efb_abd2d5119b6arow8_col17\" class=\"data row8 col17\" >0.025834</td>\n",
       "                        <td id=\"T_d576bda6_8ada_11ea_8efb_abd2d5119b6arow8_col18\" class=\"data row8 col18\" >-0.002560</td>\n",
       "                        <td id=\"T_d576bda6_8ada_11ea_8efb_abd2d5119b6arow8_col19\" class=\"data row8 col19\" >0.004046</td>\n",
       "                        <td id=\"T_d576bda6_8ada_11ea_8efb_abd2d5119b6arow8_col20\" class=\"data row8 col20\" >-0.322904</td>\n",
       "            </tr>\n",
       "            <tr>\n",
       "                        <th id=\"T_d576bda6_8ada_11ea_8efb_abd2d5119b6alevel0_row9\" class=\"row_heading level0 row9\" >cloud9am</th>\n",
       "                        <td id=\"T_d576bda6_8ada_11ea_8efb_abd2d5119b6arow9_col0\" class=\"data row9 col0\" >0.115204</td>\n",
       "                        <td id=\"T_d576bda6_8ada_11ea_8efb_abd2d5119b6arow9_col1\" class=\"data row9 col1\" >-0.262003</td>\n",
       "                        <td id=\"T_d576bda6_8ada_11ea_8efb_abd2d5119b6arow9_col2\" class=\"data row9 col2\" >0.215699</td>\n",
       "                        <td id=\"T_d576bda6_8ada_11ea_8efb_abd2d5119b6arow9_col3\" class=\"data row9 col3\" >-0.192775</td>\n",
       "                        <td id=\"T_d576bda6_8ada_11ea_8efb_abd2d5119b6arow9_col4\" class=\"data row9 col4\" >-0.678801</td>\n",
       "                        <td id=\"T_d576bda6_8ada_11ea_8efb_abd2d5119b6arow9_col5\" class=\"data row9 col5\" >0.432826</td>\n",
       "                        <td id=\"T_d576bda6_8ada_11ea_8efb_abd2d5119b6arow9_col6\" class=\"data row9 col6\" >0.507677</td>\n",
       "                        <td id=\"T_d576bda6_8ada_11ea_8efb_abd2d5119b6arow9_col7\" class=\"data row9 col7\" >-0.142788</td>\n",
       "                        <td id=\"T_d576bda6_8ada_11ea_8efb_abd2d5119b6arow9_col8\" class=\"data row9 col8\" >-0.074193</td>\n",
       "                        <td id=\"T_d576bda6_8ada_11ea_8efb_abd2d5119b6arow9_col9\" class=\"data row9 col9\" >1.000000</td>\n",
       "                        <td id=\"T_d576bda6_8ada_11ea_8efb_abd2d5119b6arow9_col10\" class=\"data row9 col10\" >0.612633</td>\n",
       "                        <td id=\"T_d576bda6_8ada_11ea_8efb_abd2d5119b6arow9_col11\" class=\"data row9 col11\" >-0.101916</td>\n",
       "                        <td id=\"T_d576bda6_8ada_11ea_8efb_abd2d5119b6arow9_col12\" class=\"data row9 col12\" >-0.278856</td>\n",
       "                        <td id=\"T_d576bda6_8ada_11ea_8efb_abd2d5119b6arow9_col13\" class=\"data row9 col13\" >0.297414</td>\n",
       "                        <td id=\"T_d576bda6_8ada_11ea_8efb_abd2d5119b6arow9_col14\" class=\"data row9 col14\" >0.204768</td>\n",
       "                        <td id=\"T_d576bda6_8ada_11ea_8efb_abd2d5119b6arow9_col15\" class=\"data row9 col15\" >0.319410</td>\n",
       "                        <td id=\"T_d576bda6_8ada_11ea_8efb_abd2d5119b6arow9_col16\" class=\"data row9 col16\" >-0.203947</td>\n",
       "                        <td id=\"T_d576bda6_8ada_11ea_8efb_abd2d5119b6arow9_col17\" class=\"data row9 col17\" >0.460164</td>\n",
       "                        <td id=\"T_d576bda6_8ada_11ea_8efb_abd2d5119b6arow9_col18\" class=\"data row9 col18\" >-0.000451</td>\n",
       "                        <td id=\"T_d576bda6_8ada_11ea_8efb_abd2d5119b6arow9_col19\" class=\"data row9 col19\" >-0.000973</td>\n",
       "                        <td id=\"T_d576bda6_8ada_11ea_8efb_abd2d5119b6arow9_col20\" class=\"data row9 col20\" >0.473697</td>\n",
       "            </tr>\n",
       "            <tr>\n",
       "                        <th id=\"T_d576bda6_8ada_11ea_8efb_abd2d5119b6alevel0_row10\" class=\"row_heading level0 row10\" >cloud3pm</th>\n",
       "                        <td id=\"T_d576bda6_8ada_11ea_8efb_abd2d5119b6arow10_col0\" class=\"data row10 col0\" >0.050917</td>\n",
       "                        <td id=\"T_d576bda6_8ada_11ea_8efb_abd2d5119b6arow10_col1\" class=\"data row10 col1\" >-0.253183</td>\n",
       "                        <td id=\"T_d576bda6_8ada_11ea_8efb_abd2d5119b6arow10_col2\" class=\"data row10 col2\" >0.191743</td>\n",
       "                        <td id=\"T_d576bda6_8ada_11ea_8efb_abd2d5119b6arow10_col3\" class=\"data row10 col3\" >-0.196180</td>\n",
       "                        <td id=\"T_d576bda6_8ada_11ea_8efb_abd2d5119b6arow10_col4\" class=\"data row10 col4\" >-0.704871</td>\n",
       "                        <td id=\"T_d576bda6_8ada_11ea_8efb_abd2d5119b6arow10_col5\" class=\"data row10 col5\" >0.344565</td>\n",
       "                        <td id=\"T_d576bda6_8ada_11ea_8efb_abd2d5119b6arow10_col6\" class=\"data row10 col6\" >0.507461</td>\n",
       "                        <td id=\"T_d576bda6_8ada_11ea_8efb_abd2d5119b6arow10_col7\" class=\"data row10 col7\" >-0.164998</td>\n",
       "                        <td id=\"T_d576bda6_8ada_11ea_8efb_abd2d5119b6arow10_col8\" class=\"data row10 col8\" >-0.101631</td>\n",
       "                        <td id=\"T_d576bda6_8ada_11ea_8efb_abd2d5119b6arow10_col9\" class=\"data row10 col9\" >0.612633</td>\n",
       "                        <td id=\"T_d576bda6_8ada_11ea_8efb_abd2d5119b6arow10_col10\" class=\"data row10 col10\" >1.000000</td>\n",
       "                        <td id=\"T_d576bda6_8ada_11ea_8efb_abd2d5119b6arow10_col11\" class=\"data row10 col11\" >-0.100641</td>\n",
       "                        <td id=\"T_d576bda6_8ada_11ea_8efb_abd2d5119b6arow10_col12\" class=\"data row10 col12\" >-0.292905</td>\n",
       "                        <td id=\"T_d576bda6_8ada_11ea_8efb_abd2d5119b6arow10_col13\" class=\"data row10 col13\" >0.272209</td>\n",
       "                        <td id=\"T_d576bda6_8ada_11ea_8efb_abd2d5119b6arow10_col14\" class=\"data row10 col14\" >0.243504</td>\n",
       "                        <td id=\"T_d576bda6_8ada_11ea_8efb_abd2d5119b6arow10_col15\" class=\"data row10 col15\" >0.389891</td>\n",
       "                        <td id=\"T_d576bda6_8ada_11ea_8efb_abd2d5119b6arow10_col16\" class=\"data row10 col16\" >-0.199544</td>\n",
       "                        <td id=\"T_d576bda6_8ada_11ea_8efb_abd2d5119b6arow10_col17\" class=\"data row10 col17\" >0.460723</td>\n",
       "                        <td id=\"T_d576bda6_8ada_11ea_8efb_abd2d5119b6arow10_col18\" class=\"data row10 col18\" >0.000051</td>\n",
       "                        <td id=\"T_d576bda6_8ada_11ea_8efb_abd2d5119b6arow10_col19\" class=\"data row10 col19\" >-0.005084</td>\n",
       "                        <td id=\"T_d576bda6_8ada_11ea_8efb_abd2d5119b6arow10_col20\" class=\"data row10 col20\" >0.558326</td>\n",
       "            </tr>\n",
       "            <tr>\n",
       "                        <th id=\"T_d576bda6_8ada_11ea_8efb_abd2d5119b6alevel0_row11\" class=\"row_heading level0 row11\" >temp9am</th>\n",
       "                        <td id=\"T_d576bda6_8ada_11ea_8efb_abd2d5119b6arow11_col0\" class=\"data row11 col0\" >0.905552</td>\n",
       "                        <td id=\"T_d576bda6_8ada_11ea_8efb_abd2d5119b6arow11_col1\" class=\"data row11 col1\" >0.890743</td>\n",
       "                        <td id=\"T_d576bda6_8ada_11ea_8efb_abd2d5119b6arow11_col2\" class=\"data row11 col2\" >0.014438</td>\n",
       "                        <td id=\"T_d576bda6_8ada_11ea_8efb_abd2d5119b6arow11_col3\" class=\"data row11 col3\" >0.598609</td>\n",
       "                        <td id=\"T_d576bda6_8ada_11ea_8efb_abd2d5119b6arow11_col4\" class=\"data row11 col4\" >0.285678</td>\n",
       "                        <td id=\"T_d576bda6_8ada_11ea_8efb_abd2d5119b6arow11_col5\" class=\"data row11 col5\" >-0.426737</td>\n",
       "                        <td id=\"T_d576bda6_8ada_11ea_8efb_abd2d5119b6arow11_col6\" class=\"data row11 col6\" >-0.148491</td>\n",
       "                        <td id=\"T_d576bda6_8ada_11ea_8efb_abd2d5119b6arow11_col7\" class=\"data row11 col7\" >-0.447688</td>\n",
       "                        <td id=\"T_d576bda6_8ada_11ea_8efb_abd2d5119b6arow11_col8\" class=\"data row11 col8\" >-0.500713</td>\n",
       "                        <td id=\"T_d576bda6_8ada_11ea_8efb_abd2d5119b6arow11_col9\" class=\"data row11 col9\" >-0.101916</td>\n",
       "                        <td id=\"T_d576bda6_8ada_11ea_8efb_abd2d5119b6arow11_col10\" class=\"data row11 col10\" >-0.100641</td>\n",
       "                        <td id=\"T_d576bda6_8ada_11ea_8efb_abd2d5119b6arow11_col11\" class=\"data row11 col11\" >1.000000</td>\n",
       "                        <td id=\"T_d576bda6_8ada_11ea_8efb_abd2d5119b6arow11_col12\" class=\"data row11 col12\" >0.867197</td>\n",
       "                        <td id=\"T_d576bda6_8ada_11ea_8efb_abd2d5119b6arow11_col13\" class=\"data row11 col13\" >-0.094113</td>\n",
       "                        <td id=\"T_d576bda6_8ada_11ea_8efb_abd2d5119b6arow11_col14\" class=\"data row11 col14\" >0.072842</td>\n",
       "                        <td id=\"T_d576bda6_8ada_11ea_8efb_abd2d5119b6arow11_col15\" class=\"data row11 col15\" >-0.016180</td>\n",
       "                        <td id=\"T_d576bda6_8ada_11ea_8efb_abd2d5119b6arow11_col16\" class=\"data row11 col16\" >0.694676</td>\n",
       "                        <td id=\"T_d576bda6_8ada_11ea_8efb_abd2d5119b6arow11_col17\" class=\"data row11 col17\" >-0.134657</td>\n",
       "                        <td id=\"T_d576bda6_8ada_11ea_8efb_abd2d5119b6arow11_col18\" class=\"data row11 col18\" >0.003672</td>\n",
       "                        <td id=\"T_d576bda6_8ada_11ea_8efb_abd2d5119b6arow11_col19\" class=\"data row11 col19\" >-0.000129</td>\n",
       "                        <td id=\"T_d576bda6_8ada_11ea_8efb_abd2d5119b6arow11_col20\" class=\"data row11 col20\" >-0.025092</td>\n",
       "            </tr>\n",
       "            <tr>\n",
       "                        <th id=\"T_d576bda6_8ada_11ea_8efb_abd2d5119b6alevel0_row12\" class=\"row_heading level0 row12\" >temp3pm</th>\n",
       "                        <td id=\"T_d576bda6_8ada_11ea_8efb_abd2d5119b6arow12_col0\" class=\"data row12 col0\" >0.720796</td>\n",
       "                        <td id=\"T_d576bda6_8ada_11ea_8efb_abd2d5119b6arow12_col1\" class=\"data row12 col1\" >0.984101</td>\n",
       "                        <td id=\"T_d576bda6_8ada_11ea_8efb_abd2d5119b6arow12_col2\" class=\"data row12 col2\" >-0.073640</td>\n",
       "                        <td id=\"T_d576bda6_8ada_11ea_8efb_abd2d5119b6arow12_col3\" class=\"data row12 col3\" >0.631686</td>\n",
       "                        <td id=\"T_d576bda6_8ada_11ea_8efb_abd2d5119b6arow12_col4\" class=\"data row12 col4\" >0.483256</td>\n",
       "                        <td id=\"T_d576bda6_8ada_11ea_8efb_abd2d5119b6arow12_col5\" class=\"data row12 col5\" >-0.487789</td>\n",
       "                        <td id=\"T_d576bda6_8ada_11ea_8efb_abd2d5119b6arow12_col6\" class=\"data row12 col6\" >-0.498921</td>\n",
       "                        <td id=\"T_d576bda6_8ada_11ea_8efb_abd2d5119b6arow12_col7\" class=\"data row12 col7\" >-0.314549</td>\n",
       "                        <td id=\"T_d576bda6_8ada_11ea_8efb_abd2d5119b6arow12_col8\" class=\"data row12 col8\" >-0.422233</td>\n",
       "                        <td id=\"T_d576bda6_8ada_11ea_8efb_abd2d5119b6arow12_col9\" class=\"data row12 col9\" >-0.278856</td>\n",
       "                        <td id=\"T_d576bda6_8ada_11ea_8efb_abd2d5119b6arow12_col10\" class=\"data row12 col10\" >-0.292905</td>\n",
       "                        <td id=\"T_d576bda6_8ada_11ea_8efb_abd2d5119b6arow12_col11\" class=\"data row12 col11\" >0.867197</td>\n",
       "                        <td id=\"T_d576bda6_8ada_11ea_8efb_abd2d5119b6arow12_col12\" class=\"data row12 col12\" >1.000000</td>\n",
       "                        <td id=\"T_d576bda6_8ada_11ea_8efb_abd2d5119b6arow12_col13\" class=\"data row12 col13\" >-0.225959</td>\n",
       "                        <td id=\"T_d576bda6_8ada_11ea_8efb_abd2d5119b6arow12_col14\" class=\"data row12 col14\" >-0.039415</td>\n",
       "                        <td id=\"T_d576bda6_8ada_11ea_8efb_abd2d5119b6arow12_col15\" class=\"data row12 col15\" >-0.181295</td>\n",
       "                        <td id=\"T_d576bda6_8ada_11ea_8efb_abd2d5119b6arow12_col16\" class=\"data row12 col16\" >0.767793</td>\n",
       "                        <td id=\"T_d576bda6_8ada_11ea_8efb_abd2d5119b6arow12_col17\" class=\"data row12 col17\" >-0.452851</td>\n",
       "                        <td id=\"T_d576bda6_8ada_11ea_8efb_abd2d5119b6arow12_col18\" class=\"data row12 col18\" >0.003252</td>\n",
       "                        <td id=\"T_d576bda6_8ada_11ea_8efb_abd2d5119b6arow12_col19\" class=\"data row12 col19\" >-0.000318</td>\n",
       "                        <td id=\"T_d576bda6_8ada_11ea_8efb_abd2d5119b6arow12_col20\" class=\"data row12 col20\" >-0.264061</td>\n",
       "            </tr>\n",
       "            <tr>\n",
       "                        <th id=\"T_d576bda6_8ada_11ea_8efb_abd2d5119b6alevel0_row13\" class=\"row_heading level0 row13\" >raintoday</th>\n",
       "                        <td id=\"T_d576bda6_8ada_11ea_8efb_abd2d5119b6arow13_col0\" class=\"data row13 col0\" >0.051478</td>\n",
       "                        <td id=\"T_d576bda6_8ada_11ea_8efb_abd2d5119b6arow13_col1\" class=\"data row13 col1\" >-0.220012</td>\n",
       "                        <td id=\"T_d576bda6_8ada_11ea_8efb_abd2d5119b6arow13_col2\" class=\"data row13 col2\" >0.553481</td>\n",
       "                        <td id=\"T_d576bda6_8ada_11ea_8efb_abd2d5119b6arow13_col3\" class=\"data row13 col3\" >-0.213291</td>\n",
       "                        <td id=\"T_d576bda6_8ada_11ea_8efb_abd2d5119b6arow13_col4\" class=\"data row13 col4\" >-0.327720</td>\n",
       "                        <td id=\"T_d576bda6_8ada_11ea_8efb_abd2d5119b6arow13_col5\" class=\"data row13 col5\" >0.371288</td>\n",
       "                        <td id=\"T_d576bda6_8ada_11ea_8efb_abd2d5119b6arow13_col6\" class=\"data row13 col6\" >0.376480</td>\n",
       "                        <td id=\"T_d576bda6_8ada_11ea_8efb_abd2d5119b6arow13_col7\" class=\"data row13 col7\" >-0.183468</td>\n",
       "                        <td id=\"T_d576bda6_8ada_11ea_8efb_abd2d5119b6arow13_col8\" class=\"data row13 col8\" >-0.100839</td>\n",
       "                        <td id=\"T_d576bda6_8ada_11ea_8efb_abd2d5119b6arow13_col9\" class=\"data row13 col9\" >0.297414</td>\n",
       "                        <td id=\"T_d576bda6_8ada_11ea_8efb_abd2d5119b6arow13_col10\" class=\"data row13 col10\" >0.272209</td>\n",
       "                        <td id=\"T_d576bda6_8ada_11ea_8efb_abd2d5119b6arow13_col11\" class=\"data row13 col11\" >-0.094113</td>\n",
       "                        <td id=\"T_d576bda6_8ada_11ea_8efb_abd2d5119b6arow13_col12\" class=\"data row13 col12\" >-0.225959</td>\n",
       "                        <td id=\"T_d576bda6_8ada_11ea_8efb_abd2d5119b6arow13_col13\" class=\"data row13 col13\" >1.000000</td>\n",
       "                        <td id=\"T_d576bda6_8ada_11ea_8efb_abd2d5119b6arow13_col14\" class=\"data row13 col14\" >0.218438</td>\n",
       "                        <td id=\"T_d576bda6_8ada_11ea_8efb_abd2d5119b6arow13_col15\" class=\"data row13 col15\" >0.308621</td>\n",
       "                        <td id=\"T_d576bda6_8ada_11ea_8efb_abd2d5119b6arow13_col16\" class=\"data row13 col16\" >-0.174028</td>\n",
       "                        <td id=\"T_d576bda6_8ada_11ea_8efb_abd2d5119b6arow13_col17\" class=\"data row13 col17\" >0.339474</td>\n",
       "                        <td id=\"T_d576bda6_8ada_11ea_8efb_abd2d5119b6arow13_col18\" class=\"data row13 col18\" >-0.001359</td>\n",
       "                        <td id=\"T_d576bda6_8ada_11ea_8efb_abd2d5119b6arow13_col19\" class=\"data row13 col19\" >-0.002866</td>\n",
       "                        <td id=\"T_d576bda6_8ada_11ea_8efb_abd2d5119b6arow13_col20\" class=\"data row13 col20\" >0.453866</td>\n",
       "            </tr>\n",
       "            <tr>\n",
       "                        <th id=\"T_d576bda6_8ada_11ea_8efb_abd2d5119b6alevel0_row14\" class=\"row_heading level0 row14\" >amountOfRain</th>\n",
       "                        <td id=\"T_d576bda6_8ada_11ea_8efb_abd2d5119b6arow14_col0\" class=\"data row14 col0\" >0.142911</td>\n",
       "                        <td id=\"T_d576bda6_8ada_11ea_8efb_abd2d5119b6arow14_col1\" class=\"data row14 col1\" >-0.015487</td>\n",
       "                        <td id=\"T_d576bda6_8ada_11ea_8efb_abd2d5119b6arow14_col2\" class=\"data row14 col2\" >0.302723</td>\n",
       "                        <td id=\"T_d576bda6_8ada_11ea_8efb_abd2d5119b6arow14_col3\" class=\"data row14 col3\" >-0.042126</td>\n",
       "                        <td id=\"T_d576bda6_8ada_11ea_8efb_abd2d5119b6arow14_col4\" class=\"data row14 col4\" >-0.298182</td>\n",
       "                        <td id=\"T_d576bda6_8ada_11ea_8efb_abd2d5119b6arow14_col5\" class=\"data row14 col5\" >0.177473</td>\n",
       "                        <td id=\"T_d576bda6_8ada_11ea_8efb_abd2d5119b6arow14_col6\" class=\"data row14 col6\" >0.309910</td>\n",
       "                        <td id=\"T_d576bda6_8ada_11ea_8efb_abd2d5119b6arow14_col7\" class=\"data row14 col7\" >-0.174923</td>\n",
       "                        <td id=\"T_d576bda6_8ada_11ea_8efb_abd2d5119b6arow14_col8\" class=\"data row14 col8\" >-0.174031</td>\n",
       "                        <td id=\"T_d576bda6_8ada_11ea_8efb_abd2d5119b6arow14_col9\" class=\"data row14 col9\" >0.204768</td>\n",
       "                        <td id=\"T_d576bda6_8ada_11ea_8efb_abd2d5119b6arow14_col10\" class=\"data row14 col10\" >0.243504</td>\n",
       "                        <td id=\"T_d576bda6_8ada_11ea_8efb_abd2d5119b6arow14_col11\" class=\"data row14 col11\" >0.072842</td>\n",
       "                        <td id=\"T_d576bda6_8ada_11ea_8efb_abd2d5119b6arow14_col12\" class=\"data row14 col12\" >-0.039415</td>\n",
       "                        <td id=\"T_d576bda6_8ada_11ea_8efb_abd2d5119b6arow14_col13\" class=\"data row14 col13\" >0.218438</td>\n",
       "                        <td id=\"T_d576bda6_8ada_11ea_8efb_abd2d5119b6arow14_col14\" class=\"data row14 col14\" >1.000000</td>\n",
       "                        <td id=\"T_d576bda6_8ada_11ea_8efb_abd2d5119b6arow14_col15\" class=\"data row14 col15\" >0.492611</td>\n",
       "                        <td id=\"T_d576bda6_8ada_11ea_8efb_abd2d5119b6arow14_col16\" class=\"data row14 col16\" >-0.012145</td>\n",
       "                        <td id=\"T_d576bda6_8ada_11ea_8efb_abd2d5119b6arow14_col17\" class=\"data row14 col17\" >0.283171</td>\n",
       "                        <td id=\"T_d576bda6_8ada_11ea_8efb_abd2d5119b6arow14_col18\" class=\"data row14 col18\" >-0.003559</td>\n",
       "                        <td id=\"T_d576bda6_8ada_11ea_8efb_abd2d5119b6arow14_col19\" class=\"data row14 col19\" >-0.008993</td>\n",
       "                        <td id=\"T_d576bda6_8ada_11ea_8efb_abd2d5119b6arow14_col20\" class=\"data row14 col20\" >0.505059</td>\n",
       "            </tr>\n",
       "            <tr>\n",
       "                        <th id=\"T_d576bda6_8ada_11ea_8efb_abd2d5119b6alevel0_row15\" class=\"row_heading level0 row15\" >raintomorrow</th>\n",
       "                        <td id=\"T_d576bda6_8ada_11ea_8efb_abd2d5119b6arow15_col0\" class=\"data row15 col0\" >0.088964</td>\n",
       "                        <td id=\"T_d576bda6_8ada_11ea_8efb_abd2d5119b6arow15_col1\" class=\"data row15 col1\" >-0.144498</td>\n",
       "                        <td id=\"T_d576bda6_8ada_11ea_8efb_abd2d5119b6arow15_col2\" class=\"data row15 col2\" >0.253773</td>\n",
       "                        <td id=\"T_d576bda6_8ada_11ea_8efb_abd2d5119b6arow15_col3\" class=\"data row15 col3\" >-0.127257</td>\n",
       "                        <td id=\"T_d576bda6_8ada_11ea_8efb_abd2d5119b6arow15_col4\" class=\"data row15 col4\" >-0.449261</td>\n",
       "                        <td id=\"T_d576bda6_8ada_11ea_8efb_abd2d5119b6arow15_col5\" class=\"data row15 col5\" >0.265360</td>\n",
       "                        <td id=\"T_d576bda6_8ada_11ea_8efb_abd2d5119b6arow15_col6\" class=\"data row15 col6\" >0.447742</td>\n",
       "                        <td id=\"T_d576bda6_8ada_11ea_8efb_abd2d5119b6arow15_col7\" class=\"data row15 col7\" >-0.255934</td>\n",
       "                        <td id=\"T_d576bda6_8ada_11ea_8efb_abd2d5119b6arow15_col8\" class=\"data row15 col8\" >-0.231428</td>\n",
       "                        <td id=\"T_d576bda6_8ada_11ea_8efb_abd2d5119b6arow15_col9\" class=\"data row15 col9\" >0.319410</td>\n",
       "                        <td id=\"T_d576bda6_8ada_11ea_8efb_abd2d5119b6arow15_col10\" class=\"data row15 col10\" >0.389891</td>\n",
       "                        <td id=\"T_d576bda6_8ada_11ea_8efb_abd2d5119b6arow15_col11\" class=\"data row15 col11\" >-0.016180</td>\n",
       "                        <td id=\"T_d576bda6_8ada_11ea_8efb_abd2d5119b6arow15_col12\" class=\"data row15 col12\" >-0.181295</td>\n",
       "                        <td id=\"T_d576bda6_8ada_11ea_8efb_abd2d5119b6arow15_col13\" class=\"data row15 col13\" >0.308621</td>\n",
       "                        <td id=\"T_d576bda6_8ada_11ea_8efb_abd2d5119b6arow15_col14\" class=\"data row15 col14\" >0.492611</td>\n",
       "                        <td id=\"T_d576bda6_8ada_11ea_8efb_abd2d5119b6arow15_col15\" class=\"data row15 col15\" >1.000000</td>\n",
       "                        <td id=\"T_d576bda6_8ada_11ea_8efb_abd2d5119b6arow15_col16\" class=\"data row15 col16\" >-0.112636</td>\n",
       "                        <td id=\"T_d576bda6_8ada_11ea_8efb_abd2d5119b6arow15_col17\" class=\"data row15 col17\" >0.406002</td>\n",
       "                        <td id=\"T_d576bda6_8ada_11ea_8efb_abd2d5119b6arow15_col18\" class=\"data row15 col18\" >0.006578</td>\n",
       "                        <td id=\"T_d576bda6_8ada_11ea_8efb_abd2d5119b6arow15_col19\" class=\"data row15 col19\" >-0.013366</td>\n",
       "                        <td id=\"T_d576bda6_8ada_11ea_8efb_abd2d5119b6arow15_col20\" class=\"data row15 col20\" >0.863107</td>\n",
       "            </tr>\n",
       "            <tr>\n",
       "                        <th id=\"T_d576bda6_8ada_11ea_8efb_abd2d5119b6alevel0_row16\" class=\"row_heading level0 row16\" >temp</th>\n",
       "                        <td id=\"T_d576bda6_8ada_11ea_8efb_abd2d5119b6arow16_col0\" class=\"data row16 col0\" >0.578773</td>\n",
       "                        <td id=\"T_d576bda6_8ada_11ea_8efb_abd2d5119b6arow16_col1\" class=\"data row16 col1\" >0.779778</td>\n",
       "                        <td id=\"T_d576bda6_8ada_11ea_8efb_abd2d5119b6arow16_col2\" class=\"data row16 col2\" >-0.060093</td>\n",
       "                        <td id=\"T_d576bda6_8ada_11ea_8efb_abd2d5119b6arow16_col3\" class=\"data row16 col3\" >0.509947</td>\n",
       "                        <td id=\"T_d576bda6_8ada_11ea_8efb_abd2d5119b6arow16_col4\" class=\"data row16 col4\" >0.359295</td>\n",
       "                        <td id=\"T_d576bda6_8ada_11ea_8efb_abd2d5119b6arow16_col5\" class=\"data row16 col5\" >-0.388460</td>\n",
       "                        <td id=\"T_d576bda6_8ada_11ea_8efb_abd2d5119b6arow16_col6\" class=\"data row16 col6\" >-0.351533</td>\n",
       "                        <td id=\"T_d576bda6_8ada_11ea_8efb_abd2d5119b6arow16_col7\" class=\"data row16 col7\" >-0.274905</td>\n",
       "                        <td id=\"T_d576bda6_8ada_11ea_8efb_abd2d5119b6arow16_col8\" class=\"data row16 col8\" >-0.351972</td>\n",
       "                        <td id=\"T_d576bda6_8ada_11ea_8efb_abd2d5119b6arow16_col9\" class=\"data row16 col9\" >-0.203947</td>\n",
       "                        <td id=\"T_d576bda6_8ada_11ea_8efb_abd2d5119b6arow16_col10\" class=\"data row16 col10\" >-0.199544</td>\n",
       "                        <td id=\"T_d576bda6_8ada_11ea_8efb_abd2d5119b6arow16_col11\" class=\"data row16 col11\" >0.694676</td>\n",
       "                        <td id=\"T_d576bda6_8ada_11ea_8efb_abd2d5119b6arow16_col12\" class=\"data row16 col12\" >0.767793</td>\n",
       "                        <td id=\"T_d576bda6_8ada_11ea_8efb_abd2d5119b6arow16_col13\" class=\"data row16 col13\" >-0.174028</td>\n",
       "                        <td id=\"T_d576bda6_8ada_11ea_8efb_abd2d5119b6arow16_col14\" class=\"data row16 col14\" >-0.012145</td>\n",
       "                        <td id=\"T_d576bda6_8ada_11ea_8efb_abd2d5119b6arow16_col15\" class=\"data row16 col15\" >-0.112636</td>\n",
       "                        <td id=\"T_d576bda6_8ada_11ea_8efb_abd2d5119b6arow16_col16\" class=\"data row16 col16\" >1.000000</td>\n",
       "                        <td id=\"T_d576bda6_8ada_11ea_8efb_abd2d5119b6arow16_col17\" class=\"data row16 col17\" >-0.318448</td>\n",
       "                        <td id=\"T_d576bda6_8ada_11ea_8efb_abd2d5119b6arow16_col18\" class=\"data row16 col18\" >0.000834</td>\n",
       "                        <td id=\"T_d576bda6_8ada_11ea_8efb_abd2d5119b6arow16_col19\" class=\"data row16 col19\" >-0.001049</td>\n",
       "                        <td id=\"T_d576bda6_8ada_11ea_8efb_abd2d5119b6arow16_col20\" class=\"data row16 col20\" >-0.164796</td>\n",
       "            </tr>\n",
       "            <tr>\n",
       "                        <th id=\"T_d576bda6_8ada_11ea_8efb_abd2d5119b6alevel0_row17\" class=\"row_heading level0 row17\" >humidity</th>\n",
       "                        <td id=\"T_d576bda6_8ada_11ea_8efb_abd2d5119b6arow17_col0\" class=\"data row17 col0\" >0.068579</td>\n",
       "                        <td id=\"T_d576bda6_8ada_11ea_8efb_abd2d5119b6arow17_col1\" class=\"data row17 col1\" >-0.406402</td>\n",
       "                        <td id=\"T_d576bda6_8ada_11ea_8efb_abd2d5119b6arow17_col2\" class=\"data row17 col2\" >0.247128</td>\n",
       "                        <td id=\"T_d576bda6_8ada_11ea_8efb_abd2d5119b6arow17_col3\" class=\"data row17 col3\" >-0.375537</td>\n",
       "                        <td id=\"T_d576bda6_8ada_11ea_8efb_abd2d5119b6arow17_col4\" class=\"data row17 col4\" >-0.565134</td>\n",
       "                        <td id=\"T_d576bda6_8ada_11ea_8efb_abd2d5119b6arow17_col5\" class=\"data row17 col5\" >0.617538</td>\n",
       "                        <td id=\"T_d576bda6_8ada_11ea_8efb_abd2d5119b6arow17_col6\" class=\"data row17 col6\" >0.907959</td>\n",
       "                        <td id=\"T_d576bda6_8ada_11ea_8efb_abd2d5119b6arow17_col7\" class=\"data row17 col7\" >-0.052670</td>\n",
       "                        <td id=\"T_d576bda6_8ada_11ea_8efb_abd2d5119b6arow17_col8\" class=\"data row17 col8\" >0.025834</td>\n",
       "                        <td id=\"T_d576bda6_8ada_11ea_8efb_abd2d5119b6arow17_col9\" class=\"data row17 col9\" >0.460164</td>\n",
       "                        <td id=\"T_d576bda6_8ada_11ea_8efb_abd2d5119b6arow17_col10\" class=\"data row17 col10\" >0.460723</td>\n",
       "                        <td id=\"T_d576bda6_8ada_11ea_8efb_abd2d5119b6arow17_col11\" class=\"data row17 col11\" >-0.134657</td>\n",
       "                        <td id=\"T_d576bda6_8ada_11ea_8efb_abd2d5119b6arow17_col12\" class=\"data row17 col12\" >-0.452851</td>\n",
       "                        <td id=\"T_d576bda6_8ada_11ea_8efb_abd2d5119b6arow17_col13\" class=\"data row17 col13\" >0.339474</td>\n",
       "                        <td id=\"T_d576bda6_8ada_11ea_8efb_abd2d5119b6arow17_col14\" class=\"data row17 col14\" >0.283171</td>\n",
       "                        <td id=\"T_d576bda6_8ada_11ea_8efb_abd2d5119b6arow17_col15\" class=\"data row17 col15\" >0.406002</td>\n",
       "                        <td id=\"T_d576bda6_8ada_11ea_8efb_abd2d5119b6arow17_col16\" class=\"data row17 col16\" >-0.318448</td>\n",
       "                        <td id=\"T_d576bda6_8ada_11ea_8efb_abd2d5119b6arow17_col17\" class=\"data row17 col17\" >1.000000</td>\n",
       "                        <td id=\"T_d576bda6_8ada_11ea_8efb_abd2d5119b6arow17_col18\" class=\"data row17 col18\" >-0.003714</td>\n",
       "                        <td id=\"T_d576bda6_8ada_11ea_8efb_abd2d5119b6arow17_col19\" class=\"data row17 col19\" >-0.004449</td>\n",
       "                        <td id=\"T_d576bda6_8ada_11ea_8efb_abd2d5119b6arow17_col20\" class=\"data row17 col20\" >0.584962</td>\n",
       "            </tr>\n",
       "            <tr>\n",
       "                        <th id=\"T_d576bda6_8ada_11ea_8efb_abd2d5119b6alevel0_row18\" class=\"row_heading level0 row18\" >precipitation3pm</th>\n",
       "                        <td id=\"T_d576bda6_8ada_11ea_8efb_abd2d5119b6arow18_col0\" class=\"data row18 col0\" >0.003508</td>\n",
       "                        <td id=\"T_d576bda6_8ada_11ea_8efb_abd2d5119b6arow18_col1\" class=\"data row18 col1\" >0.003385</td>\n",
       "                        <td id=\"T_d576bda6_8ada_11ea_8efb_abd2d5119b6arow18_col2\" class=\"data row18 col2\" >-0.007556</td>\n",
       "                        <td id=\"T_d576bda6_8ada_11ea_8efb_abd2d5119b6arow18_col3\" class=\"data row18 col3\" >0.007043</td>\n",
       "                        <td id=\"T_d576bda6_8ada_11ea_8efb_abd2d5119b6arow18_col4\" class=\"data row18 col4\" >-0.003376</td>\n",
       "                        <td id=\"T_d576bda6_8ada_11ea_8efb_abd2d5119b6arow18_col5\" class=\"data row18 col5\" >-0.003913</td>\n",
       "                        <td id=\"T_d576bda6_8ada_11ea_8efb_abd2d5119b6arow18_col6\" class=\"data row18 col6\" >-0.003120</td>\n",
       "                        <td id=\"T_d576bda6_8ada_11ea_8efb_abd2d5119b6arow18_col7\" class=\"data row18 col7\" >-0.002484</td>\n",
       "                        <td id=\"T_d576bda6_8ada_11ea_8efb_abd2d5119b6arow18_col8\" class=\"data row18 col8\" >-0.002560</td>\n",
       "                        <td id=\"T_d576bda6_8ada_11ea_8efb_abd2d5119b6arow18_col9\" class=\"data row18 col9\" >-0.000451</td>\n",
       "                        <td id=\"T_d576bda6_8ada_11ea_8efb_abd2d5119b6arow18_col10\" class=\"data row18 col10\" >0.000051</td>\n",
       "                        <td id=\"T_d576bda6_8ada_11ea_8efb_abd2d5119b6arow18_col11\" class=\"data row18 col11\" >0.003672</td>\n",
       "                        <td id=\"T_d576bda6_8ada_11ea_8efb_abd2d5119b6arow18_col12\" class=\"data row18 col12\" >0.003252</td>\n",
       "                        <td id=\"T_d576bda6_8ada_11ea_8efb_abd2d5119b6arow18_col13\" class=\"data row18 col13\" >-0.001359</td>\n",
       "                        <td id=\"T_d576bda6_8ada_11ea_8efb_abd2d5119b6arow18_col14\" class=\"data row18 col14\" >-0.003559</td>\n",
       "                        <td id=\"T_d576bda6_8ada_11ea_8efb_abd2d5119b6arow18_col15\" class=\"data row18 col15\" >0.006578</td>\n",
       "                        <td id=\"T_d576bda6_8ada_11ea_8efb_abd2d5119b6arow18_col16\" class=\"data row18 col16\" >0.000834</td>\n",
       "                        <td id=\"T_d576bda6_8ada_11ea_8efb_abd2d5119b6arow18_col17\" class=\"data row18 col17\" >-0.003714</td>\n",
       "                        <td id=\"T_d576bda6_8ada_11ea_8efb_abd2d5119b6arow18_col18\" class=\"data row18 col18\" >1.000000</td>\n",
       "                        <td id=\"T_d576bda6_8ada_11ea_8efb_abd2d5119b6arow18_col19\" class=\"data row18 col19\" >0.004011</td>\n",
       "                        <td id=\"T_d576bda6_8ada_11ea_8efb_abd2d5119b6arow18_col20\" class=\"data row18 col20\" >0.002956</td>\n",
       "            </tr>\n",
       "            <tr>\n",
       "                        <th id=\"T_d576bda6_8ada_11ea_8efb_abd2d5119b6alevel0_row19\" class=\"row_heading level0 row19\" >precipitation9am</th>\n",
       "                        <td id=\"T_d576bda6_8ada_11ea_8efb_abd2d5119b6arow19_col0\" class=\"data row19 col0\" >-0.001382</td>\n",
       "                        <td id=\"T_d576bda6_8ada_11ea_8efb_abd2d5119b6arow19_col1\" class=\"data row19 col1\" >-0.001055</td>\n",
       "                        <td id=\"T_d576bda6_8ada_11ea_8efb_abd2d5119b6arow19_col2\" class=\"data row19 col2\" >-0.003066</td>\n",
       "                        <td id=\"T_d576bda6_8ada_11ea_8efb_abd2d5119b6arow19_col3\" class=\"data row19 col3\" >-0.000189</td>\n",
       "                        <td id=\"T_d576bda6_8ada_11ea_8efb_abd2d5119b6arow19_col4\" class=\"data row19 col4\" >0.004404</td>\n",
       "                        <td id=\"T_d576bda6_8ada_11ea_8efb_abd2d5119b6arow19_col5\" class=\"data row19 col5\" >-0.001670</td>\n",
       "                        <td id=\"T_d576bda6_8ada_11ea_8efb_abd2d5119b6arow19_col6\" class=\"data row19 col6\" >-0.003777</td>\n",
       "                        <td id=\"T_d576bda6_8ada_11ea_8efb_abd2d5119b6arow19_col7\" class=\"data row19 col7\" >0.003967</td>\n",
       "                        <td id=\"T_d576bda6_8ada_11ea_8efb_abd2d5119b6arow19_col8\" class=\"data row19 col8\" >0.004046</td>\n",
       "                        <td id=\"T_d576bda6_8ada_11ea_8efb_abd2d5119b6arow19_col9\" class=\"data row19 col9\" >-0.000973</td>\n",
       "                        <td id=\"T_d576bda6_8ada_11ea_8efb_abd2d5119b6arow19_col10\" class=\"data row19 col10\" >-0.005084</td>\n",
       "                        <td id=\"T_d576bda6_8ada_11ea_8efb_abd2d5119b6arow19_col11\" class=\"data row19 col11\" >-0.000129</td>\n",
       "                        <td id=\"T_d576bda6_8ada_11ea_8efb_abd2d5119b6arow19_col12\" class=\"data row19 col12\" >-0.000318</td>\n",
       "                        <td id=\"T_d576bda6_8ada_11ea_8efb_abd2d5119b6arow19_col13\" class=\"data row19 col13\" >-0.002866</td>\n",
       "                        <td id=\"T_d576bda6_8ada_11ea_8efb_abd2d5119b6arow19_col14\" class=\"data row19 col14\" >-0.008993</td>\n",
       "                        <td id=\"T_d576bda6_8ada_11ea_8efb_abd2d5119b6arow19_col15\" class=\"data row19 col15\" >-0.013366</td>\n",
       "                        <td id=\"T_d576bda6_8ada_11ea_8efb_abd2d5119b6arow19_col16\" class=\"data row19 col16\" >-0.001049</td>\n",
       "                        <td id=\"T_d576bda6_8ada_11ea_8efb_abd2d5119b6arow19_col17\" class=\"data row19 col17\" >-0.004449</td>\n",
       "                        <td id=\"T_d576bda6_8ada_11ea_8efb_abd2d5119b6arow19_col18\" class=\"data row19 col18\" >0.004011</td>\n",
       "                        <td id=\"T_d576bda6_8ada_11ea_8efb_abd2d5119b6arow19_col19\" class=\"data row19 col19\" >1.000000</td>\n",
       "                        <td id=\"T_d576bda6_8ada_11ea_8efb_abd2d5119b6arow19_col20\" class=\"data row19 col20\" >-0.009939</td>\n",
       "            </tr>\n",
       "            <tr>\n",
       "                        <th id=\"T_d576bda6_8ada_11ea_8efb_abd2d5119b6alevel0_row20\" class=\"row_heading level0 row20\" >modelo_vigente</th>\n",
       "                        <td id=\"T_d576bda6_8ada_11ea_8efb_abd2d5119b6arow20_col0\" class=\"data row20 col0\" >0.135744</td>\n",
       "                        <td id=\"T_d576bda6_8ada_11ea_8efb_abd2d5119b6arow20_col1\" class=\"data row20 col1\" >-0.212616</td>\n",
       "                        <td id=\"T_d576bda6_8ada_11ea_8efb_abd2d5119b6arow20_col2\" class=\"data row20 col2\" >0.371184</td>\n",
       "                        <td id=\"T_d576bda6_8ada_11ea_8efb_abd2d5119b6arow20_col3\" class=\"data row20 col3\" >-0.183537</td>\n",
       "                        <td id=\"T_d576bda6_8ada_11ea_8efb_abd2d5119b6arow20_col4\" class=\"data row20 col4\" >-0.643104</td>\n",
       "                        <td id=\"T_d576bda6_8ada_11ea_8efb_abd2d5119b6arow20_col5\" class=\"data row20 col5\" >0.392692</td>\n",
       "                        <td id=\"T_d576bda6_8ada_11ea_8efb_abd2d5119b6arow20_col6\" class=\"data row20 col6\" >0.644851</td>\n",
       "                        <td id=\"T_d576bda6_8ada_11ea_8efb_abd2d5119b6arow20_col7\" class=\"data row20 col7\" >-0.371539</td>\n",
       "                        <td id=\"T_d576bda6_8ada_11ea_8efb_abd2d5119b6arow20_col8\" class=\"data row20 col8\" >-0.322904</td>\n",
       "                        <td id=\"T_d576bda6_8ada_11ea_8efb_abd2d5119b6arow20_col9\" class=\"data row20 col9\" >0.473697</td>\n",
       "                        <td id=\"T_d576bda6_8ada_11ea_8efb_abd2d5119b6arow20_col10\" class=\"data row20 col10\" >0.558326</td>\n",
       "                        <td id=\"T_d576bda6_8ada_11ea_8efb_abd2d5119b6arow20_col11\" class=\"data row20 col11\" >-0.025092</td>\n",
       "                        <td id=\"T_d576bda6_8ada_11ea_8efb_abd2d5119b6arow20_col12\" class=\"data row20 col12\" >-0.264061</td>\n",
       "                        <td id=\"T_d576bda6_8ada_11ea_8efb_abd2d5119b6arow20_col13\" class=\"data row20 col13\" >0.453866</td>\n",
       "                        <td id=\"T_d576bda6_8ada_11ea_8efb_abd2d5119b6arow20_col14\" class=\"data row20 col14\" >0.505059</td>\n",
       "                        <td id=\"T_d576bda6_8ada_11ea_8efb_abd2d5119b6arow20_col15\" class=\"data row20 col15\" >0.863107</td>\n",
       "                        <td id=\"T_d576bda6_8ada_11ea_8efb_abd2d5119b6arow20_col16\" class=\"data row20 col16\" >-0.164796</td>\n",
       "                        <td id=\"T_d576bda6_8ada_11ea_8efb_abd2d5119b6arow20_col17\" class=\"data row20 col17\" >0.584962</td>\n",
       "                        <td id=\"T_d576bda6_8ada_11ea_8efb_abd2d5119b6arow20_col18\" class=\"data row20 col18\" >0.002956</td>\n",
       "                        <td id=\"T_d576bda6_8ada_11ea_8efb_abd2d5119b6arow20_col19\" class=\"data row20 col19\" >-0.009939</td>\n",
       "                        <td id=\"T_d576bda6_8ada_11ea_8efb_abd2d5119b6arow20_col20\" class=\"data row20 col20\" >1.000000</td>\n",
       "            </tr>\n",
       "    </tbody></table>"
      ],
      "text/plain": [
       "<pandas.io.formats.style.Styler at 0x219d4b1c448>"
      ]
     },
     "execution_count": 11,
     "metadata": {},
     "output_type": "execute_result"
    }
   ],
   "source": [
    "rain.corr().style.background_gradient(cmap='coolwarm')"
   ]
  },
  {
   "cell_type": "markdown",
   "metadata": {},
   "source": [
    "Vamos ter que tirar o Amount of Rain e o Modelo Vigente,pois está diretamente relacionado ao overfitting."
   ]
  },
  {
   "cell_type": "code",
   "execution_count": 12,
   "metadata": {},
   "outputs": [
    {
     "data": {
      "text/plain": [
       "LogisticRegression(C=1.0, class_weight=None, dual=False, fit_intercept=True,\n",
       "                   intercept_scaling=1, l1_ratio=None, max_iter=10000,\n",
       "                   multi_class='auto', n_jobs=None, penalty='l2',\n",
       "                   random_state=None, solver='lbfgs', tol=0.0001, verbose=0,\n",
       "                   warm_start=False)"
      ]
     },
     "execution_count": 12,
     "metadata": {},
     "output_type": "execute_result"
    }
   ],
   "source": [
    "X = rain[[ 'mintemp', 'maxtemp', 'rainfall', 'evaporation',\n",
    "       'sunshine', 'humidity9am', 'humidity3pm', 'pressure9am', 'pressure3pm',\n",
    "       'cloud9am', 'cloud3pm', 'temp9am', 'temp3pm', 'raintoday',\n",
    "       'temp', 'humidity', 'precipitation3pm','precipitation9am']]\n",
    "y = rain['raintomorrow']\n",
    "model = LogisticRegression(max_iter=10000)\n",
    "model.fit(X,y)"
   ]
  },
  {
   "cell_type": "code",
   "execution_count": 13,
   "metadata": {},
   "outputs": [
    {
     "data": {
      "text/plain": [
       "0.8372847960205433"
      ]
     },
     "execution_count": 13,
     "metadata": {},
     "output_type": "execute_result"
    }
   ],
   "source": [
    "model.score(X, y)"
   ]
  },
  {
   "cell_type": "code",
   "execution_count": 14,
   "metadata": {},
   "outputs": [
    {
     "data": {
      "text/plain": [
       "0.8360359196330512"
      ]
     },
     "execution_count": 14,
     "metadata": {},
     "output_type": "execute_result"
    }
   ],
   "source": [
    "X_train, X_test, y_train, y_test = train_test_split(X, y, test_size=0.75, random_state=7)\n",
    "model.score(X_train, y_train)"
   ]
  },
  {
   "cell_type": "code",
   "execution_count": 15,
   "metadata": {},
   "outputs": [
    {
     "data": {
      "text/plain": [
       "0.8377010702211504"
      ]
     },
     "execution_count": 15,
     "metadata": {},
     "output_type": "execute_result"
    }
   ],
   "source": [
    "model.score(X_test, y_test)"
   ]
  },
  {
   "cell_type": "code",
   "execution_count": 16,
   "metadata": {},
   "outputs": [
    {
     "data": {
      "image/png": "[encoded data removed]",
      "text/plain": [
       "<Figure size 432x288 with 2 Axes>"
      ]
     },
     "metadata": {
      "needs_background": "light"
     },
     "output_type": "display_data"
    }
   ],
   "source": [
    "plot_confusion_matrix(model, X_test, y_test, values_format='.0f')\n",
    "plt.grid(False)"
   ]
  },
  {
   "cell_type": "markdown",
   "metadata": {},
   "source": [
    "Taxa de acerto e a taxa de captura está quanto ?"
   ]
  },
  {
   "cell_type": "code",
   "execution_count": 17,
   "metadata": {},
   "outputs": [
    {
     "name": "stdout",
     "output_type": "stream",
     "text": [
      "Taxa de acerto: 0.7020218401989404\n",
      "Taxa de captura: 0.47009846510280917\n"
     ]
    }
   ],
   "source": [
    "print('Taxa de acerto:', + precision_score(y, model.predict(X)))\n",
    "print('Taxa de captura:', + recall_score(y, model.predict(X)))"
   ]
  },
  {
   "cell_type": "markdown",
   "metadata": {},
   "source": [
    "## Aumentar a taxe de acertos"
   ]
  },
  {
   "cell_type": "code",
   "execution_count": 18,
   "metadata": {},
   "outputs": [
    {
     "data": {
      "text/plain": [
       "<matplotlib.axes._subplots.AxesSubplot at 0x219d7858d88>"
      ]
     },
     "execution_count": 18,
     "metadata": {},
     "output_type": "execute_result"
    },
    {
     "data": {
      "image/png": "[encoded data removed]",
      "text/plain": [
       "<Figure size 432x288 with 2 Axes>"
      ]
     },
     "metadata": {
      "needs_background": "light"
     },
     "output_type": "display_data"
    }
   ],
   "source": [
    "y_pred = model.predict_proba(X)[:, 1] > 0.8\n",
    "sns.heatmap(confusion_matrix(y, y_pred), annot=True, cmap='viridis', fmt=\"d\", annot_kws={'verticalalignment':'top'})"
   ]
  },
  {
   "cell_type": "markdown",
   "metadata": {},
   "source": [
    "Taxa de acerto e a taxa de captura ficou em quanto ?"
   ]
  },
  {
   "cell_type": "code",
   "execution_count": 19,
   "metadata": {
    "scrolled": true
   },
   "outputs": [
    {
     "name": "stdout",
     "output_type": "stream",
     "text": [
      "Taxa de acerto: 0.7020218401989404\n",
      "Taxa de captura: 0.47009846510280917\n"
     ]
    }
   ],
   "source": [
    "print('Taxa de acerto:', + precision_score(y, model.predict(X)))\n",
    "print('Taxa de captura:', + recall_score(y, model.predict(X)))"
   ]
  },
  {
   "cell_type": "markdown",
   "metadata": {},
   "source": [
    "## Diminuir a taca de acertos"
   ]
  },
  {
   "cell_type": "code",
   "execution_count": 20,
   "metadata": {},
   "outputs": [
    {
     "data": {
      "text/plain": [
       "<matplotlib.axes._subplots.AxesSubplot at 0x219d557a0c8>"
      ]
     },
     "execution_count": 20,
     "metadata": {},
     "output_type": "execute_result"
    },
    {
     "data": {
      "image/png": "[encoded data removed]",
      "text/plain": [
       "<Figure size 432x288 with 2 Axes>"
      ]
     },
     "metadata": {
      "needs_background": "light"
     },
     "output_type": "display_data"
    }
   ],
   "source": [
    "y_pred = model.predict_proba(X)[:, 1] > 0.2\n",
    "sns.heatmap(confusion_matrix(y, y_pred), annot=True, cmap='viridis', fmt=\"d\")"
   ]
  },
  {
   "cell_type": "markdown",
   "metadata": {},
   "source": [
    "Taxa de acerto e a taxa de captura ficou em quanto ?"
   ]
  },
  {
   "cell_type": "code",
   "execution_count": 21,
   "metadata": {},
   "outputs": [
    {
     "name": "stdout",
     "output_type": "stream",
     "text": [
      "Taxa de acerto: 0.7020218401989404\n",
      "Taxa de captura: 0.47009846510280917\n"
     ]
    }
   ],
   "source": [
    "print('Taxa de acerto:', + precision_score(y, model.predict(X)))\n",
    "print('Taxa de captura:', + recall_score(y, model.predict(X)))"
   ]
  },
  {
   "cell_type": "markdown",
   "metadata": {},
   "source": [
    "Se quer aumentar a taxa de acerto, a taxa de captura diminui.\n",
    "\n",
    "Se quiser aumentar a taxa de captura, a taxa de acerto diminui.\n",
    "\n"
   ]
  },
  {
   "cell_type": "markdown",
   "metadata": {
    "heading_collapsed": true
   },
   "source": [
    "# Mesclar dataframes"
   ]
  },
  {
   "cell_type": "code",
   "execution_count": 22,
   "metadata": {
    "hidden": true
   },
   "outputs": [],
   "source": [
    "df = rain.merge(wind, on=['date','location'], how='left').drop_duplicates().drop(columns=['date', 'location']).fillna(0)"
   ]
  },
  {
   "cell_type": "code",
   "execution_count": 23,
   "metadata": {
    "hidden": true
   },
   "outputs": [
    {
     "data": {
      "text/plain": [
       "<matplotlib.axes._subplots.AxesSubplot at 0x219d781d208>"
      ]
     },
     "execution_count": 23,
     "metadata": {},
     "output_type": "execute_result"
    },
    {
     "data": {
      "image/png": "[encoded data removed]",
      "text/plain": [
       "<Figure size 432x288 with 2 Axes>"
      ]
     },
     "metadata": {
      "needs_background": "light"
     },
     "output_type": "display_data"
    }
   ],
   "source": [
    "sns.heatmap(df.corr())"
   ]
  },
  {
   "cell_type": "markdown",
   "metadata": {
    "heading_collapsed": true,
    "hidden": true
   },
   "source": [
    "## Regressão Logística com a velocidade dos ventos"
   ]
  },
  {
   "cell_type": "code",
   "execution_count": 24,
   "metadata": {
    "hidden": true
   },
   "outputs": [
    {
     "data": {
      "text/plain": [
       "LogisticRegression(C=1.0, class_weight=None, dual=False, fit_intercept=True,\n",
       "                   intercept_scaling=1, l1_ratio=None, max_iter=100,\n",
       "                   multi_class='auto', n_jobs=None, penalty='l2',\n",
       "                   random_state=None, solver='lbfgs', tol=0.0001, verbose=0,\n",
       "                   warm_start=False)"
      ]
     },
     "execution_count": 24,
     "metadata": {},
     "output_type": "execute_result"
    }
   ],
   "source": [
    "X = df[['windgustspeed', 'windspeed9am','windspeed3pm']]\n",
    "y = df['raintomorrow']\n",
    "model = LogisticRegression()\n",
    "model.fit(X,y)"
   ]
  },
  {
   "cell_type": "code",
   "execution_count": 25,
   "metadata": {
    "hidden": true
   },
   "outputs": [
    {
     "data": {
      "text/plain": [
       "0.7777059982557576"
      ]
     },
     "execution_count": 25,
     "metadata": {},
     "output_type": "execute_result"
    }
   ],
   "source": [
    "model.score(X, y)"
   ]
  },
  {
   "cell_type": "code",
   "execution_count": 26,
   "metadata": {
    "hidden": true
   },
   "outputs": [
    {
     "data": {
      "text/plain": [
       "0.7746624458944377"
      ]
     },
     "execution_count": 26,
     "metadata": {},
     "output_type": "execute_result"
    }
   ],
   "source": [
    "X_train, X_test, y_train, y_test = train_test_split(X, y, test_size=0.75, random_state=7)\n",
    "model.score(X_train, y_train)"
   ]
  },
  {
   "cell_type": "code",
   "execution_count": 27,
   "metadata": {
    "hidden": true
   },
   "outputs": [
    {
     "data": {
      "text/plain": [
       "0.7787204720170546"
      ]
     },
     "execution_count": 27,
     "metadata": {},
     "output_type": "execute_result"
    }
   ],
   "source": [
    "model.score(X_test, y_test)"
   ]
  },
  {
   "cell_type": "code",
   "execution_count": 28,
   "metadata": {
    "hidden": true
   },
   "outputs": [
    {
     "data": {
      "image/png": "[encoded data removed]",
      "text/plain": [
       "<Figure size 432x288 with 2 Axes>"
      ]
     },
     "metadata": {
      "needs_background": "light"
     },
     "output_type": "display_data"
    }
   ],
   "source": [
    "plot_confusion_matrix(model, X_test, y_test, values_format='.0f')\n",
    "plt.grid(False)"
   ]
  },
  {
   "cell_type": "markdown",
   "metadata": {
    "hidden": true
   },
   "source": [
    "Taxa de acerto e a taxa de captura ficou em quanto ?"
   ]
  },
  {
   "cell_type": "code",
   "execution_count": 29,
   "metadata": {
    "hidden": true
   },
   "outputs": [
    {
     "name": "stdout",
     "output_type": "stream",
     "text": [
      "Taxa de acerto: 0.6224489795918368\n",
      "Taxa de captura: 0.008832898928468\n"
     ]
    }
   ],
   "source": [
    "print('Taxa de acerto:', + precision_score(y, model.predict(X)))\n",
    "print('Taxa de captura:', + recall_score(y, model.predict(X)))"
   ]
  },
  {
   "cell_type": "markdown",
   "metadata": {
    "heading_collapsed": true,
    "hidden": true
   },
   "source": [
    "## Dummies"
   ]
  },
  {
   "cell_type": "code",
   "execution_count": 30,
   "metadata": {
    "hidden": true
   },
   "outputs": [],
   "source": [
    "dfd = pd.get_dummies(df)"
   ]
  },
  {
   "cell_type": "code",
   "execution_count": 31,
   "metadata": {
    "hidden": true
   },
   "outputs": [
    {
     "data": {
      "text/plain": [
       "LogisticRegression(C=1.0, class_weight=None, dual=False, fit_intercept=True,\n",
       "                   intercept_scaling=1, l1_ratio=None, max_iter=10000,\n",
       "                   multi_class='auto', n_jobs=None, penalty='l2',\n",
       "                   random_state=None, solver='lbfgs', tol=0.0001, verbose=0,\n",
       "                   warm_start=False)"
      ]
     },
     "execution_count": 31,
     "metadata": {},
     "output_type": "execute_result"
    }
   ],
   "source": [
    "X = dfd[['mintemp', 'maxtemp', 'rainfall', 'evaporation', 'sunshine',\n",
    "       'humidity9am', 'humidity3pm', 'pressure9am', 'pressure3pm', 'cloud9am',\n",
    "       'cloud3pm', 'temp9am', 'temp3pm', 'raintoday',\n",
    "       'temp', 'humidity', 'precipitation3pm',\n",
    "       'precipitation9am', 'windgustspeed', 'windspeed9am',\n",
    "       'windspeed3pm', 'windgustdir_0', 'windgustdir_E', 'windgustdir_ENE',\n",
    "       'windgustdir_ESE', 'windgustdir_N', 'windgustdir_NE', 'windgustdir_NNE',\n",
    "       'windgustdir_NNW', 'windgustdir_NW', 'windgustdir_S', 'windgustdir_SE',\n",
    "       'windgustdir_SSE', 'windgustdir_SSW', 'windgustdir_SW', 'windgustdir_W',\n",
    "       'windgustdir_WNW', 'windgustdir_WSW', 'winddir9am_0', 'winddir9am_E',\n",
    "       'winddir9am_ENE', 'winddir9am_ESE', 'winddir9am_N', 'winddir9am_NE',\n",
    "       'winddir9am_NNE', 'winddir9am_NNW', 'winddir9am_NW', 'winddir9am_S',\n",
    "       'winddir9am_SE', 'winddir9am_SSE', 'winddir9am_SSW', 'winddir9am_SW',\n",
    "       'winddir9am_W', 'winddir9am_WNW', 'winddir9am_WSW', 'winddir3pm_0',\n",
    "       'winddir3pm_E', 'winddir3pm_ENE', 'winddir3pm_ESE', 'winddir3pm_N',\n",
    "       'winddir3pm_NE', 'winddir3pm_NNE', 'winddir3pm_NNW', 'winddir3pm_NW',\n",
    "       'winddir3pm_S', 'winddir3pm_SE', 'winddir3pm_SSE', 'winddir3pm_SSW',\n",
    "       'winddir3pm_SW', 'winddir3pm_W', 'winddir3pm_WNW', 'winddir3pm_WSW']]\n",
    "y = dfd['raintomorrow']\n",
    "model = LogisticRegression(max_iter=10000)\n",
    "model.fit(X,y)"
   ]
  },
  {
   "cell_type": "code",
   "execution_count": 32,
   "metadata": {
    "hidden": true
   },
   "outputs": [
    {
     "data": {
      "text/plain": [
       "0.8517070964824445"
      ]
     },
     "execution_count": 32,
     "metadata": {},
     "output_type": "execute_result"
    }
   ],
   "source": [
    "model.score(X, y)"
   ]
  },
  {
   "cell_type": "code",
   "execution_count": 33,
   "metadata": {
    "hidden": true
   },
   "outputs": [
    {
     "data": {
      "text/plain": [
       "0.8494088765424123"
      ]
     },
     "execution_count": 33,
     "metadata": {},
     "output_type": "execute_result"
    }
   ],
   "source": [
    "X_train, X_test, y_train, y_test = train_test_split(X, y, test_size=0.75, random_state=7)\n",
    "model.score(X_train, y_train)"
   ]
  },
  {
   "cell_type": "code",
   "execution_count": 34,
   "metadata": {
    "hidden": true
   },
   "outputs": [
    {
     "data": {
      "text/plain": [
       "0.8524731368031181"
      ]
     },
     "execution_count": 34,
     "metadata": {},
     "output_type": "execute_result"
    }
   ],
   "source": [
    "model.score(X_test, y_test)"
   ]
  },
  {
   "cell_type": "code",
   "execution_count": 35,
   "metadata": {
    "hidden": true
   },
   "outputs": [
    {
     "data": {
      "image/png": "[encoded data removed]",
      "text/plain": [
       "<Figure size 432x288 with 2 Axes>"
      ]
     },
     "metadata": {
      "needs_background": "light"
     },
     "output_type": "display_data"
    }
   ],
   "source": [
    "plot_confusion_matrix(model, X_test, y_test, values_format='.0f')\n",
    "plt.grid(False)"
   ]
  },
  {
   "cell_type": "code",
   "execution_count": 36,
   "metadata": {
    "hidden": true
   },
   "outputs": [
    {
     "name": "stdout",
     "output_type": "stream",
     "text": [
      "Taxa de acerto: 0.7288453934361407\n",
      "Taxa de captura: 0.5338111786852012\n"
     ]
    }
   ],
   "source": [
    "print('Taxa de acerto:', + precision_score(y, model.predict(X)))\n",
    "print('Taxa de captura:', + recall_score(y, model.predict(X)))"
   ]
  },
  {
   "cell_type": "markdown",
   "metadata": {
    "heading_collapsed": true,
    "hidden": true
   },
   "source": [
    "## Cotovelos"
   ]
  },
  {
   "cell_type": "code",
   "execution_count": 37,
   "metadata": {
    "hidden": true
   },
   "outputs": [
    {
     "data": {
      "image/png": "[encoded data removed]",
      "text/plain": [
       "<Figure size 432x288 with 2 Axes>"
      ]
     },
     "metadata": {},
     "output_type": "display_data"
    },
    {
     "data": {
      "text/plain": [
       "<matplotlib.axes._subplots.AxesSubplot at 0x219d594a7c8>"
      ]
     },
     "execution_count": 37,
     "metadata": {},
     "output_type": "execute_result"
    }
   ],
   "source": [
    "model = KMeans()\n",
    "visualizer = KElbowVisualizer(model, k=(1,20))\n",
    "visualizer.fit(dfd)\n",
    "visualizer.show()"
   ]
  },
  {
   "cell_type": "code",
   "execution_count": 38,
   "metadata": {
    "hidden": true
   },
   "outputs": [
    {
     "data": {
      "text/plain": [
       "KMeans(algorithm='auto', copy_x=True, init='k-means++', max_iter=300,\n",
       "       n_clusters=5, n_init=10, n_jobs=None, precompute_distances='auto',\n",
       "       random_state=None, tol=0.0001, verbose=0)"
      ]
     },
     "execution_count": 38,
     "metadata": {},
     "output_type": "execute_result"
    }
   ],
   "source": [
    "model = KMeans(n_clusters=5)\n",
    "model.fit(X)"
   ]
  },
  {
   "cell_type": "code",
   "execution_count": 39,
   "metadata": {
    "hidden": true
   },
   "outputs": [],
   "source": [
    "dfd['labels'] = model.labels_"
   ]
  },
  {
   "cell_type": "code",
   "execution_count": 40,
   "metadata": {
    "hidden": true
   },
   "outputs": [],
   "source": [
    "modelo = LogisticRegression(max_iter=10000)"
   ]
  },
  {
   "cell_type": "markdown",
   "metadata": {
    "heading_collapsed": true,
    "hidden": true
   },
   "source": [
    "## Mascaras"
   ]
  },
  {
   "cell_type": "code",
   "execution_count": 41,
   "metadata": {
    "hidden": true
   },
   "outputs": [
    {
     "data": {
      "text/plain": [
       "LogisticRegression(C=1.0, class_weight=None, dual=False, fit_intercept=True,\n",
       "                   intercept_scaling=1, l1_ratio=None, max_iter=10000,\n",
       "                   multi_class='auto', n_jobs=None, penalty='l2',\n",
       "                   random_state=None, solver='lbfgs', tol=0.0001, verbose=0,\n",
       "                   warm_start=False)"
      ]
     },
     "execution_count": 41,
     "metadata": {},
     "output_type": "execute_result"
    }
   ],
   "source": [
    "mask = dfd['labels'] == 0\n",
    "X = dfd[mask].drop(columns=['raintomorrow', 'amountOfRain', 'modelo_vigente', 'labels']) \n",
    "y = dfd[mask]['raintomorrow']\n",
    "modelo.fit(X,y)"
   ]
  },
  {
   "cell_type": "code",
   "execution_count": 42,
   "metadata": {
    "hidden": true
   },
   "outputs": [
    {
     "data": {
      "text/plain": [
       "0.9440485924541525"
      ]
     },
     "execution_count": 42,
     "metadata": {},
     "output_type": "execute_result"
    }
   ],
   "source": [
    "modelo.score(X,y)"
   ]
  },
  {
   "cell_type": "code",
   "execution_count": 43,
   "metadata": {
    "hidden": true
   },
   "outputs": [
    {
     "data": {
      "text/plain": [
       "0.9397196261682244"
      ]
     },
     "execution_count": 43,
     "metadata": {},
     "output_type": "execute_result"
    }
   ],
   "source": [
    "X_train, X_test, y_train, y_test = train_test_split(X, y, test_size=0.75, random_state=7)\n",
    "modelo.score(X_train, y_train)"
   ]
  },
  {
   "cell_type": "code",
   "execution_count": 44,
   "metadata": {
    "hidden": true,
    "scrolled": true
   },
   "outputs": [
    {
     "data": {
      "text/plain": [
       "0.9454913564865286"
      ]
     },
     "execution_count": 44,
     "metadata": {},
     "output_type": "execute_result"
    }
   ],
   "source": [
    "modelo.score(X_test, y_test)"
   ]
  },
  {
   "cell_type": "markdown",
   "metadata": {
    "hidden": true
   },
   "source": [
    "**Fazer função para colocar labels nos 5**"
   ]
  },
  {
   "cell_type": "code",
   "execution_count": null,
   "metadata": {
    "hidden": true
   },
   "outputs": [],
   "source": [
    "for item in range(0,5):\n",
    "    mask[item] = dfd['labels'] == 0\n",
    "    X = dfd[mask[item]].drop(columns=['raintomorrow', 'amountOfRain', 'modelo_vigente', 'labels']) \n",
    "    y = dfd[mask[item]]['raintomorrow']\n",
    "    modelo[item].fit(X,y)"
   ]
  },
  {
   "cell_type": "markdown",
   "metadata": {},
   "source": [
    "# Não dropar o NaN do 'Rain'"
   ]
  },
  {
   "cell_type": "markdown",
   "metadata": {},
   "source": [
    "## Ler o dataframe e tratar"
   ]
  },
  {
   "cell_type": "code",
   "execution_count": 162,
   "metadata": {},
   "outputs": [],
   "source": [
    "rain = pd.read_csv('data/rain_data_aus.csv')\n",
    "rain.fillna(0)\n",
    "rain['raintoday'] = rain['raintoday'].replace('No', 0).replace('Yes', 1)\n",
    "rain['raintomorrow'] = rain['raintomorrow'].replace('No', 0).replace('Yes', 1)"
   ]
  },
  {
   "cell_type": "markdown",
   "metadata": {},
   "source": [
    "## Mesclar dataframes"
   ]
  },
  {
   "cell_type": "code",
   "execution_count": 163,
   "metadata": {},
   "outputs": [],
   "source": [
    "df = rain.merge(wind, on=['date','location'], how='left').drop_duplicates().drop(columns=['date', 'location']).fillna(0)"
   ]
  },
  {
   "cell_type": "markdown",
   "metadata": {},
   "source": [
    "## Dummies"
   ]
  },
  {
   "cell_type": "code",
   "execution_count": 164,
   "metadata": {},
   "outputs": [],
   "source": [
    "df = pd.get_dummies(df)"
   ]
  },
  {
   "cell_type": "code",
   "execution_count": 165,
   "metadata": {},
   "outputs": [],
   "source": [
    "df = df.sample(10000)"
   ]
  },
  {
   "cell_type": "code",
   "execution_count": 166,
   "metadata": {
    "scrolled": true
   },
   "outputs": [
    {
     "data": {
      "text/html": [
       "<div>\n",
       "<style scoped>\n",
       "    .dataframe tbody tr th:only-of-type {\n",
       "        vertical-align: middle;\n",
       "    }\n",
       "\n",
       "    .dataframe tbody tr th {\n",
       "        vertical-align: top;\n",
       "    }\n",
       "\n",
       "    .dataframe thead th {\n",
       "        text-align: right;\n",
       "    }\n",
       "</style>\n",
       "<table border=\"1\" class=\"dataframe\">\n",
       "  <thead>\n",
       "    <tr style=\"text-align: right;\">\n",
       "      <th></th>\n",
       "      <th>mintemp</th>\n",
       "      <th>maxtemp</th>\n",
       "      <th>rainfall</th>\n",
       "      <th>evaporation</th>\n",
       "      <th>sunshine</th>\n",
       "      <th>humidity9am</th>\n",
       "      <th>humidity3pm</th>\n",
       "      <th>pressure9am</th>\n",
       "      <th>pressure3pm</th>\n",
       "      <th>cloud9am</th>\n",
       "      <th>...</th>\n",
       "      <th>winddir3pm_NNW</th>\n",
       "      <th>winddir3pm_NW</th>\n",
       "      <th>winddir3pm_S</th>\n",
       "      <th>winddir3pm_SE</th>\n",
       "      <th>winddir3pm_SSE</th>\n",
       "      <th>winddir3pm_SSW</th>\n",
       "      <th>winddir3pm_SW</th>\n",
       "      <th>winddir3pm_W</th>\n",
       "      <th>winddir3pm_WNW</th>\n",
       "      <th>winddir3pm_WSW</th>\n",
       "    </tr>\n",
       "  </thead>\n",
       "  <tbody>\n",
       "    <tr>\n",
       "      <th>102665</th>\n",
       "      <td>7.1</td>\n",
       "      <td>15.0</td>\n",
       "      <td>4.0</td>\n",
       "      <td>0.6</td>\n",
       "      <td>3.5</td>\n",
       "      <td>97.0</td>\n",
       "      <td>82.0</td>\n",
       "      <td>1019.1</td>\n",
       "      <td>1018.8</td>\n",
       "      <td>0.0</td>\n",
       "      <td>...</td>\n",
       "      <td>0</td>\n",
       "      <td>0</td>\n",
       "      <td>0</td>\n",
       "      <td>0</td>\n",
       "      <td>0</td>\n",
       "      <td>0</td>\n",
       "      <td>0</td>\n",
       "      <td>0</td>\n",
       "      <td>1</td>\n",
       "      <td>0</td>\n",
       "    </tr>\n",
       "    <tr>\n",
       "      <th>7779</th>\n",
       "      <td>18.6</td>\n",
       "      <td>24.5</td>\n",
       "      <td>0.0</td>\n",
       "      <td>15.2</td>\n",
       "      <td>7.9</td>\n",
       "      <td>46.0</td>\n",
       "      <td>21.0</td>\n",
       "      <td>1016.0</td>\n",
       "      <td>1015.6</td>\n",
       "      <td>8.0</td>\n",
       "      <td>...</td>\n",
       "      <td>0</td>\n",
       "      <td>0</td>\n",
       "      <td>0</td>\n",
       "      <td>0</td>\n",
       "      <td>0</td>\n",
       "      <td>0</td>\n",
       "      <td>1</td>\n",
       "      <td>0</td>\n",
       "      <td>0</td>\n",
       "      <td>0</td>\n",
       "    </tr>\n",
       "    <tr>\n",
       "      <th>147690</th>\n",
       "      <td>6.0</td>\n",
       "      <td>15.8</td>\n",
       "      <td>3.2</td>\n",
       "      <td>0.0</td>\n",
       "      <td>10.3</td>\n",
       "      <td>72.0</td>\n",
       "      <td>46.0</td>\n",
       "      <td>1024.0</td>\n",
       "      <td>1022.8</td>\n",
       "      <td>1.0</td>\n",
       "      <td>...</td>\n",
       "      <td>0</td>\n",
       "      <td>0</td>\n",
       "      <td>1</td>\n",
       "      <td>0</td>\n",
       "      <td>0</td>\n",
       "      <td>0</td>\n",
       "      <td>0</td>\n",
       "      <td>0</td>\n",
       "      <td>0</td>\n",
       "      <td>0</td>\n",
       "    </tr>\n",
       "    <tr>\n",
       "      <th>173798</th>\n",
       "      <td>25.6</td>\n",
       "      <td>41.4</td>\n",
       "      <td>0.8</td>\n",
       "      <td>13.2</td>\n",
       "      <td>11.2</td>\n",
       "      <td>25.0</td>\n",
       "      <td>12.0</td>\n",
       "      <td>1011.3</td>\n",
       "      <td>1006.4</td>\n",
       "      <td>3.0</td>\n",
       "      <td>...</td>\n",
       "      <td>0</td>\n",
       "      <td>0</td>\n",
       "      <td>0</td>\n",
       "      <td>0</td>\n",
       "      <td>0</td>\n",
       "      <td>0</td>\n",
       "      <td>0</td>\n",
       "      <td>0</td>\n",
       "      <td>0</td>\n",
       "      <td>0</td>\n",
       "    </tr>\n",
       "    <tr>\n",
       "      <th>59037</th>\n",
       "      <td>2.7</td>\n",
       "      <td>16.1</td>\n",
       "      <td>0.0</td>\n",
       "      <td>3.4</td>\n",
       "      <td>0.0</td>\n",
       "      <td>56.0</td>\n",
       "      <td>39.0</td>\n",
       "      <td>1031.0</td>\n",
       "      <td>1027.9</td>\n",
       "      <td>1.0</td>\n",
       "      <td>...</td>\n",
       "      <td>0</td>\n",
       "      <td>0</td>\n",
       "      <td>0</td>\n",
       "      <td>0</td>\n",
       "      <td>0</td>\n",
       "      <td>0</td>\n",
       "      <td>0</td>\n",
       "      <td>0</td>\n",
       "      <td>0</td>\n",
       "      <td>0</td>\n",
       "    </tr>\n",
       "  </tbody>\n",
       "</table>\n",
       "<p>5 rows × 75 columns</p>\n",
       "</div>"
      ],
      "text/plain": [
       "        mintemp  maxtemp  rainfall  evaporation  sunshine  humidity9am  \\\n",
       "102665      7.1     15.0       4.0          0.6       3.5         97.0   \n",
       "7779       18.6     24.5       0.0         15.2       7.9         46.0   \n",
       "147690      6.0     15.8       3.2          0.0      10.3         72.0   \n",
       "173798     25.6     41.4       0.8         13.2      11.2         25.0   \n",
       "59037       2.7     16.1       0.0          3.4       0.0         56.0   \n",
       "\n",
       "        humidity3pm  pressure9am  pressure3pm  cloud9am  ...  winddir3pm_NNW  \\\n",
       "102665         82.0       1019.1       1018.8       0.0  ...               0   \n",
       "7779           21.0       1016.0       1015.6       8.0  ...               0   \n",
       "147690         46.0       1024.0       1022.8       1.0  ...               0   \n",
       "173798         12.0       1011.3       1006.4       3.0  ...               0   \n",
       "59037          39.0       1031.0       1027.9       1.0  ...               0   \n",
       "\n",
       "        winddir3pm_NW  winddir3pm_S  winddir3pm_SE  winddir3pm_SSE  \\\n",
       "102665              0             0              0               0   \n",
       "7779                0             0              0               0   \n",
       "147690              0             1              0               0   \n",
       "173798              0             0              0               0   \n",
       "59037               0             0              0               0   \n",
       "\n",
       "        winddir3pm_SSW  winddir3pm_SW  winddir3pm_W  winddir3pm_WNW  \\\n",
       "102665               0              0             0               1   \n",
       "7779                 0              1             0               0   \n",
       "147690               0              0             0               0   \n",
       "173798               0              0             0               0   \n",
       "59037                0              0             0               0   \n",
       "\n",
       "        winddir3pm_WSW  \n",
       "102665               0  \n",
       "7779                 0  \n",
       "147690               0  \n",
       "173798               0  \n",
       "59037                0  \n",
       "\n",
       "[5 rows x 75 columns]"
      ]
     },
     "execution_count": 166,
     "metadata": {},
     "output_type": "execute_result"
    }
   ],
   "source": [
    "df.head()"
   ]
  },
  {
   "cell_type": "code",
   "execution_count": null,
   "metadata": {},
   "outputs": [],
   "source": []
  },
  {
   "cell_type": "markdown",
   "metadata": {},
   "source": [
    "## Cotovelos"
   ]
  },
  {
   "cell_type": "code",
   "execution_count": 48,
   "metadata": {},
   "outputs": [
    {
     "data": {
      "image/png": "[encoded data removed]",
      "text/plain": [
       "<Figure size 432x288 with 2 Axes>"
      ]
     },
     "metadata": {},
     "output_type": "display_data"
    },
    {
     "data": {
      "text/plain": [
       "<matplotlib.axes._subplots.AxesSubplot at 0x219d4ac6408>"
      ]
     },
     "execution_count": 48,
     "metadata": {},
     "output_type": "execute_result"
    }
   ],
   "source": [
    "model = KMeans()\n",
    "visualizer = KElbowVisualizer(model, k=(1,20))\n",
    "visualizer.fit(df.drop(columns=['raintomorrow']))\n",
    "visualizer.show()"
   ]
  },
  {
   "cell_type": "code",
   "execution_count": 172,
   "metadata": {},
   "outputs": [
    {
     "data": {
      "text/plain": [
       "KMeans(algorithm='auto', copy_x=True, init='k-means++', max_iter=300,\n",
       "       n_clusters=2, n_init=10, n_jobs=-1, precompute_distances='auto',\n",
       "       random_state=None, tol=0.0001, verbose=0)"
      ]
     },
     "execution_count": 172,
     "metadata": {},
     "output_type": "execute_result"
    }
   ],
   "source": [
    "X = df[['mintemp', 'maxtemp', 'rainfall', 'evaporation', 'sunshine',\n",
    "       'humidity9am', 'humidity3pm', 'pressure9am', 'pressure3pm', 'cloud9am',\n",
    "       'cloud3pm', 'temp9am', 'temp3pm', 'raintoday', 'temp', 'humidity',\n",
    "       'precipitation3pm', 'precipitation9am',\n",
    "       'windgustspeed', 'windspeed9am', 'windspeed3pm', 'windgustdir_0',\n",
    "       'windgustdir_E', 'windgustdir_ENE', 'windgustdir_ESE', 'windgustdir_N',\n",
    "       'windgustdir_NE', 'windgustdir_NNE', 'windgustdir_NNW',\n",
    "       'windgustdir_NW', 'windgustdir_S', 'windgustdir_SE', 'windgustdir_SSE',\n",
    "       'windgustdir_SSW', 'windgustdir_SW', 'windgustdir_W', 'windgustdir_WNW',\n",
    "       'windgustdir_WSW', 'winddir9am_0', 'winddir9am_E', 'winddir9am_ENE',\n",
    "       'winddir9am_ESE', 'winddir9am_N', 'winddir9am_NE', 'winddir9am_NNE',\n",
    "       'winddir9am_NNW', 'winddir9am_NW', 'winddir9am_S', 'winddir9am_SE',\n",
    "       'winddir9am_SSE', 'winddir9am_SSW', 'winddir9am_SW', 'winddir9am_W',\n",
    "       'winddir9am_WNW', 'winddir9am_WSW', 'winddir3pm_0', 'winddir3pm_E',\n",
    "       'winddir3pm_ENE', 'winddir3pm_ESE', 'winddir3pm_N', 'winddir3pm_NE',\n",
    "       'winddir3pm_NNE', 'winddir3pm_NNW', 'winddir3pm_NW', 'winddir3pm_S',\n",
    "       'winddir3pm_SE', 'winddir3pm_SSE', 'winddir3pm_SSW', 'winddir3pm_SW',\n",
    "       'winddir3pm_W', 'winddir3pm_WNW', 'winddir3pm_WSW']]\n",
    "model = KMeans(n_clusters=2, n_jobs=-1)\n",
    "model.fit(X)"
   ]
  },
  {
   "cell_type": "code",
   "execution_count": 173,
   "metadata": {},
   "outputs": [],
   "source": [
    "df['labels'] = model.labels_"
   ]
  },
  {
   "cell_type": "markdown",
   "metadata": {},
   "source": [
    "## Labels"
   ]
  },
  {
   "cell_type": "markdown",
   "metadata": {},
   "source": [
    "### Labels == 0"
   ]
  },
  {
   "cell_type": "code",
   "execution_count": 174,
   "metadata": {},
   "outputs": [],
   "source": [
    "modelo = LogisticRegression(max_iter=10000)"
   ]
  },
  {
   "cell_type": "code",
   "execution_count": 175,
   "metadata": {},
   "outputs": [
    {
     "data": {
      "text/plain": [
       "LogisticRegression(C=1.0, class_weight=None, dual=False, fit_intercept=True,\n",
       "                   intercept_scaling=1, l1_ratio=None, max_iter=10000,\n",
       "                   multi_class='auto', n_jobs=None, penalty='l2',\n",
       "                   random_state=None, solver='lbfgs', tol=0.0001, verbose=0,\n",
       "                   warm_start=False)"
      ]
     },
     "execution_count": 175,
     "metadata": {},
     "output_type": "execute_result"
    }
   ],
   "source": [
    "mask = df['labels'] == 0\n",
    "X = df[mask].drop(columns=['raintomorrow', 'amountOfRain', 'modelo_vigente'])\n",
    "y = df[mask]['raintomorrow']\n",
    "modelo.fit(X,y)"
   ]
  },
  {
   "cell_type": "code",
   "execution_count": 176,
   "metadata": {},
   "outputs": [
    {
     "data": {
      "text/plain": [
       "0.8428318975038657"
      ]
     },
     "execution_count": 176,
     "metadata": {},
     "output_type": "execute_result"
    }
   ],
   "source": [
    "modelo.score(X,y)"
   ]
  },
  {
   "cell_type": "code",
   "execution_count": 35,
   "metadata": {},
   "outputs": [
    {
     "data": {
      "text/plain": [
       "0.8379096545615589"
      ]
     },
     "execution_count": 35,
     "metadata": {},
     "output_type": "execute_result"
    }
   ],
   "source": [
    "X_train, X_test, y_train, y_test = train_test_split(X, y, test_size=0.75, random_state=7)\n",
    "modelo.score(X_train, y_train)"
   ]
  },
  {
   "cell_type": "code",
   "execution_count": 36,
   "metadata": {},
   "outputs": [
    {
     "data": {
      "text/plain": [
       "0.8417712177121771"
      ]
     },
     "execution_count": 36,
     "metadata": {},
     "output_type": "execute_result"
    }
   ],
   "source": [
    "modelo.score(X_test, y_test)"
   ]
  },
  {
   "cell_type": "code",
   "execution_count": 32,
   "metadata": {
    "collapsed": true
   },
   "outputs": [
    {
     "data": {
      "text/html": [
       "<div>\n",
       "<style scoped>\n",
       "    .dataframe tbody tr th:only-of-type {\n",
       "        vertical-align: middle;\n",
       "    }\n",
       "\n",
       "    .dataframe tbody tr th {\n",
       "        vertical-align: top;\n",
       "    }\n",
       "\n",
       "    .dataframe thead th {\n",
       "        text-align: right;\n",
       "    }\n",
       "</style>\n",
       "<table border=\"1\" class=\"dataframe\">\n",
       "  <thead>\n",
       "    <tr style=\"text-align: right;\">\n",
       "      <th></th>\n",
       "      <th>Coef</th>\n",
       "      <th>Var</th>\n",
       "    </tr>\n",
       "  </thead>\n",
       "  <tbody>\n",
       "    <tr>\n",
       "      <th>46</th>\n",
       "      <td>-0.533520</td>\n",
       "      <td>winddir9am_NNE</td>\n",
       "    </tr>\n",
       "    <tr>\n",
       "      <th>58</th>\n",
       "      <td>-0.426807</td>\n",
       "      <td>winddir3pm_E</td>\n",
       "    </tr>\n",
       "    <tr>\n",
       "      <th>33</th>\n",
       "      <td>-0.406038</td>\n",
       "      <td>windgustdir_SE</td>\n",
       "    </tr>\n",
       "    <tr>\n",
       "      <th>47</th>\n",
       "      <td>-0.384480</td>\n",
       "      <td>winddir9am_NNW</td>\n",
       "    </tr>\n",
       "    <tr>\n",
       "      <th>66</th>\n",
       "      <td>-0.378623</td>\n",
       "      <td>winddir3pm_S</td>\n",
       "    </tr>\n",
       "    <tr>\n",
       "      <th>...</th>\n",
       "      <td>...</td>\n",
       "      <td>...</td>\n",
       "    </tr>\n",
       "    <tr>\n",
       "      <th>67</th>\n",
       "      <td>0.397753</td>\n",
       "      <td>winddir3pm_SE</td>\n",
       "    </tr>\n",
       "    <tr>\n",
       "      <th>35</th>\n",
       "      <td>0.438588</td>\n",
       "      <td>windgustdir_SSW</td>\n",
       "    </tr>\n",
       "    <tr>\n",
       "      <th>68</th>\n",
       "      <td>0.599490</td>\n",
       "      <td>winddir3pm_SSE</td>\n",
       "    </tr>\n",
       "    <tr>\n",
       "      <th>19</th>\n",
       "      <td>4.047357</td>\n",
       "      <td>modelo_vigente</td>\n",
       "    </tr>\n",
       "    <tr>\n",
       "      <th>14</th>\n",
       "      <td>8.501352</td>\n",
       "      <td>amountOfRain</td>\n",
       "    </tr>\n",
       "  </tbody>\n",
       "</table>\n",
       "<p>75 rows × 2 columns</p>\n",
       "</div>"
      ],
      "text/plain": [
       "        Coef              Var\n",
       "46 -0.533520   winddir9am_NNE\n",
       "58 -0.426807     winddir3pm_E\n",
       "33 -0.406038   windgustdir_SE\n",
       "47 -0.384480   winddir9am_NNW\n",
       "66 -0.378623     winddir3pm_S\n",
       "..       ...              ...\n",
       "67  0.397753    winddir3pm_SE\n",
       "35  0.438588  windgustdir_SSW\n",
       "68  0.599490   winddir3pm_SSE\n",
       "19  4.047357   modelo_vigente\n",
       "14  8.501352     amountOfRain\n",
       "\n",
       "[75 rows x 2 columns]"
      ]
     },
     "execution_count": 32,
     "metadata": {},
     "output_type": "execute_result"
    }
   ],
   "source": [
    "pandas = pd.DataFrame(zip(modelo.coef_ [0], X.columns), columns=['Coef', 'Var']).sort_values(by='Coef')\n",
    "pandas"
   ]
  },
  {
   "cell_type": "code",
   "execution_count": 38,
   "metadata": {},
   "outputs": [
    {
     "name": "stdout",
     "output_type": "stream",
     "text": [
      "Taxa de acerto: 0.7178545187362234\n",
      "Taxa de captura: 0.4810438207779419\n"
     ]
    }
   ],
   "source": [
    "print('Taxa de acerto:', + precision_score(y, modelo.predict(X)))\n",
    "print('Taxa de captura:', + recall_score(y, modelo.predict(X)))"
   ]
  },
  {
   "cell_type": "code",
   "execution_count": 39,
   "metadata": {
    "scrolled": true
   },
   "outputs": [
    {
     "data": {
      "image/png": "[encoded data removed]",
      "text/plain": [
       "<Figure size 432x288 with 2 Axes>"
      ]
     },
     "metadata": {
      "needs_background": "light"
     },
     "output_type": "display_data"
    }
   ],
   "source": [
    "plot_confusion_matrix(modelo, X_test, y_test, values_format='.0f')\n",
    "plt.grid(False)"
   ]
  },
  {
   "cell_type": "code",
   "execution_count": 40,
   "metadata": {},
   "outputs": [
    {
     "name": "stderr",
     "output_type": "stream",
     "text": [
      "C:\\Users\\yukar\\Anaconda3\\lib\\site-packages\\ipykernel_launcher.py:4: UserWarning: Matplotlib is currently using module://ipykernel.pylab.backend_inline, which is a non-GUI backend, so cannot show the figure.\n",
      "  after removing the cwd from sys.path.\n"
     ]
    },
    {
     "data": {
      "image/png": "[encoded data removed]",
      "text/plain": [
       "<Figure size 432x288 with 2 Axes>"
      ]
     },
     "metadata": {
      "needs_background": "light"
     },
     "output_type": "display_data"
    }
   ],
   "source": [
    "fig, ax =plt.subplots(1,2)\n",
    "sns.countplot(y_test, ax=ax[0])\n",
    "sns.countplot(y_train, ax=ax[1])\n",
    "fig.show()"
   ]
  },
  {
   "cell_type": "markdown",
   "metadata": {},
   "source": [
    "### Labels == 1"
   ]
  },
  {
   "cell_type": "code",
   "execution_count": 41,
   "metadata": {},
   "outputs": [
    {
     "data": {
      "text/plain": [
       "LogisticRegression(C=1.0, class_weight=None, dual=False, fit_intercept=True,\n",
       "                   intercept_scaling=1, l1_ratio=None, max_iter=10000,\n",
       "                   multi_class='auto', n_jobs=None, penalty='l2',\n",
       "                   random_state=None, solver='lbfgs', tol=0.0001, verbose=0,\n",
       "                   warm_start=False)"
      ]
     },
     "execution_count": 41,
     "metadata": {},
     "output_type": "execute_result"
    }
   ],
   "source": [
    "mask1 = df['labels'] == 1\n",
    "X = df[mask1].drop(columns=['raintomorrow', 'amountOfRain', 'modelo_vigente'])\n",
    "y = df[mask1]['raintomorrow']\n",
    "modelo.fit(X,y)"
   ]
  },
  {
   "cell_type": "code",
   "execution_count": 42,
   "metadata": {},
   "outputs": [
    {
     "data": {
      "text/plain": [
       "0.8355739400206825"
      ]
     },
     "execution_count": 42,
     "metadata": {},
     "output_type": "execute_result"
    }
   ],
   "source": [
    "modelo.score(X,y)"
   ]
  },
  {
   "cell_type": "code",
   "execution_count": 43,
   "metadata": {},
   "outputs": [
    {
     "data": {
      "text/plain": [
       "0.8340248962655602"
      ]
     },
     "execution_count": 43,
     "metadata": {},
     "output_type": "execute_result"
    }
   ],
   "source": [
    "X_train, X_test, y_train, y_test = train_test_split(X, y, test_size=0.75, random_state=7)\n",
    "modelo.score(X_train, y_train)"
   ]
  },
  {
   "cell_type": "code",
   "execution_count": 44,
   "metadata": {},
   "outputs": [
    {
     "data": {
      "text/plain": [
       "0.8360881542699724"
      ]
     },
     "execution_count": 44,
     "metadata": {},
     "output_type": "execute_result"
    }
   ],
   "source": [
    "modelo.score(X_test, y_test)"
   ]
  },
  {
   "cell_type": "code",
   "execution_count": 47,
   "metadata": {},
   "outputs": [
    {
     "name": "stdout",
     "output_type": "stream",
     "text": [
      "Taxa de acerto: 0.6986301369863014\n",
      "Taxa de captura: 0.4700460829493088\n"
     ]
    }
   ],
   "source": [
    "print('Taxa de acerto:', + precision_score(y, modelo.predict(X)))\n",
    "print('Taxa de captura:', + recall_score(y, modelo.predict(X)))"
   ]
  },
  {
   "cell_type": "code",
   "execution_count": 45,
   "metadata": {},
   "outputs": [
    {
     "data": {
      "image/png": "[encoded data removed]",
      "text/plain": [
       "<Figure size 432x288 with 2 Axes>"
      ]
     },
     "metadata": {
      "needs_background": "light"
     },
     "output_type": "display_data"
    }
   ],
   "source": [
    "plot_confusion_matrix(modelo, X_test, y_test, values_format='.0f')\n",
    "plt.grid(False)"
   ]
  },
  {
   "cell_type": "code",
   "execution_count": 46,
   "metadata": {
    "scrolled": true
   },
   "outputs": [
    {
     "name": "stderr",
     "output_type": "stream",
     "text": [
      "C:\\Users\\yukar\\Anaconda3\\lib\\site-packages\\ipykernel_launcher.py:4: UserWarning: Matplotlib is currently using module://ipykernel.pylab.backend_inline, which is a non-GUI backend, so cannot show the figure.\n",
      "  after removing the cwd from sys.path.\n"
     ]
    },
    {
     "data": {
      "image/png": "[encoded data removed]",
      "text/plain": [
       "<Figure size 432x288 with 2 Axes>"
      ]
     },
     "metadata": {
      "needs_background": "light"
     },
     "output_type": "display_data"
    }
   ],
   "source": [
    "fig, ax =plt.subplots(1,2)\n",
    "sns.countplot(y_test, ax=ax[0])\n",
    "sns.countplot(y_train, ax=ax[1])\n",
    "fig.show()"
   ]
  },
  {
   "cell_type": "markdown",
   "metadata": {},
   "source": [
    "**O dataset está desbalanceado. Por exemplo: 1/3 do valor é que vai chover (1), então tem que ser equilibrados.**"
   ]
  },
  {
   "cell_type": "markdown",
   "metadata": {},
   "source": [
    "# Balancear o DataFrame"
   ]
  },
  {
   "cell_type": "code",
   "execution_count": 48,
   "metadata": {},
   "outputs": [],
   "source": [
    "X = df[['mintemp', 'maxtemp', 'rainfall', 'evaporation', 'sunshine',\n",
    "       'humidity9am', 'humidity3pm', 'pressure9am', 'pressure3pm', 'cloud9am',\n",
    "       'cloud3pm', 'temp9am', 'temp3pm', 'raintoday', 'temp', 'humidity',\n",
    "       'precipitation3pm', 'precipitation9am',\n",
    "       'windgustspeed', 'windspeed9am', 'windspeed3pm', 'windgustdir_0',\n",
    "       'windgustdir_E', 'windgustdir_ENE', 'windgustdir_ESE', 'windgustdir_N',\n",
    "       'windgustdir_NE', 'windgustdir_NNE', 'windgustdir_NNW',\n",
    "       'windgustdir_NW', 'windgustdir_S', 'windgustdir_SE', 'windgustdir_SSE',\n",
    "       'windgustdir_SSW', 'windgustdir_SW', 'windgustdir_W', 'windgustdir_WNW',\n",
    "       'windgustdir_WSW', 'winddir9am_0', 'winddir9am_E', 'winddir9am_ENE',\n",
    "       'winddir9am_ESE', 'winddir9am_N', 'winddir9am_NE', 'winddir9am_NNE',\n",
    "       'winddir9am_NNW', 'winddir9am_NW', 'winddir9am_S', 'winddir9am_SE',\n",
    "       'winddir9am_SSE', 'winddir9am_SSW', 'winddir9am_SW', 'winddir9am_W',\n",
    "       'winddir9am_WNW', 'winddir9am_WSW', 'winddir3pm_0', 'winddir3pm_E',\n",
    "       'winddir3pm_ENE', 'winddir3pm_ESE', 'winddir3pm_N', 'winddir3pm_NE',\n",
    "       'winddir3pm_NNE', 'winddir3pm_NNW', 'winddir3pm_NW', 'winddir3pm_S',\n",
    "       'winddir3pm_SE', 'winddir3pm_SSE', 'winddir3pm_SSW', 'winddir3pm_SW',\n",
    "       'winddir3pm_W', 'winddir3pm_WNW', 'winddir3pm_WSW']]\n",
    "y = df['raintomorrow']"
   ]
  },
  {
   "cell_type": "code",
   "execution_count": 49,
   "metadata": {},
   "outputs": [],
   "source": [
    "rus = RandomUnderSampler(random_state=7)\n",
    "X_resampled, y_resampled = rus.fit_resample(X, y)"
   ]
  },
  {
   "cell_type": "code",
   "execution_count": 50,
   "metadata": {},
   "outputs": [
    {
     "data": {
      "text/plain": [
       "1    2248\n",
       "0    2248\n",
       "Name: raintomorrow, dtype: int64"
      ]
     },
     "execution_count": 50,
     "metadata": {},
     "output_type": "execute_result"
    }
   ],
   "source": [
    "y_resampled.value_counts()"
   ]
  },
  {
   "cell_type": "markdown",
   "metadata": {
    "heading_collapsed": true
   },
   "source": [
    "## Regressão Logística"
   ]
  },
  {
   "cell_type": "code",
   "execution_count": 10,
   "metadata": {
    "hidden": true,
    "scrolled": true
   },
   "outputs": [
    {
     "data": {
      "text/plain": [
       "LogisticRegression(C=1.0, class_weight=None, dual=False, fit_intercept=True,\n",
       "                   intercept_scaling=1, l1_ratio=None, max_iter=10000,\n",
       "                   multi_class='auto', n_jobs=None, penalty='l2',\n",
       "                   random_state=None, solver='lbfgs', tol=0.0001, verbose=0,\n",
       "                   warm_start=False)"
      ]
     },
     "execution_count": 10,
     "metadata": {},
     "output_type": "execute_result"
    }
   ],
   "source": [
    "model = LogisticRegression(max_iter=10000)\n",
    "model.fit(X_resampled, y_resampled)"
   ]
  },
  {
   "cell_type": "code",
   "execution_count": 11,
   "metadata": {
    "hidden": true
   },
   "outputs": [
    {
     "data": {
      "text/plain": [
       "0.7700693289832795"
      ]
     },
     "execution_count": 11,
     "metadata": {},
     "output_type": "execute_result"
    }
   ],
   "source": [
    "model.score(X_resampled, y_resampled)"
   ]
  },
  {
   "cell_type": "code",
   "execution_count": 12,
   "metadata": {
    "hidden": true,
    "scrolled": true
   },
   "outputs": [
    {
     "data": {
      "text/plain": [
       "0.7752941928882067"
      ]
     },
     "execution_count": 12,
     "metadata": {},
     "output_type": "execute_result"
    }
   ],
   "source": [
    "precision_score(y_resampled, model.predict(X_resampled))"
   ]
  },
  {
   "cell_type": "markdown",
   "metadata": {},
   "source": [
    "## Cotovelos"
   ]
  },
  {
   "cell_type": "code",
   "execution_count": 51,
   "metadata": {},
   "outputs": [],
   "source": [
    "X_resampled['raintomorrow'] = y_resampled\n",
    "sample = X_resampled"
   ]
  },
  {
   "cell_type": "code",
   "execution_count": 70,
   "metadata": {},
   "outputs": [
    {
     "data": {
      "image/png": "[encoded data removed]",
      "text/plain": [
       "<Figure size 432x288 with 2 Axes>"
      ]
     },
     "metadata": {},
     "output_type": "display_data"
    },
    {
     "data": {
      "text/plain": [
       "<matplotlib.axes._subplots.AxesSubplot at 0x219d4eaa3c8>"
      ]
     },
     "execution_count": 70,
     "metadata": {},
     "output_type": "execute_result"
    }
   ],
   "source": [
    "model = KMeans()\n",
    "visualizer = KElbowVisualizer(model, k=(1,20))\n",
    "visualizer.fit(sample)\n",
    "visualizer.show()"
   ]
  },
  {
   "cell_type": "code",
   "execution_count": 52,
   "metadata": {},
   "outputs": [],
   "source": [
    "X = sample[['mintemp', 'maxtemp', 'rainfall', 'evaporation', 'sunshine',\n",
    "       'humidity9am', 'humidity3pm', 'pressure9am', 'pressure3pm', 'cloud9am',\n",
    "       'cloud3pm', 'temp9am', 'temp3pm', 'raintoday', 'temp', 'humidity',\n",
    "       'precipitation3pm', 'precipitation9am', 'windgustspeed', 'windspeed9am',\n",
    "       'windspeed3pm', 'windgustdir_0', 'windgustdir_E', 'windgustdir_ENE',\n",
    "       'windgustdir_ESE', 'windgustdir_N', 'windgustdir_NE', 'windgustdir_NNE',\n",
    "       'windgustdir_NNW', 'windgustdir_NW', 'windgustdir_S', 'windgustdir_SE',\n",
    "       'windgustdir_SSE', 'windgustdir_SSW', 'windgustdir_SW', 'windgustdir_W',\n",
    "       'windgustdir_WNW', 'windgustdir_WSW', 'winddir9am_0', 'winddir9am_E',\n",
    "       'winddir9am_ENE', 'winddir9am_ESE', 'winddir9am_N', 'winddir9am_NE',\n",
    "       'winddir9am_NNE', 'winddir9am_NNW', 'winddir9am_NW', 'winddir9am_S',\n",
    "       'winddir9am_SE', 'winddir9am_SSE', 'winddir9am_SSW', 'winddir9am_SW',\n",
    "       'winddir9am_W', 'winddir9am_WNW', 'winddir9am_WSW', 'winddir3pm_0',\n",
    "       'winddir3pm_E', 'winddir3pm_ENE', 'winddir3pm_ESE', 'winddir3pm_N',\n",
    "       'winddir3pm_NE', 'winddir3pm_NNE', 'winddir3pm_NNW', 'winddir3pm_NW',\n",
    "       'winddir3pm_S', 'winddir3pm_SE', 'winddir3pm_SSE', 'winddir3pm_SSW',\n",
    "       'winddir3pm_SW', 'winddir3pm_W', 'winddir3pm_WNW', 'winddir3pm_WSW']]\n",
    "y = sample['raintomorrow']"
   ]
  },
  {
   "cell_type": "code",
   "execution_count": 53,
   "metadata": {},
   "outputs": [
    {
     "data": {
      "text/plain": [
       "KMeans(algorithm='auto', copy_x=True, init='k-means++', max_iter=300,\n",
       "       n_clusters=2, n_init=10, n_jobs=None, precompute_distances='auto',\n",
       "       random_state=None, tol=0.0001, verbose=0)"
      ]
     },
     "execution_count": 53,
     "metadata": {},
     "output_type": "execute_result"
    }
   ],
   "source": [
    "model = KMeans(n_clusters=2)\n",
    "model.fit(X)"
   ]
  },
  {
   "cell_type": "code",
   "execution_count": 54,
   "metadata": {},
   "outputs": [],
   "source": [
    "sample['labels'] = model.labels_"
   ]
  },
  {
   "cell_type": "markdown",
   "metadata": {},
   "source": [
    "## Labels"
   ]
  },
  {
   "cell_type": "markdown",
   "metadata": {},
   "source": [
    "### Labels == 0"
   ]
  },
  {
   "cell_type": "code",
   "execution_count": 55,
   "metadata": {},
   "outputs": [
    {
     "data": {
      "text/plain": [
       "LogisticRegression(C=1.0, class_weight=None, dual=False, fit_intercept=True,\n",
       "                   intercept_scaling=1, l1_ratio=None, max_iter=10000,\n",
       "                   multi_class='auto', n_jobs=None, penalty='l2',\n",
       "                   random_state=None, solver='lbfgs', tol=0.0001, verbose=0,\n",
       "                   warm_start=False)"
      ]
     },
     "execution_count": 55,
     "metadata": {},
     "output_type": "execute_result"
    }
   ],
   "source": [
    "mask = sample['labels'] == 0\n",
    "X = sample[mask].drop(columns=['raintomorrow'])\n",
    "y = sample[mask]['raintomorrow']\n",
    "modelo.fit(X,y)"
   ]
  },
  {
   "cell_type": "code",
   "execution_count": 56,
   "metadata": {},
   "outputs": [
    {
     "data": {
      "text/plain": [
       "0.7838304165639636"
      ]
     },
     "execution_count": 56,
     "metadata": {},
     "output_type": "execute_result"
    }
   ],
   "source": [
    "modelo.score(X,y)"
   ]
  },
  {
   "cell_type": "code",
   "execution_count": 57,
   "metadata": {},
   "outputs": [
    {
     "data": {
      "text/plain": [
       "0.7761341222879684"
      ]
     },
     "execution_count": 57,
     "metadata": {},
     "output_type": "execute_result"
    }
   ],
   "source": [
    "X_train, X_test, y_train, y_test = train_test_split(X, y, test_size=0.75, random_state=7)\n",
    "modelo.score(X_train, y_train)"
   ]
  },
  {
   "cell_type": "code",
   "execution_count": 58,
   "metadata": {},
   "outputs": [
    {
     "data": {
      "text/plain": [
       "0.786395004929346"
      ]
     },
     "execution_count": 58,
     "metadata": {},
     "output_type": "execute_result"
    }
   ],
   "source": [
    "modelo.score(X_test, y_test)"
   ]
  },
  {
   "cell_type": "code",
   "execution_count": 59,
   "metadata": {},
   "outputs": [
    {
     "name": "stdout",
     "output_type": "stream",
     "text": [
      "Taxa de acerto: 0.7843426883308715\n",
      "Taxa de captura: 0.7839566929133859\n"
     ]
    }
   ],
   "source": [
    "print('Taxa de acerto:', + precision_score(y, modelo.predict(X)))\n",
    "print('Taxa de captura:', + recall_score(y, modelo.predict(X)))"
   ]
  },
  {
   "cell_type": "code",
   "execution_count": 60,
   "metadata": {},
   "outputs": [
    {
     "data": {
      "image/png": "[encoded data removed]",
      "text/plain": [
       "<Figure size 432x288 with 2 Axes>"
      ]
     },
     "metadata": {
      "needs_background": "light"
     },
     "output_type": "display_data"
    }
   ],
   "source": [
    "plot_confusion_matrix(modelo, X_test, y_test, values_format='.0f')\n",
    "plt.grid(False)"
   ]
  },
  {
   "cell_type": "code",
   "execution_count": 61,
   "metadata": {},
   "outputs": [
    {
     "name": "stderr",
     "output_type": "stream",
     "text": [
      "C:\\Users\\yukar\\Anaconda3\\lib\\site-packages\\ipykernel_launcher.py:4: UserWarning: Matplotlib is currently using module://ipykernel.pylab.backend_inline, which is a non-GUI backend, so cannot show the figure.\n",
      "  after removing the cwd from sys.path.\n"
     ]
    },
    {
     "data": {
      "image/png": "[encoded data removed]",
      "text/plain": [
       "<Figure size 432x288 with 2 Axes>"
      ]
     },
     "metadata": {
      "needs_background": "light"
     },
     "output_type": "display_data"
    }
   ],
   "source": [
    "fig, ax =plt.subplots(1,2)\n",
    "sns.countplot(y_test, ax=ax[0])\n",
    "sns.countplot(y_train, ax=ax[1])\n",
    "fig.show()"
   ]
  },
  {
   "cell_type": "markdown",
   "metadata": {},
   "source": [
    "### Labels == 1"
   ]
  },
  {
   "cell_type": "code",
   "execution_count": 62,
   "metadata": {},
   "outputs": [
    {
     "data": {
      "text/plain": [
       "LogisticRegression(C=1.0, class_weight=None, dual=False, fit_intercept=True,\n",
       "                   intercept_scaling=1, l1_ratio=None, max_iter=10000,\n",
       "                   multi_class='auto', n_jobs=None, penalty='l2',\n",
       "                   random_state=None, solver='lbfgs', tol=0.0001, verbose=0,\n",
       "                   warm_start=False)"
      ]
     },
     "execution_count": 62,
     "metadata": {},
     "output_type": "execute_result"
    }
   ],
   "source": [
    "mask1 = sample['labels'] == 1\n",
    "X = sample[mask1].drop(columns=['raintomorrow'])\n",
    "y = sample[mask1]['raintomorrow']\n",
    "modelo.fit(X,y)"
   ]
  },
  {
   "cell_type": "code",
   "execution_count": 63,
   "metadata": {},
   "outputs": [
    {
     "data": {
      "text/plain": [
       "0.7995444191343963"
      ]
     },
     "execution_count": 63,
     "metadata": {},
     "output_type": "execute_result"
    }
   ],
   "source": [
    "modelo.score(X,y)"
   ]
  },
  {
   "cell_type": "code",
   "execution_count": 64,
   "metadata": {},
   "outputs": [
    {
     "data": {
      "text/plain": [
       "0.7798165137614679"
      ]
     },
     "execution_count": 64,
     "metadata": {},
     "output_type": "execute_result"
    }
   ],
   "source": [
    "X_train, X_test, y_train, y_test = train_test_split(X, y, test_size=0.75, random_state=7)\n",
    "modelo.score(X_train, y_train)"
   ]
  },
  {
   "cell_type": "code",
   "execution_count": 65,
   "metadata": {},
   "outputs": [
    {
     "data": {
      "text/plain": [
       "0.806060606060606"
      ]
     },
     "execution_count": 65,
     "metadata": {},
     "output_type": "execute_result"
    }
   ],
   "source": [
    "modelo.score(X_test, y_test)"
   ]
  },
  {
   "cell_type": "code",
   "execution_count": 66,
   "metadata": {},
   "outputs": [
    {
     "name": "stdout",
     "output_type": "stream",
     "text": [
      "Taxa de acerto: 0.7962962962962963\n",
      "Taxa de captura: 0.7962962962962963\n"
     ]
    }
   ],
   "source": [
    "print('Taxa de acerto:', + precision_score(y, modelo.predict(X)))\n",
    "print('Taxa de captura:', + recall_score(y, modelo.predict(X)))"
   ]
  },
  {
   "cell_type": "code",
   "execution_count": 67,
   "metadata": {},
   "outputs": [
    {
     "data": {
      "image/png": "[encoded data removed]",
      "text/plain": [
       "<Figure size 432x288 with 2 Axes>"
      ]
     },
     "metadata": {
      "needs_background": "light"
     },
     "output_type": "display_data"
    }
   ],
   "source": [
    "plot_confusion_matrix(modelo, X_test, y_test, values_format='.0f')\n",
    "plt.grid(False)"
   ]
  },
  {
   "cell_type": "code",
   "execution_count": 68,
   "metadata": {},
   "outputs": [
    {
     "name": "stderr",
     "output_type": "stream",
     "text": [
      "C:\\Users\\yukar\\Anaconda3\\lib\\site-packages\\ipykernel_launcher.py:4: UserWarning: Matplotlib is currently using module://ipykernel.pylab.backend_inline, which is a non-GUI backend, so cannot show the figure.\n",
      "  after removing the cwd from sys.path.\n"
     ]
    },
    {
     "data": {
      "image/png": "[encoded data removed]",
      "text/plain": [
       "<Figure size 432x288 with 2 Axes>"
      ]
     },
     "metadata": {
      "needs_background": "light"
     },
     "output_type": "display_data"
    }
   ],
   "source": [
    "fig, ax =plt.subplots(1,2)\n",
    "sns.countplot(y_test, ax=ax[0])\n",
    "sns.countplot(y_train, ax=ax[1])\n",
    "fig.show()"
   ]
  },
  {
   "cell_type": "markdown",
   "metadata": {
    "heading_collapsed": true
   },
   "source": [
    "## KNN"
   ]
  },
  {
   "cell_type": "code",
   "execution_count": 14,
   "metadata": {
    "hidden": true
   },
   "outputs": [],
   "source": [
    "X = sample[['mintemp', 'maxtemp', 'rainfall', 'evaporation', 'sunshine',\n",
    "       'humidity9am', 'humidity3pm', 'pressure9am', 'pressure3pm', 'cloud9am',\n",
    "       'cloud3pm', 'temp9am', 'temp3pm', 'raintoday', 'temp', 'humidity',\n",
    "       'precipitation3pm', 'precipitation9am', 'windgustspeed', 'windspeed9am',\n",
    "       'windspeed3pm', 'windgustdir_0', 'windgustdir_E', 'windgustdir_ENE',\n",
    "       'windgustdir_ESE', 'windgustdir_N', 'windgustdir_NE', 'windgustdir_NNE',\n",
    "       'windgustdir_NNW', 'windgustdir_NW', 'windgustdir_S', 'windgustdir_SE',\n",
    "       'windgustdir_SSE', 'windgustdir_SSW', 'windgustdir_SW', 'windgustdir_W',\n",
    "       'windgustdir_WNW', 'windgustdir_WSW', 'winddir9am_0', 'winddir9am_E',\n",
    "       'winddir9am_ENE', 'winddir9am_ESE', 'winddir9am_N', 'winddir9am_NE',\n",
    "       'winddir9am_NNE', 'winddir9am_NNW', 'winddir9am_NW', 'winddir9am_S',\n",
    "       'winddir9am_SE', 'winddir9am_SSE', 'winddir9am_SSW', 'winddir9am_SW',\n",
    "       'winddir9am_W', 'winddir9am_WNW', 'winddir9am_WSW', 'winddir3pm_0',\n",
    "       'winddir3pm_E', 'winddir3pm_ENE', 'winddir3pm_ESE', 'winddir3pm_N',\n",
    "       'winddir3pm_NE', 'winddir3pm_NNE', 'winddir3pm_NNW', 'winddir3pm_NW',\n",
    "       'winddir3pm_S', 'winddir3pm_SE', 'winddir3pm_SSE', 'winddir3pm_SSW',\n",
    "       'winddir3pm_SW', 'winddir3pm_W', 'winddir3pm_WNW', 'winddir3pm_WSW']]\n",
    "y = sample['raintomorrow']"
   ]
  },
  {
   "cell_type": "code",
   "execution_count": 31,
   "metadata": {
    "hidden": true
   },
   "outputs": [
    {
     "name": "stderr",
     "output_type": "stream",
     "text": [
      "C:\\Users\\yukar\\Anaconda3\\lib\\site-packages\\ipykernel_launcher.py:4: UserWarning: Matplotlib is currently using module://ipykernel.pylab.backend_inline, which is a non-GUI backend, so cannot show the figure.\n",
      "  after removing the cwd from sys.path.\n"
     ]
    },
    {
     "data": {
      "image/png": "[encoded data removed]",
      "text/plain": [
       "<Figure size 432x288 with 2 Axes>"
      ]
     },
     "metadata": {
      "needs_background": "light"
     },
     "output_type": "display_data"
    }
   ],
   "source": [
    "fig, ax =plt.subplots(1,2)\n",
    "sns.countplot(y_test, ax=ax[0])\n",
    "sns.countplot(y_train, ax=ax[1])\n",
    "fig.show()"
   ]
  },
  {
   "cell_type": "code",
   "execution_count": 17,
   "metadata": {
    "hidden": true
   },
   "outputs": [
    {
     "data": {
      "text/plain": [
       "KNeighborsClassifier(algorithm='auto', leaf_size=30, metric='minkowski',\n",
       "                     metric_params=None, n_jobs=None, n_neighbors=2, p=2,\n",
       "                     weights='uniform')"
      ]
     },
     "execution_count": 17,
     "metadata": {},
     "output_type": "execute_result"
    }
   ],
   "source": [
    "neigh = KNeighborsClassifier(n_neighbors=2)\n",
    "X_train, X_test, y_train, y_test = train_test_split(X, y, test_size=0.75, random_state=7)\n",
    "neigh.fit(X_train, y_train) "
   ]
  },
  {
   "cell_type": "code",
   "execution_count": 19,
   "metadata": {
    "hidden": true
   },
   "outputs": [
    {
     "data": {
      "text/plain": [
       "0.8530555904128498"
      ]
     },
     "execution_count": 19,
     "metadata": {},
     "output_type": "execute_result"
    }
   ],
   "source": [
    "neigh.score(X_train, y_train)"
   ]
  },
  {
   "cell_type": "code",
   "execution_count": 20,
   "metadata": {
    "hidden": true
   },
   "outputs": [
    {
     "data": {
      "text/plain": [
       "0.7106198761920696"
      ]
     },
     "execution_count": 20,
     "metadata": {},
     "output_type": "execute_result"
    }
   ],
   "source": [
    "neigh.score(X_test, y_test)"
   ]
  },
  {
   "cell_type": "code",
   "execution_count": 21,
   "metadata": {
    "hidden": true
   },
   "outputs": [
    {
     "data": {
      "image/png": "[encoded data removed]",
      "text/plain": [
       "<Figure size 432x288 with 2 Axes>"
      ]
     },
     "metadata": {
      "needs_background": "light"
     },
     "output_type": "display_data"
    }
   ],
   "source": [
    "plot_confusion_matrix(neigh, X_test, y_test, values_format='.0f')\n",
    "plt.grid(False)"
   ]
  },
  {
   "cell_type": "code",
   "execution_count": 22,
   "metadata": {
    "hidden": true
   },
   "outputs": [
    {
     "name": "stdout",
     "output_type": "stream",
     "text": [
      "Taxa de acerto: 0.8507776188773686\n",
      "Taxa de captura: 0.5972017442042852\n"
     ]
    }
   ],
   "source": [
    "print('Taxa de acerto:', + precision_score(y, neigh.predict(X)))\n",
    "print('Taxa de captura:', + recall_score(y, neigh.predict(X)))"
   ]
  },
  {
   "cell_type": "markdown",
   "metadata": {
    "heading_collapsed": true
   },
   "source": [
    "## ROC"
   ]
  },
  {
   "cell_type": "code",
   "execution_count": 26,
   "metadata": {
    "hidden": true,
    "scrolled": true
   },
   "outputs": [
    {
     "data": {
      "text/plain": [
       "<sklearn.metrics._plot.roc_curve.RocCurveDisplay at 0x1e7001ae408>"
      ]
     },
     "execution_count": 26,
     "metadata": {},
     "output_type": "execute_result"
    },
    {
     "data": {
      "image/png": "[encoded data removed]",
      "text/plain": [
       "<Figure size 432x288 with 1 Axes>"
      ]
     },
     "metadata": {
      "needs_background": "light"
     },
     "output_type": "display_data"
    }
   ],
   "source": [
    "fig, ax = plt.subplots()\n",
    "plot_roc_curve(neigh, X_train, y_train, color='blue', ax=ax)\n",
    "plot_roc_curve(neigh, X_test, y_test, color='red', ax= ax)"
   ]
  },
  {
   "cell_type": "markdown",
   "metadata": {
    "heading_collapsed": true
   },
   "source": [
    "## Classificação Bagging "
   ]
  },
  {
   "cell_type": "code",
   "execution_count": 37,
   "metadata": {
    "hidden": true
   },
   "outputs": [],
   "source": [
    "from sklearn.ensemble import BaggingClassifier"
   ]
  },
  {
   "cell_type": "code",
   "execution_count": 38,
   "metadata": {
    "hidden": true
   },
   "outputs": [],
   "source": [
    "bagging = BaggingClassifier(KNeighborsClassifier())"
   ]
  },
  {
   "cell_type": "code",
   "execution_count": 39,
   "metadata": {
    "collapsed": true,
    "hidden": true
   },
   "outputs": [
    {
     "data": {
      "text/plain": [
       "BaggingClassifier(base_estimator=KNeighborsClassifier(algorithm='auto',\n",
       "                                                      leaf_size=30,\n",
       "                                                      metric='minkowski',\n",
       "                                                      metric_params=None,\n",
       "                                                      n_jobs=None,\n",
       "                                                      n_neighbors=5, p=2,\n",
       "                                                      weights='uniform'),\n",
       "                  bootstrap=True, bootstrap_features=False, max_features=1.0,\n",
       "                  max_samples=1.0, n_estimators=10, n_jobs=None,\n",
       "                  oob_score=False, random_state=None, verbose=0,\n",
       "                  warm_start=False)"
      ]
     },
     "execution_count": 39,
     "metadata": {},
     "output_type": "execute_result"
    }
   ],
   "source": [
    "bagging.fit(X_train, y_train) "
   ]
  },
  {
   "cell_type": "code",
   "execution_count": 40,
   "metadata": {
    "hidden": true
   },
   "outputs": [
    {
     "data": {
      "text/plain": [
       "0.8358012297653407"
      ]
     },
     "execution_count": 40,
     "metadata": {},
     "output_type": "execute_result"
    }
   ],
   "source": [
    "bagging.score(X_train, y_train)"
   ]
  },
  {
   "cell_type": "code",
   "execution_count": 41,
   "metadata": {
    "hidden": true
   },
   "outputs": [
    {
     "data": {
      "text/plain": [
       "0.7505855780491886"
      ]
     },
     "execution_count": 41,
     "metadata": {},
     "output_type": "execute_result"
    }
   ],
   "source": [
    "bagging.score(X_test, y_test)"
   ]
  },
  {
   "cell_type": "code",
   "execution_count": 42,
   "metadata": {
    "hidden": true,
    "scrolled": true
   },
   "outputs": [
    {
     "data": {
      "text/plain": [
       "<sklearn.metrics._plot.roc_curve.RocCurveDisplay at 0x1e70446a688>"
      ]
     },
     "execution_count": 42,
     "metadata": {},
     "output_type": "execute_result"
    },
    {
     "data": {
      "image/png": "[encoded data removed]",
      "text/plain": [
       "<Figure size 432x288 with 1 Axes>"
      ]
     },
     "metadata": {
      "needs_background": "light"
     },
     "output_type": "display_data"
    }
   ],
   "source": [
    "fig, ax = plt.subplots()\n",
    "plot_roc_curve(bagging, X_train, y_train, color='blue', ax=ax)\n",
    "plot_roc_curve(bagging, X_test, y_test, color='red', ax= ax)"
   ]
  },
  {
   "cell_type": "markdown",
   "metadata": {},
   "source": [
    "# Grupo !"
   ]
  },
  {
   "cell_type": "code",
   "execution_count": 75,
   "metadata": {},
   "outputs": [],
   "source": [
    "rain = pd.read_csv('data/rain_data_aus.csv')"
   ]
  },
  {
   "cell_type": "code",
   "execution_count": 76,
   "metadata": {},
   "outputs": [],
   "source": [
    "wind_1 = pd.read_csv('data/wind_table_01.csv')\n",
    "wind_2 = pd.read_csv('data/wind_table_02.csv')\n",
    "wind_3 = pd.read_csv('data/wind_table_03.csv')\n",
    "wind_4 = pd.read_csv('data/wind_table_04.csv')\n",
    "wind_5 = pd.read_csv('data/wind_table_05.csv')\n",
    "wind_6 = pd.read_csv('data/wind_table_06.csv')\n",
    "wind_7 = pd.read_csv('data/wind_table_07.csv')\n",
    "wind_8 = pd.read_csv('data/wind_table_08.csv')\n",
    "wind_1.columns = wind_3.columns\n",
    "wind_2.columns = wind_3.columns\n",
    "wind = wind_1.append(wind_2, ignore_index=True).append(wind_3, ignore_index=True).append(wind_3, ignore_index=True).append(wind_4, ignore_index=True).append(wind_5, ignore_index=True).append(wind_6, ignore_index=True).append(wind_7, ignore_index=True).append(wind_8, ignore_index=True)"
   ]
  },
  {
   "cell_type": "code",
   "execution_count": 51,
   "metadata": {},
   "outputs": [
    {
     "data": {
      "text/plain": [
       "date                    0\n",
       "location                0\n",
       "mintemp               637\n",
       "maxtemp               322\n",
       "rainfall             1406\n",
       "evaporation         60843\n",
       "sunshine            67816\n",
       "humidity9am          1774\n",
       "humidity3pm          3610\n",
       "pressure9am         14014\n",
       "pressure3pm         13981\n",
       "cloud9am            53657\n",
       "cloud3pm            57094\n",
       "temp9am               904\n",
       "temp3pm              2726\n",
       "raintoday            1406\n",
       "amountOfRain            0\n",
       "raintomorrow            0\n",
       "temp                  322\n",
       "humidity             3610\n",
       "precipitation3pm        0\n",
       "precipitation9am        0\n",
       "modelo_vigente          0\n",
       "dtype: int64"
      ]
     },
     "execution_count": 51,
     "metadata": {},
     "output_type": "execute_result"
    }
   ],
   "source": [
    "rain.isnull().sum()"
   ]
  },
  {
   "cell_type": "code",
   "execution_count": 52,
   "metadata": {},
   "outputs": [
    {
     "data": {
      "text/plain": [
       "date                 0\n",
       "location             0\n",
       "windgustdir      11769\n",
       "windgustspeed    11703\n",
       "winddir9am       12944\n",
       "winddir3pm        5172\n",
       "windspeed9am      1530\n",
       "windspeed3pm      3693\n",
       "dtype: int64"
      ]
     },
     "execution_count": 52,
     "metadata": {},
     "output_type": "execute_result"
    }
   ],
   "source": [
    "wind.isnull().sum()"
   ]
  },
  {
   "cell_type": "code",
   "execution_count": 56,
   "metadata": {},
   "outputs": [
    {
     "data": {
      "text/html": [
       "<div>\n",
       "<style scoped>\n",
       "    .dataframe tbody tr th:only-of-type {\n",
       "        vertical-align: middle;\n",
       "    }\n",
       "\n",
       "    .dataframe tbody tr th {\n",
       "        vertical-align: top;\n",
       "    }\n",
       "\n",
       "    .dataframe thead th {\n",
       "        text-align: right;\n",
       "    }\n",
       "</style>\n",
       "<table border=\"1\" class=\"dataframe\">\n",
       "  <thead>\n",
       "    <tr style=\"text-align: right;\">\n",
       "      <th></th>\n",
       "      <th>date</th>\n",
       "      <th>location</th>\n",
       "      <th>mintemp</th>\n",
       "      <th>maxtemp</th>\n",
       "      <th>rainfall</th>\n",
       "      <th>evaporation</th>\n",
       "      <th>sunshine</th>\n",
       "      <th>humidity9am</th>\n",
       "      <th>humidity3pm</th>\n",
       "      <th>pressure9am</th>\n",
       "      <th>...</th>\n",
       "      <th>temp9am</th>\n",
       "      <th>temp3pm</th>\n",
       "      <th>raintoday</th>\n",
       "      <th>amountOfRain</th>\n",
       "      <th>raintomorrow</th>\n",
       "      <th>temp</th>\n",
       "      <th>humidity</th>\n",
       "      <th>precipitation3pm</th>\n",
       "      <th>precipitation9am</th>\n",
       "      <th>modelo_vigente</th>\n",
       "    </tr>\n",
       "  </thead>\n",
       "  <tbody>\n",
       "    <tr>\n",
       "      <th>104633</th>\n",
       "      <td>2013-10-20</td>\n",
       "      <td>Woomera</td>\n",
       "      <td>19.4</td>\n",
       "      <td>40.0</td>\n",
       "      <td>0.0</td>\n",
       "      <td>19.0</td>\n",
       "      <td>11.2</td>\n",
       "      <td>0.0</td>\n",
       "      <td>0.0</td>\n",
       "      <td>1011.7</td>\n",
       "      <td>...</td>\n",
       "      <td>28.1</td>\n",
       "      <td>38.9</td>\n",
       "      <td>No</td>\n",
       "      <td>0.0</td>\n",
       "      <td>No</td>\n",
       "      <td>50.0</td>\n",
       "      <td>2.0</td>\n",
       "      <td>7</td>\n",
       "      <td>10.098866</td>\n",
       "      <td>0.033194</td>\n",
       "    </tr>\n",
       "  </tbody>\n",
       "</table>\n",
       "<p>1 rows × 23 columns</p>\n",
       "</div>"
      ],
      "text/plain": [
       "              date location  mintemp  maxtemp  rainfall  evaporation  \\\n",
       "104633  2013-10-20  Woomera     19.4     40.0       0.0         19.0   \n",
       "\n",
       "        sunshine  humidity9am  humidity3pm  pressure9am  ...  temp9am  \\\n",
       "104633      11.2          0.0          0.0       1011.7  ...     28.1   \n",
       "\n",
       "        temp3pm  raintoday  amountOfRain  raintomorrow  temp  humidity  \\\n",
       "104633     38.9         No           0.0            No  50.0       2.0   \n",
       "\n",
       "       precipitation3pm  precipitation9am  modelo_vigente  \n",
       "104633                7         10.098866        0.033194  \n",
       "\n",
       "[1 rows x 23 columns]"
      ]
     },
     "execution_count": 56,
     "metadata": {},
     "output_type": "execute_result"
    }
   ],
   "source": [
    "mask = rain['humidity9am'] == 0\n",
    "rain[mask]"
   ]
  },
  {
   "cell_type": "code",
   "execution_count": 58,
   "metadata": {},
   "outputs": [
    {
     "data": {
      "text/plain": [
       "Index(['date', 'location', 'mintemp', 'maxtemp', 'rainfall', 'evaporation',\n",
       "       'sunshine', 'humidity9am', 'humidity3pm', 'pressure9am', 'pressure3pm',\n",
       "       'cloud9am', 'cloud3pm', 'temp9am', 'temp3pm', 'raintoday',\n",
       "       'amountOfRain', 'raintomorrow', 'temp', 'humidity', 'precipitation3pm',\n",
       "       'precipitation9am', 'modelo_vigente'],\n",
       "      dtype='object')"
      ]
     },
     "execution_count": 58,
     "metadata": {},
     "output_type": "execute_result"
    }
   ],
   "source": [
    "rain.columns"
   ]
  },
  {
   "cell_type": "markdown",
   "metadata": {},
   "source": [
    "## Avaliando as colunas"
   ]
  },
  {
   "cell_type": "markdown",
   "metadata": {
    "heading_collapsed": true
   },
   "source": [
    "### Sunshine e Evaporation"
   ]
  },
  {
   "cell_type": "code",
   "execution_count": 77,
   "metadata": {
    "hidden": true
   },
   "outputs": [],
   "source": [
    "rain['raintoday'] = rain['raintoday'].replace('No', 0).replace('Yes', 1)\n",
    "rain['raintomorrow'] = rain['raintomorrow'].replace('No', 0).replace('Yes', 1)\n",
    "df = rain[['mintemp', 'maxtemp', 'rainfall', 'humidity9am', 'humidity3pm', 'pressure9am', 'pressure3pm',\n",
    "       'cloud9am', 'cloud3pm', 'temp9am', 'temp3pm', 'temp', 'humidity', 'precipitation3pm',\n",
    "       'precipitation9am', 'raintomorrow']].dropna()"
   ]
  },
  {
   "cell_type": "code",
   "execution_count": 78,
   "metadata": {
    "hidden": true
   },
   "outputs": [],
   "source": [
    "X = df[['mintemp', 'maxtemp', 'rainfall', 'humidity9am', 'humidity3pm', 'pressure9am', 'pressure3pm',\n",
    "       'cloud9am', 'cloud3pm', 'temp9am', 'temp3pm', 'temp', 'humidity', 'precipitation3pm',\n",
    "       'precipitation9am']]\n",
    "y = df['raintomorrow']"
   ]
  },
  {
   "cell_type": "code",
   "execution_count": 79,
   "metadata": {
    "hidden": true,
    "scrolled": true
   },
   "outputs": [
    {
     "data": {
      "text/plain": [
       "LogisticRegression(C=1.0, class_weight=None, dual=False, fit_intercept=True,\n",
       "                   intercept_scaling=1, l1_ratio=None, max_iter=10000,\n",
       "                   multi_class='auto', n_jobs=None, penalty='l2',\n",
       "                   random_state=None, solver='lbfgs', tol=0.0001, verbose=0,\n",
       "                   warm_start=False)"
      ]
     },
     "execution_count": 79,
     "metadata": {},
     "output_type": "execute_result"
    }
   ],
   "source": [
    "model = LogisticRegression(max_iter=10000)\n",
    "model.fit(X,y)"
   ]
  },
  {
   "cell_type": "code",
   "execution_count": 80,
   "metadata": {
    "hidden": true
   },
   "outputs": [
    {
     "data": {
      "text/plain": [
       "0.8298681868599582"
      ]
     },
     "execution_count": 80,
     "metadata": {},
     "output_type": "execute_result"
    }
   ],
   "source": [
    "model.score(X,y)"
   ]
  },
  {
   "cell_type": "code",
   "execution_count": 82,
   "metadata": {
    "hidden": true
   },
   "outputs": [
    {
     "data": {
      "text/plain": [
       "0.47131681877444587"
      ]
     },
     "execution_count": 82,
     "metadata": {},
     "output_type": "execute_result"
    }
   ],
   "source": [
    "recall_score(y,model.predict(X))"
   ]
  },
  {
   "cell_type": "code",
   "execution_count": 84,
   "metadata": {
    "hidden": true
   },
   "outputs": [
    {
     "data": {
      "text/plain": [
       "LogisticRegression(C=1.0, class_weight=None, dual=False, fit_intercept=True,\n",
       "                   intercept_scaling=1, l1_ratio=None, max_iter=10000,\n",
       "                   multi_class='auto', n_jobs=None, penalty='l2',\n",
       "                   random_state=None, solver='lbfgs', tol=0.0001, verbose=0,\n",
       "                   warm_start=False)"
      ]
     },
     "execution_count": 84,
     "metadata": {},
     "output_type": "execute_result"
    }
   ],
   "source": [
    "df = rain[['mintemp', 'maxtemp', 'rainfall', 'humidity9am', 'humidity3pm', 'pressure9am', 'pressure3pm',\n",
    "       'cloud9am', 'cloud3pm', 'temp9am', 'temp3pm', 'temp', 'humidity', 'precipitation3pm',\n",
    "       'precipitation9am', 'raintomorrow', 'evaporation', 'sunshine']].fillna(0)\n",
    "X = df[['mintemp', 'maxtemp', 'rainfall', 'humidity9am', 'humidity3pm', 'pressure9am', 'pressure3pm',\n",
    "       'cloud9am', 'cloud3pm', 'temp9am', 'temp3pm', 'temp', 'humidity', 'precipitation3pm',\n",
    "       'precipitation9am', 'evaporation', 'sunshine']]\n",
    "y = df['raintomorrow']\n",
    "model.fit(X,y)"
   ]
  },
  {
   "cell_type": "code",
   "execution_count": 85,
   "metadata": {
    "hidden": true
   },
   "outputs": [
    {
     "data": {
      "text/plain": [
       "0.8280857707482084"
      ]
     },
     "execution_count": 85,
     "metadata": {},
     "output_type": "execute_result"
    }
   ],
   "source": [
    "model.score(X,y)"
   ]
  },
  {
   "cell_type": "code",
   "execution_count": 86,
   "metadata": {
    "hidden": true
   },
   "outputs": [
    {
     "data": {
      "text/plain": [
       "0.392665558239483"
      ]
     },
     "execution_count": 86,
     "metadata": {},
     "output_type": "execute_result"
    }
   ],
   "source": [
    "recall_score(y,model.predict(X))"
   ]
  },
  {
   "cell_type": "markdown",
   "metadata": {
    "hidden": true
   },
   "source": [
    "**É melhor tirar as duas colunas**"
   ]
  },
  {
   "cell_type": "markdown",
   "metadata": {
    "heading_collapsed": true
   },
   "source": [
    "### Cloud"
   ]
  },
  {
   "cell_type": "code",
   "execution_count": 87,
   "metadata": {
    "hidden": true
   },
   "outputs": [
    {
     "data": {
      "text/plain": [
       "LogisticRegression(C=1.0, class_weight=None, dual=False, fit_intercept=True,\n",
       "                   intercept_scaling=1, l1_ratio=None, max_iter=10000,\n",
       "                   multi_class='auto', n_jobs=None, penalty='l2',\n",
       "                   random_state=None, solver='lbfgs', tol=0.0001, verbose=0,\n",
       "                   warm_start=False)"
      ]
     },
     "execution_count": 87,
     "metadata": {},
     "output_type": "execute_result"
    }
   ],
   "source": [
    "df = rain[['mintemp', 'maxtemp', 'rainfall', 'humidity9am', 'humidity3pm', 'pressure9am', 'pressure3pm',\n",
    "       'temp9am', 'temp3pm', 'temp', 'humidity', 'precipitation3pm',\n",
    "       'precipitation9am', 'raintomorrow']].dropna()\n",
    "X = df[['mintemp', 'maxtemp', 'rainfall', 'humidity9am', 'humidity3pm', 'pressure9am', 'pressure3pm',\n",
    "       'temp9am', 'temp3pm', 'temp', 'humidity', 'precipitation3pm',\n",
    "       'precipitation9am']]\n",
    "y = df['raintomorrow']\n",
    "model.fit(X,y)"
   ]
  },
  {
   "cell_type": "code",
   "execution_count": 88,
   "metadata": {
    "hidden": true
   },
   "outputs": [
    {
     "data": {
      "text/plain": [
       "0.8345980220965133"
      ]
     },
     "execution_count": 88,
     "metadata": {},
     "output_type": "execute_result"
    }
   ],
   "source": [
    "model.score(X,y)"
   ]
  },
  {
   "cell_type": "code",
   "execution_count": 89,
   "metadata": {
    "hidden": true
   },
   "outputs": [
    {
     "data": {
      "text/plain": [
       "0.4003566489555281"
      ]
     },
     "execution_count": 89,
     "metadata": {},
     "output_type": "execute_result"
    }
   ],
   "source": [
    "recall_score(y,model.predict(X))"
   ]
  },
  {
   "cell_type": "code",
   "execution_count": 90,
   "metadata": {
    "hidden": true
   },
   "outputs": [
    {
     "data": {
      "text/plain": [
       "LogisticRegression(C=1.0, class_weight=None, dual=False, fit_intercept=True,\n",
       "                   intercept_scaling=1, l1_ratio=None, max_iter=10000,\n",
       "                   multi_class='auto', n_jobs=None, penalty='l2',\n",
       "                   random_state=None, solver='lbfgs', tol=0.0001, verbose=0,\n",
       "                   warm_start=False)"
      ]
     },
     "execution_count": 90,
     "metadata": {},
     "output_type": "execute_result"
    }
   ],
   "source": [
    "df = rain[['mintemp', 'maxtemp', 'rainfall', 'humidity9am', 'humidity3pm', 'pressure9am', 'pressure3pm',\n",
    "       'temp9am', 'temp3pm', 'temp', 'humidity', 'precipitation3pm',\n",
    "       'precipitation9am', 'raintomorrow', 'cloud9am', 'cloud3pm']].fillna(0)\n",
    "X = df[['mintemp', 'maxtemp', 'rainfall', 'humidity9am', 'humidity3pm', 'pressure9am', 'pressure3pm',\n",
    "       'temp9am', 'temp3pm', 'temp', 'humidity', 'precipitation3pm',\n",
    "       'precipitation9am', 'cloud9am', 'cloud3pm']]\n",
    "y = df['raintomorrow']\n",
    "model.fit(X,y)"
   ]
  },
  {
   "cell_type": "code",
   "execution_count": 91,
   "metadata": {
    "hidden": true
   },
   "outputs": [
    {
     "data": {
      "text/plain": [
       "0.8287679421631163"
      ]
     },
     "execution_count": 91,
     "metadata": {},
     "output_type": "execute_result"
    }
   ],
   "source": [
    "model.score(X,y)"
   ]
  },
  {
   "cell_type": "code",
   "execution_count": 92,
   "metadata": {
    "hidden": true
   },
   "outputs": [
    {
     "data": {
      "text/plain": [
       "0.38350534868400415"
      ]
     },
     "execution_count": 92,
     "metadata": {},
     "output_type": "execute_result"
    }
   ],
   "source": [
    "recall_score(y,model.predict(X))"
   ]
  },
  {
   "cell_type": "markdown",
   "metadata": {
    "hidden": true
   },
   "source": [
    "**É melhor tirar também**"
   ]
  },
  {
   "cell_type": "markdown",
   "metadata": {
    "heading_collapsed": true
   },
   "source": [
    "### Pressão"
   ]
  },
  {
   "cell_type": "code",
   "execution_count": 93,
   "metadata": {
    "hidden": true
   },
   "outputs": [
    {
     "data": {
      "text/plain": [
       "LogisticRegression(C=1.0, class_weight=None, dual=False, fit_intercept=True,\n",
       "                   intercept_scaling=1, l1_ratio=None, max_iter=10000,\n",
       "                   multi_class='auto', n_jobs=None, penalty='l2',\n",
       "                   random_state=None, solver='lbfgs', tol=0.0001, verbose=0,\n",
       "                   warm_start=False)"
      ]
     },
     "execution_count": 93,
     "metadata": {},
     "output_type": "execute_result"
    }
   ],
   "source": [
    "df = rain[['mintemp', 'maxtemp', 'rainfall', 'humidity9am', 'humidity3pm',\n",
    "       'temp9am', 'temp3pm', 'temp', 'humidity', 'precipitation3pm',\n",
    "       'precipitation9am', 'raintomorrow']].dropna()\n",
    "X = df[['mintemp', 'maxtemp', 'rainfall', 'humidity9am', 'humidity3pm',\n",
    "       'temp9am', 'temp3pm', 'temp', 'humidity', 'precipitation3pm',\n",
    "       'precipitation9am']]\n",
    "y = df['raintomorrow']\n",
    "model.fit(X,y)"
   ]
  },
  {
   "cell_type": "code",
   "execution_count": 94,
   "metadata": {
    "hidden": true
   },
   "outputs": [
    {
     "data": {
      "text/plain": [
       "0.8336129651473745"
      ]
     },
     "execution_count": 94,
     "metadata": {},
     "output_type": "execute_result"
    }
   ],
   "source": [
    "model.score(X,y)"
   ]
  },
  {
   "cell_type": "code",
   "execution_count": 95,
   "metadata": {
    "hidden": true
   },
   "outputs": [
    {
     "data": {
      "text/plain": [
       "0.3926969465395222"
      ]
     },
     "execution_count": 95,
     "metadata": {},
     "output_type": "execute_result"
    }
   ],
   "source": [
    "recall_score(y,model.predict(X))"
   ]
  },
  {
   "cell_type": "code",
   "execution_count": 96,
   "metadata": {
    "hidden": true
   },
   "outputs": [
    {
     "data": {
      "text/plain": [
       "LogisticRegression(C=1.0, class_weight=None, dual=False, fit_intercept=True,\n",
       "                   intercept_scaling=1, l1_ratio=None, max_iter=10000,\n",
       "                   multi_class='auto', n_jobs=None, penalty='l2',\n",
       "                   random_state=None, solver='lbfgs', tol=0.0001, verbose=0,\n",
       "                   warm_start=False)"
      ]
     },
     "execution_count": 96,
     "metadata": {},
     "output_type": "execute_result"
    }
   ],
   "source": [
    "df = rain[['mintemp', 'maxtemp', 'rainfall', 'humidity9am', 'humidity3pm', 'pressure9am', 'pressure3pm',\n",
    "       'temp9am', 'temp3pm', 'temp', 'humidity', 'precipitation3pm',\n",
    "       'precipitation9am', 'raintomorrow']].fillna(0)\n",
    "X = df[['mintemp', 'maxtemp', 'rainfall', 'humidity9am', 'humidity3pm', 'pressure9am', 'pressure3pm',\n",
    "       'temp9am', 'temp3pm', 'temp', 'humidity', 'precipitation3pm',\n",
    "       'precipitation9am']]\n",
    "y = df['raintomorrow']\n",
    "model.fit(X,y)"
   ]
  },
  {
   "cell_type": "code",
   "execution_count": 97,
   "metadata": {
    "hidden": true
   },
   "outputs": [
    {
     "data": {
      "text/plain": [
       "0.8289296941480945"
      ]
     },
     "execution_count": 97,
     "metadata": {},
     "output_type": "execute_result"
    }
   ],
   "source": [
    "model.score(X,y)"
   ]
  },
  {
   "cell_type": "code",
   "execution_count": 98,
   "metadata": {
    "hidden": true
   },
   "outputs": [
    {
     "data": {
      "text/plain": [
       "0.3708316340935471"
      ]
     },
     "execution_count": 98,
     "metadata": {},
     "output_type": "execute_result"
    }
   ],
   "source": [
    "recall_score(y,model.predict(X))"
   ]
  },
  {
   "cell_type": "markdown",
   "metadata": {},
   "source": [
    "## KNN"
   ]
  },
  {
   "cell_type": "code",
   "execution_count": null,
   "metadata": {},
   "outputs": [],
   "source": []
  },
  {
   "cell_type": "code",
   "execution_count": 70,
   "metadata": {},
   "outputs": [],
   "source": [
    "df = rain[['mintemp', 'maxtemp', 'rainfall', 'humidity9am', 'humidity3pm', 'pressure9am', 'pressure3pm',\n",
    "       'cloud9am', 'cloud3pm', 'temp9am', 'temp3pm', 'temp', 'humidity', 'precipitation3pm',\n",
    "       'precipitation9am', 'raintomorrow', 'evaporation', 'sunshine']]\n",
    "\n",
    "X = df[['mintemp', 'maxtemp', 'rainfall', 'humidity9am', 'humidity3pm', 'pressure9am', 'pressure3pm',\n",
    "       'cloud9am', 'cloud3pm', 'temp9am', 'temp3pm', 'temp', 'humidity', 'precipitation3pm',\n",
    "       'precipitation9am', 'evaporation', 'sunshine']]\n",
    "\n",
    "y = df['raintomorrow']"
   ]
  },
  {
   "cell_type": "code",
   "execution_count": 71,
   "metadata": {
    "collapsed": true
   },
   "outputs": [
    {
     "data": {
      "text/html": [
       "<div>\n",
       "<style scoped>\n",
       "    .dataframe tbody tr th:only-of-type {\n",
       "        vertical-align: middle;\n",
       "    }\n",
       "\n",
       "    .dataframe tbody tr th {\n",
       "        vertical-align: top;\n",
       "    }\n",
       "\n",
       "    .dataframe thead th {\n",
       "        text-align: right;\n",
       "    }\n",
       "</style>\n",
       "<table border=\"1\" class=\"dataframe\">\n",
       "  <thead>\n",
       "    <tr style=\"text-align: right;\">\n",
       "      <th></th>\n",
       "      <th>date</th>\n",
       "      <th>location</th>\n",
       "      <th>mintemp</th>\n",
       "      <th>maxtemp</th>\n",
       "      <th>rainfall</th>\n",
       "      <th>evaporation</th>\n",
       "      <th>sunshine</th>\n",
       "      <th>humidity9am</th>\n",
       "      <th>humidity3pm</th>\n",
       "      <th>pressure9am</th>\n",
       "      <th>...</th>\n",
       "      <th>temp9am</th>\n",
       "      <th>temp3pm</th>\n",
       "      <th>raintoday</th>\n",
       "      <th>amountOfRain</th>\n",
       "      <th>raintomorrow</th>\n",
       "      <th>temp</th>\n",
       "      <th>humidity</th>\n",
       "      <th>precipitation3pm</th>\n",
       "      <th>precipitation9am</th>\n",
       "      <th>modelo_vigente</th>\n",
       "    </tr>\n",
       "  </thead>\n",
       "  <tbody>\n",
       "    <tr>\n",
       "      <th>23657</th>\n",
       "      <td>2009-02-16</td>\n",
       "      <td>Penrith</td>\n",
       "      <td>16.5</td>\n",
       "      <td>23.7</td>\n",
       "      <td>34.6</td>\n",
       "      <td>NaN</td>\n",
       "      <td>NaN</td>\n",
       "      <td>94.0</td>\n",
       "      <td>63.0</td>\n",
       "      <td>NaN</td>\n",
       "      <td>...</td>\n",
       "      <td>18.4</td>\n",
       "      <td>22.9</td>\n",
       "      <td>1.0</td>\n",
       "      <td>3.8</td>\n",
       "      <td>1</td>\n",
       "      <td>30.44</td>\n",
       "      <td>77.6</td>\n",
       "      <td>10</td>\n",
       "      <td>13.719291</td>\n",
       "      <td>0.605055</td>\n",
       "    </tr>\n",
       "    <tr>\n",
       "      <th>69837</th>\n",
       "      <td>2013-10-14</td>\n",
       "      <td>Mildura</td>\n",
       "      <td>4.7</td>\n",
       "      <td>20.2</td>\n",
       "      <td>0.0</td>\n",
       "      <td>7.4</td>\n",
       "      <td>9.0</td>\n",
       "      <td>65.0</td>\n",
       "      <td>29.0</td>\n",
       "      <td>1024.4</td>\n",
       "      <td>...</td>\n",
       "      <td>10.0</td>\n",
       "      <td>18.1</td>\n",
       "      <td>0.0</td>\n",
       "      <td>0.0</td>\n",
       "      <td>0</td>\n",
       "      <td>26.24</td>\n",
       "      <td>36.8</td>\n",
       "      <td>3</td>\n",
       "      <td>12.525958</td>\n",
       "      <td>0.033085</td>\n",
       "    </tr>\n",
       "    <tr>\n",
       "      <th>126533</th>\n",
       "      <td>2017-02-02</td>\n",
       "      <td>Walpole</td>\n",
       "      <td>11.4</td>\n",
       "      <td>25.7</td>\n",
       "      <td>0.0</td>\n",
       "      <td>NaN</td>\n",
       "      <td>NaN</td>\n",
       "      <td>64.0</td>\n",
       "      <td>59.0</td>\n",
       "      <td>1019.4</td>\n",
       "      <td>...</td>\n",
       "      <td>20.0</td>\n",
       "      <td>24.4</td>\n",
       "      <td>0.0</td>\n",
       "      <td>0.0</td>\n",
       "      <td>0</td>\n",
       "      <td>32.84</td>\n",
       "      <td>72.8</td>\n",
       "      <td>12</td>\n",
       "      <td>11.664192</td>\n",
       "      <td>0.044007</td>\n",
       "    </tr>\n",
       "    <tr>\n",
       "      <th>20695</th>\n",
       "      <td>2009-03-19</td>\n",
       "      <td>NorfolkIsland</td>\n",
       "      <td>20.4</td>\n",
       "      <td>24.9</td>\n",
       "      <td>1.8</td>\n",
       "      <td>4.2</td>\n",
       "      <td>9.8</td>\n",
       "      <td>79.0</td>\n",
       "      <td>71.0</td>\n",
       "      <td>1016.1</td>\n",
       "      <td>...</td>\n",
       "      <td>22.9</td>\n",
       "      <td>24.0</td>\n",
       "      <td>1.0</td>\n",
       "      <td>0.8</td>\n",
       "      <td>0</td>\n",
       "      <td>31.88</td>\n",
       "      <td>87.2</td>\n",
       "      <td>7</td>\n",
       "      <td>13.226492</td>\n",
       "      <td>0.073357</td>\n",
       "    </tr>\n",
       "    <tr>\n",
       "      <th>113669</th>\n",
       "      <td>2014-07-09</td>\n",
       "      <td>PearceRAAF</td>\n",
       "      <td>2.4</td>\n",
       "      <td>15.7</td>\n",
       "      <td>0.2</td>\n",
       "      <td>NaN</td>\n",
       "      <td>6.6</td>\n",
       "      <td>93.0</td>\n",
       "      <td>62.0</td>\n",
       "      <td>1026.0</td>\n",
       "      <td>...</td>\n",
       "      <td>6.8</td>\n",
       "      <td>14.6</td>\n",
       "      <td>0.0</td>\n",
       "      <td>0.0</td>\n",
       "      <td>0</td>\n",
       "      <td>20.84</td>\n",
       "      <td>76.4</td>\n",
       "      <td>7</td>\n",
       "      <td>16.289298</td>\n",
       "      <td>0.064959</td>\n",
       "    </tr>\n",
       "  </tbody>\n",
       "</table>\n",
       "<p>5 rows × 23 columns</p>\n",
       "</div>"
      ],
      "text/plain": [
       "              date       location  mintemp  maxtemp  rainfall  evaporation  \\\n",
       "23657   2009-02-16        Penrith     16.5     23.7      34.6          NaN   \n",
       "69837   2013-10-14        Mildura      4.7     20.2       0.0          7.4   \n",
       "126533  2017-02-02        Walpole     11.4     25.7       0.0          NaN   \n",
       "20695   2009-03-19  NorfolkIsland     20.4     24.9       1.8          4.2   \n",
       "113669  2014-07-09     PearceRAAF      2.4     15.7       0.2          NaN   \n",
       "\n",
       "        sunshine  humidity9am  humidity3pm  pressure9am  ...  temp9am  \\\n",
       "23657        NaN         94.0         63.0          NaN  ...     18.4   \n",
       "69837        9.0         65.0         29.0       1024.4  ...     10.0   \n",
       "126533       NaN         64.0         59.0       1019.4  ...     20.0   \n",
       "20695        9.8         79.0         71.0       1016.1  ...     22.9   \n",
       "113669       6.6         93.0         62.0       1026.0  ...      6.8   \n",
       "\n",
       "        temp3pm  raintoday  amountOfRain  raintomorrow   temp  humidity  \\\n",
       "23657      22.9        1.0           3.8             1  30.44      77.6   \n",
       "69837      18.1        0.0           0.0             0  26.24      36.8   \n",
       "126533     24.4        0.0           0.0             0  32.84      72.8   \n",
       "20695      24.0        1.0           0.8             0  31.88      87.2   \n",
       "113669     14.6        0.0           0.0             0  20.84      76.4   \n",
       "\n",
       "        precipitation3pm  precipitation9am  modelo_vigente  \n",
       "23657                 10         13.719291        0.605055  \n",
       "69837                  3         12.525958        0.033085  \n",
       "126533                12         11.664192        0.044007  \n",
       "20695                  7         13.226492        0.073357  \n",
       "113669                 7         16.289298        0.064959  \n",
       "\n",
       "[5 rows x 23 columns]"
      ]
     },
     "execution_count": 71,
     "metadata": {},
     "output_type": "execute_result"
    }
   ],
   "source": [
    "rain.head()"
   ]
  },
  {
   "cell_type": "code",
   "execution_count": 72,
   "metadata": {},
   "outputs": [],
   "source": [
    "imputer = KNNImputer(n_neighbors=2)"
   ]
  },
  {
   "cell_type": "code",
   "execution_count": 73,
   "metadata": {},
   "outputs": [],
   "source": [
    "data = imputer.fit_transform(X)"
   ]
  },
  {
   "cell_type": "code",
   "execution_count": 74,
   "metadata": {},
   "outputs": [],
   "source": [
    "df = pd.DataFrame(data = data, columns=X.columns)"
   ]
  },
  {
   "cell_type": "code",
   "execution_count": null,
   "metadata": {},
   "outputs": [],
   "source": []
  },
  {
   "cell_type": "markdown",
   "metadata": {},
   "source": [
    "# Início"
   ]
  },
  {
   "cell_type": "markdown",
   "metadata": {},
   "source": [
    "## Dataframe"
   ]
  },
  {
   "cell_type": "code",
   "execution_count": 2,
   "metadata": {},
   "outputs": [],
   "source": [
    "rain = pd.read_csv('data/rain_data_aus.csv')"
   ]
  },
  {
   "cell_type": "code",
   "execution_count": 3,
   "metadata": {},
   "outputs": [],
   "source": [
    "rain['raintoday'] = rain['raintoday'].replace('No', 0).replace('Yes', 1)\n",
    "rain['raintomorrow'] = rain['raintomorrow'].replace('No', 0).replace('Yes', 1)"
   ]
  },
  {
   "cell_type": "code",
   "execution_count": 4,
   "metadata": {},
   "outputs": [],
   "source": [
    "wind_1 = pd.read_csv('data/wind_table_01.csv')\n",
    "wind_2 = pd.read_csv('data/wind_table_02.csv')\n",
    "wind_3 = pd.read_csv('data/wind_table_03.csv')\n",
    "wind_4 = pd.read_csv('data/wind_table_04.csv')\n",
    "wind_5 = pd.read_csv('data/wind_table_05.csv')\n",
    "wind_6 = pd.read_csv('data/wind_table_06.csv')\n",
    "wind_7 = pd.read_csv('data/wind_table_07.csv')\n",
    "wind_8 = pd.read_csv('data/wind_table_08.csv')\n",
    "wind_1.columns = wind_3.columns\n",
    "wind_2.columns = wind_3.columns\n",
    "wind = wind_1.append(wind_2, ignore_index=True).append(wind_3, ignore_index=True).append(wind_3, ignore_index=True).append(wind_4, ignore_index=True).append(wind_5, ignore_index=True).append(wind_6, ignore_index=True).append(wind_7, ignore_index=True).append(wind_8, ignore_index=True)"
   ]
  },
  {
   "cell_type": "code",
   "execution_count": 5,
   "metadata": {},
   "outputs": [],
   "source": [
    "df = rain.merge(wind, on=['date','location'], how='left').drop_duplicates().drop(columns=['date', 'location'])"
   ]
  },
  {
   "cell_type": "markdown",
   "metadata": {},
   "source": [
    "## Dummies"
   ]
  },
  {
   "cell_type": "code",
   "execution_count": 6,
   "metadata": {},
   "outputs": [],
   "source": [
    "df = pd.get_dummies(df)"
   ]
  },
  {
   "cell_type": "code",
   "execution_count": 7,
   "metadata": {},
   "outputs": [
    {
     "data": {
      "text/plain": [
       "Index(['mintemp', 'maxtemp', 'rainfall', 'evaporation', 'sunshine',\n",
       "       'humidity9am', 'humidity3pm', 'pressure9am', 'pressure3pm', 'cloud9am',\n",
       "       'cloud3pm', 'temp9am', 'temp3pm', 'raintoday', 'amountOfRain',\n",
       "       'raintomorrow', 'temp', 'humidity', 'precipitation3pm',\n",
       "       'precipitation9am', 'modelo_vigente', 'windgustspeed', 'windspeed9am',\n",
       "       'windspeed3pm', 'windgustdir_E', 'windgustdir_ENE', 'windgustdir_ESE',\n",
       "       'windgustdir_N', 'windgustdir_NE', 'windgustdir_NNE', 'windgustdir_NNW',\n",
       "       'windgustdir_NW', 'windgustdir_S', 'windgustdir_SE', 'windgustdir_SSE',\n",
       "       'windgustdir_SSW', 'windgustdir_SW', 'windgustdir_W', 'windgustdir_WNW',\n",
       "       'windgustdir_WSW', 'winddir9am_E', 'winddir9am_ENE', 'winddir9am_ESE',\n",
       "       'winddir9am_N', 'winddir9am_NE', 'winddir9am_NNE', 'winddir9am_NNW',\n",
       "       'winddir9am_NW', 'winddir9am_S', 'winddir9am_SE', 'winddir9am_SSE',\n",
       "       'winddir9am_SSW', 'winddir9am_SW', 'winddir9am_W', 'winddir9am_WNW',\n",
       "       'winddir9am_WSW', 'winddir3pm_E', 'winddir3pm_ENE', 'winddir3pm_ESE',\n",
       "       'winddir3pm_N', 'winddir3pm_NE', 'winddir3pm_NNE', 'winddir3pm_NNW',\n",
       "       'winddir3pm_NW', 'winddir3pm_S', 'winddir3pm_SE', 'winddir3pm_SSE',\n",
       "       'winddir3pm_SSW', 'winddir3pm_SW', 'winddir3pm_W', 'winddir3pm_WNW',\n",
       "       'winddir3pm_WSW'],\n",
       "      dtype='object')"
      ]
     },
     "execution_count": 7,
     "metadata": {},
     "output_type": "execute_result"
    }
   ],
   "source": [
    "df.columns"
   ]
  },
  {
   "cell_type": "code",
   "execution_count": 8,
   "metadata": {},
   "outputs": [],
   "source": [
    "X = df[['mintemp', 'maxtemp', 'rainfall', 'evaporation', 'sunshine',\n",
    "       'humidity9am', 'humidity3pm', 'pressure9am', 'pressure3pm', 'cloud9am',\n",
    "       'cloud3pm', 'temp9am', 'temp3pm', 'raintoday', 'amountOfRain',\n",
    "       'temp', 'humidity', 'precipitation3pm',\n",
    "       'precipitation9am', 'modelo_vigente', 'windgustspeed', 'windspeed9am',\n",
    "       'windspeed3pm', 'windgustdir_E', 'windgustdir_ENE', 'windgustdir_ESE',\n",
    "       'windgustdir_N', 'windgustdir_NE', 'windgustdir_NNE', 'windgustdir_NNW',\n",
    "       'windgustdir_NW', 'windgustdir_S', 'windgustdir_SE', 'windgustdir_SSE',\n",
    "       'windgustdir_SSW', 'windgustdir_SW', 'windgustdir_W', 'windgustdir_WNW',\n",
    "       'windgustdir_WSW', 'winddir9am_E', 'winddir9am_ENE', 'winddir9am_ESE',\n",
    "       'winddir9am_N', 'winddir9am_NE', 'winddir9am_NNE', 'winddir9am_NNW',\n",
    "       'winddir9am_NW', 'winddir9am_S', 'winddir9am_SE', 'winddir9am_SSE',\n",
    "       'winddir9am_SSW', 'winddir9am_SW', 'winddir9am_W', 'winddir9am_WNW',\n",
    "       'winddir9am_WSW', 'winddir3pm_E', 'winddir3pm_ENE', 'winddir3pm_ESE',\n",
    "       'winddir3pm_N', 'winddir3pm_NE', 'winddir3pm_NNE', 'winddir3pm_NNW',\n",
    "       'winddir3pm_NW', 'winddir3pm_S', 'winddir3pm_SE', 'winddir3pm_SSE',\n",
    "       'winddir3pm_SSW', 'winddir3pm_SW', 'winddir3pm_W', 'winddir3pm_WNW',\n",
    "       'winddir3pm_WSW']]\n",
    "y = df['raintomorrow']"
   ]
  },
  {
   "cell_type": "markdown",
   "metadata": {},
   "source": [
    "## Balancear DataFrame"
   ]
  },
  {
   "cell_type": "code",
   "execution_count": 9,
   "metadata": {},
   "outputs": [],
   "source": [
    "rus = RandomUnderSampler(random_state=7)\n",
    "X_resampled, y_resampled = rus.fit_resample(X, y)"
   ]
  },
  {
   "cell_type": "code",
   "execution_count": 10,
   "metadata": {},
   "outputs": [],
   "source": [
    "df = X_resampled\n",
    "df['raintomorrow'] = y_resampled"
   ]
  },
  {
   "cell_type": "markdown",
   "metadata": {},
   "source": [
    "## KNNImputer"
   ]
  },
  {
   "cell_type": "code",
   "execution_count": 11,
   "metadata": {},
   "outputs": [],
   "source": [
    "imputer = KNNImputer(n_neighbors=2, n_jobs=-1)"
   ]
  },
  {
   "cell_type": "code",
   "execution_count": null,
   "metadata": {},
   "outputs": [],
   "source": [
    "df = pd.DataFrame(imputer.fit_transform(X_resampled), columns=X_resampled.columns)"
   ]
  },
  {
   "cell_type": "code",
   "execution_count": null,
   "metadata": {},
   "outputs": [],
   "source": [
    "df['raintomorrow'] = y_resampled"
   ]
  },
  {
   "cell_type": "code",
   "execution_count": null,
   "metadata": {},
   "outputs": [],
   "source": [
    "X = df.drop(columns=['raintomorrow'])\n",
    "y = df['raintomorrow']"
   ]
  },
  {
   "cell_type": "markdown",
   "metadata": {},
   "source": [
    "## Standardizar"
   ]
  },
  {
   "cell_type": "code",
   "execution_count": 90,
   "metadata": {},
   "outputs": [],
   "source": [
    "from sklearn.preprocessing import StandardScaler"
   ]
  },
  {
   "cell_type": "code",
   "execution_count": 317,
   "metadata": {},
   "outputs": [],
   "source": [
    "scaler = StandardScaler()"
   ]
  },
  {
   "cell_type": "code",
   "execution_count": 318,
   "metadata": {},
   "outputs": [
    {
     "data": {
      "text/plain": [
       "StandardScaler(copy=True, with_mean=True, with_std=True)"
      ]
     },
     "execution_count": 318,
     "metadata": {},
     "output_type": "execute_result"
    }
   ],
   "source": [
    "scaler.fit(X)"
   ]
  },
  {
   "cell_type": "code",
   "execution_count": 319,
   "metadata": {},
   "outputs": [],
   "source": [
    "dfs=pd.DataFrame(scaler.transform(X), columns=X.columns, index=X.index)"
   ]
  },
  {
   "cell_type": "code",
   "execution_count": 320,
   "metadata": {},
   "outputs": [],
   "source": [
    "dfs['raintomorrow'] = df['raintomorrow']"
   ]
  },
  {
   "cell_type": "markdown",
   "metadata": {},
   "source": [
    "## Regressão Logística"
   ]
  },
  {
   "cell_type": "code",
   "execution_count": 328,
   "metadata": {},
   "outputs": [],
   "source": [
    "modelo = LogisticRegression(max_iter=10000)"
   ]
  },
  {
   "cell_type": "code",
   "execution_count": 329,
   "metadata": {},
   "outputs": [
    {
     "data": {
      "text/plain": [
       "LogisticRegression(C=1.0, class_weight=None, dual=False, fit_intercept=True,\n",
       "                   intercept_scaling=1, l1_ratio=None, max_iter=10000,\n",
       "                   multi_class='auto', n_jobs=None, penalty='l2',\n",
       "                   random_state=None, solver='lbfgs', tol=0.0001, verbose=0,\n",
       "                   warm_start=False)"
      ]
     },
     "execution_count": 329,
     "metadata": {},
     "output_type": "execute_result"
    }
   ],
   "source": [
    "modelo.fit(X,y)"
   ]
  },
  {
   "cell_type": "code",
   "execution_count": 330,
   "metadata": {
    "scrolled": true
   },
   "outputs": [
    {
     "data": {
      "text/plain": [
       "0.7124518613607189"
      ]
     },
     "execution_count": 330,
     "metadata": {},
     "output_type": "execute_result"
    }
   ],
   "source": [
    "modelo.score(X,y)"
   ]
  },
  {
   "cell_type": "code",
   "execution_count": 331,
   "metadata": {},
   "outputs": [
    {
     "data": {
      "text/plain": [
       "0.7095115681233933"
      ]
     },
     "execution_count": 331,
     "metadata": {},
     "output_type": "execute_result"
    }
   ],
   "source": [
    "X_train, X_test, y_train, y_test = train_test_split(X, y, test_size=0.75, random_state=7)\n",
    "modelo.score(X_train, y_train)"
   ]
  },
  {
   "cell_type": "code",
   "execution_count": 326,
   "metadata": {
    "scrolled": true
   },
   "outputs": [
    {
     "name": "stdout",
     "output_type": "stream",
     "text": [
      "Taxa de acerto: 0.7180500658761528\n",
      "Taxa de captura: 0.699614890885751\n"
     ]
    }
   ],
   "source": [
    "print('Taxa de acerto:', + precision_score(y, modelo.predict(X)))\n",
    "print('Taxa de captura:', + recall_score(y, modelo.predict(X)))"
   ]
  },
  {
   "cell_type": "code",
   "execution_count": 327,
   "metadata": {},
   "outputs": [
    {
     "data": {
      "image/png": "[encoded data removed]",
      "text/plain": [
       "<Figure size 432x288 with 2 Axes>"
      ]
     },
     "metadata": {
      "needs_background": "light"
     },
     "output_type": "display_data"
    }
   ],
   "source": [
    "plot_confusion_matrix(modelo, X_test, y_test, values_format='.0f')\n",
    "plt.grid(False)"
   ]
  },
  {
   "cell_type": "code",
   "execution_count": 333,
   "metadata": {
    "scrolled": false
   },
   "outputs": [
    {
     "data": {
      "text/plain": [
       "Index(['mintemp', 'maxtemp', 'rainfall', 'evaporation', 'sunshine',\n",
       "       'humidity9am', 'humidity3pm', 'pressure9am', 'pressure3pm', 'cloud9am',\n",
       "       'cloud3pm', 'temp9am', 'temp3pm', 'raintoday', 'temp', 'humidity',\n",
       "       'precipitation3pm', 'precipitation9am', 'windgustspeed', 'windspeed9am',\n",
       "       'windspeed3pm', 'labels'],\n",
       "      dtype='object')"
      ]
     },
     "execution_count": 333,
     "metadata": {},
     "output_type": "execute_result"
    }
   ],
   "source": [
    "X.columns"
   ]
  },
  {
   "cell_type": "code",
   "execution_count": null,
   "metadata": {},
   "outputs": [],
   "source": []
  },
  {
   "cell_type": "code",
   "execution_count": null,
   "metadata": {},
   "outputs": [],
   "source": []
  },
  {
   "cell_type": "code",
   "execution_count": null,
   "metadata": {},
   "outputs": [],
   "source": []
  },
  {
   "cell_type": "code",
   "execution_count": null,
   "metadata": {},
   "outputs": [],
   "source": []
  },
  {
   "cell_type": "markdown",
   "metadata": {},
   "source": [
    "## Cotovelo & KMeans"
   ]
  },
  {
   "cell_type": "code",
   "execution_count": 102,
   "metadata": {
    "scrolled": false
   },
   "outputs": [
    {
     "data": {
      "image/png": "[encoded data removed]",
      "text/plain": [
       "<Figure size 432x288 with 2 Axes>"
      ]
     },
     "metadata": {},
     "output_type": "display_data"
    },
    {
     "data": {
      "text/plain": [
       "<matplotlib.axes._subplots.AxesSubplot at 0x2458670bb08>"
      ]
     },
     "execution_count": 102,
     "metadata": {},
     "output_type": "execute_result"
    }
   ],
   "source": [
    "model = KMeans()\n",
    "visualizer = KElbowVisualizer(model, k=(1,20))\n",
    "visualizer.fit(dfs)\n",
    "visualizer.show()"
   ]
  },
  {
   "cell_type": "code",
   "execution_count": 321,
   "metadata": {},
   "outputs": [
    {
     "data": {
      "text/plain": [
       "KMeans(algorithm='auto', copy_x=True, init='k-means++', max_iter=300,\n",
       "       n_clusters=6, n_init=10, n_jobs=-1, precompute_distances='auto',\n",
       "       random_state=None, tol=0.0001, verbose=0)"
      ]
     },
     "execution_count": 321,
     "metadata": {},
     "output_type": "execute_result"
    }
   ],
   "source": [
    "model = KMeans(n_clusters=6, n_jobs=-1)\n",
    "model.fit(X)"
   ]
  },
  {
   "cell_type": "code",
   "execution_count": 322,
   "metadata": {},
   "outputs": [],
   "source": [
    "dfs['labels'] = model.labels_"
   ]
  },
  {
   "cell_type": "markdown",
   "metadata": {},
   "source": [
    "### Labels == 0"
   ]
  },
  {
   "cell_type": "code",
   "execution_count": 279,
   "metadata": {},
   "outputs": [
    {
     "data": {
      "text/plain": [
       "LogisticRegression(C=1.0, class_weight=None, dual=False, fit_intercept=True,\n",
       "                   intercept_scaling=1, l1_ratio=None, max_iter=10000,\n",
       "                   multi_class='auto', n_jobs=None, penalty='l2',\n",
       "                   random_state=None, solver='lbfgs', tol=0.0001, verbose=0,\n",
       "                   warm_start=False)"
      ]
     },
     "execution_count": 279,
     "metadata": {},
     "output_type": "execute_result"
    }
   ],
   "source": [
    "mask = dfs['labels'] == 0\n",
    "X = dfs[mask].drop(columns=['raintomorrow'])\n",
    "y = dfs[mask]['raintomorrow']\n",
    "modelo.fit(X,y)"
   ]
  },
  {
   "cell_type": "code",
   "execution_count": 280,
   "metadata": {},
   "outputs": [
    {
     "data": {
      "text/plain": [
       "0.8034682080924855"
      ]
     },
     "execution_count": 280,
     "metadata": {},
     "output_type": "execute_result"
    }
   ],
   "source": [
    "modelo.score(X,y)"
   ]
  },
  {
   "cell_type": "code",
   "execution_count": 281,
   "metadata": {},
   "outputs": [
    {
     "data": {
      "text/plain": [
       "0.8837209302325582"
      ]
     },
     "execution_count": 281,
     "metadata": {},
     "output_type": "execute_result"
    }
   ],
   "source": [
    "X_train, X_test, y_train, y_test = train_test_split(X, y, test_size=0.75, random_state=7)\n",
    "modelo.score(X_train, y_train)"
   ]
  },
  {
   "cell_type": "markdown",
   "metadata": {},
   "source": [
    "### Labels == 5"
   ]
  },
  {
   "cell_type": "code",
   "execution_count": 282,
   "metadata": {},
   "outputs": [
    {
     "data": {
      "text/plain": [
       "LogisticRegression(C=1.0, class_weight=None, dual=False, fit_intercept=True,\n",
       "                   intercept_scaling=1, l1_ratio=None, max_iter=10000,\n",
       "                   multi_class='auto', n_jobs=None, penalty='l2',\n",
       "                   random_state=None, solver='lbfgs', tol=0.0001, verbose=0,\n",
       "                   warm_start=False)"
      ]
     },
     "execution_count": 282,
     "metadata": {},
     "output_type": "execute_result"
    }
   ],
   "source": [
    "mask = dfs['labels'] == 5\n",
    "X = dfs[mask].drop(columns=['raintomorrow'])\n",
    "y = dfs[mask]['raintomorrow']\n",
    "modelo.fit(X,y)"
   ]
  },
  {
   "cell_type": "code",
   "execution_count": 283,
   "metadata": {},
   "outputs": [
    {
     "data": {
      "text/plain": [
       "0.7323232323232324"
      ]
     },
     "execution_count": 283,
     "metadata": {},
     "output_type": "execute_result"
    }
   ],
   "source": [
    "modelo.score(X,y)"
   ]
  },
  {
   "cell_type": "code",
   "execution_count": 284,
   "metadata": {},
   "outputs": [
    {
     "data": {
      "text/plain": [
       "0.7959183673469388"
      ]
     },
     "execution_count": 284,
     "metadata": {},
     "output_type": "execute_result"
    }
   ],
   "source": [
    "X_train, X_test, y_train, y_test = train_test_split(X, y, test_size=0.75, random_state=7)\n",
    "modelo.score(X_train, y_train)"
   ]
  },
  {
   "cell_type": "code",
   "execution_count": 285,
   "metadata": {},
   "outputs": [
    {
     "name": "stdout",
     "output_type": "stream",
     "text": [
      "Taxa de acerto: 0.7383177570093458\n",
      "Taxa de captura: 0.7596153846153846\n"
     ]
    }
   ],
   "source": [
    "print('Taxa de acerto:', + precision_score(y, modelo.predict(X)))\n",
    "print('Taxa de captura:', + recall_score(y, modelo.predict(X)))"
   ]
  },
  {
   "cell_type": "markdown",
   "metadata": {},
   "source": [
    "### Labels == 3"
   ]
  },
  {
   "cell_type": "code",
   "execution_count": 286,
   "metadata": {},
   "outputs": [
    {
     "data": {
      "text/plain": [
       "LogisticRegression(C=1.0, class_weight=None, dual=False, fit_intercept=True,\n",
       "                   intercept_scaling=1, l1_ratio=None, max_iter=10000,\n",
       "                   multi_class='auto', n_jobs=None, penalty='l2',\n",
       "                   random_state=None, solver='lbfgs', tol=0.0001, verbose=0,\n",
       "                   warm_start=False)"
      ]
     },
     "execution_count": 286,
     "metadata": {},
     "output_type": "execute_result"
    }
   ],
   "source": [
    "mask = dfs['labels'] == 3\n",
    "X = dfs[mask].drop(columns=['raintomorrow'])\n",
    "y = dfs[mask]['raintomorrow']\n",
    "modelo.fit(X,y)"
   ]
  },
  {
   "cell_type": "code",
   "execution_count": 287,
   "metadata": {},
   "outputs": [
    {
     "data": {
      "text/plain": [
       "0.8059071729957806"
      ]
     },
     "execution_count": 287,
     "metadata": {},
     "output_type": "execute_result"
    }
   ],
   "source": [
    "modelo.score(X,y)"
   ]
  },
  {
   "cell_type": "code",
   "execution_count": 288,
   "metadata": {},
   "outputs": [
    {
     "data": {
      "text/plain": [
       "0.8135593220338984"
      ]
     },
     "execution_count": 288,
     "metadata": {},
     "output_type": "execute_result"
    }
   ],
   "source": [
    "X_train, X_test, y_train, y_test = train_test_split(X, y, test_size=0.75, random_state=7)\n",
    "modelo.score(X_train, y_train)"
   ]
  },
  {
   "cell_type": "code",
   "execution_count": 289,
   "metadata": {},
   "outputs": [
    {
     "name": "stdout",
     "output_type": "stream",
     "text": [
      "Taxa de acerto: 0.6\n",
      "Taxa de captura: 0.1836734693877551\n"
     ]
    }
   ],
   "source": [
    "print('Taxa de acerto:', + precision_score(y, modelo.predict(X)))\n",
    "print('Taxa de captura:', + recall_score(y, modelo.predict(X)))"
   ]
  },
  {
   "cell_type": "markdown",
   "metadata": {},
   "source": [
    "### Labels == 4"
   ]
  },
  {
   "cell_type": "code",
   "execution_count": 290,
   "metadata": {},
   "outputs": [
    {
     "data": {
      "text/plain": [
       "LogisticRegression(C=1.0, class_weight=None, dual=False, fit_intercept=True,\n",
       "                   intercept_scaling=1, l1_ratio=None, max_iter=10000,\n",
       "                   multi_class='auto', n_jobs=None, penalty='l2',\n",
       "                   random_state=None, solver='lbfgs', tol=0.0001, verbose=0,\n",
       "                   warm_start=False)"
      ]
     },
     "execution_count": 290,
     "metadata": {},
     "output_type": "execute_result"
    }
   ],
   "source": [
    "mask = dfs['labels'] == 4\n",
    "X = dfs[mask].drop(columns=['raintomorrow'])\n",
    "y = dfs[mask]['raintomorrow']\n",
    "modelo.fit(X,y)"
   ]
  },
  {
   "cell_type": "code",
   "execution_count": 291,
   "metadata": {},
   "outputs": [
    {
     "data": {
      "text/plain": [
       "0.7257383966244726"
      ]
     },
     "execution_count": 291,
     "metadata": {},
     "output_type": "execute_result"
    }
   ],
   "source": [
    "modelo.score(X,y)"
   ]
  },
  {
   "cell_type": "code",
   "execution_count": 292,
   "metadata": {},
   "outputs": [
    {
     "data": {
      "text/plain": [
       "0.8305084745762712"
      ]
     },
     "execution_count": 292,
     "metadata": {},
     "output_type": "execute_result"
    }
   ],
   "source": [
    "X_train, X_test, y_train, y_test = train_test_split(X, y, test_size=0.75, random_state=7)\n",
    "modelo.score(X_train, y_train)"
   ]
  },
  {
   "cell_type": "code",
   "execution_count": 293,
   "metadata": {},
   "outputs": [
    {
     "name": "stdout",
     "output_type": "stream",
     "text": [
      "Taxa de acerto: 0.7566137566137566\n",
      "Taxa de captura: 0.8827160493827161\n"
     ]
    }
   ],
   "source": [
    "print('Taxa de acerto:', + precision_score(y, modelo.predict(X)))\n",
    "print('Taxa de captura:', + recall_score(y, modelo.predict(X)))"
   ]
  },
  {
   "cell_type": "code",
   "execution_count": null,
   "metadata": {},
   "outputs": [],
   "source": []
  },
  {
   "cell_type": "code",
   "execution_count": null,
   "metadata": {},
   "outputs": [],
   "source": []
  }
 ],
 "metadata": {
  "kernelspec": {
   "display_name": "Python 3",
   "language": "python",
   "name": "python3"
  },
  "language_info": {
   "codemirror_mode": {
    "name": "ipython",
    "version": 3
   },
   "file_extension": ".py",
   "mimetype": "text/x-python",
   "name": "python",
   "nbconvert_exporter": "python",
   "pygments_lexer": "ipython3",
   "version": "3.7.4"
  },
  "nbTranslate": {
   "displayLangs": [
    "*"
   ],
   "hotkey": "alt-t",
   "langInMainMenu": true,
   "sourceLang": "en",
   "targetLang": "fr",
   "useGoogleTranslate": true
  },
  "toc": {
   "base_numbering": 1,
   "nav_menu": {},
   "number_sections": true,
   "sideBar": true,
   "skip_h1_title": false,
   "title_cell": "Table of Contents",
   "title_sidebar": "Contents",
   "toc_cell": false,
   "toc_position": {
    "height": "calc(100% - 180px)",
    "left": "10px",
    "top": "150px",
    "width": "206px"
   },
   "toc_section_display": true,
   "toc_window_display": true
  }
 },
 "nbformat": 4,
 "nbformat_minor": 2
}
