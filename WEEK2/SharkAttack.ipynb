{
 "cells": [
  {
   "cell_type": "markdown",
   "metadata": {},
   "source": [
    "## Analising EUA and Australia, what is the gender with most attacks?"
   ]
  },
  {
   "cell_type": "code",
   "execution_count": 630,
   "metadata": {},
   "outputs": [],
   "source": [
    "import pandas as pd"
   ]
  },
  {
   "cell_type": "code",
   "execution_count": 631,
   "metadata": {},
   "outputs": [],
   "source": [
    "shark = pd.read_csv('GSAF5.csv', encoding='latin-1')"
   ]
  },
  {
   "cell_type": "code",
   "execution_count": 632,
   "metadata": {},
   "outputs": [
    {
     "data": {
      "text/html": [
       "<div>\n",
       "<style scoped>\n",
       "    .dataframe tbody tr th:only-of-type {\n",
       "        vertical-align: middle;\n",
       "    }\n",
       "\n",
       "    .dataframe tbody tr th {\n",
       "        vertical-align: top;\n",
       "    }\n",
       "\n",
       "    .dataframe thead th {\n",
       "        text-align: right;\n",
       "    }\n",
       "</style>\n",
       "<table border=\"1\" class=\"dataframe\">\n",
       "  <thead>\n",
       "    <tr style=\"text-align: right;\">\n",
       "      <th></th>\n",
       "      <th>Country</th>\n",
       "      <th>Sex</th>\n",
       "      <th>Date</th>\n",
       "    </tr>\n",
       "  </thead>\n",
       "  <tbody>\n",
       "    <tr>\n",
       "      <td>0</td>\n",
       "      <td>USA</td>\n",
       "      <td>M</td>\n",
       "      <td>18-Sep-16</td>\n",
       "    </tr>\n",
       "    <tr>\n",
       "      <td>1</td>\n",
       "      <td>USA</td>\n",
       "      <td>M</td>\n",
       "      <td>18-Sep-16</td>\n",
       "    </tr>\n",
       "    <tr>\n",
       "      <td>2</td>\n",
       "      <td>USA</td>\n",
       "      <td>M</td>\n",
       "      <td>18-Sep-16</td>\n",
       "    </tr>\n",
       "    <tr>\n",
       "      <td>3</td>\n",
       "      <td>AUSTRALIA</td>\n",
       "      <td>M</td>\n",
       "      <td>17-Sep-16</td>\n",
       "    </tr>\n",
       "    <tr>\n",
       "      <td>4</td>\n",
       "      <td>AUSTRALIA</td>\n",
       "      <td>M</td>\n",
       "      <td>16-Sep-16</td>\n",
       "    </tr>\n",
       "    <tr>\n",
       "      <td>...</td>\n",
       "      <td>...</td>\n",
       "      <td>...</td>\n",
       "      <td>...</td>\n",
       "    </tr>\n",
       "    <tr>\n",
       "      <td>5987</td>\n",
       "      <td>AUSTRALIA</td>\n",
       "      <td>M</td>\n",
       "      <td>Before 1903</td>\n",
       "    </tr>\n",
       "    <tr>\n",
       "      <td>5988</td>\n",
       "      <td>AUSTRALIA</td>\n",
       "      <td>M</td>\n",
       "      <td>Before 1903</td>\n",
       "    </tr>\n",
       "    <tr>\n",
       "      <td>5989</td>\n",
       "      <td>USA</td>\n",
       "      <td>M</td>\n",
       "      <td>1900-1905</td>\n",
       "    </tr>\n",
       "    <tr>\n",
       "      <td>5990</td>\n",
       "      <td>PANAMA</td>\n",
       "      <td>M</td>\n",
       "      <td>1883-1889</td>\n",
       "    </tr>\n",
       "    <tr>\n",
       "      <td>5991</td>\n",
       "      <td>CEYLON (SRI LANKA)</td>\n",
       "      <td>M</td>\n",
       "      <td>1845-1853</td>\n",
       "    </tr>\n",
       "  </tbody>\n",
       "</table>\n",
       "<p>5992 rows × 3 columns</p>\n",
       "</div>"
      ],
      "text/plain": [
       "                 Country Sex          Date\n",
       "0                    USA    M    18-Sep-16\n",
       "1                    USA    M    18-Sep-16\n",
       "2                    USA    M    18-Sep-16\n",
       "3              AUSTRALIA    M    17-Sep-16\n",
       "4              AUSTRALIA    M    16-Sep-16\n",
       "...                  ...  ...          ...\n",
       "5987           AUSTRALIA    M  Before 1903\n",
       "5988           AUSTRALIA    M  Before 1903\n",
       "5989                 USA    M    1900-1905\n",
       "5990              PANAMA    M    1883-1889\n",
       "5991  CEYLON (SRI LANKA)    M    1845-1853\n",
       "\n",
       "[5992 rows x 3 columns]"
      ]
     },
     "execution_count": 632,
     "metadata": {},
     "output_type": "execute_result"
    }
   ],
   "source": [
    "shark[['Country', 'Sex ', 'Date']]"
   ]
  },
  {
   "cell_type": "code",
   "execution_count": 634,
   "metadata": {},
   "outputs": [
    {
     "data": {
      "text/html": [
       "<div>\n",
       "<style scoped>\n",
       "    .dataframe tbody tr th:only-of-type {\n",
       "        vertical-align: middle;\n",
       "    }\n",
       "\n",
       "    .dataframe tbody tr th {\n",
       "        vertical-align: top;\n",
       "    }\n",
       "\n",
       "    .dataframe thead th {\n",
       "        text-align: right;\n",
       "    }\n",
       "</style>\n",
       "<table border=\"1\" class=\"dataframe\">\n",
       "  <thead>\n",
       "    <tr style=\"text-align: right;\">\n",
       "      <th></th>\n",
       "      <th>Country</th>\n",
       "      <th>Sex</th>\n",
       "      <th>Date</th>\n",
       "    </tr>\n",
       "  </thead>\n",
       "  <tbody>\n",
       "    <tr>\n",
       "      <td>0</td>\n",
       "      <td>USA</td>\n",
       "      <td>M</td>\n",
       "      <td>18-Sep-16</td>\n",
       "    </tr>\n",
       "    <tr>\n",
       "      <td>1</td>\n",
       "      <td>USA</td>\n",
       "      <td>M</td>\n",
       "      <td>18-Sep-16</td>\n",
       "    </tr>\n",
       "    <tr>\n",
       "      <td>2</td>\n",
       "      <td>USA</td>\n",
       "      <td>M</td>\n",
       "      <td>18-Sep-16</td>\n",
       "    </tr>\n",
       "    <tr>\n",
       "      <td>3</td>\n",
       "      <td>AUSTRALIA</td>\n",
       "      <td>M</td>\n",
       "      <td>17-Sep-16</td>\n",
       "    </tr>\n",
       "    <tr>\n",
       "      <td>4</td>\n",
       "      <td>AUSTRALIA</td>\n",
       "      <td>M</td>\n",
       "      <td>16-Sep-16</td>\n",
       "    </tr>\n",
       "    <tr>\n",
       "      <td>...</td>\n",
       "      <td>...</td>\n",
       "      <td>...</td>\n",
       "      <td>...</td>\n",
       "    </tr>\n",
       "    <tr>\n",
       "      <td>5987</td>\n",
       "      <td>AUSTRALIA</td>\n",
       "      <td>M</td>\n",
       "      <td>Before 1903</td>\n",
       "    </tr>\n",
       "    <tr>\n",
       "      <td>5988</td>\n",
       "      <td>AUSTRALIA</td>\n",
       "      <td>M</td>\n",
       "      <td>Before 1903</td>\n",
       "    </tr>\n",
       "    <tr>\n",
       "      <td>5989</td>\n",
       "      <td>USA</td>\n",
       "      <td>M</td>\n",
       "      <td>1900-1905</td>\n",
       "    </tr>\n",
       "    <tr>\n",
       "      <td>5990</td>\n",
       "      <td>PANAMA</td>\n",
       "      <td>M</td>\n",
       "      <td>1883-1889</td>\n",
       "    </tr>\n",
       "    <tr>\n",
       "      <td>5991</td>\n",
       "      <td>CEYLON (SRI LANKA)</td>\n",
       "      <td>M</td>\n",
       "      <td>1845-1853</td>\n",
       "    </tr>\n",
       "  </tbody>\n",
       "</table>\n",
       "<p>5385 rows × 3 columns</p>\n",
       "</div>"
      ],
      "text/plain": [
       "                 Country Sex          Date\n",
       "0                    USA    M    18-Sep-16\n",
       "1                    USA    M    18-Sep-16\n",
       "2                    USA    M    18-Sep-16\n",
       "3              AUSTRALIA    M    17-Sep-16\n",
       "4              AUSTRALIA    M    16-Sep-16\n",
       "...                  ...  ...          ...\n",
       "5987           AUSTRALIA    M  Before 1903\n",
       "5988           AUSTRALIA    M  Before 1903\n",
       "5989                 USA    M    1900-1905\n",
       "5990              PANAMA    M    1883-1889\n",
       "5991  CEYLON (SRI LANKA)    M    1845-1853\n",
       "\n",
       "[5385 rows x 3 columns]"
      ]
     },
     "execution_count": 634,
     "metadata": {},
     "output_type": "execute_result"
    }
   ],
   "source": [
    "shark_list = shark[['Country', 'Sex ', 'Date']].dropna() #it had no information\n",
    "shark_list"
   ]
  },
  {
   "cell_type": "code",
   "execution_count": 611,
   "metadata": {},
   "outputs": [
    {
     "data": {
      "text/plain": [
       "['M ', 'M ', 'lli', 'N', '.']"
      ]
     },
     "execution_count": 611,
     "metadata": {},
     "output_type": "execute_result"
    }
   ],
   "source": [
    "to_treat = []\n",
    "def is_sex(x):\n",
    "    if x=='M' or x=='F':\n",
    "        return True\n",
    "    else:\n",
    "        return to_treat.append(x)\n",
    "shark_list['Sex '].map(is_sex)\n",
    "to_treat"
   ]
  },
  {
   "cell_type": "code",
   "execution_count": 612,
   "metadata": {},
   "outputs": [
    {
     "data": {
      "text/html": [
       "<div>\n",
       "<style scoped>\n",
       "    .dataframe tbody tr th:only-of-type {\n",
       "        vertical-align: middle;\n",
       "    }\n",
       "\n",
       "    .dataframe tbody tr th {\n",
       "        vertical-align: top;\n",
       "    }\n",
       "\n",
       "    .dataframe thead th {\n",
       "        text-align: right;\n",
       "    }\n",
       "</style>\n",
       "<table border=\"1\" class=\"dataframe\">\n",
       "  <thead>\n",
       "    <tr style=\"text-align: right;\">\n",
       "      <th></th>\n",
       "      <th>Country</th>\n",
       "      <th>Sex</th>\n",
       "      <th>Date</th>\n",
       "    </tr>\n",
       "  </thead>\n",
       "  <tbody>\n",
       "    <tr>\n",
       "      <td>0</td>\n",
       "      <td>USA</td>\n",
       "      <td>M</td>\n",
       "      <td>18-Sep-16</td>\n",
       "    </tr>\n",
       "    <tr>\n",
       "      <td>1</td>\n",
       "      <td>USA</td>\n",
       "      <td>M</td>\n",
       "      <td>18-Sep-16</td>\n",
       "    </tr>\n",
       "    <tr>\n",
       "      <td>2</td>\n",
       "      <td>USA</td>\n",
       "      <td>M</td>\n",
       "      <td>18-Sep-16</td>\n",
       "    </tr>\n",
       "    <tr>\n",
       "      <td>3</td>\n",
       "      <td>AUSTRALIA</td>\n",
       "      <td>M</td>\n",
       "      <td>17-Sep-16</td>\n",
       "    </tr>\n",
       "    <tr>\n",
       "      <td>4</td>\n",
       "      <td>AUSTRALIA</td>\n",
       "      <td>M</td>\n",
       "      <td>16-Sep-16</td>\n",
       "    </tr>\n",
       "    <tr>\n",
       "      <td>...</td>\n",
       "      <td>...</td>\n",
       "      <td>...</td>\n",
       "      <td>...</td>\n",
       "    </tr>\n",
       "    <tr>\n",
       "      <td>5987</td>\n",
       "      <td>AUSTRALIA</td>\n",
       "      <td>M</td>\n",
       "      <td>Before 1903</td>\n",
       "    </tr>\n",
       "    <tr>\n",
       "      <td>5988</td>\n",
       "      <td>AUSTRALIA</td>\n",
       "      <td>M</td>\n",
       "      <td>Before 1903</td>\n",
       "    </tr>\n",
       "    <tr>\n",
       "      <td>5989</td>\n",
       "      <td>USA</td>\n",
       "      <td>M</td>\n",
       "      <td>1900-1905</td>\n",
       "    </tr>\n",
       "    <tr>\n",
       "      <td>5990</td>\n",
       "      <td>PANAMA</td>\n",
       "      <td>M</td>\n",
       "      <td>1883-1889</td>\n",
       "    </tr>\n",
       "    <tr>\n",
       "      <td>5991</td>\n",
       "      <td>CEYLON (SRI LANKA)</td>\n",
       "      <td>M</td>\n",
       "      <td>1845-1853</td>\n",
       "    </tr>\n",
       "  </tbody>\n",
       "</table>\n",
       "<p>5385 rows × 3 columns</p>\n",
       "</div>"
      ],
      "text/plain": [
       "                 Country Sex          Date\n",
       "0                    USA    M    18-Sep-16\n",
       "1                    USA    M    18-Sep-16\n",
       "2                    USA    M    18-Sep-16\n",
       "3              AUSTRALIA    M    17-Sep-16\n",
       "4              AUSTRALIA    M    16-Sep-16\n",
       "...                  ...  ...          ...\n",
       "5987           AUSTRALIA    M  Before 1903\n",
       "5988           AUSTRALIA    M  Before 1903\n",
       "5989                 USA    M    1900-1905\n",
       "5990              PANAMA    M    1883-1889\n",
       "5991  CEYLON (SRI LANKA)    M    1845-1853\n",
       "\n",
       "[5385 rows x 3 columns]"
      ]
     },
     "execution_count": 612,
     "metadata": {},
     "output_type": "execute_result"
    }
   ],
   "source": [
    "shark_list['Sex '] = shark_list['Sex '].replace(to_replace = ['M ','N'], value= 'M', regex=True) \n",
    "shark_list"
   ]
  },
  {
   "cell_type": "code",
   "execution_count": 613,
   "metadata": {},
   "outputs": [
    {
     "data": {
      "text/plain": [
       "USA                             2016\n",
       "AUSTRALIA                       1136\n",
       "SOUTH AFRICA                     501\n",
       "PAPUA NEW GUINEA                 115\n",
       "NEW ZEALAND                      110\n",
       "                                ... \n",
       "ITALY / CROATIA                    1\n",
       "EQUATORIAL GUINEA / CAMEROON       1\n",
       "KUWAIT                             1\n",
       "CYPRUS                             1\n",
       "RED SEA                            1\n",
       "Name: Country, Length: 194, dtype: int64"
      ]
     },
     "execution_count": 613,
     "metadata": {},
     "output_type": "execute_result"
    }
   ],
   "source": [
    "shark_list[\"Country\"].value_counts()"
   ]
  },
  {
   "cell_type": "code",
   "execution_count": 614,
   "metadata": {},
   "outputs": [
    {
     "data": {
      "text/html": [
       "<div>\n",
       "<style scoped>\n",
       "    .dataframe tbody tr th:only-of-type {\n",
       "        vertical-align: middle;\n",
       "    }\n",
       "\n",
       "    .dataframe tbody tr th {\n",
       "        vertical-align: top;\n",
       "    }\n",
       "\n",
       "    .dataframe thead th {\n",
       "        text-align: right;\n",
       "    }\n",
       "</style>\n",
       "<table border=\"1\" class=\"dataframe\">\n",
       "  <thead>\n",
       "    <tr style=\"text-align: right;\">\n",
       "      <th></th>\n",
       "      <th>Country</th>\n",
       "      <th>Sex</th>\n",
       "      <th>Date</th>\n",
       "    </tr>\n",
       "  </thead>\n",
       "  <tbody>\n",
       "    <tr>\n",
       "      <td>0</td>\n",
       "      <td>USA</td>\n",
       "      <td>M</td>\n",
       "      <td>18-Sep-16</td>\n",
       "    </tr>\n",
       "    <tr>\n",
       "      <td>1</td>\n",
       "      <td>USA</td>\n",
       "      <td>M</td>\n",
       "      <td>18-Sep-16</td>\n",
       "    </tr>\n",
       "    <tr>\n",
       "      <td>2</td>\n",
       "      <td>USA</td>\n",
       "      <td>M</td>\n",
       "      <td>18-Sep-16</td>\n",
       "    </tr>\n",
       "    <tr>\n",
       "      <td>6</td>\n",
       "      <td>USA</td>\n",
       "      <td>M</td>\n",
       "      <td>11-Sep-16</td>\n",
       "    </tr>\n",
       "    <tr>\n",
       "      <td>7</td>\n",
       "      <td>USA</td>\n",
       "      <td>F</td>\n",
       "      <td>07-Sep-16</td>\n",
       "    </tr>\n",
       "    <tr>\n",
       "      <td>...</td>\n",
       "      <td>...</td>\n",
       "      <td>...</td>\n",
       "      <td>...</td>\n",
       "    </tr>\n",
       "    <tr>\n",
       "      <td>5939</td>\n",
       "      <td>USA</td>\n",
       "      <td>M</td>\n",
       "      <td>Before 1958</td>\n",
       "    </tr>\n",
       "    <tr>\n",
       "      <td>5973</td>\n",
       "      <td>USA</td>\n",
       "      <td>M</td>\n",
       "      <td>Before 1921</td>\n",
       "    </tr>\n",
       "    <tr>\n",
       "      <td>5978</td>\n",
       "      <td>USA</td>\n",
       "      <td>M</td>\n",
       "      <td>Before          17-Jul-1916</td>\n",
       "    </tr>\n",
       "    <tr>\n",
       "      <td>5982</td>\n",
       "      <td>USA</td>\n",
       "      <td>F</td>\n",
       "      <td>Circa 1862</td>\n",
       "    </tr>\n",
       "    <tr>\n",
       "      <td>5989</td>\n",
       "      <td>USA</td>\n",
       "      <td>M</td>\n",
       "      <td>1900-1905</td>\n",
       "    </tr>\n",
       "  </tbody>\n",
       "</table>\n",
       "<p>2016 rows × 3 columns</p>\n",
       "</div>"
      ],
      "text/plain": [
       "     Country Sex                          Date\n",
       "0        USA    M                    18-Sep-16\n",
       "1        USA    M                    18-Sep-16\n",
       "2        USA    M                    18-Sep-16\n",
       "6        USA    M                    11-Sep-16\n",
       "7        USA    F                    07-Sep-16\n",
       "...      ...  ...                          ...\n",
       "5939     USA    M                  Before 1958\n",
       "5973     USA    M                  Before 1921\n",
       "5978     USA    M  Before          17-Jul-1916\n",
       "5982     USA    F                   Circa 1862\n",
       "5989     USA    M                    1900-1905\n",
       "\n",
       "[2016 rows x 3 columns]"
      ]
     },
     "execution_count": 614,
     "metadata": {},
     "output_type": "execute_result"
    }
   ],
   "source": [
    "mask = shark_list['Country'] == 'USA'\n",
    "shark_usa = shark_list[mask]\n",
    "shark_usa"
   ]
  },
  {
   "cell_type": "code",
   "execution_count": 615,
   "metadata": {
    "scrolled": true
   },
   "outputs": [
    {
     "data": {
      "text/plain": [
       "0    0.847146\n",
       "1    0.152854\n",
       "Name: Qtd, dtype: float64"
      ]
     },
     "execution_count": 615,
     "metadata": {},
     "output_type": "execute_result"
    }
   ],
   "source": [
    "#Drop feito para eliminar um dado indecifrável onde não é possível distinguir o gênero.\n",
    "df_usa = pd.DataFrame(shark_usa['Sex '].value_counts().reset_index().rename(columns = {'index':'Gender', 'Sex ': 'Qtd'})).drop(index=2)\n",
    "df_usa_porcentagem = df_usa['Qtd']/(df_usa['Qtd'].sum())\n",
    "df_usa_porcentagem\n"
   ]
  },
  {
   "cell_type": "code",
   "execution_count": 616,
   "metadata": {},
   "outputs": [
    {
     "data": {
      "text/plain": [
       "05-Oct-03               5\n",
       "12-Apr-01               5\n",
       "28-Jul-95               5\n",
       "20-Sep-15               4\n",
       "14-Jun-12               4\n",
       "                       ..\n",
       "Reported 29-Nov-2005    1\n",
       "06-Sep-76               1\n",
       "08-Nov-11               1\n",
       "20-Jul-69               1\n",
       "28-Aug-08               1\n",
       "Name: Date, Length: 1800, dtype: int64"
      ]
     },
     "execution_count": 616,
     "metadata": {},
     "output_type": "execute_result"
    }
   ],
   "source": [
    "shark_usa[\"Date\"].value_counts()"
   ]
  },
  {
   "cell_type": "code",
   "execution_count": 617,
   "metadata": {},
   "outputs": [],
   "source": [
    "pattern = '\\-(\\D+)\\-'\n",
    "mes = shark_usa['Date'].apply(lambda x: re.findall(pattern, x))     "
   ]
  },
  {
   "cell_type": "code",
   "execution_count": 618,
   "metadata": {},
   "outputs": [
    {
     "data": {
      "text/plain": [
       "0       [Sep]\n",
       "1       [Sep]\n",
       "2       [Sep]\n",
       "6       [Sep]\n",
       "7       [Sep]\n",
       "        ...  \n",
       "5939       []\n",
       "5973       []\n",
       "5978    [Jul]\n",
       "5982       []\n",
       "5989       []\n",
       "Name: Date, Length: 2016, dtype: object"
      ]
     },
     "execution_count": 618,
     "metadata": {},
     "output_type": "execute_result"
    }
   ],
   "source": [
    "mes"
   ]
  },
  {
   "cell_type": "code",
   "execution_count": 619,
   "metadata": {
    "scrolled": true
   },
   "outputs": [
    {
     "data": {
      "text/plain": [
       "[Jul]         306\n",
       "[Aug]         289\n",
       "[Sep]         252\n",
       "[Jun]         223\n",
       "[Oct]         181\n",
       "[]            153\n",
       "[May]         138\n",
       "[Apr]         133\n",
       "[Nov]         104\n",
       "[Mar]          88\n",
       "[Dec]          55\n",
       "[Feb]          48\n",
       "[Jan]          42\n",
       "[Aug-]          2\n",
       "[Sept]          1\n",
       "[Jan, Jan]      1\n",
       "Name: Date, dtype: int64"
      ]
     },
     "execution_count": 619,
     "metadata": {},
     "output_type": "execute_result"
    }
   ],
   "source": [
    "ds_mes = pd.Series(mes)\n",
    "ds_mes.value_counts()"
   ]
  },
  {
   "cell_type": "code",
   "execution_count": 620,
   "metadata": {},
   "outputs": [],
   "source": [
    "ds_mes = ds_mes.apply(lambda x : x[0] if len(x)>0 else '')"
   ]
  },
  {
   "cell_type": "code",
   "execution_count": 621,
   "metadata": {},
   "outputs": [
    {
     "data": {
      "text/plain": [
       "0       Sep\n",
       "1       Sep\n",
       "2       Sep\n",
       "6       Sep\n",
       "7       Sep\n",
       "       ... \n",
       "5939       \n",
       "5973       \n",
       "5978    Jul\n",
       "5982       \n",
       "5989       \n",
       "Name: Date, Length: 2016, dtype: object"
      ]
     },
     "execution_count": 621,
     "metadata": {},
     "output_type": "execute_result"
    }
   ],
   "source": [
    "ds_mes"
   ]
  },
  {
   "cell_type": "code",
   "execution_count": 622,
   "metadata": {},
   "outputs": [
    {
     "data": {
      "text/plain": [
       "Jul    306\n",
       "Aug    291\n",
       "Sep    253\n",
       "Jun    223\n",
       "Oct    181\n",
       "       153\n",
       "May    138\n",
       "Apr    133\n",
       "Nov    104\n",
       "Mar     88\n",
       "Dec     55\n",
       "Feb     48\n",
       "Jan     43\n",
       "Name: Date, dtype: int64"
      ]
     },
     "execution_count": 622,
     "metadata": {},
     "output_type": "execute_result"
    }
   ],
   "source": [
    "months_correct = ['Dec','Jan','Aug','Sep','Apr','Mar','Feb', 'May','Jun', 'Jul','Oct','Nov']\n",
    "\n",
    "\n",
    "def my_replace(text, text_correct):\n",
    "\n",
    "    for each_text in text_correct:\n",
    "        text = re.sub(f'.*{each_text}.*', each_text, text)\n",
    "    \n",
    "    return text\n",
    "\n",
    "ds_mes.apply(my_replace, text_correct=months_correct).value_counts()"
   ]
  },
  {
   "cell_type": "markdown",
   "metadata": {},
   "source": [
    "## In USA the shark attacks were more intense in summer"
   ]
  },
  {
   "cell_type": "code",
   "execution_count": 623,
   "metadata": {},
   "outputs": [
    {
     "data": {
      "text/html": [
       "<div>\n",
       "<style scoped>\n",
       "    .dataframe tbody tr th:only-of-type {\n",
       "        vertical-align: middle;\n",
       "    }\n",
       "\n",
       "    .dataframe tbody tr th {\n",
       "        vertical-align: top;\n",
       "    }\n",
       "\n",
       "    .dataframe thead th {\n",
       "        text-align: right;\n",
       "    }\n",
       "</style>\n",
       "<table border=\"1\" class=\"dataframe\">\n",
       "  <thead>\n",
       "    <tr style=\"text-align: right;\">\n",
       "      <th></th>\n",
       "      <th>Country</th>\n",
       "      <th>Sex</th>\n",
       "      <th>Date</th>\n",
       "    </tr>\n",
       "  </thead>\n",
       "  <tbody>\n",
       "    <tr>\n",
       "      <td>3</td>\n",
       "      <td>AUSTRALIA</td>\n",
       "      <td>M</td>\n",
       "      <td>17-Sep-16</td>\n",
       "    </tr>\n",
       "    <tr>\n",
       "      <td>4</td>\n",
       "      <td>AUSTRALIA</td>\n",
       "      <td>M</td>\n",
       "      <td>16-Sep-16</td>\n",
       "    </tr>\n",
       "    <tr>\n",
       "      <td>10</td>\n",
       "      <td>AUSTRALIA</td>\n",
       "      <td>M</td>\n",
       "      <td>05-Sep-16</td>\n",
       "    </tr>\n",
       "    <tr>\n",
       "      <td>22</td>\n",
       "      <td>AUSTRALIA</td>\n",
       "      <td>M</td>\n",
       "      <td>28-Jul-16</td>\n",
       "    </tr>\n",
       "    <tr>\n",
       "      <td>24</td>\n",
       "      <td>AUSTRALIA</td>\n",
       "      <td>M</td>\n",
       "      <td>26-Jul-16</td>\n",
       "    </tr>\n",
       "    <tr>\n",
       "      <td>...</td>\n",
       "      <td>...</td>\n",
       "      <td>...</td>\n",
       "      <td>...</td>\n",
       "    </tr>\n",
       "    <tr>\n",
       "      <td>5984</td>\n",
       "      <td>AUSTRALIA</td>\n",
       "      <td>M</td>\n",
       "      <td>Before 1906</td>\n",
       "    </tr>\n",
       "    <tr>\n",
       "      <td>5985</td>\n",
       "      <td>AUSTRALIA</td>\n",
       "      <td>M</td>\n",
       "      <td>Before 1906</td>\n",
       "    </tr>\n",
       "    <tr>\n",
       "      <td>5986</td>\n",
       "      <td>AUSTRALIA</td>\n",
       "      <td>M</td>\n",
       "      <td>Before 1906</td>\n",
       "    </tr>\n",
       "    <tr>\n",
       "      <td>5987</td>\n",
       "      <td>AUSTRALIA</td>\n",
       "      <td>M</td>\n",
       "      <td>Before 1903</td>\n",
       "    </tr>\n",
       "    <tr>\n",
       "      <td>5988</td>\n",
       "      <td>AUSTRALIA</td>\n",
       "      <td>M</td>\n",
       "      <td>Before 1903</td>\n",
       "    </tr>\n",
       "  </tbody>\n",
       "</table>\n",
       "<p>1136 rows × 3 columns</p>\n",
       "</div>"
      ],
      "text/plain": [
       "        Country Sex          Date\n",
       "3     AUSTRALIA    M    17-Sep-16\n",
       "4     AUSTRALIA    M    16-Sep-16\n",
       "10    AUSTRALIA    M    05-Sep-16\n",
       "22    AUSTRALIA    M    28-Jul-16\n",
       "24    AUSTRALIA    M    26-Jul-16\n",
       "...         ...  ...          ...\n",
       "5984  AUSTRALIA    M  Before 1906\n",
       "5985  AUSTRALIA    M  Before 1906\n",
       "5986  AUSTRALIA    M  Before 1906\n",
       "5987  AUSTRALIA    M  Before 1903\n",
       "5988  AUSTRALIA    M  Before 1903\n",
       "\n",
       "[1136 rows x 3 columns]"
      ]
     },
     "execution_count": 623,
     "metadata": {},
     "output_type": "execute_result"
    }
   ],
   "source": [
    "mask = shark_list['Country'] == 'AUSTRALIA'\n",
    "shark_aus = shark_list[mask]\n",
    "shark_aus"
   ]
  },
  {
   "cell_type": "code",
   "execution_count": 624,
   "metadata": {},
   "outputs": [
    {
     "data": {
      "text/plain": [
       "0    0.929577\n",
       "1    0.070423\n",
       "Name: Qtd, dtype: float64"
      ]
     },
     "execution_count": 624,
     "metadata": {},
     "output_type": "execute_result"
    }
   ],
   "source": [
    "df_aus = pd.DataFrame(shark_aus['Sex '].value_counts().reset_index().rename(columns = {'index':'Gender', 'Sex ': 'Qtd'}))\n",
    "df_aus_porcentagem = df_aus['Qtd']/(df_aus['Qtd'].sum())\n",
    "df_aus_porcentagem\n"
   ]
  },
  {
   "cell_type": "code",
   "execution_count": 625,
   "metadata": {},
   "outputs": [
    {
     "data": {
      "text/plain": [
       "Before 1906    4\n",
       "27-Dec-08      3\n",
       "13-Mar-77      3\n",
       "20-May-66      3\n",
       "12-Feb-06      2\n",
       "              ..\n",
       "21-Nov-93      1\n",
       "10-Feb-16      1\n",
       "10-Jul-04      1\n",
       "15-Jan-66      1\n",
       "12-Mar-29      1\n",
       "Name: Date, Length: 1085, dtype: int64"
      ]
     },
     "execution_count": 625,
     "metadata": {},
     "output_type": "execute_result"
    }
   ],
   "source": [
    "shark_aus[\"Date\"].value_counts()"
   ]
  },
  {
   "cell_type": "code",
   "execution_count": 626,
   "metadata": {},
   "outputs": [
    {
     "data": {
      "text/plain": [
       "3       [Sep]\n",
       "4       [Sep]\n",
       "10      [Sep]\n",
       "22      [Jul]\n",
       "24      [Jul]\n",
       "        ...  \n",
       "5984       []\n",
       "5985       []\n",
       "5986       []\n",
       "5987       []\n",
       "5988       []\n",
       "Name: Date, Length: 1136, dtype: object"
      ]
     },
     "execution_count": 626,
     "metadata": {},
     "output_type": "execute_result"
    }
   ],
   "source": [
    "pattern = '\\-(\\D+)\\-'\n",
    "mes = shark_aus['Date'].apply(lambda x: re.findall(pattern, x))     \n",
    "mes"
   ]
  },
  {
   "cell_type": "code",
   "execution_count": 627,
   "metadata": {},
   "outputs": [
    {
     "data": {
      "text/plain": [
       "[Jan]         166\n",
       "[Dec]         144\n",
       "[Feb]         123\n",
       "[Nov]         114\n",
       "[Mar]         102\n",
       "[]             90\n",
       "[Apr]          89\n",
       "[Oct]          77\n",
       "[Jun]          53\n",
       "[Sep]          48\n",
       "[Aug]          45\n",
       "[May]          45\n",
       "[Jul]          38\n",
       "[ Jan]          1\n",
       "[Mar, Mar]      1\n",
       "Name: Date, dtype: int64"
      ]
     },
     "execution_count": 627,
     "metadata": {},
     "output_type": "execute_result"
    }
   ],
   "source": [
    "ds_mes = pd.Series(mes)\n",
    "ds_mes.value_counts()"
   ]
  },
  {
   "cell_type": "code",
   "execution_count": 628,
   "metadata": {},
   "outputs": [
    {
     "data": {
      "text/plain": [
       "3       Sep\n",
       "4       Sep\n",
       "10      Sep\n",
       "22      Jul\n",
       "24      Jul\n",
       "       ... \n",
       "5984       \n",
       "5985       \n",
       "5986       \n",
       "5987       \n",
       "5988       \n",
       "Name: Date, Length: 1136, dtype: object"
      ]
     },
     "execution_count": 628,
     "metadata": {},
     "output_type": "execute_result"
    }
   ],
   "source": [
    "ds_mes = ds_mes.apply(lambda x : x[0] if len(x)>0 else '')\n",
    "ds_mes"
   ]
  },
  {
   "cell_type": "code",
   "execution_count": 629,
   "metadata": {},
   "outputs": [
    {
     "data": {
      "text/plain": [
       "Jan    167\n",
       "Dec    144\n",
       "Feb    123\n",
       "Nov    114\n",
       "Mar    103\n",
       "        90\n",
       "Apr     89\n",
       "Oct     77\n",
       "Jun     53\n",
       "Sep     48\n",
       "Aug     45\n",
       "May     45\n",
       "Jul     38\n",
       "Name: Date, dtype: int64"
      ]
     },
     "execution_count": 629,
     "metadata": {},
     "output_type": "execute_result"
    }
   ],
   "source": [
    "months_correct = ['Dec','Jan','Aug','Sep','Apr','Mar','Feb', 'May','Jun', 'Jul','Oct','Nov']\n",
    "\n",
    "\n",
    "def my_replace(text, text_correct):\n",
    "\n",
    "    for each_text in text_correct:\n",
    "        text = re.sub(f'.*{each_text}.*', each_text, text)\n",
    "    \n",
    "    return text\n",
    "\n",
    "ds_mes.apply(my_replace, text_correct=months_correct).value_counts()"
   ]
  },
  {
   "cell_type": "markdown",
   "metadata": {},
   "source": [
    "## In Australia, the shark attacks were more intense in summer with men"
   ]
  },
  {
   "cell_type": "code",
   "execution_count": 638,
   "metadata": {},
   "outputs": [],
   "source": [
    "shark_aus.to_csv('Shark_aus.csv') "
   ]
  },
  {
   "cell_type": "code",
   "execution_count": 639,
   "metadata": {},
   "outputs": [],
   "source": [
    "shark_usa.to_csv('Shark_usa.csv') "
   ]
  }
 ],
 "metadata": {
  "kernelspec": {
   "display_name": "Python 3",
   "language": "python",
   "name": "python3"
  },
  "language_info": {
   "codemirror_mode": {
    "name": "ipython",
    "version": 3
   },
   "file_extension": ".py",
   "mimetype": "text/x-python",
   "name": "python",
   "nbconvert_exporter": "python",
   "pygments_lexer": "ipython3",
   "version": "3.7.4"
  }
 },
 "nbformat": 4,
 "nbformat_minor": 2
}
