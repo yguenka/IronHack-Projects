{
 "cells": [
  {
   "cell_type": "markdown",
   "metadata": {},
   "source": [
    "# Import library"
   ]
  },
  {
   "cell_type": "code",
   "execution_count": 1,
   "metadata": {},
   "outputs": [],
   "source": [
    "import pandas as pd\n",
    "import requests"
   ]
  },
  {
   "cell_type": "markdown",
   "metadata": {},
   "source": [
    "# Extracting date"
   ]
  },
  {
   "cell_type": "code",
   "execution_count": 2,
   "metadata": {},
   "outputs": [],
   "source": [
    "class SPTransClient(object):\n",
    "    \"\"\" API Olho Vivo SPTrans \"\"\"\n",
    "\n",
    "    session = requests.Session()\n",
    "    url = 'http://api.olhovivo.sptrans.com.br/v0/'\n",
    "\n",
    "    def autentication(self, token):\n",
    "\n",
    "        \"\"\"Autenticando o token\"\"\"\n",
    "\n",
    "        aut_token = 'Login/Autenticar?token=%s' % token\n",
    "        response = self.session.post(self.url + aut_token)\n",
    "        if response.cookies:\n",
    "            return True\n",
    "        return False\n",
    "\n",
    "    def extraction(self, path):\n",
    "\n",
    "        \"\"\" Extraindo dados através da API \"\"\"\n",
    "\n",
    "        response = self.session.get(self.url + path)\n",
    "        data = response.json()\n",
    "        return data\n",
    "\n",
    "    def search_by_bus(self, term):\n",
    "\n",
    "        \"\"\"\n",
    "        Busca a linha no sistema e \n",
    "        retorna informações sobre as mesmas.\n",
    "        \"\"\"\n",
    "        return self.extraction('Linha/Buscar?termosBusca=%s' % term)\n",
    "        \n",
    "    def bus_stop(self, localization):\n",
    "        \"\"\"\n",
    "        Busca a fonética das paradas do \n",
    "        sistema com base na localização solicitada.\n",
    "        Somente para corredores.\n",
    "        \"\"\"\n",
    "        return self.extraction('/Parada/Buscar?termosBusca=%s' % localization)\n",
    "    \n",
    "    def forecast(self, line_code):\n",
    "        \"\"\"\n",
    "        Retorna uma lista com a previsão de chegada de \n",
    "        cada um dos veículos da linha informada em \n",
    "        todos os pontos de parada aos quais que ela atende.\n",
    "        Caso não estiver funcionando, retornará somente \n",
    "        o horário em que a informação foi solicitada.\n",
    "        Também há a possibilidade de mostrar os pontos,\n",
    "        mas \n",
    "        \"\"\"\n",
    "        return self.extraction('/Previsao/Linha?codigoLinha=%s' % line_code)"
   ]
  },
  {
   "cell_type": "code",
   "execution_count": 3,
   "metadata": {},
   "outputs": [
    {
     "data": {
      "text/plain": [
       "\"\\nÉ impostante ressaltar que para saber line_code, \\no ideal seria fazer o print(sp.search_by_bus('X'))\\npara descobrir o código da linha.\\n\""
      ]
     },
     "execution_count": 3,
     "metadata": {},
     "output_type": "execute_result"
    }
   ],
   "source": [
    "token = '4e912c435b3d1646ec39331d7d1814727e74d3e9596d416527f5f552c6e5340e'\n",
    "\n",
    "sp = SPTransClient()\n",
    "sp.autentication(token)\n",
    "\n",
    "information_bus = []\n",
    "information_bus.append(sp.search_by_bus('3731'))\n",
    "\n",
    "information_bus_stop = []\n",
    "information_bus_stop.append(sp.bus_stop('Paulista'))\n",
    "\n",
    "information_forecast = []\n",
    "information_forecast.append(sp.forecast('2506'))\n",
    "\"\"\"\n",
    "É impostante ressaltar que para saber line_code, \n",
    "o ideal seria fazer o print(sp.search_by_bus('X'))\n",
    "para descobrir o código da linha.\n",
    "\"\"\""
   ]
  },
  {
   "cell_type": "markdown",
   "metadata": {},
   "source": [
    "# Cleaning data"
   ]
  },
  {
   "cell_type": "code",
   "execution_count": 17,
   "metadata": {
    "scrolled": true
   },
   "outputs": [],
   "source": [
    "data_bus = pd.DataFrame(str(information_bus[0]).replace('[', '').replace(']', '').replace('{', '').replace('}', '').replace('{', '').split(','))"
   ]
  },
  {
   "cell_type": "code",
   "execution_count": 18,
   "metadata": {
    "scrolled": true
   },
   "outputs": [],
   "source": [
    "data_bus_stop = pd.DataFrame(str(information_bus_stop[0]).replace('[', '').replace(']', '').replace('{', '').replace('}', '').replace('{', '').split(','))"
   ]
  },
  {
   "cell_type": "code",
   "execution_count": 19,
   "metadata": {},
   "outputs": [],
   "source": [
    "data_forecast = pd.DataFrame(str(information_forecast[0]).replace('[', '').replace(']', '').replace('{', '').replace('}', '').replace('{', '').split(','))"
   ]
  },
  {
   "cell_type": "markdown",
   "metadata": {},
   "source": [
    "# Creating DataFrame and Exporting to CSV"
   ]
  },
  {
   "cell_type": "code",
   "execution_count": 276,
   "metadata": {},
   "outputs": [],
   "source": [
    "data_bus.to_csv('data_bus')\n",
    "data_bus_stop.to_csv('data_bus_stop')\n",
    "data_forecast.to_csv('data_forecast')"
   ]
  }
 ],
 "metadata": {
  "kernelspec": {
   "display_name": "Python 3",
   "language": "python",
   "name": "python3"
  },
  "language_info": {
   "codemirror_mode": {
    "name": "ipython",
    "version": 3
   },
   "file_extension": ".py",
   "mimetype": "text/x-python",
   "name": "python",
   "nbconvert_exporter": "python",
   "pygments_lexer": "ipython3",
   "version": "3.7.4"
  }
 },
 "nbformat": 4,
 "nbformat_minor": 2
}
