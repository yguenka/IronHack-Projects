{
 "cells": [
  {
   "cell_type": "markdown",
   "metadata": {
    "heading_collapsed": true
   },
   "source": [
    "# Câncer de Pele\n",
    "Fontes: \n",
    "https://www.kaggle.com/fanconic/skin-cancer-malignant-vs-benign\n",
    "\n",
    "https://saude.gov.br/saude-de-a-z/cancer-de-pele\n",
    "\n",
    "https://www.sbd.org.br/\n",
    "\n",
    "https://www.inca.gov.br/tipos-de-cancer/cancer-de-pele-nao-melanoma\n"
   ]
  },
  {
   "cell_type": "markdown",
   "metadata": {
    "heading_collapsed": true
   },
   "source": [
    "# Bibliotecas"
   ]
  },
  {
   "cell_type": "code",
   "execution_count": 38,
   "metadata": {
    "ExecuteTime": {
     "end_time": "2020-05-19T20:12:33.667200Z",
     "start_time": "2020-05-19T20:12:33.653260Z"
    },
    "hidden": true
   },
   "outputs": [],
   "source": [
    "import os\n",
    "import pandas as pd\n",
    "import numpy as np\n",
    "import seaborn as sns\n",
    "import matplotlib.pyplot as plt\n",
    "import matplotlib.image as mpimg\n",
    "from sklearn.decomposition import PCA\n",
    "import tensorflow as tf\n",
    "import keras as K\n",
    "from keras.models import Sequential\n",
    "from keras.layers import Dense\n",
    "from sklearn.metrics import plot_confusion_matrix, confusion_matrix\n",
    "from sklearn.linear_model import LogisticRegression\n",
    "from yellowbrick.model_selection import LearningCurve\n",
    "from sklearn.model_selection import KFold\n",
    "import joblib\n",
    "from sklearn.pipeline import Pipeline\n",
    "import cv2\n",
    "from PIL import Image"
   ]
  },
  {
   "cell_type": "markdown",
   "metadata": {
    "heading_collapsed": true
   },
   "source": [
    "# Dataset\n",
    "\n",
    "Para o treino, foram utilizados 400 imagens no total, sendo 200 imagens de manchas benígnas e 200 imagens de manchas malígnas para que possa balancear o DataFrame.\n",
    "\n",
    "Já no caso do teste, foram utilizadas 85 imagens de manchas benígnas e 15 imagens de manchas malígnas, já que na campanha de 2018 realizado no Dia Nacional de Combate ao Câncer de Pele foram constatados que 15% dos exames realizados possuíam câncer de pele.\n",
    "\n",
    "Fonte: http://sbd.tempsite.ws/capele/gestao/incidencia.asp?uf=NULL&cidade=NULL&servico=NULL&campanha=17"
   ]
  },
  {
   "cell_type": "code",
   "execution_count": 2,
   "metadata": {
    "ExecuteTime": {
     "end_time": "2020-05-19T19:08:38.337275Z",
     "start_time": "2020-05-19T19:07:56.349311Z"
    },
    "collapsed": true,
    "hidden": true
   },
   "outputs": [
    {
     "name": "stderr",
     "output_type": "stream",
     "text": [
      "C:\\Users\\yukar\\Anaconda3\\lib\\site-packages\\ipykernel_launcher.py:28: SettingWithCopyWarning: \n",
      "A value is trying to be set on a copy of a slice from a DataFrame\n",
      "\n",
      "See the caveats in the documentation: https://pandas.pydata.org/pandas-docs/stable/user_guide/indexing.html#returning-a-view-versus-a-copy\n",
      "C:\\Users\\yukar\\Anaconda3\\lib\\site-packages\\ipykernel_launcher.py:30: SettingWithCopyWarning: \n",
      "A value is trying to be set on a copy of a slice from a DataFrame\n",
      "\n",
      "See the caveats in the documentation: https://pandas.pydata.org/pandas-docs/stable/user_guide/indexing.html#returning-a-view-versus-a-copy\n"
     ]
    }
   ],
   "source": [
    "real_list=[]\n",
    "path = 'data/train/benign'\n",
    "for item in range(0,200):\n",
    "    foto = path_test[item]\n",
    "    img=mpimg.imread(f'{path}/{foto}')\n",
    "    scaled = img / 255\n",
    "    data = scaled.reshape(scaled.shape[0] * scaled.shape[1] * scaled.shape[2])\n",
    "    real_list.append(data)\n",
    "train_b = pd.DataFrame(real_list)\n",
    "\n",
    "real_list=[]\n",
    "path = 'data/train/malignant'\n",
    "for item in range(0,200):\n",
    "    foto = path_test[item]\n",
    "    img=mpimg.imread(f'{path}/{foto}')\n",
    "    scaled = img / 255\n",
    "    data = scaled.reshape(scaled.shape[0] * scaled.shape[1] * scaled.shape[2])\n",
    "    real_list.append(data)\n",
    "train_m = pd.DataFrame(real_list)\n",
    "\n",
    "train = train_b.append(train_m, ignore_index=True)\n",
    "\n",
    "train['target'] = 0\n",
    "for item in range(0,400):\n",
    "    if item < 200:\n",
    "        train['target'][item] = 0\n",
    "    else: \n",
    "        train['target'][item] = 1\n",
    "        \n",
    "#train.to_csv('data_train.csv', compression='zip')"
   ]
  },
  {
   "cell_type": "code",
   "execution_count": 3,
   "metadata": {
    "ExecuteTime": {
     "end_time": "2020-05-19T19:08:59.035756Z",
     "start_time": "2020-05-19T19:08:38.338273Z"
    },
    "collapsed": true,
    "hidden": true
   },
   "outputs": [
    {
     "name": "stderr",
     "output_type": "stream",
     "text": [
      "C:\\Users\\yukar\\Anaconda3\\lib\\site-packages\\ipykernel_launcher.py:28: SettingWithCopyWarning: \n",
      "A value is trying to be set on a copy of a slice from a DataFrame\n",
      "\n",
      "See the caveats in the documentation: https://pandas.pydata.org/pandas-docs/stable/user_guide/indexing.html#returning-a-view-versus-a-copy\n",
      "C:\\Users\\yukar\\Anaconda3\\lib\\site-packages\\ipykernel_launcher.py:30: SettingWithCopyWarning: \n",
      "A value is trying to be set on a copy of a slice from a DataFrame\n",
      "\n",
      "See the caveats in the documentation: https://pandas.pydata.org/pandas-docs/stable/user_guide/indexing.html#returning-a-view-versus-a-copy\n"
     ]
    }
   ],
   "source": [
    "real_list=[]\n",
    "path = 'data/test/benign'\n",
    "for item in range(0,85):\n",
    "    foto = path_test[item]\n",
    "    img=mpimg.imread(f'{path}/{foto}')\n",
    "    scaled = img / 255\n",
    "    data = scaled.reshape(scaled.shape[0] * scaled.shape[1] * scaled.shape[2])\n",
    "    real_list.append(data)\n",
    "test_b = pd.DataFrame(real_list)\n",
    "\n",
    "real_list=[]\n",
    "path = 'data/test/malignant'\n",
    "for item in range(0,15):\n",
    "    foto = path_test[item]\n",
    "    img=mpimg.imread(f'{path}/{foto}')\n",
    "    scaled = img / 255\n",
    "    data = scaled.reshape(scaled.shape[0] * scaled.shape[1] * scaled.shape[2])\n",
    "    real_list.append(data)\n",
    "test_m = pd.DataFrame(real_list)\n",
    "\n",
    "test = test_b.append(test_m, ignore_index=True)\n",
    "\n",
    "test['target'] = 0\n",
    "for item in range(0,100):\n",
    "    if item < 85:\n",
    "        test['target'][item] = 0\n",
    "    else: \n",
    "        test['target'][item] = 1\n",
    "        \n",
    "#test.to_csv('data_test.csv', compression='zip')"
   ]
  },
  {
   "cell_type": "markdown",
   "metadata": {
    "heading_collapsed": true
   },
   "source": [
    "# PCA\n",
    "\n",
    "Diminuir a quantidade de colunas mantendo 80% da qualidade dos dados, pois utilizar redes neurais com muitas colunas, a análise demora muito."
   ]
  },
  {
   "cell_type": "code",
   "execution_count": 4,
   "metadata": {
    "ExecuteTime": {
     "end_time": "2020-05-19T19:08:59.498890Z",
     "start_time": "2020-05-19T19:08:59.037751Z"
    },
    "hidden": true
   },
   "outputs": [],
   "source": [
    "X_train = train.drop(columns=['target'])\n",
    "y_train = train['target']\n",
    "X_test = test.drop(columns=['target'])\n",
    "y_test = test['target']"
   ]
  },
  {
   "cell_type": "code",
   "execution_count": 5,
   "metadata": {
    "ExecuteTime": {
     "end_time": "2020-05-19T19:08:59.595633Z",
     "start_time": "2020-05-19T19:08:59.499887Z"
    },
    "collapsed": true,
    "hidden": true
   },
   "outputs": [
    {
     "data": {
      "text/html": [
       "<div>\n",
       "<style scoped>\n",
       "    .dataframe tbody tr th:only-of-type {\n",
       "        vertical-align: middle;\n",
       "    }\n",
       "\n",
       "    .dataframe tbody tr th {\n",
       "        vertical-align: top;\n",
       "    }\n",
       "\n",
       "    .dataframe thead th {\n",
       "        text-align: right;\n",
       "    }\n",
       "</style>\n",
       "<table border=\"1\" class=\"dataframe\">\n",
       "  <thead>\n",
       "    <tr style=\"text-align: right;\">\n",
       "      <th></th>\n",
       "      <th>0</th>\n",
       "      <th>1</th>\n",
       "      <th>2</th>\n",
       "      <th>3</th>\n",
       "      <th>4</th>\n",
       "      <th>5</th>\n",
       "      <th>6</th>\n",
       "      <th>7</th>\n",
       "      <th>8</th>\n",
       "      <th>9</th>\n",
       "      <th>...</th>\n",
       "      <th>150518</th>\n",
       "      <th>150519</th>\n",
       "      <th>150520</th>\n",
       "      <th>150521</th>\n",
       "      <th>150522</th>\n",
       "      <th>150523</th>\n",
       "      <th>150524</th>\n",
       "      <th>150525</th>\n",
       "      <th>150526</th>\n",
       "      <th>150527</th>\n",
       "    </tr>\n",
       "  </thead>\n",
       "  <tbody>\n",
       "    <tr>\n",
       "      <th>0</th>\n",
       "      <td>0.870588</td>\n",
       "      <td>0.686275</td>\n",
       "      <td>0.756863</td>\n",
       "      <td>0.874510</td>\n",
       "      <td>0.694118</td>\n",
       "      <td>0.737255</td>\n",
       "      <td>0.874510</td>\n",
       "      <td>0.694118</td>\n",
       "      <td>0.745098</td>\n",
       "      <td>0.886275</td>\n",
       "      <td>...</td>\n",
       "      <td>0.541176</td>\n",
       "      <td>0.749020</td>\n",
       "      <td>0.556863</td>\n",
       "      <td>0.541176</td>\n",
       "      <td>0.764706</td>\n",
       "      <td>0.560784</td>\n",
       "      <td>0.568627</td>\n",
       "      <td>0.776471</td>\n",
       "      <td>0.568627</td>\n",
       "      <td>0.592157</td>\n",
       "    </tr>\n",
       "    <tr>\n",
       "      <th>1</th>\n",
       "      <td>0.831373</td>\n",
       "      <td>0.470588</td>\n",
       "      <td>0.521569</td>\n",
       "      <td>0.835294</td>\n",
       "      <td>0.474510</td>\n",
       "      <td>0.517647</td>\n",
       "      <td>0.839216</td>\n",
       "      <td>0.478431</td>\n",
       "      <td>0.521569</td>\n",
       "      <td>0.854902</td>\n",
       "      <td>...</td>\n",
       "      <td>0.458824</td>\n",
       "      <td>0.752941</td>\n",
       "      <td>0.439216</td>\n",
       "      <td>0.443137</td>\n",
       "      <td>0.749020</td>\n",
       "      <td>0.435294</td>\n",
       "      <td>0.431373</td>\n",
       "      <td>0.764706</td>\n",
       "      <td>0.447059</td>\n",
       "      <td>0.435294</td>\n",
       "    </tr>\n",
       "    <tr>\n",
       "      <th>2</th>\n",
       "      <td>0.823529</td>\n",
       "      <td>0.501961</td>\n",
       "      <td>0.549020</td>\n",
       "      <td>0.815686</td>\n",
       "      <td>0.513725</td>\n",
       "      <td>0.552941</td>\n",
       "      <td>0.835294</td>\n",
       "      <td>0.537255</td>\n",
       "      <td>0.576471</td>\n",
       "      <td>0.843137</td>\n",
       "      <td>...</td>\n",
       "      <td>0.450980</td>\n",
       "      <td>0.709804</td>\n",
       "      <td>0.482353</td>\n",
       "      <td>0.435294</td>\n",
       "      <td>0.713725</td>\n",
       "      <td>0.486275</td>\n",
       "      <td>0.431373</td>\n",
       "      <td>0.721569</td>\n",
       "      <td>0.486275</td>\n",
       "      <td>0.443137</td>\n",
       "    </tr>\n",
       "    <tr>\n",
       "      <th>3</th>\n",
       "      <td>0.631373</td>\n",
       "      <td>0.462745</td>\n",
       "      <td>0.490196</td>\n",
       "      <td>0.631373</td>\n",
       "      <td>0.466667</td>\n",
       "      <td>0.482353</td>\n",
       "      <td>0.631373</td>\n",
       "      <td>0.462745</td>\n",
       "      <td>0.490196</td>\n",
       "      <td>0.631373</td>\n",
       "      <td>...</td>\n",
       "      <td>0.419608</td>\n",
       "      <td>0.572549</td>\n",
       "      <td>0.396078</td>\n",
       "      <td>0.423529</td>\n",
       "      <td>0.564706</td>\n",
       "      <td>0.388235</td>\n",
       "      <td>0.415686</td>\n",
       "      <td>0.556863</td>\n",
       "      <td>0.380392</td>\n",
       "      <td>0.407843</td>\n",
       "    </tr>\n",
       "    <tr>\n",
       "      <th>4</th>\n",
       "      <td>0.917647</td>\n",
       "      <td>0.623529</td>\n",
       "      <td>0.705882</td>\n",
       "      <td>0.921569</td>\n",
       "      <td>0.635294</td>\n",
       "      <td>0.713725</td>\n",
       "      <td>0.905882</td>\n",
       "      <td>0.623529</td>\n",
       "      <td>0.701961</td>\n",
       "      <td>0.909804</td>\n",
       "      <td>...</td>\n",
       "      <td>0.709804</td>\n",
       "      <td>0.901961</td>\n",
       "      <td>0.678431</td>\n",
       "      <td>0.705882</td>\n",
       "      <td>0.909804</td>\n",
       "      <td>0.678431</td>\n",
       "      <td>0.701961</td>\n",
       "      <td>0.901961</td>\n",
       "      <td>0.678431</td>\n",
       "      <td>0.701961</td>\n",
       "    </tr>\n",
       "    <tr>\n",
       "      <th>...</th>\n",
       "      <td>...</td>\n",
       "      <td>...</td>\n",
       "      <td>...</td>\n",
       "      <td>...</td>\n",
       "      <td>...</td>\n",
       "      <td>...</td>\n",
       "      <td>...</td>\n",
       "      <td>...</td>\n",
       "      <td>...</td>\n",
       "      <td>...</td>\n",
       "      <td>...</td>\n",
       "      <td>...</td>\n",
       "      <td>...</td>\n",
       "      <td>...</td>\n",
       "      <td>...</td>\n",
       "      <td>...</td>\n",
       "      <td>...</td>\n",
       "      <td>...</td>\n",
       "      <td>...</td>\n",
       "      <td>...</td>\n",
       "      <td>...</td>\n",
       "    </tr>\n",
       "    <tr>\n",
       "      <th>395</th>\n",
       "      <td>0.807843</td>\n",
       "      <td>0.576471</td>\n",
       "      <td>0.552941</td>\n",
       "      <td>0.827451</td>\n",
       "      <td>0.576471</td>\n",
       "      <td>0.568627</td>\n",
       "      <td>0.835294</td>\n",
       "      <td>0.564706</td>\n",
       "      <td>0.537255</td>\n",
       "      <td>0.823529</td>\n",
       "      <td>...</td>\n",
       "      <td>0.498039</td>\n",
       "      <td>0.800000</td>\n",
       "      <td>0.576471</td>\n",
       "      <td>0.501961</td>\n",
       "      <td>0.796078</td>\n",
       "      <td>0.576471</td>\n",
       "      <td>0.509804</td>\n",
       "      <td>0.788235</td>\n",
       "      <td>0.580392</td>\n",
       "      <td>0.517647</td>\n",
       "    </tr>\n",
       "    <tr>\n",
       "      <th>396</th>\n",
       "      <td>0.058824</td>\n",
       "      <td>0.035294</td>\n",
       "      <td>0.043137</td>\n",
       "      <td>0.062745</td>\n",
       "      <td>0.023529</td>\n",
       "      <td>0.027451</td>\n",
       "      <td>0.066667</td>\n",
       "      <td>0.027451</td>\n",
       "      <td>0.023529</td>\n",
       "      <td>0.066667</td>\n",
       "      <td>...</td>\n",
       "      <td>0.058824</td>\n",
       "      <td>0.066667</td>\n",
       "      <td>0.027451</td>\n",
       "      <td>0.058824</td>\n",
       "      <td>0.062745</td>\n",
       "      <td>0.019608</td>\n",
       "      <td>0.050980</td>\n",
       "      <td>0.054902</td>\n",
       "      <td>0.019608</td>\n",
       "      <td>0.031373</td>\n",
       "    </tr>\n",
       "    <tr>\n",
       "      <th>397</th>\n",
       "      <td>0.094118</td>\n",
       "      <td>0.047059</td>\n",
       "      <td>0.062745</td>\n",
       "      <td>0.117647</td>\n",
       "      <td>0.058824</td>\n",
       "      <td>0.086275</td>\n",
       "      <td>0.141176</td>\n",
       "      <td>0.070588</td>\n",
       "      <td>0.117647</td>\n",
       "      <td>0.168627</td>\n",
       "      <td>...</td>\n",
       "      <td>0.070588</td>\n",
       "      <td>0.078431</td>\n",
       "      <td>0.043137</td>\n",
       "      <td>0.054902</td>\n",
       "      <td>0.074510</td>\n",
       "      <td>0.031373</td>\n",
       "      <td>0.047059</td>\n",
       "      <td>0.074510</td>\n",
       "      <td>0.023529</td>\n",
       "      <td>0.050980</td>\n",
       "    </tr>\n",
       "    <tr>\n",
       "      <th>398</th>\n",
       "      <td>0.796078</td>\n",
       "      <td>0.705882</td>\n",
       "      <td>0.737255</td>\n",
       "      <td>0.780392</td>\n",
       "      <td>0.690196</td>\n",
       "      <td>0.721569</td>\n",
       "      <td>0.784314</td>\n",
       "      <td>0.694118</td>\n",
       "      <td>0.725490</td>\n",
       "      <td>0.796078</td>\n",
       "      <td>...</td>\n",
       "      <td>0.568627</td>\n",
       "      <td>0.682353</td>\n",
       "      <td>0.584314</td>\n",
       "      <td>0.556863</td>\n",
       "      <td>0.690196</td>\n",
       "      <td>0.584314</td>\n",
       "      <td>0.549020</td>\n",
       "      <td>0.686275</td>\n",
       "      <td>0.580392</td>\n",
       "      <td>0.545098</td>\n",
       "    </tr>\n",
       "    <tr>\n",
       "      <th>399</th>\n",
       "      <td>0.196078</td>\n",
       "      <td>0.129412</td>\n",
       "      <td>0.152941</td>\n",
       "      <td>0.231373</td>\n",
       "      <td>0.156863</td>\n",
       "      <td>0.180392</td>\n",
       "      <td>0.274510</td>\n",
       "      <td>0.192157</td>\n",
       "      <td>0.219608</td>\n",
       "      <td>0.313725</td>\n",
       "      <td>...</td>\n",
       "      <td>0.109804</td>\n",
       "      <td>0.098039</td>\n",
       "      <td>0.047059</td>\n",
       "      <td>0.074510</td>\n",
       "      <td>0.082353</td>\n",
       "      <td>0.039216</td>\n",
       "      <td>0.062745</td>\n",
       "      <td>0.086275</td>\n",
       "      <td>0.043137</td>\n",
       "      <td>0.066667</td>\n",
       "    </tr>\n",
       "  </tbody>\n",
       "</table>\n",
       "<p>400 rows × 150528 columns</p>\n",
       "</div>"
      ],
      "text/plain": [
       "       0         1         2         3         4         5         6       \\\n",
       "0    0.870588  0.686275  0.756863  0.874510  0.694118  0.737255  0.874510   \n",
       "1    0.831373  0.470588  0.521569  0.835294  0.474510  0.517647  0.839216   \n",
       "2    0.823529  0.501961  0.549020  0.815686  0.513725  0.552941  0.835294   \n",
       "3    0.631373  0.462745  0.490196  0.631373  0.466667  0.482353  0.631373   \n",
       "4    0.917647  0.623529  0.705882  0.921569  0.635294  0.713725  0.905882   \n",
       "..        ...       ...       ...       ...       ...       ...       ...   \n",
       "395  0.807843  0.576471  0.552941  0.827451  0.576471  0.568627  0.835294   \n",
       "396  0.058824  0.035294  0.043137  0.062745  0.023529  0.027451  0.066667   \n",
       "397  0.094118  0.047059  0.062745  0.117647  0.058824  0.086275  0.141176   \n",
       "398  0.796078  0.705882  0.737255  0.780392  0.690196  0.721569  0.784314   \n",
       "399  0.196078  0.129412  0.152941  0.231373  0.156863  0.180392  0.274510   \n",
       "\n",
       "       7         8         9       ...    150518    150519    150520  \\\n",
       "0    0.694118  0.745098  0.886275  ...  0.541176  0.749020  0.556863   \n",
       "1    0.478431  0.521569  0.854902  ...  0.458824  0.752941  0.439216   \n",
       "2    0.537255  0.576471  0.843137  ...  0.450980  0.709804  0.482353   \n",
       "3    0.462745  0.490196  0.631373  ...  0.419608  0.572549  0.396078   \n",
       "4    0.623529  0.701961  0.909804  ...  0.709804  0.901961  0.678431   \n",
       "..        ...       ...       ...  ...       ...       ...       ...   \n",
       "395  0.564706  0.537255  0.823529  ...  0.498039  0.800000  0.576471   \n",
       "396  0.027451  0.023529  0.066667  ...  0.058824  0.066667  0.027451   \n",
       "397  0.070588  0.117647  0.168627  ...  0.070588  0.078431  0.043137   \n",
       "398  0.694118  0.725490  0.796078  ...  0.568627  0.682353  0.584314   \n",
       "399  0.192157  0.219608  0.313725  ...  0.109804  0.098039  0.047059   \n",
       "\n",
       "       150521    150522    150523    150524    150525    150526    150527  \n",
       "0    0.541176  0.764706  0.560784  0.568627  0.776471  0.568627  0.592157  \n",
       "1    0.443137  0.749020  0.435294  0.431373  0.764706  0.447059  0.435294  \n",
       "2    0.435294  0.713725  0.486275  0.431373  0.721569  0.486275  0.443137  \n",
       "3    0.423529  0.564706  0.388235  0.415686  0.556863  0.380392  0.407843  \n",
       "4    0.705882  0.909804  0.678431  0.701961  0.901961  0.678431  0.701961  \n",
       "..        ...       ...       ...       ...       ...       ...       ...  \n",
       "395  0.501961  0.796078  0.576471  0.509804  0.788235  0.580392  0.517647  \n",
       "396  0.058824  0.062745  0.019608  0.050980  0.054902  0.019608  0.031373  \n",
       "397  0.054902  0.074510  0.031373  0.047059  0.074510  0.023529  0.050980  \n",
       "398  0.556863  0.690196  0.584314  0.549020  0.686275  0.580392  0.545098  \n",
       "399  0.074510  0.082353  0.039216  0.062745  0.086275  0.043137  0.066667  \n",
       "\n",
       "[400 rows x 150528 columns]"
      ]
     },
     "execution_count": 5,
     "metadata": {},
     "output_type": "execute_result"
    }
   ],
   "source": [
    "X_train"
   ]
  },
  {
   "cell_type": "code",
   "execution_count": 6,
   "metadata": {
    "ExecuteTime": {
     "end_time": "2020-05-19T19:16:31.034511Z",
     "start_time": "2020-05-19T19:08:59.597654Z"
    },
    "hidden": true,
    "scrolled": false
   },
   "outputs": [
    {
     "data": {
      "image/png": "[encoded data removed]",
      "text/plain": [
       "<Figure size 432x288 with 1 Axes>"
      ]
     },
     "metadata": {
      "needs_background": "light"
     },
     "output_type": "display_data"
    }
   ],
   "source": [
    "percent = []\n",
    "components = []\n",
    "\n",
    "for i in range (5,100, 5):\n",
    "    pca = PCA(i/100)\n",
    "    percent.append(i/100)\n",
    "    components.append(len(pca.fit_transform(X_train)[0]))\n",
    "    \n",
    "plt.plot(components, percent)\n",
    "plt.grid(True)"
   ]
  },
  {
   "cell_type": "code",
   "execution_count": 7,
   "metadata": {
    "ExecuteTime": {
     "end_time": "2020-05-19T19:16:55.686163Z",
     "start_time": "2020-05-19T19:16:31.037503Z"
    },
    "hidden": true
   },
   "outputs": [],
   "source": [
    "pca = PCA(0.80)\n",
    "X_train = pca.fit_transform(X_train)\n",
    "X_test = pca.transform(X_test)"
   ]
  },
  {
   "cell_type": "code",
   "execution_count": 8,
   "metadata": {
    "ExecuteTime": {
     "end_time": "2020-05-19T19:16:55.694140Z",
     "start_time": "2020-05-19T19:16:55.688156Z"
    },
    "hidden": true
   },
   "outputs": [
    {
     "data": {
      "text/plain": [
       "(400, 12)"
      ]
     },
     "execution_count": 8,
     "metadata": {},
     "output_type": "execute_result"
    }
   ],
   "source": [
    "X_train.shape #Ao manter 80% da qualidade dos dados, foi possível reduzir para 12 colunas"
   ]
  },
  {
   "cell_type": "markdown",
   "metadata": {
    "heading_collapsed": true
   },
   "source": [
    "# Regressão Logística"
   ]
  },
  {
   "cell_type": "code",
   "execution_count": 9,
   "metadata": {
    "ExecuteTime": {
     "end_time": "2020-05-19T19:16:56.318415Z",
     "start_time": "2020-05-19T19:16:55.696135Z"
    },
    "hidden": true
   },
   "outputs": [
    {
     "data": {
      "text/plain": [
       "0.7"
      ]
     },
     "execution_count": 9,
     "metadata": {},
     "output_type": "execute_result"
    }
   ],
   "source": [
    "logistic = LogisticRegression(max_iter=1000, C=0.01)\n",
    "logistic.fit(X_train,y_train)\n",
    "logistic.score(X_test, y_test)"
   ]
  },
  {
   "cell_type": "code",
   "execution_count": 10,
   "metadata": {
    "ExecuteTime": {
     "end_time": "2020-05-19T19:16:56.332380Z",
     "start_time": "2020-05-19T19:16:56.326397Z"
    },
    "hidden": true
   },
   "outputs": [
    {
     "data": {
      "text/plain": [
       "0.7675"
      ]
     },
     "execution_count": 10,
     "metadata": {},
     "output_type": "execute_result"
    }
   ],
   "source": [
    "logistic.score(X_train, y_train)"
   ]
  },
  {
   "cell_type": "code",
   "execution_count": 11,
   "metadata": {
    "ExecuteTime": {
     "end_time": "2020-05-19T19:17:11.662162Z",
     "start_time": "2020-05-19T19:16:56.334374Z"
    },
    "hidden": true
   },
   "outputs": [
    {
     "name": "stderr",
     "output_type": "stream",
     "text": [
      "C:\\Users\\yukar\\Anaconda3\\lib\\site-packages\\sklearn\\base.py:213: FutureWarning: From version 0.24, get_params will raise an AttributeError if a parameter cannot be retrieved as an instance attribute. Previously it would return None.\n",
      "  FutureWarning)\n"
     ]
    },
    {
     "data": {
      "image/png": "[encoded data removed]",
      "text/plain": [
       "<Figure size 432x288 with 1 Axes>"
      ]
     },
     "metadata": {
      "needs_background": "light"
     },
     "output_type": "display_data"
    },
    {
     "data": {
      "text/plain": [
       "<matplotlib.axes._subplots.AxesSubplot at 0x1b74f33ae48>"
      ]
     },
     "execution_count": 11,
     "metadata": {},
     "output_type": "execute_result"
    }
   ],
   "source": [
    "visualizer = LearningCurve(logistic, cv=KFold(n_splits=3, shuffle=True), scoring='roc_auc', n_jobs=4)\n",
    "visualizer.fit(X_train, y_train)\n",
    "visualizer.show()  "
   ]
  },
  {
   "cell_type": "code",
   "execution_count": 14,
   "metadata": {
    "ExecuteTime": {
     "end_time": "2020-05-19T19:17:13.204899Z",
     "start_time": "2020-05-19T19:17:12.952390Z"
    },
    "hidden": true,
    "scrolled": true
   },
   "outputs": [
    {
     "data": {
      "image/png": "[encoded data removed]",
      "text/plain": [
       "<Figure size 432x288 with 2 Axes>"
      ]
     },
     "metadata": {
      "needs_background": "light"
     },
     "output_type": "display_data"
    }
   ],
   "source": [
    "plot_confusion_matrix(logistic, X_test, y_test, values_format='.0f')\n",
    "plt.grid(False)"
   ]
  },
  {
   "cell_type": "code",
   "execution_count": 33,
   "metadata": {
    "ExecuteTime": {
     "end_time": "2020-05-19T19:19:10.446046Z",
     "start_time": "2020-05-19T19:19:10.207165Z"
    },
    "hidden": true
   },
   "outputs": [
    {
     "data": {
      "image/png": "[encoded data removed]",
      "text/plain": [
       "<Figure size 432x288 with 1 Axes>"
      ]
     },
     "metadata": {
      "needs_background": "light"
     },
     "output_type": "display_data"
    }
   ],
   "source": [
    "plt.imshow(pca.inverse_transform(X_train[-2]).reshape(224,224,3))\n",
    "plt.grid(False)"
   ]
  },
  {
   "cell_type": "code",
   "execution_count": 34,
   "metadata": {
    "ExecuteTime": {
     "end_time": "2020-05-19T19:19:20.023883Z",
     "start_time": "2020-05-19T19:19:19.505746Z"
    },
    "hidden": true
   },
   "outputs": [
    {
     "data": {
      "image/png": "[encoded data removed]",
      "text/plain": [
       "<Figure size 432x288 with 1 Axes>"
      ]
     },
     "metadata": {
      "needs_background": "light"
     },
     "output_type": "display_data"
    }
   ],
   "source": [
    "X_train1 = train.drop(columns=['target'])\n",
    "plt.imshow(X_train1.iloc[-2].values.reshape(224,224,3))\n",
    "plt.grid(False)"
   ]
  },
  {
   "cell_type": "markdown",
   "metadata": {
    "heading_collapsed": true
   },
   "source": [
    "# Pipeline\n",
    "Fazendo o pipeline para salvar e aplicar no app."
   ]
  },
  {
   "cell_type": "code",
   "execution_count": 48,
   "metadata": {
    "ExecuteTime": {
     "end_time": "2020-05-19T20:20:44.896519Z",
     "start_time": "2020-05-19T20:20:42.876549Z"
    },
    "hidden": true
   },
   "outputs": [],
   "source": [
    "X_train = train.drop(columns=['target'])\n",
    "y_train = train['target']\n",
    "X_test = test.drop(columns=['target'])\n",
    "y_test = test['target']"
   ]
  },
  {
   "cell_type": "code",
   "execution_count": 51,
   "metadata": {
    "ExecuteTime": {
     "end_time": "2020-05-19T20:30:55.698943Z",
     "start_time": "2020-05-19T20:30:30.704795Z"
    },
    "hidden": true
   },
   "outputs": [
    {
     "data": {
      "text/plain": [
       "Pipeline(steps=[('pca', PCA(n_components=0.8)),\n",
       "                ('logistic', LogisticRegression(C=0.01, max_iter=1000))])"
      ]
     },
     "execution_count": 51,
     "metadata": {},
     "output_type": "execute_result"
    }
   ],
   "source": [
    "pca = PCA(0.8)\n",
    "logistic = LogisticRegression(max_iter=1000, C=0.01)\n",
    "pipe = Pipeline([('pca', pca), ('logistic', logistic)])\n",
    "pipe.fit(X_train, y_train)"
   ]
  },
  {
   "cell_type": "code",
   "execution_count": 53,
   "metadata": {
    "ExecuteTime": {
     "end_time": "2020-05-19T20:31:35.167191Z",
     "start_time": "2020-05-19T20:31:33.989948Z"
    },
    "hidden": true
   },
   "outputs": [
    {
     "data": {
      "text/plain": [
       "0.7"
      ]
     },
     "execution_count": 53,
     "metadata": {},
     "output_type": "execute_result"
    }
   ],
   "source": [
    "pipe.score(X_test, y_test)"
   ]
  },
  {
   "cell_type": "code",
   "execution_count": 54,
   "metadata": {
    "ExecuteTime": {
     "end_time": "2020-05-19T20:31:55.362935Z",
     "start_time": "2020-05-19T20:31:54.137209Z"
    },
    "hidden": true
   },
   "outputs": [
    {
     "data": {
      "text/plain": [
       "0.7675"
      ]
     },
     "execution_count": 54,
     "metadata": {},
     "output_type": "execute_result"
    }
   ],
   "source": [
    "pipe.score(X_train, y_train)"
   ]
  },
  {
   "cell_type": "code",
   "execution_count": 55,
   "metadata": {
    "ExecuteTime": {
     "end_time": "2020-05-19T20:32:59.159051Z",
     "start_time": "2020-05-19T20:32:58.638164Z"
    },
    "hidden": true
   },
   "outputs": [
    {
     "data": {
      "text/plain": [
       "['pipe.joblib']"
      ]
     },
     "execution_count": 55,
     "metadata": {},
     "output_type": "execute_result"
    }
   ],
   "source": [
    "joblib.dump(pipe, 'pipe.joblib')"
   ]
  },
  {
   "cell_type": "markdown",
   "metadata": {},
   "source": [
    "# Teste"
   ]
  },
  {
   "cell_type": "code",
   "execution_count": 74,
   "metadata": {
    "ExecuteTime": {
     "end_time": "2020-05-19T23:06:02.686667Z",
     "start_time": "2020-05-19T23:06:02.500854Z"
    }
   },
   "outputs": [],
   "source": [
    "img=mpimg.imread('data/train/malignant/1245.jpg')\n",
    "scaled = img / 255\n",
    "X_upload = scaled.reshape(scaled.shape[0] * scaled.shape[1] * scaled.shape[2])"
   ]
  },
  {
   "cell_type": "code",
   "execution_count": 79,
   "metadata": {
    "ExecuteTime": {
     "end_time": "2020-05-19T23:08:44.929921Z",
     "start_time": "2020-05-19T23:08:44.471534Z"
    }
   },
   "outputs": [
    {
     "data": {
      "text/html": [
       "<div>\n",
       "<style scoped>\n",
       "    .dataframe tbody tr th:only-of-type {\n",
       "        vertical-align: middle;\n",
       "    }\n",
       "\n",
       "    .dataframe tbody tr th {\n",
       "        vertical-align: top;\n",
       "    }\n",
       "\n",
       "    .dataframe thead th {\n",
       "        text-align: right;\n",
       "    }\n",
       "</style>\n",
       "<table border=\"1\" class=\"dataframe\">\n",
       "  <thead>\n",
       "    <tr style=\"text-align: right;\">\n",
       "      <th></th>\n",
       "      <th>0</th>\n",
       "      <th>1</th>\n",
       "      <th>2</th>\n",
       "      <th>3</th>\n",
       "      <th>4</th>\n",
       "      <th>5</th>\n",
       "      <th>6</th>\n",
       "      <th>7</th>\n",
       "      <th>8</th>\n",
       "      <th>9</th>\n",
       "      <th>...</th>\n",
       "      <th>150518</th>\n",
       "      <th>150519</th>\n",
       "      <th>150520</th>\n",
       "      <th>150521</th>\n",
       "      <th>150522</th>\n",
       "      <th>150523</th>\n",
       "      <th>150524</th>\n",
       "      <th>150525</th>\n",
       "      <th>150526</th>\n",
       "      <th>150527</th>\n",
       "    </tr>\n",
       "  </thead>\n",
       "  <tbody>\n",
       "    <tr>\n",
       "      <th>0</th>\n",
       "      <td>0.0</td>\n",
       "      <td>0.0</td>\n",
       "      <td>0.0</td>\n",
       "      <td>0.0</td>\n",
       "      <td>0.0</td>\n",
       "      <td>0.0</td>\n",
       "      <td>0.0</td>\n",
       "      <td>0.0</td>\n",
       "      <td>0.0</td>\n",
       "      <td>0.0</td>\n",
       "      <td>...</td>\n",
       "      <td>0.0</td>\n",
       "      <td>0.0</td>\n",
       "      <td>0.0</td>\n",
       "      <td>0.0</td>\n",
       "      <td>0.0</td>\n",
       "      <td>0.0</td>\n",
       "      <td>0.0</td>\n",
       "      <td>0.0</td>\n",
       "      <td>0.0</td>\n",
       "      <td>0.0</td>\n",
       "    </tr>\n",
       "  </tbody>\n",
       "</table>\n",
       "<p>1 rows × 150528 columns</p>\n",
       "</div>"
      ],
      "text/plain": [
       "   0       1       2       3       4       5       6       7       8       \\\n",
       "0     0.0     0.0     0.0     0.0     0.0     0.0     0.0     0.0     0.0   \n",
       "\n",
       "   9       ...  150518  150519  150520  150521  150522  150523  150524  \\\n",
       "0     0.0  ...     0.0     0.0     0.0     0.0     0.0     0.0     0.0   \n",
       "\n",
       "   150525  150526  150527  \n",
       "0     0.0     0.0     0.0  \n",
       "\n",
       "[1 rows x 150528 columns]"
      ]
     },
     "execution_count": 79,
     "metadata": {},
     "output_type": "execute_result"
    }
   ],
   "source": [
    "X_upload = pd.DataFrame(X_upload).T\n",
    "X_upload"
   ]
  },
  {
   "cell_type": "code",
   "execution_count": 80,
   "metadata": {
    "ExecuteTime": {
     "end_time": "2020-05-19T23:09:12.197101Z",
     "start_time": "2020-05-19T23:08:45.751054Z"
    }
   },
   "outputs": [],
   "source": [
    "result = pipe.predict_proba(X_upload)"
   ]
  },
  {
   "cell_type": "code",
   "execution_count": 81,
   "metadata": {
    "ExecuteTime": {
     "end_time": "2020-05-19T23:29:46.901727Z",
     "start_time": "2020-05-19T23:29:46.670869Z"
    }
   },
   "outputs": [
    {
     "data": {
      "text/plain": [
       "array([[0.10118454, 0.89881546]])"
      ]
     },
     "execution_count": 81,
     "metadata": {},
     "output_type": "execute_result"
    }
   ],
   "source": [
    "result"
   ]
  },
  {
   "cell_type": "code",
   "execution_count": 94,
   "metadata": {
    "ExecuteTime": {
     "end_time": "2020-05-20T01:26:29.442623Z",
     "start_time": "2020-05-20T01:26:29.280819Z"
    },
    "scrolled": true
   },
   "outputs": [],
   "source": [
    "image = Image.open('data/train/malignant/1245.jpg')\n",
    "scaled = np.array(image) / 255.0\n",
    "scaled = cv2.resize(scaled, (224, 224))"
   ]
  },
  {
   "cell_type": "code",
   "execution_count": 92,
   "metadata": {
    "ExecuteTime": {
     "end_time": "2020-05-20T01:17:59.888266Z",
     "start_time": "2020-05-20T01:17:59.883281Z"
    }
   },
   "outputs": [
    {
     "data": {
      "text/plain": [
       "(224, 224, 3)"
      ]
     },
     "execution_count": 92,
     "metadata": {},
     "output_type": "execute_result"
    }
   ],
   "source": [
    "image.shape"
   ]
  },
  {
   "cell_type": "markdown",
   "metadata": {
    "heading_collapsed": true
   },
   "source": [
    "# Keras (Bônus)\n",
    "\n",
    "Foi utilizado uma Rede Neural Convolucional, onde não há influencias entre os dados. Caso tenha influência, ele pode dar puxar os dados da foto anterior e classificar sofrendo influência."
   ]
  },
  {
   "cell_type": "markdown",
   "metadata": {
    "heading_collapsed": true,
    "hidden": true
   },
   "source": [
    "## Acurácia"
   ]
  },
  {
   "cell_type": "code",
   "execution_count": 17,
   "metadata": {
    "ExecuteTime": {
     "end_time": "2020-05-19T19:17:57.478039Z",
     "start_time": "2020-05-19T19:17:57.364352Z"
    },
    "collapsed": true,
    "hidden": true
   },
   "outputs": [
    {
     "name": "stderr",
     "output_type": "stream",
     "text": [
      "C:\\Users\\yukar\\Anaconda3\\lib\\site-packages\\ipykernel_launcher.py:2: UserWarning: Update your `Dense` call to the Keras 2 API: `Dense(units=12, input_dim=12, activation=\"relu\", kernel_initializer=\"uniform\")`\n",
      "  \n",
      "C:\\Users\\yukar\\Anaconda3\\lib\\site-packages\\ipykernel_launcher.py:3: UserWarning: Update your `Dense` call to the Keras 2 API: `Dense(8, activation=\"relu\", kernel_initializer=\"uniform\")`\n",
      "  This is separate from the ipykernel package so we can avoid doing imports until\n",
      "C:\\Users\\yukar\\Anaconda3\\lib\\site-packages\\ipykernel_launcher.py:4: UserWarning: Update your `Dense` call to the Keras 2 API: `Dense(1, activation=\"sigmoid\", kernel_initializer=\"uniform\")`\n",
      "  after removing the cwd from sys.path.\n"
     ]
    }
   ],
   "source": [
    "model = Sequential()\n",
    "model.add(Dense(units = 12, input_dim=12, init='uniform', activation='relu'))\n",
    "model.add(Dense(8, init='uniform', activation='relu'))\n",
    "model.add(Dense(1, init='uniform', activation='sigmoid'))\n",
    "model.compile(loss='binary_crossentropy', optimizer='adam', metrics=['accuracy'])"
   ]
  },
  {
   "cell_type": "code",
   "execution_count": 18,
   "metadata": {
    "ExecuteTime": {
     "end_time": "2020-05-19T19:18:06.376173Z",
     "start_time": "2020-05-19T19:18:00.107694Z"
    },
    "collapsed": true,
    "hidden": true
   },
   "outputs": [
    {
     "name": "stderr",
     "output_type": "stream",
     "text": [
      "C:\\Users\\yukar\\Anaconda3\\lib\\site-packages\\ipykernel_launcher.py:1: UserWarning: The `nb_epoch` argument in `fit` has been renamed `epochs`.\n",
      "  \"\"\"Entry point for launching an IPython kernel.\n"
     ]
    },
    {
     "name": "stdout",
     "output_type": "stream",
     "text": [
      "WARNING:tensorflow:From C:\\Users\\yukar\\Anaconda3\\lib\\site-packages\\tensorflow\\python\\ops\\math_ops.py:3066: to_int32 (from tensorflow.python.ops.math_ops) is deprecated and will be removed in a future version.\n",
      "Instructions for updating:\n",
      "Use tf.cast instead.\n",
      "Epoch 1/150\n",
      "400/400 [==============================] - 1s 2ms/step - loss: 0.6931 - accuracy: 0.4950\n",
      "Epoch 2/150\n",
      "400/400 [==============================] - 0s 55us/step - loss: 0.6913 - accuracy: 0.5950\n",
      "Epoch 3/150\n",
      "400/400 [==============================] - 0s 55us/step - loss: 0.6847 - accuracy: 0.7475\n",
      "Epoch 4/150\n",
      "400/400 [==============================] - 0s 57us/step - loss: 0.6592 - accuracy: 0.7850\n",
      "Epoch 5/150\n",
      "400/400 [==============================] - 0s 55us/step - loss: 0.6000 - accuracy: 0.7875\n",
      "Epoch 6/150\n",
      "400/400 [==============================] - 0s 55us/step - loss: 0.5232 - accuracy: 0.7850\n",
      "Epoch 7/150\n",
      "400/400 [==============================] - 0s 57us/step - loss: 0.4696 - accuracy: 0.7900\n",
      "Epoch 8/150\n",
      "400/400 [==============================] - 0s 65us/step - loss: 0.4464 - accuracy: 0.7900\n",
      "Epoch 9/150\n",
      "400/400 [==============================] - 0s 65us/step - loss: 0.4351 - accuracy: 0.7950\n",
      "Epoch 10/150\n",
      "400/400 [==============================] - 0s 67us/step - loss: 0.4285 - accuracy: 0.7950\n",
      "Epoch 11/150\n",
      "400/400 [==============================] - 0s 62us/step - loss: 0.4232 - accuracy: 0.7950\n",
      "Epoch 12/150\n",
      "400/400 [==============================] - 0s 62us/step - loss: 0.4174 - accuracy: 0.8000\n",
      "Epoch 13/150\n",
      "400/400 [==============================] - 0s 60us/step - loss: 0.4111 - accuracy: 0.8050\n",
      "Epoch 14/150\n",
      "400/400 [==============================] - 0s 60us/step - loss: 0.4100 - accuracy: 0.8100\n",
      "Epoch 15/150\n",
      "400/400 [==============================] - 0s 62us/step - loss: 0.4043 - accuracy: 0.8100\n",
      "Epoch 16/150\n",
      "400/400 [==============================] - 0s 55us/step - loss: 0.4003 - accuracy: 0.8150\n",
      "Epoch 17/150\n",
      "400/400 [==============================] - 0s 52us/step - loss: 0.3982 - accuracy: 0.8150\n",
      "Epoch 18/150\n",
      "400/400 [==============================] - 0s 62us/step - loss: 0.3941 - accuracy: 0.8175\n",
      "Epoch 19/150\n",
      "400/400 [==============================] - 0s 57us/step - loss: 0.3926 - accuracy: 0.8175\n",
      "Epoch 20/150\n",
      "400/400 [==============================] - 0s 52us/step - loss: 0.3899 - accuracy: 0.8200\n",
      "Epoch 21/150\n",
      "400/400 [==============================] - 0s 50us/step - loss: 0.3854 - accuracy: 0.8200\n",
      "Epoch 22/150\n",
      "400/400 [==============================] - 0s 55us/step - loss: 0.3829 - accuracy: 0.8150\n",
      "Epoch 23/150\n",
      "400/400 [==============================] - 0s 52us/step - loss: 0.3830 - accuracy: 0.8175\n",
      "Epoch 24/150\n",
      "400/400 [==============================] - 0s 47us/step - loss: 0.3803 - accuracy: 0.8250\n",
      "Epoch 25/150\n",
      "400/400 [==============================] - 0s 55us/step - loss: 0.3750 - accuracy: 0.8275\n",
      "Epoch 26/150\n",
      "400/400 [==============================] - 0s 50us/step - loss: 0.3740 - accuracy: 0.8300\n",
      "Epoch 27/150\n",
      "400/400 [==============================] - 0s 55us/step - loss: 0.3695 - accuracy: 0.8300\n",
      "Epoch 28/150\n",
      "400/400 [==============================] - 0s 55us/step - loss: 0.3689 - accuracy: 0.8375\n",
      "Epoch 29/150\n",
      "400/400 [==============================] - 0s 55us/step - loss: 0.3646 - accuracy: 0.8450\n",
      "Epoch 30/150\n",
      "400/400 [==============================] - 0s 52us/step - loss: 0.3623 - accuracy: 0.8475\n",
      "Epoch 31/150\n",
      "400/400 [==============================] - 0s 52us/step - loss: 0.3599 - accuracy: 0.8500\n",
      "Epoch 32/150\n",
      "400/400 [==============================] - 0s 47us/step - loss: 0.3567 - accuracy: 0.8500\n",
      "Epoch 33/150\n",
      "400/400 [==============================] - 0s 50us/step - loss: 0.3558 - accuracy: 0.8525\n",
      "Epoch 34/150\n",
      "400/400 [==============================] - 0s 55us/step - loss: 0.3551 - accuracy: 0.8550\n",
      "Epoch 35/150\n",
      "400/400 [==============================] - 0s 90us/step - loss: 0.3512 - accuracy: 0.8600\n",
      "Epoch 36/150\n",
      "400/400 [==============================] - 0s 52us/step - loss: 0.3508 - accuracy: 0.8600\n",
      "Epoch 37/150\n",
      "400/400 [==============================] - 0s 55us/step - loss: 0.3495 - accuracy: 0.8600\n",
      "Epoch 38/150\n",
      "400/400 [==============================] - 0s 50us/step - loss: 0.3462 - accuracy: 0.8650\n",
      "Epoch 39/150\n",
      "400/400 [==============================] - 0s 52us/step - loss: 0.3447 - accuracy: 0.8700\n",
      "Epoch 40/150\n",
      "400/400 [==============================] - 0s 52us/step - loss: 0.3438 - accuracy: 0.8675\n",
      "Epoch 41/150\n",
      "400/400 [==============================] - 0s 52us/step - loss: 0.3399 - accuracy: 0.8650\n",
      "Epoch 42/150\n",
      "400/400 [==============================] - 0s 50us/step - loss: 0.3391 - accuracy: 0.8700\n",
      "Epoch 43/150\n",
      "400/400 [==============================] - 0s 52us/step - loss: 0.3365 - accuracy: 0.8700\n",
      "Epoch 44/150\n",
      "400/400 [==============================] - 0s 57us/step - loss: 0.3369 - accuracy: 0.8775\n",
      "Epoch 45/150\n",
      "400/400 [==============================] - 0s 50us/step - loss: 0.3361 - accuracy: 0.8750\n",
      "Epoch 46/150\n",
      "400/400 [==============================] - 0s 52us/step - loss: 0.3378 - accuracy: 0.8775\n",
      "Epoch 47/150\n",
      "400/400 [==============================] - 0s 52us/step - loss: 0.3317 - accuracy: 0.8825\n",
      "Epoch 48/150\n",
      "400/400 [==============================] - 0s 55us/step - loss: 0.3334 - accuracy: 0.8800\n",
      "Epoch 49/150\n",
      "400/400 [==============================] - 0s 57us/step - loss: 0.3270 - accuracy: 0.8800\n",
      "Epoch 50/150\n",
      "400/400 [==============================] - 0s 52us/step - loss: 0.3255 - accuracy: 0.8825\n",
      "Epoch 51/150\n",
      "400/400 [==============================] - 0s 52us/step - loss: 0.3260 - accuracy: 0.8825\n",
      "Epoch 52/150\n",
      "400/400 [==============================] - 0s 47us/step - loss: 0.3240 - accuracy: 0.8875\n",
      "Epoch 53/150\n",
      "400/400 [==============================] - 0s 47us/step - loss: 0.3222 - accuracy: 0.8850\n",
      "Epoch 54/150\n",
      "400/400 [==============================] - 0s 47us/step - loss: 0.3218 - accuracy: 0.8825\n",
      "Epoch 55/150\n",
      "400/400 [==============================] - 0s 47us/step - loss: 0.3199 - accuracy: 0.8900\n",
      "Epoch 56/150\n",
      "400/400 [==============================] - 0s 47us/step - loss: 0.3168 - accuracy: 0.8875\n",
      "Epoch 57/150\n",
      "400/400 [==============================] - 0s 50us/step - loss: 0.3161 - accuracy: 0.8875\n",
      "Epoch 58/150\n",
      "400/400 [==============================] - 0s 52us/step - loss: 0.3137 - accuracy: 0.8825\n",
      "Epoch 59/150\n",
      "400/400 [==============================] - 0s 60us/step - loss: 0.3137 - accuracy: 0.8825\n",
      "Epoch 60/150\n",
      "400/400 [==============================] - 0s 52us/step - loss: 0.3111 - accuracy: 0.8875\n",
      "Epoch 61/150\n",
      "400/400 [==============================] - 0s 52us/step - loss: 0.3135 - accuracy: 0.8825\n",
      "Epoch 62/150\n",
      "400/400 [==============================] - 0s 50us/step - loss: 0.3091 - accuracy: 0.8875\n",
      "Epoch 63/150\n",
      "400/400 [==============================] - 0s 52us/step - loss: 0.3087 - accuracy: 0.8850\n",
      "Epoch 64/150\n",
      "400/400 [==============================] - 0s 50us/step - loss: 0.3091 - accuracy: 0.8850\n",
      "Epoch 65/150\n",
      "400/400 [==============================] - 0s 50us/step - loss: 0.3024 - accuracy: 0.8900\n",
      "Epoch 66/150\n",
      "400/400 [==============================] - 0s 50us/step - loss: 0.3013 - accuracy: 0.8900\n",
      "Epoch 67/150\n",
      "400/400 [==============================] - 0s 50us/step - loss: 0.2996 - accuracy: 0.8875\n",
      "Epoch 68/150\n",
      "400/400 [==============================] - 0s 52us/step - loss: 0.2993 - accuracy: 0.8925\n",
      "Epoch 69/150\n",
      "400/400 [==============================] - 0s 52us/step - loss: 0.2997 - accuracy: 0.8875\n",
      "Epoch 70/150\n",
      "400/400 [==============================] - 0s 55us/step - loss: 0.2965 - accuracy: 0.8925\n",
      "Epoch 71/150\n",
      "400/400 [==============================] - 0s 55us/step - loss: 0.2937 - accuracy: 0.8925\n",
      "Epoch 72/150\n",
      "400/400 [==============================] - 0s 52us/step - loss: 0.2954 - accuracy: 0.8975\n",
      "Epoch 73/150\n",
      "400/400 [==============================] - 0s 50us/step - loss: 0.2916 - accuracy: 0.8975\n",
      "Epoch 74/150\n",
      "400/400 [==============================] - 0s 50us/step - loss: 0.2908 - accuracy: 0.9000\n",
      "Epoch 75/150\n",
      "400/400 [==============================] - 0s 51us/step - loss: 0.2917 - accuracy: 0.8975\n",
      "Epoch 76/150\n",
      "400/400 [==============================] - 0s 55us/step - loss: 0.2858 - accuracy: 0.9000\n",
      "Epoch 77/150\n",
      "400/400 [==============================] - 0s 52us/step - loss: 0.2851 - accuracy: 0.8950\n",
      "Epoch 78/150\n"
     ]
    },
    {
     "name": "stdout",
     "output_type": "stream",
     "text": [
      "400/400 [==============================] - 0s 52us/step - loss: 0.2838 - accuracy: 0.9000\n",
      "Epoch 79/150\n",
      "400/400 [==============================] - 0s 52us/step - loss: 0.2847 - accuracy: 0.8925\n",
      "Epoch 80/150\n",
      "400/400 [==============================] - 0s 47us/step - loss: 0.2807 - accuracy: 0.8975\n",
      "Epoch 81/150\n",
      "400/400 [==============================] - 0s 50us/step - loss: 0.2787 - accuracy: 0.9025\n",
      "Epoch 82/150\n",
      "400/400 [==============================] - 0s 50us/step - loss: 0.2773 - accuracy: 0.9025\n",
      "Epoch 83/150\n",
      "400/400 [==============================] - 0s 47us/step - loss: 0.2766 - accuracy: 0.9000\n",
      "Epoch 84/150\n",
      "400/400 [==============================] - 0s 47us/step - loss: 0.2747 - accuracy: 0.9000\n",
      "Epoch 85/150\n",
      "400/400 [==============================] - 0s 47us/step - loss: 0.2739 - accuracy: 0.9025\n",
      "Epoch 86/150\n",
      "400/400 [==============================] - 0s 47us/step - loss: 0.2720 - accuracy: 0.9025\n",
      "Epoch 87/150\n",
      "400/400 [==============================] - 0s 47us/step - loss: 0.2729 - accuracy: 0.8950\n",
      "Epoch 88/150\n",
      "400/400 [==============================] - 0s 45us/step - loss: 0.2681 - accuracy: 0.9025\n",
      "Epoch 89/150\n",
      "400/400 [==============================] - 0s 49us/step - loss: 0.2673 - accuracy: 0.9025\n",
      "Epoch 90/150\n",
      "400/400 [==============================] - 0s 47us/step - loss: 0.2651 - accuracy: 0.9000\n",
      "Epoch 91/150\n",
      "400/400 [==============================] - 0s 45us/step - loss: 0.2641 - accuracy: 0.8975\n",
      "Epoch 92/150\n",
      "400/400 [==============================] - 0s 47us/step - loss: 0.2641 - accuracy: 0.8975\n",
      "Epoch 93/150\n",
      "400/400 [==============================] - 0s 50us/step - loss: 0.2626 - accuracy: 0.9050\n",
      "Epoch 94/150\n",
      "400/400 [==============================] - 0s 47us/step - loss: 0.2614 - accuracy: 0.9025\n",
      "Epoch 95/150\n",
      "400/400 [==============================] - 0s 47us/step - loss: 0.2606 - accuracy: 0.8975\n",
      "Epoch 96/150\n",
      "400/400 [==============================] - 0s 45us/step - loss: 0.2584 - accuracy: 0.9025\n",
      "Epoch 97/150\n",
      "400/400 [==============================] - 0s 47us/step - loss: 0.2570 - accuracy: 0.9000\n",
      "Epoch 98/150\n",
      "400/400 [==============================] - 0s 50us/step - loss: 0.2552 - accuracy: 0.9025\n",
      "Epoch 99/150\n",
      "400/400 [==============================] - 0s 47us/step - loss: 0.2539 - accuracy: 0.9025\n",
      "Epoch 100/150\n",
      "400/400 [==============================] - 0s 47us/step - loss: 0.2520 - accuracy: 0.9000\n",
      "Epoch 101/150\n",
      "400/400 [==============================] - 0s 50us/step - loss: 0.2505 - accuracy: 0.9075\n",
      "Epoch 102/150\n",
      "400/400 [==============================] - 0s 50us/step - loss: 0.2500 - accuracy: 0.9075\n",
      "Epoch 103/150\n",
      "400/400 [==============================] - 0s 52us/step - loss: 0.2486 - accuracy: 0.9050\n",
      "Epoch 104/150\n",
      "400/400 [==============================] - 0s 45us/step - loss: 0.2482 - accuracy: 0.9000\n",
      "Epoch 105/150\n",
      "400/400 [==============================] - 0s 50us/step - loss: 0.2474 - accuracy: 0.8975\n",
      "Epoch 106/150\n",
      "400/400 [==============================] - 0s 50us/step - loss: 0.2452 - accuracy: 0.9025\n",
      "Epoch 107/150\n",
      "400/400 [==============================] - 0s 47us/step - loss: 0.2450 - accuracy: 0.9075\n",
      "Epoch 108/150\n",
      "400/400 [==============================] - 0s 50us/step - loss: 0.2434 - accuracy: 0.9025\n",
      "Epoch 109/150\n",
      "400/400 [==============================] - 0s 50us/step - loss: 0.2422 - accuracy: 0.9025\n",
      "Epoch 110/150\n",
      "400/400 [==============================] - 0s 47us/step - loss: 0.2400 - accuracy: 0.9075\n",
      "Epoch 111/150\n",
      "400/400 [==============================] - 0s 45us/step - loss: 0.2397 - accuracy: 0.9025\n",
      "Epoch 112/150\n",
      "400/400 [==============================] - 0s 50us/step - loss: 0.2372 - accuracy: 0.9075\n",
      "Epoch 113/150\n",
      "400/400 [==============================] - 0s 50us/step - loss: 0.2368 - accuracy: 0.9050\n",
      "Epoch 114/150\n",
      "400/400 [==============================] - 0s 47us/step - loss: 0.2349 - accuracy: 0.9125\n",
      "Epoch 115/150\n",
      "400/400 [==============================] - 0s 50us/step - loss: 0.2382 - accuracy: 0.9025\n",
      "Epoch 116/150\n",
      "400/400 [==============================] - 0s 50us/step - loss: 0.2310 - accuracy: 0.9075\n",
      "Epoch 117/150\n",
      "400/400 [==============================] - 0s 50us/step - loss: 0.2301 - accuracy: 0.9125\n",
      "Epoch 118/150\n",
      "400/400 [==============================] - 0s 45us/step - loss: 0.2311 - accuracy: 0.8975\n",
      "Epoch 119/150\n",
      "400/400 [==============================] - 0s 50us/step - loss: 0.2332 - accuracy: 0.9000\n",
      "Epoch 120/150\n",
      "400/400 [==============================] - 0s 50us/step - loss: 0.2317 - accuracy: 0.9025\n",
      "Epoch 121/150\n",
      "400/400 [==============================] - 0s 47us/step - loss: 0.2281 - accuracy: 0.9100\n",
      "Epoch 122/150\n",
      "400/400 [==============================] - 0s 47us/step - loss: 0.2270 - accuracy: 0.9125\n",
      "Epoch 123/150\n",
      "400/400 [==============================] - 0s 50us/step - loss: 0.2266 - accuracy: 0.9050\n",
      "Epoch 124/150\n",
      "400/400 [==============================] - 0s 50us/step - loss: 0.2294 - accuracy: 0.9025\n",
      "Epoch 125/150\n",
      "400/400 [==============================] - 0s 47us/step - loss: 0.2320 - accuracy: 0.9000\n",
      "Epoch 126/150\n",
      "400/400 [==============================] - 0s 50us/step - loss: 0.2253 - accuracy: 0.9075\n",
      "Epoch 127/150\n",
      "400/400 [==============================] - 0s 55us/step - loss: 0.2214 - accuracy: 0.9100\n",
      "Epoch 128/150\n",
      "400/400 [==============================] - 0s 47us/step - loss: 0.2217 - accuracy: 0.9075\n",
      "Epoch 129/150\n",
      "400/400 [==============================] - 0s 50us/step - loss: 0.2215 - accuracy: 0.9075\n",
      "Epoch 130/150\n",
      "400/400 [==============================] - 0s 50us/step - loss: 0.2222 - accuracy: 0.9100\n",
      "Epoch 131/150\n",
      "400/400 [==============================] - 0s 50us/step - loss: 0.2170 - accuracy: 0.9100\n",
      "Epoch 132/150\n",
      "400/400 [==============================] - 0s 47us/step - loss: 0.2150 - accuracy: 0.9100\n",
      "Epoch 133/150\n",
      "400/400 [==============================] - 0s 50us/step - loss: 0.2180 - accuracy: 0.9050\n",
      "Epoch 134/150\n",
      "400/400 [==============================] - 0s 50us/step - loss: 0.2160 - accuracy: 0.9100\n",
      "Epoch 135/150\n",
      "400/400 [==============================] - 0s 50us/step - loss: 0.2152 - accuracy: 0.9050\n",
      "Epoch 136/150\n",
      "400/400 [==============================] - 0s 50us/step - loss: 0.2129 - accuracy: 0.9100\n",
      "Epoch 137/150\n",
      "400/400 [==============================] - 0s 50us/step - loss: 0.2101 - accuracy: 0.9125\n",
      "Epoch 138/150\n",
      "400/400 [==============================] - 0s 47us/step - loss: 0.2116 - accuracy: 0.9125\n",
      "Epoch 139/150\n",
      "400/400 [==============================] - 0s 50us/step - loss: 0.2098 - accuracy: 0.9100\n",
      "Epoch 140/150\n",
      "400/400 [==============================] - 0s 50us/step - loss: 0.2093 - accuracy: 0.9100\n",
      "Epoch 141/150\n",
      "400/400 [==============================] - 0s 47us/step - loss: 0.2091 - accuracy: 0.9100\n",
      "Epoch 142/150\n",
      "400/400 [==============================] - 0s 47us/step - loss: 0.2104 - accuracy: 0.9075\n",
      "Epoch 143/150\n",
      "400/400 [==============================] - 0s 50us/step - loss: 0.2075 - accuracy: 0.9100\n",
      "Epoch 144/150\n",
      "400/400 [==============================] - 0s 50us/step - loss: 0.2054 - accuracy: 0.9100\n",
      "Epoch 145/150\n",
      "400/400 [==============================] - 0s 45us/step - loss: 0.2063 - accuracy: 0.9075\n",
      "Epoch 146/150\n",
      "400/400 [==============================] - 0s 51us/step - loss: 0.2029 - accuracy: 0.9100\n",
      "Epoch 147/150\n",
      "400/400 [==============================] - 0s 47us/step - loss: 0.2032 - accuracy: 0.9075\n",
      "Epoch 148/150\n",
      "400/400 [==============================] - 0s 50us/step - loss: 0.2028 - accuracy: 0.9100\n",
      "Epoch 149/150\n",
      "400/400 [==============================] - 0s 50us/step - loss: 0.1995 - accuracy: 0.9100\n",
      "Epoch 150/150\n",
      "400/400 [==============================] - 0s 50us/step - loss: 0.2005 - accuracy: 0.9100\n"
     ]
    },
    {
     "data": {
      "text/plain": [
       "<keras.callbacks.callbacks.History at 0x1b75000d108>"
      ]
     },
     "execution_count": 18,
     "metadata": {},
     "output_type": "execute_result"
    }
   ],
   "source": [
    "model.fit(X_train, y_train, nb_epoch=150, batch_size=20)"
   ]
  },
  {
   "cell_type": "code",
   "execution_count": 19,
   "metadata": {
    "ExecuteTime": {
     "end_time": "2020-05-19T19:18:06.455919Z",
     "start_time": "2020-05-19T19:18:06.378167Z"
    },
    "hidden": true,
    "scrolled": true
   },
   "outputs": [
    {
     "name": "stdout",
     "output_type": "stream",
     "text": [
      "Perda: 0.83\n",
      "Acurácia: 75.00%\n"
     ]
    }
   ],
   "source": [
    "scores = model.evaluate(X_test, y_test, verbose=0)\n",
    "print(\"Perda: %.2f\" % (scores[0]))\n",
    "print(\"Acurácia: %.2f%%\" % (scores[1]*100))"
   ]
  },
  {
   "cell_type": "code",
   "execution_count": 20,
   "metadata": {
    "ExecuteTime": {
     "end_time": "2020-05-19T19:18:06.540692Z",
     "start_time": "2020-05-19T19:18:06.458913Z"
    },
    "hidden": true
   },
   "outputs": [
    {
     "data": {
      "text/plain": [
       "array([[62, 23],\n",
       "       [ 2, 13]], dtype=int64)"
      ]
     },
     "execution_count": 20,
     "metadata": {},
     "output_type": "execute_result"
    }
   ],
   "source": [
    "confusion_matrix(y_test, model.predict_proba(X_test) > 0.5)"
   ]
  },
  {
   "cell_type": "markdown",
   "metadata": {
    "heading_collapsed": true,
    "hidden": true
   },
   "source": [
    "## Precisão"
   ]
  },
  {
   "cell_type": "code",
   "execution_count": 22,
   "metadata": {
    "ExecuteTime": {
     "end_time": "2020-05-19T19:18:12.206652Z",
     "start_time": "2020-05-19T19:18:12.057653Z"
    },
    "hidden": true,
    "scrolled": false
   },
   "outputs": [
    {
     "name": "stderr",
     "output_type": "stream",
     "text": [
      "C:\\Users\\yukar\\Anaconda3\\lib\\site-packages\\ipykernel_launcher.py:2: UserWarning: Update your `Dense` call to the Keras 2 API: `Dense(units=12, input_dim=12, activation=\"relu\", kernel_initializer=\"uniform\")`\n",
      "  \n",
      "C:\\Users\\yukar\\Anaconda3\\lib\\site-packages\\ipykernel_launcher.py:3: UserWarning: Update your `Dense` call to the Keras 2 API: `Dense(8, activation=\"relu\", kernel_initializer=\"uniform\")`\n",
      "  This is separate from the ipykernel package so we can avoid doing imports until\n",
      "C:\\Users\\yukar\\Anaconda3\\lib\\site-packages\\ipykernel_launcher.py:4: UserWarning: Update your `Dense` call to the Keras 2 API: `Dense(1, activation=\"sigmoid\", kernel_initializer=\"uniform\")`\n",
      "  after removing the cwd from sys.path.\n"
     ]
    }
   ],
   "source": [
    "model = Sequential()\n",
    "model.add(Dense(units = 12, input_dim=12, init='uniform', activation='relu'))\n",
    "model.add(Dense(8, init='uniform', activation='relu'))\n",
    "model.add(Dense(1, init='uniform', activation='sigmoid'))\n",
    "model.compile(loss='binary_crossentropy', optimizer='adam', metrics=[tf.keras.metrics.Precision()])"
   ]
  },
  {
   "cell_type": "code",
   "execution_count": 23,
   "metadata": {
    "ExecuteTime": {
     "end_time": "2020-05-19T19:18:17.371946Z",
     "start_time": "2020-05-19T19:18:12.371215Z"
    },
    "collapsed": true,
    "hidden": true
   },
   "outputs": [
    {
     "name": "stderr",
     "output_type": "stream",
     "text": [
      "C:\\Users\\yukar\\Anaconda3\\lib\\site-packages\\ipykernel_launcher.py:1: UserWarning: The `nb_epoch` argument in `fit` has been renamed `epochs`.\n",
      "  \"\"\"Entry point for launching an IPython kernel.\n"
     ]
    },
    {
     "name": "stdout",
     "output_type": "stream",
     "text": [
      "Epoch 1/150\n",
      "400/400 [==============================] - 1s 1ms/step - loss: 0.6920 - precision_1: 0.7172\n",
      "Epoch 2/150\n",
      "400/400 [==============================] - 0s 56us/step - loss: 0.6862 - precision_1: 0.7484\n",
      "Epoch 3/150\n",
      "400/400 [==============================] - 0s 62us/step - loss: 0.6651 - precision_1: 0.7541\n",
      "Epoch 4/150\n",
      "400/400 [==============================] - 0s 57us/step - loss: 0.6108 - precision_1: 0.7503\n",
      "Epoch 5/150\n",
      "400/400 [==============================] - 0s 60us/step - loss: 0.5337 - precision_1: 0.7536\n",
      "Epoch 6/150\n",
      "400/400 [==============================] - 0s 61us/step - loss: 0.4788 - precision_1: 0.7520\n",
      "Epoch 7/150\n",
      "400/400 [==============================] - 0s 60us/step - loss: 0.4538 - precision_1: 0.7527\n",
      "Epoch 8/150\n",
      "400/400 [==============================] - 0s 54us/step - loss: 0.4421 - precision_1: 0.7514\n",
      "Epoch 9/150\n",
      "400/400 [==============================] - 0s 59us/step - loss: 0.4330 - precision_1: 0.7503\n",
      "Epoch 10/150\n",
      "400/400 [==============================] - 0s 57us/step - loss: 0.4272 - precision_1: 0.7506\n",
      "Epoch 11/150\n",
      "400/400 [==============================] - 0s 60us/step - loss: 0.4223 - precision_1: 0.7494\n",
      "Epoch 12/150\n",
      "400/400 [==============================] - 0s 59us/step - loss: 0.4153 - precision_1: 0.7484\n",
      "Epoch 13/150\n",
      "400/400 [==============================] - 0s 60us/step - loss: 0.4114 - precision_1: 0.7479\n",
      "Epoch 14/150\n",
      "400/400 [==============================] - 0s 55us/step - loss: 0.4056 - precision_1: 0.7486\n",
      "Epoch 15/150\n",
      "400/400 [==============================] - 0s 60us/step - loss: 0.4010 - precision_1: 0.7479\n",
      "Epoch 16/150\n",
      "400/400 [==============================] - 0s 54us/step - loss: 0.3978 - precision_1: 0.7484\n",
      "Epoch 17/150\n",
      "400/400 [==============================] - 0s 58us/step - loss: 0.3936 - precision_1: 0.7487\n",
      "Epoch 18/150\n",
      "400/400 [==============================] - 0s 55us/step - loss: 0.3889 - precision_1: 0.7490\n",
      "Epoch 19/150\n",
      "400/400 [==============================] - 0s 57us/step - loss: 0.3859 - precision_1: 0.7496\n",
      "Epoch 20/150\n",
      "400/400 [==============================] - 0s 57us/step - loss: 0.3811 - precision_1: 0.7507\n",
      "Epoch 21/150\n",
      "400/400 [==============================] - 0s 55us/step - loss: 0.3779 - precision_1: 0.7518\n",
      "Epoch 22/150\n",
      "400/400 [==============================] - 0s 57us/step - loss: 0.3728 - precision_1: 0.7515\n",
      "Epoch 23/150\n",
      "400/400 [==============================] - 0s 60us/step - loss: 0.3710 - precision_1: 0.7535\n",
      "Epoch 24/150\n",
      "400/400 [==============================] - 0s 59us/step - loss: 0.3662 - precision_1: 0.7532\n",
      "Epoch 25/150\n",
      "400/400 [==============================] - 0s 52us/step - loss: 0.3636 - precision_1: 0.7540\n",
      "Epoch 26/150\n",
      "400/400 [==============================] - 0s 57us/step - loss: 0.3596 - precision_1: 0.7549\n",
      "Epoch 27/150\n",
      "400/400 [==============================] - 0s 57us/step - loss: 0.3564 - precision_1: 0.7555\n",
      "Epoch 28/150\n",
      "400/400 [==============================] - 0s 67us/step - loss: 0.3541 - precision_1: 0.7566\n",
      "Epoch 29/150\n",
      "400/400 [==============================] - 0s 65us/step - loss: 0.3507 - precision_1: 0.7562\n",
      "Epoch 30/150\n",
      "400/400 [==============================] - 0s 60us/step - loss: 0.3470 - precision_1: 0.7574\n",
      "Epoch 31/150\n",
      "400/400 [==============================] - 0s 60us/step - loss: 0.3445 - precision_1: 0.7575\n",
      "Epoch 32/150\n",
      "400/400 [==============================] - 0s 60us/step - loss: 0.3415 - precision_1: 0.7584\n",
      "Epoch 33/150\n",
      "400/400 [==============================] - 0s 67us/step - loss: 0.3382 - precision_1: 0.7587\n",
      "Epoch 34/150\n",
      "400/400 [==============================] - 0s 55us/step - loss: 0.3349 - precision_1: 0.7594\n",
      "Epoch 35/150\n",
      "400/400 [==============================] - 0s 55us/step - loss: 0.3356 - precision_1: 0.7596\n",
      "Epoch 36/150\n",
      "400/400 [==============================] - 0s 55us/step - loss: 0.3347 - precision_1: 0.7610\n",
      "Epoch 37/150\n",
      "400/400 [==============================] - 0s 57us/step - loss: 0.3277 - precision_1: 0.7618\n",
      "Epoch 38/150\n",
      "400/400 [==============================] - 0s 55us/step - loss: 0.3256 - precision_1: 0.7631\n",
      "Epoch 39/150\n",
      "400/400 [==============================] - 0s 57us/step - loss: 0.3222 - precision_1: 0.7642\n",
      "Epoch 40/150\n",
      "400/400 [==============================] - 0s 56us/step - loss: 0.3217 - precision_1: 0.7657\n",
      "Epoch 41/150\n",
      "400/400 [==============================] - 0s 55us/step - loss: 0.3175 - precision_1: 0.7665\n",
      "Epoch 42/150\n",
      "400/400 [==============================] - 0s 57us/step - loss: 0.3154 - precision_1: 0.7674\n",
      "Epoch 43/150\n",
      "400/400 [==============================] - 0s 57us/step - loss: 0.3116 - precision_1: 0.7689\n",
      "Epoch 44/150\n",
      "400/400 [==============================] - 0s 55us/step - loss: 0.3086 - precision_1: 0.7702\n",
      "Epoch 45/150\n",
      "400/400 [==============================] - 0s 60us/step - loss: 0.3085 - precision_1: 0.7712\n",
      "Epoch 46/150\n",
      "400/400 [==============================] - 0s 62us/step - loss: 0.3050 - precision_1: 0.7723\n",
      "Epoch 47/150\n",
      "400/400 [==============================] - 0s 57us/step - loss: 0.3035 - precision_1: 0.7734\n",
      "Epoch 48/150\n",
      "400/400 [==============================] - 0s 55us/step - loss: 0.2999 - precision_1: 0.7746\n",
      "Epoch 49/150\n",
      "400/400 [==============================] - 0s 60us/step - loss: 0.2984 - precision_1: 0.7759\n",
      "Epoch 50/150\n",
      "400/400 [==============================] - 0s 50us/step - loss: 0.2967 - precision_1: 0.7767\n",
      "Epoch 51/150\n",
      "400/400 [==============================] - 0s 57us/step - loss: 0.2920 - precision_1: 0.7779\n",
      "Epoch 52/150\n",
      "400/400 [==============================] - 0s 57us/step - loss: 0.2901 - precision_1: 0.7790\n",
      "Epoch 53/150\n",
      "400/400 [==============================] - 0s 55us/step - loss: 0.2865 - precision_1: 0.7798\n",
      "Epoch 54/150\n",
      "400/400 [==============================] - 0s 52us/step - loss: 0.2875 - precision_1: 0.7807\n",
      "Epoch 55/150\n",
      "400/400 [==============================] - 0s 50us/step - loss: 0.2840 - precision_1: 0.7817\n",
      "Epoch 56/150\n",
      "400/400 [==============================] - 0s 52us/step - loss: 0.2838 - precision_1: 0.7828\n",
      "Epoch 57/150\n",
      "400/400 [==============================] - 0s 52us/step - loss: 0.2773 - precision_1: 0.7837\n",
      "Epoch 58/150\n",
      "400/400 [==============================] - 0s 52us/step - loss: 0.2750 - precision_1: 0.7846\n",
      "Epoch 59/150\n",
      "400/400 [==============================] - 0s 50us/step - loss: 0.2753 - precision_1: 0.7853\n",
      "Epoch 60/150\n",
      "400/400 [==============================] - 0s 47us/step - loss: 0.2699 - precision_1: 0.7862\n",
      "Epoch 61/150\n",
      "400/400 [==============================] - 0s 50us/step - loss: 0.2669 - precision_1: 0.7870\n",
      "Epoch 62/150\n",
      "400/400 [==============================] - 0s 52us/step - loss: 0.2653 - precision_1: 0.7878\n",
      "Epoch 63/150\n",
      "400/400 [==============================] - 0s 47us/step - loss: 0.2624 - precision_1: 0.7884\n",
      "Epoch 64/150\n",
      "400/400 [==============================] - 0s 50us/step - loss: 0.2611 - precision_1: 0.7893\n",
      "Epoch 65/150\n",
      "400/400 [==============================] - 0s 52us/step - loss: 0.2594 - precision_1: 0.7902\n",
      "Epoch 66/150\n",
      "400/400 [==============================] - 0s 50us/step - loss: 0.2565 - precision_1: 0.7908\n",
      "Epoch 67/150\n",
      "400/400 [==============================] - 0s 50us/step - loss: 0.2549 - precision_1: 0.7916\n",
      "Epoch 68/150\n",
      "400/400 [==============================] - 0s 50us/step - loss: 0.2540 - precision_1: 0.7922\n",
      "Epoch 69/150\n",
      "400/400 [==============================] - 0s 47us/step - loss: 0.2537 - precision_1: 0.7931\n",
      "Epoch 70/150\n",
      "400/400 [==============================] - 0s 52us/step - loss: 0.2486 - precision_1: 0.7937\n",
      "Epoch 71/150\n",
      "400/400 [==============================] - 0s 62us/step - loss: 0.2495 - precision_1: 0.7943\n",
      "Epoch 72/150\n",
      "400/400 [==============================] - 0s 57us/step - loss: 0.2461 - precision_1: 0.7952\n",
      "Epoch 73/150\n",
      "400/400 [==============================] - 0s 62us/step - loss: 0.2432 - precision_1: 0.7955\n",
      "Epoch 74/150\n",
      "400/400 [==============================] - 0s 50us/step - loss: 0.2421 - precision_1: 0.7961\n",
      "Epoch 75/150\n",
      "400/400 [==============================] - 0s 55us/step - loss: 0.2425 - precision_1: 0.7968\n",
      "Epoch 76/150\n",
      "400/400 [==============================] - 0s 52us/step - loss: 0.2434 - precision_1: 0.7975\n",
      "Epoch 77/150\n",
      "400/400 [==============================] - 0s 50us/step - loss: 0.2405 - precision_1: 0.7978\n",
      "Epoch 78/150\n"
     ]
    },
    {
     "name": "stdout",
     "output_type": "stream",
     "text": [
      "400/400 [==============================] - 0s 52us/step - loss: 0.2411 - precision_1: 0.7985\n",
      "Epoch 79/150\n",
      "400/400 [==============================] - 0s 52us/step - loss: 0.2370 - precision_1: 0.7990\n",
      "Epoch 80/150\n",
      "400/400 [==============================] - 0s 50us/step - loss: 0.2336 - precision_1: 0.7997\n",
      "Epoch 81/150\n",
      "400/400 [==============================] - 0s 47us/step - loss: 0.2325 - precision_1: 0.8002\n",
      "Epoch 82/150\n",
      "400/400 [==============================] - 0s 52us/step - loss: 0.2308 - precision_1: 0.8007\n",
      "Epoch 83/150\n",
      "400/400 [==============================] - 0s 49us/step - loss: 0.2312 - precision_1: 0.8011\n",
      "Epoch 84/150\n",
      "400/400 [==============================] - 0s 50us/step - loss: 0.2331 - precision_1: 0.8016\n",
      "Epoch 85/150\n",
      "400/400 [==============================] - 0s 50us/step - loss: 0.2265 - precision_1: 0.8021\n",
      "Epoch 86/150\n",
      "400/400 [==============================] - 0s 50us/step - loss: 0.2252 - precision_1: 0.8026\n",
      "Epoch 87/150\n",
      "400/400 [==============================] - 0s 47us/step - loss: 0.2229 - precision_1: 0.8032\n",
      "Epoch 88/150\n",
      "400/400 [==============================] - 0s 49us/step - loss: 0.2241 - precision_1: 0.8035\n",
      "Epoch 89/150\n",
      "400/400 [==============================] - 0s 50us/step - loss: 0.2212 - precision_1: 0.8041\n",
      "Epoch 90/150\n",
      "400/400 [==============================] - 0s 50us/step - loss: 0.2192 - precision_1: 0.8045\n",
      "Epoch 91/150\n",
      "400/400 [==============================] - 0s 55us/step - loss: 0.2188 - precision_1: 0.8049\n",
      "Epoch 92/150\n",
      "400/400 [==============================] - 0s 57us/step - loss: 0.2160 - precision_1: 0.8052\n",
      "Epoch 93/150\n",
      "400/400 [==============================] - 0s 57us/step - loss: 0.2160 - precision_1: 0.8058\n",
      "Epoch 94/150\n",
      "400/400 [==============================] - 0s 57us/step - loss: 0.2138 - precision_1: 0.8061\n",
      "Epoch 95/150\n",
      "400/400 [==============================] - 0s 57us/step - loss: 0.2129 - precision_1: 0.8065\n",
      "Epoch 96/150\n",
      "400/400 [==============================] - 0s 56us/step - loss: 0.2135 - precision_1: 0.8070\n",
      "Epoch 97/150\n",
      "400/400 [==============================] - 0s 57us/step - loss: 0.2104 - precision_1: 0.8073\n",
      "Epoch 98/150\n",
      "400/400 [==============================] - 0s 55us/step - loss: 0.2113 - precision_1: 0.8076\n",
      "Epoch 99/150\n",
      "400/400 [==============================] - 0s 55us/step - loss: 0.2086 - precision_1: 0.8080\n",
      "Epoch 100/150\n",
      "400/400 [==============================] - 0s 59us/step - loss: 0.2082 - precision_1: 0.8085\n",
      "Epoch 101/150\n",
      "400/400 [==============================] - 0s 47us/step - loss: 0.2072 - precision_1: 0.8089\n",
      "Epoch 102/150\n",
      "400/400 [==============================] - 0s 60us/step - loss: 0.2052 - precision_1: 0.8093\n",
      "Epoch 103/150\n",
      "400/400 [==============================] - 0s 50us/step - loss: 0.2034 - precision_1: 0.8097\n",
      "Epoch 104/150\n",
      "400/400 [==============================] - 0s 55us/step - loss: 0.2016 - precision_1: 0.8102\n",
      "Epoch 105/150\n",
      "400/400 [==============================] - 0s 55us/step - loss: 0.1995 - precision_1: 0.8106\n",
      "Epoch 106/150\n",
      "400/400 [==============================] - 0s 55us/step - loss: 0.1995 - precision_1: 0.8109\n",
      "Epoch 107/150\n",
      "400/400 [==============================] - 0s 52us/step - loss: 0.1987 - precision_1: 0.8112\n",
      "Epoch 108/150\n",
      "400/400 [==============================] - 0s 52us/step - loss: 0.1966 - precision_1: 0.8117\n",
      "Epoch 109/150\n",
      "400/400 [==============================] - 0s 55us/step - loss: 0.1983 - precision_1: 0.8121\n",
      "Epoch 110/150\n",
      "400/400 [==============================] - 0s 70us/step - loss: 0.1943 - precision_1: 0.8124\n",
      "Epoch 111/150\n",
      "400/400 [==============================] - 0s 62us/step - loss: 0.1925 - precision_1: 0.8128\n",
      "Epoch 112/150\n",
      "400/400 [==============================] - 0s 60us/step - loss: 0.1929 - precision_1: 0.8133\n",
      "Epoch 113/150\n",
      "400/400 [==============================] - 0s 67us/step - loss: 0.1941 - precision_1: 0.8138\n",
      "Epoch 114/150\n",
      "400/400 [==============================] - 0s 52us/step - loss: 0.1949 - precision_1: 0.8141\n",
      "Epoch 115/150\n",
      "400/400 [==============================] - 0s 72us/step - loss: 0.1938 - precision_1: 0.8145\n",
      "Epoch 116/150\n",
      "400/400 [==============================] - 0s 60us/step - loss: 0.1881 - precision_1: 0.8148\n",
      "Epoch 117/150\n",
      "400/400 [==============================] - 0s 70us/step - loss: 0.1878 - precision_1: 0.8151\n",
      "Epoch 118/150\n",
      "400/400 [==============================] - 0s 72us/step - loss: 0.1846 - precision_1: 0.8156\n",
      "Epoch 119/150\n",
      "400/400 [==============================] - 0s 67us/step - loss: 0.1837 - precision_1: 0.8161\n",
      "Epoch 120/150\n",
      "400/400 [==============================] - 0s 67us/step - loss: 0.1822 - precision_1: 0.8166\n",
      "Epoch 121/150\n",
      "400/400 [==============================] - 0s 67us/step - loss: 0.1810 - precision_1: 0.8168\n",
      "Epoch 122/150\n",
      "400/400 [==============================] - 0s 72us/step - loss: 0.1783 - precision_1: 0.8172\n",
      "Epoch 123/150\n",
      "400/400 [==============================] - 0s 75us/step - loss: 0.1790 - precision_1: 0.8177\n",
      "Epoch 124/150\n",
      "400/400 [==============================] - 0s 77us/step - loss: 0.1773 - precision_1: 0.8179\n",
      "Epoch 125/150\n",
      "400/400 [==============================] - 0s 70us/step - loss: 0.1750 - precision_1: 0.8185\n",
      "Epoch 126/150\n",
      "400/400 [==============================] - 0s 67us/step - loss: 0.1759 - precision_1: 0.8189\n",
      "Epoch 127/150\n",
      "400/400 [==============================] - 0s 67us/step - loss: 0.1737 - precision_1: 0.8192\n",
      "Epoch 128/150\n",
      "400/400 [==============================] - 0s 107us/step - loss: 0.1737 - precision_1: 0.8196\n",
      "Epoch 129/150\n",
      "400/400 [==============================] - 0s 70us/step - loss: 0.1716 - precision_1: 0.8200\n",
      "Epoch 130/150\n",
      "400/400 [==============================] - 0s 67us/step - loss: 0.1708 - precision_1: 0.8203\n",
      "Epoch 131/150\n",
      "400/400 [==============================] - 0s 65us/step - loss: 0.1691 - precision_1: 0.8207\n",
      "Epoch 132/150\n",
      "400/400 [==============================] - 0s 70us/step - loss: 0.1676 - precision_1: 0.8211\n",
      "Epoch 133/150\n",
      "400/400 [==============================] - 0s 72us/step - loss: 0.1668 - precision_1: 0.8214\n",
      "Epoch 134/150\n",
      "400/400 [==============================] - 0s 57us/step - loss: 0.1656 - precision_1: 0.8218\n",
      "Epoch 135/150\n",
      "400/400 [==============================] - 0s 60us/step - loss: 0.1652 - precision_1: 0.8222\n",
      "Epoch 136/150\n",
      "400/400 [==============================] - 0s 70us/step - loss: 0.1643 - precision_1: 0.8226\n",
      "Epoch 137/150\n",
      "400/400 [==============================] - 0s 67us/step - loss: 0.1633 - precision_1: 0.8229\n",
      "Epoch 138/150\n",
      "400/400 [==============================] - 0s 67us/step - loss: 0.1618 - precision_1: 0.8233\n",
      "Epoch 139/150\n",
      "400/400 [==============================] - 0s 57us/step - loss: 0.1600 - precision_1: 0.8238\n",
      "Epoch 140/150\n",
      "400/400 [==============================] - 0s 63us/step - loss: 0.1602 - precision_1: 0.8241\n",
      "Epoch 141/150\n",
      "400/400 [==============================] - 0s 62us/step - loss: 0.1583 - precision_1: 0.8245\n",
      "Epoch 142/150\n",
      "400/400 [==============================] - 0s 62us/step - loss: 0.1575 - precision_1: 0.8249\n",
      "Epoch 143/150\n",
      "400/400 [==============================] - 0s 60us/step - loss: 0.1562 - precision_1: 0.8253\n",
      "Epoch 144/150\n",
      "400/400 [==============================] - 0s 60us/step - loss: 0.1554 - precision_1: 0.8257\n",
      "Epoch 145/150\n",
      "400/400 [==============================] - 0s 60us/step - loss: 0.1548 - precision_1: 0.8262\n",
      "Epoch 146/150\n",
      "400/400 [==============================] - 0s 60us/step - loss: 0.1545 - precision_1: 0.8266\n",
      "Epoch 147/150\n",
      "400/400 [==============================] - 0s 69us/step - loss: 0.1527 - precision_1: 0.8271\n",
      "Epoch 148/150\n",
      "400/400 [==============================] - 0s 65us/step - loss: 0.1507 - precision_1: 0.8274\n",
      "Epoch 149/150\n",
      "400/400 [==============================] - 0s 65us/step - loss: 0.1506 - precision_1: 0.8279\n",
      "Epoch 150/150\n",
      "400/400 [==============================] - 0s 62us/step - loss: 0.1505 - precision_1: 0.8284\n"
     ]
    },
    {
     "data": {
      "text/plain": [
       "<keras.callbacks.callbacks.History at 0x1b750984708>"
      ]
     },
     "execution_count": 23,
     "metadata": {},
     "output_type": "execute_result"
    }
   ],
   "source": [
    "model.fit(X_train, y_train, nb_epoch=150, batch_size=20)"
   ]
  },
  {
   "cell_type": "code",
   "execution_count": 24,
   "metadata": {
    "ExecuteTime": {
     "end_time": "2020-05-19T19:18:17.479657Z",
     "start_time": "2020-05-19T19:18:17.374937Z"
    },
    "hidden": true
   },
   "outputs": [
    {
     "name": "stdout",
     "output_type": "stream",
     "text": [
      "Perda: 1.36\n",
      "Precisão: 82.81%\n"
     ]
    }
   ],
   "source": [
    "results = model.evaluate(X_test, y_test, verbose=0)\n",
    "print(\"Perda: %.2f\" % (results[0]))\n",
    "print(\"Precisão: %.2f%%\" % (results[1]*100))"
   ]
  },
  {
   "cell_type": "code",
   "execution_count": 25,
   "metadata": {
    "ExecuteTime": {
     "end_time": "2020-05-19T19:18:17.545480Z",
     "start_time": "2020-05-19T19:18:17.480655Z"
    },
    "hidden": true
   },
   "outputs": [
    {
     "data": {
      "text/plain": [
       "array([[57, 28],\n",
       "       [ 1, 14]], dtype=int64)"
      ]
     },
     "execution_count": 25,
     "metadata": {},
     "output_type": "execute_result"
    }
   ],
   "source": [
    "confusion_matrix(y_test, model.predict_proba(X_test) > 0.5)"
   ]
  },
  {
   "cell_type": "markdown",
   "metadata": {
    "heading_collapsed": true,
    "hidden": true
   },
   "source": [
    "## Recall \n",
    "Não quero deixar escapar quem tem e eu dizer que não tem câncer."
   ]
  },
  {
   "cell_type": "code",
   "execution_count": 27,
   "metadata": {
    "ExecuteTime": {
     "end_time": "2020-05-19T19:18:22.445943Z",
     "start_time": "2020-05-19T19:18:22.289367Z"
    },
    "collapsed": true,
    "hidden": true
   },
   "outputs": [
    {
     "name": "stderr",
     "output_type": "stream",
     "text": [
      "C:\\Users\\yukar\\Anaconda3\\lib\\site-packages\\ipykernel_launcher.py:2: UserWarning: Update your `Dense` call to the Keras 2 API: `Dense(units=12, input_dim=12, activation=\"relu\", kernel_initializer=\"uniform\")`\n",
      "  \n",
      "C:\\Users\\yukar\\Anaconda3\\lib\\site-packages\\ipykernel_launcher.py:3: UserWarning: Update your `Dense` call to the Keras 2 API: `Dense(8, activation=\"relu\", kernel_initializer=\"uniform\")`\n",
      "  This is separate from the ipykernel package so we can avoid doing imports until\n",
      "C:\\Users\\yukar\\Anaconda3\\lib\\site-packages\\ipykernel_launcher.py:4: UserWarning: Update your `Dense` call to the Keras 2 API: `Dense(1, activation=\"sigmoid\", kernel_initializer=\"uniform\")`\n",
      "  after removing the cwd from sys.path.\n"
     ]
    }
   ],
   "source": [
    "model = Sequential()\n",
    "model.add(Dense(units = 12, input_dim=12, init='uniform', activation='relu'))\n",
    "model.add(Dense(8, init='uniform', activation='relu'))\n",
    "model.add(Dense(1, init='uniform', activation='sigmoid'))\n",
    "model.compile(loss='binary_crossentropy', optimizer='adam', metrics=[tf.keras.metrics.Recall()])"
   ]
  },
  {
   "cell_type": "code",
   "execution_count": 28,
   "metadata": {
    "ExecuteTime": {
     "end_time": "2020-05-19T19:18:27.180419Z",
     "start_time": "2020-05-19T19:18:22.618380Z"
    },
    "collapsed": true,
    "hidden": true
   },
   "outputs": [
    {
     "name": "stderr",
     "output_type": "stream",
     "text": [
      "C:\\Users\\yukar\\Anaconda3\\lib\\site-packages\\ipykernel_launcher.py:1: UserWarning: The `nb_epoch` argument in `fit` has been renamed `epochs`.\n",
      "  \"\"\"Entry point for launching an IPython kernel.\n"
     ]
    },
    {
     "name": "stdout",
     "output_type": "stream",
     "text": [
      "Epoch 1/150\n",
      "400/400 [==============================] - 0s 640us/step - loss: 0.6927 - recall_1: 0.6677\n",
      "Epoch 2/150\n",
      "400/400 [==============================] - 0s 55us/step - loss: 0.6900 - recall_1: 0.7201\n",
      "Epoch 3/150\n",
      "400/400 [==============================] - 0s 60us/step - loss: 0.6809 - recall_1: 0.8086\n",
      "Epoch 4/150\n",
      "400/400 [==============================] - 0s 59us/step - loss: 0.6585 - recall_1: 0.8395\n",
      "Epoch 5/150\n",
      "400/400 [==============================] - 0s 67us/step - loss: 0.6273 - recall_1: 0.8621\n",
      "Epoch 6/150\n",
      "400/400 [==============================] - 0s 57us/step - loss: 0.5993 - recall_1: 0.8738\n",
      "Epoch 7/150\n",
      "400/400 [==============================] - 0s 62us/step - loss: 0.5610 - recall_1: 0.8815\n",
      "Epoch 8/150\n",
      "400/400 [==============================] - 0s 62us/step - loss: 0.5201 - recall_1: 0.8840\n",
      "Epoch 9/150\n",
      "400/400 [==============================] - 0s 55us/step - loss: 0.4862 - recall_1: 0.8847\n",
      "Epoch 10/150\n",
      "400/400 [==============================] - 0s 62us/step - loss: 0.4622 - recall_1: 0.8834\n",
      "Epoch 11/150\n",
      "400/400 [==============================] - 0s 57us/step - loss: 0.4501 - recall_1: 0.8835\n",
      "Epoch 12/150\n",
      "400/400 [==============================] - 0s 60us/step - loss: 0.4396 - recall_1: 0.8820\n",
      "Epoch 13/150\n",
      "400/400 [==============================] - 0s 65us/step - loss: 0.4338 - recall_1: 0.8821\n",
      "Epoch 14/150\n",
      "400/400 [==============================] - 0s 63us/step - loss: 0.4290 - recall_1: 0.8827\n",
      "Epoch 15/150\n",
      "400/400 [==============================] - 0s 65us/step - loss: 0.4229 - recall_1: 0.8839\n",
      "Epoch 16/150\n",
      "400/400 [==============================] - 0s 65us/step - loss: 0.4198 - recall_1: 0.8854\n",
      "Epoch 17/150\n",
      "400/400 [==============================] - 0s 60us/step - loss: 0.4152 - recall_1: 0.8865\n",
      "Epoch 18/150\n",
      "400/400 [==============================] - 0s 60us/step - loss: 0.4135 - recall_1: 0.8877\n",
      "Epoch 19/150\n",
      "400/400 [==============================] - 0s 60us/step - loss: 0.4083 - recall_1: 0.8897\n",
      "Epoch 20/150\n",
      "400/400 [==============================] - 0s 57us/step - loss: 0.4055 - recall_1: 0.8909\n",
      "Epoch 21/150\n",
      "400/400 [==============================] - 0s 60us/step - loss: 0.4031 - recall_1: 0.8920\n",
      "Epoch 22/150\n",
      "400/400 [==============================] - 0s 57us/step - loss: 0.3984 - recall_1: 0.8935\n",
      "Epoch 23/150\n",
      "400/400 [==============================] - 0s 60us/step - loss: 0.3958 - recall_1: 0.8947\n",
      "Epoch 24/150\n",
      "400/400 [==============================] - 0s 60us/step - loss: 0.3929 - recall_1: 0.8953\n",
      "Epoch 25/150\n",
      "400/400 [==============================] - 0s 57us/step - loss: 0.3895 - recall_1: 0.8962\n",
      "Epoch 26/150\n",
      "400/400 [==============================] - 0s 60us/step - loss: 0.3877 - recall_1: 0.8970\n",
      "Epoch 27/150\n",
      "400/400 [==============================] - 0s 57us/step - loss: 0.3853 - recall_1: 0.8986\n",
      "Epoch 28/150\n",
      "400/400 [==============================] - 0s 60us/step - loss: 0.3824 - recall_1: 0.8995\n",
      "Epoch 29/150\n",
      "400/400 [==============================] - 0s 62us/step - loss: 0.3819 - recall_1: 0.9008\n",
      "Epoch 30/150\n",
      "400/400 [==============================] - 0s 57us/step - loss: 0.3800 - recall_1: 0.9021\n",
      "Epoch 31/150\n",
      "400/400 [==============================] - 0s 57us/step - loss: 0.3783 - recall_1: 0.9028\n",
      "Epoch 32/150\n",
      "400/400 [==============================] - 0s 60us/step - loss: 0.3742 - recall_1: 0.9039\n",
      "Epoch 33/150\n",
      "400/400 [==============================] - 0s 60us/step - loss: 0.3754 - recall_1: 0.9045\n",
      "Epoch 34/150\n",
      "400/400 [==============================] - 0s 62us/step - loss: 0.3729 - recall_1: 0.9056\n",
      "Epoch 35/150\n",
      "400/400 [==============================] - 0s 57us/step - loss: 0.3719 - recall_1: 0.9063\n",
      "Epoch 36/150\n",
      "400/400 [==============================] - 0s 57us/step - loss: 0.3690 - recall_1: 0.9072\n",
      "Epoch 37/150\n",
      "400/400 [==============================] - 0s 62us/step - loss: 0.3710 - recall_1: 0.9079\n",
      "Epoch 38/150\n",
      "400/400 [==============================] - 0s 62us/step - loss: 0.3688 - recall_1: 0.9086\n",
      "Epoch 39/150\n",
      "400/400 [==============================] - 0s 57us/step - loss: 0.3670 - recall_1: 0.9092\n",
      "Epoch 40/150\n",
      "400/400 [==============================] - 0s 57us/step - loss: 0.3655 - recall_1: 0.9098\n",
      "Epoch 41/150\n",
      "400/400 [==============================] - 0s 65us/step - loss: 0.3642 - recall_1: 0.9105\n",
      "Epoch 42/150\n",
      "400/400 [==============================] - 0s 65us/step - loss: 0.3628 - recall_1: 0.9111\n",
      "Epoch 43/150\n",
      "400/400 [==============================] - 0s 60us/step - loss: 0.3621 - recall_1: 0.9116\n",
      "Epoch 44/150\n",
      "400/400 [==============================] - 0s 62us/step - loss: 0.3599 - recall_1: 0.9119\n",
      "Epoch 45/150\n",
      "400/400 [==============================] - 0s 67us/step - loss: 0.3612 - recall_1: 0.9125\n",
      "Epoch 46/150\n",
      "400/400 [==============================] - 0s 67us/step - loss: 0.3612 - recall_1: 0.9129\n",
      "Epoch 47/150\n",
      "400/400 [==============================] - 0s 60us/step - loss: 0.3568 - recall_1: 0.9136\n",
      "Epoch 48/150\n",
      "400/400 [==============================] - 0s 57us/step - loss: 0.3543 - recall_1: 0.9135\n",
      "Epoch 49/150\n",
      "400/400 [==============================] - 0s 60us/step - loss: 0.3540 - recall_1: 0.9139\n",
      "Epoch 50/150\n",
      "400/400 [==============================] - 0s 60us/step - loss: 0.3546 - recall_1: 0.9139\n",
      "Epoch 51/150\n",
      "400/400 [==============================] - 0s 60us/step - loss: 0.3541 - recall_1: 0.9142\n",
      "Epoch 52/150\n",
      "400/400 [==============================] - 0s 59us/step - loss: 0.3510 - recall_1: 0.9147\n",
      "Epoch 53/150\n",
      "400/400 [==============================] - 0s 55us/step - loss: 0.3487 - recall_1: 0.9149\n",
      "Epoch 54/150\n",
      "400/400 [==============================] - 0s 52us/step - loss: 0.3463 - recall_1: 0.9152\n",
      "Epoch 55/150\n",
      "400/400 [==============================] - 0s 55us/step - loss: 0.3450 - recall_1: 0.9152\n",
      "Epoch 56/150\n",
      "400/400 [==============================] - 0s 55us/step - loss: 0.3451 - recall_1: 0.9154\n",
      "Epoch 57/150\n",
      "400/400 [==============================] - 0s 57us/step - loss: 0.3463 - recall_1: 0.9157\n",
      "Epoch 58/150\n",
      "400/400 [==============================] - 0s 52us/step - loss: 0.3428 - recall_1: 0.9159\n",
      "Epoch 59/150\n",
      "400/400 [==============================] - 0s 55us/step - loss: 0.3395 - recall_1: 0.9159\n",
      "Epoch 60/150\n",
      "400/400 [==============================] - 0s 55us/step - loss: 0.3377 - recall_1: 0.9161\n",
      "Epoch 61/150\n",
      "400/400 [==============================] - 0s 55us/step - loss: 0.3371 - recall_1: 0.9165\n",
      "Epoch 62/150\n",
      "400/400 [==============================] - 0s 55us/step - loss: 0.3345 - recall_1: 0.9168\n",
      "Epoch 63/150\n",
      "400/400 [==============================] - 0s 55us/step - loss: 0.3343 - recall_1: 0.9172\n",
      "Epoch 64/150\n",
      "400/400 [==============================] - 0s 52us/step - loss: 0.3346 - recall_1: 0.9175\n",
      "Epoch 65/150\n",
      "400/400 [==============================] - 0s 52us/step - loss: 0.3302 - recall_1: 0.9179\n",
      "Epoch 66/150\n",
      "400/400 [==============================] - 0s 57us/step - loss: 0.3298 - recall_1: 0.9182\n",
      "Epoch 67/150\n",
      "400/400 [==============================] - 0s 57us/step - loss: 0.3287 - recall_1: 0.9184\n",
      "Epoch 68/150\n",
      "400/400 [==============================] - 0s 52us/step - loss: 0.3284 - recall_1: 0.9186\n",
      "Epoch 69/150\n",
      "400/400 [==============================] - 0s 55us/step - loss: 0.3258 - recall_1: 0.9188\n",
      "Epoch 70/150\n",
      "400/400 [==============================] - 0s 50us/step - loss: 0.3229 - recall_1: 0.9191\n",
      "Epoch 71/150\n",
      "400/400 [==============================] - 0s 55us/step - loss: 0.3227 - recall_1: 0.9192\n",
      "Epoch 72/150\n",
      "400/400 [==============================] - 0s 72us/step - loss: 0.3211 - recall_1: 0.9195\n",
      "Epoch 73/150\n",
      "400/400 [==============================] - 0s 85us/step - loss: 0.3191 - recall_1: 0.9194\n",
      "Epoch 74/150\n",
      "400/400 [==============================] - 0s 82us/step - loss: 0.3184 - recall_1: 0.9195\n",
      "Epoch 75/150\n",
      "400/400 [==============================] - 0s 70us/step - loss: 0.3148 - recall_1: 0.9197\n",
      "Epoch 76/150\n",
      "400/400 [==============================] - 0s 65us/step - loss: 0.3134 - recall_1: 0.9194\n",
      "Epoch 77/150\n",
      "400/400 [==============================] - 0s 60us/step - loss: 0.3124 - recall_1: 0.9198\n",
      "Epoch 78/150\n",
      "400/400 [==============================] - 0s 62us/step - loss: 0.3093 - recall_1: 0.9199\n",
      "Epoch 79/150\n",
      "400/400 [==============================] - 0s 60us/step - loss: 0.3095 - recall_1: 0.9200\n",
      "Epoch 80/150\n"
     ]
    },
    {
     "name": "stdout",
     "output_type": "stream",
     "text": [
      "400/400 [==============================] - 0s 55us/step - loss: 0.3064 - recall_1: 0.9201\n",
      "Epoch 81/150\n",
      "400/400 [==============================] - 0s 57us/step - loss: 0.3042 - recall_1: 0.9201\n",
      "Epoch 82/150\n",
      "400/400 [==============================] - 0s 55us/step - loss: 0.3064 - recall_1: 0.9202\n",
      "Epoch 83/150\n",
      "400/400 [==============================] - 0s 55us/step - loss: 0.3007 - recall_1: 0.9204\n",
      "Epoch 84/150\n",
      "400/400 [==============================] - 0s 52us/step - loss: 0.3033 - recall_1: 0.9204\n",
      "Epoch 85/150\n",
      "400/400 [==============================] - 0s 55us/step - loss: 0.3003 - recall_1: 0.9204\n",
      "Epoch 86/150\n",
      "400/400 [==============================] - 0s 52us/step - loss: 0.2973 - recall_1: 0.9206\n",
      "Epoch 87/150\n",
      "400/400 [==============================] - 0s 50us/step - loss: 0.2956 - recall_1: 0.9207\n",
      "Epoch 88/150\n",
      "400/400 [==============================] - 0s 52us/step - loss: 0.2940 - recall_1: 0.9207\n",
      "Epoch 89/150\n",
      "400/400 [==============================] - 0s 55us/step - loss: 0.2931 - recall_1: 0.9208\n",
      "Epoch 90/150\n",
      "400/400 [==============================] - 0s 52us/step - loss: 0.2960 - recall_1: 0.9209\n",
      "Epoch 91/150\n",
      "400/400 [==============================] - 0s 55us/step - loss: 0.2942 - recall_1: 0.9210\n",
      "Epoch 92/150\n",
      "400/400 [==============================] - 0s 52us/step - loss: 0.2936 - recall_1: 0.9212\n",
      "Epoch 93/150\n",
      "400/400 [==============================] - 0s 52us/step - loss: 0.2859 - recall_1: 0.9211\n",
      "Epoch 94/150\n",
      "400/400 [==============================] - 0s 52us/step - loss: 0.2898 - recall_1: 0.9214\n",
      "Epoch 95/150\n",
      "400/400 [==============================] - 0s 50us/step - loss: 0.2879 - recall_1: 0.9215\n",
      "Epoch 96/150\n",
      "400/400 [==============================] - 0s 57us/step - loss: 0.2842 - recall_1: 0.9216\n",
      "Epoch 97/150\n",
      "400/400 [==============================] - 0s 50us/step - loss: 0.2835 - recall_1: 0.9216\n",
      "Epoch 98/150\n",
      "400/400 [==============================] - 0s 52us/step - loss: 0.2815 - recall_1: 0.9217\n",
      "Epoch 99/150\n",
      "400/400 [==============================] - 0s 57us/step - loss: 0.2824 - recall_1: 0.9218\n",
      "Epoch 100/150\n",
      "400/400 [==============================] - 0s 55us/step - loss: 0.2820 - recall_1: 0.9219\n",
      "Epoch 101/150\n",
      "400/400 [==============================] - 0s 55us/step - loss: 0.2804 - recall_1: 0.9220\n",
      "Epoch 102/150\n",
      "400/400 [==============================] - 0s 55us/step - loss: 0.2810 - recall_1: 0.9220\n",
      "Epoch 103/150\n",
      "400/400 [==============================] - 0s 50us/step - loss: 0.2800 - recall_1: 0.9221\n",
      "Epoch 104/150\n",
      "400/400 [==============================] - 0s 50us/step - loss: 0.2749 - recall_1: 0.9221\n",
      "Epoch 105/150\n",
      "400/400 [==============================] - 0s 52us/step - loss: 0.2739 - recall_1: 0.9223\n",
      "Epoch 106/150\n",
      "400/400 [==============================] - 0s 57us/step - loss: 0.2723 - recall_1: 0.9223\n",
      "Epoch 107/150\n",
      "400/400 [==============================] - 0s 52us/step - loss: 0.2717 - recall_1: 0.9224\n",
      "Epoch 108/150\n",
      "400/400 [==============================] - 0s 52us/step - loss: 0.2727 - recall_1: 0.9226\n",
      "Epoch 109/150\n",
      "400/400 [==============================] - 0s 52us/step - loss: 0.2697 - recall_1: 0.9226\n",
      "Epoch 110/150\n",
      "400/400 [==============================] - 0s 57us/step - loss: 0.2667 - recall_1: 0.9226\n",
      "Epoch 111/150\n",
      "400/400 [==============================] - 0s 57us/step - loss: 0.2678 - recall_1: 0.9228\n",
      "Epoch 112/150\n",
      "400/400 [==============================] - 0s 55us/step - loss: 0.2684 - recall_1: 0.9229\n",
      "Epoch 113/150\n",
      "400/400 [==============================] - 0s 65us/step - loss: 0.2651 - recall_1: 0.9231\n",
      "Epoch 114/150\n",
      "400/400 [==============================] - 0s 55us/step - loss: 0.2630 - recall_1: 0.9231\n",
      "Epoch 115/150\n",
      "400/400 [==============================] - 0s 55us/step - loss: 0.2604 - recall_1: 0.9232\n",
      "Epoch 116/150\n",
      "400/400 [==============================] - 0s 52us/step - loss: 0.2596 - recall_1: 0.9233\n",
      "Epoch 117/150\n",
      "400/400 [==============================] - 0s 57us/step - loss: 0.2595 - recall_1: 0.9235\n",
      "Epoch 118/150\n",
      "400/400 [==============================] - 0s 52us/step - loss: 0.2567 - recall_1: 0.9236\n",
      "Epoch 119/150\n",
      "400/400 [==============================] - 0s 55us/step - loss: 0.2556 - recall_1: 0.9237\n",
      "Epoch 120/150\n",
      "400/400 [==============================] - 0s 57us/step - loss: 0.2576 - recall_1: 0.9238\n",
      "Epoch 121/150\n",
      "400/400 [==============================] - 0s 55us/step - loss: 0.2540 - recall_1: 0.9241\n",
      "Epoch 122/150\n",
      "400/400 [==============================] - 0s 52us/step - loss: 0.2506 - recall_1: 0.9242\n",
      "Epoch 123/150\n",
      "400/400 [==============================] - 0s 55us/step - loss: 0.2524 - recall_1: 0.9244\n",
      "Epoch 124/150\n",
      "400/400 [==============================] - 0s 57us/step - loss: 0.2492 - recall_1: 0.9246\n",
      "Epoch 125/150\n",
      "400/400 [==============================] - 0s 60us/step - loss: 0.2478 - recall_1: 0.9247\n",
      "Epoch 126/150\n",
      "400/400 [==============================] - 0s 55us/step - loss: 0.2473 - recall_1: 0.9249\n",
      "Epoch 127/150\n",
      "400/400 [==============================] - 0s 52us/step - loss: 0.2436 - recall_1: 0.9249\n",
      "Epoch 128/150\n",
      "400/400 [==============================] - 0s 52us/step - loss: 0.2472 - recall_1: 0.9251\n",
      "Epoch 129/150\n",
      "400/400 [==============================] - 0s 54us/step - loss: 0.2444 - recall_1: 0.9253\n",
      "Epoch 130/150\n",
      "400/400 [==============================] - 0s 52us/step - loss: 0.2474 - recall_1: 0.9254\n",
      "Epoch 131/150\n",
      "400/400 [==============================] - 0s 57us/step - loss: 0.2463 - recall_1: 0.9255\n",
      "Epoch 132/150\n",
      "400/400 [==============================] - 0s 50us/step - loss: 0.2441 - recall_1: 0.9256\n",
      "Epoch 133/150\n",
      "400/400 [==============================] - 0s 57us/step - loss: 0.2402 - recall_1: 0.9258\n",
      "Epoch 134/150\n",
      "400/400 [==============================] - 0s 50us/step - loss: 0.2384 - recall_1: 0.9259\n",
      "Epoch 135/150\n",
      "400/400 [==============================] - 0s 55us/step - loss: 0.2371 - recall_1: 0.9260\n",
      "Epoch 136/150\n",
      "400/400 [==============================] - 0s 52us/step - loss: 0.2345 - recall_1: 0.9262\n",
      "Epoch 137/150\n",
      "400/400 [==============================] - 0s 52us/step - loss: 0.2321 - recall_1: 0.9264\n",
      "Epoch 138/150\n",
      "400/400 [==============================] - 0s 55us/step - loss: 0.2359 - recall_1: 0.9265\n",
      "Epoch 139/150\n",
      "400/400 [==============================] - 0s 52us/step - loss: 0.2281 - recall_1: 0.9265\n",
      "Epoch 140/150\n",
      "400/400 [==============================] - 0s 55us/step - loss: 0.2313 - recall_1: 0.9267\n",
      "Epoch 141/150\n",
      "400/400 [==============================] - 0s 57us/step - loss: 0.2315 - recall_1: 0.9268\n",
      "Epoch 142/150\n",
      "400/400 [==============================] - 0s 47us/step - loss: 0.2270 - recall_1: 0.9269\n",
      "Epoch 143/150\n",
      "400/400 [==============================] - 0s 57us/step - loss: 0.2279 - recall_1: 0.9270\n",
      "Epoch 144/150\n",
      "400/400 [==============================] - 0s 55us/step - loss: 0.2264 - recall_1: 0.9271\n",
      "Epoch 145/150\n",
      "400/400 [==============================] - 0s 55us/step - loss: 0.2258 - recall_1: 0.9272\n",
      "Epoch 146/150\n",
      "400/400 [==============================] - 0s 58us/step - loss: 0.2242 - recall_1: 0.9273\n",
      "Epoch 147/150\n",
      "400/400 [==============================] - 0s 50us/step - loss: 0.2222 - recall_1: 0.9273\n",
      "Epoch 148/150\n",
      "400/400 [==============================] - 0s 55us/step - loss: 0.2206 - recall_1: 0.9274\n",
      "Epoch 149/150\n",
      "400/400 [==============================] - 0s 57us/step - loss: 0.2216 - recall_1: 0.9275\n",
      "Epoch 150/150\n",
      "400/400 [==============================] - 0s 54us/step - loss: 0.2234 - recall_1: 0.9276\n"
     ]
    },
    {
     "data": {
      "text/plain": [
       "<keras.callbacks.callbacks.History at 0x1b751022a88>"
      ]
     },
     "execution_count": 28,
     "metadata": {},
     "output_type": "execute_result"
    }
   ],
   "source": [
    "model.fit(X_train, y_train, nb_epoch=150, batch_size=20)"
   ]
  },
  {
   "cell_type": "code",
   "execution_count": 29,
   "metadata": {
    "ExecuteTime": {
     "end_time": "2020-05-19T19:18:27.321982Z",
     "start_time": "2020-05-19T19:18:27.182415Z"
    },
    "hidden": true
   },
   "outputs": [
    {
     "name": "stdout",
     "output_type": "stream",
     "text": [
      "Perda: 0.73\n",
      "Recall: 92.76%\n"
     ]
    }
   ],
   "source": [
    "results = model.evaluate(X_test, y_test, verbose=0)\n",
    "print(\"Perda: %.2f\" % (results[0]))\n",
    "print(\"Recall: %.2f%%\" % (results[1]*100))"
   ]
  },
  {
   "cell_type": "code",
   "execution_count": 30,
   "metadata": {
    "ExecuteTime": {
     "end_time": "2020-05-19T19:18:27.328927Z",
     "start_time": "2020-05-19T19:18:27.322923Z"
    },
    "hidden": true
   },
   "outputs": [
    {
     "data": {
      "text/plain": [
       "[0.7295066889375448, 0.9275657534599304]"
      ]
     },
     "execution_count": 30,
     "metadata": {},
     "output_type": "execute_result"
    }
   ],
   "source": [
    "results"
   ]
  },
  {
   "cell_type": "code",
   "execution_count": 31,
   "metadata": {
    "ExecuteTime": {
     "end_time": "2020-05-19T19:18:27.499362Z",
     "start_time": "2020-05-19T19:18:27.330902Z"
    },
    "hidden": true
   },
   "outputs": [
    {
     "data": {
      "text/plain": [
       "array([[63, 22],\n",
       "       [ 3, 12]], dtype=int64)"
      ]
     },
     "execution_count": 31,
     "metadata": {},
     "output_type": "execute_result"
    }
   ],
   "source": [
    "confusion_matrix(y_test, model.predict_proba(X_test) > 0.5)"
   ]
  }
 ],
 "metadata": {
  "kernelspec": {
   "display_name": "Python 3",
   "language": "python",
   "name": "python3"
  },
  "language_info": {
   "codemirror_mode": {
    "name": "ipython",
    "version": 3
   },
   "file_extension": ".py",
   "mimetype": "text/x-python",
   "name": "python",
   "nbconvert_exporter": "python",
   "pygments_lexer": "ipython3",
   "version": "3.7.4"
  },
  "nbTranslate": {
   "displayLangs": [
    "*"
   ],
   "hotkey": "alt-t",
   "langInMainMenu": true,
   "sourceLang": "en",
   "targetLang": "fr",
   "useGoogleTranslate": true
  },
  "toc": {
   "base_numbering": 1,
   "nav_menu": {},
   "number_sections": true,
   "sideBar": true,
   "skip_h1_title": false,
   "title_cell": "Table of Contents",
   "title_sidebar": "Contents",
   "toc_cell": false,
   "toc_position": {
    "height": "calc(100% - 180px)",
    "left": "10px",
    "top": "150px",
    "width": "165px"
   },
   "toc_section_display": true,
   "toc_window_display": true
  }
 },
 "nbformat": 4,
 "nbformat_minor": 2
}
